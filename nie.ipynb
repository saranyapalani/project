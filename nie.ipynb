{
  "nbformat": 4,
  "nbformat_minor": 0,
  "metadata": {
    "colab": {
      "name": "Untitled0.ipynb",
      "provenance": [],
      "authorship_tag": "ABX9TyN7D2PqL/bmOATA0a/rVKgV",
      "include_colab_link": true
    },
    "kernelspec": {
      "name": "python3",
      "display_name": "Python 3"
    }
  },
  "cells": [
    {
      "cell_type": "markdown",
      "metadata": {
        "id": "view-in-github",
        "colab_type": "text"
      },
      "source": [
        "<a href=\"https://colab.research.google.com/github/saranyapalani/project/blob/master/nie.ipynb\" target=\"_parent\"><img src=\"https://colab.research.google.com/assets/colab-badge.svg\" alt=\"Open In Colab\"/></a>"
      ]
    },
    {
      "cell_type": "code",
      "metadata": {
        "id": "Qn_L-T5gDgY_",
        "colab_type": "code",
        "colab": {}
      },
      "source": [
        "import pandas as pd\n",
        "import numpy as np\n",
        "import matplotlib.pyplot as plt\n",
        "import seaborn as sns\n",
        "from sklearn.metrics import mean_squared_error, r2_score\n",
        "from sklearn.linear_model import LinearRegression\n",
        "from sklearn.model_selection import train_test_split\n",
        "import os\n",
        "import folium\n",
        "import webbrowser\n",
        "from PIL import Image"
      ],
      "execution_count": 0,
      "outputs": []
    },
    {
      "cell_type": "code",
      "metadata": {
        "id": "5h5cIVL7EFFY",
        "colab_type": "code",
        "colab": {
          "base_uri": "https://localhost:8080/",
          "height": 125
        },
        "outputId": "17f77fb3-e52f-469c-d7ee-f836237c4c4c"
      },
      "source": [
        "from google.colab import drive\n",
        "drive.mount('/content/drive')\n"
      ],
      "execution_count": 2,
      "outputs": [
        {
          "output_type": "stream",
          "text": [
            "Go to this URL in a browser: https://accounts.google.com/o/oauth2/auth?client_id=947318989803-6bn6qk8qdgf4n4g3pfee6491hc0brc4i.apps.googleusercontent.com&redirect_uri=urn%3aietf%3awg%3aoauth%3a2.0%3aoob&response_type=code&scope=email%20https%3a%2f%2fwww.googleapis.com%2fauth%2fdocs.test%20https%3a%2f%2fwww.googleapis.com%2fauth%2fdrive%20https%3a%2f%2fwww.googleapis.com%2fauth%2fdrive.photos.readonly%20https%3a%2f%2fwww.googleapis.com%2fauth%2fpeopleapi.readonly\n",
            "\n",
            "Enter your authorization code:\n",
            "··········\n",
            "Mounted at /content/drive\n"
          ],
          "name": "stdout"
        }
      ]
    },
    {
      "cell_type": "code",
      "metadata": {
        "id": "jc2MEeO7ERHH",
        "colab_type": "code",
        "colab": {}
      },
      "source": [
        "df=pd.read_csv('/content/drive/My Drive/god.csv')\n"
      ],
      "execution_count": 0,
      "outputs": []
    },
    {
      "cell_type": "code",
      "metadata": {
        "id": "fqQOSukxFH5t",
        "colab_type": "code",
        "colab": {
          "base_uri": "https://localhost:8080/",
          "height": 215
        },
        "outputId": "ad5e765e-2873-4f7d-c97b-78563d67d496"
      },
      "source": [
        "dfsmooth=df.dropna(axis=1)\n",
        "dfsmooth.isna().sum()\n",
        "dfsmooth=dfsmooth[1:]\n",
        "print(len(dfsmooth))\n",
        "df.describe().to_csv(\"Clean.csv\")\n",
        "dfsmooth.head()\n"
      ],
      "execution_count": 13,
      "outputs": [
        {
          "output_type": "stream",
          "text": [
            "500175\n"
          ],
          "name": "stdout"
        },
        {
          "output_type": "execute_result",
          "data": {
            "text/html": [
              "<div>\n",
              "<style scoped>\n",
              "    .dataframe tbody tr th:only-of-type {\n",
              "        vertical-align: middle;\n",
              "    }\n",
              "\n",
              "    .dataframe tbody tr th {\n",
              "        vertical-align: top;\n",
              "    }\n",
              "\n",
              "    .dataframe thead th {\n",
              "        text-align: right;\n",
              "    }\n",
              "</style>\n",
              "<table border=\"1\" class=\"dataframe\">\n",
              "  <thead>\n",
              "    <tr style=\"text-align: right;\">\n",
              "      <th></th>\n",
              "      <th>id</th>\n",
              "      <th>REC</th>\n",
              "      <th>Date</th>\n",
              "      <th>Primary Type</th>\n",
              "      <th>Arrest</th>\n",
              "      <th>Year</th>\n",
              "    </tr>\n",
              "  </thead>\n",
              "  <tbody>\n",
              "    <tr>\n",
              "      <th>1</th>\n",
              "      <td>2</td>\n",
              "      <td>5131</td>\n",
              "      <td>11/28/2017 09:43:00 PM</td>\n",
              "      <td>park</td>\n",
              "      <td>YES</td>\n",
              "      <td>2017</td>\n",
              "    </tr>\n",
              "    <tr>\n",
              "      <th>2</th>\n",
              "      <td>3</td>\n",
              "      <td>310</td>\n",
              "      <td>12-11-2017 19:15</td>\n",
              "      <td>park</td>\n",
              "      <td>YES</td>\n",
              "      <td>2017</td>\n",
              "    </tr>\n",
              "    <tr>\n",
              "      <th>3</th>\n",
              "      <td>4</td>\n",
              "      <td>281</td>\n",
              "      <td>10-08-2017 03:00</td>\n",
              "      <td>park</td>\n",
              "      <td>NO</td>\n",
              "      <td>2017</td>\n",
              "    </tr>\n",
              "    <tr>\n",
              "      <th>4</th>\n",
              "      <td>5</td>\n",
              "      <td>620</td>\n",
              "      <td>03/28/2017 02:00:00 PM</td>\n",
              "      <td>park</td>\n",
              "      <td>NO</td>\n",
              "      <td>2017</td>\n",
              "    </tr>\n",
              "    <tr>\n",
              "      <th>5</th>\n",
              "      <td>6</td>\n",
              "      <td>810</td>\n",
              "      <td>09-09-2017 20:17</td>\n",
              "      <td>park</td>\n",
              "      <td>NO</td>\n",
              "      <td>2017</td>\n",
              "    </tr>\n",
              "  </tbody>\n",
              "</table>\n",
              "</div>"
            ],
            "text/plain": [
              "   id   REC                    Date Primary Type Arrest  Year\n",
              "1   2  5131  11/28/2017 09:43:00 PM         park    YES  2017\n",
              "2   3   310        12-11-2017 19:15         park    YES  2017\n",
              "3   4   281        10-08-2017 03:00         park     NO  2017\n",
              "4   5   620  03/28/2017 02:00:00 PM         park     NO  2017\n",
              "5   6   810        09-09-2017 20:17         park     NO  2017"
            ]
          },
          "metadata": {
            "tags": []
          },
          "execution_count": 13
        }
      ]
    },
    {
      "cell_type": "code",
      "metadata": {
        "id": "cDY0-FXTFNcS",
        "colab_type": "code",
        "colab": {
          "base_uri": "https://localhost:8080/",
          "height": 197
        },
        "outputId": "d82c69db-f086-4ec8-d985-e3f1869fd7c1"
      },
      "source": [
        "c1=dfsmooth.columns.tolist()\n",
        "dfsmooth=dfsmooth[c1[1:]]\n",
        "dfsmooth.head()"
      ],
      "execution_count": 14,
      "outputs": [
        {
          "output_type": "execute_result",
          "data": {
            "text/html": [
              "<div>\n",
              "<style scoped>\n",
              "    .dataframe tbody tr th:only-of-type {\n",
              "        vertical-align: middle;\n",
              "    }\n",
              "\n",
              "    .dataframe tbody tr th {\n",
              "        vertical-align: top;\n",
              "    }\n",
              "\n",
              "    .dataframe thead th {\n",
              "        text-align: right;\n",
              "    }\n",
              "</style>\n",
              "<table border=\"1\" class=\"dataframe\">\n",
              "  <thead>\n",
              "    <tr style=\"text-align: right;\">\n",
              "      <th></th>\n",
              "      <th>REC</th>\n",
              "      <th>Date</th>\n",
              "      <th>Primary Type</th>\n",
              "      <th>Arrest</th>\n",
              "      <th>Year</th>\n",
              "    </tr>\n",
              "  </thead>\n",
              "  <tbody>\n",
              "    <tr>\n",
              "      <th>1</th>\n",
              "      <td>5131</td>\n",
              "      <td>11/28/2017 09:43:00 PM</td>\n",
              "      <td>park</td>\n",
              "      <td>YES</td>\n",
              "      <td>2017</td>\n",
              "    </tr>\n",
              "    <tr>\n",
              "      <th>2</th>\n",
              "      <td>310</td>\n",
              "      <td>12-11-2017 19:15</td>\n",
              "      <td>park</td>\n",
              "      <td>YES</td>\n",
              "      <td>2017</td>\n",
              "    </tr>\n",
              "    <tr>\n",
              "      <th>3</th>\n",
              "      <td>281</td>\n",
              "      <td>10-08-2017 03:00</td>\n",
              "      <td>park</td>\n",
              "      <td>NO</td>\n",
              "      <td>2017</td>\n",
              "    </tr>\n",
              "    <tr>\n",
              "      <th>4</th>\n",
              "      <td>620</td>\n",
              "      <td>03/28/2017 02:00:00 PM</td>\n",
              "      <td>park</td>\n",
              "      <td>NO</td>\n",
              "      <td>2017</td>\n",
              "    </tr>\n",
              "    <tr>\n",
              "      <th>5</th>\n",
              "      <td>810</td>\n",
              "      <td>09-09-2017 20:17</td>\n",
              "      <td>park</td>\n",
              "      <td>NO</td>\n",
              "      <td>2017</td>\n",
              "    </tr>\n",
              "  </tbody>\n",
              "</table>\n",
              "</div>"
            ],
            "text/plain": [
              "    REC                    Date Primary Type Arrest  Year\n",
              "1  5131  11/28/2017 09:43:00 PM         park    YES  2017\n",
              "2   310        12-11-2017 19:15         park    YES  2017\n",
              "3   281        10-08-2017 03:00         park     NO  2017\n",
              "4   620  03/28/2017 02:00:00 PM         park     NO  2017\n",
              "5   810        09-09-2017 20:17         park     NO  2017"
            ]
          },
          "metadata": {
            "tags": []
          },
          "execution_count": 14
        }
      ]
    },
    {
      "cell_type": "code",
      "metadata": {
        "id": "378LOknCFRLk",
        "colab_type": "code",
        "colab": {
          "base_uri": "https://localhost:8080/",
          "height": 52
        },
        "outputId": "d675935b-00ee-4c29-cfff-edfc2922ef5f"
      },
      "source": [
        "dfarr=np.array(dfsmooth['Primary Type'])\n",
        "dfu=np.unique(dfarr)\n",
        "dfkey=np.unique(np.array(np.array(dfsmooth['Primary Type'])))\n",
        "dfval=np.array(dfsmooth['Primary Type'].value_counts().values)\n",
        "print(dfu[:8])\n",
        "print(dfval[:8])\n"
      ],
      "execution_count": 15,
      "outputs": [
        {
          "output_type": "stream",
          "text": [
            "['apartment' 'commercial centers' 'others' 'park' 'residence' 'street']\n",
            "[171887  91371  86781  56812  52006  41318]\n"
          ],
          "name": "stdout"
        }
      ]
    },
    {
      "cell_type": "code",
      "metadata": {
        "id": "jOFLfYeoFVCk",
        "colab_type": "code",
        "colab": {
          "base_uri": "https://localhost:8080/",
          "height": 505
        },
        "outputId": "b62f42b3-c8ed-4ce9-cd74-e1b27b4a309c"
      },
      "source": [
        "color='rgbcmk'\n",
        "plt.figure(figsize=(20,7))\n",
        "plt.title(\"Crime Scenario of 2014-2019 (Max: {}={})\".format(dfu[:8][0],dfval[:8][0]),fontsize=20,color='m')\n",
        "plt.xlabel(\"Crime Type->\",fontsize=15,color='b')\n",
        "plt.ylabel(\"Crime Occured->\",fontsize=15,color='b')\n",
        "plt.grid()\n",
        "plt.bar(dfu[:8],dfval[:8],color=color,width=0.5)"
      ],
      "execution_count": 17,
      "outputs": [
        {
          "output_type": "execute_result",
          "data": {
            "text/plain": [
              "<BarContainer object of 6 artists>"
            ]
          },
          "metadata": {
            "tags": []
          },
          "execution_count": 17
        },
        {
          "output_type": "display_data",
          "data": {
            "image/png": "[encoded data removed]",
            "text/plain": [
              "<Figure size 1440x504 with 1 Axes>"
            ]
          },
          "metadata": {
            "tags": []
          }
        }
      ]
    },
    {
      "cell_type": "code",
      "metadata": {
        "id": "rXF-QuUpFewC",
        "colab_type": "code",
        "colab": {
          "base_uri": "https://localhost:8080/",
          "height": 541
        },
        "outputId": "6c986eca-801c-4f85-cb27-50461abcf876"
      },
      "source": [
        "c01=dfsmooth[dfsmooth['Year']==2014]\n",
        "c01=c01[c01.columns.tolist()[1:]]\n",
        "c01.head()\n",
        "c01arr=np.array(c01['Primary Type'])\n",
        "c01u=np.unique(c01arr)\n",
        "c01key=np.unique(np.array(np.array(c01['Primary Type'])))\n",
        "c01val=np.array(c01['Primary Type'].value_counts().values)\n",
        "print(c01u[:8])\n",
        "print(c01val[:8])\n",
        "color='rgbcmk'\n",
        "plt.figure(figsize=(20,7))\n",
        "plt.title(\"Crime Scenario of 2014 Max: {}={}\".format(c01u[:8][0],c01val[:8][0]),fontsize=20,color='m')\n",
        "plt.xlabel(\"Crime Type->\",fontsize=15,color='b')\n",
        "plt.ylabel(\"Crime Occured->\",fontsize=15,color='b')\n",
        "plt.grid()\n",
        "plt.bar(c01u[:8],c01val[:8],color=color,width=0.5)"
      ],
      "execution_count": 22,
      "outputs": [
        {
          "output_type": "stream",
          "text": [
            "['apartment' 'commercial centers' 'others' 'park' 'residence' 'street']\n",
            "[809 559 473 264 200 171]\n"
          ],
          "name": "stdout"
        },
        {
          "output_type": "execute_result",
          "data": {
            "text/plain": [
              "<BarContainer object of 6 artists>"
            ]
          },
          "metadata": {
            "tags": []
          },
          "execution_count": 22
        },
        {
          "output_type": "display_data",
          "data": {
            "image/png": "[encoded data removed]",
            "text/plain": [
              "<Figure size 1440x504 with 1 Axes>"
            ]
          },
          "metadata": {
            "tags": []
          }
        }
      ]
    },
    {
      "cell_type": "code",
      "metadata": {
        "id": "zooF52f9F6o3",
        "colab_type": "code",
        "colab": {
          "base_uri": "https://localhost:8080/",
          "height": 541
        },
        "outputId": "6949f7a7-efec-4987-9585-fe8a3e772607"
      },
      "source": [
        "c02=dfsmooth[dfsmooth['Year']==2015]\n",
        "c02=c02[c02.columns.tolist()[1:]]\n",
        "c02.head()\n",
        "c02arr=np.array(c02['Primary Type'])\n",
        "c02u=np.unique(c02arr)\n",
        "c02key=np.unique(np.array(np.array(c02['Primary Type'])))\n",
        "c02val=np.array(c02['Primary Type'].value_counts().values)\n",
        "print(c02u[:8])\n",
        "print(c02val[:8])\n",
        "color='rgbcmk'\n",
        "plt.figure(figsize=(20,7))\n",
        "plt.title(\"Crime Scenario of 2015 Max: {}={}\".format(c02u[:8][0],c02val[:8][0]),fontsize=20,color='m')\n",
        "plt.xlabel(\"Crime Type->\",fontsize=15,color='b')\n",
        "plt.ylabel(\"Crime Occured->\",fontsize=15,color='b')\n",
        "plt.grid()\n",
        "plt.bar(c02u[:8],c02val[:8],color=color,width=0.5)\n"
      ],
      "execution_count": 23,
      "outputs": [
        {
          "output_type": "stream",
          "text": [
            "['apartment' 'commercial centers' 'others' 'park' 'residence' 'street']\n",
            "[171623  86497  70208  55055  35872  23711]\n"
          ],
          "name": "stdout"
        },
        {
          "output_type": "execute_result",
          "data": {
            "text/plain": [
              "<BarContainer object of 6 artists>"
            ]
          },
          "metadata": {
            "tags": []
          },
          "execution_count": 23
        },
        {
          "output_type": "display_data",
          "data": {
            "image/png": "[encoded data removed]",
            "text/plain": [
              "<Figure size 1440x504 with 1 Axes>"
            ]
          },
          "metadata": {
            "tags": []
          }
        }
      ]
    },
    {
      "cell_type": "code",
      "metadata": {
        "id": "CSiFUzb-GAPr",
        "colab_type": "code",
        "colab": {
          "base_uri": "https://localhost:8080/",
          "height": 541
        },
        "outputId": "493722a1-41f8-42aa-8972-6c9ff051dce5"
      },
      "source": [
        "c03=dfsmooth[dfsmooth['Year']==2016]\n",
        "c03=c03[c03.columns.tolist()[1:]]\n",
        "c03.head()\n",
        "c03arr=np.array(c03['Primary Type'])\n",
        "c03u=np.unique(c03arr)\n",
        "c03key=np.unique(np.array(np.array(c03['Primary Type'])))\n",
        "c03val=np.array(c03['Primary Type'].value_counts().values)\n",
        "print(c03u[:8])\n",
        "print(c03val[:8])\n",
        "color='rgbcmk'\n",
        "plt.figure(figsize=(20,7))\n",
        "plt.title(\"Crime Scenario of 2016 Max: {}={}\".format(c03u[:8][0],c03val[:8][0]),fontsize=20,color='m')\n",
        "plt.xlabel(\"Crime Type->\",fontsize=15,color='b')\n",
        "plt.ylabel(\"Crime Occured->\",fontsize=15,color='b')\n",
        "plt.grid()\n",
        "plt.bar(c03u[:8],c03val[:8],color=color,width=0.5)"
      ],
      "execution_count": 24,
      "outputs": [
        {
          "output_type": "stream",
          "text": [
            "['apartment' 'commercial centers' 'others' 'park' 'street']\n",
            "[3060  456  308   12    6]\n"
          ],
          "name": "stdout"
        },
        {
          "output_type": "execute_result",
          "data": {
            "text/plain": [
              "<BarContainer object of 5 artists>"
            ]
          },
          "metadata": {
            "tags": []
          },
          "execution_count": 24
        },
        {
          "output_type": "display_data",
          "data": {
            "image/png": "[encoded data removed]",
            "text/plain": [
              "<Figure size 1440x504 with 1 Axes>"
            ]
          },
          "metadata": {
            "tags": []
          }
        }
      ]
    },
    {
      "cell_type": "code",
      "metadata": {
        "id": "IzzY2iYjGG0U",
        "colab_type": "code",
        "colab": {
          "base_uri": "https://localhost:8080/",
          "height": 541
        },
        "outputId": "35a63673-6671-4ca3-bb7f-fe84310f151a"
      },
      "source": [
        "c04=dfsmooth[dfsmooth['Year']==2017]\n",
        "c04=c04[c04.columns.tolist()[1:]]\n",
        "c04.head()\n",
        "c04arr=np.array(c04['Primary Type'])\n",
        "c04u=np.unique(c04arr)\n",
        "c04key=np.unique(np.array(np.array(c04['Primary Type'])))\n",
        "c04val=np.array(c04['Primary Type'].value_counts().values)\n",
        "print(c04u[:8])\n",
        "print(c04val[:8])\n",
        "color='rgbcmk'\n",
        "plt.figure(figsize=(20,7))\n",
        "plt.title(\"Crime Scenario of 2017 Max: {}={}\".format(c04u[:8][0],c04val[:8][0]),fontsize=20,color='m')\n",
        "plt.xlabel(\"Crime Type->\",fontsize=15,color='b')\n",
        "plt.ylabel(\"Crime Occured->\",fontsize=15,color='b')\n",
        "plt.grid()\n",
        "plt.bar(c04u[:8],c04val[:8],color=color,width=0.5)\n"
      ],
      "execution_count": 25,
      "outputs": [
        {
          "output_type": "stream",
          "text": [
            "['apartment' 'commercial centers' 'others' 'park' 'street']\n",
            "[24504 20957  1454   402    54]\n"
          ],
          "name": "stdout"
        },
        {
          "output_type": "execute_result",
          "data": {
            "text/plain": [
              "<BarContainer object of 5 artists>"
            ]
          },
          "metadata": {
            "tags": []
          },
          "execution_count": 25
        },
        {
          "output_type": "display_data",
          "data": {
            "image/png": "[encoded data removed]",
            "text/plain": [
              "<Figure size 1440x504 with 1 Axes>"
            ]
          },
          "metadata": {
            "tags": []
          }
        }
      ]
    },
    {
      "cell_type": "code",
      "metadata": {
        "id": "Sm1EnW7mFYJl",
        "colab_type": "code",
        "colab": {
          "base_uri": "https://localhost:8080/",
          "height": 541
        },
        "outputId": "bce62ecd-8373-461f-e6cb-bf8710c96247"
      },
      "source": [
        "c05=dfsmooth[dfsmooth['Year']==2018]\n",
        "c05=c05[c05.columns.tolist()[1:]]\n",
        "c05.head()\n",
        "c05arr=np.array(c05['Primary Type'])\n",
        "c05u=np.unique(c05arr)\n",
        "c05key=np.unique(np.array(np.array(c05['Primary Type'])))\n",
        "c05val=np.array(c05['Primary Type'].value_counts().values)\n",
        "print(c05u[:8])\n",
        "print(c05val[:8])\n",
        "color='rgbcmk'\n",
        "plt.figure(figsize=(20,7))\n",
        "plt.title(\"Crime Scenario of 2018 Max: {}={}\".format(c05u[:8][0],c05val[:8][0]),fontsize=20,color='m')\n",
        "plt.xlabel(\"Crime Type->\",fontsize=15,color='b')\n",
        "plt.ylabel(\"Crime Occured->\",fontsize=15,color='b')\n",
        "plt.grid()\n",
        "plt.bar(c05u[:8],c05val[:8],color=color,width=0.5)\n"
      ],
      "execution_count": 26,
      "outputs": [
        {
          "output_type": "stream",
          "text": [
            "['commercial centers' 'others' 'park' 'street']\n",
            "[2807  366   98   41]\n"
          ],
          "name": "stdout"
        },
        {
          "output_type": "execute_result",
          "data": {
            "text/plain": [
              "<BarContainer object of 4 artists>"
            ]
          },
          "metadata": {
            "tags": []
          },
          "execution_count": 26
        },
        {
          "output_type": "display_data",
          "data": {
            "image/png": "[encoded data removed]",
            "text/plain": [
              "<Figure size 1440x504 with 1 Axes>"
            ]
          },
          "metadata": {
            "tags": []
          }
        }
      ]
    },
    {
      "cell_type": "code",
      "metadata": {
        "id": "kfvIl8pgGiWM",
        "colab_type": "code",
        "colab": {
          "base_uri": "https://localhost:8080/",
          "height": 541
        },
        "outputId": "7fc7a1e6-161d-40d7-f57b-0f78a98681da"
      },
      "source": [
        "c06=dfsmooth[dfsmooth['Year']==2019]\n",
        "c06=c06[c06.columns.tolist()[1:]]\n",
        "c06.head()\n",
        "c06arr=np.array(c06['Primary Type'])\n",
        "c06u=np.unique(c06arr)\n",
        "c06key=np.unique(np.array(np.array(c06['Primary Type'])))\n",
        "c06val=np.array(c06['Primary Type'].value_counts().values)\n",
        "print(c06u[:8])\n",
        "print(c06val[:8])\n",
        "color='rgbcmk'\n",
        "plt.figure(figsize=(20,7))\n",
        "plt.title(\"Crime Scenario of 2019 Max: {}={}\".format(c06u[:8][0],c06val[:8][0]),fontsize=20,color='m')\n",
        "plt.xlabel(\"Crime Type->\",fontsize=15,color='b')\n",
        "plt.ylabel(\"Crime Occured->\",fontsize=15,color='b')\n",
        "plt.grid()\n",
        "plt.bar(c06u[:8],c06val[:8],color=color,width=0.5)\n"
      ],
      "execution_count": 27,
      "outputs": [
        {
          "output_type": "stream",
          "text": [
            "['commercial centers' 'others' 'park' 'street']\n",
            "[74 68 60  6]\n"
          ],
          "name": "stdout"
        },
        {
          "output_type": "execute_result",
          "data": {
            "text/plain": [
              "<BarContainer object of 4 artists>"
            ]
          },
          "metadata": {
            "tags": []
          },
          "execution_count": 27
        },
        {
          "output_type": "display_data",
          "data": {
            "image/png": "[encoded data removed]",
            "text/plain": [
              "<Figure size 1440x504 with 1 Axes>"
            ]
          },
          "metadata": {
            "tags": []
          }
        }
      ]
    },
    {
      "cell_type": "code",
      "metadata": {
        "id": "6OISvgXbGoPU",
        "colab_type": "code",
        "colab": {}
      },
      "source": [
        "arrestno=[] #not_arrested_list\n",
        "arrestrationo=[] #not_arrested_ratio\n",
        "arrestratioyes=[] #arrested_ratio\n"
      ],
      "execution_count": 0,
      "outputs": []
    },
    {
      "cell_type": "code",
      "metadata": {
        "id": "5pWeoafyGvb0",
        "colab_type": "code",
        "colab": {
          "base_uri": "https://localhost:8080/",
          "height": 52
        },
        "outputId": "5dad2553-a6b3-4c77-e693-d5dd15a5ffa8"
      },
      "source": [
        "c01arreststat=c01.groupby(['Arrest']).count()['Year'].keys().tolist() #arrest_statistics_representing_true_false\n",
        "c01arrestcount=c01.groupby(['Arrest']).count()['Year'].values.tolist() #arrest_count_no_of_true_or_false\n",
        "print(c01arreststat)\n",
        "print(c01arrestcount)\n"
      ],
      "execution_count": 30,
      "outputs": [
        {
          "output_type": "stream",
          "text": [
            "['NO', 'YES']\n",
            "[1713, 763]\n"
          ],
          "name": "stdout"
        }
      ]
    },
    {
      "cell_type": "code",
      "metadata": {
        "id": "fjNMgwlHG1BE",
        "colab_type": "code",
        "colab": {
          "base_uri": "https://localhost:8080/",
          "height": 70
        },
        "outputId": "5c450444-6c63-4ea7-e802-aace61eb86cb"
      },
      "source": [
        "arrestno.append(c01arrestcount[0])\n",
        "arrestrationo.append((c01arrestcount[0]/sum(c01arrestcount))*100)\n",
        "arrestratioyes.append((c01arrestcount[1]/sum(c01arrestcount))*100)\n",
        "print(arrestno)\n",
        "print(arrestrationo)\n",
        "print(arrestratioyes)\n"
      ],
      "execution_count": 32,
      "outputs": [
        {
          "output_type": "stream",
          "text": [
            "[1713]\n",
            "[69.18416801292408]\n",
            "[30.81583198707593]\n"
          ],
          "name": "stdout"
        }
      ]
    },
    {
      "cell_type": "code",
      "metadata": {
        "id": "kh9JAC_9HIAB",
        "colab_type": "code",
        "colab": {
          "base_uri": "https://localhost:8080/",
          "height": 422
        },
        "outputId": "39908b8b-0116-4a79-f273-283abb1b54f6"
      },
      "source": [
        "plt.figure(figsize=(8,6))\n",
        "plt.title(\"Arrest in 2014\")\n",
        "sns.countplot(c01['Arrest'])\n"
      ],
      "execution_count": 33,
      "outputs": [
        {
          "output_type": "execute_result",
          "data": {
            "text/plain": [
              "<matplotlib.axes._subplots.AxesSubplot at 0x7f6109a75be0>"
            ]
          },
          "metadata": {
            "tags": []
          },
          "execution_count": 33
        },
        {
          "output_type": "display_data",
          "data": {
            "image/png": "[encoded data removed]",
            "text/plain": [
              "<Figure size 576x432 with 1 Axes>"
            ]
          },
          "metadata": {
            "tags": []
          }
        }
      ]
    },
    {
      "cell_type": "code",
      "metadata": {
        "id": "UPsHD75jHLaz",
        "colab_type": "code",
        "colab": {
          "base_uri": "https://localhost:8080/",
          "height": 511
        },
        "outputId": "570da8e9-3000-49d2-af9b-12f26cd4334c"
      },
      "source": [
        "c02arreststat=c02.groupby(['Arrest']).count()['Year'].keys().tolist()\n",
        "c02arrestcount=c02.groupby(['Arrest']).count()['Year'].values.tolist()\n",
        "print(c02arreststat)\n",
        "print(c02arrestcount)\n",
        "arrestno.append(c02arrestcount[0])\n",
        "arrestrationo.append((c02arrestcount[0]/sum(c02arrestcount))*100)\n",
        "arrestratioyes.append((c02arrestcount[1]/sum(c02arrestcount))*100)\n",
        "print(arrestno)\n",
        "print(arrestrationo)\n",
        "print(arrestratioyes)\n",
        "plt.figure(figsize=(8,6))\n",
        "plt.title(\"Arrest in 2015\")\n",
        "sns.countplot(c02['Arrest'])\n"
      ],
      "execution_count": 35,
      "outputs": [
        {
          "output_type": "stream",
          "text": [
            "['NO', 'YES']\n",
            "[313470, 129496]\n",
            "[1713, 313470]\n",
            "[69.18416801292408, 70.7661536099836]\n",
            "[30.81583198707593, 29.23384639001639]\n"
          ],
          "name": "stdout"
        },
        {
          "output_type": "execute_result",
          "data": {
            "text/plain": [
              "<matplotlib.axes._subplots.AxesSubplot at 0x7f6109997470>"
            ]
          },
          "metadata": {
            "tags": []
          },
          "execution_count": 35
        },
        {
          "output_type": "display_data",
          "data": {
            "image/png": "[encoded data removed]",
            "text/plain": [
              "<Figure size 576x432 with 1 Axes>"
            ]
          },
          "metadata": {
            "tags": []
          }
        }
      ]
    },
    {
      "cell_type": "code",
      "metadata": {
        "id": "8HnBXHB6HdaL",
        "colab_type": "code",
        "colab": {
          "base_uri": "https://localhost:8080/",
          "height": 511
        },
        "outputId": "cdc94436-1f59-4079-a01a-f7f0ed1772bd"
      },
      "source": [
        "c03arreststat=c03.groupby(['Arrest']).count()['Year'].keys().tolist()\n",
        "c03arrestcount=c03.groupby(['Arrest']).count()['Year'].values.tolist()\n",
        "print(c03arreststat)\n",
        "print(c03arrestcount)\n",
        "arrestno.append(c03arrestcount[0])\n",
        "arrestrationo.append((c03arrestcount[0]/sum(c03arrestcount))*100)\n",
        "arrestratioyes.append((c03arrestcount[1]/sum(c03arrestcount))*100)\n",
        "print(arrestno)\n",
        "print(arrestrationo)\n",
        "print(arrestratioyes)\n",
        "plt.figure(figsize=(8,6))\n",
        "plt.title(\"Arrest in 2016\")\n",
        "sns.countplot(c03['Arrest'])\n"
      ],
      "execution_count": 36,
      "outputs": [
        {
          "output_type": "stream",
          "text": [
            "['NO', 'YES']\n",
            "[2859, 983]\n",
            "[1713, 313470, 2859]\n",
            "[69.18416801292408, 70.7661536099836, 74.41436751691826]\n",
            "[30.81583198707593, 29.23384639001639, 25.585632483081728]\n"
          ],
          "name": "stdout"
        },
        {
          "output_type": "execute_result",
          "data": {
            "text/plain": [
              "<matplotlib.axes._subplots.AxesSubplot at 0x7f61099c0630>"
            ]
          },
          "metadata": {
            "tags": []
          },
          "execution_count": 36
        },
        {
          "output_type": "display_data",
          "data": {
            "image/png": "[encoded data removed]",
            "text/plain": [
              "<Figure size 576x432 with 1 Axes>"
            ]
          },
          "metadata": {
            "tags": []
          }
        }
      ]
    },
    {
      "cell_type": "code",
      "metadata": {
        "id": "3bSdfmtOHqQw",
        "colab_type": "code",
        "colab": {
          "base_uri": "https://localhost:8080/",
          "height": 511
        },
        "outputId": "21edd5e0-4bc9-4ed9-df51-198d6777c351"
      },
      "source": [
        "c04arreststat=c04.groupby(['Arrest']).count()['Year'].keys().tolist()\n",
        "c04arrestcount=c04.groupby(['Arrest']).count()['Year'].values.tolist()\n",
        "print(c04arreststat)\n",
        "print(c04arrestcount)\n",
        "arrestno.append(c04arrestcount[0])\n",
        "arrestrationo.append((c04arrestcount[0]/sum(c04arrestcount))*100)\n",
        "arrestratioyes.append((c04arrestcount[1]/sum(c04arrestcount))*100)\n",
        "print(arrestno)\n",
        "print(arrestrationo)\n",
        "print(arrestratioyes)\n",
        "plt.figure(figsize=(8,6))\n",
        "plt.title(\"Arrest in 2017\")\n",
        "sns.countplot(c04['Arrest'])"
      ],
      "execution_count": 37,
      "outputs": [
        {
          "output_type": "stream",
          "text": [
            "['NO', 'YES']\n",
            "[35892, 11479]\n",
            "[1713, 313470, 2859, 35892]\n",
            "[69.18416801292408, 70.7661536099836, 74.41436751691826, 75.7678748601465]\n",
            "[30.81583198707593, 29.23384639001639, 25.585632483081728, 24.232125139853498]\n"
          ],
          "name": "stdout"
        },
        {
          "output_type": "execute_result",
          "data": {
            "text/plain": [
              "<matplotlib.axes._subplots.AxesSubplot at 0x7f6109a51240>"
            ]
          },
          "metadata": {
            "tags": []
          },
          "execution_count": 37
        },
        {
          "output_type": "display_data",
          "data": {
            "image/png": "[encoded data removed]",
            "text/plain": [
              "<Figure size 576x432 with 1 Axes>"
            ]
          },
          "metadata": {
            "tags": []
          }
        }
      ]
    },
    {
      "cell_type": "code",
      "metadata": {
        "id": "NN4vCDACH4Xt",
        "colab_type": "code",
        "colab": {
          "base_uri": "https://localhost:8080/",
          "height": 511
        },
        "outputId": "ed9129b3-8211-4e44-cb78-0f87125bf4c3"
      },
      "source": [
        "c05arreststat=c05.groupby(['Arrest']).count()['Year'].keys().tolist()\n",
        "c05arrestcount=c05.groupby(['Arrest']).count()['Year'].values.tolist()\n",
        "print(c05arreststat)\n",
        "print(c05arrestcount)\n",
        "arrestno.append(c05arrestcount[0])\n",
        "arrestrationo.append((c05arrestcount[0]/sum(c05arrestcount))*100)\n",
        "arrestratioyes.append((c05arrestcount[1]/sum(c05arrestcount))*100)\n",
        "print(arrestno)\n",
        "print(arrestrationo)\n",
        "print(arrestratioyes)\n",
        "plt.figure(figsize=(8,6))\n",
        "plt.title(\"Arrest in 2018\")\n",
        "sns.countplot(c05['Arrest'])\n"
      ],
      "execution_count": 39,
      "outputs": [
        {
          "output_type": "stream",
          "text": [
            "['NO', 'YES']\n",
            "[2425, 887]\n",
            "[1713, 313470, 2859, 35892, 2425, 2425]\n",
            "[69.18416801292408, 70.7661536099836, 74.41436751691826, 75.7678748601465, 73.21859903381642, 73.21859903381642]\n",
            "[30.81583198707593, 29.23384639001639, 25.585632483081728, 24.232125139853498, 26.781400966183575, 26.781400966183575]\n"
          ],
          "name": "stdout"
        },
        {
          "output_type": "execute_result",
          "data": {
            "text/plain": [
              "<matplotlib.axes._subplots.AxesSubplot at 0x7f61099265f8>"
            ]
          },
          "metadata": {
            "tags": []
          },
          "execution_count": 39
        },
        {
          "output_type": "display_data",
          "data": {
            "image/png": "[encoded data removed]",
            "text/plain": [
              "<Figure size 576x432 with 1 Axes>"
            ]
          },
          "metadata": {
            "tags": []
          }
        }
      ]
    },
    {
      "cell_type": "code",
      "metadata": {
        "id": "O58cxPkAIN0y",
        "colab_type": "code",
        "colab": {
          "base_uri": "https://localhost:8080/",
          "height": 511
        },
        "outputId": "8ffe0963-9eb5-42de-b185-1168a3b032a7"
      },
      "source": [
        "c06arreststat=c06.groupby(['Arrest']).count()['Year'].keys().tolist()\n",
        "c06arrestcount=c06.groupby(['Arrest']).count()['Year'].values.tolist()\n",
        "print(c06arreststat)\n",
        "print(c06arrestcount)\n",
        "arrestno.append(c06arrestcount[0])\n",
        "arrestrationo.append((c06arrestcount[0]/sum(c06arrestcount))*100)\n",
        "arrestratioyes.append((c06arrestcount[1]/sum(c06arrestcount))*100)\n",
        "print(arrestno)\n",
        "print(arrestrationo)\n",
        "print(arrestratioyes)\n",
        "plt.figure(figsize=(8,6))\n",
        "plt.title(\"Arrest in 2019\")\n",
        "sns.countplot(c06['Arrest'])\n"
      ],
      "execution_count": 40,
      "outputs": [
        {
          "output_type": "stream",
          "text": [
            "['NO', 'YES']\n",
            "[169, 39]\n",
            "[1713, 313470, 2859, 35892, 2425, 2425, 169]\n",
            "[69.18416801292408, 70.7661536099836, 74.41436751691826, 75.7678748601465, 73.21859903381642, 73.21859903381642, 81.25]\n",
            "[30.81583198707593, 29.23384639001639, 25.585632483081728, 24.232125139853498, 26.781400966183575, 26.781400966183575, 18.75]\n"
          ],
          "name": "stdout"
        },
        {
          "output_type": "execute_result",
          "data": {
            "text/plain": [
              "<matplotlib.axes._subplots.AxesSubplot at 0x7f6109820ac8>"
            ]
          },
          "metadata": {
            "tags": []
          },
          "execution_count": 40
        },
        {
          "output_type": "display_data",
          "data": {
            "image/png": "[encoded data removed]",
            "text/plain": [
              "<Figure size 576x432 with 1 Axes>"
            ]
          },
          "metadata": {
            "tags": []
          }
        }
      ]
    },
    {
      "cell_type": "code",
      "metadata": {
        "id": "nNmlEezLIjZj",
        "colab_type": "code",
        "colab": {
          "base_uri": "https://localhost:8080/",
          "height": 87
        },
        "outputId": "f970eb80-dc0d-4d7b-df0c-3c0eb09d05d7"
      },
      "source": [
        "print(len(arrestno))\n",
        "print(len(arrestrationo))\n",
        "print(len(arrestratioyes))\n",
        "yearlist=[str(i) for i in range(2014,2020)]\n",
        "print(yearlist)\n"
      ],
      "execution_count": 41,
      "outputs": [
        {
          "output_type": "stream",
          "text": [
            "7\n",
            "7\n",
            "7\n",
            "['2014', '2015', '2016', '2017', '2018', '2019']\n"
          ],
          "name": "stdout"
        }
      ]
    },
    {
      "cell_type": "code",
      "metadata": {
        "id": "sL528nbEIqov",
        "colab_type": "code",
        "colab": {
          "base_uri": "https://localhost:8080/",
          "height": 432
        },
        "outputId": "a90d8c9d-e0ec-4615-a0cd-a3c5c3a73297"
      },
      "source": [
        "plt.figure(figsize=(15,6))\n",
        "plt.title(\"Crime Arrest Report\",fontsize=20,color='m')\n",
        "plt.xlabel(\"Year->\",fontsize=15,color='b')\n",
        "plt.ylabel(\"Arrest percentage->\",fontsize=15,color='b')\n",
        "plt.plot(arrestratioyes,\"k\",label=\"Arrested\")\n",
        "plt.plot(arrestratioyes,\"Pk\")\n",
        "plt.plot(arrestrationo,\"r\",label=\"Not Arrested\")\n",
        "plt.plot(arrestrationo,\"Dr\")\n",
        "plt.legend(loc=\"upper right\")\n"
      ],
      "execution_count": 43,
      "outputs": [
        {
          "output_type": "execute_result",
          "data": {
            "text/plain": [
              "<matplotlib.legend.Legend at 0x7f6109736d30>"
            ]
          },
          "metadata": {
            "tags": []
          },
          "execution_count": 43
        },
        {
          "output_type": "display_data",
          "data": {
            "image/png": "[encoded data removed]",
            "text/plain": [
              "<Figure size 1080x432 with 1 Axes>"
            ]
          },
          "metadata": {
            "tags": []
          }
        }
      ]
    },
    {
      "cell_type": "code",
      "metadata": {
        "id": "I2pad9KRIyb4",
        "colab_type": "code",
        "colab": {}
      },
      "source": [
        "import pandas as pd\n",
        "\n",
        "from pandas.plotting import scatter_matrix\n",
        "\n",
        "import matplotlib.pyplot as plt\n",
        "\n",
        "from sklearn import model_selection\n",
        "\n",
        "from sklearn.metrics import classification_report\n",
        "\n",
        "from sklearn.metrics import confusion_matrix\n",
        "\n",
        "from sklearn.metrics import accuracy_score\n",
        "\n",
        "from sklearn.linear_model import LogisticRegression\n",
        "\n",
        "from sklearn.tree import DecisionTreeClassifier\n",
        "\n",
        "from sklearn.neighbors import KNeighborsClassifier\n",
        "\n",
        "from sklearn.discriminant_analysis import LinearDiscriminantAnalysis\n",
        "\n",
        "from sklearn.naive_bayes import GaussianNB\n",
        "\n",
        "from sklearn.svm import SVC"
      ],
      "execution_count": 0,
      "outputs": []
    },
    {
      "cell_type": "code",
      "metadata": {
        "id": "6Y2ZD7SiI2lL",
        "colab_type": "code",
        "colab": {}
      },
      "source": [
        "df['Primary Type'].replace(to_replace=['commercial centers','others','park','street','residence','apartment'], value=[0,1,2,3,4,5],inplace=True)"
      ],
      "execution_count": 0,
      "outputs": []
    },
    {
      "cell_type": "code",
      "metadata": {
        "id": "wB9-0zDVI7gR",
        "colab_type": "code",
        "colab": {}
      },
      "source": [
        "def arrval(val):  \n",
        "    if val == \"NO\" :\n",
        "        return 0\n",
        "    else:\n",
        "      return 1\n"
      ],
      "execution_count": 0,
      "outputs": []
    },
    {
      "cell_type": "code",
      "metadata": {
        "id": "b0i9EueiI94X",
        "colab_type": "code",
        "colab": {
          "base_uri": "https://localhost:8080/",
          "height": 197
        },
        "outputId": "da14bbbf-8a07-4833-c8aa-3238f44f743f"
      },
      "source": [
        "df['arrval'] = df.apply(lambda x: arrval(x[\"Arrest\"]),axis =1 )\n",
        "df.head()"
      ],
      "execution_count": 47,
      "outputs": [
        {
          "output_type": "execute_result",
          "data": {
            "text/html": [
              "<div>\n",
              "<style scoped>\n",
              "    .dataframe tbody tr th:only-of-type {\n",
              "        vertical-align: middle;\n",
              "    }\n",
              "\n",
              "    .dataframe tbody tr th {\n",
              "        vertical-align: top;\n",
              "    }\n",
              "\n",
              "    .dataframe thead th {\n",
              "        text-align: right;\n",
              "    }\n",
              "</style>\n",
              "<table border=\"1\" class=\"dataframe\">\n",
              "  <thead>\n",
              "    <tr style=\"text-align: right;\">\n",
              "      <th></th>\n",
              "      <th>id</th>\n",
              "      <th>REC</th>\n",
              "      <th>Date</th>\n",
              "      <th>Primary Type</th>\n",
              "      <th>Arrest</th>\n",
              "      <th>Year</th>\n",
              "      <th>arrval</th>\n",
              "    </tr>\n",
              "  </thead>\n",
              "  <tbody>\n",
              "    <tr>\n",
              "      <th>0</th>\n",
              "      <td>1</td>\n",
              "      <td>1153</td>\n",
              "      <td>01-01-2015 11:00</td>\n",
              "      <td>2</td>\n",
              "      <td>NO</td>\n",
              "      <td>2015</td>\n",
              "      <td>0</td>\n",
              "    </tr>\n",
              "    <tr>\n",
              "      <th>1</th>\n",
              "      <td>2</td>\n",
              "      <td>5131</td>\n",
              "      <td>11/28/2017 09:43:00 PM</td>\n",
              "      <td>2</td>\n",
              "      <td>YES</td>\n",
              "      <td>2017</td>\n",
              "      <td>1</td>\n",
              "    </tr>\n",
              "    <tr>\n",
              "      <th>2</th>\n",
              "      <td>3</td>\n",
              "      <td>310</td>\n",
              "      <td>12-11-2017 19:15</td>\n",
              "      <td>2</td>\n",
              "      <td>YES</td>\n",
              "      <td>2017</td>\n",
              "      <td>1</td>\n",
              "    </tr>\n",
              "    <tr>\n",
              "      <th>3</th>\n",
              "      <td>4</td>\n",
              "      <td>281</td>\n",
              "      <td>10-08-2017 03:00</td>\n",
              "      <td>2</td>\n",
              "      <td>NO</td>\n",
              "      <td>2017</td>\n",
              "      <td>0</td>\n",
              "    </tr>\n",
              "    <tr>\n",
              "      <th>4</th>\n",
              "      <td>5</td>\n",
              "      <td>620</td>\n",
              "      <td>03/28/2017 02:00:00 PM</td>\n",
              "      <td>2</td>\n",
              "      <td>NO</td>\n",
              "      <td>2017</td>\n",
              "      <td>0</td>\n",
              "    </tr>\n",
              "  </tbody>\n",
              "</table>\n",
              "</div>"
            ],
            "text/plain": [
              "   id   REC                    Date  Primary Type Arrest  Year  arrval\n",
              "0   1  1153        01-01-2015 11:00             2     NO  2015       0\n",
              "1   2  5131  11/28/2017 09:43:00 PM             2    YES  2017       1\n",
              "2   3   310        12-11-2017 19:15             2    YES  2017       1\n",
              "3   4   281        10-08-2017 03:00             2     NO  2017       0\n",
              "4   5   620  03/28/2017 02:00:00 PM             2     NO  2017       0"
            ]
          },
          "metadata": {
            "tags": []
          },
          "execution_count": 47
        }
      ]
    },
    {
      "cell_type": "code",
      "metadata": {
        "id": "8HgzMjwoJAQr",
        "colab_type": "code",
        "colab": {}
      },
      "source": [
        "from sklearn.model_selection import train_test_split\n"
      ],
      "execution_count": 0,
      "outputs": []
    },
    {
      "cell_type": "code",
      "metadata": {
        "id": "ycwkyrxMJGU6",
        "colab_type": "code",
        "colab": {
          "base_uri": "https://localhost:8080/",
          "height": 197
        },
        "outputId": "2514312c-36e2-49ac-c1e1-3426dcffa1b4"
      },
      "source": [
        "X = df.drop(['id','Date','Arrest','arrval'],axis=1)\n",
        "X.head()"
      ],
      "execution_count": 50,
      "outputs": [
        {
          "output_type": "execute_result",
          "data": {
            "text/html": [
              "<div>\n",
              "<style scoped>\n",
              "    .dataframe tbody tr th:only-of-type {\n",
              "        vertical-align: middle;\n",
              "    }\n",
              "\n",
              "    .dataframe tbody tr th {\n",
              "        vertical-align: top;\n",
              "    }\n",
              "\n",
              "    .dataframe thead th {\n",
              "        text-align: right;\n",
              "    }\n",
              "</style>\n",
              "<table border=\"1\" class=\"dataframe\">\n",
              "  <thead>\n",
              "    <tr style=\"text-align: right;\">\n",
              "      <th></th>\n",
              "      <th>REC</th>\n",
              "      <th>Primary Type</th>\n",
              "      <th>Year</th>\n",
              "    </tr>\n",
              "  </thead>\n",
              "  <tbody>\n",
              "    <tr>\n",
              "      <th>0</th>\n",
              "      <td>1153</td>\n",
              "      <td>2</td>\n",
              "      <td>2015</td>\n",
              "    </tr>\n",
              "    <tr>\n",
              "      <th>1</th>\n",
              "      <td>5131</td>\n",
              "      <td>2</td>\n",
              "      <td>2017</td>\n",
              "    </tr>\n",
              "    <tr>\n",
              "      <th>2</th>\n",
              "      <td>310</td>\n",
              "      <td>2</td>\n",
              "      <td>2017</td>\n",
              "    </tr>\n",
              "    <tr>\n",
              "      <th>3</th>\n",
              "      <td>281</td>\n",
              "      <td>2</td>\n",
              "      <td>2017</td>\n",
              "    </tr>\n",
              "    <tr>\n",
              "      <th>4</th>\n",
              "      <td>620</td>\n",
              "      <td>2</td>\n",
              "      <td>2017</td>\n",
              "    </tr>\n",
              "  </tbody>\n",
              "</table>\n",
              "</div>"
            ],
            "text/plain": [
              "    REC  Primary Type  Year\n",
              "0  1153             2  2015\n",
              "1  5131             2  2017\n",
              "2   310             2  2017\n",
              "3   281             2  2017\n",
              "4   620             2  2017"
            ]
          },
          "metadata": {
            "tags": []
          },
          "execution_count": 50
        }
      ]
    },
    {
      "cell_type": "code",
      "metadata": {
        "id": "zFTk5LZpJRqi",
        "colab_type": "code",
        "colab": {
          "base_uri": "https://localhost:8080/",
          "height": 197
        },
        "outputId": "101ab5cc-aafe-4a8e-bb36-e93fe41a657c"
      },
      "source": [
        "Y = df.drop(['id','Date','REC','Primary Type','Year','Arrest'],axis=1)\n",
        "Y.head()"
      ],
      "execution_count": 52,
      "outputs": [
        {
          "output_type": "execute_result",
          "data": {
            "text/html": [
              "<div>\n",
              "<style scoped>\n",
              "    .dataframe tbody tr th:only-of-type {\n",
              "        vertical-align: middle;\n",
              "    }\n",
              "\n",
              "    .dataframe tbody tr th {\n",
              "        vertical-align: top;\n",
              "    }\n",
              "\n",
              "    .dataframe thead th {\n",
              "        text-align: right;\n",
              "    }\n",
              "</style>\n",
              "<table border=\"1\" class=\"dataframe\">\n",
              "  <thead>\n",
              "    <tr style=\"text-align: right;\">\n",
              "      <th></th>\n",
              "      <th>arrval</th>\n",
              "    </tr>\n",
              "  </thead>\n",
              "  <tbody>\n",
              "    <tr>\n",
              "      <th>0</th>\n",
              "      <td>0</td>\n",
              "    </tr>\n",
              "    <tr>\n",
              "      <th>1</th>\n",
              "      <td>1</td>\n",
              "    </tr>\n",
              "    <tr>\n",
              "      <th>2</th>\n",
              "      <td>1</td>\n",
              "    </tr>\n",
              "    <tr>\n",
              "      <th>3</th>\n",
              "      <td>0</td>\n",
              "    </tr>\n",
              "    <tr>\n",
              "      <th>4</th>\n",
              "      <td>0</td>\n",
              "    </tr>\n",
              "  </tbody>\n",
              "</table>\n",
              "</div>"
            ],
            "text/plain": [
              "   arrval\n",
              "0       0\n",
              "1       1\n",
              "2       1\n",
              "3       0\n",
              "4       0"
            ]
          },
          "metadata": {
            "tags": []
          },
          "execution_count": 52
        }
      ]
    },
    {
      "cell_type": "code",
      "metadata": {
        "id": "DbssKHVrJdTR",
        "colab_type": "code",
        "colab": {
          "base_uri": "https://localhost:8080/",
          "height": 125
        },
        "outputId": "dc646fe9-7b86-419d-8e62-dae310f487f6"
      },
      "source": [
        "from sklearn.model_selection import train_test_split\n",
        "X_train, X_test, Y_train, Y_test = train_test_split(X,Y,test_size=0.2)\n",
        "from sklearn.neighbors import KNeighborsClassifier\n",
        "neigh = KNeighborsClassifier(n_neighbors=12,)\n",
        "neigh.fit(X_train, Y_train)"
      ],
      "execution_count": 53,
      "outputs": [
        {
          "output_type": "stream",
          "text": [
            "/usr/local/lib/python3.6/dist-packages/ipykernel_launcher.py:5: DataConversionWarning: A column-vector y was passed when a 1d array was expected. Please change the shape of y to (n_samples, ), for example using ravel().\n",
            "  \"\"\"\n"
          ],
          "name": "stderr"
        },
        {
          "output_type": "execute_result",
          "data": {
            "text/plain": [
              "KNeighborsClassifier(algorithm='auto', leaf_size=30, metric='minkowski',\n",
              "                     metric_params=None, n_jobs=None, n_neighbors=12, p=2,\n",
              "                     weights='uniform')"
            ]
          },
          "metadata": {
            "tags": []
          },
          "execution_count": 53
        }
      ]
    },
    {
      "cell_type": "code",
      "metadata": {
        "id": "CRH_6YrZJk38",
        "colab_type": "code",
        "colab": {
          "base_uri": "https://localhost:8080/",
          "height": 34
        },
        "outputId": "9a2e8967-9a31-4feb-c5d5-e246353c7da5"
      },
      "source": [
        "neigh.score(X_test,Y_test)"
      ],
      "execution_count": 54,
      "outputs": [
        {
          "output_type": "execute_result",
          "data": {
            "text/plain": [
              "0.8594106121796153"
            ]
          },
          "metadata": {
            "tags": []
          },
          "execution_count": 54
        }
      ]
    },
    {
      "cell_type": "code",
      "metadata": {
        "id": "WZpbLKGmJt-u",
        "colab_type": "code",
        "colab": {
          "base_uri": "https://localhost:8080/",
          "height": 123
        },
        "outputId": "e63cd449-00bc-4e4a-948f-456c052d60ca"
      },
      "source": [
        "from sklearn import tree\n",
        "estimator = tree.DecisionTreeClassifier()\n",
        "estimator.fit(X_train, Y_train)"
      ],
      "execution_count": 55,
      "outputs": [
        {
          "output_type": "execute_result",
          "data": {
            "text/plain": [
              "DecisionTreeClassifier(ccp_alpha=0.0, class_weight=None, criterion='gini',\n",
              "                       max_depth=None, max_features=None, max_leaf_nodes=None,\n",
              "                       min_impurity_decrease=0.0, min_impurity_split=None,\n",
              "                       min_samples_leaf=1, min_samples_split=2,\n",
              "                       min_weight_fraction_leaf=0.0, presort='deprecated',\n",
              "                       random_state=None, splitter='best')"
            ]
          },
          "metadata": {
            "tags": []
          },
          "execution_count": 55
        }
      ]
    },
    {
      "cell_type": "code",
      "metadata": {
        "id": "WxlUqRa-JwMm",
        "colab_type": "code",
        "colab": {
          "base_uri": "https://localhost:8080/",
          "height": 34
        },
        "outputId": "70373fa4-5347-4fff-d551-e9403dfae66f"
      },
      "source": [
        "estimator.score(X_test,Y_test)"
      ],
      "execution_count": 56,
      "outputs": [
        {
          "output_type": "execute_result",
          "data": {
            "text/plain": [
              "0.8606401695389659"
            ]
          },
          "metadata": {
            "tags": []
          },
          "execution_count": 56
        }
      ]
    }
  ]
}