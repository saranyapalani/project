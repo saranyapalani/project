{
  "nbformat": 4,
  "nbformat_minor": 0,
  "metadata": {
    "colab": {
      "name": "Welcome To Colaboratory",
      "provenance": [],
      "collapsed_sections": [],
      "toc_visible": true,
      "include_colab_link": true
    },
    "kernelspec": {
      "display_name": "Python 3",
      "name": "python3"
    }
  },
  "cells": [
    {
      "cell_type": "markdown",
      "metadata": {
        "id": "view-in-github",
        "colab_type": "text"
      },
      "source": [
        "<a href=\"https://colab.research.google.com/github/saranyapalani/project/blob/master/analysis.ipynb\" target=\"_parent\"><img src=\"https://colab.research.google.com/assets/colab-badge.svg\" alt=\"Open In Colab\"/></a>"
      ]
    },
    {
      "cell_type": "markdown",
      "metadata": {
        "colab_type": "text",
        "id": "5fCEDCU_qrC0"
      },
      "source": [
        "<p><img alt=\"Colaboratory logo\" height=\"45px\" src=\"/img/colab_favicon.ico\" align=\"left\" hspace=\"10px\" vspace=\"0px\"></p>\n",
        "\n",
        "<h1>Welcome to Colaboratory!</h1>\n",
        "\n",
        "\n",
        "Colaboratory is a free Jupyter notebook environment that requires no setup and runs entirely in the cloud.\n",
        "\n",
        "With Colaboratory you can write and execute code, save and share your analyses, and access powerful computing resources, all for free from your browser."
      ]
    },
    {
      "cell_type": "code",
      "metadata": {
        "colab_type": "code",
        "id": "xitplqMNk_Hc",
        "outputId": "ed4f60d2-878d-4056-c438-352dac39a112",
        "colab": {
          "height": 420
        }
      },
      "source": [
        "#@title Introducing Colaboratory { display-mode: \"form\" }\n",
        "#@markdown This 3-minute video gives an overview of the key features of Colaboratory:\n",
        "from IPython.display import YouTubeVideo\n",
        "YouTubeVideo('inN8seMm7UI', width=600, height=400)"
      ],
      "execution_count": 0,
      "outputs": [
        {
          "output_type": "execute_result",
          "data": {
            "text/html": [
              "\n",
              "        <iframe\n",
              "            width=\"600\"\n",
              "            height=\"400\"\n",
              "            src=\"https://www.youtube.com/embed/inN8seMm7UI\"\n",
              "            frameborder=\"0\"\n",
              "            allowfullscreen\n",
              "        ></iframe>\n",
              "        "
            ],
            "text/plain": [
              "<IPython.lib.display.YouTubeVideo at 0x7f956e9dda50>"
            ]
          },
          "metadata": {
            "tags": []
          },
          "execution_count": 0
        }
      ]
    },
    {
      "cell_type": "markdown",
      "metadata": {
        "colab_type": "text",
        "id": "GJBs_flRovLc"
      },
      "source": [
        "## Getting Started\n",
        "\n",
        "The document you are reading is a  [Jupyter notebook](https://jupyter.org/), hosted in Colaboratory. It is not a static page, but an interactive environment that lets you write and execute code in Python and other languages.\n",
        "\n",
        "For example, here is a **code cell** with a short Python script that computes a value, stores it in a variable, and prints the result:"
      ]
    },
    {
      "cell_type": "code",
      "metadata": {
        "colab_type": "code",
        "id": "gJr_9dXGpJ05",
        "outputId": "5626194c-e802-4293-942d-2908885c3c1f",
        "colab": {
          "height": 35
        }
      },
      "source": [
        "seconds_in_a_day = 24 * 60 * 60\n",
        "seconds_in_a_day"
      ],
      "execution_count": 0,
      "outputs": [
        {
          "output_type": "execute_result",
          "data": {
            "text/plain": [
              "86400"
            ]
          },
          "metadata": {
            "tags": []
          },
          "execution_count": 0
        }
      ]
    },
    {
      "cell_type": "markdown",
      "metadata": {
        "colab_type": "text",
        "id": "2fhs6GZ4qFMx"
      },
      "source": [
        "To execute the code in the above cell, select it with a click and then either press the play button to the left of the code, or use the keyboard shortcut \"Command/Ctrl+Enter\".\n",
        "\n",
        "All cells modify the same global state, so variables that you define by executing a cell can be used in other cells:"
      ]
    },
    {
      "cell_type": "code",
      "metadata": {
        "colab_type": "code",
        "id": "-gE-Ez1qtyIA",
        "outputId": "8d2e4259-4682-4e19-b683-7b9087f28820",
        "colab": {
          "height": 35
        }
      },
      "source": [
        "seconds_in_a_week = 7 * seconds_in_a_day\n",
        "seconds_in_a_week"
      ],
      "execution_count": 0,
      "outputs": [
        {
          "output_type": "execute_result",
          "data": {
            "text/plain": [
              "604800"
            ]
          },
          "metadata": {
            "tags": []
          },
          "execution_count": 0
        }
      ]
    },
    {
      "cell_type": "markdown",
      "metadata": {
        "colab_type": "text",
        "id": "lSrWNr3MuFUS"
      },
      "source": [
        "For more information about working with Colaboratory notebooks, see [Overview of Colaboratory](/notebooks/basic_features_overview.ipynb).\n"
      ]
    },
    {
      "cell_type": "markdown",
      "metadata": {
        "colab_type": "text",
        "id": "-Rh3-Vt9Nev9"
      },
      "source": [
        "## More Resources\n",
        "\n",
        "Learn how to make the most of Python, Jupyter, Colaboratory, and related tools with these resources:\n",
        "\n",
        "### Working with Notebooks in Colaboratory\n",
        "- [Overview of Colaboratory](/notebooks/basic_features_overview.ipynb)\n",
        "- [Guide to Markdown](/notebooks/markdown_guide.ipynb)\n",
        "- [Importing libraries and installing dependencies](/notebooks/snippets/importing_libraries.ipynb)\n",
        "- [Saving and loading notebooks in GitHub](https://colab.research.google.com/github/googlecolab/colabtools/blob/master/notebooks/colab-github-demo.ipynb)\n",
        "- [Interactive forms](/notebooks/forms.ipynb)\n",
        "- [Interactive widgets](/notebooks/widgets.ipynb)\n",
        "- <img src=\"/img/new.png\" height=\"20px\" align=\"left\" hspace=\"4px\" alt=\"New\"></img>\n",
        " [TensorFlow 2 in Colab](/notebooks/tensorflow_version.ipynb)\n",
        "\n",
        "### Working with Data\n",
        "- [Loading data: Drive, Sheets, and Google Cloud Storage](/notebooks/io.ipynb) \n",
        "- [Charts: visualizing data](/notebooks/charts.ipynb)\n",
        "- [Getting started with BigQuery](/notebooks/bigquery.ipynb)\n",
        "\n",
        "### Machine Learning Crash Course\n",
        "These are a few of the notebooks from Google's online Machine Learning course. See the [full course website](https://developers.google.com/machine-learning/crash-course/) for more.\n",
        "- [Intro to Pandas](/notebooks/mlcc/intro_to_pandas.ipynb)\n",
        "- [Tensorflow concepts](/notebooks/mlcc/tensorflow_programming_concepts.ipynb)\n",
        "- [First steps with TensorFlow](/notebooks/mlcc/first_steps_with_tensor_flow.ipynb)\n",
        "- [Intro to neural nets](/notebooks/mlcc/intro_to_neural_nets.ipynb)\n",
        "- [Intro to sparse data and embeddings](/notebooks/mlcc/intro_to_sparse_data_and_embeddings.ipynb)\n",
        "\n",
        "### Using Accelerated Hardware\n",
        "- [TensorFlow with GPUs](/notebooks/gpu.ipynb)\n",
        "- [TensorFlow with TPUs](/notebooks/tpu.ipynb)"
      ]
    },
    {
      "cell_type": "markdown",
      "metadata": {
        "colab_type": "text",
        "id": "P-H6Lw1vyNNd"
      },
      "source": [
        "## Machine Learning Examples: Seedbank\n",
        "\n",
        "To see end-to-end examples of the interactive machine learning analyses that Colaboratory makes possible, check out the [Seedbank](https://research.google.com/seedbank/) project.\n",
        "\n",
        "A few featured examples:\n",
        "\n",
        "- [Neural Style Transfer](https://research.google.com/seedbank/seed/neural_style_transfer_with_tfkeras): Use deep learning to transfer style between images.\n",
        "- [EZ NSynth](https://research.google.com/seedbank/seed/ez_nsynth): Synthesize audio with WaveNet auto-encoders.\n",
        "- [Fashion MNIST with Keras and TPUs](https://research.google.com/seedbank/seed/fashion_mnist_with_keras_and_tpus): Classify fashion-related images with deep learning.\n",
        "- [DeepDream](https://research.google.com/seedbank/seed/deepdream): Produce DeepDream images from your own photos.\n",
        "- [Convolutional VAE](https://research.google.com/seedbank/seed/convolutional_vae): Create a generative model of handwritten digits."
      ]
    },
    {
      "cell_type": "code",
      "metadata": {
        "id": "isVnBh4M8YxH",
        "colab_type": "code",
        "colab": {}
      },
      "source": [
        "%matplotlib inline\n",
        "\n",
        "import folium\n",
        "import pandas as pd\n",
        "import seaborn as sns\n",
        "import numpy as np\n",
        "import matplotlib.pyplot as plt\n",
        "from scipy import stats\n",
        "from sklearn.cluster import KMeans\n",
        "from folium.plugins import MarkerCluster\n"
      ],
      "execution_count": 0,
      "outputs": []
    },
    {
      "cell_type": "code",
      "metadata": {
        "id": "a3m3vSHn9A58",
        "colab_type": "code",
        "colab": {}
      },
      "source": [
        "dataset_path1 = 'new14-15.csv'\n",
        "dataset_path2 = 'new16-17.csv'\n",
        "dataset_path3 = 'new18-19.csv'\n",
        "\n",
        "c0104 = pd.read_csv(dataset_path1, engine='python')\n",
        "c0507 = pd.read_csv(dataset_path2, engine='python')\n",
        "c0811 = pd.read_csv(dataset_path3, engine='python')"
      ],
      "execution_count": 0,
      "outputs": []
    },
    {
      "cell_type": "code",
      "metadata": {
        "id": "I1RgDoWg91Uz",
        "colab_type": "code",
        "colab": {
          "base_uri": "https://localhost:8080/",
          "height": 462
        },
        "outputId": "1f30d743-af7d-4ce1-ee8a-32100be2f414"
      },
      "source": [
        "c0104smooth=c0104.dropna(axis=1)\n",
        "c0104smooth.isna().sum()\n",
        "c0104smooth=c0104smooth[1:]\n",
        "print(len(c0104smooth))\n",
        "c0104.describe().to_csv(\"Clean_data_01_04.csv\")\n",
        "c0104smooth.head()\n"
      ],
      "execution_count": 3,
      "outputs": [
        {
          "output_type": "stream",
          "text": [
            "48\n"
          ],
          "name": "stdout"
        },
        {
          "output_type": "execute_result",
          "data": {
            "text/html": [
              "<div>\n",
              "<style scoped>\n",
              "    .dataframe tbody tr th:only-of-type {\n",
              "        vertical-align: middle;\n",
              "    }\n",
              "\n",
              "    .dataframe tbody tr th {\n",
              "        vertical-align: top;\n",
              "    }\n",
              "\n",
              "    .dataframe thead th {\n",
              "        text-align: right;\n",
              "    }\n",
              "</style>\n",
              "<table border=\"1\" class=\"dataframe\">\n",
              "  <thead>\n",
              "    <tr style=\"text-align: right;\">\n",
              "      <th></th>\n",
              "      <th>crimecode</th>\n",
              "      <th>eventid</th>\n",
              "      <th>occ_date</th>\n",
              "      <th>occ_time</th>\n",
              "      <th>occ_day</th>\n",
              "      <th>occ_month</th>\n",
              "      <th>occ_week</th>\n",
              "      <th>occ_hour</th>\n",
              "      <th>occ_year</th>\n",
              "      <th>location</th>\n",
              "      <th>offence</th>\n",
              "      <th>weapons used</th>\n",
              "      <th>lat</th>\n",
              "      <th>long</th>\n",
              "    </tr>\n",
              "  </thead>\n",
              "  <tbody>\n",
              "    <tr>\n",
              "      <th>1</th>\n",
              "      <td>4676906</td>\n",
              "      <td>12278933</td>\n",
              "      <td>10-05-2014</td>\n",
              "      <td>08:55</td>\n",
              "      <td>5</td>\n",
              "      <td>October</td>\n",
              "      <td>Thursday</td>\n",
              "      <td>1</td>\n",
              "      <td>2014</td>\n",
              "      <td>RESIDENCE</td>\n",
              "      <td>robbery and murder</td>\n",
              "      <td>riffle</td>\n",
              "      <td>43.785351</td>\n",
              "      <td>-79.278572</td>\n",
              "    </tr>\n",
              "    <tr>\n",
              "      <th>2</th>\n",
              "      <td>4789749</td>\n",
              "      <td>12402220</td>\n",
              "      <td>10/17/2014</td>\n",
              "      <td>15:03</td>\n",
              "      <td>17</td>\n",
              "      <td>October</td>\n",
              "      <td>Sunday</td>\n",
              "      <td>6</td>\n",
              "      <td>2014</td>\n",
              "      <td>RESIDENCE</td>\n",
              "      <td>robbery and murder</td>\n",
              "      <td>riffle</td>\n",
              "      <td>43.700970</td>\n",
              "      <td>-79.399261</td>\n",
              "    </tr>\n",
              "    <tr>\n",
              "      <th>3</th>\n",
              "      <td>4789765</td>\n",
              "      <td>12402058</td>\n",
              "      <td>10/17/2014</td>\n",
              "      <td>15:03</td>\n",
              "      <td>17</td>\n",
              "      <td>October</td>\n",
              "      <td>Sunday</td>\n",
              "      <td>20</td>\n",
              "      <td>2014</td>\n",
              "      <td>OTHER</td>\n",
              "      <td>robbery and murder</td>\n",
              "      <td>knife</td>\n",
              "      <td>43.739391</td>\n",
              "      <td>-79.513222</td>\n",
              "    </tr>\n",
              "    <tr>\n",
              "      <th>4</th>\n",
              "      <td>4677901</td>\n",
              "      <td>12275615</td>\n",
              "      <td>10/15/2014</td>\n",
              "      <td>08:55</td>\n",
              "      <td>15</td>\n",
              "      <td>October</td>\n",
              "      <td>Sunday</td>\n",
              "      <td>18</td>\n",
              "      <td>2014</td>\n",
              "      <td>RESIDENCE</td>\n",
              "      <td>robbery and murder</td>\n",
              "      <td>firearms</td>\n",
              "      <td>43.720444</td>\n",
              "      <td>-79.551483</td>\n",
              "    </tr>\n",
              "    <tr>\n",
              "      <th>5</th>\n",
              "      <td>4838048</td>\n",
              "      <td>12440266</td>\n",
              "      <td>9/17/2014</td>\n",
              "      <td>15:03</td>\n",
              "      <td>17</td>\n",
              "      <td>September</td>\n",
              "      <td>Tuesday</td>\n",
              "      <td>1</td>\n",
              "      <td>2014</td>\n",
              "      <td>APARTMENT</td>\n",
              "      <td>robbery and murder and muder</td>\n",
              "      <td>iron rods</td>\n",
              "      <td>43.659100</td>\n",
              "      <td>-79.382118</td>\n",
              "    </tr>\n",
              "  </tbody>\n",
              "</table>\n",
              "</div>"
            ],
            "text/plain": [
              "   crimecode   eventid    occ_date  ... weapons used        lat       long\n",
              "1    4676906  12278933  10-05-2014  ...       riffle  43.785351 -79.278572\n",
              "2    4789749  12402220  10/17/2014  ...       riffle  43.700970 -79.399261\n",
              "3    4789765  12402058  10/17/2014  ...        knife  43.739391 -79.513222\n",
              "4    4677901  12275615  10/15/2014  ...     firearms  43.720444 -79.551483\n",
              "5    4838048  12440266   9/17/2014  ...    iron rods  43.659100 -79.382118\n",
              "\n",
              "[5 rows x 14 columns]"
            ]
          },
          "metadata": {
            "tags": []
          },
          "execution_count": 3
        }
      ]
    },
    {
      "cell_type": "code",
      "metadata": {
        "id": "YeeYvrhc97Vp",
        "colab_type": "code",
        "colab": {
          "base_uri": "https://localhost:8080/",
          "height": 530
        },
        "outputId": "fb07204f-15a4-4007-cf8e-b9ca93b0029c"
      },
      "source": [
        "c0507smooth=c0507.dropna(axis=1)\n",
        "c0507smooth.isna().sum()\n",
        "c0507smooth=c0507smooth[1:]\n",
        "print(len(c0507smooth))\n",
        "c0507.describe().to_csv(\"Clean_data_05_07.csv\")\n",
        "c0507smooth.head()\n"
      ],
      "execution_count": 4,
      "outputs": [
        {
          "output_type": "stream",
          "text": [
            "48\n"
          ],
          "name": "stdout"
        },
        {
          "output_type": "execute_result",
          "data": {
            "text/html": [
              "<div>\n",
              "<style scoped>\n",
              "    .dataframe tbody tr th:only-of-type {\n",
              "        vertical-align: middle;\n",
              "    }\n",
              "\n",
              "    .dataframe tbody tr th {\n",
              "        vertical-align: top;\n",
              "    }\n",
              "\n",
              "    .dataframe thead th {\n",
              "        text-align: right;\n",
              "    }\n",
              "</style>\n",
              "<table border=\"1\" class=\"dataframe\">\n",
              "  <thead>\n",
              "    <tr style=\"text-align: right;\">\n",
              "      <th></th>\n",
              "      <th>crimecode</th>\n",
              "      <th>eventid</th>\n",
              "      <th>occ_date</th>\n",
              "      <th>occ_time</th>\n",
              "      <th>occ_day</th>\n",
              "      <th>occ_month</th>\n",
              "      <th>occ_week</th>\n",
              "      <th>occ_hour</th>\n",
              "      <th>occ_year</th>\n",
              "      <th>location</th>\n",
              "      <th>offence</th>\n",
              "      <th>weapons used</th>\n",
              "      <th>lat</th>\n",
              "      <th>long</th>\n",
              "    </tr>\n",
              "  </thead>\n",
              "  <tbody>\n",
              "    <tr>\n",
              "      <th>1</th>\n",
              "      <td>4676906</td>\n",
              "      <td>12278933</td>\n",
              "      <td>10-05-2016</td>\n",
              "      <td>08:55</td>\n",
              "      <td>5</td>\n",
              "      <td>October</td>\n",
              "      <td>Thursday</td>\n",
              "      <td>1</td>\n",
              "      <td>2016</td>\n",
              "      <td>RESIDENCE</td>\n",
              "      <td>robbery and murder</td>\n",
              "      <td>riffle</td>\n",
              "      <td>43.785351</td>\n",
              "      <td>-79.278572</td>\n",
              "    </tr>\n",
              "    <tr>\n",
              "      <th>2</th>\n",
              "      <td>4789749</td>\n",
              "      <td>12402220</td>\n",
              "      <td>10/17/2016</td>\n",
              "      <td>15:03</td>\n",
              "      <td>17</td>\n",
              "      <td>October</td>\n",
              "      <td>Sunday</td>\n",
              "      <td>6</td>\n",
              "      <td>2016</td>\n",
              "      <td>RESIDENCE</td>\n",
              "      <td>robbery and murder and murder</td>\n",
              "      <td>riffle</td>\n",
              "      <td>43.700970</td>\n",
              "      <td>-79.399261</td>\n",
              "    </tr>\n",
              "    <tr>\n",
              "      <th>3</th>\n",
              "      <td>4789765</td>\n",
              "      <td>12402058</td>\n",
              "      <td>10/17/2016</td>\n",
              "      <td>15:03</td>\n",
              "      <td>17</td>\n",
              "      <td>October</td>\n",
              "      <td>Sunday</td>\n",
              "      <td>20</td>\n",
              "      <td>2016</td>\n",
              "      <td>OTHER</td>\n",
              "      <td>robbery and murder</td>\n",
              "      <td>knife</td>\n",
              "      <td>43.739391</td>\n",
              "      <td>-79.513222</td>\n",
              "    </tr>\n",
              "    <tr>\n",
              "      <th>4</th>\n",
              "      <td>4677901</td>\n",
              "      <td>12275615</td>\n",
              "      <td>10/15/2016</td>\n",
              "      <td>08:55</td>\n",
              "      <td>15</td>\n",
              "      <td>October</td>\n",
              "      <td>Sunday</td>\n",
              "      <td>18</td>\n",
              "      <td>2016</td>\n",
              "      <td>RESIDENCE</td>\n",
              "      <td>robbery and murder and murder</td>\n",
              "      <td>firearms</td>\n",
              "      <td>43.720444</td>\n",
              "      <td>-79.551483</td>\n",
              "    </tr>\n",
              "    <tr>\n",
              "      <th>5</th>\n",
              "      <td>4838048</td>\n",
              "      <td>12440266</td>\n",
              "      <td>9/17/2016</td>\n",
              "      <td>15:03</td>\n",
              "      <td>17</td>\n",
              "      <td>September</td>\n",
              "      <td>Tuesday</td>\n",
              "      <td>1</td>\n",
              "      <td>2016</td>\n",
              "      <td>APARTMENT</td>\n",
              "      <td>robbery and murder and muder</td>\n",
              "      <td>iron rods</td>\n",
              "      <td>43.659100</td>\n",
              "      <td>-79.382118</td>\n",
              "    </tr>\n",
              "  </tbody>\n",
              "</table>\n",
              "</div>"
            ],
            "text/plain": [
              "   crimecode   eventid    occ_date  ... weapons used        lat       long\n",
              "1    4676906  12278933  10-05-2016  ...       riffle  43.785351 -79.278572\n",
              "2    4789749  12402220  10/17/2016  ...       riffle  43.700970 -79.399261\n",
              "3    4789765  12402058  10/17/2016  ...        knife  43.739391 -79.513222\n",
              "4    4677901  12275615  10/15/2016  ...     firearms  43.720444 -79.551483\n",
              "5    4838048  12440266   9/17/2016  ...    iron rods  43.659100 -79.382118\n",
              "\n",
              "[5 rows x 14 columns]"
            ]
          },
          "metadata": {
            "tags": []
          },
          "execution_count": 4
        }
      ]
    },
    {
      "cell_type": "code",
      "metadata": {
        "id": "lPFGUzML-B3a",
        "colab_type": "code",
        "colab": {
          "base_uri": "https://localhost:8080/",
          "height": 428
        },
        "outputId": "718521c8-ff1b-439c-ab23-49f08b626a56"
      },
      "source": [
        "c0811smooth=c0811.dropna(axis=1)\n",
        "c0811smooth.isna().sum()\n",
        "c0811smooth=c0811smooth[1:]\n",
        "print(len(c0811smooth))\n",
        "c0811.describe().to_csv(\"Clean_data_08_11.csv\")\n",
        "c0811smooth.head()\n"
      ],
      "execution_count": 5,
      "outputs": [
        {
          "output_type": "stream",
          "text": [
            "48\n"
          ],
          "name": "stdout"
        },
        {
          "output_type": "execute_result",
          "data": {
            "text/html": [
              "<div>\n",
              "<style scoped>\n",
              "    .dataframe tbody tr th:only-of-type {\n",
              "        vertical-align: middle;\n",
              "    }\n",
              "\n",
              "    .dataframe tbody tr th {\n",
              "        vertical-align: top;\n",
              "    }\n",
              "\n",
              "    .dataframe thead th {\n",
              "        text-align: right;\n",
              "    }\n",
              "</style>\n",
              "<table border=\"1\" class=\"dataframe\">\n",
              "  <thead>\n",
              "    <tr style=\"text-align: right;\">\n",
              "      <th></th>\n",
              "      <th>crimecode</th>\n",
              "      <th>eventid</th>\n",
              "      <th>occ_date</th>\n",
              "      <th>occ_time</th>\n",
              "      <th>occ_day</th>\n",
              "      <th>occ_month</th>\n",
              "      <th>occ_week</th>\n",
              "      <th>occ_hour</th>\n",
              "      <th>occ_year</th>\n",
              "      <th>location</th>\n",
              "      <th>offence</th>\n",
              "      <th>weapons used</th>\n",
              "      <th>lat</th>\n",
              "      <th>long</th>\n",
              "    </tr>\n",
              "  </thead>\n",
              "  <tbody>\n",
              "    <tr>\n",
              "      <th>1</th>\n",
              "      <td>4754282</td>\n",
              "      <td>12364407</td>\n",
              "      <td>09-01-2018</td>\n",
              "      <td>00:01</td>\n",
              "      <td>1</td>\n",
              "      <td>September</td>\n",
              "      <td>Friday</td>\n",
              "      <td>13</td>\n",
              "      <td>2018</td>\n",
              "      <td>APARTMENT</td>\n",
              "      <td>robbery and murder</td>\n",
              "      <td>knife</td>\n",
              "      <td>43.388555</td>\n",
              "      <td>-71.095407</td>\n",
              "    </tr>\n",
              "    <tr>\n",
              "      <th>2</th>\n",
              "      <td>4754301</td>\n",
              "      <td>12334104</td>\n",
              "      <td>4/14/2018</td>\n",
              "      <td>12:00</td>\n",
              "      <td>14</td>\n",
              "      <td>April</td>\n",
              "      <td>Monday</td>\n",
              "      <td>13</td>\n",
              "      <td>2018</td>\n",
              "      <td>APARTMENT</td>\n",
              "      <td>robbery and murder</td>\n",
              "      <td>riffle</td>\n",
              "      <td>43.381566</td>\n",
              "      <td>-71.094564</td>\n",
              "    </tr>\n",
              "    <tr>\n",
              "      <th>3</th>\n",
              "      <td>4874914</td>\n",
              "      <td>12485733</td>\n",
              "      <td>2/15/2018</td>\n",
              "      <td>00:01</td>\n",
              "      <td>15</td>\n",
              "      <td>February</td>\n",
              "      <td>Tuesday</td>\n",
              "      <td>11</td>\n",
              "      <td>2018</td>\n",
              "      <td>RESIDENCE</td>\n",
              "      <td>robbery and murder</td>\n",
              "      <td>riffle</td>\n",
              "      <td>43.388802</td>\n",
              "      <td>-71.095647</td>\n",
              "    </tr>\n",
              "    <tr>\n",
              "      <th>4</th>\n",
              "      <td>4875208</td>\n",
              "      <td>12481496</td>\n",
              "      <td>10/24/2018</td>\n",
              "      <td>10:00</td>\n",
              "      <td>24</td>\n",
              "      <td>October</td>\n",
              "      <td>Friday</td>\n",
              "      <td>11</td>\n",
              "      <td>2018</td>\n",
              "      <td>RESIDENCE</td>\n",
              "      <td>robbery and murder</td>\n",
              "      <td>firearms</td>\n",
              "      <td>43.379115</td>\n",
              "      <td>-71.101372</td>\n",
              "    </tr>\n",
              "    <tr>\n",
              "      <th>5</th>\n",
              "      <td>4876027</td>\n",
              "      <td>12489470</td>\n",
              "      <td>9/25/2018</td>\n",
              "      <td>00:00</td>\n",
              "      <td>25</td>\n",
              "      <td>September</td>\n",
              "      <td>Tuesday</td>\n",
              "      <td>11</td>\n",
              "      <td>2018</td>\n",
              "      <td>APARTMENT</td>\n",
              "      <td>robbery and murder</td>\n",
              "      <td>firearms</td>\n",
              "      <td>43.396130</td>\n",
              "      <td>-71.115496</td>\n",
              "    </tr>\n",
              "  </tbody>\n",
              "</table>\n",
              "</div>"
            ],
            "text/plain": [
              "   crimecode   eventid    occ_date  ... weapons used        lat       long\n",
              "1    4754282  12364407  09-01-2018  ...        knife  43.388555 -71.095407\n",
              "2    4754301  12334104   4/14/2018  ...       riffle  43.381566 -71.094564\n",
              "3    4874914  12485733   2/15/2018  ...       riffle  43.388802 -71.095647\n",
              "4    4875208  12481496  10/24/2018  ...     firearms  43.379115 -71.101372\n",
              "5    4876027  12489470   9/25/2018  ...     firearms  43.396130 -71.115496\n",
              "\n",
              "[5 rows x 14 columns]"
            ]
          },
          "metadata": {
            "tags": []
          },
          "execution_count": 5
        }
      ]
    },
    {
      "cell_type": "code",
      "metadata": {
        "id": "7sy97lYr-HE3",
        "colab_type": "code",
        "colab": {
          "base_uri": "https://localhost:8080/",
          "height": 445
        },
        "outputId": "13be5acb-a704-4982-a15f-2a751a95ca15"
      },
      "source": [
        "c1=c0104smooth.columns.tolist()\n",
        "c0104smooth=c0104smooth[c1[1:]]\n",
        "c0104smooth.head()\n"
      ],
      "execution_count": 6,
      "outputs": [
        {
          "output_type": "execute_result",
          "data": {
            "text/html": [
              "<div>\n",
              "<style scoped>\n",
              "    .dataframe tbody tr th:only-of-type {\n",
              "        vertical-align: middle;\n",
              "    }\n",
              "\n",
              "    .dataframe tbody tr th {\n",
              "        vertical-align: top;\n",
              "    }\n",
              "\n",
              "    .dataframe thead th {\n",
              "        text-align: right;\n",
              "    }\n",
              "</style>\n",
              "<table border=\"1\" class=\"dataframe\">\n",
              "  <thead>\n",
              "    <tr style=\"text-align: right;\">\n",
              "      <th></th>\n",
              "      <th>eventid</th>\n",
              "      <th>occ_date</th>\n",
              "      <th>occ_time</th>\n",
              "      <th>occ_day</th>\n",
              "      <th>occ_month</th>\n",
              "      <th>occ_week</th>\n",
              "      <th>occ_hour</th>\n",
              "      <th>occ_year</th>\n",
              "      <th>location</th>\n",
              "      <th>offence</th>\n",
              "      <th>weapons used</th>\n",
              "      <th>lat</th>\n",
              "      <th>long</th>\n",
              "    </tr>\n",
              "  </thead>\n",
              "  <tbody>\n",
              "    <tr>\n",
              "      <th>1</th>\n",
              "      <td>12278933</td>\n",
              "      <td>10-05-2014</td>\n",
              "      <td>08:55</td>\n",
              "      <td>5</td>\n",
              "      <td>October</td>\n",
              "      <td>Thursday</td>\n",
              "      <td>1</td>\n",
              "      <td>2014</td>\n",
              "      <td>RESIDENCE</td>\n",
              "      <td>robbery and murder</td>\n",
              "      <td>riffle</td>\n",
              "      <td>43.785351</td>\n",
              "      <td>-79.278572</td>\n",
              "    </tr>\n",
              "    <tr>\n",
              "      <th>2</th>\n",
              "      <td>12402220</td>\n",
              "      <td>10/17/2014</td>\n",
              "      <td>15:03</td>\n",
              "      <td>17</td>\n",
              "      <td>October</td>\n",
              "      <td>Sunday</td>\n",
              "      <td>6</td>\n",
              "      <td>2014</td>\n",
              "      <td>RESIDENCE</td>\n",
              "      <td>robbery and murder</td>\n",
              "      <td>riffle</td>\n",
              "      <td>43.700970</td>\n",
              "      <td>-79.399261</td>\n",
              "    </tr>\n",
              "    <tr>\n",
              "      <th>3</th>\n",
              "      <td>12402058</td>\n",
              "      <td>10/17/2014</td>\n",
              "      <td>15:03</td>\n",
              "      <td>17</td>\n",
              "      <td>October</td>\n",
              "      <td>Sunday</td>\n",
              "      <td>20</td>\n",
              "      <td>2014</td>\n",
              "      <td>OTHER</td>\n",
              "      <td>robbery and murder</td>\n",
              "      <td>knife</td>\n",
              "      <td>43.739391</td>\n",
              "      <td>-79.513222</td>\n",
              "    </tr>\n",
              "    <tr>\n",
              "      <th>4</th>\n",
              "      <td>12275615</td>\n",
              "      <td>10/15/2014</td>\n",
              "      <td>08:55</td>\n",
              "      <td>15</td>\n",
              "      <td>October</td>\n",
              "      <td>Sunday</td>\n",
              "      <td>18</td>\n",
              "      <td>2014</td>\n",
              "      <td>RESIDENCE</td>\n",
              "      <td>robbery and murder</td>\n",
              "      <td>firearms</td>\n",
              "      <td>43.720444</td>\n",
              "      <td>-79.551483</td>\n",
              "    </tr>\n",
              "    <tr>\n",
              "      <th>5</th>\n",
              "      <td>12440266</td>\n",
              "      <td>9/17/2014</td>\n",
              "      <td>15:03</td>\n",
              "      <td>17</td>\n",
              "      <td>September</td>\n",
              "      <td>Tuesday</td>\n",
              "      <td>1</td>\n",
              "      <td>2014</td>\n",
              "      <td>APARTMENT</td>\n",
              "      <td>robbery and murder and muder</td>\n",
              "      <td>iron rods</td>\n",
              "      <td>43.659100</td>\n",
              "      <td>-79.382118</td>\n",
              "    </tr>\n",
              "  </tbody>\n",
              "</table>\n",
              "</div>"
            ],
            "text/plain": [
              "    eventid    occ_date occ_time  ...  weapons used        lat       long\n",
              "1  12278933  10-05-2014    08:55  ...        riffle  43.785351 -79.278572\n",
              "2  12402220  10/17/2014    15:03  ...        riffle  43.700970 -79.399261\n",
              "3  12402058  10/17/2014    15:03  ...         knife  43.739391 -79.513222\n",
              "4  12275615  10/15/2014    08:55  ...      firearms  43.720444 -79.551483\n",
              "5  12440266   9/17/2014    15:03  ...     iron rods  43.659100 -79.382118\n",
              "\n",
              "[5 rows x 13 columns]"
            ]
          },
          "metadata": {
            "tags": []
          },
          "execution_count": 6
        }
      ]
    },
    {
      "cell_type": "code",
      "metadata": {
        "id": "WB2vhza7-MCr",
        "colab_type": "code",
        "colab": {
          "base_uri": "https://localhost:8080/",
          "height": 513
        },
        "outputId": "08d32ba9-b000-47a4-a1ed-307f92233b57"
      },
      "source": [
        "c2=c0507smooth.columns.tolist()\n",
        "c0507smooth=c0507smooth[c2[1:]]\n",
        "c0507smooth.head()\n"
      ],
      "execution_count": 7,
      "outputs": [
        {
          "output_type": "execute_result",
          "data": {
            "text/html": [
              "<div>\n",
              "<style scoped>\n",
              "    .dataframe tbody tr th:only-of-type {\n",
              "        vertical-align: middle;\n",
              "    }\n",
              "\n",
              "    .dataframe tbody tr th {\n",
              "        vertical-align: top;\n",
              "    }\n",
              "\n",
              "    .dataframe thead th {\n",
              "        text-align: right;\n",
              "    }\n",
              "</style>\n",
              "<table border=\"1\" class=\"dataframe\">\n",
              "  <thead>\n",
              "    <tr style=\"text-align: right;\">\n",
              "      <th></th>\n",
              "      <th>eventid</th>\n",
              "      <th>occ_date</th>\n",
              "      <th>occ_time</th>\n",
              "      <th>occ_day</th>\n",
              "      <th>occ_month</th>\n",
              "      <th>occ_week</th>\n",
              "      <th>occ_hour</th>\n",
              "      <th>occ_year</th>\n",
              "      <th>location</th>\n",
              "      <th>offence</th>\n",
              "      <th>weapons used</th>\n",
              "      <th>lat</th>\n",
              "      <th>long</th>\n",
              "    </tr>\n",
              "  </thead>\n",
              "  <tbody>\n",
              "    <tr>\n",
              "      <th>1</th>\n",
              "      <td>12278933</td>\n",
              "      <td>10-05-2016</td>\n",
              "      <td>08:55</td>\n",
              "      <td>5</td>\n",
              "      <td>October</td>\n",
              "      <td>Thursday</td>\n",
              "      <td>1</td>\n",
              "      <td>2016</td>\n",
              "      <td>RESIDENCE</td>\n",
              "      <td>robbery and murder</td>\n",
              "      <td>riffle</td>\n",
              "      <td>43.785351</td>\n",
              "      <td>-79.278572</td>\n",
              "    </tr>\n",
              "    <tr>\n",
              "      <th>2</th>\n",
              "      <td>12402220</td>\n",
              "      <td>10/17/2016</td>\n",
              "      <td>15:03</td>\n",
              "      <td>17</td>\n",
              "      <td>October</td>\n",
              "      <td>Sunday</td>\n",
              "      <td>6</td>\n",
              "      <td>2016</td>\n",
              "      <td>RESIDENCE</td>\n",
              "      <td>robbery and murder and murder</td>\n",
              "      <td>riffle</td>\n",
              "      <td>43.700970</td>\n",
              "      <td>-79.399261</td>\n",
              "    </tr>\n",
              "    <tr>\n",
              "      <th>3</th>\n",
              "      <td>12402058</td>\n",
              "      <td>10/17/2016</td>\n",
              "      <td>15:03</td>\n",
              "      <td>17</td>\n",
              "      <td>October</td>\n",
              "      <td>Sunday</td>\n",
              "      <td>20</td>\n",
              "      <td>2016</td>\n",
              "      <td>OTHER</td>\n",
              "      <td>robbery and murder</td>\n",
              "      <td>knife</td>\n",
              "      <td>43.739391</td>\n",
              "      <td>-79.513222</td>\n",
              "    </tr>\n",
              "    <tr>\n",
              "      <th>4</th>\n",
              "      <td>12275615</td>\n",
              "      <td>10/15/2016</td>\n",
              "      <td>08:55</td>\n",
              "      <td>15</td>\n",
              "      <td>October</td>\n",
              "      <td>Sunday</td>\n",
              "      <td>18</td>\n",
              "      <td>2016</td>\n",
              "      <td>RESIDENCE</td>\n",
              "      <td>robbery and murder and murder</td>\n",
              "      <td>firearms</td>\n",
              "      <td>43.720444</td>\n",
              "      <td>-79.551483</td>\n",
              "    </tr>\n",
              "    <tr>\n",
              "      <th>5</th>\n",
              "      <td>12440266</td>\n",
              "      <td>9/17/2016</td>\n",
              "      <td>15:03</td>\n",
              "      <td>17</td>\n",
              "      <td>September</td>\n",
              "      <td>Tuesday</td>\n",
              "      <td>1</td>\n",
              "      <td>2016</td>\n",
              "      <td>APARTMENT</td>\n",
              "      <td>robbery and murder and muder</td>\n",
              "      <td>iron rods</td>\n",
              "      <td>43.659100</td>\n",
              "      <td>-79.382118</td>\n",
              "    </tr>\n",
              "  </tbody>\n",
              "</table>\n",
              "</div>"
            ],
            "text/plain": [
              "    eventid    occ_date occ_time  ...  weapons used        lat       long\n",
              "1  12278933  10-05-2016    08:55  ...        riffle  43.785351 -79.278572\n",
              "2  12402220  10/17/2016    15:03  ...        riffle  43.700970 -79.399261\n",
              "3  12402058  10/17/2016    15:03  ...         knife  43.739391 -79.513222\n",
              "4  12275615  10/15/2016    08:55  ...      firearms  43.720444 -79.551483\n",
              "5  12440266   9/17/2016    15:03  ...     iron rods  43.659100 -79.382118\n",
              "\n",
              "[5 rows x 13 columns]"
            ]
          },
          "metadata": {
            "tags": []
          },
          "execution_count": 7
        }
      ]
    },
    {
      "cell_type": "code",
      "metadata": {
        "id": "IC1vdOGa-QEL",
        "colab_type": "code",
        "colab": {
          "base_uri": "https://localhost:8080/",
          "height": 411
        },
        "outputId": "8efd5ae4-c049-4224-93b7-981d29c3bc1b"
      },
      "source": [
        "c3=c0811smooth.columns.tolist()\n",
        "c0811smooth=c0811smooth[c3[1:]]\n",
        "c0811smooth.head()\n"
      ],
      "execution_count": 8,
      "outputs": [
        {
          "output_type": "execute_result",
          "data": {
            "text/html": [
              "<div>\n",
              "<style scoped>\n",
              "    .dataframe tbody tr th:only-of-type {\n",
              "        vertical-align: middle;\n",
              "    }\n",
              "\n",
              "    .dataframe tbody tr th {\n",
              "        vertical-align: top;\n",
              "    }\n",
              "\n",
              "    .dataframe thead th {\n",
              "        text-align: right;\n",
              "    }\n",
              "</style>\n",
              "<table border=\"1\" class=\"dataframe\">\n",
              "  <thead>\n",
              "    <tr style=\"text-align: right;\">\n",
              "      <th></th>\n",
              "      <th>eventid</th>\n",
              "      <th>occ_date</th>\n",
              "      <th>occ_time</th>\n",
              "      <th>occ_day</th>\n",
              "      <th>occ_month</th>\n",
              "      <th>occ_week</th>\n",
              "      <th>occ_hour</th>\n",
              "      <th>occ_year</th>\n",
              "      <th>location</th>\n",
              "      <th>offence</th>\n",
              "      <th>weapons used</th>\n",
              "      <th>lat</th>\n",
              "      <th>long</th>\n",
              "    </tr>\n",
              "  </thead>\n",
              "  <tbody>\n",
              "    <tr>\n",
              "      <th>1</th>\n",
              "      <td>12364407</td>\n",
              "      <td>09-01-2018</td>\n",
              "      <td>00:01</td>\n",
              "      <td>1</td>\n",
              "      <td>September</td>\n",
              "      <td>Friday</td>\n",
              "      <td>13</td>\n",
              "      <td>2018</td>\n",
              "      <td>APARTMENT</td>\n",
              "      <td>robbery and murder</td>\n",
              "      <td>knife</td>\n",
              "      <td>43.388555</td>\n",
              "      <td>-71.095407</td>\n",
              "    </tr>\n",
              "    <tr>\n",
              "      <th>2</th>\n",
              "      <td>12334104</td>\n",
              "      <td>4/14/2018</td>\n",
              "      <td>12:00</td>\n",
              "      <td>14</td>\n",
              "      <td>April</td>\n",
              "      <td>Monday</td>\n",
              "      <td>13</td>\n",
              "      <td>2018</td>\n",
              "      <td>APARTMENT</td>\n",
              "      <td>robbery and murder</td>\n",
              "      <td>riffle</td>\n",
              "      <td>43.381566</td>\n",
              "      <td>-71.094564</td>\n",
              "    </tr>\n",
              "    <tr>\n",
              "      <th>3</th>\n",
              "      <td>12485733</td>\n",
              "      <td>2/15/2018</td>\n",
              "      <td>00:01</td>\n",
              "      <td>15</td>\n",
              "      <td>February</td>\n",
              "      <td>Tuesday</td>\n",
              "      <td>11</td>\n",
              "      <td>2018</td>\n",
              "      <td>RESIDENCE</td>\n",
              "      <td>robbery and murder</td>\n",
              "      <td>riffle</td>\n",
              "      <td>43.388802</td>\n",
              "      <td>-71.095647</td>\n",
              "    </tr>\n",
              "    <tr>\n",
              "      <th>4</th>\n",
              "      <td>12481496</td>\n",
              "      <td>10/24/2018</td>\n",
              "      <td>10:00</td>\n",
              "      <td>24</td>\n",
              "      <td>October</td>\n",
              "      <td>Friday</td>\n",
              "      <td>11</td>\n",
              "      <td>2018</td>\n",
              "      <td>RESIDENCE</td>\n",
              "      <td>robbery and murder</td>\n",
              "      <td>firearms</td>\n",
              "      <td>43.379115</td>\n",
              "      <td>-71.101372</td>\n",
              "    </tr>\n",
              "    <tr>\n",
              "      <th>5</th>\n",
              "      <td>12489470</td>\n",
              "      <td>9/25/2018</td>\n",
              "      <td>00:00</td>\n",
              "      <td>25</td>\n",
              "      <td>September</td>\n",
              "      <td>Tuesday</td>\n",
              "      <td>11</td>\n",
              "      <td>2018</td>\n",
              "      <td>APARTMENT</td>\n",
              "      <td>robbery and murder</td>\n",
              "      <td>firearms</td>\n",
              "      <td>43.396130</td>\n",
              "      <td>-71.115496</td>\n",
              "    </tr>\n",
              "  </tbody>\n",
              "</table>\n",
              "</div>"
            ],
            "text/plain": [
              "    eventid    occ_date occ_time  ...  weapons used        lat       long\n",
              "1  12364407  09-01-2018    00:01  ...         knife  43.388555 -71.095407\n",
              "2  12334104   4/14/2018    12:00  ...        riffle  43.381566 -71.094564\n",
              "3  12485733   2/15/2018    00:01  ...        riffle  43.388802 -71.095647\n",
              "4  12481496  10/24/2018    10:00  ...      firearms  43.379115 -71.101372\n",
              "5  12489470   9/25/2018    00:00  ...      firearms  43.396130 -71.115496\n",
              "\n",
              "[5 rows x 13 columns]"
            ]
          },
          "metadata": {
            "tags": []
          },
          "execution_count": 8
        }
      ]
    },
    {
      "cell_type": "code",
      "metadata": {
        "id": "TWp_fCpD-TtL",
        "colab_type": "code",
        "colab": {
          "base_uri": "https://localhost:8080/",
          "height": 68
        },
        "outputId": "ba3872a8-3d5e-49b9-feea-1bd76053e434"
      },
      "source": [
        "c0104arr=np.array(c0104smooth['occ_week'])\n",
        "c0104u=np.unique(c0104arr)\n",
        "c0104key=np.unique(np.array(np.array(c0104smooth['occ_week'])))\n",
        "c0104val=np.array(c0104smooth['occ_week'].value_counts().values)\n",
        "print(c0104u[:8])\n",
        "print(c0104val[:8])\n"
      ],
      "execution_count": 9,
      "outputs": [
        {
          "output_type": "stream",
          "text": [
            "['Friday    ' 'Monday    ' 'Saturday  ' 'Sunday    ' 'Thursday  '\n",
            " 'Tuesday   ' 'Wednesday ']\n",
            "[11  8  8  7  6  5  3]\n"
          ],
          "name": "stdout"
        }
      ]
    },
    {
      "cell_type": "code",
      "metadata": {
        "id": "lvxubOXm-eOl",
        "colab_type": "code",
        "colab": {
          "base_uri": "https://localhost:8080/",
          "height": 505
        },
        "outputId": "0cf2a80b-3866-48b7-9c16-09d581d5cd8d"
      },
      "source": [
        "color='cmykrgb'\n",
        "plt.figure(figsize=(20,7))\n",
        "plt.title(\"Crime Scenario of 2014-2015 (Max: {}={})\".format(c0104u[:8][0],c0104val[:8][0]),fontsize=20,color='m')\n",
        "plt.xlabel(\"week->\",fontsize=15,color='b')\n",
        "plt.ylabel(\"Crime Occured->\",fontsize=15,color='b')\n",
        "plt.grid()\n",
        "plt.bar(c0104u[:8],c0104val[:8],color=color,width=0.5)\n"
      ],
      "execution_count": 10,
      "outputs": [
        {
          "output_type": "execute_result",
          "data": {
            "text/plain": [
              "<BarContainer object of 7 artists>"
            ]
          },
          "metadata": {
            "tags": []
          },
          "execution_count": 10
        },
        {
          "output_type": "display_data",
          "data": {
            "image/png": "[encoded data removed]",
            "text/plain": [
              "<Figure size 1440x504 with 1 Axes>"
            ]
          },
          "metadata": {
            "tags": []
          }
        }
      ]
    },
    {
      "cell_type": "code",
      "metadata": {
        "id": "OeXajObx-mKw",
        "colab_type": "code",
        "colab": {
          "base_uri": "https://localhost:8080/",
          "height": 556
        },
        "outputId": "a4ab74ea-8c09-44ec-dfe2-66815bac8c4b"
      },
      "source": [
        "c0507arr=np.array(c0507smooth['occ_week'])\n",
        "c0507u=np.unique(c0507arr)\n",
        "c0507key=np.unique(np.array(np.array(c0507smooth['occ_week'])))\n",
        "c0507val=np.array(c0507smooth['occ_week'].value_counts().values)\n",
        "print(c0507u[:8])\n",
        "print(c0507val[:8])\n",
        "color='cmykrgb'\n",
        "plt.figure(figsize=(20,7))\n",
        "plt.title(\"Crime Scenario of 2016-2017 (Max: {}={})\".format(c0507u[:8][0],c0507val[:8][0]),fontsize=20,color='m')\n",
        "plt.xlabel(\"week->\",fontsize=15,color='b')\n",
        "plt.ylabel(\"Crime Occured->\",fontsize=15,color='b')\n",
        "plt.grid()\n",
        "plt.bar(c0507u[:8],c0507val[:8],color=color,width=0.5)"
      ],
      "execution_count": 11,
      "outputs": [
        {
          "output_type": "stream",
          "text": [
            "['Friday    ' 'Monday    ' 'Saturday  ' 'Sunday    ' 'Thursday  '\n",
            " 'Tuesday   ' 'Wednesday ']\n",
            "[11  8  8  7  6  5  3]\n"
          ],
          "name": "stdout"
        },
        {
          "output_type": "execute_result",
          "data": {
            "text/plain": [
              "<BarContainer object of 7 artists>"
            ]
          },
          "metadata": {
            "tags": []
          },
          "execution_count": 11
        },
        {
          "output_type": "display_data",
          "data": {
            "image/png": "[encoded data removed]",
            "text/plain": [
              "<Figure size 1440x504 with 1 Axes>"
            ]
          },
          "metadata": {
            "tags": []
          }
        }
      ]
    },
    {
      "cell_type": "code",
      "metadata": {
        "id": "VUSN5K4m-zo8",
        "colab_type": "code",
        "colab": {
          "base_uri": "https://localhost:8080/",
          "height": 556
        },
        "outputId": "a1c52cc5-7975-4140-a201-fce77b27c8fd"
      },
      "source": [
        "c0811arr=np.array(c0811smooth['occ_week'])\n",
        "c0811u=np.unique(c0811arr)\n",
        "c0811key=np.unique(np.array(np.array(c0811smooth['occ_week'])))\n",
        "c0811val=np.array(c0811smooth['occ_week'].value_counts().values)\n",
        "print(c0811u[:8])\n",
        "print(c0811val[:8])\n",
        "color='cmykrgb'\n",
        "plt.figure(figsize=(20,7))\n",
        "plt.title(\"Crime Scenario of 2018-2019 (Max: {}={})\".format(c0811u[:8][0],c0811val[:8][0]),fontsize=20,color='m')\n",
        "plt.xlabel(\"week->\",fontsize=15,color='b')\n",
        "plt.ylabel(\"Crime Occured->\",fontsize=15,color='b')\n",
        "plt.grid()\n",
        "plt.bar(c0811u[:8],c0811val[:8],color=color,width=0.5)\n"
      ],
      "execution_count": 12,
      "outputs": [
        {
          "output_type": "stream",
          "text": [
            "['Friday    ' 'Monday    ' 'Saturday  ' 'Sunday    ' 'Thursday  '\n",
            " 'Tuesday   ' 'Wednesday ']\n",
            "[12  9  8  7  4  4  4]\n"
          ],
          "name": "stdout"
        },
        {
          "output_type": "execute_result",
          "data": {
            "text/plain": [
              "<BarContainer object of 7 artists>"
            ]
          },
          "metadata": {
            "tags": []
          },
          "execution_count": 12
        },
        {
          "output_type": "display_data",
          "data": {
            "image/png": "[encoded data removed]",
            "text/plain": [
              "<Figure size 1440x504 with 1 Axes>"
            ]
          },
          "metadata": {
            "tags": []
          }
        }
      ]
    },
    {
      "cell_type": "code",
      "metadata": {
        "id": "7VBHdLIW_B1L",
        "colab_type": "code",
        "colab": {
          "base_uri": "https://localhost:8080/",
          "height": 556
        },
        "outputId": "3f63cdb7-b1f2-438a-ca43-edec77fff2b0"
      },
      "source": [
        "c01=c0104smooth[c0104smooth['occ_year']==2014]\n",
        "c01=c01[c01.columns.tolist()[1:]]\n",
        "c01.head()\n",
        "c01arr=np.array(c01['occ_week'])\n",
        "c01u=np.unique(c01arr)\n",
        "c01key=np.unique(np.array(np.array(c01['occ_week'])))\n",
        "c01val=np.array(c01['occ_week'].value_counts().values)\n",
        "print(c01u[:8])\n",
        "print(c01val[:8])\n",
        "color='cmykrgb'\n",
        "plt.figure(figsize=(20,7))\n",
        "plt.title(\"Crime Scenario of 2014 Max: {}={}\".format(c01u[:8][0],c01val[:8][0]),fontsize=20,color='m')\n",
        "plt.xlabel(\"week->\",fontsize=15,color='b')\n",
        "plt.ylabel(\"Crime Occured->\",fontsize=15,color='b')\n",
        "plt.grid()\n",
        "plt.bar(c01u[:8],c01val[:8],color=color,width=0.5)\n"
      ],
      "execution_count": 13,
      "outputs": [
        {
          "output_type": "stream",
          "text": [
            "['Friday    ' 'Monday    ' 'Saturday  ' 'Sunday    ' 'Thursday  '\n",
            " 'Tuesday   ' 'Wednesday ']\n",
            "[7 5 4 3 2 1 1]\n"
          ],
          "name": "stdout"
        },
        {
          "output_type": "execute_result",
          "data": {
            "text/plain": [
              "<BarContainer object of 7 artists>"
            ]
          },
          "metadata": {
            "tags": []
          },
          "execution_count": 13
        },
        {
          "output_type": "display_data",
          "data": {
            "image/png": "[encoded data removed]",
            "text/plain": [
              "<Figure size 1440x504 with 1 Axes>"
            ]
          },
          "metadata": {
            "tags": []
          }
        }
      ]
    },
    {
      "cell_type": "code",
      "metadata": {
        "id": "8kYmqle8_zqS",
        "colab_type": "code",
        "colab": {
          "base_uri": "https://localhost:8080/",
          "height": 556
        },
        "outputId": "9c666ef7-c90a-4ac8-f547-2c28ab58e610"
      },
      "source": [
        "c02=c0104smooth[c0104smooth['occ_year']==2015]\n",
        "c02=c02[c02.columns.tolist()[1:]]\n",
        "c02.head()\n",
        "c02arr=np.array(c01['occ_week'])\n",
        "c02u=np.unique(c02arr)\n",
        "c02key=np.unique(np.array(np.array(c02['occ_week'])))\n",
        "c02val=np.array(c02['occ_week'].value_counts().values)\n",
        "print(c02u[:8])\n",
        "print(c02val[:8])\n",
        "color='cmykrgb'\n",
        "plt.figure(figsize=(20,7))\n",
        "plt.title(\"Crime Scenario of 2015 Max: {}={}\".format(c02u[:8][0],c02val[:8][0]),fontsize=20,color='m')\n",
        "plt.xlabel(\"week->\",fontsize=15,color='b')\n",
        "plt.ylabel(\"Crime Occured->\",fontsize=15,color='b')\n",
        "plt.grid()\n",
        "plt.bar(c02u[:8],c02val[:8],color=color,width=0.5)\n"
      ],
      "execution_count": 14,
      "outputs": [
        {
          "output_type": "stream",
          "text": [
            "['Friday    ' 'Monday    ' 'Saturday  ' 'Sunday    ' 'Thursday  '\n",
            " 'Tuesday   ' 'Wednesday ']\n",
            "[5 5 5 4 3 2 1]\n"
          ],
          "name": "stdout"
        },
        {
          "output_type": "execute_result",
          "data": {
            "text/plain": [
              "<BarContainer object of 7 artists>"
            ]
          },
          "metadata": {
            "tags": []
          },
          "execution_count": 14
        },
        {
          "output_type": "display_data",
          "data": {
            "image/png": "[encoded data removed]",
            "text/plain": [
              "<Figure size 1440x504 with 1 Axes>"
            ]
          },
          "metadata": {
            "tags": []
          }
        }
      ]
    },
    {
      "cell_type": "code",
      "metadata": {
        "id": "9OG3ZftiAutU",
        "colab_type": "code",
        "colab": {
          "base_uri": "https://localhost:8080/",
          "height": 556
        },
        "outputId": "fe468857-8aca-4cfe-95fa-fe2c8b964960"
      },
      "source": [
        "c05=c0507smooth[c0507smooth['occ_year']==2016]\n",
        "c05=c05[c05.columns.tolist()[1:]]\n",
        "c05.head()\n",
        "c05arr=np.array(c05['occ_week'])\n",
        "c05u=np.unique(c05arr)\n",
        "c05key=np.unique(np.array(np.array(c05['occ_week'])))\n",
        "c05val=np.array(c05['occ_week'].value_counts().values)\n",
        "print(c05u[:8])\n",
        "print(c05val[:8])\n",
        "color='cmykrgb'\n",
        "plt.figure(figsize=(20,7))\n",
        "plt.title(\"Crime Scenario of 2016 Max: {}={}\".format(c05u[:8][0],c05val[:8][0]),fontsize=20,color='m')\n",
        "plt.xlabel(\"week->\",fontsize=15,color='b')\n",
        "plt.ylabel(\"Crime Occured->\",fontsize=15,color='b')\n",
        "plt.grid()\n",
        "plt.bar(c05u[:8],c05val[:8],color=color,width=0.5)\n"
      ],
      "execution_count": 15,
      "outputs": [
        {
          "output_type": "stream",
          "text": [
            "['Friday    ' 'Monday    ' 'Saturday  ' 'Sunday    ' 'Thursday  '\n",
            " 'Tuesday   ' 'Wednesday ']\n",
            "[7 5 4 3 2 1 1]\n"
          ],
          "name": "stdout"
        },
        {
          "output_type": "execute_result",
          "data": {
            "text/plain": [
              "<BarContainer object of 7 artists>"
            ]
          },
          "metadata": {
            "tags": []
          },
          "execution_count": 15
        },
        {
          "output_type": "display_data",
          "data": {
            "image/png": "[encoded data removed]",
            "text/plain": [
              "<Figure size 1440x504 with 1 Axes>"
            ]
          },
          "metadata": {
            "tags": []
          }
        }
      ]
    },
    {
      "cell_type": "code",
      "metadata": {
        "id": "Pykz4tZLBjXK",
        "colab_type": "code",
        "colab": {
          "base_uri": "https://localhost:8080/",
          "height": 556
        },
        "outputId": "9d0b1358-3161-4f67-f73f-bd5104c5be4a"
      },
      "source": [
        "c06=c0507smooth[c0507smooth['occ_year']==2017]\n",
        "c06=c06[c06.columns.tolist()[1:]]\n",
        "c06.head()\n",
        "c06arr=np.array(c06['occ_week'])\n",
        "c06u=np.unique(c06arr)\n",
        "c06key=np.unique(np.array(np.array(c06['occ_week'])))\n",
        "c06val=np.array(c06['occ_week'].value_counts().values)\n",
        "print(c06u[:8])\n",
        "print(c06val[:8])\n",
        "color='cmykrgb'\n",
        "plt.figure(figsize=(20,7))\n",
        "plt.title(\"Crime Scenario of 2017 Max: {}={}\".format(c06u[:8][0],c06val[:8][0]),fontsize=20,color='m')\n",
        "plt.xlabel(\"week->\",fontsize=15,color='b')\n",
        "plt.ylabel(\"Crime Occured->\",fontsize=15,color='b')\n",
        "plt.grid()\n",
        "plt.bar(c06u[:8],c06val[:8],color=color,width=0.5)\n"
      ],
      "execution_count": 16,
      "outputs": [
        {
          "output_type": "stream",
          "text": [
            "['Friday    ' 'Monday    ' 'Saturday  ' 'Sunday    ' 'Thursday  '\n",
            " 'Tuesday   ' 'Wednesday ']\n",
            "[5 5 5 4 3 2 1]\n"
          ],
          "name": "stdout"
        },
        {
          "output_type": "execute_result",
          "data": {
            "text/plain": [
              "<BarContainer object of 7 artists>"
            ]
          },
          "metadata": {
            "tags": []
          },
          "execution_count": 16
        },
        {
          "output_type": "display_data",
          "data": {
            "image/png": "[encoded data removed]",
            "text/plain": [
              "<Figure size 1440x504 with 1 Axes>"
            ]
          },
          "metadata": {
            "tags": []
          }
        }
      ]
    },
    {
      "cell_type": "code",
      "metadata": {
        "id": "DGthOBq9ByJq",
        "colab_type": "code",
        "colab": {
          "base_uri": "https://localhost:8080/",
          "height": 556
        },
        "outputId": "b388855f-edbb-4f1c-de32-edcf65c01829"
      },
      "source": [
        "c08=c0811smooth[c0811smooth['occ_year']==2018]\n",
        "c08=c08[c08.columns.tolist()[1:]]\n",
        "c08.head()\n",
        "c08arr=np.array(c08['occ_week'])\n",
        "c08u=np.unique(c08arr)\n",
        "c08key=np.unique(np.array(np.array(c08['occ_week'])))\n",
        "c08val=np.array(c08['occ_week'].value_counts().values)\n",
        "print(c08u[:8])\n",
        "print(c08val[:8])\n",
        "color='cmykrgb'\n",
        "plt.figure(figsize=(20,7))\n",
        "plt.title(\"Crime Scenario of 2018 Max: {}={}\".format(c08u[:8][0],c08val[:8][0]),fontsize=20,color='m')\n",
        "plt.xlabel(\"week->\",fontsize=15,color='b')\n",
        "plt.ylabel(\"Crime Occured->\",fontsize=15,color='b')\n",
        "plt.grid()\n",
        "plt.bar(c08u[:8],c08val[:8],color=color,width=0.5)\n"
      ],
      "execution_count": 17,
      "outputs": [
        {
          "output_type": "stream",
          "text": [
            "['Friday    ' 'Monday    ' 'Saturday  ' 'Sunday    ' 'Thursday  '\n",
            " 'Tuesday   ']\n",
            "[8 4 4 3 2 2]\n"
          ],
          "name": "stdout"
        },
        {
          "output_type": "execute_result",
          "data": {
            "text/plain": [
              "<BarContainer object of 6 artists>"
            ]
          },
          "metadata": {
            "tags": []
          },
          "execution_count": 17
        },
        {
          "output_type": "display_data",
          "data": {
            "image/png": "[encoded data removed]",
            "text/plain": [
              "<Figure size 1440x504 with 1 Axes>"
            ]
          },
          "metadata": {
            "tags": []
          }
        }
      ]
    },
    {
      "cell_type": "code",
      "metadata": {
        "id": "XfLtc_6FCDOm",
        "colab_type": "code",
        "colab": {
          "base_uri": "https://localhost:8080/",
          "height": 556
        },
        "outputId": "2481ba0a-45d9-4c69-a0fc-04cd44b48ce4"
      },
      "source": [
        "c09=c0811smooth[c0811smooth['occ_year']==2019]\n",
        "c09=c09[c09.columns.tolist()[1:]]\n",
        "c09.head()\n",
        "c09arr=np.array(c09['occ_week'])\n",
        "c09u=np.unique(c09arr)\n",
        "c09key=np.unique(np.array(np.array(c09['occ_week'])))\n",
        "c09val=np.array(c09['occ_week'].value_counts().values)\n",
        "print(c09u[:8])\n",
        "print(c09val[:8])\n",
        "color='cmykrgb'\n",
        "plt.figure(figsize=(20,7))\n",
        "plt.title(\"Crime Scenario of 2019 Max: {}={}\".format(c09u[:8][0],c09val[:8][0]),fontsize=20,color='m')\n",
        "plt.xlabel(\"week->\",fontsize=15,color='b')\n",
        "plt.ylabel(\"Crime Occured->\",fontsize=15,color='b')\n",
        "plt.grid()\n",
        "plt.bar(c09u[:8],c09val[:8],color=color,width=0.5)\n"
      ],
      "execution_count": 18,
      "outputs": [
        {
          "output_type": "stream",
          "text": [
            "['Friday    ' 'Monday    ' 'Saturday  ' 'Sunday    ' 'Tuesday   '\n",
            " 'Wednesday ']\n",
            "[8 6 4 4 2 1]\n"
          ],
          "name": "stdout"
        },
        {
          "output_type": "execute_result",
          "data": {
            "text/plain": [
              "<BarContainer object of 6 artists>"
            ]
          },
          "metadata": {
            "tags": []
          },
          "execution_count": 18
        },
        {
          "output_type": "display_data",
          "data": {
            "image/png": "[encoded data removed]",
            "text/plain": [
              "<Figure size 1440x504 with 1 Axes>"
            ]
          },
          "metadata": {
            "tags": []
          }
        }
      ]
    }
  ]
}