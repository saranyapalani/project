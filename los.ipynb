{
  "nbformat": 4,
  "nbformat_minor": 0,
  "metadata": {
    "colab": {
      "name": "Untitled3.ipynb",
      "provenance": [],
      "authorship_tag": "ABX9TyMPCxucZ90Ap74Mh+fLM/4o",
      "include_colab_link": true
    },
    "kernelspec": {
      "name": "python3",
      "display_name": "Python 3"
    }
  },
  "cells": [
    {
      "cell_type": "markdown",
      "metadata": {
        "id": "view-in-github",
        "colab_type": "text"
      },
      "source": [
        "<a href=\"https://colab.research.google.com/github/saranyapalani/project/blob/master/los.ipynb\" target=\"_parent\"><img src=\"https://colab.research.google.com/assets/colab-badge.svg\" alt=\"Open In Colab\"/></a>"
      ]
    },
    {
      "cell_type": "code",
      "metadata": {
        "id": "YHJW2BRG9vLR",
        "colab_type": "code",
        "colab": {}
      },
      "source": [
        "import numpy as np\n",
        "import pandas as pd\n",
        "import sqlite3\n",
        "import argparse\n",
        "import json\n",
        "import pprint\n",
        "import requests\n",
        "import sys\n",
        "import urllib\n",
        "from urllib.error import HTTPError\n",
        "from urllib.parse import quote\n",
        "from urllib.parse import urlencode\n",
        "%matplotlib inline\n",
        "import matplotlib.pyplot as plt\n"
      ],
      "execution_count": 0,
      "outputs": []
    },
    {
      "cell_type": "code",
      "metadata": {
        "id": "Z5ZIKZo0-HAw",
        "colab_type": "code",
        "colab": {
          "base_uri": "https://localhost:8080/",
          "height": 204
        },
        "outputId": "3303c793-e9b9-4741-a473-ef6c842893a8"
      },
      "source": [
        "crime_df = pd.read_csv('nnn.csv')\n",
        "crime_df.head()"
      ],
      "execution_count": 56,
      "outputs": [
        {
          "output_type": "execute_result",
          "data": {
            "text/html": [
              "<div>\n",
              "<style scoped>\n",
              "    .dataframe tbody tr th:only-of-type {\n",
              "        vertical-align: middle;\n",
              "    }\n",
              "\n",
              "    .dataframe tbody tr th {\n",
              "        vertical-align: top;\n",
              "    }\n",
              "\n",
              "    .dataframe thead th {\n",
              "        text-align: right;\n",
              "    }\n",
              "</style>\n",
              "<table border=\"1\" class=\"dataframe\">\n",
              "  <thead>\n",
              "    <tr style=\"text-align: right;\">\n",
              "      <th></th>\n",
              "      <th>DRNumber</th>\n",
              "      <th>DateOccurred</th>\n",
              "      <th>CrimeCode</th>\n",
              "      <th>CrimeCodeDescription</th>\n",
              "      <th>PremiseCode</th>\n",
              "      <th>PremiseDescription</th>\n",
              "      <th>rate</th>\n",
              "    </tr>\n",
              "  </thead>\n",
              "  <tbody>\n",
              "    <tr>\n",
              "      <th>0</th>\n",
              "      <td>170209449</td>\n",
              "      <td>4/21/17</td>\n",
              "      <td>510</td>\n",
              "      <td>JEWELS - STOLEN</td>\n",
              "      <td>101.0</td>\n",
              "      <td>STREET</td>\n",
              "      <td>8</td>\n",
              "    </tr>\n",
              "    <tr>\n",
              "      <th>1</th>\n",
              "      <td>170206243</td>\n",
              "      <td>02-11-2017</td>\n",
              "      <td>510</td>\n",
              "      <td>JEWELS - STOLEN</td>\n",
              "      <td>101.0</td>\n",
              "      <td>STREET</td>\n",
              "      <td>21</td>\n",
              "    </tr>\n",
              "    <tr>\n",
              "      <th>2</th>\n",
              "      <td>170311599</td>\n",
              "      <td>4/25/17</td>\n",
              "      <td>510</td>\n",
              "      <td>JEWELS - STOLEN</td>\n",
              "      <td>101.0</td>\n",
              "      <td>STREET</td>\n",
              "      <td>18</td>\n",
              "    </tr>\n",
              "    <tr>\n",
              "      <th>3</th>\n",
              "      <td>170408264</td>\n",
              "      <td>04-07-2017</td>\n",
              "      <td>510</td>\n",
              "      <td>JEWELS - STOLEN</td>\n",
              "      <td>101.0</td>\n",
              "      <td>STREET</td>\n",
              "      <td>20</td>\n",
              "    </tr>\n",
              "    <tr>\n",
              "      <th>4</th>\n",
              "      <td>170508584</td>\n",
              "      <td>04-08-2017</td>\n",
              "      <td>510</td>\n",
              "      <td>JEWELS - STOLEN</td>\n",
              "      <td>101.0</td>\n",
              "      <td>STREET</td>\n",
              "      <td>42</td>\n",
              "    </tr>\n",
              "  </tbody>\n",
              "</table>\n",
              "</div>"
            ],
            "text/plain": [
              "    DRNumber DateOccurred  CrimeCode  ... PremiseCode  PremiseDescription rate\n",
              "0  170209449      4/21/17        510  ...       101.0              STREET    8\n",
              "1  170206243   02-11-2017        510  ...       101.0              STREET   21\n",
              "2  170311599      4/25/17        510  ...       101.0              STREET   18\n",
              "3  170408264   04-07-2017        510  ...       101.0              STREET   20\n",
              "4  170508584   04-08-2017        510  ...       101.0              STREET   42\n",
              "\n",
              "[5 rows x 7 columns]"
            ]
          },
          "metadata": {
            "tags": []
          },
          "execution_count": 56
        }
      ]
    },
    {
      "cell_type": "code",
      "metadata": {
        "id": "3mMdHlaA-ID3",
        "colab_type": "code",
        "colab": {}
      },
      "source": [
        "crime_df['DateOccurred'] = pd.to_datetime(crime_df['DateOccurred'].astype(str), errors='coerce')\n",
        "crime_df['DateOccurred'] = pd.to_datetime(crime_df['DateOccurred'], format = '%d/%m/%Y %H:%M:%S')\n"
      ],
      "execution_count": 0,
      "outputs": []
    },
    {
      "cell_type": "code",
      "metadata": {
        "id": "fsXfeiNm-LD9",
        "colab_type": "code",
        "colab": {
          "base_uri": "https://localhost:8080/",
          "height": 51
        },
        "outputId": "a9770e53-8f85-4091-c6ec-0527343bcf61"
      },
      "source": [
        "print (crime_df['DateOccurred'].dtype)\n",
        "crime_df['DateOccurred'] = pd.to_datetime(crime_df['DateOccurred'])\n",
        "print (crime_df['DateOccurred'].dtype)\n",
        "\n",
        "crime_df['year'] = crime_df['DateOccurred'].dt.year\n",
        "\n",
        "crime_df['month'] = crime_df['DateOccurred'].dt.month\n",
        "\n",
        "crime_df['day'] = crime_df['DateOccurred'].dt.day"
      ],
      "execution_count": 58,
      "outputs": [
        {
          "output_type": "stream",
          "text": [
            "datetime64[ns]\n",
            "datetime64[ns]\n"
          ],
          "name": "stdout"
        }
      ]
    },
    {
      "cell_type": "code",
      "metadata": {
        "id": "ReNr1awe-ONa",
        "colab_type": "code",
        "colab": {
          "base_uri": "https://localhost:8080/",
          "height": 204
        },
        "outputId": "5e9f598a-e980-492c-974e-2822d01cc98d"
      },
      "source": [
        "crime_df.head()"
      ],
      "execution_count": 59,
      "outputs": [
        {
          "output_type": "execute_result",
          "data": {
            "text/html": [
              "<div>\n",
              "<style scoped>\n",
              "    .dataframe tbody tr th:only-of-type {\n",
              "        vertical-align: middle;\n",
              "    }\n",
              "\n",
              "    .dataframe tbody tr th {\n",
              "        vertical-align: top;\n",
              "    }\n",
              "\n",
              "    .dataframe thead th {\n",
              "        text-align: right;\n",
              "    }\n",
              "</style>\n",
              "<table border=\"1\" class=\"dataframe\">\n",
              "  <thead>\n",
              "    <tr style=\"text-align: right;\">\n",
              "      <th></th>\n",
              "      <th>DRNumber</th>\n",
              "      <th>DateOccurred</th>\n",
              "      <th>CrimeCode</th>\n",
              "      <th>CrimeCodeDescription</th>\n",
              "      <th>PremiseCode</th>\n",
              "      <th>PremiseDescription</th>\n",
              "      <th>rate</th>\n",
              "      <th>year</th>\n",
              "      <th>month</th>\n",
              "      <th>day</th>\n",
              "    </tr>\n",
              "  </thead>\n",
              "  <tbody>\n",
              "    <tr>\n",
              "      <th>0</th>\n",
              "      <td>170209449</td>\n",
              "      <td>2017-04-21</td>\n",
              "      <td>510</td>\n",
              "      <td>JEWELS - STOLEN</td>\n",
              "      <td>101.0</td>\n",
              "      <td>STREET</td>\n",
              "      <td>8</td>\n",
              "      <td>2017</td>\n",
              "      <td>4</td>\n",
              "      <td>21</td>\n",
              "    </tr>\n",
              "    <tr>\n",
              "      <th>1</th>\n",
              "      <td>170206243</td>\n",
              "      <td>2017-02-11</td>\n",
              "      <td>510</td>\n",
              "      <td>JEWELS - STOLEN</td>\n",
              "      <td>101.0</td>\n",
              "      <td>STREET</td>\n",
              "      <td>21</td>\n",
              "      <td>2017</td>\n",
              "      <td>2</td>\n",
              "      <td>11</td>\n",
              "    </tr>\n",
              "    <tr>\n",
              "      <th>2</th>\n",
              "      <td>170311599</td>\n",
              "      <td>2017-04-25</td>\n",
              "      <td>510</td>\n",
              "      <td>JEWELS - STOLEN</td>\n",
              "      <td>101.0</td>\n",
              "      <td>STREET</td>\n",
              "      <td>18</td>\n",
              "      <td>2017</td>\n",
              "      <td>4</td>\n",
              "      <td>25</td>\n",
              "    </tr>\n",
              "    <tr>\n",
              "      <th>3</th>\n",
              "      <td>170408264</td>\n",
              "      <td>2017-04-07</td>\n",
              "      <td>510</td>\n",
              "      <td>JEWELS - STOLEN</td>\n",
              "      <td>101.0</td>\n",
              "      <td>STREET</td>\n",
              "      <td>20</td>\n",
              "      <td>2017</td>\n",
              "      <td>4</td>\n",
              "      <td>7</td>\n",
              "    </tr>\n",
              "    <tr>\n",
              "      <th>4</th>\n",
              "      <td>170508584</td>\n",
              "      <td>2017-04-08</td>\n",
              "      <td>510</td>\n",
              "      <td>JEWELS - STOLEN</td>\n",
              "      <td>101.0</td>\n",
              "      <td>STREET</td>\n",
              "      <td>42</td>\n",
              "      <td>2017</td>\n",
              "      <td>4</td>\n",
              "      <td>8</td>\n",
              "    </tr>\n",
              "  </tbody>\n",
              "</table>\n",
              "</div>"
            ],
            "text/plain": [
              "    DRNumber DateOccurred  CrimeCode  ...  year  month day\n",
              "0  170209449   2017-04-21        510  ...  2017      4  21\n",
              "1  170206243   2017-02-11        510  ...  2017      2  11\n",
              "2  170311599   2017-04-25        510  ...  2017      4  25\n",
              "3  170408264   2017-04-07        510  ...  2017      4   7\n",
              "4  170508584   2017-04-08        510  ...  2017      4   8\n",
              "\n",
              "[5 rows x 10 columns]"
            ]
          },
          "metadata": {
            "tags": []
          },
          "execution_count": 59
        }
      ]
    },
    {
      "cell_type": "code",
      "metadata": {
        "id": "5XGtktka-5wn",
        "colab_type": "code",
        "colab": {}
      },
      "source": [
        "data = crime_df.drop(columns=\"DateOccurred\")"
      ],
      "execution_count": 0,
      "outputs": []
    },
    {
      "cell_type": "code",
      "metadata": {
        "id": "fvaoxdfX-_aC",
        "colab_type": "code",
        "colab": {
          "base_uri": "https://localhost:8080/",
          "height": 204
        },
        "outputId": "11c10478-f35d-4317-b6e9-fe84ee668771"
      },
      "source": [
        "data.head()"
      ],
      "execution_count": 61,
      "outputs": [
        {
          "output_type": "execute_result",
          "data": {
            "text/html": [
              "<div>\n",
              "<style scoped>\n",
              "    .dataframe tbody tr th:only-of-type {\n",
              "        vertical-align: middle;\n",
              "    }\n",
              "\n",
              "    .dataframe tbody tr th {\n",
              "        vertical-align: top;\n",
              "    }\n",
              "\n",
              "    .dataframe thead th {\n",
              "        text-align: right;\n",
              "    }\n",
              "</style>\n",
              "<table border=\"1\" class=\"dataframe\">\n",
              "  <thead>\n",
              "    <tr style=\"text-align: right;\">\n",
              "      <th></th>\n",
              "      <th>DRNumber</th>\n",
              "      <th>CrimeCode</th>\n",
              "      <th>CrimeCodeDescription</th>\n",
              "      <th>PremiseCode</th>\n",
              "      <th>PremiseDescription</th>\n",
              "      <th>rate</th>\n",
              "      <th>year</th>\n",
              "      <th>month</th>\n",
              "      <th>day</th>\n",
              "    </tr>\n",
              "  </thead>\n",
              "  <tbody>\n",
              "    <tr>\n",
              "      <th>0</th>\n",
              "      <td>170209449</td>\n",
              "      <td>510</td>\n",
              "      <td>JEWELS - STOLEN</td>\n",
              "      <td>101.0</td>\n",
              "      <td>STREET</td>\n",
              "      <td>8</td>\n",
              "      <td>2017</td>\n",
              "      <td>4</td>\n",
              "      <td>21</td>\n",
              "    </tr>\n",
              "    <tr>\n",
              "      <th>1</th>\n",
              "      <td>170206243</td>\n",
              "      <td>510</td>\n",
              "      <td>JEWELS - STOLEN</td>\n",
              "      <td>101.0</td>\n",
              "      <td>STREET</td>\n",
              "      <td>21</td>\n",
              "      <td>2017</td>\n",
              "      <td>2</td>\n",
              "      <td>11</td>\n",
              "    </tr>\n",
              "    <tr>\n",
              "      <th>2</th>\n",
              "      <td>170311599</td>\n",
              "      <td>510</td>\n",
              "      <td>JEWELS - STOLEN</td>\n",
              "      <td>101.0</td>\n",
              "      <td>STREET</td>\n",
              "      <td>18</td>\n",
              "      <td>2017</td>\n",
              "      <td>4</td>\n",
              "      <td>25</td>\n",
              "    </tr>\n",
              "    <tr>\n",
              "      <th>3</th>\n",
              "      <td>170408264</td>\n",
              "      <td>510</td>\n",
              "      <td>JEWELS - STOLEN</td>\n",
              "      <td>101.0</td>\n",
              "      <td>STREET</td>\n",
              "      <td>20</td>\n",
              "      <td>2017</td>\n",
              "      <td>4</td>\n",
              "      <td>7</td>\n",
              "    </tr>\n",
              "    <tr>\n",
              "      <th>4</th>\n",
              "      <td>170508584</td>\n",
              "      <td>510</td>\n",
              "      <td>JEWELS - STOLEN</td>\n",
              "      <td>101.0</td>\n",
              "      <td>STREET</td>\n",
              "      <td>42</td>\n",
              "      <td>2017</td>\n",
              "      <td>4</td>\n",
              "      <td>8</td>\n",
              "    </tr>\n",
              "  </tbody>\n",
              "</table>\n",
              "</div>"
            ],
            "text/plain": [
              "    DRNumber  CrimeCode CrimeCodeDescription  ...  year month  day\n",
              "0  170209449        510      JEWELS - STOLEN  ...  2017     4   21\n",
              "1  170206243        510      JEWELS - STOLEN  ...  2017     2   11\n",
              "2  170311599        510      JEWELS - STOLEN  ...  2017     4   25\n",
              "3  170408264        510      JEWELS - STOLEN  ...  2017     4    7\n",
              "4  170508584        510      JEWELS - STOLEN  ...  2017     4    8\n",
              "\n",
              "[5 rows x 9 columns]"
            ]
          },
          "metadata": {
            "tags": []
          },
          "execution_count": 61
        }
      ]
    },
    {
      "cell_type": "code",
      "metadata": {
        "id": "K8eB1htO_CXT",
        "colab_type": "code",
        "colab": {
          "base_uri": "https://localhost:8080/",
          "height": 204
        },
        "outputId": "a131dba0-3d9a-417e-ad46-e3443e4454cc"
      },
      "source": [
        "model_small_df = data.loc[data['CrimeCode'].isin(['510'])]\n",
        "model_small_df.head()"
      ],
      "execution_count": 62,
      "outputs": [
        {
          "output_type": "execute_result",
          "data": {
            "text/html": [
              "<div>\n",
              "<style scoped>\n",
              "    .dataframe tbody tr th:only-of-type {\n",
              "        vertical-align: middle;\n",
              "    }\n",
              "\n",
              "    .dataframe tbody tr th {\n",
              "        vertical-align: top;\n",
              "    }\n",
              "\n",
              "    .dataframe thead th {\n",
              "        text-align: right;\n",
              "    }\n",
              "</style>\n",
              "<table border=\"1\" class=\"dataframe\">\n",
              "  <thead>\n",
              "    <tr style=\"text-align: right;\">\n",
              "      <th></th>\n",
              "      <th>DRNumber</th>\n",
              "      <th>CrimeCode</th>\n",
              "      <th>CrimeCodeDescription</th>\n",
              "      <th>PremiseCode</th>\n",
              "      <th>PremiseDescription</th>\n",
              "      <th>rate</th>\n",
              "      <th>year</th>\n",
              "      <th>month</th>\n",
              "      <th>day</th>\n",
              "    </tr>\n",
              "  </thead>\n",
              "  <tbody>\n",
              "    <tr>\n",
              "      <th>0</th>\n",
              "      <td>170209449</td>\n",
              "      <td>510</td>\n",
              "      <td>JEWELS - STOLEN</td>\n",
              "      <td>101.0</td>\n",
              "      <td>STREET</td>\n",
              "      <td>8</td>\n",
              "      <td>2017</td>\n",
              "      <td>4</td>\n",
              "      <td>21</td>\n",
              "    </tr>\n",
              "    <tr>\n",
              "      <th>1</th>\n",
              "      <td>170206243</td>\n",
              "      <td>510</td>\n",
              "      <td>JEWELS - STOLEN</td>\n",
              "      <td>101.0</td>\n",
              "      <td>STREET</td>\n",
              "      <td>21</td>\n",
              "      <td>2017</td>\n",
              "      <td>2</td>\n",
              "      <td>11</td>\n",
              "    </tr>\n",
              "    <tr>\n",
              "      <th>2</th>\n",
              "      <td>170311599</td>\n",
              "      <td>510</td>\n",
              "      <td>JEWELS - STOLEN</td>\n",
              "      <td>101.0</td>\n",
              "      <td>STREET</td>\n",
              "      <td>18</td>\n",
              "      <td>2017</td>\n",
              "      <td>4</td>\n",
              "      <td>25</td>\n",
              "    </tr>\n",
              "    <tr>\n",
              "      <th>3</th>\n",
              "      <td>170408264</td>\n",
              "      <td>510</td>\n",
              "      <td>JEWELS - STOLEN</td>\n",
              "      <td>101.0</td>\n",
              "      <td>STREET</td>\n",
              "      <td>20</td>\n",
              "      <td>2017</td>\n",
              "      <td>4</td>\n",
              "      <td>7</td>\n",
              "    </tr>\n",
              "    <tr>\n",
              "      <th>4</th>\n",
              "      <td>170508584</td>\n",
              "      <td>510</td>\n",
              "      <td>JEWELS - STOLEN</td>\n",
              "      <td>101.0</td>\n",
              "      <td>STREET</td>\n",
              "      <td>42</td>\n",
              "      <td>2017</td>\n",
              "      <td>4</td>\n",
              "      <td>8</td>\n",
              "    </tr>\n",
              "  </tbody>\n",
              "</table>\n",
              "</div>"
            ],
            "text/plain": [
              "    DRNumber  CrimeCode CrimeCodeDescription  ...  year month  day\n",
              "0  170209449        510      JEWELS - STOLEN  ...  2017     4   21\n",
              "1  170206243        510      JEWELS - STOLEN  ...  2017     2   11\n",
              "2  170311599        510      JEWELS - STOLEN  ...  2017     4   25\n",
              "3  170408264        510      JEWELS - STOLEN  ...  2017     4    7\n",
              "4  170508584        510      JEWELS - STOLEN  ...  2017     4    8\n",
              "\n",
              "[5 rows x 9 columns]"
            ]
          },
          "metadata": {
            "tags": []
          },
          "execution_count": 62
        }
      ]
    },
    {
      "cell_type": "code",
      "metadata": {
        "id": "Ww4KNEuo_J86",
        "colab_type": "code",
        "colab": {
          "base_uri": "https://localhost:8080/",
          "height": 204
        },
        "outputId": "ea932d87-c336-4140-87b4-8e6cedb468c9"
      },
      "source": [
        "month = model_small_df.groupby('month')\n",
        "month = month['CrimeCode'].count()\n",
        "month = month.reset_index()\n",
        "month.head()"
      ],
      "execution_count": 63,
      "outputs": [
        {
          "output_type": "execute_result",
          "data": {
            "text/html": [
              "<div>\n",
              "<style scoped>\n",
              "    .dataframe tbody tr th:only-of-type {\n",
              "        vertical-align: middle;\n",
              "    }\n",
              "\n",
              "    .dataframe tbody tr th {\n",
              "        vertical-align: top;\n",
              "    }\n",
              "\n",
              "    .dataframe thead th {\n",
              "        text-align: right;\n",
              "    }\n",
              "</style>\n",
              "<table border=\"1\" class=\"dataframe\">\n",
              "  <thead>\n",
              "    <tr style=\"text-align: right;\">\n",
              "      <th></th>\n",
              "      <th>month</th>\n",
              "      <th>CrimeCode</th>\n",
              "    </tr>\n",
              "  </thead>\n",
              "  <tbody>\n",
              "    <tr>\n",
              "      <th>0</th>\n",
              "      <td>1</td>\n",
              "      <td>1071</td>\n",
              "    </tr>\n",
              "    <tr>\n",
              "      <th>1</th>\n",
              "      <td>2</td>\n",
              "      <td>917</td>\n",
              "    </tr>\n",
              "    <tr>\n",
              "      <th>2</th>\n",
              "      <td>3</td>\n",
              "      <td>683</td>\n",
              "    </tr>\n",
              "    <tr>\n",
              "      <th>3</th>\n",
              "      <td>4</td>\n",
              "      <td>504</td>\n",
              "    </tr>\n",
              "    <tr>\n",
              "      <th>4</th>\n",
              "      <td>5</td>\n",
              "      <td>517</td>\n",
              "    </tr>\n",
              "  </tbody>\n",
              "</table>\n",
              "</div>"
            ],
            "text/plain": [
              "   month  CrimeCode\n",
              "0      1       1071\n",
              "1      2        917\n",
              "2      3        683\n",
              "3      4        504\n",
              "4      5        517"
            ]
          },
          "metadata": {
            "tags": []
          },
          "execution_count": 63
        }
      ]
    },
    {
      "cell_type": "code",
      "metadata": {
        "id": "wuUKQppA_P82",
        "colab_type": "code",
        "colab": {
          "base_uri": "https://localhost:8080/",
          "height": 34
        },
        "outputId": "7586d6bf-dd51-4054-b261-382353c8f39d"
      },
      "source": [
        "X = month.month.values.reshape(-1, 1)\n",
        "y = month.CrimeCode.values.reshape(-1, 1)\n",
        "\n",
        "print(\"Shape: \", X.shape, y.shape)"
      ],
      "execution_count": 64,
      "outputs": [
        {
          "output_type": "stream",
          "text": [
            "Shape:  (12, 1) (12, 1)\n"
          ],
          "name": "stdout"
        }
      ]
    },
    {
      "cell_type": "code",
      "metadata": {
        "id": "Kn0dgpqR_Uj0",
        "colab_type": "code",
        "colab": {
          "base_uri": "https://localhost:8080/",
          "height": 286
        },
        "outputId": "4b69ed9b-29b3-408a-b438-8c6bd10b71d3"
      },
      "source": [
        "plt.scatter(X, y)\n"
      ],
      "execution_count": 65,
      "outputs": [
        {
          "output_type": "execute_result",
          "data": {
            "text/plain": [
              "<matplotlib.collections.PathCollection at 0x7fd871be8550>"
            ]
          },
          "metadata": {
            "tags": []
          },
          "execution_count": 65
        },
        {
          "output_type": "display_data",
          "data": {
            "image/png": "[encoded data removed]",
            "text/plain": [
              "<Figure size 432x288 with 1 Axes>"
            ]
          },
          "metadata": {
            "tags": [],
            "needs_background": "light"
          }
        }
      ]
    },
    {
      "cell_type": "code",
      "metadata": {
        "id": "Zge4ZzRz_fc3",
        "colab_type": "code",
        "colab": {
          "base_uri": "https://localhost:8080/",
          "height": 51
        },
        "outputId": "a1da4616-1b0f-420f-8c33-ebf2c866c443"
      },
      "source": [
        "from sklearn.linear_model import LinearRegression\n",
        "model = LinearRegression()\n",
        "model.fit(X, y)\n",
        "LinearRegression(copy_X=True, fit_intercept=True, n_jobs=1, normalize=False)\n",
        "print('Weight coefficients: ', model.coef_)\n",
        "print('y-axis intercept: ', model.intercept_)\n"
      ],
      "execution_count": 66,
      "outputs": [
        {
          "output_type": "stream",
          "text": [
            "Weight coefficients:  [[-43.13286713]]\n",
            "y-axis intercept:  [871.53030303]\n"
          ],
          "name": "stdout"
        }
      ]
    },
    {
      "cell_type": "code",
      "metadata": {
        "id": "-UN2397S_mwm",
        "colab_type": "code",
        "colab": {
          "base_uri": "https://localhost:8080/",
          "height": 298
        },
        "outputId": "998ffea9-735f-4843-fb4d-d27f83216493"
      },
      "source": [
        "x_min = np.array([[X.min()]])\n",
        "x_max = np.array([[X.max()]])\n",
        "y_min = model.predict(x_min)\n",
        "y_max = model.predict(x_max)\n",
        "plt.scatter(X, y, c='blue')\n",
        "plt.plot([x_min[0], x_max[0]], [y_min[0], y_max[0]], c='red')\n",
        "plt.ylabel('Crime Count for 510-JEWELS-STOLEN')\n",
        "plt.xlabel('Month')"
      ],
      "execution_count": 67,
      "outputs": [
        {
          "output_type": "execute_result",
          "data": {
            "text/plain": [
              "Text(0.5, 0, 'Month')"
            ]
          },
          "metadata": {
            "tags": []
          },
          "execution_count": 67
        },
        {
          "output_type": "display_data",
          "data": {
            "image/png": "[encoded data removed]",
            "text/plain": [
              "<Figure size 432x288 with 1 Axes>"
            ]
          },
          "metadata": {
            "tags": [],
            "needs_background": "light"
          }
        }
      ]
    },
    {
      "cell_type": "code",
      "metadata": {
        "id": "X7dH80Fc_4kU",
        "colab_type": "code",
        "colab": {
          "base_uri": "https://localhost:8080/",
          "height": 204
        },
        "outputId": "f7431e54-fd74-4393-e1fb-ff9efa3540bc"
      },
      "source": [
        "day = model_small_df.groupby('day')\n",
        "day = day['CrimeCode'].count()\n",
        "day = day.reset_index()\n",
        "day.head()"
      ],
      "execution_count": 68,
      "outputs": [
        {
          "output_type": "execute_result",
          "data": {
            "text/html": [
              "<div>\n",
              "<style scoped>\n",
              "    .dataframe tbody tr th:only-of-type {\n",
              "        vertical-align: middle;\n",
              "    }\n",
              "\n",
              "    .dataframe tbody tr th {\n",
              "        vertical-align: top;\n",
              "    }\n",
              "\n",
              "    .dataframe thead th {\n",
              "        text-align: right;\n",
              "    }\n",
              "</style>\n",
              "<table border=\"1\" class=\"dataframe\">\n",
              "  <thead>\n",
              "    <tr style=\"text-align: right;\">\n",
              "      <th></th>\n",
              "      <th>day</th>\n",
              "      <th>CrimeCode</th>\n",
              "    </tr>\n",
              "  </thead>\n",
              "  <tbody>\n",
              "    <tr>\n",
              "      <th>0</th>\n",
              "      <td>1</td>\n",
              "      <td>242</td>\n",
              "    </tr>\n",
              "    <tr>\n",
              "      <th>1</th>\n",
              "      <td>2</td>\n",
              "      <td>220</td>\n",
              "    </tr>\n",
              "    <tr>\n",
              "      <th>2</th>\n",
              "      <td>3</td>\n",
              "      <td>259</td>\n",
              "    </tr>\n",
              "    <tr>\n",
              "      <th>3</th>\n",
              "      <td>4</td>\n",
              "      <td>237</td>\n",
              "    </tr>\n",
              "    <tr>\n",
              "      <th>4</th>\n",
              "      <td>5</td>\n",
              "      <td>225</td>\n",
              "    </tr>\n",
              "  </tbody>\n",
              "</table>\n",
              "</div>"
            ],
            "text/plain": [
              "   day  CrimeCode\n",
              "0    1        242\n",
              "1    2        220\n",
              "2    3        259\n",
              "3    4        237\n",
              "4    5        225"
            ]
          },
          "metadata": {
            "tags": []
          },
          "execution_count": 68
        }
      ]
    },
    {
      "cell_type": "code",
      "metadata": {
        "id": "7m4yxjytAIA6",
        "colab_type": "code",
        "colab": {
          "base_uri": "https://localhost:8080/",
          "height": 300
        },
        "outputId": "759f3f67-f735-491a-89a5-e2089bfcea17"
      },
      "source": [
        "X = day.day.values.reshape(-1, 1)\n",
        "y = day.CrimeCode.values.reshape(-1, 1)\n",
        "\n",
        "print(\"Shape: \", X.shape, y.shape)\n",
        "plt.scatter(X, y)"
      ],
      "execution_count": 69,
      "outputs": [
        {
          "output_type": "stream",
          "text": [
            "Shape:  (31, 1) (31, 1)\n"
          ],
          "name": "stdout"
        },
        {
          "output_type": "execute_result",
          "data": {
            "text/plain": [
              "<matplotlib.collections.PathCollection at 0x7fd8717dbef0>"
            ]
          },
          "metadata": {
            "tags": []
          },
          "execution_count": 69
        },
        {
          "output_type": "display_data",
          "data": {
            "image/png": "[encoded data removed]",
            "text/plain": [
              "<Figure size 432x288 with 1 Axes>"
            ]
          },
          "metadata": {
            "tags": [],
            "needs_background": "light"
          }
        }
      ]
    },
    {
      "cell_type": "code",
      "metadata": {
        "id": "ZWFMO19EASX-",
        "colab_type": "code",
        "colab": {
          "base_uri": "https://localhost:8080/",
          "height": 331
        },
        "outputId": "ae080e55-6e2b-459c-a57d-310ae3816d44"
      },
      "source": [
        "from sklearn.linear_model import LinearRegression\n",
        "model = LinearRegression()\n",
        "model.fit(X, y)\n",
        "print('Weight coefficients: ', model.coef_)\n",
        "print('y-axis intercept: ', model.intercept_)\n",
        "x_min = np.array([[X.min()]])\n",
        "x_max = np.array([[X.max()]])\n",
        "y_min = model.predict(x_min)\n",
        "y_max = model.predict(x_max)\n",
        "plt.scatter(X, y, c='blue')\n",
        "plt.plot([x_min[0], x_max[0]], [y_min[0], y_max[0]], c='red')\n",
        "plt.ylabel('Crime Count for 510-JEWELS-STOLEN')\n",
        "plt.xlabel('day')\n"
      ],
      "execution_count": 70,
      "outputs": [
        {
          "output_type": "stream",
          "text": [
            "Weight coefficients:  [[-1.82620968]]\n",
            "y-axis intercept:  [258.05806452]\n"
          ],
          "name": "stdout"
        },
        {
          "output_type": "execute_result",
          "data": {
            "text/plain": [
              "Text(0.5, 0, 'day')"
            ]
          },
          "metadata": {
            "tags": []
          },
          "execution_count": 70
        },
        {
          "output_type": "display_data",
          "data": {
            "image/png": "[encoded data removed]",
            "text/plain": [
              "<Figure size 432x288 with 1 Axes>"
            ]
          },
          "metadata": {
            "tags": [],
            "needs_background": "light"
          }
        }
      ]
    },
    {
      "cell_type": "code",
      "metadata": {
        "id": "O-1i1x9kAeBW",
        "colab_type": "code",
        "colab": {
          "base_uri": "https://localhost:8080/",
          "height": 221
        },
        "outputId": "58228ed5-0626-4a1d-f475-1f32fa04e7e3"
      },
      "source": [
        "model_210_df = data.loc[data['CrimeCode'].isin(['210'])]\n",
        "model_210_df.head()\n"
      ],
      "execution_count": 71,
      "outputs": [
        {
          "output_type": "execute_result",
          "data": {
            "text/html": [
              "<div>\n",
              "<style scoped>\n",
              "    .dataframe tbody tr th:only-of-type {\n",
              "        vertical-align: middle;\n",
              "    }\n",
              "\n",
              "    .dataframe tbody tr th {\n",
              "        vertical-align: top;\n",
              "    }\n",
              "\n",
              "    .dataframe thead th {\n",
              "        text-align: right;\n",
              "    }\n",
              "</style>\n",
              "<table border=\"1\" class=\"dataframe\">\n",
              "  <thead>\n",
              "    <tr style=\"text-align: right;\">\n",
              "      <th></th>\n",
              "      <th>DRNumber</th>\n",
              "      <th>CrimeCode</th>\n",
              "      <th>CrimeCodeDescription</th>\n",
              "      <th>PremiseCode</th>\n",
              "      <th>PremiseDescription</th>\n",
              "      <th>rate</th>\n",
              "      <th>year</th>\n",
              "      <th>month</th>\n",
              "      <th>day</th>\n",
              "    </tr>\n",
              "  </thead>\n",
              "  <tbody>\n",
              "    <tr>\n",
              "      <th>73</th>\n",
              "      <td>170100574</td>\n",
              "      <td>210</td>\n",
              "      <td>MURDER</td>\n",
              "      <td>102.0</td>\n",
              "      <td>SIDEWALK</td>\n",
              "      <td>31</td>\n",
              "      <td>2017</td>\n",
              "      <td>1</td>\n",
              "      <td>29</td>\n",
              "    </tr>\n",
              "    <tr>\n",
              "      <th>75</th>\n",
              "      <td>170100579</td>\n",
              "      <td>210</td>\n",
              "      <td>MURDER</td>\n",
              "      <td>101.0</td>\n",
              "      <td>STREET</td>\n",
              "      <td>7</td>\n",
              "      <td>2017</td>\n",
              "      <td>1</td>\n",
              "      <td>29</td>\n",
              "    </tr>\n",
              "    <tr>\n",
              "      <th>97</th>\n",
              "      <td>170100626</td>\n",
              "      <td>210</td>\n",
              "      <td>MURDER</td>\n",
              "      <td>252.0</td>\n",
              "      <td>COFFEE SHOP (STARBUCKS, COFFEE BEAN, PEET'S, E...</td>\n",
              "      <td>34</td>\n",
              "      <td>2017</td>\n",
              "      <td>2</td>\n",
              "      <td>21</td>\n",
              "    </tr>\n",
              "    <tr>\n",
              "      <th>100</th>\n",
              "      <td>170100631</td>\n",
              "      <td>210</td>\n",
              "      <td>MURDER</td>\n",
              "      <td>102.0</td>\n",
              "      <td>SIDEWALK</td>\n",
              "      <td>42</td>\n",
              "      <td>2017</td>\n",
              "      <td>2</td>\n",
              "      <td>22</td>\n",
              "    </tr>\n",
              "    <tr>\n",
              "      <th>102</th>\n",
              "      <td>170100634</td>\n",
              "      <td>210</td>\n",
              "      <td>MURDER</td>\n",
              "      <td>516.0</td>\n",
              "      <td>NaN</td>\n",
              "      <td>50</td>\n",
              "      <td>2017</td>\n",
              "      <td>2</td>\n",
              "      <td>24</td>\n",
              "    </tr>\n",
              "  </tbody>\n",
              "</table>\n",
              "</div>"
            ],
            "text/plain": [
              "      DRNumber  CrimeCode CrimeCodeDescription  ...  year month  day\n",
              "73   170100574        210               MURDER  ...  2017     1   29\n",
              "75   170100579        210               MURDER  ...  2017     1   29\n",
              "97   170100626        210               MURDER  ...  2017     2   21\n",
              "100  170100631        210               MURDER  ...  2017     2   22\n",
              "102  170100634        210               MURDER  ...  2017     2   24\n",
              "\n",
              "[5 rows x 9 columns]"
            ]
          },
          "metadata": {
            "tags": []
          },
          "execution_count": 71
        }
      ]
    },
    {
      "cell_type": "code",
      "metadata": {
        "id": "21VD2R8LAiLr",
        "colab_type": "code",
        "colab": {
          "base_uri": "https://localhost:8080/",
          "height": 204
        },
        "outputId": "2a52cefe-2e12-4e3c-9f27-c0821db61c94"
      },
      "source": [
        "month = model_210_df.groupby('month')\n",
        "month = month['CrimeCode'].count()\n",
        "month = month.reset_index()\n",
        "month.head()\n"
      ],
      "execution_count": 72,
      "outputs": [
        {
          "output_type": "execute_result",
          "data": {
            "text/html": [
              "<div>\n",
              "<style scoped>\n",
              "    .dataframe tbody tr th:only-of-type {\n",
              "        vertical-align: middle;\n",
              "    }\n",
              "\n",
              "    .dataframe tbody tr th {\n",
              "        vertical-align: top;\n",
              "    }\n",
              "\n",
              "    .dataframe thead th {\n",
              "        text-align: right;\n",
              "    }\n",
              "</style>\n",
              "<table border=\"1\" class=\"dataframe\">\n",
              "  <thead>\n",
              "    <tr style=\"text-align: right;\">\n",
              "      <th></th>\n",
              "      <th>month</th>\n",
              "      <th>CrimeCode</th>\n",
              "    </tr>\n",
              "  </thead>\n",
              "  <tbody>\n",
              "    <tr>\n",
              "      <th>0</th>\n",
              "      <td>1</td>\n",
              "      <td>611</td>\n",
              "    </tr>\n",
              "    <tr>\n",
              "      <th>1</th>\n",
              "      <td>2</td>\n",
              "      <td>549</td>\n",
              "    </tr>\n",
              "    <tr>\n",
              "      <th>2</th>\n",
              "      <td>3</td>\n",
              "      <td>349</td>\n",
              "    </tr>\n",
              "    <tr>\n",
              "      <th>3</th>\n",
              "      <td>4</td>\n",
              "      <td>274</td>\n",
              "    </tr>\n",
              "    <tr>\n",
              "      <th>4</th>\n",
              "      <td>5</td>\n",
              "      <td>327</td>\n",
              "    </tr>\n",
              "  </tbody>\n",
              "</table>\n",
              "</div>"
            ],
            "text/plain": [
              "   month  CrimeCode\n",
              "0      1        611\n",
              "1      2        549\n",
              "2      3        349\n",
              "3      4        274\n",
              "4      5        327"
            ]
          },
          "metadata": {
            "tags": []
          },
          "execution_count": 72
        }
      ]
    },
    {
      "cell_type": "code",
      "metadata": {
        "id": "vpF77aV_ApKD",
        "colab_type": "code",
        "colab": {
          "base_uri": "https://localhost:8080/",
          "height": 299
        },
        "outputId": "a4c5c782-c81c-490f-a096-ef41a3739f5a"
      },
      "source": [
        "X = month.month.values.reshape(-1, 1)\n",
        "y = month.CrimeCode.values.reshape(-1, 1)\n",
        "\n",
        "print(\"Shape: \", X.shape, y.shape)\n",
        "plt.scatter(X, y)"
      ],
      "execution_count": 73,
      "outputs": [
        {
          "output_type": "stream",
          "text": [
            "Shape:  (12, 1) (12, 1)\n"
          ],
          "name": "stdout"
        },
        {
          "output_type": "execute_result",
          "data": {
            "text/plain": [
              "<matplotlib.collections.PathCollection at 0x7fd8716b1da0>"
            ]
          },
          "metadata": {
            "tags": []
          },
          "execution_count": 73
        },
        {
          "output_type": "display_data",
          "data": {
            "image/png": "[encoded data removed]",
            "text/plain": [
              "<Figure size 432x288 with 1 Axes>"
            ]
          },
          "metadata": {
            "tags": [],
            "needs_background": "light"
          }
        }
      ]
    },
    {
      "cell_type": "code",
      "metadata": {
        "id": "UY1JKHijAt0o",
        "colab_type": "code",
        "colab": {
          "base_uri": "https://localhost:8080/",
          "height": 330
        },
        "outputId": "a55f8c77-9f70-4ae1-dcb7-00e00901c53b"
      },
      "source": [
        "from sklearn.linear_model import LinearRegression\n",
        "model = LinearRegression()\n",
        "model.fit(X, y)\n",
        "print('Weight coefficients: ', model.coef_)\n",
        "print('y-axis intercept: ', model.intercept_)\n",
        "\n",
        "x_min = np.array([[X.min()]])\n",
        "x_max = np.array([[X.max()]])\n",
        "y_min = model.predict(x_min)\n",
        "y_max = model.predict(x_max)\n",
        "plt.scatter(X, y, c='blue')\n",
        "plt.plot([x_min[0], x_max[0]], [y_min[0], y_max[0]], c='red')\n",
        "plt.ylabel('Crime Count for 210-murder')\n",
        "plt.xlabel('Month')\n"
      ],
      "execution_count": 74,
      "outputs": [
        {
          "output_type": "stream",
          "text": [
            "Weight coefficients:  [[-19.79020979]]\n",
            "y-axis intercept:  [486.13636364]\n"
          ],
          "name": "stdout"
        },
        {
          "output_type": "execute_result",
          "data": {
            "text/plain": [
              "Text(0.5, 0, 'Month')"
            ]
          },
          "metadata": {
            "tags": []
          },
          "execution_count": 74
        },
        {
          "output_type": "display_data",
          "data": {
            "image/png": "[encoded data removed]",
            "text/plain": [
              "<Figure size 432x288 with 1 Axes>"
            ]
          },
          "metadata": {
            "tags": [],
            "needs_background": "light"
          }
        }
      ]
    },
    {
      "cell_type": "code",
      "metadata": {
        "id": "DTLuJZztA4NY",
        "colab_type": "code",
        "colab": {
          "base_uri": "https://localhost:8080/",
          "height": 204
        },
        "outputId": "1c63ca86-4d59-410a-9b59-2e9f2455997a"
      },
      "source": [
        "day = model_210_df.groupby('day')\n",
        "day = day['CrimeCode'].count()\n",
        "day = day.reset_index()\n",
        "day.head()\n"
      ],
      "execution_count": 75,
      "outputs": [
        {
          "output_type": "execute_result",
          "data": {
            "text/html": [
              "<div>\n",
              "<style scoped>\n",
              "    .dataframe tbody tr th:only-of-type {\n",
              "        vertical-align: middle;\n",
              "    }\n",
              "\n",
              "    .dataframe tbody tr th {\n",
              "        vertical-align: top;\n",
              "    }\n",
              "\n",
              "    .dataframe thead th {\n",
              "        text-align: right;\n",
              "    }\n",
              "</style>\n",
              "<table border=\"1\" class=\"dataframe\">\n",
              "  <thead>\n",
              "    <tr style=\"text-align: right;\">\n",
              "      <th></th>\n",
              "      <th>day</th>\n",
              "      <th>CrimeCode</th>\n",
              "    </tr>\n",
              "  </thead>\n",
              "  <tbody>\n",
              "    <tr>\n",
              "      <th>0</th>\n",
              "      <td>1</td>\n",
              "      <td>152</td>\n",
              "    </tr>\n",
              "    <tr>\n",
              "      <th>1</th>\n",
              "      <td>2</td>\n",
              "      <td>146</td>\n",
              "    </tr>\n",
              "    <tr>\n",
              "      <th>2</th>\n",
              "      <td>3</td>\n",
              "      <td>136</td>\n",
              "    </tr>\n",
              "    <tr>\n",
              "      <th>3</th>\n",
              "      <td>4</td>\n",
              "      <td>163</td>\n",
              "    </tr>\n",
              "    <tr>\n",
              "      <th>4</th>\n",
              "      <td>5</td>\n",
              "      <td>155</td>\n",
              "    </tr>\n",
              "  </tbody>\n",
              "</table>\n",
              "</div>"
            ],
            "text/plain": [
              "   day  CrimeCode\n",
              "0    1        152\n",
              "1    2        146\n",
              "2    3        136\n",
              "3    4        163\n",
              "4    5        155"
            ]
          },
          "metadata": {
            "tags": []
          },
          "execution_count": 75
        }
      ]
    },
    {
      "cell_type": "code",
      "metadata": {
        "id": "2ftjfyrzBD2h",
        "colab_type": "code",
        "colab": {
          "base_uri": "https://localhost:8080/",
          "height": 299
        },
        "outputId": "b2811671-962b-4f87-dcbf-62c0643bfc14"
      },
      "source": [
        "X = day.day.values.reshape(-1, 1)\n",
        "y = day.CrimeCode.values.reshape(-1, 1)\n",
        "\n",
        "print(\"Shape: \", X.shape, y.shape)\n",
        "plt.scatter(X, y)\n"
      ],
      "execution_count": 76,
      "outputs": [
        {
          "output_type": "stream",
          "text": [
            "Shape:  (31, 1) (31, 1)\n"
          ],
          "name": "stdout"
        },
        {
          "output_type": "execute_result",
          "data": {
            "text/plain": [
              "<matplotlib.collections.PathCollection at 0x7fd8715fba58>"
            ]
          },
          "metadata": {
            "tags": []
          },
          "execution_count": 76
        },
        {
          "output_type": "display_data",
          "data": {
            "image/png": "[encoded data removed]",
            "text/plain": [
              "<Figure size 432x288 with 1 Axes>"
            ]
          },
          "metadata": {
            "tags": [],
            "needs_background": "light"
          }
        }
      ]
    },
    {
      "cell_type": "code",
      "metadata": {
        "id": "g8VRNwXgBOfS",
        "colab_type": "code",
        "colab": {
          "base_uri": "https://localhost:8080/",
          "height": 330
        },
        "outputId": "37614cc7-068b-4ff3-fbda-5a0b195bf891"
      },
      "source": [
        "from sklearn.linear_model import LinearRegression\n",
        "model = LinearRegression()\n",
        "model.fit(X, y)\n",
        "print('Weight coefficients: ', model.coef_)\n",
        "print('y-axis intercept: ', model.intercept_)\n",
        "\n",
        "x_min = np.array([[X.min()]])\n",
        "x_max = np.array([[X.max()]])\n",
        "y_min = model.predict(x_min)\n",
        "y_max = model.predict(x_max)\n",
        "plt.scatter(X, y, c='blue')\n",
        "plt.plot([x_min[0], x_max[0]], [y_min[0], y_max[0]], c='red')\n",
        "plt.ylabel('Crime Count for 210-murder')\n",
        "plt.xlabel('Week')\n"
      ],
      "execution_count": 77,
      "outputs": [
        {
          "output_type": "stream",
          "text": [
            "Weight coefficients:  [[-1.11693548]]\n",
            "y-axis intercept:  [156.25806452]\n"
          ],
          "name": "stdout"
        },
        {
          "output_type": "execute_result",
          "data": {
            "text/plain": [
              "Text(0.5, 0, 'Week')"
            ]
          },
          "metadata": {
            "tags": []
          },
          "execution_count": 77
        },
        {
          "output_type": "display_data",
          "data": {
            "image/png": "[encoded data removed]",
            "text/plain": [
              "<Figure size 432x288 with 1 Axes>"
            ]
          },
          "metadata": {
            "tags": [],
            "needs_background": "light"
          }
        }
      ]
    },
    {
      "cell_type": "code",
      "metadata": {
        "id": "Kfq2XlpOBZpT",
        "colab_type": "code",
        "colab": {
          "base_uri": "https://localhost:8080/",
          "height": 204
        },
        "outputId": "f0b0e3af-b8ee-4560-dfe2-20765566be05"
      },
      "source": [
        "model_small_df = data.loc[data['CrimeCode'].isin(['510'])]\n",
        "model_small_df.head()\n"
      ],
      "execution_count": 78,
      "outputs": [
        {
          "output_type": "execute_result",
          "data": {
            "text/html": [
              "<div>\n",
              "<style scoped>\n",
              "    .dataframe tbody tr th:only-of-type {\n",
              "        vertical-align: middle;\n",
              "    }\n",
              "\n",
              "    .dataframe tbody tr th {\n",
              "        vertical-align: top;\n",
              "    }\n",
              "\n",
              "    .dataframe thead th {\n",
              "        text-align: right;\n",
              "    }\n",
              "</style>\n",
              "<table border=\"1\" class=\"dataframe\">\n",
              "  <thead>\n",
              "    <tr style=\"text-align: right;\">\n",
              "      <th></th>\n",
              "      <th>DRNumber</th>\n",
              "      <th>CrimeCode</th>\n",
              "      <th>CrimeCodeDescription</th>\n",
              "      <th>PremiseCode</th>\n",
              "      <th>PremiseDescription</th>\n",
              "      <th>rate</th>\n",
              "      <th>year</th>\n",
              "      <th>month</th>\n",
              "      <th>day</th>\n",
              "    </tr>\n",
              "  </thead>\n",
              "  <tbody>\n",
              "    <tr>\n",
              "      <th>0</th>\n",
              "      <td>170209449</td>\n",
              "      <td>510</td>\n",
              "      <td>JEWELS - STOLEN</td>\n",
              "      <td>101.0</td>\n",
              "      <td>STREET</td>\n",
              "      <td>8</td>\n",
              "      <td>2017</td>\n",
              "      <td>4</td>\n",
              "      <td>21</td>\n",
              "    </tr>\n",
              "    <tr>\n",
              "      <th>1</th>\n",
              "      <td>170206243</td>\n",
              "      <td>510</td>\n",
              "      <td>JEWELS - STOLEN</td>\n",
              "      <td>101.0</td>\n",
              "      <td>STREET</td>\n",
              "      <td>21</td>\n",
              "      <td>2017</td>\n",
              "      <td>2</td>\n",
              "      <td>11</td>\n",
              "    </tr>\n",
              "    <tr>\n",
              "      <th>2</th>\n",
              "      <td>170311599</td>\n",
              "      <td>510</td>\n",
              "      <td>JEWELS - STOLEN</td>\n",
              "      <td>101.0</td>\n",
              "      <td>STREET</td>\n",
              "      <td>18</td>\n",
              "      <td>2017</td>\n",
              "      <td>4</td>\n",
              "      <td>25</td>\n",
              "    </tr>\n",
              "    <tr>\n",
              "      <th>3</th>\n",
              "      <td>170408264</td>\n",
              "      <td>510</td>\n",
              "      <td>JEWELS - STOLEN</td>\n",
              "      <td>101.0</td>\n",
              "      <td>STREET</td>\n",
              "      <td>20</td>\n",
              "      <td>2017</td>\n",
              "      <td>4</td>\n",
              "      <td>7</td>\n",
              "    </tr>\n",
              "    <tr>\n",
              "      <th>4</th>\n",
              "      <td>170508584</td>\n",
              "      <td>510</td>\n",
              "      <td>JEWELS - STOLEN</td>\n",
              "      <td>101.0</td>\n",
              "      <td>STREET</td>\n",
              "      <td>42</td>\n",
              "      <td>2017</td>\n",
              "      <td>4</td>\n",
              "      <td>8</td>\n",
              "    </tr>\n",
              "  </tbody>\n",
              "</table>\n",
              "</div>"
            ],
            "text/plain": [
              "    DRNumber  CrimeCode CrimeCodeDescription  ...  year month  day\n",
              "0  170209449        510      JEWELS - STOLEN  ...  2017     4   21\n",
              "1  170206243        510      JEWELS - STOLEN  ...  2017     2   11\n",
              "2  170311599        510      JEWELS - STOLEN  ...  2017     4   25\n",
              "3  170408264        510      JEWELS - STOLEN  ...  2017     4    7\n",
              "4  170508584        510      JEWELS - STOLEN  ...  2017     4    8\n",
              "\n",
              "[5 rows x 9 columns]"
            ]
          },
          "metadata": {
            "tags": []
          },
          "execution_count": 78
        }
      ]
    },
    {
      "cell_type": "code",
      "metadata": {
        "id": "x7Shz1lrBjhZ",
        "colab_type": "code",
        "colab": {}
      },
      "source": [
        "model_small_df = model_small_df[['DRNumber','CrimeCode','PremiseCode']]"
      ],
      "execution_count": 0,
      "outputs": []
    },
    {
      "cell_type": "code",
      "metadata": {
        "id": "D-uqmR05Bp2b",
        "colab_type": "code",
        "colab": {
          "base_uri": "https://localhost:8080/",
          "height": 204
        },
        "outputId": "3922ccc2-a127-48f7-8872-99f9b5950e93"
      },
      "source": [
        "model_small_df = model_small_df.fillna(0)\n",
        "model_small_df.reset_index()\n",
        "model_small_df.head()"
      ],
      "execution_count": 80,
      "outputs": [
        {
          "output_type": "execute_result",
          "data": {
            "text/html": [
              "<div>\n",
              "<style scoped>\n",
              "    .dataframe tbody tr th:only-of-type {\n",
              "        vertical-align: middle;\n",
              "    }\n",
              "\n",
              "    .dataframe tbody tr th {\n",
              "        vertical-align: top;\n",
              "    }\n",
              "\n",
              "    .dataframe thead th {\n",
              "        text-align: right;\n",
              "    }\n",
              "</style>\n",
              "<table border=\"1\" class=\"dataframe\">\n",
              "  <thead>\n",
              "    <tr style=\"text-align: right;\">\n",
              "      <th></th>\n",
              "      <th>DRNumber</th>\n",
              "      <th>CrimeCode</th>\n",
              "      <th>PremiseCode</th>\n",
              "    </tr>\n",
              "  </thead>\n",
              "  <tbody>\n",
              "    <tr>\n",
              "      <th>0</th>\n",
              "      <td>170209449</td>\n",
              "      <td>510</td>\n",
              "      <td>101.0</td>\n",
              "    </tr>\n",
              "    <tr>\n",
              "      <th>1</th>\n",
              "      <td>170206243</td>\n",
              "      <td>510</td>\n",
              "      <td>101.0</td>\n",
              "    </tr>\n",
              "    <tr>\n",
              "      <th>2</th>\n",
              "      <td>170311599</td>\n",
              "      <td>510</td>\n",
              "      <td>101.0</td>\n",
              "    </tr>\n",
              "    <tr>\n",
              "      <th>3</th>\n",
              "      <td>170408264</td>\n",
              "      <td>510</td>\n",
              "      <td>101.0</td>\n",
              "    </tr>\n",
              "    <tr>\n",
              "      <th>4</th>\n",
              "      <td>170508584</td>\n",
              "      <td>510</td>\n",
              "      <td>101.0</td>\n",
              "    </tr>\n",
              "  </tbody>\n",
              "</table>\n",
              "</div>"
            ],
            "text/plain": [
              "    DRNumber  CrimeCode  PremiseCode\n",
              "0  170209449        510        101.0\n",
              "1  170206243        510        101.0\n",
              "2  170311599        510        101.0\n",
              "3  170408264        510        101.0\n",
              "4  170508584        510        101.0"
            ]
          },
          "metadata": {
            "tags": []
          },
          "execution_count": 80
        }
      ]
    },
    {
      "cell_type": "code",
      "metadata": {
        "id": "RVLuCiBpBsxn",
        "colab_type": "code",
        "colab": {}
      },
      "source": [
        "model_small_df['DRNumber'] = model_small_df['DRNumber'].apply(pd.to_numeric, errors='coerce')\n",
        "\n",
        "model_small_df['CrimeCode'] = model_small_df['CrimeCode'].apply(pd.to_numeric, errors='coerce')\n",
        "\n",
        "model_small_df['PremiseCode'] = model_small_df['PremiseCode'].apply(pd.to_numeric, errors='coerce')"
      ],
      "execution_count": 0,
      "outputs": []
    },
    {
      "cell_type": "code",
      "metadata": {
        "id": "XU-7byfZB1yP",
        "colab_type": "code",
        "colab": {
          "base_uri": "https://localhost:8080/",
          "height": 204
        },
        "outputId": "d89b4bf7-d027-4e09-8b43-e748426eedcd"
      },
      "source": [
        "model_small_df = model_small_df.fillna(0)\n",
        "model_small_df.reset_index()\n",
        "model_small_df.head(5)"
      ],
      "execution_count": 82,
      "outputs": [
        {
          "output_type": "execute_result",
          "data": {
            "text/html": [
              "<div>\n",
              "<style scoped>\n",
              "    .dataframe tbody tr th:only-of-type {\n",
              "        vertical-align: middle;\n",
              "    }\n",
              "\n",
              "    .dataframe tbody tr th {\n",
              "        vertical-align: top;\n",
              "    }\n",
              "\n",
              "    .dataframe thead th {\n",
              "        text-align: right;\n",
              "    }\n",
              "</style>\n",
              "<table border=\"1\" class=\"dataframe\">\n",
              "  <thead>\n",
              "    <tr style=\"text-align: right;\">\n",
              "      <th></th>\n",
              "      <th>DRNumber</th>\n",
              "      <th>CrimeCode</th>\n",
              "      <th>PremiseCode</th>\n",
              "    </tr>\n",
              "  </thead>\n",
              "  <tbody>\n",
              "    <tr>\n",
              "      <th>0</th>\n",
              "      <td>170209449</td>\n",
              "      <td>510</td>\n",
              "      <td>101.0</td>\n",
              "    </tr>\n",
              "    <tr>\n",
              "      <th>1</th>\n",
              "      <td>170206243</td>\n",
              "      <td>510</td>\n",
              "      <td>101.0</td>\n",
              "    </tr>\n",
              "    <tr>\n",
              "      <th>2</th>\n",
              "      <td>170311599</td>\n",
              "      <td>510</td>\n",
              "      <td>101.0</td>\n",
              "    </tr>\n",
              "    <tr>\n",
              "      <th>3</th>\n",
              "      <td>170408264</td>\n",
              "      <td>510</td>\n",
              "      <td>101.0</td>\n",
              "    </tr>\n",
              "    <tr>\n",
              "      <th>4</th>\n",
              "      <td>170508584</td>\n",
              "      <td>510</td>\n",
              "      <td>101.0</td>\n",
              "    </tr>\n",
              "  </tbody>\n",
              "</table>\n",
              "</div>"
            ],
            "text/plain": [
              "    DRNumber  CrimeCode  PremiseCode\n",
              "0  170209449        510        101.0\n",
              "1  170206243        510        101.0\n",
              "2  170311599        510        101.0\n",
              "3  170408264        510        101.0\n",
              "4  170508584        510        101.0"
            ]
          },
          "metadata": {
            "tags": []
          },
          "execution_count": 82
        }
      ]
    },
    {
      "cell_type": "code",
      "metadata": {
        "id": "pdCukH0BB4Zk",
        "colab_type": "code",
        "colab": {
          "base_uri": "https://localhost:8080/",
          "height": 34
        },
        "outputId": "32eb4572-edb1-4ec9-839b-a87eb2a3ae19"
      },
      "source": [
        "X = model_small_df.drop(\"PremiseCode\", axis=1)\n",
        "y = model_small_df[\"PremiseCode\"]\n",
        "print(X.shape, y.shape)"
      ],
      "execution_count": 83,
      "outputs": [
        {
          "output_type": "stream",
          "text": [
            "(7094, 2) (7094,)\n"
          ],
          "name": "stdout"
        }
      ]
    },
    {
      "cell_type": "code",
      "metadata": {
        "id": "q40ojh30B-sS",
        "colab_type": "code",
        "colab": {}
      },
      "source": [
        "from sklearn.model_selection import train_test_split\n",
        "\n",
        "X_train, X_test, y_train, y_test = train_test_split(X, y,random_state=1)\n"
      ],
      "execution_count": 0,
      "outputs": []
    },
    {
      "cell_type": "code",
      "metadata": {
        "id": "Y1wDfTClEBHH",
        "colab_type": "code",
        "colab": {
          "base_uri": "https://localhost:8080/",
          "height": 85
        },
        "outputId": "83578eb7-f8b7-48d4-90db-0929a6aee731"
      },
      "source": [
        "from sklearn.linear_model import LogisticRegression\n",
        "classifier = LogisticRegression()\n",
        "classifier\n",
        "\n",
        "classifier.fit(X_train, y_train)\n",
        "\n",
        "print(f\"Training Data Score: {classifier.score(X_train, y_train)}\")\n",
        "print(f\"Testing Data Score: {classifier.score(X_test, y_test)}\")\n",
        "\n",
        "predictions = classifier.predict(X_test)\n",
        "print(f\"First 10 Predictions:   {predictions[:10]}\")\n",
        "print(f\"First 10 Actual labels: {y_test[:10].tolist()}\")\n"
      ],
      "execution_count": 85,
      "outputs": [
        {
          "output_type": "stream",
          "text": [
            "Training Data Score: 0.718796992481203\n",
            "Testing Data Score: 0.7091319052987599\n",
            "First 10 Predictions:   [101. 101. 101. 101. 101. 101. 101. 101. 101. 101.]\n",
            "First 10 Actual labels: [101.0, 101.0, 108.0, 108.0, 101.0, 101.0, 101.0, 108.0, 101.0, 123.0]\n"
          ],
          "name": "stdout"
        }
      ]
    },
    {
      "cell_type": "code",
      "metadata": {
        "id": "XbBuvS9tERUn",
        "colab_type": "code",
        "colab": {
          "base_uri": "https://localhost:8080/",
          "height": 34
        },
        "outputId": "83883b73-4f29-49ac-cb47-f5338e1d3656"
      },
      "source": [
        "from sklearn.ensemble import RandomForestClassifier\n",
        "rf = RandomForestClassifier(n_estimators=20)\n",
        "rf = rf.fit(X, y)\n",
        "rf.score(X, y)\n"
      ],
      "execution_count": 86,
      "outputs": [
        {
          "output_type": "execute_result",
          "data": {
            "text/plain": [
              "0.8820129687059487"
            ]
          },
          "metadata": {
            "tags": []
          },
          "execution_count": 86
        }
      ]
    },
    {
      "cell_type": "code",
      "metadata": {
        "id": "nrR0aHTGEWIK",
        "colab_type": "code",
        "colab": {
          "base_uri": "https://localhost:8080/",
          "height": 34
        },
        "outputId": "aecddafb-6504-42e8-a5e8-7c7762fc1a05"
      },
      "source": [
        "importances = rf.feature_importances_\n",
        "importances"
      ],
      "execution_count": 87,
      "outputs": [
        {
          "output_type": "execute_result",
          "data": {
            "text/plain": [
              "array([1., 0.])"
            ]
          },
          "metadata": {
            "tags": []
          },
          "execution_count": 87
        }
      ]
    },
    {
      "cell_type": "code",
      "metadata": {
        "id": "8ho-raODEY6o",
        "colab_type": "code",
        "colab": {}
      },
      "source": [
        "from sklearn.model_selection import GridSearchCV\n",
        "param_grid = {'C': [1, 5, 10, 50]}\n",
        "grid = GridSearchCV(classifier, param_grid, verbose=3)"
      ],
      "execution_count": 0,
      "outputs": []
    },
    {
      "cell_type": "code",
      "metadata": {
        "id": "Y3k0gtccEcnr",
        "colab_type": "code",
        "colab": {
          "base_uri": "https://localhost:8080/",
          "height": 1000
        },
        "outputId": "799702d9-e05b-4b1b-dea5-a34048b04b88"
      },
      "source": [
        "grid.fit(X, y)"
      ],
      "execution_count": 89,
      "outputs": [
        {
          "output_type": "stream",
          "text": [
            "Fitting 5 folds for each of 4 candidates, totalling 20 fits\n",
            "[CV] C=1 .............................................................\n"
          ],
          "name": "stdout"
        },
        {
          "output_type": "stream",
          "text": [
            "/usr/local/lib/python3.6/dist-packages/sklearn/model_selection/_split.py:667: UserWarning: The least populated class in y has only 1 members, which is less than n_splits=5.\n",
            "  % (min_groups, self.n_splits)), UserWarning)\n",
            "[Parallel(n_jobs=1)]: Using backend SequentialBackend with 1 concurrent workers.\n"
          ],
          "name": "stderr"
        },
        {
          "output_type": "stream",
          "text": [
            "[CV] ................................. C=1, score=0.717, total=   1.2s\n",
            "[CV] C=1 .............................................................\n"
          ],
          "name": "stdout"
        },
        {
          "output_type": "stream",
          "text": [
            "[Parallel(n_jobs=1)]: Done   1 out of   1 | elapsed:    1.2s remaining:    0.0s\n"
          ],
          "name": "stderr"
        },
        {
          "output_type": "stream",
          "text": [
            "[CV] ................................. C=1, score=0.717, total=   1.2s\n",
            "[CV] C=1 .............................................................\n"
          ],
          "name": "stdout"
        },
        {
          "output_type": "stream",
          "text": [
            "[Parallel(n_jobs=1)]: Done   2 out of   2 | elapsed:    2.4s remaining:    0.0s\n"
          ],
          "name": "stderr"
        },
        {
          "output_type": "stream",
          "text": [
            "[CV] ................................. C=1, score=0.716, total=   1.1s\n",
            "[CV] C=1 .............................................................\n",
            "[CV] ................................. C=1, score=0.716, total=   1.2s\n",
            "[CV] C=1 .............................................................\n",
            "[CV] ................................. C=1, score=0.717, total=   1.2s\n",
            "[CV] C=5 .............................................................\n",
            "[CV] ................................. C=5, score=0.717, total=   1.2s\n",
            "[CV] C=5 .............................................................\n",
            "[CV] ................................. C=5, score=0.717, total=   1.2s\n",
            "[CV] C=5 .............................................................\n",
            "[CV] ................................. C=5, score=0.716, total=   1.1s\n",
            "[CV] C=5 .............................................................\n",
            "[CV] ................................. C=5, score=0.716, total=   1.2s\n",
            "[CV] C=5 .............................................................\n",
            "[CV] ................................. C=5, score=0.717, total=   1.2s\n",
            "[CV] C=10 ............................................................\n",
            "[CV] ................................ C=10, score=0.717, total=   1.2s\n",
            "[CV] C=10 ............................................................\n",
            "[CV] ................................ C=10, score=0.717, total=   1.2s\n",
            "[CV] C=10 ............................................................\n",
            "[CV] ................................ C=10, score=0.716, total=   1.1s\n",
            "[CV] C=10 ............................................................\n",
            "[CV] ................................ C=10, score=0.716, total=   1.2s\n",
            "[CV] C=10 ............................................................\n",
            "[CV] ................................ C=10, score=0.717, total=   1.2s\n",
            "[CV] C=50 ............................................................\n",
            "[CV] ................................ C=50, score=0.717, total=   1.2s\n",
            "[CV] C=50 ............................................................\n",
            "[CV] ................................ C=50, score=0.717, total=   1.2s\n",
            "[CV] C=50 ............................................................\n",
            "[CV] ................................ C=50, score=0.716, total=   1.1s\n",
            "[CV] C=50 ............................................................\n",
            "[CV] ................................ C=50, score=0.716, total=   1.2s\n",
            "[CV] C=50 ............................................................\n",
            "[CV] ................................ C=50, score=0.717, total=   1.2s\n"
          ],
          "name": "stdout"
        },
        {
          "output_type": "stream",
          "text": [
            "[Parallel(n_jobs=1)]: Done  20 out of  20 | elapsed:   23.6s finished\n"
          ],
          "name": "stderr"
        },
        {
          "output_type": "execute_result",
          "data": {
            "text/plain": [
              "GridSearchCV(cv=None, error_score=nan,\n",
              "             estimator=LogisticRegression(C=1.0, class_weight=None, dual=False,\n",
              "                                          fit_intercept=True,\n",
              "                                          intercept_scaling=1, l1_ratio=None,\n",
              "                                          max_iter=100, multi_class='auto',\n",
              "                                          n_jobs=None, penalty='l2',\n",
              "                                          random_state=None, solver='lbfgs',\n",
              "                                          tol=0.0001, verbose=0,\n",
              "                                          warm_start=False),\n",
              "             iid='deprecated', n_jobs=None, param_grid={'C': [1, 5, 10, 50]},\n",
              "             pre_dispatch='2*n_jobs', refit=True, return_train_score=False,\n",
              "             scoring=None, verbose=3)"
            ]
          },
          "metadata": {
            "tags": []
          },
          "execution_count": 89
        }
      ]
    },
    {
      "cell_type": "code",
      "metadata": {
        "id": "y41CKs_7EtfG",
        "colab_type": "code",
        "colab": {
          "base_uri": "https://localhost:8080/",
          "height": 34
        },
        "outputId": "36afe651-4f80-457f-a042-c3f7716e67bf"
      },
      "source": [
        "print(grid.best_params_)\n"
      ],
      "execution_count": 90,
      "outputs": [
        {
          "output_type": "stream",
          "text": [
            "{'C': 1}\n"
          ],
          "name": "stdout"
        }
      ]
    },
    {
      "cell_type": "code",
      "metadata": {
        "id": "Aevs6789Euvf",
        "colab_type": "code",
        "colab": {
          "base_uri": "https://localhost:8080/",
          "height": 34
        },
        "outputId": "41fe1f89-5adb-459b-de70-8c49b0dabc75"
      },
      "source": [
        "print(grid.best_score_)"
      ],
      "execution_count": 91,
      "outputs": [
        {
          "output_type": "stream",
          "text": [
            "0.7163800566759205\n"
          ],
          "name": "stdout"
        }
      ]
    },
    {
      "cell_type": "code",
      "metadata": {
        "id": "XVbcbQdQEx_j",
        "colab_type": "code",
        "colab": {}
      },
      "source": [
        "predictions = grid.predict(X)"
      ],
      "execution_count": 0,
      "outputs": []
    },
    {
      "cell_type": "code",
      "metadata": {
        "id": "P9QIpypBE0s6",
        "colab_type": "code",
        "colab": {
          "base_uri": "https://localhost:8080/",
          "height": 683
        },
        "outputId": "832458f9-2345-4770-dba9-fb5d67f1fcc5"
      },
      "source": [
        "from sklearn.metrics import classification_report\n",
        "print(classification_report(y, predictions,\n",
        "                            target_names=['101', '108', '123', '707', '103', '208', '104', '158', '710', '301', '106',\n",
        "                                          '121', '142', '217', '151', '109', '110', '116', '118', '203', '102',\n",
        "                                          '107', '122', '255', '705', '502', '213', '501', '416']))\n"
      ],
      "execution_count": 96,
      "outputs": [
        {
          "output_type": "stream",
          "text": [
            "              precision    recall  f1-score   support\n",
            "\n",
            "         101       0.72      1.00      0.83      5082\n",
            "         108       0.00      0.00      0.00         4\n",
            "         123       0.00      0.00      0.00        65\n",
            "         707       0.00      0.00      0.00       280\n",
            "         103       0.00      0.00      0.00         2\n",
            "         208       0.00      0.00      0.00         1\n",
            "         104       0.00      0.00      0.00      1191\n",
            "         158       0.00      0.00      0.00         2\n",
            "         710       0.00      0.00      0.00         1\n",
            "         301       0.00      0.00      0.00         4\n",
            "         106       0.00      0.00      0.00        14\n",
            "         121       0.00      0.00      0.00        14\n",
            "         142       0.00      0.00      0.00         1\n",
            "         217       0.00      0.00      0.00        98\n",
            "         151       0.00      0.00      0.00         2\n",
            "         109       0.00      0.00      0.00         4\n",
            "         110       0.00      0.00      0.00         1\n",
            "         116       0.00      0.00      0.00        25\n",
            "         118       0.00      0.00      0.00        14\n",
            "         203       0.00      0.00      0.00         3\n",
            "         102       0.00      0.00      0.00        10\n",
            "         107       0.00      0.00      0.00         6\n",
            "         122       0.00      0.00      0.00        12\n",
            "         255       0.00      0.00      0.00         1\n",
            "         705       0.00      0.00      0.00         1\n",
            "         502       0.00      0.00      0.00         1\n",
            "         213       0.00      0.00      0.00         1\n",
            "         501       0.00      0.00      0.00       243\n",
            "         416       0.00      0.00      0.00        11\n",
            "\n",
            "    accuracy                           0.72      7094\n",
            "   macro avg       0.02      0.03      0.03      7094\n",
            "weighted avg       0.51      0.72      0.60      7094\n",
            "\n"
          ],
          "name": "stdout"
        },
        {
          "output_type": "stream",
          "text": [
            "/usr/local/lib/python3.6/dist-packages/sklearn/metrics/_classification.py:1272: UndefinedMetricWarning: Precision and F-score are ill-defined and being set to 0.0 in labels with no predicted samples. Use `zero_division` parameter to control this behavior.\n",
            "  _warn_prf(average, modifier, msg_start, len(result))\n"
          ],
          "name": "stderr"
        }
      ]
    },
    {
      "cell_type": "code",
      "metadata": {
        "id": "H-YwSAaXFILj",
        "colab_type": "code",
        "colab": {
          "base_uri": "https://localhost:8080/",
          "height": 68
        },
        "outputId": "ea74c76b-a8dc-4776-e5f2-dee4445348e9"
      },
      "source": [
        "from sklearn.neighbors import KNeighborsClassifier\n",
        "knn = KNeighborsClassifier(n_neighbors=1000)\n",
        "knn.fit(X_train,y_train)\n"
      ],
      "execution_count": 97,
      "outputs": [
        {
          "output_type": "execute_result",
          "data": {
            "text/plain": [
              "KNeighborsClassifier(algorithm='auto', leaf_size=30, metric='minkowski',\n",
              "                     metric_params=None, n_jobs=None, n_neighbors=1000, p=2,\n",
              "                     weights='uniform')"
            ]
          },
          "metadata": {
            "tags": []
          },
          "execution_count": 97
        }
      ]
    },
    {
      "cell_type": "code",
      "metadata": {
        "id": "0eJlTCJ0FPMY",
        "colab_type": "code",
        "colab": {
          "base_uri": "https://localhost:8080/",
          "height": 34
        },
        "outputId": "6194e762-2518-44da-adbd-34f9f2031ba2"
      },
      "source": [
        "knn.score(X_test,y_test)"
      ],
      "execution_count": 98,
      "outputs": [
        {
          "output_type": "execute_result",
          "data": {
            "text/plain": [
              "0.7091319052987599"
            ]
          },
          "metadata": {
            "tags": []
          },
          "execution_count": 98
        }
      ]
    },
    {
      "cell_type": "code",
      "metadata": {
        "id": "vEwAxfyLFSkA",
        "colab_type": "code",
        "colab": {
          "base_uri": "https://localhost:8080/",
          "height": 34
        },
        "outputId": "65175cf8-b894-44a5-e5b5-26f40736b623"
      },
      "source": [
        "knn.score(X_train,y_train)\n"
      ],
      "execution_count": 99,
      "outputs": [
        {
          "output_type": "execute_result",
          "data": {
            "text/plain": [
              "0.718796992481203"
            ]
          },
          "metadata": {
            "tags": []
          },
          "execution_count": 99
        }
      ]
    },
    {
      "cell_type": "code",
      "metadata": {
        "id": "S7SaMSwbFWSB",
        "colab_type": "code",
        "colab": {
          "base_uri": "https://localhost:8080/",
          "height": 449
        },
        "outputId": "b157a8d0-a844-41c9-df07-6da637c85532"
      },
      "source": [
        "train_scores = []\n",
        "test_scores = []\n",
        "for k in range(1, 20, 2):\n",
        "    knn = KNeighborsClassifier(n_neighbors=k)\n",
        "    knn.fit(X_train, y_train)\n",
        "    train_score = knn.score(X_train, y_train)\n",
        "    test_score = knn.score(X_test, y_test)\n",
        "    train_scores.append(train_score)\n",
        "    test_scores.append(test_score)\n",
        "    print(f\"k: {k}, Train/Test Score: {train_score:.3f}/{test_score:.3f}\")\n",
        "    \n",
        "    \n",
        "plt.plot(range(1, 20, 2), train_scores, marker='o')\n",
        "plt.plot(range(1, 20, 2), test_scores, marker=\"x\")\n",
        "plt.xlabel(\"k neighbors\")\n",
        "plt.ylabel(\"Testing accuracy Score\")\n",
        "plt.show()"
      ],
      "execution_count": 100,
      "outputs": [
        {
          "output_type": "stream",
          "text": [
            "k: 1, Train/Test Score: 1.000/0.557\n",
            "k: 3, Train/Test Score: 0.768/0.665\n",
            "k: 5, Train/Test Score: 0.739/0.681\n",
            "k: 7, Train/Test Score: 0.730/0.697\n",
            "k: 9, Train/Test Score: 0.726/0.700\n",
            "k: 11, Train/Test Score: 0.724/0.703\n",
            "k: 13, Train/Test Score: 0.723/0.708\n",
            "k: 15, Train/Test Score: 0.722/0.709\n",
            "k: 17, Train/Test Score: 0.721/0.708\n",
            "k: 19, Train/Test Score: 0.720/0.709\n"
          ],
          "name": "stdout"
        },
        {
          "output_type": "display_data",
          "data": {
            "image/png": "[encoded data removed]",
            "text/plain": [
              "<Figure size 432x288 with 1 Axes>"
            ]
          },
          "metadata": {
            "tags": [],
            "needs_background": "light"
          }
        }
      ]
    }
  ]
}