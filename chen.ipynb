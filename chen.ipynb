{
  "nbformat": 4,
  "nbformat_minor": 0,
  "metadata": {
    "colab": {
      "name": "Untitled3.ipynb",
      "provenance": [],
      "authorship_tag": "ABX9TyMSrfi05Y7QxWgt94PQmsaM",
      "include_colab_link": true
    },
    "kernelspec": {
      "name": "python3",
      "display_name": "Python 3"
    }
  },
  "cells": [
    {
      "cell_type": "markdown",
      "metadata": {
        "id": "view-in-github",
        "colab_type": "text"
      },
      "source": [
        "<a href=\"https://colab.research.google.com/github/saranyapalani/project/blob/master/chen.ipynb\" target=\"_parent\"><img src=\"https://colab.research.google.com/assets/colab-badge.svg\" alt=\"Open In Colab\"/></a>"
      ]
    },
    {
      "cell_type": "code",
      "metadata": {
        "id": "n-KnEVvcLNLy",
        "colab_type": "code",
        "colab": {}
      },
      "source": [
        "import pandas as pd\n",
        "import numpy as np\n",
        "import matplotlib.pyplot as plt\n",
        "import seaborn as sns\n",
        "from sklearn.metrics import mean_squared_error, r2_score\n",
        "from sklearn.linear_model import LinearRegression\n",
        "from sklearn.model_selection import train_test_split\n",
        "import os\n",
        "import folium\n",
        "import webbrowser\n",
        "from PIL import Image"
      ],
      "execution_count": 0,
      "outputs": []
    },
    {
      "cell_type": "code",
      "metadata": {
        "id": "0O8pTajDLRCg",
        "colab_type": "code",
        "colab": {
          "base_uri": "https://localhost:8080/",
          "height": 125
        },
        "outputId": "d89b8581-2e0e-4474-ea9f-14eb2524a849"
      },
      "source": [
        "from google.colab import drive\n",
        "drive.mount('/content/drive')"
      ],
      "execution_count": 2,
      "outputs": [
        {
          "output_type": "stream",
          "text": [
            "Go to this URL in a browser: https://accounts.google.com/o/oauth2/auth?client_id=947318989803-6bn6qk8qdgf4n4g3pfee6491hc0brc4i.apps.googleusercontent.com&redirect_uri=urn%3aietf%3awg%3aoauth%3a2.0%3aoob&response_type=code&scope=email%20https%3a%2f%2fwww.googleapis.com%2fauth%2fdocs.test%20https%3a%2f%2fwww.googleapis.com%2fauth%2fdrive%20https%3a%2f%2fwww.googleapis.com%2fauth%2fdrive.photos.readonly%20https%3a%2f%2fwww.googleapis.com%2fauth%2fpeopleapi.readonly\n",
            "\n",
            "Enter your authorization code:\n",
            "··········\n",
            "Mounted at /content/drive\n"
          ],
          "name": "stdout"
        }
      ]
    },
    {
      "cell_type": "code",
      "metadata": {
        "id": "P29365kCLZGB",
        "colab_type": "code",
        "colab": {}
      },
      "source": [
        "df=pd.read_csv('/content/drive/My Drive/and.csv')"
      ],
      "execution_count": 0,
      "outputs": []
    },
    {
      "cell_type": "code",
      "metadata": {
        "id": "lhcWCc-7Ld2l",
        "colab_type": "code",
        "colab": {
          "base_uri": "https://localhost:8080/",
          "height": 315
        },
        "outputId": "0fc9e161-4d94-43a0-8aa6-1bb196f1d46e"
      },
      "source": [
        "dfsmooth=df.dropna(axis=1)\n",
        "dfsmooth.isna().sum()\n",
        "dfsmooth=dfsmooth[1:]\n",
        "print(len(dfsmooth))\n",
        "df.describe().to_csv(\"Clean.csv\")\n",
        "dfsmooth.head()\n"
      ],
      "execution_count": 4,
      "outputs": [
        {
          "output_type": "stream",
          "text": [
            "332493\n"
          ],
          "name": "stdout"
        },
        {
          "output_type": "execute_result",
          "data": {
            "text/html": [
              "<div>\n",
              "<style scoped>\n",
              "    .dataframe tbody tr th:only-of-type {\n",
              "        vertical-align: middle;\n",
              "    }\n",
              "\n",
              "    .dataframe tbody tr th {\n",
              "        vertical-align: top;\n",
              "    }\n",
              "\n",
              "    .dataframe thead th {\n",
              "        text-align: right;\n",
              "    }\n",
              "</style>\n",
              "<table border=\"1\" class=\"dataframe\">\n",
              "  <thead>\n",
              "    <tr style=\"text-align: right;\">\n",
              "      <th></th>\n",
              "      <th>CASENUM</th>\n",
              "      <th>Date</th>\n",
              "      <th>IUCR</th>\n",
              "      <th>Primary Type</th>\n",
              "      <th>Arrest</th>\n",
              "      <th>District</th>\n",
              "      <th>X Coordinate</th>\n",
              "      <th>Y Coordinate</th>\n",
              "      <th>Year</th>\n",
              "      <th>Updated On</th>\n",
              "      <th>Latitude</th>\n",
              "      <th>Longitude</th>\n",
              "      <th>Location</th>\n",
              "    </tr>\n",
              "  </thead>\n",
              "  <tbody>\n",
              "    <tr>\n",
              "      <th>1</th>\n",
              "      <td>11162428</td>\n",
              "      <td>11/28/2017 09:43:00 PM</td>\n",
              "      <td>5131</td>\n",
              "      <td>park</td>\n",
              "      <td>True</td>\n",
              "      <td>10</td>\n",
              "      <td>1158280</td>\n",
              "      <td>1886310</td>\n",
              "      <td>2017</td>\n",
              "      <td>02-11-2018 15:54</td>\n",
              "      <td>41.843778</td>\n",
              "      <td>-87.694638</td>\n",
              "      <td>(41.843778126, -87.694637678)</td>\n",
              "    </tr>\n",
              "    <tr>\n",
              "      <th>2</th>\n",
              "      <td>11175304</td>\n",
              "      <td>12-11-2017 19:15</td>\n",
              "      <td>31</td>\n",
              "      <td>park</td>\n",
              "      <td>True</td>\n",
              "      <td>12</td>\n",
              "      <td>1156092</td>\n",
              "      <td>1904769</td>\n",
              "      <td>2017</td>\n",
              "      <td>02-11-2018 15:54</td>\n",
              "      <td>41.894476</td>\n",
              "      <td>-87.702169</td>\n",
              "      <td>(41.894475919, -87.702169158)</td>\n",
              "    </tr>\n",
              "    <tr>\n",
              "      <th>3</th>\n",
              "      <td>11227287</td>\n",
              "      <td>10-08-2017 03:00</td>\n",
              "      <td>281</td>\n",
              "      <td>park</td>\n",
              "      <td>False</td>\n",
              "      <td>22</td>\n",
              "      <td>1170736</td>\n",
              "      <td>1827003</td>\n",
              "      <td>2017</td>\n",
              "      <td>02-11-2018 15:57</td>\n",
              "      <td>41.894476</td>\n",
              "      <td>-87.619099</td>\n",
              "      <td>(41.894475919, -87.702169158)</td>\n",
              "    </tr>\n",
              "    <tr>\n",
              "      <th>4</th>\n",
              "      <td>11227583</td>\n",
              "      <td>03/28/2017 02:00:00 PM</td>\n",
              "      <td>620</td>\n",
              "      <td>park</td>\n",
              "      <td>False</td>\n",
              "      <td>8</td>\n",
              "      <td>1170736</td>\n",
              "      <td>1827003</td>\n",
              "      <td>2017</td>\n",
              "      <td>02-11-2018 15:57</td>\n",
              "      <td>41.894476</td>\n",
              "      <td>-87.619099</td>\n",
              "      <td>(41.894475919, -87.702169158)</td>\n",
              "    </tr>\n",
              "    <tr>\n",
              "      <th>5</th>\n",
              "      <td>11227293</td>\n",
              "      <td>09-09-2017 20:17</td>\n",
              "      <td>810</td>\n",
              "      <td>park</td>\n",
              "      <td>False</td>\n",
              "      <td>3</td>\n",
              "      <td>1170736</td>\n",
              "      <td>1827003</td>\n",
              "      <td>2017</td>\n",
              "      <td>02-11-2018 15:57</td>\n",
              "      <td>41.894476</td>\n",
              "      <td>-87.619099</td>\n",
              "      <td>(41.894475919, -87.702169158)</td>\n",
              "    </tr>\n",
              "  </tbody>\n",
              "</table>\n",
              "</div>"
            ],
            "text/plain": [
              "    CASENUM                    Date  ...  Longitude                       Location\n",
              "1  11162428  11/28/2017 09:43:00 PM  ... -87.694638  (41.843778126, -87.694637678)\n",
              "2  11175304        12-11-2017 19:15  ... -87.702169  (41.894475919, -87.702169158)\n",
              "3  11227287        10-08-2017 03:00  ... -87.619099  (41.894475919, -87.702169158)\n",
              "4  11227583  03/28/2017 02:00:00 PM  ... -87.619099  (41.894475919, -87.702169158)\n",
              "5  11227293        09-09-2017 20:17  ... -87.619099  (41.894475919, -87.702169158)\n",
              "\n",
              "[5 rows x 13 columns]"
            ]
          },
          "metadata": {
            "tags": []
          },
          "execution_count": 4
        }
      ]
    },
    {
      "cell_type": "code",
      "metadata": {
        "id": "fU1T74VVLgVY",
        "colab_type": "code",
        "colab": {
          "base_uri": "https://localhost:8080/",
          "height": 297
        },
        "outputId": "1f68a573-a05c-4549-ecc2-8d27b3ff4bcc"
      },
      "source": [
        "c1=dfsmooth.columns.tolist()\n",
        "dfsmooth=dfsmooth[c1[1:]]\n",
        "dfsmooth.head()"
      ],
      "execution_count": 5,
      "outputs": [
        {
          "output_type": "execute_result",
          "data": {
            "text/html": [
              "<div>\n",
              "<style scoped>\n",
              "    .dataframe tbody tr th:only-of-type {\n",
              "        vertical-align: middle;\n",
              "    }\n",
              "\n",
              "    .dataframe tbody tr th {\n",
              "        vertical-align: top;\n",
              "    }\n",
              "\n",
              "    .dataframe thead th {\n",
              "        text-align: right;\n",
              "    }\n",
              "</style>\n",
              "<table border=\"1\" class=\"dataframe\">\n",
              "  <thead>\n",
              "    <tr style=\"text-align: right;\">\n",
              "      <th></th>\n",
              "      <th>Date</th>\n",
              "      <th>IUCR</th>\n",
              "      <th>Primary Type</th>\n",
              "      <th>Arrest</th>\n",
              "      <th>District</th>\n",
              "      <th>X Coordinate</th>\n",
              "      <th>Y Coordinate</th>\n",
              "      <th>Year</th>\n",
              "      <th>Updated On</th>\n",
              "      <th>Latitude</th>\n",
              "      <th>Longitude</th>\n",
              "      <th>Location</th>\n",
              "    </tr>\n",
              "  </thead>\n",
              "  <tbody>\n",
              "    <tr>\n",
              "      <th>1</th>\n",
              "      <td>11/28/2017 09:43:00 PM</td>\n",
              "      <td>5131</td>\n",
              "      <td>park</td>\n",
              "      <td>True</td>\n",
              "      <td>10</td>\n",
              "      <td>1158280</td>\n",
              "      <td>1886310</td>\n",
              "      <td>2017</td>\n",
              "      <td>02-11-2018 15:54</td>\n",
              "      <td>41.843778</td>\n",
              "      <td>-87.694638</td>\n",
              "      <td>(41.843778126, -87.694637678)</td>\n",
              "    </tr>\n",
              "    <tr>\n",
              "      <th>2</th>\n",
              "      <td>12-11-2017 19:15</td>\n",
              "      <td>31</td>\n",
              "      <td>park</td>\n",
              "      <td>True</td>\n",
              "      <td>12</td>\n",
              "      <td>1156092</td>\n",
              "      <td>1904769</td>\n",
              "      <td>2017</td>\n",
              "      <td>02-11-2018 15:54</td>\n",
              "      <td>41.894476</td>\n",
              "      <td>-87.702169</td>\n",
              "      <td>(41.894475919, -87.702169158)</td>\n",
              "    </tr>\n",
              "    <tr>\n",
              "      <th>3</th>\n",
              "      <td>10-08-2017 03:00</td>\n",
              "      <td>281</td>\n",
              "      <td>park</td>\n",
              "      <td>False</td>\n",
              "      <td>22</td>\n",
              "      <td>1170736</td>\n",
              "      <td>1827003</td>\n",
              "      <td>2017</td>\n",
              "      <td>02-11-2018 15:57</td>\n",
              "      <td>41.894476</td>\n",
              "      <td>-87.619099</td>\n",
              "      <td>(41.894475919, -87.702169158)</td>\n",
              "    </tr>\n",
              "    <tr>\n",
              "      <th>4</th>\n",
              "      <td>03/28/2017 02:00:00 PM</td>\n",
              "      <td>620</td>\n",
              "      <td>park</td>\n",
              "      <td>False</td>\n",
              "      <td>8</td>\n",
              "      <td>1170736</td>\n",
              "      <td>1827003</td>\n",
              "      <td>2017</td>\n",
              "      <td>02-11-2018 15:57</td>\n",
              "      <td>41.894476</td>\n",
              "      <td>-87.619099</td>\n",
              "      <td>(41.894475919, -87.702169158)</td>\n",
              "    </tr>\n",
              "    <tr>\n",
              "      <th>5</th>\n",
              "      <td>09-09-2017 20:17</td>\n",
              "      <td>810</td>\n",
              "      <td>park</td>\n",
              "      <td>False</td>\n",
              "      <td>3</td>\n",
              "      <td>1170736</td>\n",
              "      <td>1827003</td>\n",
              "      <td>2017</td>\n",
              "      <td>02-11-2018 15:57</td>\n",
              "      <td>41.894476</td>\n",
              "      <td>-87.619099</td>\n",
              "      <td>(41.894475919, -87.702169158)</td>\n",
              "    </tr>\n",
              "  </tbody>\n",
              "</table>\n",
              "</div>"
            ],
            "text/plain": [
              "                     Date  IUCR  ...  Longitude                       Location\n",
              "1  11/28/2017 09:43:00 PM  5131  ... -87.694638  (41.843778126, -87.694637678)\n",
              "2        12-11-2017 19:15    31  ... -87.702169  (41.894475919, -87.702169158)\n",
              "3        10-08-2017 03:00   281  ... -87.619099  (41.894475919, -87.702169158)\n",
              "4  03/28/2017 02:00:00 PM   620  ... -87.619099  (41.894475919, -87.702169158)\n",
              "5        09-09-2017 20:17   810  ... -87.619099  (41.894475919, -87.702169158)\n",
              "\n",
              "[5 rows x 12 columns]"
            ]
          },
          "metadata": {
            "tags": []
          },
          "execution_count": 5
        }
      ]
    },
    {
      "cell_type": "code",
      "metadata": {
        "id": "Yt5ij7qhLjuj",
        "colab_type": "code",
        "colab": {
          "base_uri": "https://localhost:8080/",
          "height": 52
        },
        "outputId": "0876df46-0c14-48ae-e328-8205276d202d"
      },
      "source": [
        "dfarr=np.array(dfsmooth['Primary Type'])\n",
        "dfu=np.unique(dfarr)\n",
        "dfkey=np.unique(np.array(np.array(dfsmooth['Primary Type'])))\n",
        "dfval=np.array(dfsmooth['Primary Type'].value_counts().values)\n",
        "print(dfu[:8])\n",
        "print(dfval[:8])\n"
      ],
      "execution_count": 6,
      "outputs": [
        {
          "output_type": "stream",
          "text": [
            "['appartment' 'commercial centers' 'others' 'park' 'residence' 'street']\n",
            "[102474  64879  53174  41958  36797  33211]\n"
          ],
          "name": "stdout"
        }
      ]
    },
    {
      "cell_type": "code",
      "metadata": {
        "id": "XJKDg11qLmm-",
        "colab_type": "code",
        "colab": {
          "base_uri": "https://localhost:8080/",
          "height": 505
        },
        "outputId": "33a55973-46fb-4c98-b230-f04ad790c82a"
      },
      "source": [
        "color='cmykrgb'\n",
        "plt.figure(figsize=(20,7))\n",
        "plt.title(\"Crime Scenario of 2014-2019 (Max: {}={})\".format(dfu[:8][0],dfval[:8][0]),fontsize=20,color='m')\n",
        "plt.xlabel(\"Crime Type->\",fontsize=15,color='b')\n",
        "plt.ylabel(\"Crime Occured->\",fontsize=15,color='b')\n",
        "plt.grid()\n",
        "plt.bar(dfu[:8],dfval[:8],color=color,width=0.5)\n"
      ],
      "execution_count": 8,
      "outputs": [
        {
          "output_type": "execute_result",
          "data": {
            "text/plain": [
              "<BarContainer object of 6 artists>"
            ]
          },
          "metadata": {
            "tags": []
          },
          "execution_count": 8
        },
        {
          "output_type": "display_data",
          "data": {
            "image/png": "[encoded data removed]",
            "text/plain": [
              "<Figure size 1440x504 with 1 Axes>"
            ]
          },
          "metadata": {
            "tags": []
          }
        }
      ]
    },
    {
      "cell_type": "code",
      "metadata": {
        "id": "Zrx17deSLtl0",
        "colab_type": "code",
        "colab": {
          "base_uri": "https://localhost:8080/",
          "height": 541
        },
        "outputId": "1260c541-2ce3-497d-ad0c-148b2fb19215"
      },
      "source": [
        "c01=dfsmooth[dfsmooth['Year']==2014]\n",
        "c01=c01[c01.columns.tolist()[1:]]\n",
        "c01.head()\n",
        "c01arr=np.array(c01['Primary Type'])\n",
        "c01u=np.unique(c01arr)\n",
        "c01key=np.unique(np.array(np.array(c01['Primary Type'])))\n",
        "c01val=np.array(c01['Primary Type'].value_counts().values)\n",
        "print(c01u[:8])\n",
        "print(c01val[:8])\n",
        "color='cmykrgb'\n",
        "plt.figure(figsize=(20,7))\n",
        "plt.title(\"Crime Scenario of 2001 Max: {}={}\".format(c01u[:8][0],c01val[:8][0]),fontsize=20,color='m')\n",
        "plt.xlabel(\"Crime Type->\",fontsize=15,color='b')\n",
        "plt.ylabel(\"Crime Occured->\",fontsize=15,color='b')\n",
        "plt.grid()\n",
        "plt.bar(c01u[:8],c01val[:8],color=color,width=0.5)\n",
        "\n"
      ],
      "execution_count": 9,
      "outputs": [
        {
          "output_type": "stream",
          "text": [
            "['appartment' 'commercial centers' 'others' 'park' 'residence' 'street']\n",
            "[436 300 272 164 125 124]\n"
          ],
          "name": "stdout"
        },
        {
          "output_type": "execute_result",
          "data": {
            "text/plain": [
              "<BarContainer object of 6 artists>"
            ]
          },
          "metadata": {
            "tags": []
          },
          "execution_count": 9
        },
        {
          "output_type": "display_data",
          "data": {
            "image/png": "[encoded data removed]",
            "text/plain": [
              "<Figure size 1440x504 with 1 Axes>"
            ]
          },
          "metadata": {
            "tags": []
          }
        }
      ]
    },
    {
      "cell_type": "code",
      "metadata": {
        "id": "LhZRVD0yLzuM",
        "colab_type": "code",
        "colab": {
          "base_uri": "https://localhost:8080/",
          "height": 541
        },
        "outputId": "dfa4df05-dbb1-4795-f66c-6a5501fd0351"
      },
      "source": [
        "c02=dfsmooth[dfsmooth['Year']==2015]\n",
        "c02=c02[c02.columns.tolist()[1:]]\n",
        "c02.head()\n",
        "c02arr=np.array(c02['Primary Type'])\n",
        "c02u=np.unique(c02arr)\n",
        "c02key=np.unique(np.array(np.array(c02['Primary Type'])))\n",
        "c02val=np.array(c02['Primary Type'].value_counts().values)\n",
        "print(c02u[:8])\n",
        "print(c02val[:8])\n",
        "color='cmykrgb'\n",
        "plt.figure(figsize=(20,7))\n",
        "plt.title(\"Crime Scenario of 2001 Max: {}={}\".format(c02u[:8][0],c02val[:8][0]),fontsize=20,color='m')\n",
        "plt.xlabel(\"Crime Type->\",fontsize=15,color='b')\n",
        "plt.ylabel(\"Crime Occured->\",fontsize=15,color='b')\n",
        "plt.grid()\n",
        "plt.bar(c02u[:8],c02val[:8],color=color,width=0.5)\n",
        "\n"
      ],
      "execution_count": 10,
      "outputs": [
        {
          "output_type": "stream",
          "text": [
            "['appartment' 'commercial centers' 'others' 'park' 'residence' 'street']\n",
            "[102310  54273  52992  41044  30456  22629]\n"
          ],
          "name": "stdout"
        },
        {
          "output_type": "execute_result",
          "data": {
            "text/plain": [
              "<BarContainer object of 6 artists>"
            ]
          },
          "metadata": {
            "tags": []
          },
          "execution_count": 10
        },
        {
          "output_type": "display_data",
          "data": {
            "image/png": "[encoded data removed]",
            "text/plain": [
              "<Figure size 1440x504 with 1 Axes>"
            ]
          },
          "metadata": {
            "tags": []
          }
        }
      ]
    },
    {
      "cell_type": "code",
      "metadata": {
        "id": "_zsjwjfVL3Ja",
        "colab_type": "code",
        "colab": {
          "base_uri": "https://localhost:8080/",
          "height": 541
        },
        "outputId": "56e8cd24-b700-40c9-889e-1bfa69d87446"
      },
      "source": [
        "c03=dfsmooth[dfsmooth['Year']==2016]\n",
        "c03=c03[c03.columns.tolist()[1:]]\n",
        "c03.head()\n",
        "c03arr=np.array(c03['Primary Type'])\n",
        "c03u=np.unique(c03arr)\n",
        "c03key=np.unique(np.array(np.array(c03['Primary Type'])))\n",
        "c03val=np.array(c03['Primary Type'].value_counts().values)\n",
        "print(c03u[:8])\n",
        "print(c03val[:8])\n",
        "color='cmykrgb'\n",
        "plt.figure(figsize=(20,7))\n",
        "plt.title(\"Crime Scenario of 2001 Max: {}={}\".format(c03u[:8][0],c03val[:8][0]),fontsize=20,color='m')\n",
        "plt.xlabel(\"Crime Type->\",fontsize=15,color='b')\n",
        "plt.ylabel(\"Crime Occured->\",fontsize=15,color='b')\n",
        "plt.grid()\n",
        "plt.bar(c03u[:8],c03val[:8],color=color,width=0.5)\n",
        "\n"
      ],
      "execution_count": 11,
      "outputs": [
        {
          "output_type": "stream",
          "text": [
            "['appartment' 'commercial centers' 'others' 'park' 'street']\n",
            "[1530  228  154    6    3]\n"
          ],
          "name": "stdout"
        },
        {
          "output_type": "execute_result",
          "data": {
            "text/plain": [
              "<BarContainer object of 5 artists>"
            ]
          },
          "metadata": {
            "tags": []
          },
          "execution_count": 11
        },
        {
          "output_type": "display_data",
          "data": {
            "image/png": "[encoded data removed]",
            "text/plain": [
              "<Figure size 1440x504 with 1 Axes>"
            ]
          },
          "metadata": {
            "tags": []
          }
        }
      ]
    },
    {
      "cell_type": "code",
      "metadata": {
        "id": "wRD-LIPxL6yg",
        "colab_type": "code",
        "colab": {
          "base_uri": "https://localhost:8080/",
          "height": 541
        },
        "outputId": "a71fbebe-c5e6-4eec-87d9-1795f0a6f5c4"
      },
      "source": [
        "c04=dfsmooth[dfsmooth['Year']==2017]\n",
        "c04=c04[c04.columns.tolist()[1:]]\n",
        "c04.head()\n",
        "c04arr=np.array(c04['Primary Type'])\n",
        "c04u=np.unique(c04arr)\n",
        "c04key=np.unique(np.array(np.array(c04['Primary Type'])))\n",
        "c04val=np.array(c04['Primary Type'].value_counts().values)\n",
        "print(c04u[:8])\n",
        "print(c04val[:8])\n",
        "color='cmykrgb'\n",
        "plt.figure(figsize=(20,7))\n",
        "plt.title(\"Crime Scenario of 2001 Max: {}={}\".format(c04u[:8][0],c04val[:8][0]),fontsize=20,color='m')\n",
        "plt.xlabel(\"Crime Type->\",fontsize=15,color='b')\n",
        "plt.ylabel(\"Crime Occured->\",fontsize=15,color='b')\n",
        "plt.grid()\n",
        "plt.bar(c04u[:8],c04val[:8],color=color,width=0.5)\n",
        "\n"
      ],
      "execution_count": 12,
      "outputs": [
        {
          "output_type": "stream",
          "text": [
            "['appartment' 'commercial centers' 'others' 'park' 'street']\n",
            "[12252 10479   727   201    27]\n"
          ],
          "name": "stdout"
        },
        {
          "output_type": "execute_result",
          "data": {
            "text/plain": [
              "<BarContainer object of 5 artists>"
            ]
          },
          "metadata": {
            "tags": []
          },
          "execution_count": 12
        },
        {
          "output_type": "display_data",
          "data": {
            "image/png": "[encoded data removed]",
            "text/plain": [
              "<Figure size 1440x504 with 1 Axes>"
            ]
          },
          "metadata": {
            "tags": []
          }
        }
      ]
    },
    {
      "cell_type": "code",
      "metadata": {
        "id": "Pp6x3rP4L-N4",
        "colab_type": "code",
        "colab": {
          "base_uri": "https://localhost:8080/",
          "height": 541
        },
        "outputId": "4b9c970c-0a0f-45a6-c537-7c9caeb9afe2"
      },
      "source": [
        "c05=dfsmooth[dfsmooth['Year']==2018]\n",
        "c05=c05[c05.columns.tolist()[1:]]\n",
        "c05.head()\n",
        "c05arr=np.array(c05['Primary Type'])\n",
        "c05u=np.unique(c05arr)\n",
        "c05key=np.unique(np.array(np.array(c05['Primary Type'])))\n",
        "c05val=np.array(c05['Primary Type'].value_counts().values)\n",
        "print(c05u[:8])\n",
        "print(c05val[:8])\n",
        "color='cmykrgb'\n",
        "plt.figure(figsize=(20,7))\n",
        "plt.title(\"Crime Scenario of 2001 Max: {}={}\".format(c05u[:8][0],c05val[:8][0]),fontsize=20,color='m')\n",
        "plt.xlabel(\"Crime Type->\",fontsize=15,color='b')\n",
        "plt.ylabel(\"Crime Occured->\",fontsize=15,color='b')\n",
        "plt.grid()\n",
        "plt.bar(c05u[:8],c05val[:8],color=color,width=0.5)\n",
        "\n"
      ],
      "execution_count": 13,
      "outputs": [
        {
          "output_type": "stream",
          "text": [
            "['commercial centers' 'others' 'park' 'street']\n",
            "[1404  183   49   21]\n"
          ],
          "name": "stdout"
        },
        {
          "output_type": "execute_result",
          "data": {
            "text/plain": [
              "<BarContainer object of 4 artists>"
            ]
          },
          "metadata": {
            "tags": []
          },
          "execution_count": 13
        },
        {
          "output_type": "display_data",
          "data": {
            "image/png": "[encoded data removed]",
            "text/plain": [
              "<Figure size 1440x504 with 1 Axes>"
            ]
          },
          "metadata": {
            "tags": []
          }
        }
      ]
    },
    {
      "cell_type": "code",
      "metadata": {
        "id": "GOWWOv-hMBBM",
        "colab_type": "code",
        "colab": {
          "base_uri": "https://localhost:8080/",
          "height": 541
        },
        "outputId": "43a1f5ea-82d2-40bb-8265-62031c4af563"
      },
      "source": [
        "c06=dfsmooth[dfsmooth['Year']==2019]\n",
        "c06=c06[c06.columns.tolist()[1:]]\n",
        "c06.head()\n",
        "c06arr=np.array(c06['Primary Type'])\n",
        "c06u=np.unique(c06arr)\n",
        "c06key=np.unique(np.array(np.array(c06['Primary Type'])))\n",
        "c06val=np.array(c06['Primary Type'].value_counts().values)\n",
        "print(c06u[:8])\n",
        "print(c06val[:8])\n",
        "color='cmykrgb'\n",
        "plt.figure(figsize=(20,7))\n",
        "plt.title(\"Crime Scenario of 2001 Max: {}={}\".format(c06u[:8][0],c06val[:8][0]),fontsize=20,color='m')\n",
        "plt.xlabel(\"Crime Type->\",fontsize=15,color='b')\n",
        "plt.ylabel(\"Crime Occured->\",fontsize=15,color='b')\n",
        "plt.grid()\n",
        "plt.bar(c06u[:8],c06val[:8],color=color,width=0.5)\n",
        "\n"
      ],
      "execution_count": 14,
      "outputs": [
        {
          "output_type": "stream",
          "text": [
            "['commercial centers' 'others' 'park' 'street']\n",
            "[37 34 30  3]\n"
          ],
          "name": "stdout"
        },
        {
          "output_type": "execute_result",
          "data": {
            "text/plain": [
              "<BarContainer object of 4 artists>"
            ]
          },
          "metadata": {
            "tags": []
          },
          "execution_count": 14
        },
        {
          "output_type": "display_data",
          "data": {
            "image/png": "[encoded data removed]",
            "text/plain": [
              "<Figure size 1440x504 with 1 Axes>"
            ]
          },
          "metadata": {
            "tags": []
          }
        }
      ]
    },
    {
      "cell_type": "code",
      "metadata": {
        "id": "OUKUGaLMMEGG",
        "colab_type": "code",
        "colab": {}
      },
      "source": [
        "arrestfalse=[] #not_arrested_list\n",
        "arrestratiofalse=[] #not_arrested_ratio\n",
        "arrestratiotrue=[] #arrested_ratio\n"
      ],
      "execution_count": 0,
      "outputs": []
    },
    {
      "cell_type": "code",
      "metadata": {
        "id": "MgaqeBvjMH5H",
        "colab_type": "code",
        "colab": {
          "base_uri": "https://localhost:8080/",
          "height": 52
        },
        "outputId": "ae969f19-bea7-4fb3-a8ba-76cad1cab111"
      },
      "source": [
        "c01arreststat=c01.groupby(['Arrest']).count()['IUCR'].keys().tolist() #arrest_statistics_representing_true_false\n",
        "c01arrestcount=c01.groupby(['Arrest']).count()['IUCR'].values.tolist() #arrest_count_no_of_true_or_false\n",
        "print(c01arreststat)\n",
        "print(c01arrestcount)\n"
      ],
      "execution_count": 20,
      "outputs": [
        {
          "output_type": "stream",
          "text": [
            "[False, True]\n",
            "[958, 463]\n"
          ],
          "name": "stdout"
        }
      ]
    },
    {
      "cell_type": "code",
      "metadata": {
        "id": "CvH5Ot0yMKQT",
        "colab_type": "code",
        "colab": {
          "base_uri": "https://localhost:8080/",
          "height": 70
        },
        "outputId": "a5566393-2f93-4d3a-a18f-bd637404f428"
      },
      "source": [
        "arrestfalse.append(c01arrestcount[0])\n",
        "arrestratiofalse.append((c01arrestcount[0]/sum(c01arrestcount))*100)\n",
        "arrestratiotrue.append((c01arrestcount[1]/sum(c01arrestcount))*100)\n",
        "print(arrestfalse)\n",
        "print(arrestratiofalse)\n",
        "print(arrestratiotrue)\n"
      ],
      "execution_count": 17,
      "outputs": [
        {
          "output_type": "stream",
          "text": [
            "[958]\n",
            "[67.41731175228712]\n",
            "[32.58268824771287]\n"
          ],
          "name": "stdout"
        }
      ]
    },
    {
      "cell_type": "code",
      "metadata": {
        "id": "zeGyNvvYMSb9",
        "colab_type": "code",
        "colab": {
          "base_uri": "https://localhost:8080/",
          "height": 422
        },
        "outputId": "b0940615-e74d-4796-e86d-2658c591a26e"
      },
      "source": [
        "plt.figure(figsize=(8,6))\n",
        "plt.title(\"Arrest in 2014\")\n",
        "sns.countplot(c01['Arrest'])\n"
      ],
      "execution_count": 18,
      "outputs": [
        {
          "output_type": "execute_result",
          "data": {
            "text/plain": [
              "<matplotlib.axes._subplots.AxesSubplot at 0x7f7058003630>"
            ]
          },
          "metadata": {
            "tags": []
          },
          "execution_count": 18
        },
        {
          "output_type": "display_data",
          "data": {
            "image/png": "[encoded data removed]",
            "text/plain": [
              "<Figure size 576x432 with 1 Axes>"
            ]
          },
          "metadata": {
            "tags": []
          }
        }
      ]
    },
    {
      "cell_type": "code",
      "metadata": {
        "id": "RebzCiQLMVae",
        "colab_type": "code",
        "colab": {
          "base_uri": "https://localhost:8080/",
          "height": 52
        },
        "outputId": "b524b73b-3484-427d-8763-3d2fdcb167af"
      },
      "source": [
        "c02arreststat=c02.groupby(['Arrest']).count()['IUCR'].keys().tolist()\n",
        "c02arrestcount=c02.groupby(['Arrest']).count()['IUCR'].values.tolist()\n",
        "print(c02arreststat)\n",
        "print(c02arrestcount)"
      ],
      "execution_count": 21,
      "outputs": [
        {
          "output_type": "stream",
          "text": [
            "[False, True]\n",
            "[213935, 89769]\n"
          ],
          "name": "stdout"
        }
      ]
    },
    {
      "cell_type": "code",
      "metadata": {
        "id": "U_xXpZ46MxrC",
        "colab_type": "code",
        "colab": {
          "base_uri": "https://localhost:8080/",
          "height": 475
        },
        "outputId": "f33de7b7-a504-4f05-ce67-90878b7cdc1d"
      },
      "source": [
        "arrestfalse.append(c02arrestcount[0])\n",
        "arrestratiofalse.append((c02arrestcount[0]/sum(c02arrestcount))*100)\n",
        "arrestratiotrue.append((c02arrestcount[1]/sum(c02arrestcount))*100)\n",
        "print(arrestfalse)\n",
        "print(arrestratiofalse)\n",
        "print(arrestratiotrue)\n",
        "plt.figure(figsize=(8,6))\n",
        "plt.title(\"Arrest in 2015\")\n",
        "sns.countplot(c02['Arrest'])\n"
      ],
      "execution_count": 22,
      "outputs": [
        {
          "output_type": "stream",
          "text": [
            "[958, 213935]\n",
            "[67.41731175228712, 70.44194347127466]\n",
            "[32.58268824771287, 29.55805652872534]\n"
          ],
          "name": "stdout"
        },
        {
          "output_type": "execute_result",
          "data": {
            "text/plain": [
              "<matplotlib.axes._subplots.AxesSubplot at 0x7f705735c160>"
            ]
          },
          "metadata": {
            "tags": []
          },
          "execution_count": 22
        },
        {
          "output_type": "display_data",
          "data": {
            "image/png": "[encoded data removed]",
            "text/plain": [
              "<Figure size 576x432 with 1 Axes>"
            ]
          },
          "metadata": {
            "tags": []
          }
        }
      ]
    },
    {
      "cell_type": "code",
      "metadata": {
        "id": "qvDbS_DQM3BB",
        "colab_type": "code",
        "colab": {
          "base_uri": "https://localhost:8080/",
          "height": 511
        },
        "outputId": "2892e99e-c7dc-439f-f7bb-a6caa8f9c117"
      },
      "source": [
        "c03arreststat=c03.groupby(['Arrest']).count()['IUCR'].keys().tolist()\n",
        "c03arrestcount=c03.groupby(['Arrest']).count()['IUCR'].values.tolist()\n",
        "print(c03arreststat)\n",
        "print(c03arrestcount)\n",
        "arrestfalse.append(c03arrestcount[0])\n",
        "arrestratiofalse.append((c03arrestcount[0]/sum(c03arrestcount))*100)\n",
        "arrestratiotrue.append((c03arrestcount[1]/sum(c03arrestcount))*100)\n",
        "print(arrestfalse)\n",
        "print(arrestratiofalse)\n",
        "print(arrestratiotrue)\n",
        "plt.figure(figsize=(8,6))\n",
        "plt.title(\"Arrest in 2016\")\n",
        "sns.countplot(c03['Arrest'])\n",
        "\n"
      ],
      "execution_count": 23,
      "outputs": [
        {
          "output_type": "stream",
          "text": [
            "[False, True]\n",
            "[1527, 394]\n",
            "[958, 213935, 1527]\n",
            "[67.41731175228712, 70.44194347127466, 79.48984903695991]\n",
            "[32.58268824771287, 29.55805652872534, 20.510150963040083]\n"
          ],
          "name": "stdout"
        },
        {
          "output_type": "execute_result",
          "data": {
            "text/plain": [
              "<matplotlib.axes._subplots.AxesSubplot at 0x7f70571888d0>"
            ]
          },
          "metadata": {
            "tags": []
          },
          "execution_count": 23
        },
        {
          "output_type": "display_data",
          "data": {
            "image/png": "[encoded data removed]",
            "text/plain": [
              "<Figure size 576x432 with 1 Axes>"
            ]
          },
          "metadata": {
            "tags": []
          }
        }
      ]
    },
    {
      "cell_type": "code",
      "metadata": {
        "id": "jXBwn2mAM4MQ",
        "colab_type": "code",
        "colab": {
          "base_uri": "https://localhost:8080/",
          "height": 511
        },
        "outputId": "abd1f079-f394-4402-b977-032b50a3162d"
      },
      "source": [
        "c04arreststat=c04.groupby(['Arrest']).count()['IUCR'].keys().tolist()\n",
        "c04arrestcount=c04.groupby(['Arrest']).count()['IUCR'].values.tolist()\n",
        "print(c04arreststat)\n",
        "print(c04arrestcount)\n",
        "arrestfalse.append(c04arrestcount[0])\n",
        "arrestratiofalse.append((c04arrestcount[0]/sum(c04arrestcount))*100)\n",
        "arrestratiotrue.append((c04arrestcount[1]/sum(c04arrestcount))*100)\n",
        "print(arrestfalse)\n",
        "print(arrestratiofalse)\n",
        "print(arrestratiotrue)\n",
        "plt.figure(figsize=(8,6))\n",
        "plt.title(\"Arrest in 2017\")\n",
        "sns.countplot(c04['Arrest'])\n",
        "\n"
      ],
      "execution_count": 24,
      "outputs": [
        {
          "output_type": "stream",
          "text": [
            "[False, True]\n",
            "[18884, 4802]\n",
            "[958, 213935, 1527, 18884]\n",
            "[67.41731175228712, 70.44194347127466, 79.48984903695991, 79.72642067043823]\n",
            "[32.58268824771287, 29.55805652872534, 20.510150963040083, 20.273579329561766]\n"
          ],
          "name": "stdout"
        },
        {
          "output_type": "execute_result",
          "data": {
            "text/plain": [
              "<matplotlib.axes._subplots.AxesSubplot at 0x7f70571886a0>"
            ]
          },
          "metadata": {
            "tags": []
          },
          "execution_count": 24
        },
        {
          "output_type": "display_data",
          "data": {
            "image/png": "[encoded data removed]",
            "text/plain": [
              "<Figure size 576x432 with 1 Axes>"
            ]
          },
          "metadata": {
            "tags": []
          }
        }
      ]
    },
    {
      "cell_type": "code",
      "metadata": {
        "id": "6pqS-n0SM7S2",
        "colab_type": "code",
        "colab": {
          "base_uri": "https://localhost:8080/",
          "height": 511
        },
        "outputId": "d83109f1-23dc-4867-86dd-32ca47b9e76a"
      },
      "source": [
        "c05arreststat=c05.groupby(['Arrest']).count()['IUCR'].keys().tolist()\n",
        "c05arrestcount=c05.groupby(['Arrest']).count()['IUCR'].values.tolist()\n",
        "print(c05arreststat)\n",
        "print(c05arrestcount)\n",
        "arrestfalse.append(c05arrestcount[0])\n",
        "arrestratiofalse.append((c05arrestcount[0]/sum(c05arrestcount))*100)\n",
        "arrestratiotrue.append((c05arrestcount[1]/sum(c05arrestcount))*100)\n",
        "print(arrestfalse)\n",
        "print(arrestratiofalse)\n",
        "print(arrestratiotrue)\n",
        "plt.figure(figsize=(8,6))\n",
        "plt.title(\"Arrest in 2017\")\n",
        "sns.countplot(c05['Arrest'])\n",
        "\n"
      ],
      "execution_count": 25,
      "outputs": [
        {
          "output_type": "stream",
          "text": [
            "[False, True]\n",
            "[1291, 366]\n",
            "[958, 213935, 1527, 18884, 1291]\n",
            "[67.41731175228712, 70.44194347127466, 79.48984903695991, 79.72642067043823, 77.91188895594448]\n",
            "[32.58268824771287, 29.55805652872534, 20.510150963040083, 20.273579329561766, 22.088111044055523]\n"
          ],
          "name": "stdout"
        },
        {
          "output_type": "execute_result",
          "data": {
            "text/plain": [
              "<matplotlib.axes._subplots.AxesSubplot at 0x7f705708bcf8>"
            ]
          },
          "metadata": {
            "tags": []
          },
          "execution_count": 25
        },
        {
          "output_type": "display_data",
          "data": {
            "image/png": "[encoded data removed]",
            "text/plain": [
              "<Figure size 576x432 with 1 Axes>"
            ]
          },
          "metadata": {
            "tags": []
          }
        }
      ]
    },
    {
      "cell_type": "code",
      "metadata": {
        "id": "PlooySwQM-iR",
        "colab_type": "code",
        "colab": {
          "base_uri": "https://localhost:8080/",
          "height": 511
        },
        "outputId": "e5c07bb4-e5c1-46a1-a8fd-75c41c9d744a"
      },
      "source": [
        "c06arreststat=c06.groupby(['Arrest']).count()['IUCR'].keys().tolist()\n",
        "c06arrestcount=c06.groupby(['Arrest']).count()['IUCR'].values.tolist()\n",
        "print(c06arreststat)\n",
        "print(c06arrestcount)\n",
        "arrestfalse.append(c06arrestcount[0])\n",
        "arrestratiofalse.append((c06arrestcount[0]/sum(c06arrestcount))*100)\n",
        "arrestratiotrue.append((c06arrestcount[1]/sum(c06arrestcount))*100)\n",
        "print(arrestfalse)\n",
        "print(arrestratiofalse)\n",
        "print(arrestratiotrue)\n",
        "plt.figure(figsize=(8,6))\n",
        "plt.title(\"Arrest in 2019\")\n",
        "sns.countplot(c06['Arrest'])\n",
        "\n"
      ],
      "execution_count": 26,
      "outputs": [
        {
          "output_type": "stream",
          "text": [
            "[False, True]\n",
            "[98, 6]\n",
            "[958, 213935, 1527, 18884, 1291, 98]\n",
            "[67.41731175228712, 70.44194347127466, 79.48984903695991, 79.72642067043823, 77.91188895594448, 94.23076923076923]\n",
            "[32.58268824771287, 29.55805652872534, 20.510150963040083, 20.273579329561766, 22.088111044055523, 5.769230769230769]\n"
          ],
          "name": "stdout"
        },
        {
          "output_type": "execute_result",
          "data": {
            "text/plain": [
              "<matplotlib.axes._subplots.AxesSubplot at 0x7f705706d400>"
            ]
          },
          "metadata": {
            "tags": []
          },
          "execution_count": 26
        },
        {
          "output_type": "display_data",
          "data": {
            "image/png": "[encoded data removed]",
            "text/plain": [
              "<Figure size 576x432 with 1 Axes>"
            ]
          },
          "metadata": {
            "tags": []
          }
        }
      ]
    },
    {
      "cell_type": "code",
      "metadata": {
        "id": "vlj5pa_UNBrs",
        "colab_type": "code",
        "colab": {
          "base_uri": "https://localhost:8080/",
          "height": 87
        },
        "outputId": "37c9593c-120d-4545-e6ca-5be6ba82ca8b"
      },
      "source": [
        "print(len(arrestfalse))\n",
        "print(len(arrestratiofalse))\n",
        "print(len(arrestratiotrue))\n",
        "yearlist=[str(i) for i in range(2014,2020)]\n",
        "print(yearlist)"
      ],
      "execution_count": 43,
      "outputs": [
        {
          "output_type": "stream",
          "text": [
            "6\n",
            "6\n",
            "6\n",
            "['2014', '2015', '2016', '2017', '2018', '2019']\n"
          ],
          "name": "stdout"
        }
      ]
    },
    {
      "cell_type": "code",
      "metadata": {
        "id": "2F1RvO9yNJ52",
        "colab_type": "code",
        "colab": {
          "base_uri": "https://localhost:8080/",
          "height": 432
        },
        "outputId": "845b9133-371e-4eae-95b1-3386d18f9226"
      },
      "source": [
        "plt.figure(figsize=(15,6))\n",
        "plt.title(\"Crime Arrest Report\",fontsize=20,color='m')\n",
        "plt.xlabel(\"Year->\",fontsize=15,color='b')\n",
        "plt.ylabel(\"Arrest percentage->\",fontsize=15,color='b')\n",
        "plt.plot(arrestratiotrue,\"k\",label=\"Arrested\")\n",
        "plt.plot(arrestratiotrue,\"Pk\")\n",
        "plt.plot(arrestratiofalse,\"r\",label=\"Not Arrested\")\n",
        "plt.plot(arrestratiofalse,\"Dr\")\n",
        "plt.legend(loc=\"upper right\")\n"
      ],
      "execution_count": 44,
      "outputs": [
        {
          "output_type": "execute_result",
          "data": {
            "text/plain": [
              "<matplotlib.legend.Legend at 0x7f7056ddb1d0>"
            ]
          },
          "metadata": {
            "tags": []
          },
          "execution_count": 44
        },
        {
          "output_type": "display_data",
          "data": {
            "image/png": "[encoded data removed]",
            "text/plain": [
              "<Figure size 1080x432 with 1 Axes>"
            ]
          },
          "metadata": {
            "tags": []
          }
        }
      ]
    },
    {
      "cell_type": "code",
      "metadata": {
        "id": "08eKdb5dNLOM",
        "colab_type": "code",
        "colab": {
          "base_uri": "https://localhost:8080/",
          "height": 52
        },
        "outputId": "7c4de71d-45a2-4a4b-e2a2-d1dba93130bf"
      },
      "source": [
        "arresttrue=[c01arrestcount[1],c02arrestcount[1],c03arrestcount[1],c04arrestcount[1],c05arrestcount[1],c06arrestcount[1]]\n",
        "print(arresttrue)\n",
        "print(len(arresttrue))\n"
      ],
      "execution_count": 45,
      "outputs": [
        {
          "output_type": "stream",
          "text": [
            "[463, 89769, 394, 4802, 366, 6]\n",
            "6\n"
          ],
          "name": "stdout"
        }
      ]
    },
    {
      "cell_type": "code",
      "metadata": {
        "id": "ZXiK_-ePNPtP",
        "colab_type": "code",
        "colab": {
          "base_uri": "https://localhost:8080/",
          "height": 34
        },
        "outputId": "4038f132-2339-4999-b132-f11e096f24d7"
      },
      "source": [
        "prob=[]\n",
        "previous=arrestratiotrue[0]\n",
        "for i in range(len(arrestratiotrue)):\n",
        "    if previous>=arrestratiotrue[i]:\n",
        "        prob.append(0)\n",
        "    else:\n",
        "        prob.append(1)\n",
        "    previous=arrestratiotrue[i]\n",
        "print(prob)\n"
      ],
      "execution_count": 46,
      "outputs": [
        {
          "output_type": "stream",
          "text": [
            "[0, 0, 0, 0, 1, 0]\n"
          ],
          "name": "stdout"
        }
      ]
    },
    {
      "cell_type": "code",
      "metadata": {
        "id": "w6R5wbRsNSGN",
        "colab_type": "code",
        "colab": {
          "base_uri": "https://localhost:8080/",
          "height": 34
        },
        "outputId": "cde11fc9-ebb4-4c2d-fe94-01442000eb75"
      },
      "source": [
        "ratio=[]\n",
        "for i in range(len(arrestratiotrue)):\n",
        "    ratio.append(arresttrue[i]/(arrestfalse[i]+arresttrue[i]))\n",
        "print(ratio)\n"
      ],
      "execution_count": 47,
      "outputs": [
        {
          "output_type": "stream",
          "text": [
            "[0.32582688247712877, 0.2955805652872534, 0.20510150963040083, 0.20273579329561767, 0.22088111044055522, 0.057692307692307696]\n"
          ],
          "name": "stdout"
        }
      ]
    },
    {
      "cell_type": "code",
      "metadata": {
        "id": "ZC8NQpNCNXyB",
        "colab_type": "code",
        "colab": {}
      },
      "source": [
        "regdata=pd.DataFrame({\n",
        "    \"Year\":yearlist,\n",
        "    \"Cases Booked\":np.array(arrestfalse)+np.array(arresttrue),\n",
        "    \"Not Arrested\":arrestfalse,\n",
        "    \"Arrested\":arresttrue,\n",
        "    \"Arrested(%)\":arrestratiotrue,\n",
        "    \"Not Arrested(%)\":arrestratiofalse,\n",
        "    \"Efficiency Ratio\":ratio,\n",
        "    \"Crime Hike\":prob\n",
        "})\n",
        "regdata.to_csv(\"regdata.csv\")\n"
      ],
      "execution_count": 0,
      "outputs": []
    },
    {
      "cell_type": "code",
      "metadata": {
        "id": "ZSUXuMydV4pB",
        "colab_type": "code",
        "colab": {
          "base_uri": "https://localhost:8080/",
          "height": 197
        },
        "outputId": "b1e8ab27-10f5-4a5e-8033-276e58dfae74"
      },
      "source": [
        "regdata.head()"
      ],
      "execution_count": 50,
      "outputs": [
        {
          "output_type": "execute_result",
          "data": {
            "text/html": [
              "<div>\n",
              "<style scoped>\n",
              "    .dataframe tbody tr th:only-of-type {\n",
              "        vertical-align: middle;\n",
              "    }\n",
              "\n",
              "    .dataframe tbody tr th {\n",
              "        vertical-align: top;\n",
              "    }\n",
              "\n",
              "    .dataframe thead th {\n",
              "        text-align: right;\n",
              "    }\n",
              "</style>\n",
              "<table border=\"1\" class=\"dataframe\">\n",
              "  <thead>\n",
              "    <tr style=\"text-align: right;\">\n",
              "      <th></th>\n",
              "      <th>Year</th>\n",
              "      <th>Cases Booked</th>\n",
              "      <th>Not Arrested</th>\n",
              "      <th>Arrested</th>\n",
              "      <th>Arrested(%)</th>\n",
              "      <th>Not Arrested(%)</th>\n",
              "      <th>Efficiency Ratio</th>\n",
              "      <th>Crime Hike</th>\n",
              "    </tr>\n",
              "  </thead>\n",
              "  <tbody>\n",
              "    <tr>\n",
              "      <th>0</th>\n",
              "      <td>2014</td>\n",
              "      <td>1421</td>\n",
              "      <td>958</td>\n",
              "      <td>463</td>\n",
              "      <td>32.582688</td>\n",
              "      <td>67.417312</td>\n",
              "      <td>0.325827</td>\n",
              "      <td>0</td>\n",
              "    </tr>\n",
              "    <tr>\n",
              "      <th>1</th>\n",
              "      <td>2015</td>\n",
              "      <td>303704</td>\n",
              "      <td>213935</td>\n",
              "      <td>89769</td>\n",
              "      <td>29.558057</td>\n",
              "      <td>70.441943</td>\n",
              "      <td>0.295581</td>\n",
              "      <td>0</td>\n",
              "    </tr>\n",
              "    <tr>\n",
              "      <th>2</th>\n",
              "      <td>2016</td>\n",
              "      <td>1921</td>\n",
              "      <td>1527</td>\n",
              "      <td>394</td>\n",
              "      <td>20.510151</td>\n",
              "      <td>79.489849</td>\n",
              "      <td>0.205102</td>\n",
              "      <td>0</td>\n",
              "    </tr>\n",
              "    <tr>\n",
              "      <th>3</th>\n",
              "      <td>2017</td>\n",
              "      <td>23686</td>\n",
              "      <td>18884</td>\n",
              "      <td>4802</td>\n",
              "      <td>20.273579</td>\n",
              "      <td>79.726421</td>\n",
              "      <td>0.202736</td>\n",
              "      <td>0</td>\n",
              "    </tr>\n",
              "    <tr>\n",
              "      <th>4</th>\n",
              "      <td>2018</td>\n",
              "      <td>1657</td>\n",
              "      <td>1291</td>\n",
              "      <td>366</td>\n",
              "      <td>22.088111</td>\n",
              "      <td>77.911889</td>\n",
              "      <td>0.220881</td>\n",
              "      <td>1</td>\n",
              "    </tr>\n",
              "  </tbody>\n",
              "</table>\n",
              "</div>"
            ],
            "text/plain": [
              "   Year  Cases Booked  ...  Efficiency Ratio  Crime Hike\n",
              "0  2014          1421  ...          0.325827           0\n",
              "1  2015        303704  ...          0.295581           0\n",
              "2  2016          1921  ...          0.205102           0\n",
              "3  2017         23686  ...          0.202736           0\n",
              "4  2018          1657  ...          0.220881           1\n",
              "\n",
              "[5 rows x 8 columns]"
            ]
          },
          "metadata": {
            "tags": []
          },
          "execution_count": 50
        }
      ]
    },
    {
      "cell_type": "code",
      "metadata": {
        "id": "C5EnXedFWB0t",
        "colab_type": "code",
        "colab": {
          "base_uri": "https://localhost:8080/",
          "height": 357
        },
        "outputId": "ff5e7876-098b-422a-92d4-2bd97f730bdf"
      },
      "source": [
        "sns.heatmap(regdata.corr(),annot=True)"
      ],
      "execution_count": 51,
      "outputs": [
        {
          "output_type": "execute_result",
          "data": {
            "text/plain": [
              "<matplotlib.axes._subplots.AxesSubplot at 0x7f7056c48b00>"
            ]
          },
          "metadata": {
            "tags": []
          },
          "execution_count": 51
        },
        {
          "output_type": "display_data",
          "data": {
            "image/png": "[encoded data removed]",
            "text/plain": [
              "<Figure size 432x288 with 2 Axes>"
            ]
          },
          "metadata": {
            "tags": []
          }
        }
      ]
    },
    {
      "cell_type": "code",
      "metadata": {
        "id": "7SVhOCHDWO0C",
        "colab_type": "code",
        "colab": {}
      },
      "source": [
        "from sklearn.datasets import load_iris\n",
        "from sklearn.linear_model import LogisticRegression"
      ],
      "execution_count": 0,
      "outputs": []
    },
    {
      "cell_type": "code",
      "metadata": {
        "id": "81kKsLfbWR-v",
        "colab_type": "code",
        "colab": {
          "base_uri": "https://localhost:8080/",
          "height": 105
        },
        "outputId": "5318f47e-25ae-43cb-90e2-d7bbf1ebf833"
      },
      "source": [
        "logmodel = LogisticRegression()\n",
        "logmodel.fit(regdata[regdata.columns.tolist()[1:len(regdata.columns.tolist())-1]],regdata[regdata.columns.tolist()[-1]])\n"
      ],
      "execution_count": 53,
      "outputs": [
        {
          "output_type": "execute_result",
          "data": {
            "text/plain": [
              "LogisticRegression(C=1.0, class_weight=None, dual=False, fit_intercept=True,\n",
              "                   intercept_scaling=1, l1_ratio=None, max_iter=100,\n",
              "                   multi_class='auto', n_jobs=None, penalty='l2',\n",
              "                   random_state=None, solver='lbfgs', tol=0.0001, verbose=0,\n",
              "                   warm_start=False)"
            ]
          },
          "metadata": {
            "tags": []
          },
          "execution_count": 53
        }
      ]
    },
    {
      "cell_type": "code",
      "metadata": {
        "id": "CF91t-_yWWjm",
        "colab_type": "code",
        "colab": {}
      },
      "source": [
        "meanrat=np.mean(np.array(regdata['Efficiency Ratio']))\n"
      ],
      "execution_count": 0,
      "outputs": []
    },
    {
      "cell_type": "code",
      "metadata": {
        "id": "LoBuOrKnWbrZ",
        "colab_type": "code",
        "colab": {
          "base_uri": "https://localhost:8080/",
          "height": 70
        },
        "outputId": "392436db-f6de-47b0-9b31-2bcbde27b093"
      },
      "source": [
        "#no of cases booked = bookcase\n",
        "#not arrested = bookcase-bookcase*meanrat\n",
        "#arrested = bookcase*meanrat\n",
        "#arrested % = bookcase*meanrat/bookcase\n",
        "#not arrested % = bookcase-(bookcase*meanrat/bookcase)\n",
        "#efficiency ratio = meanrat\n",
        "bookcase=int(input(\"Please enter probable number of cases booked: \"))\n",
        "predict_crime=logmodel.predict([[bookcase,bookcase-bookcase*meanrat,bookcase*meanrat,bookcase*meanrat/bookcase,bookcase-(bookcase*meanrat/bookcase),meanrat]])\n",
        "print(predict_crime[0])\n",
        "if predict_crime[0]==0:\n",
        "    print(\"Crime rate in Chennai will decrease...\")\n",
        "else:\n",
        "    print(\"Crime rate in Chennai will increase...\")\n"
      ],
      "execution_count": 67,
      "outputs": [
        {
          "output_type": "stream",
          "text": [
            "Please enter probable number of cases booked: 99\n",
            "0\n",
            "Crime rate in Chennai will decrease...\n"
          ],
          "name": "stdout"
        }
      ]
    }
  ]
}