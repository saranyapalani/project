{
  "nbformat": 4,
  "nbformat_minor": 0,
  "metadata": {
    "colab": {
      "name": "ex3.ipynb",
      "provenance": [],
      "collapsed_sections": [],
      "authorship_tag": "ABX9TyOKtdJqMspORDvJFlEuqfyn",
      "include_colab_link": true
    },
    "kernelspec": {
      "name": "python3",
      "display_name": "Python 3"
    }
  },
  "cells": [
    {
      "cell_type": "markdown",
      "metadata": {
        "id": "view-in-github",
        "colab_type": "text"
      },
      "source": [
        "<a href=\"https://colab.research.google.com/github/saranyapalani/project/blob/master/ex3.ipynb\" target=\"_parent\"><img src=\"https://colab.research.google.com/assets/colab-badge.svg\" alt=\"Open In Colab\"/></a>"
      ]
    },
    {
      "cell_type": "code",
      "metadata": {
        "id": "BXwxD7RT3_1w",
        "colab_type": "code",
        "colab": {}
      },
      "source": [
        "import itertools\n",
        "import numpy as np\n",
        "import matplotlib.pyplot as plt\n",
        "from matplotlib.ticker import NullFormatter\n",
        "import pandas as pd\n",
        "import numpy as np\n",
        "import matplotlib.ticker as ticker\n",
        "from sklearn import preprocessing\n",
        "%matplotlib inline"
      ],
      "execution_count": 0,
      "outputs": []
    },
    {
      "cell_type": "code",
      "metadata": {
        "id": "z4SLmdK14LQX",
        "colab_type": "code",
        "colab": {
          "base_uri": "https://localhost:8080/",
          "height": 479
        },
        "outputId": "4e3fc567-ed83-4daf-ceef-7e95a87c6123"
      },
      "source": [
        "df = pd.read_csv('robbery.csv')\n",
        "df.head()\n"
      ],
      "execution_count": 2,
      "outputs": [
        {
          "output_type": "execute_result",
          "data": {
            "text/html": [
              "<div>\n",
              "<style scoped>\n",
              "    .dataframe tbody tr th:only-of-type {\n",
              "        vertical-align: middle;\n",
              "    }\n",
              "\n",
              "    .dataframe tbody tr th {\n",
              "        vertical-align: top;\n",
              "    }\n",
              "\n",
              "    .dataframe thead th {\n",
              "        text-align: right;\n",
              "    }\n",
              "</style>\n",
              "<table border=\"1\" class=\"dataframe\">\n",
              "  <thead>\n",
              "    <tr style=\"text-align: right;\">\n",
              "      <th></th>\n",
              "      <th>crimecode</th>\n",
              "      <th>occ_date</th>\n",
              "      <th>occ_time</th>\n",
              "      <th>occ_month</th>\n",
              "      <th>occ_week</th>\n",
              "      <th>occ_year</th>\n",
              "      <th>location</th>\n",
              "      <th>offence</th>\n",
              "      <th>weapons used</th>\n",
              "      <th>lat</th>\n",
              "      <th>long</th>\n",
              "      <th>light</th>\n",
              "    </tr>\n",
              "  </thead>\n",
              "  <tbody>\n",
              "    <tr>\n",
              "      <th>0</th>\n",
              "      <td>4786321</td>\n",
              "      <td>8/17/2016</td>\n",
              "      <td>15:03</td>\n",
              "      <td>August</td>\n",
              "      <td>Friday</td>\n",
              "      <td>2014</td>\n",
              "      <td>street</td>\n",
              "      <td>robbery and murder</td>\n",
              "      <td>riffle</td>\n",
              "      <td>43.653210</td>\n",
              "      <td>-79.381287</td>\n",
              "      <td>day</td>\n",
              "    </tr>\n",
              "    <tr>\n",
              "      <th>1</th>\n",
              "      <td>4676906</td>\n",
              "      <td>10-05-2016</td>\n",
              "      <td>08:55</td>\n",
              "      <td>October</td>\n",
              "      <td>Thursday</td>\n",
              "      <td>2016</td>\n",
              "      <td>residence</td>\n",
              "      <td>robbery and murder</td>\n",
              "      <td>riffle</td>\n",
              "      <td>43.785351</td>\n",
              "      <td>-79.278572</td>\n",
              "      <td>day</td>\n",
              "    </tr>\n",
              "    <tr>\n",
              "      <th>2</th>\n",
              "      <td>4789749</td>\n",
              "      <td>10/17/2016</td>\n",
              "      <td>15:03</td>\n",
              "      <td>October</td>\n",
              "      <td>Sunday</td>\n",
              "      <td>2016</td>\n",
              "      <td>residence</td>\n",
              "      <td>robbery and murder and murder</td>\n",
              "      <td>riffle</td>\n",
              "      <td>43.700970</td>\n",
              "      <td>-79.399261</td>\n",
              "      <td>night</td>\n",
              "    </tr>\n",
              "    <tr>\n",
              "      <th>3</th>\n",
              "      <td>4789765</td>\n",
              "      <td>10/17/2016</td>\n",
              "      <td>15:03</td>\n",
              "      <td>October</td>\n",
              "      <td>Sunday</td>\n",
              "      <td>2014</td>\n",
              "      <td>street</td>\n",
              "      <td>robbery and murder</td>\n",
              "      <td>knife</td>\n",
              "      <td>43.739391</td>\n",
              "      <td>-79.513222</td>\n",
              "      <td>night</td>\n",
              "    </tr>\n",
              "    <tr>\n",
              "      <th>4</th>\n",
              "      <td>4677901</td>\n",
              "      <td>10/15/2016</td>\n",
              "      <td>08:55</td>\n",
              "      <td>October</td>\n",
              "      <td>Sunday</td>\n",
              "      <td>2016</td>\n",
              "      <td>residence</td>\n",
              "      <td>robbery and murder and murder</td>\n",
              "      <td>firearms</td>\n",
              "      <td>43.720444</td>\n",
              "      <td>-79.551483</td>\n",
              "      <td>night</td>\n",
              "    </tr>\n",
              "  </tbody>\n",
              "</table>\n",
              "</div>"
            ],
            "text/plain": [
              "   crimecode    occ_date occ_time  ...        lat       long  light\n",
              "0    4786321   8/17/2016    15:03  ...  43.653210 -79.381287    day\n",
              "1    4676906  10-05-2016    08:55  ...  43.785351 -79.278572    day\n",
              "2    4789749  10/17/2016    15:03  ...  43.700970 -79.399261  night\n",
              "3    4789765  10/17/2016    15:03  ...  43.739391 -79.513222  night\n",
              "4    4677901  10/15/2016    08:55  ...  43.720444 -79.551483  night\n",
              "\n",
              "[5 rows x 12 columns]"
            ]
          },
          "metadata": {
            "tags": []
          },
          "execution_count": 2
        }
      ]
    },
    {
      "cell_type": "code",
      "metadata": {
        "id": "kn6tFJDV4Nzk",
        "colab_type": "code",
        "colab": {
          "base_uri": "https://localhost:8080/",
          "height": 34
        },
        "outputId": "0e1c8160-6395-4dd8-cd2c-5626cf308cb5"
      },
      "source": [
        "df.shape\n"
      ],
      "execution_count": 3,
      "outputs": [
        {
          "output_type": "execute_result",
          "data": {
            "text/plain": [
              "(49, 12)"
            ]
          },
          "metadata": {
            "tags": []
          },
          "execution_count": 3
        }
      ]
    },
    {
      "cell_type": "code",
      "metadata": {
        "id": "G1IlGvEN4SAh",
        "colab_type": "code",
        "colab": {
          "base_uri": "https://localhost:8080/",
          "height": 459
        },
        "outputId": "0f3a9acd-dbe4-47b9-dd99-580d943cd576"
      },
      "source": [
        "df['occ_date'] = pd.to_datetime(df['occ_date'])\n",
        "df.head()\n"
      ],
      "execution_count": 4,
      "outputs": [
        {
          "output_type": "execute_result",
          "data": {
            "text/html": [
              "<div>\n",
              "<style scoped>\n",
              "    .dataframe tbody tr th:only-of-type {\n",
              "        vertical-align: middle;\n",
              "    }\n",
              "\n",
              "    .dataframe tbody tr th {\n",
              "        vertical-align: top;\n",
              "    }\n",
              "\n",
              "    .dataframe thead th {\n",
              "        text-align: right;\n",
              "    }\n",
              "</style>\n",
              "<table border=\"1\" class=\"dataframe\">\n",
              "  <thead>\n",
              "    <tr style=\"text-align: right;\">\n",
              "      <th></th>\n",
              "      <th>crimecode</th>\n",
              "      <th>occ_date</th>\n",
              "      <th>occ_time</th>\n",
              "      <th>occ_month</th>\n",
              "      <th>occ_week</th>\n",
              "      <th>occ_year</th>\n",
              "      <th>location</th>\n",
              "      <th>offence</th>\n",
              "      <th>weapons used</th>\n",
              "      <th>lat</th>\n",
              "      <th>long</th>\n",
              "      <th>light</th>\n",
              "    </tr>\n",
              "  </thead>\n",
              "  <tbody>\n",
              "    <tr>\n",
              "      <th>0</th>\n",
              "      <td>4786321</td>\n",
              "      <td>2016-08-17</td>\n",
              "      <td>15:03</td>\n",
              "      <td>August</td>\n",
              "      <td>Friday</td>\n",
              "      <td>2014</td>\n",
              "      <td>street</td>\n",
              "      <td>robbery and murder</td>\n",
              "      <td>riffle</td>\n",
              "      <td>43.653210</td>\n",
              "      <td>-79.381287</td>\n",
              "      <td>day</td>\n",
              "    </tr>\n",
              "    <tr>\n",
              "      <th>1</th>\n",
              "      <td>4676906</td>\n",
              "      <td>2016-10-05</td>\n",
              "      <td>08:55</td>\n",
              "      <td>October</td>\n",
              "      <td>Thursday</td>\n",
              "      <td>2016</td>\n",
              "      <td>residence</td>\n",
              "      <td>robbery and murder</td>\n",
              "      <td>riffle</td>\n",
              "      <td>43.785351</td>\n",
              "      <td>-79.278572</td>\n",
              "      <td>day</td>\n",
              "    </tr>\n",
              "    <tr>\n",
              "      <th>2</th>\n",
              "      <td>4789749</td>\n",
              "      <td>2016-10-17</td>\n",
              "      <td>15:03</td>\n",
              "      <td>October</td>\n",
              "      <td>Sunday</td>\n",
              "      <td>2016</td>\n",
              "      <td>residence</td>\n",
              "      <td>robbery and murder and murder</td>\n",
              "      <td>riffle</td>\n",
              "      <td>43.700970</td>\n",
              "      <td>-79.399261</td>\n",
              "      <td>night</td>\n",
              "    </tr>\n",
              "    <tr>\n",
              "      <th>3</th>\n",
              "      <td>4789765</td>\n",
              "      <td>2016-10-17</td>\n",
              "      <td>15:03</td>\n",
              "      <td>October</td>\n",
              "      <td>Sunday</td>\n",
              "      <td>2014</td>\n",
              "      <td>street</td>\n",
              "      <td>robbery and murder</td>\n",
              "      <td>knife</td>\n",
              "      <td>43.739391</td>\n",
              "      <td>-79.513222</td>\n",
              "      <td>night</td>\n",
              "    </tr>\n",
              "    <tr>\n",
              "      <th>4</th>\n",
              "      <td>4677901</td>\n",
              "      <td>2016-10-15</td>\n",
              "      <td>08:55</td>\n",
              "      <td>October</td>\n",
              "      <td>Sunday</td>\n",
              "      <td>2016</td>\n",
              "      <td>residence</td>\n",
              "      <td>robbery and murder and murder</td>\n",
              "      <td>firearms</td>\n",
              "      <td>43.720444</td>\n",
              "      <td>-79.551483</td>\n",
              "      <td>night</td>\n",
              "    </tr>\n",
              "  </tbody>\n",
              "</table>\n",
              "</div>"
            ],
            "text/plain": [
              "   crimecode   occ_date occ_time  ...        lat       long  light\n",
              "0    4786321 2016-08-17    15:03  ...  43.653210 -79.381287    day\n",
              "1    4676906 2016-10-05    08:55  ...  43.785351 -79.278572    day\n",
              "2    4789749 2016-10-17    15:03  ...  43.700970 -79.399261  night\n",
              "3    4789765 2016-10-17    15:03  ...  43.739391 -79.513222  night\n",
              "4    4677901 2016-10-15    08:55  ...  43.720444 -79.551483  night\n",
              "\n",
              "[5 rows x 12 columns]"
            ]
          },
          "metadata": {
            "tags": []
          },
          "execution_count": 4
        }
      ]
    },
    {
      "cell_type": "code",
      "metadata": {
        "id": "Uagtzi4y4Uk8",
        "colab_type": "code",
        "colab": {
          "base_uri": "https://localhost:8080/",
          "height": 102
        },
        "outputId": "3ce9d18c-aa70-420d-b824-e1c48794ee18"
      },
      "source": [
        "df['weapons used'].value_counts()\n"
      ],
      "execution_count": 5,
      "outputs": [
        {
          "output_type": "execute_result",
          "data": {
            "text/plain": [
              "riffle      22\n",
              "knife       13\n",
              "firearms     8\n",
              "ironrods     6\n",
              "Name: weapons used, dtype: int64"
            ]
          },
          "metadata": {
            "tags": []
          },
          "execution_count": 5
        }
      ]
    },
    {
      "cell_type": "code",
      "metadata": {
        "id": "HiTlp3Ch4Xoh",
        "colab_type": "code",
        "colab": {
          "base_uri": "https://localhost:8080/",
          "height": 459
        },
        "outputId": "9046dfe7-0de1-4179-f643-cf93d3fc284b"
      },
      "source": [
        "df['weapons used'].replace(to_replace=['riffle','firearms','ironrods','knife'], value=[0,1,2,3],inplace=True)\n",
        "df.head()"
      ],
      "execution_count": 6,
      "outputs": [
        {
          "output_type": "execute_result",
          "data": {
            "text/html": [
              "<div>\n",
              "<style scoped>\n",
              "    .dataframe tbody tr th:only-of-type {\n",
              "        vertical-align: middle;\n",
              "    }\n",
              "\n",
              "    .dataframe tbody tr th {\n",
              "        vertical-align: top;\n",
              "    }\n",
              "\n",
              "    .dataframe thead th {\n",
              "        text-align: right;\n",
              "    }\n",
              "</style>\n",
              "<table border=\"1\" class=\"dataframe\">\n",
              "  <thead>\n",
              "    <tr style=\"text-align: right;\">\n",
              "      <th></th>\n",
              "      <th>crimecode</th>\n",
              "      <th>occ_date</th>\n",
              "      <th>occ_time</th>\n",
              "      <th>occ_month</th>\n",
              "      <th>occ_week</th>\n",
              "      <th>occ_year</th>\n",
              "      <th>location</th>\n",
              "      <th>offence</th>\n",
              "      <th>weapons used</th>\n",
              "      <th>lat</th>\n",
              "      <th>long</th>\n",
              "      <th>light</th>\n",
              "    </tr>\n",
              "  </thead>\n",
              "  <tbody>\n",
              "    <tr>\n",
              "      <th>0</th>\n",
              "      <td>4786321</td>\n",
              "      <td>2016-08-17</td>\n",
              "      <td>15:03</td>\n",
              "      <td>August</td>\n",
              "      <td>Friday</td>\n",
              "      <td>2014</td>\n",
              "      <td>street</td>\n",
              "      <td>robbery and murder</td>\n",
              "      <td>0</td>\n",
              "      <td>43.653210</td>\n",
              "      <td>-79.381287</td>\n",
              "      <td>day</td>\n",
              "    </tr>\n",
              "    <tr>\n",
              "      <th>1</th>\n",
              "      <td>4676906</td>\n",
              "      <td>2016-10-05</td>\n",
              "      <td>08:55</td>\n",
              "      <td>October</td>\n",
              "      <td>Thursday</td>\n",
              "      <td>2016</td>\n",
              "      <td>residence</td>\n",
              "      <td>robbery and murder</td>\n",
              "      <td>0</td>\n",
              "      <td>43.785351</td>\n",
              "      <td>-79.278572</td>\n",
              "      <td>day</td>\n",
              "    </tr>\n",
              "    <tr>\n",
              "      <th>2</th>\n",
              "      <td>4789749</td>\n",
              "      <td>2016-10-17</td>\n",
              "      <td>15:03</td>\n",
              "      <td>October</td>\n",
              "      <td>Sunday</td>\n",
              "      <td>2016</td>\n",
              "      <td>residence</td>\n",
              "      <td>robbery and murder and murder</td>\n",
              "      <td>0</td>\n",
              "      <td>43.700970</td>\n",
              "      <td>-79.399261</td>\n",
              "      <td>night</td>\n",
              "    </tr>\n",
              "    <tr>\n",
              "      <th>3</th>\n",
              "      <td>4789765</td>\n",
              "      <td>2016-10-17</td>\n",
              "      <td>15:03</td>\n",
              "      <td>October</td>\n",
              "      <td>Sunday</td>\n",
              "      <td>2014</td>\n",
              "      <td>street</td>\n",
              "      <td>robbery and murder</td>\n",
              "      <td>3</td>\n",
              "      <td>43.739391</td>\n",
              "      <td>-79.513222</td>\n",
              "      <td>night</td>\n",
              "    </tr>\n",
              "    <tr>\n",
              "      <th>4</th>\n",
              "      <td>4677901</td>\n",
              "      <td>2016-10-15</td>\n",
              "      <td>08:55</td>\n",
              "      <td>October</td>\n",
              "      <td>Sunday</td>\n",
              "      <td>2016</td>\n",
              "      <td>residence</td>\n",
              "      <td>robbery and murder and murder</td>\n",
              "      <td>1</td>\n",
              "      <td>43.720444</td>\n",
              "      <td>-79.551483</td>\n",
              "      <td>night</td>\n",
              "    </tr>\n",
              "  </tbody>\n",
              "</table>\n",
              "</div>"
            ],
            "text/plain": [
              "   crimecode   occ_date occ_time  ...        lat       long  light\n",
              "0    4786321 2016-08-17    15:03  ...  43.653210 -79.381287    day\n",
              "1    4676906 2016-10-05    08:55  ...  43.785351 -79.278572    day\n",
              "2    4789749 2016-10-17    15:03  ...  43.700970 -79.399261  night\n",
              "3    4789765 2016-10-17    15:03  ...  43.739391 -79.513222  night\n",
              "4    4677901 2016-10-15    08:55  ...  43.720444 -79.551483  night\n",
              "\n",
              "[5 rows x 12 columns]"
            ]
          },
          "metadata": {
            "tags": []
          },
          "execution_count": 6
        }
      ]
    },
    {
      "cell_type": "code",
      "metadata": {
        "id": "MBHC9dox4kdi",
        "colab_type": "code",
        "colab": {}
      },
      "source": [
        "import itertools\n",
        "import numpy as np\n",
        "import matplotlib.pyplot as plt\n",
        "from matplotlib.ticker import NullFormatter\n",
        "import pandas as pd\n",
        "import numpy as np\n",
        "import matplotlib.ticker as ticker\n",
        "from sklearn import preprocessing\n",
        "%matplotlib inline"
      ],
      "execution_count": 0,
      "outputs": []
    },
    {
      "cell_type": "code",
      "metadata": {
        "id": "45qP7jxJ4sUa",
        "colab_type": "code",
        "colab": {
          "base_uri": "https://localhost:8080/",
          "height": 102
        },
        "outputId": "9ea59cae-7393-4468-f236-7289df6498c3"
      },
      "source": [
        "df['weapons used'].value_counts()\n"
      ],
      "execution_count": 8,
      "outputs": [
        {
          "output_type": "execute_result",
          "data": {
            "text/plain": [
              "0    22\n",
              "3    13\n",
              "1     8\n",
              "2     6\n",
              "Name: weapons used, dtype: int64"
            ]
          },
          "metadata": {
            "tags": []
          },
          "execution_count": 8
        }
      ]
    },
    {
      "cell_type": "code",
      "metadata": {
        "id": "tZ28wybY4zqx",
        "colab_type": "code",
        "colab": {
          "base_uri": "https://localhost:8080/",
          "height": 315
        },
        "outputId": "341e558d-080d-40a1-e903-abc5e9de1f83"
      },
      "source": [
        "df.hist(column='weapons used', bins=50)\n"
      ],
      "execution_count": 9,
      "outputs": [
        {
          "output_type": "execute_result",
          "data": {
            "text/plain": [
              "array([[<matplotlib.axes._subplots.AxesSubplot object at 0x7f1021ac2940>]],\n",
              "      dtype=object)"
            ]
          },
          "metadata": {
            "tags": []
          },
          "execution_count": 9
        },
        {
          "output_type": "display_data",
          "data": {
            "image/png": "[encoded data removed]",
            "text/plain": [
              "<Figure size 432x288 with 1 Axes>"
            ]
          },
          "metadata": {
            "tags": []
          }
        }
      ]
    },
    {
      "cell_type": "code",
      "metadata": {
        "id": "icq8yulP5Fd_",
        "colab_type": "code",
        "colab": {
          "base_uri": "https://localhost:8080/",
          "height": 85
        },
        "outputId": "c01df2a5-8ff7-44af-dbae-7ddda6f34f03"
      },
      "source": [
        "df.columns\n"
      ],
      "execution_count": 10,
      "outputs": [
        {
          "output_type": "execute_result",
          "data": {
            "text/plain": [
              "Index(['crimecode', 'occ_date', 'occ_time', 'occ_month', 'occ_week',\n",
              "       'occ_year', 'location', 'offence', 'weapons used', 'lat', 'long',\n",
              "       'light'],\n",
              "      dtype='object')"
            ]
          },
          "metadata": {
            "tags": []
          },
          "execution_count": 10
        }
      ]
    },
    {
      "cell_type": "code",
      "metadata": {
        "id": "gsbwQHeE5Hnk",
        "colab_type": "code",
        "colab": {
          "base_uri": "https://localhost:8080/",
          "height": 187
        },
        "outputId": "18fed605-3bdf-4427-cd12-a278ee93022f"
      },
      "source": [
        "X = df[['crimecode','occ_year', 'weapons used', 'lat', 'long']] .values  #.astype(float)\n",
        "X[0:5]\n"
      ],
      "execution_count": 20,
      "outputs": [
        {
          "output_type": "execute_result",
          "data": {
            "text/plain": [
              "array([[ 4.78632100e+06,  2.01400000e+03,  0.00000000e+00,\n",
              "         4.36532097e+01, -7.93812866e+01],\n",
              "       [ 4.67690600e+06,  2.01600000e+03,  0.00000000e+00,\n",
              "         4.37853508e+01, -7.92785721e+01],\n",
              "       [ 4.78974900e+06,  2.01600000e+03,  0.00000000e+00,\n",
              "         4.37009697e+01, -7.93992615e+01],\n",
              "       [ 4.78976500e+06,  2.01400000e+03,  3.00000000e+00,\n",
              "         4.37393913e+01, -7.95132217e+01],\n",
              "       [ 4.67790100e+06,  2.01600000e+03,  1.00000000e+00,\n",
              "         4.37204437e+01, -7.95514832e+01]])"
            ]
          },
          "metadata": {
            "tags": []
          },
          "execution_count": 20
        }
      ]
    },
    {
      "cell_type": "code",
      "metadata": {
        "id": "VYu9hXMv5Ugv",
        "colab_type": "code",
        "colab": {
          "base_uri": "https://localhost:8080/",
          "height": 34
        },
        "outputId": "ee37db8d-d014-44d9-f95e-f3581aeca226"
      },
      "source": [
        "y = df['weapons used'].values\n",
        "y[0:5]\n"
      ],
      "execution_count": 21,
      "outputs": [
        {
          "output_type": "execute_result",
          "data": {
            "text/plain": [
              "array([0, 0, 0, 3, 1])"
            ]
          },
          "metadata": {
            "tags": []
          },
          "execution_count": 21
        }
      ]
    },
    {
      "cell_type": "code",
      "metadata": {
        "id": "ZC3d6WkS5aZE",
        "colab_type": "code",
        "colab": {
          "base_uri": "https://localhost:8080/",
          "height": 102
        },
        "outputId": "9482cecf-ac8c-4a36-db42-42efa0d7abc0"
      },
      "source": [
        "X = preprocessing.StandardScaler().fit(X).transform(X.astype(float))\n",
        "X[0:5]\n"
      ],
      "execution_count": 22,
      "outputs": [
        {
          "output_type": "execute_result",
          "data": {
            "text/plain": [
              "array([[ 0.37871695, -1.77237252, -0.95459758, -1.48598081,  0.04922215],\n",
              "       [-1.43685975, -0.31277162, -0.95459758,  1.33954767,  0.96542198],\n",
              "       [ 0.43559943, -0.31277162, -0.95459758, -0.46474487, -0.1111116 ],\n",
              "       [ 0.43586492, -1.77237252,  1.42380656,  0.35681122, -1.1276216 ],\n",
              "       [-1.42034923, -0.31277162, -0.1617962 , -0.04833891, -1.46890915]])"
            ]
          },
          "metadata": {
            "tags": []
          },
          "execution_count": 22
        }
      ]
    },
    {
      "cell_type": "code",
      "metadata": {
        "id": "jsnQIzTU58mH",
        "colab_type": "code",
        "colab": {
          "base_uri": "https://localhost:8080/",
          "height": 51
        },
        "outputId": "88b84a8f-4fde-453f-cc2f-1364cdf77889"
      },
      "source": [
        "from sklearn.model_selection import train_test_split\n",
        "X_train, X_test, y_train, y_test = train_test_split( X, y, test_size=0.2, random_state=4)\n",
        "print ('Train set:', X_train.shape,  y_train.shape)\n",
        "print ('Test set:', X_test.shape,  y_test.shape)\n"
      ],
      "execution_count": 23,
      "outputs": [
        {
          "output_type": "stream",
          "text": [
            "Train set: (39, 5) (39,)\n",
            "Test set: (10, 5) (10,)\n"
          ],
          "name": "stdout"
        }
      ]
    },
    {
      "cell_type": "code",
      "metadata": {
        "id": "_PrPcDWC6A6q",
        "colab_type": "code",
        "colab": {}
      },
      "source": [
        "from sklearn.neighbors import KNeighborsClassifier"
      ],
      "execution_count": 0,
      "outputs": []
    },
    {
      "cell_type": "code",
      "metadata": {
        "id": "cw3ldJUg6Iyx",
        "colab_type": "code",
        "colab": {
          "base_uri": "https://localhost:8080/",
          "height": 68
        },
        "outputId": "53d44ebd-4b88-47cf-b8a6-4f76272f4fd8"
      },
      "source": [
        "k = 4\n",
        "#Train Model and Predict  \n",
        "neigh = KNeighborsClassifier(n_neighbors = k).fit(X_train,y_train)\n",
        "neigh\n"
      ],
      "execution_count": 25,
      "outputs": [
        {
          "output_type": "execute_result",
          "data": {
            "text/plain": [
              "KNeighborsClassifier(algorithm='auto', leaf_size=30, metric='minkowski',\n",
              "                     metric_params=None, n_jobs=None, n_neighbors=4, p=2,\n",
              "                     weights='uniform')"
            ]
          },
          "metadata": {
            "tags": []
          },
          "execution_count": 25
        }
      ]
    },
    {
      "cell_type": "code",
      "metadata": {
        "id": "njoyEU436ME5",
        "colab_type": "code",
        "colab": {
          "base_uri": "https://localhost:8080/",
          "height": 34
        },
        "outputId": "889c9ebe-3bae-4194-f951-c72003354be5"
      },
      "source": [
        "yhat = neigh.predict(X_test)\n",
        "yhat[0:5]\n"
      ],
      "execution_count": 26,
      "outputs": [
        {
          "output_type": "execute_result",
          "data": {
            "text/plain": [
              "array([0, 0, 3, 1, 1])"
            ]
          },
          "metadata": {
            "tags": []
          },
          "execution_count": 26
        }
      ]
    },
    {
      "cell_type": "code",
      "metadata": {
        "id": "1O7gA_LK6RDU",
        "colab_type": "code",
        "colab": {
          "base_uri": "https://localhost:8080/",
          "height": 51
        },
        "outputId": "ed7374ac-ec96-4a8e-9bdf-1f537612fa59"
      },
      "source": [
        "from sklearn import metrics\n",
        "print(\"Train set Accuracy: \", metrics.accuracy_score(y_train, neigh.predict(X_train)))\n",
        "print(\"Test set Accuracy: \", metrics.accuracy_score(y_test, yhat))\n"
      ],
      "execution_count": 27,
      "outputs": [
        {
          "output_type": "stream",
          "text": [
            "Train set Accuracy:  0.8717948717948718\n",
            "Test set Accuracy:  0.8\n"
          ],
          "name": "stdout"
        }
      ]
    },
    {
      "cell_type": "code",
      "metadata": {
        "id": "qiYXGmht60jJ",
        "colab_type": "code",
        "colab": {
          "base_uri": "https://localhost:8080/",
          "height": 34
        },
        "outputId": "edc9f062-736f-4ed5-b36a-1d297ce68576"
      },
      "source": [
        "Ks = 10\n",
        "mean_acc = np.zeros((Ks-1))\n",
        "std_acc = np.zeros((Ks-1))\n",
        "ConfustionMx = [];\n",
        "for n in range(1,Ks):\n",
        "    \n",
        "    #Train Model and Predict  \n",
        "    neigh = KNeighborsClassifier(n_neighbors = n).fit(X_train,y_train)\n",
        "    yhat=neigh.predict(X_test)\n",
        "    mean_acc[n-1] = metrics.accuracy_score(y_test, yhat)\n",
        "\n",
        "    \n",
        "    std_acc[n-1]=np.std(yhat==y_test)/np.sqrt(yhat.shape[0])\n",
        "\n",
        "mean_acc\n"
      ],
      "execution_count": 28,
      "outputs": [
        {
          "output_type": "execute_result",
          "data": {
            "text/plain": [
              "array([0.7, 0.7, 0.7, 0.8, 0.7, 0.8, 0.7, 0.8, 0.9])"
            ]
          },
          "metadata": {
            "tags": []
          },
          "execution_count": 28
        }
      ]
    },
    {
      "cell_type": "code",
      "metadata": {
        "id": "gs1S9vpN61xr",
        "colab_type": "code",
        "colab": {
          "base_uri": "https://localhost:8080/",
          "height": 297
        },
        "outputId": "aa10e6d6-27e5-4ac7-b8b0-111cbe067393"
      },
      "source": [
        "plt.plot(range(1,Ks),mean_acc,'g')\n",
        "plt.fill_between(range(1,Ks),mean_acc - 1 * std_acc,mean_acc + 1 * std_acc, alpha=0.10)\n",
        "plt.legend(('Accuracy ', '+/- 3xstd'))\n",
        "plt.ylabel('Accuracy ')\n",
        "plt.xlabel('Number of Nabors (K)')\n",
        "plt.tight_layout()\n",
        "plt.show()"
      ],
      "execution_count": 29,
      "outputs": [
        {
          "output_type": "display_data",
          "data": {
            "image/png": "[encoded data removed]",
            "text/plain": [
              "<Figure size 432x288 with 1 Axes>"
            ]
          },
          "metadata": {
            "tags": []
          }
        }
      ]
    },
    {
      "cell_type": "code",
      "metadata": {
        "id": "2jo3SO7J69wu",
        "colab_type": "code",
        "colab": {
          "base_uri": "https://localhost:8080/",
          "height": 34
        },
        "outputId": "0ffbb1ec-b832-4549-86aa-5c9794deac42"
      },
      "source": [
        "print( \"The best accuracy was with\", mean_acc.max(), \"with k=\", mean_acc.argmax()+1)"
      ],
      "execution_count": 30,
      "outputs": [
        {
          "output_type": "stream",
          "text": [
            "The best accuracy was with 0.9 with k= 9\n"
          ],
          "name": "stdout"
        }
      ]
    }
  ]
}