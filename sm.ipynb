{
  "nbformat": 4,
  "nbformat_minor": 0,
  "metadata": {
    "colab": {
      "name": "Untitled1.ipynb",
      "provenance": [],
      "authorship_tag": "ABX9TyPWIzSNnlAh16lRRvZKOlgs",
      "include_colab_link": true
    },
    "kernelspec": {
      "name": "python3",
      "display_name": "Python 3"
    }
  },
  "cells": [
    {
      "cell_type": "markdown",
      "metadata": {
        "id": "view-in-github",
        "colab_type": "text"
      },
      "source": [
        "<a href=\"https://colab.research.google.com/github/saranyapalani/project/blob/master/sm.ipynb\" target=\"_parent\"><img src=\"https://colab.research.google.com/assets/colab-badge.svg\" alt=\"Open In Colab\"/></a>"
      ]
    },
    {
      "cell_type": "code",
      "metadata": {
        "id": "UanBYUwW5NjY",
        "colab_type": "code",
        "colab": {}
      },
      "source": [
        "import itertools\n",
        "import numpy as np\n",
        "import matplotlib.pyplot as plt\n",
        "from matplotlib.ticker import NullFormatter\n",
        "import pandas as pd\n",
        "import numpy as np\n",
        "import matplotlib.ticker as ticker\n",
        "from sklearn import preprocessing\n",
        "%matplotlib inline\n"
      ],
      "execution_count": 0,
      "outputs": []
    },
    {
      "cell_type": "code",
      "metadata": {
        "id": "RMoZpN1B5hbk",
        "colab_type": "code",
        "outputId": "f4a5e34b-e2e9-410f-f335-af06b8a42395",
        "colab": {
          "base_uri": "https://localhost:8080/",
          "height": 122
        }
      },
      "source": [
        "from google.colab import drive\n",
        "drive.mount('/content/drive')\n"
      ],
      "execution_count": 0,
      "outputs": [
        {
          "output_type": "stream",
          "text": [
            "Go to this URL in a browser: https://accounts.google.com/o/oauth2/auth?client_id=947318989803-6bn6qk8qdgf4n4g3pfee6491hc0brc4i.apps.googleusercontent.com&redirect_uri=urn%3aietf%3awg%3aoauth%3a2.0%3aoob&response_type=code&scope=email%20https%3a%2f%2fwww.googleapis.com%2fauth%2fdocs.test%20https%3a%2f%2fwww.googleapis.com%2fauth%2fdrive%20https%3a%2f%2fwww.googleapis.com%2fauth%2fdrive.photos.readonly%20https%3a%2f%2fwww.googleapis.com%2fauth%2fpeopleapi.readonly\n",
            "\n",
            "Enter your authorization code:\n",
            "··········\n",
            "Mounted at /content/drive\n"
          ],
          "name": "stdout"
        }
      ]
    },
    {
      "cell_type": "code",
      "metadata": {
        "id": "xj-AB1DX5kko",
        "colab_type": "code",
        "colab": {}
      },
      "source": [
        "df=pd.read_csv('/content/drive/My Drive/new.csv')\n"
      ],
      "execution_count": 0,
      "outputs": []
    },
    {
      "cell_type": "code",
      "metadata": {
        "id": "SHnijmCF55Rn",
        "colab_type": "code",
        "outputId": "031684b1-df40-498b-8942-7cfd2e6032d5",
        "colab": {
          "base_uri": "https://localhost:8080/",
          "height": 241
        }
      },
      "source": [
        "df.head()"
      ],
      "execution_count": 0,
      "outputs": [
        {
          "output_type": "execute_result",
          "data": {
            "text/html": [
              "<div>\n",
              "<style scoped>\n",
              "    .dataframe tbody tr th:only-of-type {\n",
              "        vertical-align: middle;\n",
              "    }\n",
              "\n",
              "    .dataframe tbody tr th {\n",
              "        vertical-align: top;\n",
              "    }\n",
              "\n",
              "    .dataframe thead th {\n",
              "        text-align: right;\n",
              "    }\n",
              "</style>\n",
              "<table border=\"1\" class=\"dataframe\">\n",
              "  <thead>\n",
              "    <tr style=\"text-align: right;\">\n",
              "      <th></th>\n",
              "      <th>Record ID</th>\n",
              "      <th>City</th>\n",
              "      <th>State</th>\n",
              "      <th>Year</th>\n",
              "      <th>Month</th>\n",
              "      <th>Incident</th>\n",
              "      <th>Crime Solved</th>\n",
              "      <th>Victim Sex</th>\n",
              "      <th>Victim Age</th>\n",
              "      <th>propertystolen</th>\n",
              "      <th>weapons</th>\n",
              "      <th>victimcount</th>\n",
              "      <th>crimetype</th>\n",
              "      <th>target</th>\n",
              "    </tr>\n",
              "  </thead>\n",
              "  <tbody>\n",
              "    <tr>\n",
              "      <th>0</th>\n",
              "      <td>1</td>\n",
              "      <td>Anchorage</td>\n",
              "      <td>Alaska</td>\n",
              "      <td>2014</td>\n",
              "      <td>January</td>\n",
              "      <td>1</td>\n",
              "      <td>Yes</td>\n",
              "      <td>Male</td>\n",
              "      <td>14</td>\n",
              "      <td>jewellery</td>\n",
              "      <td>knife</td>\n",
              "      <td>0</td>\n",
              "      <td>Robbery</td>\n",
              "      <td>0</td>\n",
              "    </tr>\n",
              "    <tr>\n",
              "      <th>1</th>\n",
              "      <td>2</td>\n",
              "      <td>Anchorage</td>\n",
              "      <td>Alaska</td>\n",
              "      <td>2014</td>\n",
              "      <td>March</td>\n",
              "      <td>1</td>\n",
              "      <td>Yes</td>\n",
              "      <td>Male</td>\n",
              "      <td>43</td>\n",
              "      <td>jewellery</td>\n",
              "      <td>knife</td>\n",
              "      <td>0</td>\n",
              "      <td>Robbery</td>\n",
              "      <td>0</td>\n",
              "    </tr>\n",
              "    <tr>\n",
              "      <th>2</th>\n",
              "      <td>3</td>\n",
              "      <td>Anchorage</td>\n",
              "      <td>Alaska</td>\n",
              "      <td>2014</td>\n",
              "      <td>March</td>\n",
              "      <td>2</td>\n",
              "      <td>No</td>\n",
              "      <td>Female</td>\n",
              "      <td>30</td>\n",
              "      <td>jewellery</td>\n",
              "      <td>knife</td>\n",
              "      <td>0</td>\n",
              "      <td>Robbery</td>\n",
              "      <td>0</td>\n",
              "    </tr>\n",
              "    <tr>\n",
              "      <th>3</th>\n",
              "      <td>4</td>\n",
              "      <td>Anchorage</td>\n",
              "      <td>Alaska</td>\n",
              "      <td>2014</td>\n",
              "      <td>April</td>\n",
              "      <td>1</td>\n",
              "      <td>Yes</td>\n",
              "      <td>Male</td>\n",
              "      <td>43</td>\n",
              "      <td>jewellery</td>\n",
              "      <td>knife</td>\n",
              "      <td>0</td>\n",
              "      <td>Robbery</td>\n",
              "      <td>0</td>\n",
              "    </tr>\n",
              "    <tr>\n",
              "      <th>4</th>\n",
              "      <td>5</td>\n",
              "      <td>Anchorage</td>\n",
              "      <td>Alaska</td>\n",
              "      <td>2014</td>\n",
              "      <td>April</td>\n",
              "      <td>2</td>\n",
              "      <td>No</td>\n",
              "      <td>Female</td>\n",
              "      <td>30</td>\n",
              "      <td>jewellery</td>\n",
              "      <td>knife</td>\n",
              "      <td>0</td>\n",
              "      <td>Robbery</td>\n",
              "      <td>0</td>\n",
              "    </tr>\n",
              "  </tbody>\n",
              "</table>\n",
              "</div>"
            ],
            "text/plain": [
              "  Record ID       City   State  Year  ... weapons  victimcount crimetype target\n",
              "0         1  Anchorage  Alaska  2014  ...   knife            0   Robbery      0\n",
              "1         2  Anchorage  Alaska  2014  ...   knife            0   Robbery      0\n",
              "2         3  Anchorage  Alaska  2014  ...   knife            0   Robbery      0\n",
              "3         4  Anchorage  Alaska  2014  ...   knife            0   Robbery      0\n",
              "4         5  Anchorage  Alaska  2014  ...   knife            0   Robbery      0\n",
              "\n",
              "[5 rows x 14 columns]"
            ]
          },
          "metadata": {
            "tags": []
          },
          "execution_count": 7
        }
      ]
    },
    {
      "cell_type": "code",
      "metadata": {
        "id": "emP-ZPb96C1C",
        "colab_type": "code",
        "outputId": "76bb131a-5409-4990-b2cb-2d78f25c11bf",
        "colab": {
          "base_uri": "https://localhost:8080/",
          "height": 241
        }
      },
      "source": [
        "df['target']=df.target\n",
        "df.head()"
      ],
      "execution_count": 0,
      "outputs": [
        {
          "output_type": "execute_result",
          "data": {
            "text/html": [
              "<div>\n",
              "<style scoped>\n",
              "    .dataframe tbody tr th:only-of-type {\n",
              "        vertical-align: middle;\n",
              "    }\n",
              "\n",
              "    .dataframe tbody tr th {\n",
              "        vertical-align: top;\n",
              "    }\n",
              "\n",
              "    .dataframe thead th {\n",
              "        text-align: right;\n",
              "    }\n",
              "</style>\n",
              "<table border=\"1\" class=\"dataframe\">\n",
              "  <thead>\n",
              "    <tr style=\"text-align: right;\">\n",
              "      <th></th>\n",
              "      <th>Record ID</th>\n",
              "      <th>City</th>\n",
              "      <th>State</th>\n",
              "      <th>Year</th>\n",
              "      <th>Month</th>\n",
              "      <th>Incident</th>\n",
              "      <th>Crime Solved</th>\n",
              "      <th>Victim Sex</th>\n",
              "      <th>Victim Age</th>\n",
              "      <th>propertystolen</th>\n",
              "      <th>weapons</th>\n",
              "      <th>victimcount</th>\n",
              "      <th>crimetype</th>\n",
              "      <th>target</th>\n",
              "    </tr>\n",
              "  </thead>\n",
              "  <tbody>\n",
              "    <tr>\n",
              "      <th>0</th>\n",
              "      <td>1</td>\n",
              "      <td>Anchorage</td>\n",
              "      <td>Alaska</td>\n",
              "      <td>2014</td>\n",
              "      <td>January</td>\n",
              "      <td>1</td>\n",
              "      <td>Yes</td>\n",
              "      <td>Male</td>\n",
              "      <td>14</td>\n",
              "      <td>jewellery</td>\n",
              "      <td>knife</td>\n",
              "      <td>0</td>\n",
              "      <td>Robbery</td>\n",
              "      <td>0</td>\n",
              "    </tr>\n",
              "    <tr>\n",
              "      <th>1</th>\n",
              "      <td>2</td>\n",
              "      <td>Anchorage</td>\n",
              "      <td>Alaska</td>\n",
              "      <td>2014</td>\n",
              "      <td>March</td>\n",
              "      <td>1</td>\n",
              "      <td>Yes</td>\n",
              "      <td>Male</td>\n",
              "      <td>43</td>\n",
              "      <td>jewellery</td>\n",
              "      <td>knife</td>\n",
              "      <td>0</td>\n",
              "      <td>Robbery</td>\n",
              "      <td>0</td>\n",
              "    </tr>\n",
              "    <tr>\n",
              "      <th>2</th>\n",
              "      <td>3</td>\n",
              "      <td>Anchorage</td>\n",
              "      <td>Alaska</td>\n",
              "      <td>2014</td>\n",
              "      <td>March</td>\n",
              "      <td>2</td>\n",
              "      <td>No</td>\n",
              "      <td>Female</td>\n",
              "      <td>30</td>\n",
              "      <td>jewellery</td>\n",
              "      <td>knife</td>\n",
              "      <td>0</td>\n",
              "      <td>Robbery</td>\n",
              "      <td>0</td>\n",
              "    </tr>\n",
              "    <tr>\n",
              "      <th>3</th>\n",
              "      <td>4</td>\n",
              "      <td>Anchorage</td>\n",
              "      <td>Alaska</td>\n",
              "      <td>2014</td>\n",
              "      <td>April</td>\n",
              "      <td>1</td>\n",
              "      <td>Yes</td>\n",
              "      <td>Male</td>\n",
              "      <td>43</td>\n",
              "      <td>jewellery</td>\n",
              "      <td>knife</td>\n",
              "      <td>0</td>\n",
              "      <td>Robbery</td>\n",
              "      <td>0</td>\n",
              "    </tr>\n",
              "    <tr>\n",
              "      <th>4</th>\n",
              "      <td>5</td>\n",
              "      <td>Anchorage</td>\n",
              "      <td>Alaska</td>\n",
              "      <td>2014</td>\n",
              "      <td>April</td>\n",
              "      <td>2</td>\n",
              "      <td>No</td>\n",
              "      <td>Female</td>\n",
              "      <td>30</td>\n",
              "      <td>jewellery</td>\n",
              "      <td>knife</td>\n",
              "      <td>0</td>\n",
              "      <td>Robbery</td>\n",
              "      <td>0</td>\n",
              "    </tr>\n",
              "  </tbody>\n",
              "</table>\n",
              "</div>"
            ],
            "text/plain": [
              "  Record ID       City   State  Year  ... weapons  victimcount crimetype target\n",
              "0         1  Anchorage  Alaska  2014  ...   knife            0   Robbery      0\n",
              "1         2  Anchorage  Alaska  2014  ...   knife            0   Robbery      0\n",
              "2         3  Anchorage  Alaska  2014  ...   knife            0   Robbery      0\n",
              "3         4  Anchorage  Alaska  2014  ...   knife            0   Robbery      0\n",
              "4         5  Anchorage  Alaska  2014  ...   knife            0   Robbery      0\n",
              "\n",
              "[5 rows x 14 columns]"
            ]
          },
          "metadata": {
            "tags": []
          },
          "execution_count": 8
        }
      ]
    },
    {
      "cell_type": "code",
      "metadata": {
        "id": "ssf42Hb86P6i",
        "colab_type": "code",
        "outputId": "aa624469-d691-4e2c-d10c-ea172477b9a0",
        "colab": {
          "base_uri": "https://localhost:8080/",
          "height": 221
        }
      },
      "source": [
        "df.crimetype"
      ],
      "execution_count": 0,
      "outputs": [
        {
          "output_type": "execute_result",
          "data": {
            "text/plain": [
              "0                  Robbery\n",
              "1                  Robbery\n",
              "2                  Robbery\n",
              "3                  Robbery\n",
              "4                  Robbery\n",
              "                ...       \n",
              "300088    RobberyandMurder\n",
              "300089    RobberyandMurder\n",
              "300090    RobberyandMurder\n",
              "300091    RobberyandMurder\n",
              "300092    RobberyandMurder\n",
              "Name: crimetype, Length: 300093, dtype: object"
            ]
          },
          "metadata": {
            "tags": []
          },
          "execution_count": 9
        }
      ]
    },
    {
      "cell_type": "code",
      "metadata": {
        "id": "AslZY8wa6aXp",
        "colab_type": "code",
        "outputId": "5195ad92-d57e-4c33-ced9-ffbda6690c3d",
        "colab": {
          "base_uri": "https://localhost:8080/",
          "height": 326
        }
      },
      "source": [
        "df[df.target==2].head()"
      ],
      "execution_count": 0,
      "outputs": [
        {
          "output_type": "execute_result",
          "data": {
            "text/html": [
              "<div>\n",
              "<style scoped>\n",
              "    .dataframe tbody tr th:only-of-type {\n",
              "        vertical-align: middle;\n",
              "    }\n",
              "\n",
              "    .dataframe tbody tr th {\n",
              "        vertical-align: top;\n",
              "    }\n",
              "\n",
              "    .dataframe thead th {\n",
              "        text-align: right;\n",
              "    }\n",
              "</style>\n",
              "<table border=\"1\" class=\"dataframe\">\n",
              "  <thead>\n",
              "    <tr style=\"text-align: right;\">\n",
              "      <th></th>\n",
              "      <th>Record ID</th>\n",
              "      <th>City</th>\n",
              "      <th>State</th>\n",
              "      <th>Year</th>\n",
              "      <th>Month</th>\n",
              "      <th>Incident</th>\n",
              "      <th>Crime Solved</th>\n",
              "      <th>Victim Sex</th>\n",
              "      <th>Victim Age</th>\n",
              "      <th>propertystolen</th>\n",
              "      <th>weapons</th>\n",
              "      <th>victimcount</th>\n",
              "      <th>crimetype</th>\n",
              "      <th>target</th>\n",
              "    </tr>\n",
              "  </thead>\n",
              "  <tbody>\n",
              "    <tr>\n",
              "      <th>242434</th>\n",
              "      <td>242435</td>\n",
              "      <td>Anchorage</td>\n",
              "      <td>Alaska</td>\n",
              "      <td>2019</td>\n",
              "      <td>January</td>\n",
              "      <td>2</td>\n",
              "      <td>No</td>\n",
              "      <td>Male</td>\n",
              "      <td>32</td>\n",
              "      <td>jewellery and money</td>\n",
              "      <td>strangulation</td>\n",
              "      <td>1</td>\n",
              "      <td>RobberyandMurder</td>\n",
              "      <td>2</td>\n",
              "    </tr>\n",
              "    <tr>\n",
              "      <th>242435</th>\n",
              "      <td>242436</td>\n",
              "      <td>Anchorage</td>\n",
              "      <td>Alaska</td>\n",
              "      <td>2019</td>\n",
              "      <td>February</td>\n",
              "      <td>1</td>\n",
              "      <td>Yes</td>\n",
              "      <td>Male</td>\n",
              "      <td>4</td>\n",
              "      <td>jewellery and money</td>\n",
              "      <td>strangulation</td>\n",
              "      <td>1</td>\n",
              "      <td>RobberyandMurder</td>\n",
              "      <td>2</td>\n",
              "    </tr>\n",
              "    <tr>\n",
              "      <th>242436</th>\n",
              "      <td>242437</td>\n",
              "      <td>Anchorage</td>\n",
              "      <td>Alaska</td>\n",
              "      <td>2019</td>\n",
              "      <td>March</td>\n",
              "      <td>1</td>\n",
              "      <td>No</td>\n",
              "      <td>Female</td>\n",
              "      <td>24</td>\n",
              "      <td>jewellery and money</td>\n",
              "      <td>strangulation</td>\n",
              "      <td>1</td>\n",
              "      <td>RobberyandMurder</td>\n",
              "      <td>2</td>\n",
              "    </tr>\n",
              "    <tr>\n",
              "      <th>242437</th>\n",
              "      <td>242438</td>\n",
              "      <td>Anchorage</td>\n",
              "      <td>Alaska</td>\n",
              "      <td>2019</td>\n",
              "      <td>March</td>\n",
              "      <td>2</td>\n",
              "      <td>Yes</td>\n",
              "      <td>Male</td>\n",
              "      <td>23</td>\n",
              "      <td>jewellery and money</td>\n",
              "      <td>strangulation</td>\n",
              "      <td>1</td>\n",
              "      <td>RobberyandMurder</td>\n",
              "      <td>2</td>\n",
              "    </tr>\n",
              "    <tr>\n",
              "      <th>242438</th>\n",
              "      <td>242439</td>\n",
              "      <td>Anchorage</td>\n",
              "      <td>Alaska</td>\n",
              "      <td>2019</td>\n",
              "      <td>March</td>\n",
              "      <td>3</td>\n",
              "      <td>Yes</td>\n",
              "      <td>Male</td>\n",
              "      <td>35</td>\n",
              "      <td>jewellery and money</td>\n",
              "      <td>strangulation</td>\n",
              "      <td>1</td>\n",
              "      <td>RobberyandMurder</td>\n",
              "      <td>2</td>\n",
              "    </tr>\n",
              "  </tbody>\n",
              "</table>\n",
              "</div>"
            ],
            "text/plain": [
              "       Record ID       City   State  ...  victimcount         crimetype  target\n",
              "242434    242435  Anchorage  Alaska  ...            1  RobberyandMurder       2\n",
              "242435    242436  Anchorage  Alaska  ...            1  RobberyandMurder       2\n",
              "242436    242437  Anchorage  Alaska  ...            1  RobberyandMurder       2\n",
              "242437    242438  Anchorage  Alaska  ...            1  RobberyandMurder       2\n",
              "242438    242439  Anchorage  Alaska  ...            1  RobberyandMurder       2\n",
              "\n",
              "[5 rows x 14 columns]"
            ]
          },
          "metadata": {
            "tags": []
          },
          "execution_count": 10
        }
      ]
    },
    {
      "cell_type": "code",
      "metadata": {
        "id": "ZTOqI8Rr6j2u",
        "colab_type": "code",
        "outputId": "981d989f-b005-43ba-90b9-792516630b44",
        "colab": {
          "base_uri": "https://localhost:8080/",
          "height": 241
        }
      },
      "source": [
        "df['crimetype']=df.target.apply(lambda x: df.crimetype[x])\n",
        "df.head()"
      ],
      "execution_count": 0,
      "outputs": [
        {
          "output_type": "execute_result",
          "data": {
            "text/html": [
              "<div>\n",
              "<style scoped>\n",
              "    .dataframe tbody tr th:only-of-type {\n",
              "        vertical-align: middle;\n",
              "    }\n",
              "\n",
              "    .dataframe tbody tr th {\n",
              "        vertical-align: top;\n",
              "    }\n",
              "\n",
              "    .dataframe thead th {\n",
              "        text-align: right;\n",
              "    }\n",
              "</style>\n",
              "<table border=\"1\" class=\"dataframe\">\n",
              "  <thead>\n",
              "    <tr style=\"text-align: right;\">\n",
              "      <th></th>\n",
              "      <th>Record ID</th>\n",
              "      <th>City</th>\n",
              "      <th>State</th>\n",
              "      <th>Year</th>\n",
              "      <th>Month</th>\n",
              "      <th>Incident</th>\n",
              "      <th>Crime Solved</th>\n",
              "      <th>Victim Sex</th>\n",
              "      <th>Victim Age</th>\n",
              "      <th>propertystolen</th>\n",
              "      <th>weapons</th>\n",
              "      <th>victimcount</th>\n",
              "      <th>crimetype</th>\n",
              "      <th>target</th>\n",
              "    </tr>\n",
              "  </thead>\n",
              "  <tbody>\n",
              "    <tr>\n",
              "      <th>0</th>\n",
              "      <td>1</td>\n",
              "      <td>Anchorage</td>\n",
              "      <td>Alaska</td>\n",
              "      <td>2014</td>\n",
              "      <td>January</td>\n",
              "      <td>1</td>\n",
              "      <td>Yes</td>\n",
              "      <td>Male</td>\n",
              "      <td>14</td>\n",
              "      <td>jewellery</td>\n",
              "      <td>knife</td>\n",
              "      <td>0</td>\n",
              "      <td>Robbery</td>\n",
              "      <td>0</td>\n",
              "    </tr>\n",
              "    <tr>\n",
              "      <th>1</th>\n",
              "      <td>2</td>\n",
              "      <td>Anchorage</td>\n",
              "      <td>Alaska</td>\n",
              "      <td>2014</td>\n",
              "      <td>March</td>\n",
              "      <td>1</td>\n",
              "      <td>Yes</td>\n",
              "      <td>Male</td>\n",
              "      <td>43</td>\n",
              "      <td>jewellery</td>\n",
              "      <td>knife</td>\n",
              "      <td>0</td>\n",
              "      <td>Robbery</td>\n",
              "      <td>0</td>\n",
              "    </tr>\n",
              "    <tr>\n",
              "      <th>2</th>\n",
              "      <td>3</td>\n",
              "      <td>Anchorage</td>\n",
              "      <td>Alaska</td>\n",
              "      <td>2014</td>\n",
              "      <td>March</td>\n",
              "      <td>2</td>\n",
              "      <td>No</td>\n",
              "      <td>Female</td>\n",
              "      <td>30</td>\n",
              "      <td>jewellery</td>\n",
              "      <td>knife</td>\n",
              "      <td>0</td>\n",
              "      <td>Robbery</td>\n",
              "      <td>0</td>\n",
              "    </tr>\n",
              "    <tr>\n",
              "      <th>3</th>\n",
              "      <td>4</td>\n",
              "      <td>Anchorage</td>\n",
              "      <td>Alaska</td>\n",
              "      <td>2014</td>\n",
              "      <td>April</td>\n",
              "      <td>1</td>\n",
              "      <td>Yes</td>\n",
              "      <td>Male</td>\n",
              "      <td>43</td>\n",
              "      <td>jewellery</td>\n",
              "      <td>knife</td>\n",
              "      <td>0</td>\n",
              "      <td>Robbery</td>\n",
              "      <td>0</td>\n",
              "    </tr>\n",
              "    <tr>\n",
              "      <th>4</th>\n",
              "      <td>5</td>\n",
              "      <td>Anchorage</td>\n",
              "      <td>Alaska</td>\n",
              "      <td>2014</td>\n",
              "      <td>April</td>\n",
              "      <td>2</td>\n",
              "      <td>No</td>\n",
              "      <td>Female</td>\n",
              "      <td>30</td>\n",
              "      <td>jewellery</td>\n",
              "      <td>knife</td>\n",
              "      <td>0</td>\n",
              "      <td>Robbery</td>\n",
              "      <td>0</td>\n",
              "    </tr>\n",
              "  </tbody>\n",
              "</table>\n",
              "</div>"
            ],
            "text/plain": [
              "  Record ID       City   State  Year  ... weapons  victimcount crimetype target\n",
              "0         1  Anchorage  Alaska  2014  ...   knife            0   Robbery      0\n",
              "1         2  Anchorage  Alaska  2014  ...   knife            0   Robbery      0\n",
              "2         3  Anchorage  Alaska  2014  ...   knife            0   Robbery      0\n",
              "3         4  Anchorage  Alaska  2014  ...   knife            0   Robbery      0\n",
              "4         5  Anchorage  Alaska  2014  ...   knife            0   Robbery      0\n",
              "\n",
              "[5 rows x 14 columns]"
            ]
          },
          "metadata": {
            "tags": []
          },
          "execution_count": 11
        }
      ]
    },
    {
      "cell_type": "code",
      "metadata": {
        "id": "4xjIuQfc60ob",
        "colab_type": "code",
        "colab": {}
      },
      "source": [
        "from matplotlib import pyplot as pyplot\n",
        "%matplotlib inline"
      ],
      "execution_count": 0,
      "outputs": []
    },
    {
      "cell_type": "code",
      "metadata": {
        "id": "MuvJTKS37Gaw",
        "colab_type": "code",
        "colab": {}
      },
      "source": [
        "df0=df[df.target==0]\n",
        "df1=df[df.target==1]\n",
        "df2=df[df.target==2]"
      ],
      "execution_count": 0,
      "outputs": []
    },
    {
      "cell_type": "code",
      "metadata": {
        "id": "upwrWD-l7QAk",
        "colab_type": "code",
        "outputId": "0870224d-6b85-42a7-9524-8ed5d4d1e46e",
        "colab": {
          "base_uri": "https://localhost:8080/",
          "height": 326
        }
      },
      "source": [
        "df2.head()"
      ],
      "execution_count": 0,
      "outputs": [
        {
          "output_type": "execute_result",
          "data": {
            "text/html": [
              "<div>\n",
              "<style scoped>\n",
              "    .dataframe tbody tr th:only-of-type {\n",
              "        vertical-align: middle;\n",
              "    }\n",
              "\n",
              "    .dataframe tbody tr th {\n",
              "        vertical-align: top;\n",
              "    }\n",
              "\n",
              "    .dataframe thead th {\n",
              "        text-align: right;\n",
              "    }\n",
              "</style>\n",
              "<table border=\"1\" class=\"dataframe\">\n",
              "  <thead>\n",
              "    <tr style=\"text-align: right;\">\n",
              "      <th></th>\n",
              "      <th>Record ID</th>\n",
              "      <th>City</th>\n",
              "      <th>State</th>\n",
              "      <th>Year</th>\n",
              "      <th>Month</th>\n",
              "      <th>Incident</th>\n",
              "      <th>Crime Solved</th>\n",
              "      <th>Victim Sex</th>\n",
              "      <th>Victim Age</th>\n",
              "      <th>propertystolen</th>\n",
              "      <th>weapons</th>\n",
              "      <th>victimcount</th>\n",
              "      <th>crimetype</th>\n",
              "      <th>target</th>\n",
              "    </tr>\n",
              "  </thead>\n",
              "  <tbody>\n",
              "    <tr>\n",
              "      <th>242434</th>\n",
              "      <td>242435</td>\n",
              "      <td>Anchorage</td>\n",
              "      <td>Alaska</td>\n",
              "      <td>2019</td>\n",
              "      <td>January</td>\n",
              "      <td>2</td>\n",
              "      <td>No</td>\n",
              "      <td>Male</td>\n",
              "      <td>32</td>\n",
              "      <td>jewellery and money</td>\n",
              "      <td>strangulation</td>\n",
              "      <td>1</td>\n",
              "      <td>Robbery</td>\n",
              "      <td>2</td>\n",
              "    </tr>\n",
              "    <tr>\n",
              "      <th>242435</th>\n",
              "      <td>242436</td>\n",
              "      <td>Anchorage</td>\n",
              "      <td>Alaska</td>\n",
              "      <td>2019</td>\n",
              "      <td>February</td>\n",
              "      <td>1</td>\n",
              "      <td>Yes</td>\n",
              "      <td>Male</td>\n",
              "      <td>4</td>\n",
              "      <td>jewellery and money</td>\n",
              "      <td>strangulation</td>\n",
              "      <td>1</td>\n",
              "      <td>Robbery</td>\n",
              "      <td>2</td>\n",
              "    </tr>\n",
              "    <tr>\n",
              "      <th>242436</th>\n",
              "      <td>242437</td>\n",
              "      <td>Anchorage</td>\n",
              "      <td>Alaska</td>\n",
              "      <td>2019</td>\n",
              "      <td>March</td>\n",
              "      <td>1</td>\n",
              "      <td>No</td>\n",
              "      <td>Female</td>\n",
              "      <td>24</td>\n",
              "      <td>jewellery and money</td>\n",
              "      <td>strangulation</td>\n",
              "      <td>1</td>\n",
              "      <td>Robbery</td>\n",
              "      <td>2</td>\n",
              "    </tr>\n",
              "    <tr>\n",
              "      <th>242437</th>\n",
              "      <td>242438</td>\n",
              "      <td>Anchorage</td>\n",
              "      <td>Alaska</td>\n",
              "      <td>2019</td>\n",
              "      <td>March</td>\n",
              "      <td>2</td>\n",
              "      <td>Yes</td>\n",
              "      <td>Male</td>\n",
              "      <td>23</td>\n",
              "      <td>jewellery and money</td>\n",
              "      <td>strangulation</td>\n",
              "      <td>1</td>\n",
              "      <td>Robbery</td>\n",
              "      <td>2</td>\n",
              "    </tr>\n",
              "    <tr>\n",
              "      <th>242438</th>\n",
              "      <td>242439</td>\n",
              "      <td>Anchorage</td>\n",
              "      <td>Alaska</td>\n",
              "      <td>2019</td>\n",
              "      <td>March</td>\n",
              "      <td>3</td>\n",
              "      <td>Yes</td>\n",
              "      <td>Male</td>\n",
              "      <td>35</td>\n",
              "      <td>jewellery and money</td>\n",
              "      <td>strangulation</td>\n",
              "      <td>1</td>\n",
              "      <td>Robbery</td>\n",
              "      <td>2</td>\n",
              "    </tr>\n",
              "  </tbody>\n",
              "</table>\n",
              "</div>"
            ],
            "text/plain": [
              "       Record ID       City   State  ...  victimcount crimetype  target\n",
              "242434    242435  Anchorage  Alaska  ...            1   Robbery       2\n",
              "242435    242436  Anchorage  Alaska  ...            1   Robbery       2\n",
              "242436    242437  Anchorage  Alaska  ...            1   Robbery       2\n",
              "242437    242438  Anchorage  Alaska  ...            1   Robbery       2\n",
              "242438    242439  Anchorage  Alaska  ...            1   Robbery       2\n",
              "\n",
              "[5 rows x 14 columns]"
            ]
          },
          "metadata": {
            "tags": []
          },
          "execution_count": 14
        }
      ]
    },
    {
      "cell_type": "code",
      "metadata": {
        "id": "DOFRMpUC-SPA",
        "colab_type": "code",
        "colab": {}
      },
      "source": [
        "from sklearn.model_selection import train_test_split"
      ],
      "execution_count": 0,
      "outputs": []
    },
    {
      "cell_type": "code",
      "metadata": {
        "id": "1J8W7yMs8hk4",
        "colab_type": "code",
        "outputId": "ba217724-72eb-46c0-fa15-bd8962905473",
        "colab": {
          "base_uri": "https://localhost:8080/",
          "height": 204
        }
      },
      "source": [
        "x=df.drop(['Record ID','City','State','Year','Month','Incident','Crime Solved','Victim Sex','Victim Age','propertystolen','weapons','crimetype'],axis='columns')\n",
        "x.head()"
      ],
      "execution_count": 0,
      "outputs": [
        {
          "output_type": "execute_result",
          "data": {
            "text/html": [
              "<div>\n",
              "<style scoped>\n",
              "    .dataframe tbody tr th:only-of-type {\n",
              "        vertical-align: middle;\n",
              "    }\n",
              "\n",
              "    .dataframe tbody tr th {\n",
              "        vertical-align: top;\n",
              "    }\n",
              "\n",
              "    .dataframe thead th {\n",
              "        text-align: right;\n",
              "    }\n",
              "</style>\n",
              "<table border=\"1\" class=\"dataframe\">\n",
              "  <thead>\n",
              "    <tr style=\"text-align: right;\">\n",
              "      <th></th>\n",
              "      <th>victimcount</th>\n",
              "      <th>target</th>\n",
              "    </tr>\n",
              "  </thead>\n",
              "  <tbody>\n",
              "    <tr>\n",
              "      <th>0</th>\n",
              "      <td>0</td>\n",
              "      <td>0</td>\n",
              "    </tr>\n",
              "    <tr>\n",
              "      <th>1</th>\n",
              "      <td>0</td>\n",
              "      <td>0</td>\n",
              "    </tr>\n",
              "    <tr>\n",
              "      <th>2</th>\n",
              "      <td>0</td>\n",
              "      <td>0</td>\n",
              "    </tr>\n",
              "    <tr>\n",
              "      <th>3</th>\n",
              "      <td>0</td>\n",
              "      <td>0</td>\n",
              "    </tr>\n",
              "    <tr>\n",
              "      <th>4</th>\n",
              "      <td>0</td>\n",
              "      <td>0</td>\n",
              "    </tr>\n",
              "  </tbody>\n",
              "</table>\n",
              "</div>"
            ],
            "text/plain": [
              "   victimcount  target\n",
              "0            0       0\n",
              "1            0       0\n",
              "2            0       0\n",
              "3            0       0\n",
              "4            0       0"
            ]
          },
          "metadata": {
            "tags": []
          },
          "execution_count": 22
        }
      ]
    },
    {
      "cell_type": "code",
      "metadata": {
        "id": "AIqRqApQ91En",
        "colab_type": "code",
        "colab": {}
      },
      "source": [
        "y=df.target"
      ],
      "execution_count": 0,
      "outputs": []
    },
    {
      "cell_type": "code",
      "metadata": {
        "id": "zm5ucN0B-B7k",
        "colab_type": "code",
        "colab": {}
      },
      "source": [
        "x_train,x_test,y_train,y_test=train_test_split(x,y,test_size=0.2)"
      ],
      "execution_count": 0,
      "outputs": []
    },
    {
      "cell_type": "code",
      "metadata": {
        "id": "c76JECl0-cl5",
        "colab_type": "code",
        "outputId": "480518c0-37ce-412c-d3ae-07e68ad81f2e",
        "colab": {
          "base_uri": "https://localhost:8080/",
          "height": 34
        }
      },
      "source": [
        "len(x_train)"
      ],
      "execution_count": 0,
      "outputs": [
        {
          "output_type": "execute_result",
          "data": {
            "text/plain": [
              "240074"
            ]
          },
          "metadata": {
            "tags": []
          },
          "execution_count": 25
        }
      ]
    },
    {
      "cell_type": "code",
      "metadata": {
        "id": "EigwnOwM-geO",
        "colab_type": "code",
        "outputId": "6c67548c-1fc3-4ebb-f5d6-5e630789328d",
        "colab": {
          "base_uri": "https://localhost:8080/",
          "height": 34
        }
      },
      "source": [
        "len(x_test)"
      ],
      "execution_count": 0,
      "outputs": [
        {
          "output_type": "execute_result",
          "data": {
            "text/plain": [
              "60019"
            ]
          },
          "metadata": {
            "tags": []
          },
          "execution_count": 26
        }
      ]
    },
    {
      "cell_type": "code",
      "metadata": {
        "id": "2RA4KbOv-peE",
        "colab_type": "code",
        "colab": {}
      },
      "source": [
        "from sklearn.svm import SVC\n",
        "model=SVC()"
      ],
      "execution_count": 0,
      "outputs": []
    },
    {
      "cell_type": "code",
      "metadata": {
        "id": "f4IA5Qpz-09L",
        "colab_type": "code",
        "outputId": "196f69b9-b057-4e5b-8237-39a96cbfbd41",
        "colab": {
          "base_uri": "https://localhost:8080/",
          "height": 85
        }
      },
      "source": [
        "model.fit(x_train,y_train)"
      ],
      "execution_count": 0,
      "outputs": [
        {
          "output_type": "execute_result",
          "data": {
            "text/plain": [
              "SVC(C=1.0, break_ties=False, cache_size=200, class_weight=None, coef0=0.0,\n",
              "    decision_function_shape='ovr', degree=3, gamma='scale', kernel='rbf',\n",
              "    max_iter=-1, probability=False, random_state=None, shrinking=True,\n",
              "    tol=0.001, verbose=False)"
            ]
          },
          "metadata": {
            "tags": []
          },
          "execution_count": 29
        }
      ]
    },
    {
      "cell_type": "code",
      "metadata": {
        "id": "5ySmWgv7-7sY",
        "colab_type": "code",
        "outputId": "9855d4e2-d6ed-49d5-ed41-ae151bcbf585",
        "colab": {
          "base_uri": "https://localhost:8080/",
          "height": 34
        }
      },
      "source": [
        "model.score(x_test,y_test)"
      ],
      "execution_count": 0,
      "outputs": [
        {
          "output_type": "execute_result",
          "data": {
            "text/plain": [
              "1.0"
            ]
          },
          "metadata": {
            "tags": []
          },
          "execution_count": 30
        }
      ]
    }
  ]
}