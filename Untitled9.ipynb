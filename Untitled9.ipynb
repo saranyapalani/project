{
  "nbformat": 4,
  "nbformat_minor": 0,
  "metadata": {
    "colab": {
      "name": "Untitled9.ipynb",
      "provenance": [],
      "authorship_tag": "ABX9TyPFb2qo8fsXf8O1rrBsZbFI",
      "include_colab_link": true
    },
    "kernelspec": {
      "name": "python3",
      "display_name": "Python 3"
    }
  },
  "cells": [
    {
      "cell_type": "markdown",
      "metadata": {
        "id": "view-in-github",
        "colab_type": "text"
      },
      "source": [
        "<a href=\"https://colab.research.google.com/github/saranyapalani/project/blob/master/Untitled9.ipynb\" target=\"_parent\"><img src=\"https://colab.research.google.com/assets/colab-badge.svg\" alt=\"Open In Colab\"/></a>"
      ]
    },
    {
      "cell_type": "code",
      "metadata": {
        "id": "xze3UKRZuor6",
        "colab_type": "code",
        "colab": {}
      },
      "source": [
        "import pandas as pd\n",
        "import numpy as np\n"
      ],
      "execution_count": 0,
      "outputs": []
    },
    {
      "cell_type": "code",
      "metadata": {
        "id": "sUiBuxYDu__s",
        "colab_type": "code",
        "colab": {}
      },
      "source": [
        "df = pd.read_csv('man.csv')\n",
        "include = ['age', 'sex', 'location', 'label'] # Only four features\n",
        "df_ = df[include]"
      ],
      "execution_count": 0,
      "outputs": []
    },
    {
      "cell_type": "code",
      "metadata": {
        "id": "0M_khDt2vKwZ",
        "colab_type": "code",
        "outputId": "640ada4d-3b5a-4529-b42b-2c576ef4b5cd",
        "colab": {
          "base_uri": "https://localhost:8080/",
          "height": 122
        }
      },
      "source": [
        "categoricals = []\n",
        "for col, col_type in df_.dtypes.iteritems():\n",
        "     if col_type == 'O':\n",
        "          categoricals.append(col)\n",
        "     else:\n",
        "          df_[col].fillna(0, inplace=True)"
      ],
      "execution_count": 0,
      "outputs": [
        {
          "output_type": "stream",
          "text": [
            "/usr/local/lib/python3.6/dist-packages/pandas/core/generic.py:6287: SettingWithCopyWarning: \n",
            "A value is trying to be set on a copy of a slice from a DataFrame\n",
            "\n",
            "See the caveats in the documentation: http://pandas.pydata.org/pandas-docs/stable/user_guide/indexing.html#returning-a-view-versus-a-copy\n",
            "  self._update_inplace(new_data)\n"
          ],
          "name": "stderr"
        }
      ]
    },
    {
      "cell_type": "code",
      "metadata": {
        "id": "GbyX17bfvPCY",
        "colab_type": "code",
        "colab": {}
      },
      "source": [
        "df_ohe = pd.get_dummies(df_, columns=categoricals, dummy_na=True)"
      ],
      "execution_count": 0,
      "outputs": []
    },
    {
      "cell_type": "code",
      "metadata": {
        "id": "s7wDan4yvTFj",
        "colab_type": "code",
        "outputId": "7c180162-e76d-43b5-8a34-0f89b929fec7",
        "colab": {
          "base_uri": "https://localhost:8080/",
          "height": 102
        }
      },
      "source": [
        "from sklearn.linear_model import LogisticRegression\n",
        "dependent_variable = 'label'\n",
        "x = df_ohe[df_ohe.columns.difference([dependent_variable])]\n",
        "y = df_ohe[dependent_variable]\n",
        "lr = LogisticRegression()\n",
        "lr.fit(x, y)\n"
      ],
      "execution_count": 0,
      "outputs": [
        {
          "output_type": "execute_result",
          "data": {
            "text/plain": [
              "LogisticRegression(C=1.0, class_weight=None, dual=False, fit_intercept=True,\n",
              "                   intercept_scaling=1, l1_ratio=None, max_iter=100,\n",
              "                   multi_class='auto', n_jobs=None, penalty='l2',\n",
              "                   random_state=None, solver='lbfgs', tol=0.0001, verbose=0,\n",
              "                   warm_start=False)"
            ]
          },
          "metadata": {
            "tags": []
          },
          "execution_count": 5
        }
      ]
    },
    {
      "cell_type": "code",
      "metadata": {
        "id": "7VOjD2mrvYz3",
        "colab_type": "code",
        "outputId": "0b4103ff-185c-473f-a5a1-a7616180e544",
        "colab": {
          "base_uri": "https://localhost:8080/",
          "height": 88
        }
      },
      "source": [
        "from sklearn.externals import joblib\n",
        "joblib.dump(lr, 'model.pkl')\n"
      ],
      "execution_count": 0,
      "outputs": [
        {
          "output_type": "stream",
          "text": [
            "/usr/local/lib/python3.6/dist-packages/sklearn/externals/joblib/__init__.py:15: FutureWarning: sklearn.externals.joblib is deprecated in 0.21 and will be removed in 0.23. Please import this functionality directly from joblib, which can be installed with: pip install joblib. If this warning is raised when loading pickled models, you may need to re-serialize those models with scikit-learn 0.21+.\n",
            "  warnings.warn(msg, category=FutureWarning)\n"
          ],
          "name": "stderr"
        },
        {
          "output_type": "execute_result",
          "data": {
            "text/plain": [
              "['model.pkl']"
            ]
          },
          "metadata": {
            "tags": []
          },
          "execution_count": 6
        }
      ]
    },
    {
      "cell_type": "code",
      "metadata": {
        "id": "vs5akfDtvfnD",
        "colab_type": "code",
        "colab": {}
      },
      "source": [
        "lr = joblib.load('model.pkl')\n"
      ],
      "execution_count": 0,
      "outputs": []
    },
    {
      "cell_type": "code",
      "metadata": {
        "id": "j8B3JLZtvjbn",
        "colab_type": "code",
        "outputId": "fb6eb519-ae8c-4c1e-a6dd-d8423a1d9bb3",
        "colab": {
          "base_uri": "https://localhost:8080/",
          "height": 85
        }
      },
      "source": [
        "[\n",
        "    {\"age\": 22, \"sex\": \"0\", \"location\": \"park\"},\n",
        "    {\"age\": 21, \"sex\": '\"0\"', \"location\": \"app\"},\n",
        "    {\"age\": 45, \"sex\": \"1\", \"location\": \"street\"},\n",
        "    {\"age\": 23, \"sex\": \"0\", \"location\": \"res\"}\n",
        "]"
      ],
      "execution_count": 0,
      "outputs": [
        {
          "output_type": "execute_result",
          "data": {
            "text/plain": [
              "[{'age': 22, 'location': 'park', 'sex': '0'},\n",
              " {'age': 21, 'location': 'app', 'sex': '\"0\"'},\n",
              " {'age': 45, 'location': 'street', 'sex': '1'},\n",
              " {'age': 23, 'location': 'res', 'sex': '0'}]"
            ]
          },
          "metadata": {
            "tags": []
          },
          "execution_count": 8
        }
      ]
    },
    {
      "cell_type": "code",
      "metadata": {
        "id": "_UDG3i7HwPe7",
        "colab_type": "code",
        "outputId": "3dae3a2d-2d31-4fee-b397-14a596ce8de8",
        "colab": {
          "base_uri": "https://localhost:8080/",
          "height": 139
        }
      },
      "source": [
        "pip install flask"
      ],
      "execution_count": 0,
      "outputs": [
        {
          "output_type": "stream",
          "text": [
            "Requirement already satisfied: flask in /usr/local/lib/python3.6/dist-packages (1.1.1)\n",
            "Requirement already satisfied: itsdangerous>=0.24 in /usr/local/lib/python3.6/dist-packages (from flask) (1.1.0)\n",
            "Requirement already satisfied: click>=5.1 in /usr/local/lib/python3.6/dist-packages (from flask) (7.0)\n",
            "Requirement already satisfied: Jinja2>=2.10.1 in /usr/local/lib/python3.6/dist-packages (from flask) (2.11.1)\n",
            "Requirement already satisfied: Werkzeug>=0.15 in /usr/local/lib/python3.6/dist-packages (from flask) (1.0.0)\n",
            "Requirement already satisfied: MarkupSafe>=0.23 in /usr/local/lib/python3.6/dist-packages (from Jinja2>=2.10.1->flask) (1.1.1)\n"
          ],
          "name": "stdout"
        }
      ]
    },
    {
      "cell_type": "code",
      "metadata": {
        "id": "TuKHsdoawXB3",
        "colab_type": "code",
        "colab": {}
      },
      "source": [
        "from flask import Flask, jsonify\n",
        "app = Flask(__name__)\n",
        "@app.route('/predict', methods=['POST'])\n",
        "def predict():\n",
        "     json_ = request.json\n",
        "     query_df = pd.DataFrame(json_)\n",
        "     query = pd.get_dummies(query_df)\n",
        "     prediction = lr.predict(query)\n",
        "     return jsonify({'prediction': list(prediction)})\n"
      ],
      "execution_count": 0,
      "outputs": []
    },
    {
      "cell_type": "code",
      "metadata": {
        "id": "T6-BqBWPwcdo",
        "colab_type": "code",
        "outputId": "80296349-4639-4c21-e663-dc0101393d4c",
        "colab": {
          "base_uri": "https://localhost:8080/",
          "height": 34
        }
      },
      "source": [
        "model_columns = list(x.columns)\n",
        "joblib.dump(model_columns, 'model_columns.pkl')\n",
        "print(\"Models columns dumped!\")\n"
      ],
      "execution_count": 0,
      "outputs": [
        {
          "output_type": "stream",
          "text": [
            "Models columns dumped!\n"
          ],
          "name": "stdout"
        }
      ]
    },
    {
      "cell_type": "code",
      "metadata": {
        "id": "s2sh57OVwhqz",
        "colab_type": "code",
        "colab": {}
      },
      "source": [
        "def predict():\n",
        "    if lr:\n",
        "        try:\n",
        "            json_ = request.json\n",
        "            query= pd.get_dummies(pd.DataFrame(json_))\n",
        "            query = query.reindex(columns=model_columns, fill_value=0)\n",
        "\n",
        "            prediction = list(lr.predict(query))\n",
        "\n",
        "            return jsonify({'prediction': prediction})\n",
        "\n",
        "        except:\n",
        "\n",
        "            return jsonify({'trace': traceback.format_exc()})\n",
        "    else:\n",
        "        print ('Train the model first')\n",
        "        return ('No model here to use')\n"
      ],
      "execution_count": 0,
      "outputs": []
    },
    {
      "cell_type": "code",
      "metadata": {
        "id": "xdhTF78WlD0k",
        "colab_type": "code",
        "outputId": "b10fefdc-60d2-4750-960b-e2be8aea73ab",
        "colab": {
          "base_uri": "https://localhost:8080/",
          "height": 129
        }
      },
      "source": [
        "export FLASK_APP=my_app.py\n",
        "export FLASK_DEBUG=1\n",
        "flask run\n"
      ],
      "execution_count": 0,
      "outputs": [
        {
          "output_type": "error",
          "ename": "SyntaxError",
          "evalue": "ignored",
          "traceback": [
            "\u001b[0;36m  File \u001b[0;32m\"<ipython-input-16-e2fa2b834ecb>\"\u001b[0;36m, line \u001b[0;32m1\u001b[0m\n\u001b[0;31m    export FLASK_APP=my_app.py\u001b[0m\n\u001b[0m                   ^\u001b[0m\n\u001b[0;31mSyntaxError\u001b[0m\u001b[0;31m:\u001b[0m invalid syntax\n"
          ]
        }
      ]
    },
    {
      "cell_type": "code",
      "metadata": {
        "id": "tP7L0CDRC5D3",
        "colab_type": "code",
        "outputId": "05c2dd4c-1036-4ccb-b420-c955d640c81f",
        "colab": {
          "base_uri": "https://localhost:8080/",
          "height": 319
        }
      },
      "source": [
        "if __name__ == '__main__':\n",
        "    try:\n",
        "        port = int(sys.argv[1]) # This is for a command-line argument\n",
        "    except:\n",
        "        port = 4000 # If you don't provide any port then the port will be set to 12345\n",
        "    lr = joblib.load('model.pkl') # Load \"model.pkl\"\n",
        "    print ('Model loaded')\n",
        "    model_columns = joblib.load('model.pkl') # Load \"model_columns.pkl\"\n",
        "    print ('Model columns loaded')\n",
        "    app.run(port=port, debug=True)"
      ],
      "execution_count": 0,
      "outputs": [
        {
          "output_type": "stream",
          "text": [
            "Model loaded\n",
            "Model columns loaded\n",
            " * Serving Flask app \"__main__\" (lazy loading)\n",
            " * Environment: production\n",
            "   WARNING: This is a development server. Do not use it in a production deployment.\n",
            "   Use a production WSGI server instead.\n",
            " * Debug mode: on\n"
          ],
          "name": "stdout"
        },
        {
          "output_type": "stream",
          "text": [
            " * Running on http://127.0.0.1:4000/ (Press CTRL+C to quit)\n",
            " * Restarting with stat\n"
          ],
          "name": "stderr"
        },
        {
          "output_type": "error",
          "ename": "SystemExit",
          "evalue": "ignored",
          "traceback": [
            "An exception has occurred, use %tb to see the full traceback.\n",
            "\u001b[0;31mSystemExit\u001b[0m\u001b[0;31m:\u001b[0m 1\n"
          ]
        },
        {
          "output_type": "stream",
          "text": [
            "/usr/local/lib/python3.6/dist-packages/IPython/core/interactiveshell.py:2890: UserWarning: To exit: use 'exit', 'quit', or Ctrl-D.\n",
            "  warn(\"To exit: use 'exit', 'quit', or Ctrl-D.\", stacklevel=1)\n"
          ],
          "name": "stderr"
        }
      ]
    }
  ]
}