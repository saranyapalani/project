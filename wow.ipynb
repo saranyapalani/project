{
  "nbformat": 4,
  "nbformat_minor": 0,
  "metadata": {
    "colab": {
      "name": "Untitled1.ipynb",
      "provenance": [],
      "authorship_tag": "ABX9TyPDwpnO8EvkQfPAZp1Kp4DO",
      "include_colab_link": true
    },
    "kernelspec": {
      "name": "python3",
      "display_name": "Python 3"
    }
  },
  "cells": [
    {
      "cell_type": "markdown",
      "metadata": {
        "id": "view-in-github",
        "colab_type": "text"
      },
      "source": [
        "<a href=\"https://colab.research.google.com/github/saranyapalani/sample/blob/master/wow.ipynb\" target=\"_parent\"><img src=\"https://colab.research.google.com/assets/colab-badge.svg\" alt=\"Open In Colab\"/></a>"
      ]
    },
    {
      "cell_type": "code",
      "metadata": {
        "id": "iO3gsjolauBw",
        "colab_type": "code",
        "colab": {}
      },
      "source": [
        "#PREDICTING JEWELS THEFT AND MURDER CRIME RATE USING FACEBOOK PROPHET"
      ],
      "execution_count": 0,
      "outputs": []
    },
    {
      "cell_type": "code",
      "metadata": {
        "id": "QvzEZRmja7C5",
        "colab_type": "code",
        "colab": {}
      },
      "source": [
        "#importing datasets from google drive"
      ],
      "execution_count": 0,
      "outputs": []
    },
    {
      "cell_type": "code",
      "metadata": {
        "id": "3ArFGWYla9wJ",
        "colab_type": "code",
        "colab": {
          "base_uri": "https://localhost:8080/",
          "height": 122
        },
        "outputId": "09132df4-ca59-4ca4-cded-b068e748c915"
      },
      "source": [
        "from google.colab import drive\n",
        "drive.mount('/content/drive')\n"
      ],
      "execution_count": 3,
      "outputs": [
        {
          "output_type": "stream",
          "text": [
            "Go to this URL in a browser: https://accounts.google.com/o/oauth2/auth?client_id=947318989803-6bn6qk8qdgf4n4g3pfee6491hc0brc4i.apps.googleusercontent.com&redirect_uri=urn%3aietf%3awg%3aoauth%3a2.0%3aoob&response_type=code&scope=email%20https%3a%2f%2fwww.googleapis.com%2fauth%2fdocs.test%20https%3a%2f%2fwww.googleapis.com%2fauth%2fdrive%20https%3a%2f%2fwww.googleapis.com%2fauth%2fdrive.photos.readonly%20https%3a%2f%2fwww.googleapis.com%2fauth%2fpeopleapi.readonly\n",
            "\n",
            "Enter your authorization code:\n",
            "··········\n",
            "Mounted at /content/drive\n"
          ],
          "name": "stdout"
        }
      ]
    },
    {
      "cell_type": "code",
      "metadata": {
        "id": "Oz3w43h7bbiu",
        "colab_type": "code",
        "colab": {}
      },
      "source": [
        "#load the packages"
      ],
      "execution_count": 0,
      "outputs": []
    },
    {
      "cell_type": "code",
      "metadata": {
        "id": "EYOjarM9bd5B",
        "colab_type": "code",
        "colab": {
          "base_uri": "https://localhost:8080/",
          "height": 71
        },
        "outputId": "9ad567ec-c0bc-41d2-ff23-f7f7ed368bfb"
      },
      "source": [
        "import pandas as pd \n",
        "import numpy as np \n",
        "import matplotlib.pyplot as plt\n",
        "import random\n",
        "import seaborn as sns\n",
        "from fbprophet import Prophet\n"
      ],
      "execution_count": 5,
      "outputs": [
        {
          "output_type": "stream",
          "text": [
            "/usr/local/lib/python3.6/dist-packages/statsmodels/tools/_testing.py:19: FutureWarning: pandas.util.testing is deprecated. Use the functions in the public API at pandas.testing instead.\n",
            "  import pandas.util.testing as tm\n"
          ],
          "name": "stderr"
        }
      ]
    },
    {
      "cell_type": "code",
      "metadata": {
        "id": "NMrOjzTYbiEj",
        "colab_type": "code",
        "colab": {}
      },
      "source": [
        "df_1 = pd.read_csv('/content/drive/My Drive/d1.csv', error_bad_lines=False)\n",
        "df_2 = pd.read_csv('/content/drive/My Drive/d2.csv', error_bad_lines=False)\n",
        "df_3 = pd.read_csv('/content/drive/My Drive/d3.csv', error_bad_lines=False)\n",
        "df_4 = pd.read_csv('/content/drive/My Drive/d4.csv', error_bad_lines=False)\n",
        "df_5 = pd.read_csv('/content/drive/My Drive/d5.csv', error_bad_lines=False)\n",
        "df_6 = pd.read_csv('/content/drive/My Drive/d6.csv', error_bad_lines=False)\n",
        "\n"
      ],
      "execution_count": 0,
      "outputs": []
    },
    {
      "cell_type": "code",
      "metadata": {
        "id": "_z1EcHReb-n0",
        "colab_type": "code",
        "colab": {}
      },
      "source": [
        "#Concat all the dataset into one"
      ],
      "execution_count": 0,
      "outputs": []
    },
    {
      "cell_type": "code",
      "metadata": {
        "id": "tC052TuWb3ZM",
        "colab_type": "code",
        "colab": {
          "base_uri": "https://localhost:8080/",
          "height": 411
        },
        "outputId": "99561cef-7889-4aaa-f8d6-92131775b30b"
      },
      "source": [
        "data = pd.concat([df_1, df_2,df_3,df_4,df_5,df_6], ignore_index=False, axis=0)\n",
        "data.head()"
      ],
      "execution_count": 8,
      "outputs": [
        {
          "output_type": "execute_result",
          "data": {
            "text/html": [
              "<div>\n",
              "<style scoped>\n",
              "    .dataframe tbody tr th:only-of-type {\n",
              "        vertical-align: middle;\n",
              "    }\n",
              "\n",
              "    .dataframe tbody tr th {\n",
              "        vertical-align: top;\n",
              "    }\n",
              "\n",
              "    .dataframe thead th {\n",
              "        text-align: right;\n",
              "    }\n",
              "</style>\n",
              "<table border=\"1\" class=\"dataframe\">\n",
              "  <thead>\n",
              "    <tr style=\"text-align: right;\">\n",
              "      <th></th>\n",
              "      <th>ID</th>\n",
              "      <th>Case Number</th>\n",
              "      <th>Date</th>\n",
              "      <th>Primary Type</th>\n",
              "      <th>Location Description</th>\n",
              "      <th>Arrest</th>\n",
              "      <th>District</th>\n",
              "      <th>Ward</th>\n",
              "      <th>Community Area</th>\n",
              "      <th>X Coordinate</th>\n",
              "      <th>Y Coordinate</th>\n",
              "      <th>Year</th>\n",
              "      <th>Latitude</th>\n",
              "      <th>Longitude</th>\n",
              "      <th>Location</th>\n",
              "    </tr>\n",
              "  </thead>\n",
              "  <tbody>\n",
              "    <tr>\n",
              "      <th>0</th>\n",
              "      <td>11149297</td>\n",
              "      <td>JA506752</td>\n",
              "      <td>01-01-2014 00:01</td>\n",
              "      <td>CRIMINAL SEXUAL ASSAULT</td>\n",
              "      <td>RESIDENCE</td>\n",
              "      <td>False</td>\n",
              "      <td>25.0</td>\n",
              "      <td>26.0</td>\n",
              "      <td>23.0</td>\n",
              "      <td>NaN</td>\n",
              "      <td>NaN</td>\n",
              "      <td>2014</td>\n",
              "      <td>NaN</td>\n",
              "      <td>NaN</td>\n",
              "      <td>NaN</td>\n",
              "    </tr>\n",
              "    <tr>\n",
              "      <th>1</th>\n",
              "      <td>10394673</td>\n",
              "      <td>HX561124</td>\n",
              "      <td>07-05-2014 00:00</td>\n",
              "      <td>OFFENSE INVOLVING CHILDREN</td>\n",
              "      <td>RESIDENCE</td>\n",
              "      <td>False</td>\n",
              "      <td>25.0</td>\n",
              "      <td>31.0</td>\n",
              "      <td>22.0</td>\n",
              "      <td>NaN</td>\n",
              "      <td>NaN</td>\n",
              "      <td>2014</td>\n",
              "      <td>NaN</td>\n",
              "      <td>NaN</td>\n",
              "      <td>NaN</td>\n",
              "    </tr>\n",
              "    <tr>\n",
              "      <th>2</th>\n",
              "      <td>12032628</td>\n",
              "      <td>JD211529</td>\n",
              "      <td>09-01-2014 14:25</td>\n",
              "      <td>DECEPTIVE PRACTICE</td>\n",
              "      <td>RESIDENCE</td>\n",
              "      <td>False</td>\n",
              "      <td>7.0</td>\n",
              "      <td>16.0</td>\n",
              "      <td>67.0</td>\n",
              "      <td>NaN</td>\n",
              "      <td>NaN</td>\n",
              "      <td>2014</td>\n",
              "      <td>NaN</td>\n",
              "      <td>NaN</td>\n",
              "      <td>NaN</td>\n",
              "    </tr>\n",
              "    <tr>\n",
              "      <th>3</th>\n",
              "      <td>11895409</td>\n",
              "      <td>JC515153</td>\n",
              "      <td>11/14/2014 08:00:00 AM</td>\n",
              "      <td>CRIMINAL SEXUAL ASSAULT</td>\n",
              "      <td>RESIDENCE</td>\n",
              "      <td>False</td>\n",
              "      <td>16.0</td>\n",
              "      <td>31.0</td>\n",
              "      <td>15.0</td>\n",
              "      <td>NaN</td>\n",
              "      <td>NaN</td>\n",
              "      <td>2014</td>\n",
              "      <td>NaN</td>\n",
              "      <td>NaN</td>\n",
              "      <td>NaN</td>\n",
              "    </tr>\n",
              "    <tr>\n",
              "      <th>4</th>\n",
              "      <td>9863337</td>\n",
              "      <td>HX513133</td>\n",
              "      <td>11/19/2014 09:20:00 PM</td>\n",
              "      <td>BATTERY</td>\n",
              "      <td>ALLEY</td>\n",
              "      <td>False</td>\n",
              "      <td>24.0</td>\n",
              "      <td>50.0</td>\n",
              "      <td>2.0</td>\n",
              "      <td>1156959.0</td>\n",
              "      <td>1945011.0</td>\n",
              "      <td>2014</td>\n",
              "      <td>42.004885</td>\n",
              "      <td>-87.697889</td>\n",
              "      <td>(42.004884982, -87.697889126)</td>\n",
              "    </tr>\n",
              "  </tbody>\n",
              "</table>\n",
              "</div>"
            ],
            "text/plain": [
              "         ID Case Number  ...  Longitude                       Location\n",
              "0  11149297    JA506752  ...        NaN                            NaN\n",
              "1  10394673    HX561124  ...        NaN                            NaN\n",
              "2  12032628    JD211529  ...        NaN                            NaN\n",
              "3  11895409    JC515153  ...        NaN                            NaN\n",
              "4   9863337    HX513133  ... -87.697889  (42.004884982, -87.697889126)\n",
              "\n",
              "[5 rows x 15 columns]"
            ]
          },
          "metadata": {
            "tags": []
          },
          "execution_count": 8
        }
      ]
    },
    {
      "cell_type": "code",
      "metadata": {
        "id": "IqSIHOaUcJA4",
        "colab_type": "code",
        "colab": {}
      },
      "source": [
        "#dropping unwanted columns"
      ],
      "execution_count": 0,
      "outputs": []
    },
    {
      "cell_type": "code",
      "metadata": {
        "id": "Wuaj0AlAcRR8",
        "colab_type": "code",
        "colab": {}
      },
      "source": [
        "data.drop(['Case Number','X Coordinate', 'Y Coordinate','Year','Ward','Community Area', 'Location', \n",
        "                 'District', 'Latitude' , 'Longitude'], inplace=True, axis=1)\n"
      ],
      "execution_count": 0,
      "outputs": []
    },
    {
      "cell_type": "code",
      "metadata": {
        "id": "iYkPwrvqcWMv",
        "colab_type": "code",
        "colab": {
          "base_uri": "https://localhost:8080/",
          "height": 204
        },
        "outputId": "32db6851-6824-4e66-d9d6-267fb0fa9127"
      },
      "source": [
        "data.head()\n"
      ],
      "execution_count": 11,
      "outputs": [
        {
          "output_type": "execute_result",
          "data": {
            "text/html": [
              "<div>\n",
              "<style scoped>\n",
              "    .dataframe tbody tr th:only-of-type {\n",
              "        vertical-align: middle;\n",
              "    }\n",
              "\n",
              "    .dataframe tbody tr th {\n",
              "        vertical-align: top;\n",
              "    }\n",
              "\n",
              "    .dataframe thead th {\n",
              "        text-align: right;\n",
              "    }\n",
              "</style>\n",
              "<table border=\"1\" class=\"dataframe\">\n",
              "  <thead>\n",
              "    <tr style=\"text-align: right;\">\n",
              "      <th></th>\n",
              "      <th>ID</th>\n",
              "      <th>Date</th>\n",
              "      <th>Primary Type</th>\n",
              "      <th>Location Description</th>\n",
              "      <th>Arrest</th>\n",
              "    </tr>\n",
              "  </thead>\n",
              "  <tbody>\n",
              "    <tr>\n",
              "      <th>0</th>\n",
              "      <td>11149297</td>\n",
              "      <td>01-01-2014 00:01</td>\n",
              "      <td>CRIMINAL SEXUAL ASSAULT</td>\n",
              "      <td>RESIDENCE</td>\n",
              "      <td>False</td>\n",
              "    </tr>\n",
              "    <tr>\n",
              "      <th>1</th>\n",
              "      <td>10394673</td>\n",
              "      <td>07-05-2014 00:00</td>\n",
              "      <td>OFFENSE INVOLVING CHILDREN</td>\n",
              "      <td>RESIDENCE</td>\n",
              "      <td>False</td>\n",
              "    </tr>\n",
              "    <tr>\n",
              "      <th>2</th>\n",
              "      <td>12032628</td>\n",
              "      <td>09-01-2014 14:25</td>\n",
              "      <td>DECEPTIVE PRACTICE</td>\n",
              "      <td>RESIDENCE</td>\n",
              "      <td>False</td>\n",
              "    </tr>\n",
              "    <tr>\n",
              "      <th>3</th>\n",
              "      <td>11895409</td>\n",
              "      <td>11/14/2014 08:00:00 AM</td>\n",
              "      <td>CRIMINAL SEXUAL ASSAULT</td>\n",
              "      <td>RESIDENCE</td>\n",
              "      <td>False</td>\n",
              "    </tr>\n",
              "    <tr>\n",
              "      <th>4</th>\n",
              "      <td>9863337</td>\n",
              "      <td>11/19/2014 09:20:00 PM</td>\n",
              "      <td>BATTERY</td>\n",
              "      <td>ALLEY</td>\n",
              "      <td>False</td>\n",
              "    </tr>\n",
              "  </tbody>\n",
              "</table>\n",
              "</div>"
            ],
            "text/plain": [
              "         ID                    Date  ... Location Description Arrest\n",
              "0  11149297        01-01-2014 00:01  ...            RESIDENCE  False\n",
              "1  10394673        07-05-2014 00:00  ...            RESIDENCE  False\n",
              "2  12032628        09-01-2014 14:25  ...            RESIDENCE  False\n",
              "3  11895409  11/14/2014 08:00:00 AM  ...            RESIDENCE  False\n",
              "4   9863337  11/19/2014 09:20:00 PM  ...                ALLEY  False\n",
              "\n",
              "[5 rows x 5 columns]"
            ]
          },
          "metadata": {
            "tags": []
          },
          "execution_count": 11
        }
      ]
    },
    {
      "cell_type": "code",
      "metadata": {
        "id": "0XfTUFjTcaGW",
        "colab_type": "code",
        "colab": {}
      },
      "source": [
        "#Assembling a datetime by rearranging the dataframe column \"Date\""
      ],
      "execution_count": 0,
      "outputs": []
    },
    {
      "cell_type": "code",
      "metadata": {
        "id": "WEiaVRLmcfzc",
        "colab_type": "code",
        "colab": {
          "base_uri": "https://localhost:8080/",
          "height": 204
        },
        "outputId": "dace2180-f928-4f57-e617-7b9055ad1d0a"
      },
      "source": [
        "data['Date'] = pd.to_datetime(data['Date'].astype(str), errors='coerce')\n",
        "data['Date'] = pd.to_datetime(data['Date'], format = '%d/%m/%Y %H:%M:%S')\n",
        "data.head()\n"
      ],
      "execution_count": 13,
      "outputs": [
        {
          "output_type": "execute_result",
          "data": {
            "text/html": [
              "<div>\n",
              "<style scoped>\n",
              "    .dataframe tbody tr th:only-of-type {\n",
              "        vertical-align: middle;\n",
              "    }\n",
              "\n",
              "    .dataframe tbody tr th {\n",
              "        vertical-align: top;\n",
              "    }\n",
              "\n",
              "    .dataframe thead th {\n",
              "        text-align: right;\n",
              "    }\n",
              "</style>\n",
              "<table border=\"1\" class=\"dataframe\">\n",
              "  <thead>\n",
              "    <tr style=\"text-align: right;\">\n",
              "      <th></th>\n",
              "      <th>ID</th>\n",
              "      <th>Date</th>\n",
              "      <th>Primary Type</th>\n",
              "      <th>Location Description</th>\n",
              "      <th>Arrest</th>\n",
              "    </tr>\n",
              "  </thead>\n",
              "  <tbody>\n",
              "    <tr>\n",
              "      <th>0</th>\n",
              "      <td>11149297</td>\n",
              "      <td>2014-01-01 00:01:00</td>\n",
              "      <td>CRIMINAL SEXUAL ASSAULT</td>\n",
              "      <td>RESIDENCE</td>\n",
              "      <td>False</td>\n",
              "    </tr>\n",
              "    <tr>\n",
              "      <th>1</th>\n",
              "      <td>10394673</td>\n",
              "      <td>2014-07-05 00:00:00</td>\n",
              "      <td>OFFENSE INVOLVING CHILDREN</td>\n",
              "      <td>RESIDENCE</td>\n",
              "      <td>False</td>\n",
              "    </tr>\n",
              "    <tr>\n",
              "      <th>2</th>\n",
              "      <td>12032628</td>\n",
              "      <td>2014-09-01 14:25:00</td>\n",
              "      <td>DECEPTIVE PRACTICE</td>\n",
              "      <td>RESIDENCE</td>\n",
              "      <td>False</td>\n",
              "    </tr>\n",
              "    <tr>\n",
              "      <th>3</th>\n",
              "      <td>11895409</td>\n",
              "      <td>2014-11-14 08:00:00</td>\n",
              "      <td>CRIMINAL SEXUAL ASSAULT</td>\n",
              "      <td>RESIDENCE</td>\n",
              "      <td>False</td>\n",
              "    </tr>\n",
              "    <tr>\n",
              "      <th>4</th>\n",
              "      <td>9863337</td>\n",
              "      <td>2014-11-19 21:20:00</td>\n",
              "      <td>BATTERY</td>\n",
              "      <td>ALLEY</td>\n",
              "      <td>False</td>\n",
              "    </tr>\n",
              "  </tbody>\n",
              "</table>\n",
              "</div>"
            ],
            "text/plain": [
              "         ID                Date  ... Location Description Arrest\n",
              "0  11149297 2014-01-01 00:01:00  ...            RESIDENCE  False\n",
              "1  10394673 2014-07-05 00:00:00  ...            RESIDENCE  False\n",
              "2  12032628 2014-09-01 14:25:00  ...            RESIDENCE  False\n",
              "3  11895409 2014-11-14 08:00:00  ...            RESIDENCE  False\n",
              "4   9863337 2014-11-19 21:20:00  ...                ALLEY  False\n",
              "\n",
              "[5 rows x 5 columns]"
            ]
          },
          "metadata": {
            "tags": []
          },
          "execution_count": 13
        }
      ]
    },
    {
      "cell_type": "code",
      "metadata": {
        "id": "CkRooaIKdDnG",
        "colab_type": "code",
        "colab": {}
      },
      "source": [
        "#setting the index to be the date"
      ],
      "execution_count": 0,
      "outputs": []
    },
    {
      "cell_type": "code",
      "metadata": {
        "id": "GKILFkkRdGga",
        "colab_type": "code",
        "colab": {
          "base_uri": "https://localhost:8080/",
          "height": 235
        },
        "outputId": "7caa1923-26c0-455b-de83-99af6d51a8a1"
      },
      "source": [
        "data.index = pd.DatetimeIndex(data.Date)\n",
        "data.head()\n"
      ],
      "execution_count": 15,
      "outputs": [
        {
          "output_type": "execute_result",
          "data": {
            "text/html": [
              "<div>\n",
              "<style scoped>\n",
              "    .dataframe tbody tr th:only-of-type {\n",
              "        vertical-align: middle;\n",
              "    }\n",
              "\n",
              "    .dataframe tbody tr th {\n",
              "        vertical-align: top;\n",
              "    }\n",
              "\n",
              "    .dataframe thead th {\n",
              "        text-align: right;\n",
              "    }\n",
              "</style>\n",
              "<table border=\"1\" class=\"dataframe\">\n",
              "  <thead>\n",
              "    <tr style=\"text-align: right;\">\n",
              "      <th></th>\n",
              "      <th>ID</th>\n",
              "      <th>Date</th>\n",
              "      <th>Primary Type</th>\n",
              "      <th>Location Description</th>\n",
              "      <th>Arrest</th>\n",
              "    </tr>\n",
              "    <tr>\n",
              "      <th>Date</th>\n",
              "      <th></th>\n",
              "      <th></th>\n",
              "      <th></th>\n",
              "      <th></th>\n",
              "      <th></th>\n",
              "    </tr>\n",
              "  </thead>\n",
              "  <tbody>\n",
              "    <tr>\n",
              "      <th>2014-01-01 00:01:00</th>\n",
              "      <td>11149297</td>\n",
              "      <td>2014-01-01 00:01:00</td>\n",
              "      <td>CRIMINAL SEXUAL ASSAULT</td>\n",
              "      <td>RESIDENCE</td>\n",
              "      <td>False</td>\n",
              "    </tr>\n",
              "    <tr>\n",
              "      <th>2014-07-05 00:00:00</th>\n",
              "      <td>10394673</td>\n",
              "      <td>2014-07-05 00:00:00</td>\n",
              "      <td>OFFENSE INVOLVING CHILDREN</td>\n",
              "      <td>RESIDENCE</td>\n",
              "      <td>False</td>\n",
              "    </tr>\n",
              "    <tr>\n",
              "      <th>2014-09-01 14:25:00</th>\n",
              "      <td>12032628</td>\n",
              "      <td>2014-09-01 14:25:00</td>\n",
              "      <td>DECEPTIVE PRACTICE</td>\n",
              "      <td>RESIDENCE</td>\n",
              "      <td>False</td>\n",
              "    </tr>\n",
              "    <tr>\n",
              "      <th>2014-11-14 08:00:00</th>\n",
              "      <td>11895409</td>\n",
              "      <td>2014-11-14 08:00:00</td>\n",
              "      <td>CRIMINAL SEXUAL ASSAULT</td>\n",
              "      <td>RESIDENCE</td>\n",
              "      <td>False</td>\n",
              "    </tr>\n",
              "    <tr>\n",
              "      <th>2014-11-19 21:20:00</th>\n",
              "      <td>9863337</td>\n",
              "      <td>2014-11-19 21:20:00</td>\n",
              "      <td>BATTERY</td>\n",
              "      <td>ALLEY</td>\n",
              "      <td>False</td>\n",
              "    </tr>\n",
              "  </tbody>\n",
              "</table>\n",
              "</div>"
            ],
            "text/plain": [
              "                           ID                Date  ... Location Description Arrest\n",
              "Date                                               ...                            \n",
              "2014-01-01 00:01:00  11149297 2014-01-01 00:01:00  ...            RESIDENCE  False\n",
              "2014-07-05 00:00:00  10394673 2014-07-05 00:00:00  ...            RESIDENCE  False\n",
              "2014-09-01 14:25:00  12032628 2014-09-01 14:25:00  ...            RESIDENCE  False\n",
              "2014-11-14 08:00:00  11895409 2014-11-14 08:00:00  ...            RESIDENCE  False\n",
              "2014-11-19 21:20:00   9863337 2014-11-19 21:20:00  ...                ALLEY  False\n",
              "\n",
              "[5 rows x 5 columns]"
            ]
          },
          "metadata": {
            "tags": []
          },
          "execution_count": 15
        }
      ]
    },
    {
      "cell_type": "code",
      "metadata": {
        "id": "2FcACdQqdLKG",
        "colab_type": "code",
        "colab": {}
      },
      "source": [
        "#Crime type and their counts"
      ],
      "execution_count": 0,
      "outputs": []
    },
    {
      "cell_type": "code",
      "metadata": {
        "id": "kH-DVFn3dOf7",
        "colab_type": "code",
        "colab": {
          "base_uri": "https://localhost:8080/",
          "height": 629
        },
        "outputId": "f425294f-fde3-434a-f58e-4aa1496b2a22"
      },
      "source": [
        "data['Primary Type'].value_counts()\n"
      ],
      "execution_count": 17,
      "outputs": [
        {
          "output_type": "execute_result",
          "data": {
            "text/plain": [
              "JEWEL THEFT MURDER                   372506\n",
              "BATTERY                              297180\n",
              "CRIMINAL DAMAGE                      171022\n",
              "ASSAULT                              113000\n",
              "DECEPTIVE PRACTICE                   108170\n",
              "NARCOTICS                            105747\n",
              "OTHER OFFENSE                        103010\n",
              "BURGLARY                              76406\n",
              "ROBBERY                               60943\n",
              "MOTOR VEHICLE THEFT                   50325\n",
              "CRIMINAL TRESPASS                     40785\n",
              "WEAPONS VIOLATION                     26395\n",
              "OFFENSE INVOLVING CHILDREN            13977\n",
              "PUBLIC PEACE VIOLATION                11321\n",
              "MOTOR VEHICLE JEWEL THEFT MURDER      11293\n",
              "CRIM SEXUAL ASSAULT                    8969\n",
              "INTERFERENCE WITH PUBLIC OFFICER       7582\n",
              "SEX OFFENSE                            6465\n",
              "PROSTITUTION                           5881\n",
              "HOMICIDE                               3492\n",
              "ARSON                                  2561\n",
              "LIQUOR LAW VIOLATION                   1605\n",
              "GAMBLING                               1426\n",
              "KIDNAPPING                             1145\n",
              "STALKING                               1091\n",
              "INTIMIDATION                            856\n",
              "CONCEALED CARRY LICENSE VIOLATION       520\n",
              "OBSCENITY                               367\n",
              "CRIMINAL SEXUAL ASSAULT                 277\n",
              "NON-CRIMINAL                            159\n",
              "PUBLIC INDECENCY                         69\n",
              "HUMAN TRAFFICKING                        59\n",
              "OTHER NARCOTIC VIOLATION                 39\n",
              "NON - CRIMINAL                           35\n",
              "NON-CRIMINAL (SUBJECT SPECIFIED)          7\n",
              "Name: Primary Type, dtype: int64"
            ]
          },
          "metadata": {
            "tags": []
          },
          "execution_count": 17
        }
      ]
    },
    {
      "cell_type": "code",
      "metadata": {
        "id": "yTFkSqVxdSr0",
        "colab_type": "code",
        "colab": {}
      },
      "source": [
        "#taking top 15 crime types and their counts"
      ],
      "execution_count": 0,
      "outputs": []
    },
    {
      "cell_type": "code",
      "metadata": {
        "id": "5OFS9-tMdWgw",
        "colab_type": "code",
        "colab": {
          "base_uri": "https://localhost:8080/",
          "height": 289
        },
        "outputId": "bdaac678-4b17-46ff-dfdc-1458fb4ce224"
      },
      "source": [
        "data['Primary Type'].value_counts().iloc[:15]"
      ],
      "execution_count": 19,
      "outputs": [
        {
          "output_type": "execute_result",
          "data": {
            "text/plain": [
              "JEWEL THEFT MURDER                  372506\n",
              "BATTERY                             297180\n",
              "CRIMINAL DAMAGE                     171022\n",
              "ASSAULT                             113000\n",
              "DECEPTIVE PRACTICE                  108170\n",
              "NARCOTICS                           105747\n",
              "OTHER OFFENSE                       103010\n",
              "BURGLARY                             76406\n",
              "ROBBERY                              60943\n",
              "MOTOR VEHICLE THEFT                  50325\n",
              "CRIMINAL TRESPASS                    40785\n",
              "WEAPONS VIOLATION                    26395\n",
              "OFFENSE INVOLVING CHILDREN           13977\n",
              "PUBLIC PEACE VIOLATION               11321\n",
              "MOTOR VEHICLE JEWEL THEFT MURDER     11293\n",
              "Name: Primary Type, dtype: int64"
            ]
          },
          "metadata": {
            "tags": []
          },
          "execution_count": 19
        }
      ]
    },
    {
      "cell_type": "code",
      "metadata": {
        "id": "YD5436VGdadA",
        "colab_type": "code",
        "colab": {}
      },
      "source": [
        "#indexing the top 15 crimes"
      ],
      "execution_count": 0,
      "outputs": []
    },
    {
      "cell_type": "code",
      "metadata": {
        "id": "YRph46Fode6L",
        "colab_type": "code",
        "colab": {
          "base_uri": "https://localhost:8080/",
          "height": 119
        },
        "outputId": "395afafa-72f4-4937-8910-3455ad84d1fd"
      },
      "source": [
        "data['Primary Type'].value_counts().iloc[:15].index"
      ],
      "execution_count": 21,
      "outputs": [
        {
          "output_type": "execute_result",
          "data": {
            "text/plain": [
              "Index(['JEWEL THEFT MURDER', 'BATTERY', 'CRIMINAL DAMAGE', 'ASSAULT',\n",
              "       'DECEPTIVE PRACTICE', 'NARCOTICS', 'OTHER OFFENSE', 'BURGLARY',\n",
              "       'ROBBERY', 'MOTOR VEHICLE THEFT', 'CRIMINAL TRESPASS',\n",
              "       'WEAPONS VIOLATION', 'OFFENSE INVOLVING CHILDREN',\n",
              "       'PUBLIC PEACE VIOLATION', 'MOTOR VEHICLE JEWEL THEFT MURDER'],\n",
              "      dtype='object')"
            ]
          },
          "metadata": {
            "tags": []
          },
          "execution_count": 21
        }
      ]
    },
    {
      "cell_type": "code",
      "metadata": {
        "id": "m-AmzGWrdjGq",
        "colab_type": "code",
        "colab": {}
      },
      "source": [
        "#plotting the crime types"
      ],
      "execution_count": 0,
      "outputs": []
    },
    {
      "cell_type": "code",
      "metadata": {
        "id": "qAaXmAtCdlfH",
        "colab_type": "code",
        "colab": {
          "base_uri": "https://localhost:8080/",
          "height": 554
        },
        "outputId": "9a98582b-00fe-429e-d07c-fe61c8a89690"
      },
      "source": [
        "plt.figure(figsize = (15, 10))\n",
        "sns.countplot(y= 'Primary Type', data = data, \n",
        "              order = data['Primary Type'].value_counts().iloc[:15].index)\n"
      ],
      "execution_count": 24,
      "outputs": [
        {
          "output_type": "execute_result",
          "data": {
            "text/plain": [
              "<matplotlib.axes._subplots.AxesSubplot at 0x7fea1113bf60>"
            ]
          },
          "metadata": {
            "tags": []
          },
          "execution_count": 24
        },
        {
          "output_type": "display_data",
          "data": {
            "image/png": "[encoded data removed]",
            "text/plain": [
              "<Figure size 1080x720 with 1 Axes>"
            ]
          },
          "metadata": {
            "tags": [],
            "needs_background": "light"
          }
        }
      ]
    },
    {
      "cell_type": "code",
      "metadata": {
        "id": "XT32wQxqdse9",
        "colab_type": "code",
        "colab": {}
      },
      "source": [
        "Groups = data.groupby(data['Primary Type'])\n",
        "Groups = dict(list(Groups))\n",
        "theft_data = [Groups['JEWEL THEFT MURDER']]\n",
        "theft_data = pd.concat(theft_data, axis = 0)\n",
        "del Groups\n",
        "del data"
      ],
      "execution_count": 0,
      "outputs": []
    },
    {
      "cell_type": "code",
      "metadata": {
        "id": "f9GMnkw1d5gX",
        "colab_type": "code",
        "colab": {
          "base_uri": "https://localhost:8080/",
          "height": 153
        },
        "outputId": "36df2552-2128-4793-ac4d-2d1ad7c97a84"
      },
      "source": [
        "theft_data.resample('Y').size()"
      ],
      "execution_count": 26,
      "outputs": [
        {
          "output_type": "execute_result",
          "data": {
            "text/plain": [
              "Date\n",
              "2014-12-31    61565\n",
              "2015-12-31    57342\n",
              "2016-12-31    61615\n",
              "2017-12-31    64368\n",
              "2018-12-31    65253\n",
              "2019-12-31    62363\n",
              "Freq: A-DEC, dtype: int64"
            ]
          },
          "metadata": {
            "tags": []
          },
          "execution_count": 26
        }
      ]
    },
    {
      "cell_type": "code",
      "metadata": {
        "id": "2iFWcfqCd9H5",
        "colab_type": "code",
        "colab": {
          "base_uri": "https://localhost:8080/",
          "height": 312
        },
        "outputId": "dd5405f9-a10a-4cf3-a079-b4b81c9c9888"
      },
      "source": [
        "plt.plot(theft_data.resample('Y').size())\n",
        "plt.title('Crime Count Per Year')\n",
        "plt.xlabel('Years')\n",
        "plt.ylabel('Number of Jewels theft and murder Crimes')\n"
      ],
      "execution_count": 27,
      "outputs": [
        {
          "output_type": "execute_result",
          "data": {
            "text/plain": [
              "Text(0, 0.5, 'Number of Jewels theft and murder Crimes')"
            ]
          },
          "metadata": {
            "tags": []
          },
          "execution_count": 27
        },
        {
          "output_type": "display_data",
          "data": {
            "image/png": "[encoded data removed]",
            "text/plain": [
              "<Figure size 432x288 with 1 Axes>"
            ]
          },
          "metadata": {
            "tags": [],
            "needs_background": "light"
          }
        }
      ]
    },
    {
      "cell_type": "code",
      "metadata": {
        "id": "H1AEeiyteAC7",
        "colab_type": "code",
        "colab": {
          "base_uri": "https://localhost:8080/",
          "height": 204
        },
        "outputId": "4969ac20-8c86-4110-f7f8-4d81cc999897"
      },
      "source": [
        "theft_prophet = theft_data.resample('M').size().reset_index()\n",
        "theft_prophet.columns = ['Date', 'Crime Count']\n",
        "theft_prophet.head()\n"
      ],
      "execution_count": 28,
      "outputs": [
        {
          "output_type": "execute_result",
          "data": {
            "text/html": [
              "<div>\n",
              "<style scoped>\n",
              "    .dataframe tbody tr th:only-of-type {\n",
              "        vertical-align: middle;\n",
              "    }\n",
              "\n",
              "    .dataframe tbody tr th {\n",
              "        vertical-align: top;\n",
              "    }\n",
              "\n",
              "    .dataframe thead th {\n",
              "        text-align: right;\n",
              "    }\n",
              "</style>\n",
              "<table border=\"1\" class=\"dataframe\">\n",
              "  <thead>\n",
              "    <tr style=\"text-align: right;\">\n",
              "      <th></th>\n",
              "      <th>Date</th>\n",
              "      <th>Crime Count</th>\n",
              "    </tr>\n",
              "  </thead>\n",
              "  <tbody>\n",
              "    <tr>\n",
              "      <th>0</th>\n",
              "      <td>2014-01-31</td>\n",
              "      <td>4448</td>\n",
              "    </tr>\n",
              "    <tr>\n",
              "      <th>1</th>\n",
              "      <td>2014-02-28</td>\n",
              "      <td>4017</td>\n",
              "    </tr>\n",
              "    <tr>\n",
              "      <th>2</th>\n",
              "      <td>2014-03-31</td>\n",
              "      <td>4515</td>\n",
              "    </tr>\n",
              "    <tr>\n",
              "      <th>3</th>\n",
              "      <td>2014-04-30</td>\n",
              "      <td>4836</td>\n",
              "    </tr>\n",
              "    <tr>\n",
              "      <th>4</th>\n",
              "      <td>2014-05-31</td>\n",
              "      <td>5352</td>\n",
              "    </tr>\n",
              "  </tbody>\n",
              "</table>\n",
              "</div>"
            ],
            "text/plain": [
              "        Date  Crime Count\n",
              "0 2014-01-31         4448\n",
              "1 2014-02-28         4017\n",
              "2 2014-03-31         4515\n",
              "3 2014-04-30         4836\n",
              "4 2014-05-31         5352"
            ]
          },
          "metadata": {
            "tags": []
          },
          "execution_count": 28
        }
      ]
    },
    {
      "cell_type": "code",
      "metadata": {
        "id": "Ry9XXQwKeEnx",
        "colab_type": "code",
        "colab": {
          "base_uri": "https://localhost:8080/",
          "height": 34
        },
        "outputId": "4b8edf43-30fd-4231-fe97-1371ff8f07a6"
      },
      "source": [
        "theft_prophet_df = pd.DataFrame(theft_prophet)\n",
        "theft_prophet_df.columns\n"
      ],
      "execution_count": 29,
      "outputs": [
        {
          "output_type": "execute_result",
          "data": {
            "text/plain": [
              "Index(['Date', 'Crime Count'], dtype='object')"
            ]
          },
          "metadata": {
            "tags": []
          },
          "execution_count": 29
        }
      ]
    },
    {
      "cell_type": "code",
      "metadata": {
        "id": "glKc5taReHwR",
        "colab_type": "code",
        "colab": {
          "base_uri": "https://localhost:8080/",
          "height": 204
        },
        "outputId": "47de01e4-4d2a-422e-91e5-9ddaaf68edb8"
      },
      "source": [
        "theft_prophet_data = theft_prophet_df.rename(columns={'Date':'ds', 'Crime Count':'y'})\n",
        "theft_prophet_data.head()\n"
      ],
      "execution_count": 30,
      "outputs": [
        {
          "output_type": "execute_result",
          "data": {
            "text/html": [
              "<div>\n",
              "<style scoped>\n",
              "    .dataframe tbody tr th:only-of-type {\n",
              "        vertical-align: middle;\n",
              "    }\n",
              "\n",
              "    .dataframe tbody tr th {\n",
              "        vertical-align: top;\n",
              "    }\n",
              "\n",
              "    .dataframe thead th {\n",
              "        text-align: right;\n",
              "    }\n",
              "</style>\n",
              "<table border=\"1\" class=\"dataframe\">\n",
              "  <thead>\n",
              "    <tr style=\"text-align: right;\">\n",
              "      <th></th>\n",
              "      <th>ds</th>\n",
              "      <th>y</th>\n",
              "    </tr>\n",
              "  </thead>\n",
              "  <tbody>\n",
              "    <tr>\n",
              "      <th>0</th>\n",
              "      <td>2014-01-31</td>\n",
              "      <td>4448</td>\n",
              "    </tr>\n",
              "    <tr>\n",
              "      <th>1</th>\n",
              "      <td>2014-02-28</td>\n",
              "      <td>4017</td>\n",
              "    </tr>\n",
              "    <tr>\n",
              "      <th>2</th>\n",
              "      <td>2014-03-31</td>\n",
              "      <td>4515</td>\n",
              "    </tr>\n",
              "    <tr>\n",
              "      <th>3</th>\n",
              "      <td>2014-04-30</td>\n",
              "      <td>4836</td>\n",
              "    </tr>\n",
              "    <tr>\n",
              "      <th>4</th>\n",
              "      <td>2014-05-31</td>\n",
              "      <td>5352</td>\n",
              "    </tr>\n",
              "  </tbody>\n",
              "</table>\n",
              "</div>"
            ],
            "text/plain": [
              "          ds     y\n",
              "0 2014-01-31  4448\n",
              "1 2014-02-28  4017\n",
              "2 2014-03-31  4515\n",
              "3 2014-04-30  4836\n",
              "4 2014-05-31  5352"
            ]
          },
          "metadata": {
            "tags": []
          },
          "execution_count": 30
        }
      ]
    },
    {
      "cell_type": "code",
      "metadata": {
        "id": "bMiF3SSjeKxb",
        "colab_type": "code",
        "colab": {
          "base_uri": "https://localhost:8080/",
          "height": 34
        },
        "outputId": "1ce1e2db-8db8-4730-97dd-75944c735bf1"
      },
      "source": [
        "from fbprophet import Prophet\n",
        "m = Prophet()\n",
        "m.add_seasonality(name=\"weekly\",period=7,fourier_order=5)\n"
      ],
      "execution_count": 31,
      "outputs": [
        {
          "output_type": "execute_result",
          "data": {
            "text/plain": [
              "<fbprophet.forecaster.Prophet at 0x7fea10e25978>"
            ]
          },
          "metadata": {
            "tags": []
          },
          "execution_count": 31
        }
      ]
    },
    {
      "cell_type": "code",
      "metadata": {
        "id": "ugsx4YYjeQeF",
        "colab_type": "code",
        "colab": {
          "base_uri": "https://localhost:8080/",
          "height": 34
        },
        "outputId": "ec422e19-bb87-438a-bc34-c5cf384637e9"
      },
      "source": [
        "theft_prophet_data.shape"
      ],
      "execution_count": 32,
      "outputs": [
        {
          "output_type": "execute_result",
          "data": {
            "text/plain": [
              "(72, 2)"
            ]
          },
          "metadata": {
            "tags": []
          },
          "execution_count": 32
        }
      ]
    },
    {
      "cell_type": "code",
      "metadata": {
        "id": "RYN9BsTNeTMa",
        "colab_type": "code",
        "colab": {}
      },
      "source": [
        "train = theft_prophet_data[:62]\n",
        "test = theft_prophet_data[62:]"
      ],
      "execution_count": 0,
      "outputs": []
    },
    {
      "cell_type": "code",
      "metadata": {
        "id": "cPsAbBZqeV7A",
        "colab_type": "code",
        "colab": {
          "base_uri": "https://localhost:8080/",
          "height": 419
        },
        "outputId": "cca83c74-b931-4ba5-c1bd-b79192886be0"
      },
      "source": [
        "train"
      ],
      "execution_count": 34,
      "outputs": [
        {
          "output_type": "execute_result",
          "data": {
            "text/html": [
              "<div>\n",
              "<style scoped>\n",
              "    .dataframe tbody tr th:only-of-type {\n",
              "        vertical-align: middle;\n",
              "    }\n",
              "\n",
              "    .dataframe tbody tr th {\n",
              "        vertical-align: top;\n",
              "    }\n",
              "\n",
              "    .dataframe thead th {\n",
              "        text-align: right;\n",
              "    }\n",
              "</style>\n",
              "<table border=\"1\" class=\"dataframe\">\n",
              "  <thead>\n",
              "    <tr style=\"text-align: right;\">\n",
              "      <th></th>\n",
              "      <th>ds</th>\n",
              "      <th>y</th>\n",
              "    </tr>\n",
              "  </thead>\n",
              "  <tbody>\n",
              "    <tr>\n",
              "      <th>0</th>\n",
              "      <td>2014-01-31</td>\n",
              "      <td>4448</td>\n",
              "    </tr>\n",
              "    <tr>\n",
              "      <th>1</th>\n",
              "      <td>2014-02-28</td>\n",
              "      <td>4017</td>\n",
              "    </tr>\n",
              "    <tr>\n",
              "      <th>2</th>\n",
              "      <td>2014-03-31</td>\n",
              "      <td>4515</td>\n",
              "    </tr>\n",
              "    <tr>\n",
              "      <th>3</th>\n",
              "      <td>2014-04-30</td>\n",
              "      <td>4836</td>\n",
              "    </tr>\n",
              "    <tr>\n",
              "      <th>4</th>\n",
              "      <td>2014-05-31</td>\n",
              "      <td>5352</td>\n",
              "    </tr>\n",
              "    <tr>\n",
              "      <th>...</th>\n",
              "      <td>...</td>\n",
              "      <td>...</td>\n",
              "    </tr>\n",
              "    <tr>\n",
              "      <th>57</th>\n",
              "      <td>2018-10-31</td>\n",
              "      <td>5665</td>\n",
              "    </tr>\n",
              "    <tr>\n",
              "      <th>58</th>\n",
              "      <td>2018-11-30</td>\n",
              "      <td>5156</td>\n",
              "    </tr>\n",
              "    <tr>\n",
              "      <th>59</th>\n",
              "      <td>2018-12-31</td>\n",
              "      <td>5688</td>\n",
              "    </tr>\n",
              "    <tr>\n",
              "      <th>60</th>\n",
              "      <td>2019-01-31</td>\n",
              "      <td>4554</td>\n",
              "    </tr>\n",
              "    <tr>\n",
              "      <th>61</th>\n",
              "      <td>2019-02-28</td>\n",
              "      <td>4384</td>\n",
              "    </tr>\n",
              "  </tbody>\n",
              "</table>\n",
              "<p>62 rows × 2 columns</p>\n",
              "</div>"
            ],
            "text/plain": [
              "           ds     y\n",
              "0  2014-01-31  4448\n",
              "1  2014-02-28  4017\n",
              "2  2014-03-31  4515\n",
              "3  2014-04-30  4836\n",
              "4  2014-05-31  5352\n",
              "..        ...   ...\n",
              "57 2018-10-31  5665\n",
              "58 2018-11-30  5156\n",
              "59 2018-12-31  5688\n",
              "60 2019-01-31  4554\n",
              "61 2019-02-28  4384\n",
              "\n",
              "[62 rows x 2 columns]"
            ]
          },
          "metadata": {
            "tags": []
          },
          "execution_count": 34
        }
      ]
    },
    {
      "cell_type": "code",
      "metadata": {
        "id": "OHa1OdfWeZ-I",
        "colab_type": "code",
        "colab": {
          "base_uri": "https://localhost:8080/",
          "height": 85
        },
        "outputId": "2cb2635d-0a79-4d2c-a4ee-23c98e12821c"
      },
      "source": [
        "m.fit(train)"
      ],
      "execution_count": 35,
      "outputs": [
        {
          "output_type": "stream",
          "text": [
            "INFO:numexpr.utils:NumExpr defaulting to 2 threads.\n",
            "INFO:fbprophet:Found custom seasonality named 'weekly', disabling built-in 'weekly' seasonality.\n",
            "INFO:fbprophet:Disabling daily seasonality. Run prophet with daily_seasonality=True to override this.\n"
          ],
          "name": "stderr"
        },
        {
          "output_type": "execute_result",
          "data": {
            "text/plain": [
              "<fbprophet.forecaster.Prophet at 0x7fea10e25978>"
            ]
          },
          "metadata": {
            "tags": []
          },
          "execution_count": 35
        }
      ]
    },
    {
      "cell_type": "code",
      "metadata": {
        "id": "cMqC6M8gebWA",
        "colab_type": "code",
        "colab": {
          "base_uri": "https://localhost:8080/",
          "height": 419
        },
        "outputId": "9d871b1a-614d-4373-91b5-89828e3a4590"
      },
      "source": [
        "future = m.make_future_dataframe(periods=730)\n",
        "future"
      ],
      "execution_count": 36,
      "outputs": [
        {
          "output_type": "execute_result",
          "data": {
            "text/html": [
              "<div>\n",
              "<style scoped>\n",
              "    .dataframe tbody tr th:only-of-type {\n",
              "        vertical-align: middle;\n",
              "    }\n",
              "\n",
              "    .dataframe tbody tr th {\n",
              "        vertical-align: top;\n",
              "    }\n",
              "\n",
              "    .dataframe thead th {\n",
              "        text-align: right;\n",
              "    }\n",
              "</style>\n",
              "<table border=\"1\" class=\"dataframe\">\n",
              "  <thead>\n",
              "    <tr style=\"text-align: right;\">\n",
              "      <th></th>\n",
              "      <th>ds</th>\n",
              "    </tr>\n",
              "  </thead>\n",
              "  <tbody>\n",
              "    <tr>\n",
              "      <th>0</th>\n",
              "      <td>2014-01-31</td>\n",
              "    </tr>\n",
              "    <tr>\n",
              "      <th>1</th>\n",
              "      <td>2014-02-28</td>\n",
              "    </tr>\n",
              "    <tr>\n",
              "      <th>2</th>\n",
              "      <td>2014-03-31</td>\n",
              "    </tr>\n",
              "    <tr>\n",
              "      <th>3</th>\n",
              "      <td>2014-04-30</td>\n",
              "    </tr>\n",
              "    <tr>\n",
              "      <th>4</th>\n",
              "      <td>2014-05-31</td>\n",
              "    </tr>\n",
              "    <tr>\n",
              "      <th>...</th>\n",
              "      <td>...</td>\n",
              "    </tr>\n",
              "    <tr>\n",
              "      <th>787</th>\n",
              "      <td>2021-02-23</td>\n",
              "    </tr>\n",
              "    <tr>\n",
              "      <th>788</th>\n",
              "      <td>2021-02-24</td>\n",
              "    </tr>\n",
              "    <tr>\n",
              "      <th>789</th>\n",
              "      <td>2021-02-25</td>\n",
              "    </tr>\n",
              "    <tr>\n",
              "      <th>790</th>\n",
              "      <td>2021-02-26</td>\n",
              "    </tr>\n",
              "    <tr>\n",
              "      <th>791</th>\n",
              "      <td>2021-02-27</td>\n",
              "    </tr>\n",
              "  </tbody>\n",
              "</table>\n",
              "<p>792 rows × 1 columns</p>\n",
              "</div>"
            ],
            "text/plain": [
              "            ds\n",
              "0   2014-01-31\n",
              "1   2014-02-28\n",
              "2   2014-03-31\n",
              "3   2014-04-30\n",
              "4   2014-05-31\n",
              "..         ...\n",
              "787 2021-02-23\n",
              "788 2021-02-24\n",
              "789 2021-02-25\n",
              "790 2021-02-26\n",
              "791 2021-02-27\n",
              "\n",
              "[792 rows x 1 columns]"
            ]
          },
          "metadata": {
            "tags": []
          },
          "execution_count": 36
        }
      ]
    },
    {
      "cell_type": "code",
      "metadata": {
        "id": "8uYxyAeoedrS",
        "colab_type": "code",
        "colab": {}
      },
      "source": [
        "forecast = m.predict(future)\n"
      ],
      "execution_count": 0,
      "outputs": []
    },
    {
      "cell_type": "code",
      "metadata": {
        "id": "Bhpg-Ogneimz",
        "colab_type": "code",
        "colab": {
          "base_uri": "https://localhost:8080/",
          "height": 204
        },
        "outputId": "c8b70c31-3d36-4a6c-a9cd-0e98c1a0b6b5"
      },
      "source": [
        "forecast[['ds','trend','yhat', 'yhat_lower', 'yhat_upper']].tail()\n"
      ],
      "execution_count": 38,
      "outputs": [
        {
          "output_type": "execute_result",
          "data": {
            "text/html": [
              "<div>\n",
              "<style scoped>\n",
              "    .dataframe tbody tr th:only-of-type {\n",
              "        vertical-align: middle;\n",
              "    }\n",
              "\n",
              "    .dataframe tbody tr th {\n",
              "        vertical-align: top;\n",
              "    }\n",
              "\n",
              "    .dataframe thead th {\n",
              "        text-align: right;\n",
              "    }\n",
              "</style>\n",
              "<table border=\"1\" class=\"dataframe\">\n",
              "  <thead>\n",
              "    <tr style=\"text-align: right;\">\n",
              "      <th></th>\n",
              "      <th>ds</th>\n",
              "      <th>trend</th>\n",
              "      <th>yhat</th>\n",
              "      <th>yhat_lower</th>\n",
              "      <th>yhat_upper</th>\n",
              "    </tr>\n",
              "  </thead>\n",
              "  <tbody>\n",
              "    <tr>\n",
              "      <th>787</th>\n",
              "      <td>2021-02-23</td>\n",
              "      <td>5895.572231</td>\n",
              "      <td>2653.955280</td>\n",
              "      <td>2386.341076</td>\n",
              "      <td>2922.844840</td>\n",
              "    </tr>\n",
              "    <tr>\n",
              "      <th>788</th>\n",
              "      <td>2021-02-24</td>\n",
              "      <td>5895.968250</td>\n",
              "      <td>2884.607356</td>\n",
              "      <td>2597.219021</td>\n",
              "      <td>3154.584039</td>\n",
              "    </tr>\n",
              "    <tr>\n",
              "      <th>789</th>\n",
              "      <td>2021-02-25</td>\n",
              "      <td>5896.364270</td>\n",
              "      <td>3462.711465</td>\n",
              "      <td>3197.804720</td>\n",
              "      <td>3730.220779</td>\n",
              "    </tr>\n",
              "    <tr>\n",
              "      <th>790</th>\n",
              "      <td>2021-02-26</td>\n",
              "      <td>5896.760290</td>\n",
              "      <td>3810.758715</td>\n",
              "      <td>3540.596563</td>\n",
              "      <td>4074.600675</td>\n",
              "    </tr>\n",
              "    <tr>\n",
              "      <th>791</th>\n",
              "      <td>2021-02-27</td>\n",
              "      <td>5897.156310</td>\n",
              "      <td>4193.234146</td>\n",
              "      <td>3919.679660</td>\n",
              "      <td>4459.678534</td>\n",
              "    </tr>\n",
              "  </tbody>\n",
              "</table>\n",
              "</div>"
            ],
            "text/plain": [
              "            ds        trend         yhat   yhat_lower   yhat_upper\n",
              "787 2021-02-23  5895.572231  2653.955280  2386.341076  2922.844840\n",
              "788 2021-02-24  5895.968250  2884.607356  2597.219021  3154.584039\n",
              "789 2021-02-25  5896.364270  3462.711465  3197.804720  3730.220779\n",
              "790 2021-02-26  5896.760290  3810.758715  3540.596563  4074.600675\n",
              "791 2021-02-27  5897.156310  4193.234146  3919.679660  4459.678534"
            ]
          },
          "metadata": {
            "tags": []
          },
          "execution_count": 38
        }
      ]
    },
    {
      "cell_type": "code",
      "metadata": {
        "id": "uksaXnWqejsF",
        "colab_type": "code",
        "colab": {
          "base_uri": "https://localhost:8080/",
          "height": 865
        },
        "outputId": "3bd22bd4-8631-489e-98d9-f49f8474f5c9"
      },
      "source": [
        "m.plot(forecast, xlabel='Date', ylabel='Crime Rate')"
      ],
      "execution_count": 39,
      "outputs": [
        {
          "output_type": "execute_result",
          "data": {
            "image/png": "[encoded data removed]",
            "text/plain": [
              "<Figure size 720x432 with 1 Axes>"
            ]
          },
          "metadata": {
            "tags": []
          },
          "execution_count": 39
        },
        {
          "output_type": "display_data",
          "data": {
            "image/png": "[encoded data removed]",
            "text/plain": [
              "<Figure size 720x432 with 1 Axes>"
            ]
          },
          "metadata": {
            "tags": []
          }
        }
      ]
    },
    {
      "cell_type": "code",
      "metadata": {
        "id": "bJU-aNBrenSY",
        "colab_type": "code",
        "colab": {
          "base_uri": "https://localhost:8080/",
          "height": 657
        },
        "outputId": "96380c80-09d8-4c2a-ee16-f19efdc807cb"
      },
      "source": [
        "fig=m.plot_components(forecast)"
      ],
      "execution_count": 40,
      "outputs": [
        {
          "output_type": "display_data",
          "data": {
            "image/png": "[encoded data removed]",
            "text/plain": [
              "<Figure size 648x648 with 3 Axes>"
            ]
          },
          "metadata": {
            "tags": []
          }
        }
      ]
    },
    {
      "cell_type": "code",
      "metadata": {
        "id": "MPLnWnWqerbm",
        "colab_type": "code",
        "colab": {
          "base_uri": "https://localhost:8080/",
          "height": 359
        },
        "outputId": "3108e990-061d-49bf-d8eb-f42f4e57f20b"
      },
      "source": [
        "test"
      ],
      "execution_count": 41,
      "outputs": [
        {
          "output_type": "execute_result",
          "data": {
            "text/html": [
              "<div>\n",
              "<style scoped>\n",
              "    .dataframe tbody tr th:only-of-type {\n",
              "        vertical-align: middle;\n",
              "    }\n",
              "\n",
              "    .dataframe tbody tr th {\n",
              "        vertical-align: top;\n",
              "    }\n",
              "\n",
              "    .dataframe thead th {\n",
              "        text-align: right;\n",
              "    }\n",
              "</style>\n",
              "<table border=\"1\" class=\"dataframe\">\n",
              "  <thead>\n",
              "    <tr style=\"text-align: right;\">\n",
              "      <th></th>\n",
              "      <th>ds</th>\n",
              "      <th>y</th>\n",
              "    </tr>\n",
              "  </thead>\n",
              "  <tbody>\n",
              "    <tr>\n",
              "      <th>62</th>\n",
              "      <td>2019-03-31</td>\n",
              "      <td>4475</td>\n",
              "    </tr>\n",
              "    <tr>\n",
              "      <th>63</th>\n",
              "      <td>2019-04-30</td>\n",
              "      <td>4649</td>\n",
              "    </tr>\n",
              "    <tr>\n",
              "      <th>64</th>\n",
              "      <td>2019-05-31</td>\n",
              "      <td>5386</td>\n",
              "    </tr>\n",
              "    <tr>\n",
              "      <th>65</th>\n",
              "      <td>2019-06-30</td>\n",
              "      <td>5647</td>\n",
              "    </tr>\n",
              "    <tr>\n",
              "      <th>66</th>\n",
              "      <td>2019-07-31</td>\n",
              "      <td>5991</td>\n",
              "    </tr>\n",
              "    <tr>\n",
              "      <th>67</th>\n",
              "      <td>2019-08-31</td>\n",
              "      <td>6159</td>\n",
              "    </tr>\n",
              "    <tr>\n",
              "      <th>68</th>\n",
              "      <td>2019-09-30</td>\n",
              "      <td>5436</td>\n",
              "    </tr>\n",
              "    <tr>\n",
              "      <th>69</th>\n",
              "      <td>2019-10-31</td>\n",
              "      <td>5381</td>\n",
              "    </tr>\n",
              "    <tr>\n",
              "      <th>70</th>\n",
              "      <td>2019-11-30</td>\n",
              "      <td>4864</td>\n",
              "    </tr>\n",
              "    <tr>\n",
              "      <th>71</th>\n",
              "      <td>2019-12-31</td>\n",
              "      <td>5437</td>\n",
              "    </tr>\n",
              "  </tbody>\n",
              "</table>\n",
              "</div>"
            ],
            "text/plain": [
              "           ds     y\n",
              "62 2019-03-31  4475\n",
              "63 2019-04-30  4649\n",
              "64 2019-05-31  5386\n",
              "65 2019-06-30  5647\n",
              "66 2019-07-31  5991\n",
              "67 2019-08-31  6159\n",
              "68 2019-09-30  5436\n",
              "69 2019-10-31  5381\n",
              "70 2019-11-30  4864\n",
              "71 2019-12-31  5437"
            ]
          },
          "metadata": {
            "tags": []
          },
          "execution_count": 41
        }
      ]
    },
    {
      "cell_type": "code",
      "metadata": {
        "id": "1eOqIoiOew0X",
        "colab_type": "code",
        "colab": {
          "base_uri": "https://localhost:8080/",
          "height": 306
        },
        "outputId": "22188b24-1c7d-4f03-9fae-22deb9154a20"
      },
      "source": [
        "test = test.set_index(\"ds\")\n",
        "test = test['y']\n",
        "import matplotlib.pyplot as plt\n",
        "test.plot()\n"
      ],
      "execution_count": 42,
      "outputs": [
        {
          "output_type": "execute_result",
          "data": {
            "text/plain": [
              "<matplotlib.axes._subplots.AxesSubplot at 0x7fea0abb6ba8>"
            ]
          },
          "metadata": {
            "tags": []
          },
          "execution_count": 42
        },
        {
          "output_type": "display_data",
          "data": {
            "image/png": "[encoded data removed]",
            "text/plain": [
              "<Figure size 432x288 with 1 Axes>"
            ]
          },
          "metadata": {
            "tags": [],
            "needs_background": "light"
          }
        }
      ]
    },
    {
      "cell_type": "code",
      "metadata": {
        "id": "sXgP8LGCe0Ka",
        "colab_type": "code",
        "colab": {
          "base_uri": "https://localhost:8080/",
          "height": 441
        },
        "outputId": "835ab625-0a8f-4442-f1e3-8d947b16ecdd"
      },
      "source": [
        "from fbprophet.plot import add_changepoints_to_plot\n",
        "fig = m.plot(forecast)\n",
        "c = add_changepoints_to_plot(fig.gca(),m,forecast)\n"
      ],
      "execution_count": 43,
      "outputs": [
        {
          "output_type": "display_data",
          "data": {
            "image/png": "[encoded data removed]",
            "text/plain": [
              "<Figure size 720x432 with 1 Axes>"
            ]
          },
          "metadata": {
            "tags": []
          }
        }
      ]
    },
    {
      "cell_type": "code",
      "metadata": {
        "id": "J3RW_HK6e6Vx",
        "colab_type": "code",
        "colab": {
          "base_uri": "https://localhost:8080/",
          "height": 204
        },
        "outputId": "8a5b5310-1f96-4d2f-83db-907a8b596d66"
      },
      "source": [
        "import matplotlib.pyplot as plt\n",
        "from sklearn.metrics import mean_squared_error, r2_score, mean_absolute_error\n",
        "metric_df = forecast.set_index('ds')[['yhat']].join(theft_prophet_data.set_index('ds').y).reset_index()\n",
        "metric_df.dropna(inplace=True)\n",
        "metric_df.head()\n"
      ],
      "execution_count": 44,
      "outputs": [
        {
          "output_type": "execute_result",
          "data": {
            "text/html": [
              "<div>\n",
              "<style scoped>\n",
              "    .dataframe tbody tr th:only-of-type {\n",
              "        vertical-align: middle;\n",
              "    }\n",
              "\n",
              "    .dataframe tbody tr th {\n",
              "        vertical-align: top;\n",
              "    }\n",
              "\n",
              "    .dataframe thead th {\n",
              "        text-align: right;\n",
              "    }\n",
              "</style>\n",
              "<table border=\"1\" class=\"dataframe\">\n",
              "  <thead>\n",
              "    <tr style=\"text-align: right;\">\n",
              "      <th></th>\n",
              "      <th>ds</th>\n",
              "      <th>yhat</th>\n",
              "      <th>y</th>\n",
              "    </tr>\n",
              "  </thead>\n",
              "  <tbody>\n",
              "    <tr>\n",
              "      <th>0</th>\n",
              "      <td>2014-01-31</td>\n",
              "      <td>4657.231101</td>\n",
              "      <td>4448.0</td>\n",
              "    </tr>\n",
              "    <tr>\n",
              "      <th>1</th>\n",
              "      <td>2014-02-28</td>\n",
              "      <td>3981.532823</td>\n",
              "      <td>4017.0</td>\n",
              "    </tr>\n",
              "    <tr>\n",
              "      <th>2</th>\n",
              "      <td>2014-03-31</td>\n",
              "      <td>4605.684869</td>\n",
              "      <td>4515.0</td>\n",
              "    </tr>\n",
              "    <tr>\n",
              "      <th>3</th>\n",
              "      <td>2014-04-30</td>\n",
              "      <td>4711.081194</td>\n",
              "      <td>4836.0</td>\n",
              "    </tr>\n",
              "    <tr>\n",
              "      <th>4</th>\n",
              "      <td>2014-05-31</td>\n",
              "      <td>5263.605939</td>\n",
              "      <td>5352.0</td>\n",
              "    </tr>\n",
              "  </tbody>\n",
              "</table>\n",
              "</div>"
            ],
            "text/plain": [
              "          ds         yhat       y\n",
              "0 2014-01-31  4657.231101  4448.0\n",
              "1 2014-02-28  3981.532823  4017.0\n",
              "2 2014-03-31  4605.684869  4515.0\n",
              "3 2014-04-30  4711.081194  4836.0\n",
              "4 2014-05-31  5263.605939  5352.0"
            ]
          },
          "metadata": {
            "tags": []
          },
          "execution_count": 44
        }
      ]
    },
    {
      "cell_type": "code",
      "metadata": {
        "id": "NuHHwIeafFsI",
        "colab_type": "code",
        "colab": {
          "base_uri": "https://localhost:8080/",
          "height": 34
        },
        "outputId": "5a39c67d-daf6-4883-faa7-8b7c29f059cd"
      },
      "source": [
        "r2_score(metric_df.y, metric_df.yhat)"
      ],
      "execution_count": 45,
      "outputs": [
        {
          "output_type": "execute_result",
          "data": {
            "text/plain": [
              "0.8762111564678831"
            ]
          },
          "metadata": {
            "tags": []
          },
          "execution_count": 45
        }
      ]
    },
    {
      "cell_type": "code",
      "metadata": {
        "id": "KurP7DHzfI2T",
        "colab_type": "code",
        "colab": {
          "base_uri": "https://localhost:8080/",
          "height": 34
        },
        "outputId": "313cd37f-3de5-4b80-afd6-fa07f978c733"
      },
      "source": [
        "mean_squared_error(metric_df.y, metric_df.yhat)\n"
      ],
      "execution_count": 46,
      "outputs": [
        {
          "output_type": "execute_result",
          "data": {
            "text/plain": [
              "54211.978298797614"
            ]
          },
          "metadata": {
            "tags": []
          },
          "execution_count": 46
        }
      ]
    },
    {
      "cell_type": "code",
      "metadata": {
        "id": "wWcna-lhfL1q",
        "colab_type": "code",
        "colab": {
          "base_uri": "https://localhost:8080/",
          "height": 34
        },
        "outputId": "e77f5d04-c6d9-4568-e20c-a461bc018cd8"
      },
      "source": [
        "mean_absolute_error(metric_df.y, metric_df.yhat)"
      ],
      "execution_count": 47,
      "outputs": [
        {
          "output_type": "execute_result",
          "data": {
            "text/plain": [
              "173.78030271815203"
            ]
          },
          "metadata": {
            "tags": []
          },
          "execution_count": 47
        }
      ]
    },
    {
      "cell_type": "code",
      "metadata": {
        "id": "i3qPogD4fOql",
        "colab_type": "code",
        "colab": {
          "base_uri": "https://localhost:8080/",
          "height": 255
        },
        "outputId": "64837e93-157e-4028-dd81-af47fa4b3560"
      },
      "source": [
        "from fbprophet.diagnostics import cross_validation\n",
        "forecast = cross_validation(m, initial='730 days', period='180 days', horizon = '365 days')\n",
        "forecast.head()\n"
      ],
      "execution_count": 48,
      "outputs": [
        {
          "output_type": "stream",
          "text": [
            "INFO:fbprophet:Making 5 forecasts with cutoffs between 2016-03-10 00:00:00 and 2018-02-28 00:00:00\n",
            "INFO:fbprophet:n_changepoints greater than number of observations. Using 19.\n",
            "INFO:fbprophet:n_changepoints greater than number of observations. Using 24.\n"
          ],
          "name": "stderr"
        },
        {
          "output_type": "execute_result",
          "data": {
            "text/html": [
              "<div>\n",
              "<style scoped>\n",
              "    .dataframe tbody tr th:only-of-type {\n",
              "        vertical-align: middle;\n",
              "    }\n",
              "\n",
              "    .dataframe tbody tr th {\n",
              "        vertical-align: top;\n",
              "    }\n",
              "\n",
              "    .dataframe thead th {\n",
              "        text-align: right;\n",
              "    }\n",
              "</style>\n",
              "<table border=\"1\" class=\"dataframe\">\n",
              "  <thead>\n",
              "    <tr style=\"text-align: right;\">\n",
              "      <th></th>\n",
              "      <th>ds</th>\n",
              "      <th>yhat</th>\n",
              "      <th>yhat_lower</th>\n",
              "      <th>yhat_upper</th>\n",
              "      <th>y</th>\n",
              "      <th>cutoff</th>\n",
              "    </tr>\n",
              "  </thead>\n",
              "  <tbody>\n",
              "    <tr>\n",
              "      <th>0</th>\n",
              "      <td>2016-03-31</td>\n",
              "      <td>-184.391478</td>\n",
              "      <td>-200.847976</td>\n",
              "      <td>-159.264777</td>\n",
              "      <td>4661</td>\n",
              "      <td>2016-03-10</td>\n",
              "    </tr>\n",
              "    <tr>\n",
              "      <th>1</th>\n",
              "      <td>2016-04-30</td>\n",
              "      <td>8727.120455</td>\n",
              "      <td>8660.910288</td>\n",
              "      <td>8812.486514</td>\n",
              "      <td>4594</td>\n",
              "      <td>2016-03-10</td>\n",
              "    </tr>\n",
              "    <tr>\n",
              "      <th>2</th>\n",
              "      <td>2016-05-31</td>\n",
              "      <td>4057.556727</td>\n",
              "      <td>3913.090870</td>\n",
              "      <td>4232.667055</td>\n",
              "      <td>5046</td>\n",
              "      <td>2016-03-10</td>\n",
              "    </tr>\n",
              "    <tr>\n",
              "      <th>3</th>\n",
              "      <td>2016-06-30</td>\n",
              "      <td>1559.866899</td>\n",
              "      <td>1319.591416</td>\n",
              "      <td>1820.623010</td>\n",
              "      <td>5359</td>\n",
              "      <td>2016-03-10</td>\n",
              "    </tr>\n",
              "    <tr>\n",
              "      <th>4</th>\n",
              "      <td>2016-07-31</td>\n",
              "      <td>4834.724830</td>\n",
              "      <td>4480.749887</td>\n",
              "      <td>5200.131840</td>\n",
              "      <td>5820</td>\n",
              "      <td>2016-03-10</td>\n",
              "    </tr>\n",
              "  </tbody>\n",
              "</table>\n",
              "</div>"
            ],
            "text/plain": [
              "          ds         yhat   yhat_lower   yhat_upper     y     cutoff\n",
              "0 2016-03-31  -184.391478  -200.847976  -159.264777  4661 2016-03-10\n",
              "1 2016-04-30  8727.120455  8660.910288  8812.486514  4594 2016-03-10\n",
              "2 2016-05-31  4057.556727  3913.090870  4232.667055  5046 2016-03-10\n",
              "3 2016-06-30  1559.866899  1319.591416  1820.623010  5359 2016-03-10\n",
              "4 2016-07-31  4834.724830  4480.749887  5200.131840  5820 2016-03-10"
            ]
          },
          "metadata": {
            "tags": []
          },
          "execution_count": 48
        }
      ]
    },
    {
      "cell_type": "code",
      "metadata": {
        "id": "C3QR08k-fZMs",
        "colab_type": "code",
        "colab": {
          "base_uri": "https://localhost:8080/",
          "height": 204
        },
        "outputId": "df5c9ce7-69f1-4873-8821-3988424ce975"
      },
      "source": [
        "from fbprophet.diagnostics import performance_metrics\n",
        "df_p = performance_metrics(forecast)\n",
        "df_p.head()\n"
      ],
      "execution_count": 49,
      "outputs": [
        {
          "output_type": "execute_result",
          "data": {
            "text/html": [
              "<div>\n",
              "<style scoped>\n",
              "    .dataframe tbody tr th:only-of-type {\n",
              "        vertical-align: middle;\n",
              "    }\n",
              "\n",
              "    .dataframe tbody tr th {\n",
              "        vertical-align: top;\n",
              "    }\n",
              "\n",
              "    .dataframe thead th {\n",
              "        text-align: right;\n",
              "    }\n",
              "</style>\n",
              "<table border=\"1\" class=\"dataframe\">\n",
              "  <thead>\n",
              "    <tr style=\"text-align: right;\">\n",
              "      <th></th>\n",
              "      <th>horizon</th>\n",
              "      <th>mse</th>\n",
              "      <th>rmse</th>\n",
              "      <th>mae</th>\n",
              "      <th>mape</th>\n",
              "      <th>mdape</th>\n",
              "      <th>coverage</th>\n",
              "    </tr>\n",
              "  </thead>\n",
              "  <tbody>\n",
              "    <tr>\n",
              "      <th>0</th>\n",
              "      <td>51 days</td>\n",
              "      <td>7.007761e+06</td>\n",
              "      <td>2647.217590</td>\n",
              "      <td>1851.732896</td>\n",
              "      <td>0.390926</td>\n",
              "      <td>0.144256</td>\n",
              "      <td>0.0</td>\n",
              "    </tr>\n",
              "    <tr>\n",
              "      <th>1</th>\n",
              "      <td>55 days</td>\n",
              "      <td>3.120698e+06</td>\n",
              "      <td>1766.549803</td>\n",
              "      <td>1109.877871</td>\n",
              "      <td>0.229147</td>\n",
              "      <td>0.091668</td>\n",
              "      <td>0.0</td>\n",
              "    </tr>\n",
              "    <tr>\n",
              "      <th>2</th>\n",
              "      <td>56 days</td>\n",
              "      <td>2.980418e+06</td>\n",
              "      <td>1726.388586</td>\n",
              "      <td>1012.918168</td>\n",
              "      <td>0.214685</td>\n",
              "      <td>0.080850</td>\n",
              "      <td>0.0</td>\n",
              "    </tr>\n",
              "    <tr>\n",
              "      <th>3</th>\n",
              "      <td>60 days</td>\n",
              "      <td>2.975610e+06</td>\n",
              "      <td>1724.995624</td>\n",
              "      <td>1007.990327</td>\n",
              "      <td>0.209822</td>\n",
              "      <td>0.077079</td>\n",
              "      <td>0.0</td>\n",
              "    </tr>\n",
              "    <tr>\n",
              "      <th>4</th>\n",
              "      <td>61 days</td>\n",
              "      <td>2.954180e+06</td>\n",
              "      <td>1718.772952</td>\n",
              "      <td>969.950544</td>\n",
              "      <td>0.203471</td>\n",
              "      <td>0.075700</td>\n",
              "      <td>0.0</td>\n",
              "    </tr>\n",
              "  </tbody>\n",
              "</table>\n",
              "</div>"
            ],
            "text/plain": [
              "  horizon           mse         rmse          mae      mape     mdape  coverage\n",
              "0 51 days  7.007761e+06  2647.217590  1851.732896  0.390926  0.144256       0.0\n",
              "1 55 days  3.120698e+06  1766.549803  1109.877871  0.229147  0.091668       0.0\n",
              "2 56 days  2.980418e+06  1726.388586  1012.918168  0.214685  0.080850       0.0\n",
              "3 60 days  2.975610e+06  1724.995624  1007.990327  0.209822  0.077079       0.0\n",
              "4 61 days  2.954180e+06  1718.772952   969.950544  0.203471  0.075700       0.0"
            ]
          },
          "metadata": {
            "tags": []
          },
          "execution_count": 49
        }
      ]
    }
  ]
}