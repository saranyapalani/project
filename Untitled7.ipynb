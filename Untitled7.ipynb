{
  "nbformat": 4,
  "nbformat_minor": 0,
  "metadata": {
    "colab": {
      "name": "Untitled7.ipynb",
      "provenance": [],
      "collapsed_sections": [],
      "authorship_tag": "ABX9TyMJJwXL6IoPSwXZmHihO/tr",
      "include_colab_link": true
    },
    "kernelspec": {
      "name": "python3",
      "display_name": "Python 3"
    }
  },
  "cells": [
    {
      "cell_type": "markdown",
      "metadata": {
        "id": "view-in-github",
        "colab_type": "text"
      },
      "source": [
        "<a href=\"https://colab.research.google.com/github/saranyapalani/project/blob/master/Untitled7.ipynb\" target=\"_parent\"><img src=\"https://colab.research.google.com/assets/colab-badge.svg\" alt=\"Open In Colab\"/></a>"
      ]
    },
    {
      "cell_type": "code",
      "metadata": {
        "id": "2s7KKc43X52e",
        "colab_type": "code",
        "colab": {}
      },
      "source": [
        "import itertools\n",
        "import numpy as np\n",
        "import matplotlib.pyplot as plt\n",
        "from matplotlib.ticker import NullFormatter\n",
        "import pandas as pd\n",
        "import numpy as np\n",
        "import matplotlib.ticker as ticker\n",
        "from sklearn import preprocessing\n",
        "%matplotlib inline\n"
      ],
      "execution_count": 0,
      "outputs": []
    },
    {
      "cell_type": "code",
      "metadata": {
        "id": "qVyooDSTYSgp",
        "colab_type": "code",
        "colab": {
          "base_uri": "https://localhost:8080/",
          "height": 479
        },
        "outputId": "6c223397-b6ba-42c4-b841-acc98aaf08e1"
      },
      "source": [
        "df = pd.read_csv('robbery.csv')\n",
        "df.head()"
      ],
      "execution_count": 4,
      "outputs": [
        {
          "output_type": "execute_result",
          "data": {
            "text/html": [
              "<div>\n",
              "<style scoped>\n",
              "    .dataframe tbody tr th:only-of-type {\n",
              "        vertical-align: middle;\n",
              "    }\n",
              "\n",
              "    .dataframe tbody tr th {\n",
              "        vertical-align: top;\n",
              "    }\n",
              "\n",
              "    .dataframe thead th {\n",
              "        text-align: right;\n",
              "    }\n",
              "</style>\n",
              "<table border=\"1\" class=\"dataframe\">\n",
              "  <thead>\n",
              "    <tr style=\"text-align: right;\">\n",
              "      <th></th>\n",
              "      <th>crimecode</th>\n",
              "      <th>occ_date</th>\n",
              "      <th>occ_time</th>\n",
              "      <th>occ_month</th>\n",
              "      <th>occ_week</th>\n",
              "      <th>occ_year</th>\n",
              "      <th>location</th>\n",
              "      <th>offence</th>\n",
              "      <th>weapons used</th>\n",
              "      <th>lat</th>\n",
              "      <th>long</th>\n",
              "      <th>light</th>\n",
              "    </tr>\n",
              "  </thead>\n",
              "  <tbody>\n",
              "    <tr>\n",
              "      <th>0</th>\n",
              "      <td>4786321</td>\n",
              "      <td>8/17/2016</td>\n",
              "      <td>15:03</td>\n",
              "      <td>August</td>\n",
              "      <td>Friday</td>\n",
              "      <td>2014</td>\n",
              "      <td>street</td>\n",
              "      <td>robbery and murder</td>\n",
              "      <td>riffle</td>\n",
              "      <td>43.653210</td>\n",
              "      <td>-79.381287</td>\n",
              "      <td>day</td>\n",
              "    </tr>\n",
              "    <tr>\n",
              "      <th>1</th>\n",
              "      <td>4676906</td>\n",
              "      <td>10-05-2016</td>\n",
              "      <td>08:55</td>\n",
              "      <td>October</td>\n",
              "      <td>Thursday</td>\n",
              "      <td>2016</td>\n",
              "      <td>residence</td>\n",
              "      <td>robbery and murder</td>\n",
              "      <td>riffle</td>\n",
              "      <td>43.785351</td>\n",
              "      <td>-79.278572</td>\n",
              "      <td>day</td>\n",
              "    </tr>\n",
              "    <tr>\n",
              "      <th>2</th>\n",
              "      <td>4789749</td>\n",
              "      <td>10/17/2016</td>\n",
              "      <td>15:03</td>\n",
              "      <td>October</td>\n",
              "      <td>Sunday</td>\n",
              "      <td>2016</td>\n",
              "      <td>residence</td>\n",
              "      <td>robbery and murder and murder</td>\n",
              "      <td>riffle</td>\n",
              "      <td>43.700970</td>\n",
              "      <td>-79.399261</td>\n",
              "      <td>night</td>\n",
              "    </tr>\n",
              "    <tr>\n",
              "      <th>3</th>\n",
              "      <td>4789765</td>\n",
              "      <td>10/17/2016</td>\n",
              "      <td>15:03</td>\n",
              "      <td>October</td>\n",
              "      <td>Sunday</td>\n",
              "      <td>2014</td>\n",
              "      <td>street</td>\n",
              "      <td>robbery and murder</td>\n",
              "      <td>knife</td>\n",
              "      <td>43.739391</td>\n",
              "      <td>-79.513222</td>\n",
              "      <td>night</td>\n",
              "    </tr>\n",
              "    <tr>\n",
              "      <th>4</th>\n",
              "      <td>4677901</td>\n",
              "      <td>10/15/2016</td>\n",
              "      <td>08:55</td>\n",
              "      <td>October</td>\n",
              "      <td>Sunday</td>\n",
              "      <td>2016</td>\n",
              "      <td>residence</td>\n",
              "      <td>robbery and murder and murder</td>\n",
              "      <td>firearms</td>\n",
              "      <td>43.720444</td>\n",
              "      <td>-79.551483</td>\n",
              "      <td>night</td>\n",
              "    </tr>\n",
              "  </tbody>\n",
              "</table>\n",
              "</div>"
            ],
            "text/plain": [
              "   crimecode    occ_date occ_time  ...        lat       long  light\n",
              "0    4786321   8/17/2016    15:03  ...  43.653210 -79.381287    day\n",
              "1    4676906  10-05-2016    08:55  ...  43.785351 -79.278572    day\n",
              "2    4789749  10/17/2016    15:03  ...  43.700970 -79.399261  night\n",
              "3    4789765  10/17/2016    15:03  ...  43.739391 -79.513222  night\n",
              "4    4677901  10/15/2016    08:55  ...  43.720444 -79.551483  night\n",
              "\n",
              "[5 rows x 12 columns]"
            ]
          },
          "metadata": {
            "tags": []
          },
          "execution_count": 4
        }
      ]
    },
    {
      "cell_type": "code",
      "metadata": {
        "id": "92OuxLtBYZqU",
        "colab_type": "code",
        "colab": {
          "base_uri": "https://localhost:8080/",
          "height": 34
        },
        "outputId": "8fcbd9c4-c67b-4bbf-d103-b8ac43923560"
      },
      "source": [
        "df.shape"
      ],
      "execution_count": 5,
      "outputs": [
        {
          "output_type": "execute_result",
          "data": {
            "text/plain": [
              "(49, 12)"
            ]
          },
          "metadata": {
            "tags": []
          },
          "execution_count": 5
        }
      ]
    },
    {
      "cell_type": "code",
      "metadata": {
        "id": "EP2WRfB9Yd47",
        "colab_type": "code",
        "colab": {
          "base_uri": "https://localhost:8080/",
          "height": 459
        },
        "outputId": "30c024ac-a12a-4b34-b383-1ebf94360035"
      },
      "source": [
        "df['occ_date'] = pd.to_datetime(df['occ_date'])\n",
        "df.head()\n"
      ],
      "execution_count": 6,
      "outputs": [
        {
          "output_type": "execute_result",
          "data": {
            "text/html": [
              "<div>\n",
              "<style scoped>\n",
              "    .dataframe tbody tr th:only-of-type {\n",
              "        vertical-align: middle;\n",
              "    }\n",
              "\n",
              "    .dataframe tbody tr th {\n",
              "        vertical-align: top;\n",
              "    }\n",
              "\n",
              "    .dataframe thead th {\n",
              "        text-align: right;\n",
              "    }\n",
              "</style>\n",
              "<table border=\"1\" class=\"dataframe\">\n",
              "  <thead>\n",
              "    <tr style=\"text-align: right;\">\n",
              "      <th></th>\n",
              "      <th>crimecode</th>\n",
              "      <th>occ_date</th>\n",
              "      <th>occ_time</th>\n",
              "      <th>occ_month</th>\n",
              "      <th>occ_week</th>\n",
              "      <th>occ_year</th>\n",
              "      <th>location</th>\n",
              "      <th>offence</th>\n",
              "      <th>weapons used</th>\n",
              "      <th>lat</th>\n",
              "      <th>long</th>\n",
              "      <th>light</th>\n",
              "    </tr>\n",
              "  </thead>\n",
              "  <tbody>\n",
              "    <tr>\n",
              "      <th>0</th>\n",
              "      <td>4786321</td>\n",
              "      <td>2016-08-17</td>\n",
              "      <td>15:03</td>\n",
              "      <td>August</td>\n",
              "      <td>Friday</td>\n",
              "      <td>2014</td>\n",
              "      <td>street</td>\n",
              "      <td>robbery and murder</td>\n",
              "      <td>riffle</td>\n",
              "      <td>43.653210</td>\n",
              "      <td>-79.381287</td>\n",
              "      <td>day</td>\n",
              "    </tr>\n",
              "    <tr>\n",
              "      <th>1</th>\n",
              "      <td>4676906</td>\n",
              "      <td>2016-10-05</td>\n",
              "      <td>08:55</td>\n",
              "      <td>October</td>\n",
              "      <td>Thursday</td>\n",
              "      <td>2016</td>\n",
              "      <td>residence</td>\n",
              "      <td>robbery and murder</td>\n",
              "      <td>riffle</td>\n",
              "      <td>43.785351</td>\n",
              "      <td>-79.278572</td>\n",
              "      <td>day</td>\n",
              "    </tr>\n",
              "    <tr>\n",
              "      <th>2</th>\n",
              "      <td>4789749</td>\n",
              "      <td>2016-10-17</td>\n",
              "      <td>15:03</td>\n",
              "      <td>October</td>\n",
              "      <td>Sunday</td>\n",
              "      <td>2016</td>\n",
              "      <td>residence</td>\n",
              "      <td>robbery and murder and murder</td>\n",
              "      <td>riffle</td>\n",
              "      <td>43.700970</td>\n",
              "      <td>-79.399261</td>\n",
              "      <td>night</td>\n",
              "    </tr>\n",
              "    <tr>\n",
              "      <th>3</th>\n",
              "      <td>4789765</td>\n",
              "      <td>2016-10-17</td>\n",
              "      <td>15:03</td>\n",
              "      <td>October</td>\n",
              "      <td>Sunday</td>\n",
              "      <td>2014</td>\n",
              "      <td>street</td>\n",
              "      <td>robbery and murder</td>\n",
              "      <td>knife</td>\n",
              "      <td>43.739391</td>\n",
              "      <td>-79.513222</td>\n",
              "      <td>night</td>\n",
              "    </tr>\n",
              "    <tr>\n",
              "      <th>4</th>\n",
              "      <td>4677901</td>\n",
              "      <td>2016-10-15</td>\n",
              "      <td>08:55</td>\n",
              "      <td>October</td>\n",
              "      <td>Sunday</td>\n",
              "      <td>2016</td>\n",
              "      <td>residence</td>\n",
              "      <td>robbery and murder and murder</td>\n",
              "      <td>firearms</td>\n",
              "      <td>43.720444</td>\n",
              "      <td>-79.551483</td>\n",
              "      <td>night</td>\n",
              "    </tr>\n",
              "  </tbody>\n",
              "</table>\n",
              "</div>"
            ],
            "text/plain": [
              "   crimecode   occ_date occ_time  ...        lat       long  light\n",
              "0    4786321 2016-08-17    15:03  ...  43.653210 -79.381287    day\n",
              "1    4676906 2016-10-05    08:55  ...  43.785351 -79.278572    day\n",
              "2    4789749 2016-10-17    15:03  ...  43.700970 -79.399261  night\n",
              "3    4789765 2016-10-17    15:03  ...  43.739391 -79.513222  night\n",
              "4    4677901 2016-10-15    08:55  ...  43.720444 -79.551483  night\n",
              "\n",
              "[5 rows x 12 columns]"
            ]
          },
          "metadata": {
            "tags": []
          },
          "execution_count": 6
        }
      ]
    },
    {
      "cell_type": "code",
      "metadata": {
        "id": "pvPG8BwaYhlK",
        "colab_type": "code",
        "colab": {
          "base_uri": "https://localhost:8080/",
          "height": 102
        },
        "outputId": "b6aab34d-4ce6-482c-f74b-b405a7d6b5b5"
      },
      "source": [
        "df['weapons used'].value_counts()\n"
      ],
      "execution_count": 7,
      "outputs": [
        {
          "output_type": "execute_result",
          "data": {
            "text/plain": [
              "riffle      22\n",
              "knife       13\n",
              "firearms     8\n",
              "ironrods     6\n",
              "Name: weapons used, dtype: int64"
            ]
          },
          "metadata": {
            "tags": []
          },
          "execution_count": 7
        }
      ]
    },
    {
      "cell_type": "code",
      "metadata": {
        "id": "Y8AIf2QrYlLh",
        "colab_type": "code",
        "colab": {
          "base_uri": "https://localhost:8080/",
          "height": 225
        },
        "outputId": "7b4fc698-9c29-4125-f1c9-82172f4fd505"
      },
      "source": [
        "import seaborn as sns\n",
        "\n",
        "bins = np.linspace(df.occ_year.min(), df.occ_year.max(), 10)\n",
        "g = sns.FacetGrid(df, col=\"light\", hue=\"weapons used\", palette=\"Set1\", col_wrap=2)\n",
        "g.map(plt.hist, 'occ_year', bins=bins, ec=\"k\")\n",
        "\n",
        "g.axes[-1].legend()\n",
        "plt.show()\n"
      ],
      "execution_count": 8,
      "outputs": [
        {
          "output_type": "display_data",
          "data": {
            "image/png": "[encoded data removed]",
            "text/plain": [
              "<Figure size 432x216 with 2 Axes>"
            ]
          },
          "metadata": {
            "tags": []
          }
        }
      ]
    },
    {
      "cell_type": "code",
      "metadata": {
        "id": "W7OnStYxY7C7",
        "colab_type": "code",
        "colab": {
          "base_uri": "https://localhost:8080/",
          "height": 255
        },
        "outputId": "908665a9-ab62-4fef-cae4-1f6c2def5c1f"
      },
      "source": [
        "df.groupby(['location'])['weapons used'].value_counts(normalize=True)"
      ],
      "execution_count": 9,
      "outputs": [
        {
          "output_type": "execute_result",
          "data": {
            "text/plain": [
              "location   weapons used\n",
              "apartment  knife           0.384615\n",
              "           riffle          0.384615\n",
              "           firearms        0.153846\n",
              "           ironrods        0.076923\n",
              "residence  riffle          0.450000\n",
              "           firearms        0.200000\n",
              "           knife           0.200000\n",
              "           ironrods        0.150000\n",
              "street     riffle          0.500000\n",
              "           knife           0.250000\n",
              "           firearms        0.125000\n",
              "           ironrods        0.125000\n",
              "Name: weapons used, dtype: float64"
            ]
          },
          "metadata": {
            "tags": []
          },
          "execution_count": 9
        }
      ]
    },
    {
      "cell_type": "code",
      "metadata": {
        "id": "AYRN4K9kY-R7",
        "colab_type": "code",
        "colab": {
          "base_uri": "https://localhost:8080/",
          "height": 459
        },
        "outputId": "711da918-cb1c-4e70-eafa-ac460c7904a5"
      },
      "source": [
        "df['light'].replace(to_replace=['day','night'], value=[0,1],inplace=True)\n",
        "df.head()\n"
      ],
      "execution_count": 10,
      "outputs": [
        {
          "output_type": "execute_result",
          "data": {
            "text/html": [
              "<div>\n",
              "<style scoped>\n",
              "    .dataframe tbody tr th:only-of-type {\n",
              "        vertical-align: middle;\n",
              "    }\n",
              "\n",
              "    .dataframe tbody tr th {\n",
              "        vertical-align: top;\n",
              "    }\n",
              "\n",
              "    .dataframe thead th {\n",
              "        text-align: right;\n",
              "    }\n",
              "</style>\n",
              "<table border=\"1\" class=\"dataframe\">\n",
              "  <thead>\n",
              "    <tr style=\"text-align: right;\">\n",
              "      <th></th>\n",
              "      <th>crimecode</th>\n",
              "      <th>occ_date</th>\n",
              "      <th>occ_time</th>\n",
              "      <th>occ_month</th>\n",
              "      <th>occ_week</th>\n",
              "      <th>occ_year</th>\n",
              "      <th>location</th>\n",
              "      <th>offence</th>\n",
              "      <th>weapons used</th>\n",
              "      <th>lat</th>\n",
              "      <th>long</th>\n",
              "      <th>light</th>\n",
              "    </tr>\n",
              "  </thead>\n",
              "  <tbody>\n",
              "    <tr>\n",
              "      <th>0</th>\n",
              "      <td>4786321</td>\n",
              "      <td>2016-08-17</td>\n",
              "      <td>15:03</td>\n",
              "      <td>August</td>\n",
              "      <td>Friday</td>\n",
              "      <td>2014</td>\n",
              "      <td>street</td>\n",
              "      <td>robbery and murder</td>\n",
              "      <td>riffle</td>\n",
              "      <td>43.653210</td>\n",
              "      <td>-79.381287</td>\n",
              "      <td>0</td>\n",
              "    </tr>\n",
              "    <tr>\n",
              "      <th>1</th>\n",
              "      <td>4676906</td>\n",
              "      <td>2016-10-05</td>\n",
              "      <td>08:55</td>\n",
              "      <td>October</td>\n",
              "      <td>Thursday</td>\n",
              "      <td>2016</td>\n",
              "      <td>residence</td>\n",
              "      <td>robbery and murder</td>\n",
              "      <td>riffle</td>\n",
              "      <td>43.785351</td>\n",
              "      <td>-79.278572</td>\n",
              "      <td>0</td>\n",
              "    </tr>\n",
              "    <tr>\n",
              "      <th>2</th>\n",
              "      <td>4789749</td>\n",
              "      <td>2016-10-17</td>\n",
              "      <td>15:03</td>\n",
              "      <td>October</td>\n",
              "      <td>Sunday</td>\n",
              "      <td>2016</td>\n",
              "      <td>residence</td>\n",
              "      <td>robbery and murder and murder</td>\n",
              "      <td>riffle</td>\n",
              "      <td>43.700970</td>\n",
              "      <td>-79.399261</td>\n",
              "      <td>1</td>\n",
              "    </tr>\n",
              "    <tr>\n",
              "      <th>3</th>\n",
              "      <td>4789765</td>\n",
              "      <td>2016-10-17</td>\n",
              "      <td>15:03</td>\n",
              "      <td>October</td>\n",
              "      <td>Sunday</td>\n",
              "      <td>2014</td>\n",
              "      <td>street</td>\n",
              "      <td>robbery and murder</td>\n",
              "      <td>knife</td>\n",
              "      <td>43.739391</td>\n",
              "      <td>-79.513222</td>\n",
              "      <td>1</td>\n",
              "    </tr>\n",
              "    <tr>\n",
              "      <th>4</th>\n",
              "      <td>4677901</td>\n",
              "      <td>2016-10-15</td>\n",
              "      <td>08:55</td>\n",
              "      <td>October</td>\n",
              "      <td>Sunday</td>\n",
              "      <td>2016</td>\n",
              "      <td>residence</td>\n",
              "      <td>robbery and murder and murder</td>\n",
              "      <td>firearms</td>\n",
              "      <td>43.720444</td>\n",
              "      <td>-79.551483</td>\n",
              "      <td>1</td>\n",
              "    </tr>\n",
              "  </tbody>\n",
              "</table>\n",
              "</div>"
            ],
            "text/plain": [
              "   crimecode   occ_date occ_time  ...        lat       long  light\n",
              "0    4786321 2016-08-17    15:03  ...  43.653210 -79.381287      0\n",
              "1    4676906 2016-10-05    08:55  ...  43.785351 -79.278572      0\n",
              "2    4789749 2016-10-17    15:03  ...  43.700970 -79.399261      1\n",
              "3    4789765 2016-10-17    15:03  ...  43.739391 -79.513222      1\n",
              "4    4677901 2016-10-15    08:55  ...  43.720444 -79.551483      1\n",
              "\n",
              "[5 rows x 12 columns]"
            ]
          },
          "metadata": {
            "tags": []
          },
          "execution_count": 10
        }
      ]
    },
    {
      "cell_type": "code",
      "metadata": {
        "id": "1Il8z6QwZDh8",
        "colab_type": "code",
        "colab": {
          "base_uri": "https://localhost:8080/",
          "height": 204
        },
        "outputId": "268765e0-8b71-4bee-877f-be86ec0eea56"
      },
      "source": [
        "df[['occ_year','location','occ_week','light']].head()"
      ],
      "execution_count": 11,
      "outputs": [
        {
          "output_type": "execute_result",
          "data": {
            "text/html": [
              "<div>\n",
              "<style scoped>\n",
              "    .dataframe tbody tr th:only-of-type {\n",
              "        vertical-align: middle;\n",
              "    }\n",
              "\n",
              "    .dataframe tbody tr th {\n",
              "        vertical-align: top;\n",
              "    }\n",
              "\n",
              "    .dataframe thead th {\n",
              "        text-align: right;\n",
              "    }\n",
              "</style>\n",
              "<table border=\"1\" class=\"dataframe\">\n",
              "  <thead>\n",
              "    <tr style=\"text-align: right;\">\n",
              "      <th></th>\n",
              "      <th>occ_year</th>\n",
              "      <th>location</th>\n",
              "      <th>occ_week</th>\n",
              "      <th>light</th>\n",
              "    </tr>\n",
              "  </thead>\n",
              "  <tbody>\n",
              "    <tr>\n",
              "      <th>0</th>\n",
              "      <td>2014</td>\n",
              "      <td>street</td>\n",
              "      <td>Friday</td>\n",
              "      <td>0</td>\n",
              "    </tr>\n",
              "    <tr>\n",
              "      <th>1</th>\n",
              "      <td>2016</td>\n",
              "      <td>residence</td>\n",
              "      <td>Thursday</td>\n",
              "      <td>0</td>\n",
              "    </tr>\n",
              "    <tr>\n",
              "      <th>2</th>\n",
              "      <td>2016</td>\n",
              "      <td>residence</td>\n",
              "      <td>Sunday</td>\n",
              "      <td>1</td>\n",
              "    </tr>\n",
              "    <tr>\n",
              "      <th>3</th>\n",
              "      <td>2014</td>\n",
              "      <td>street</td>\n",
              "      <td>Sunday</td>\n",
              "      <td>1</td>\n",
              "    </tr>\n",
              "    <tr>\n",
              "      <th>4</th>\n",
              "      <td>2016</td>\n",
              "      <td>residence</td>\n",
              "      <td>Sunday</td>\n",
              "      <td>1</td>\n",
              "    </tr>\n",
              "  </tbody>\n",
              "</table>\n",
              "</div>"
            ],
            "text/plain": [
              "   occ_year   location    occ_week  light\n",
              "0      2014     street  Friday          0\n",
              "1      2016  residence  Thursday        0\n",
              "2      2016  residence  Sunday          1\n",
              "3      2014     street  Sunday          1\n",
              "4      2016  residence  Sunday          1"
            ]
          },
          "metadata": {
            "tags": []
          },
          "execution_count": 11
        }
      ]
    },
    {
      "cell_type": "code",
      "metadata": {
        "id": "DBwFSGYAZHXk",
        "colab_type": "code",
        "colab": {
          "base_uri": "https://localhost:8080/",
          "height": 204
        },
        "outputId": "9ba43c9c-38e1-4501-cf77-043ca54ddd27"
      },
      "source": [
        "Feature = df[['occ_year','light']]\n",
        "Feature = pd.concat([Feature,pd.get_dummies(df['location'])], axis=1)\n",
        "Feature.head()\n"
      ],
      "execution_count": 12,
      "outputs": [
        {
          "output_type": "execute_result",
          "data": {
            "text/html": [
              "<div>\n",
              "<style scoped>\n",
              "    .dataframe tbody tr th:only-of-type {\n",
              "        vertical-align: middle;\n",
              "    }\n",
              "\n",
              "    .dataframe tbody tr th {\n",
              "        vertical-align: top;\n",
              "    }\n",
              "\n",
              "    .dataframe thead th {\n",
              "        text-align: right;\n",
              "    }\n",
              "</style>\n",
              "<table border=\"1\" class=\"dataframe\">\n",
              "  <thead>\n",
              "    <tr style=\"text-align: right;\">\n",
              "      <th></th>\n",
              "      <th>occ_year</th>\n",
              "      <th>light</th>\n",
              "      <th>apartment</th>\n",
              "      <th>residence</th>\n",
              "      <th>street</th>\n",
              "    </tr>\n",
              "  </thead>\n",
              "  <tbody>\n",
              "    <tr>\n",
              "      <th>0</th>\n",
              "      <td>2014</td>\n",
              "      <td>0</td>\n",
              "      <td>0</td>\n",
              "      <td>0</td>\n",
              "      <td>1</td>\n",
              "    </tr>\n",
              "    <tr>\n",
              "      <th>1</th>\n",
              "      <td>2016</td>\n",
              "      <td>0</td>\n",
              "      <td>0</td>\n",
              "      <td>1</td>\n",
              "      <td>0</td>\n",
              "    </tr>\n",
              "    <tr>\n",
              "      <th>2</th>\n",
              "      <td>2016</td>\n",
              "      <td>1</td>\n",
              "      <td>0</td>\n",
              "      <td>1</td>\n",
              "      <td>0</td>\n",
              "    </tr>\n",
              "    <tr>\n",
              "      <th>3</th>\n",
              "      <td>2014</td>\n",
              "      <td>1</td>\n",
              "      <td>0</td>\n",
              "      <td>0</td>\n",
              "      <td>1</td>\n",
              "    </tr>\n",
              "    <tr>\n",
              "      <th>4</th>\n",
              "      <td>2016</td>\n",
              "      <td>1</td>\n",
              "      <td>0</td>\n",
              "      <td>1</td>\n",
              "      <td>0</td>\n",
              "    </tr>\n",
              "  </tbody>\n",
              "</table>\n",
              "</div>"
            ],
            "text/plain": [
              "   occ_year  light  apartment  residence  street\n",
              "0      2014      0          0          0       1\n",
              "1      2016      0          0          1       0\n",
              "2      2016      1          0          1       0\n",
              "3      2014      1          0          0       1\n",
              "4      2016      1          0          1       0"
            ]
          },
          "metadata": {
            "tags": []
          },
          "execution_count": 12
        }
      ]
    },
    {
      "cell_type": "code",
      "metadata": {
        "id": "DFuPN6jfZKpL",
        "colab_type": "code",
        "colab": {
          "base_uri": "https://localhost:8080/",
          "height": 204
        },
        "outputId": "83ba9e83-4cd9-4def-ab5c-c28127128591"
      },
      "source": [
        "X = Feature\n",
        "X[0:5]\n"
      ],
      "execution_count": 13,
      "outputs": [
        {
          "output_type": "execute_result",
          "data": {
            "text/html": [
              "<div>\n",
              "<style scoped>\n",
              "    .dataframe tbody tr th:only-of-type {\n",
              "        vertical-align: middle;\n",
              "    }\n",
              "\n",
              "    .dataframe tbody tr th {\n",
              "        vertical-align: top;\n",
              "    }\n",
              "\n",
              "    .dataframe thead th {\n",
              "        text-align: right;\n",
              "    }\n",
              "</style>\n",
              "<table border=\"1\" class=\"dataframe\">\n",
              "  <thead>\n",
              "    <tr style=\"text-align: right;\">\n",
              "      <th></th>\n",
              "      <th>occ_year</th>\n",
              "      <th>light</th>\n",
              "      <th>apartment</th>\n",
              "      <th>residence</th>\n",
              "      <th>street</th>\n",
              "    </tr>\n",
              "  </thead>\n",
              "  <tbody>\n",
              "    <tr>\n",
              "      <th>0</th>\n",
              "      <td>2014</td>\n",
              "      <td>0</td>\n",
              "      <td>0</td>\n",
              "      <td>0</td>\n",
              "      <td>1</td>\n",
              "    </tr>\n",
              "    <tr>\n",
              "      <th>1</th>\n",
              "      <td>2016</td>\n",
              "      <td>0</td>\n",
              "      <td>0</td>\n",
              "      <td>1</td>\n",
              "      <td>0</td>\n",
              "    </tr>\n",
              "    <tr>\n",
              "      <th>2</th>\n",
              "      <td>2016</td>\n",
              "      <td>1</td>\n",
              "      <td>0</td>\n",
              "      <td>1</td>\n",
              "      <td>0</td>\n",
              "    </tr>\n",
              "    <tr>\n",
              "      <th>3</th>\n",
              "      <td>2014</td>\n",
              "      <td>1</td>\n",
              "      <td>0</td>\n",
              "      <td>0</td>\n",
              "      <td>1</td>\n",
              "    </tr>\n",
              "    <tr>\n",
              "      <th>4</th>\n",
              "      <td>2016</td>\n",
              "      <td>1</td>\n",
              "      <td>0</td>\n",
              "      <td>1</td>\n",
              "      <td>0</td>\n",
              "    </tr>\n",
              "  </tbody>\n",
              "</table>\n",
              "</div>"
            ],
            "text/plain": [
              "   occ_year  light  apartment  residence  street\n",
              "0      2014      0          0          0       1\n",
              "1      2016      0          0          1       0\n",
              "2      2016      1          0          1       0\n",
              "3      2014      1          0          0       1\n",
              "4      2016      1          0          1       0"
            ]
          },
          "metadata": {
            "tags": []
          },
          "execution_count": 13
        }
      ]
    },
    {
      "cell_type": "code",
      "metadata": {
        "id": "0z9VP3w6ZOZ4",
        "colab_type": "code",
        "colab": {
          "base_uri": "https://localhost:8080/",
          "height": 34
        },
        "outputId": "2889d9d2-1a65-476a-b9f2-ed761dccdd0f"
      },
      "source": [
        "y = pd.get_dummies(df['weapons used'])['riffle'].values\n",
        "y[0:5]\n"
      ],
      "execution_count": 14,
      "outputs": [
        {
          "output_type": "execute_result",
          "data": {
            "text/plain": [
              "array([1, 1, 1, 0, 0], dtype=uint8)"
            ]
          },
          "metadata": {
            "tags": []
          },
          "execution_count": 14
        }
      ]
    },
    {
      "cell_type": "code",
      "metadata": {
        "id": "GskvIMmIZRLP",
        "colab_type": "code",
        "colab": {
          "base_uri": "https://localhost:8080/",
          "height": 102
        },
        "outputId": "a38c247a-4b59-4975-b74a-f873542ed32a"
      },
      "source": [
        "X= preprocessing.StandardScaler().fit(X).transform(X)\n",
        "X[0:5]\n"
      ],
      "execution_count": 15,
      "outputs": [
        {
          "output_type": "execute_result",
          "data": {
            "text/plain": [
              "array([[-1.77237252, -1.25656172, -0.60092521, -0.8304548 ,  1.43614066],\n",
              "       [-0.31277162, -1.25656172, -0.60092521,  1.20415946, -0.69631062],\n",
              "       [-0.31277162,  0.79582243, -0.60092521,  1.20415946, -0.69631062],\n",
              "       [-1.77237252,  0.79582243, -0.60092521, -0.8304548 ,  1.43614066],\n",
              "       [-0.31277162,  0.79582243, -0.60092521,  1.20415946, -0.69631062]])"
            ]
          },
          "metadata": {
            "tags": []
          },
          "execution_count": 15
        }
      ]
    },
    {
      "cell_type": "code",
      "metadata": {
        "id": "ap0uWT7rZUWm",
        "colab_type": "code",
        "colab": {}
      },
      "source": [
        "from sklearn.tree import DecisionTreeClassifier\n",
        "from sklearn.model_selection import train_test_split\n",
        "import sklearn.metrics as metrics\n",
        "\n"
      ],
      "execution_count": 0,
      "outputs": []
    },
    {
      "cell_type": "code",
      "metadata": {
        "id": "HbpN18psZX11",
        "colab_type": "code",
        "colab": {
          "base_uri": "https://localhost:8080/",
          "height": 119
        },
        "outputId": "32770f9a-2a17-416c-c036-5107517d7a4b"
      },
      "source": [
        "dtmodel = DecisionTreeClassifier(criterion=\"entropy\", max_depth = 4)\n",
        "X_train, X_test, y_train, y_test = train_test_split(X, y, test_size=0.33, random_state=42)\n",
        "dtmodel.fit(X_train,y_train)\n"
      ],
      "execution_count": 24,
      "outputs": [
        {
          "output_type": "execute_result",
          "data": {
            "text/plain": [
              "DecisionTreeClassifier(ccp_alpha=0.0, class_weight=None, criterion='entropy',\n",
              "                       max_depth=4, max_features=None, max_leaf_nodes=None,\n",
              "                       min_impurity_decrease=0.0, min_impurity_split=None,\n",
              "                       min_samples_leaf=1, min_samples_split=2,\n",
              "                       min_weight_fraction_leaf=0.0, presort='deprecated',\n",
              "                       random_state=None, splitter='best')"
            ]
          },
          "metadata": {
            "tags": []
          },
          "execution_count": 24
        }
      ]
    },
    {
      "cell_type": "code",
      "metadata": {
        "id": "tfHdG4UdZ_VS",
        "colab_type": "code",
        "colab": {
          "base_uri": "https://localhost:8080/",
          "height": 34
        },
        "outputId": "45546c41-cc19-47ce-e9b1-714fe06bfaaf"
      },
      "source": [
        "y_pred=dtmodel.predict(X_test)\n",
        "TreeAccuracy=metrics.accuracy_score(y_test,y_pred)\n",
        "TreeAccuracy"
      ],
      "execution_count": 25,
      "outputs": [
        {
          "output_type": "execute_result",
          "data": {
            "text/plain": [
              "0.35294117647058826"
            ]
          },
          "metadata": {
            "tags": []
          },
          "execution_count": 25
        }
      ]
    },
    {
      "cell_type": "code",
      "metadata": {
        "id": "vlfvT6TfafEj",
        "colab_type": "code",
        "colab": {
          "base_uri": "https://localhost:8080/",
          "height": 85
        },
        "outputId": "da413b48-01a7-467f-880f-7db6ee87266a"
      },
      "source": [
        "from sklearn import svm\n",
        "svmmodel=svm.SVC(kernel='rbf')\n",
        "svmmodel.fit(X_train,y_train)\n"
      ],
      "execution_count": 26,
      "outputs": [
        {
          "output_type": "execute_result",
          "data": {
            "text/plain": [
              "SVC(C=1.0, break_ties=False, cache_size=200, class_weight=None, coef0=0.0,\n",
              "    decision_function_shape='ovr', degree=3, gamma='scale', kernel='rbf',\n",
              "    max_iter=-1, probability=False, random_state=None, shrinking=True,\n",
              "    tol=0.001, verbose=False)"
            ]
          },
          "metadata": {
            "tags": []
          },
          "execution_count": 26
        }
      ]
    },
    {
      "cell_type": "code",
      "metadata": {
        "id": "3V-hfR6IajUf",
        "colab_type": "code",
        "colab": {
          "base_uri": "https://localhost:8080/",
          "height": 34
        },
        "outputId": "68307a29-f870-4b17-f97b-ba8bc9816b2c"
      },
      "source": [
        "y_pred=svmmodel.predict(X_test)\n",
        "y_pred\n"
      ],
      "execution_count": 27,
      "outputs": [
        {
          "output_type": "execute_result",
          "data": {
            "text/plain": [
              "array([0, 1, 0, 0, 1, 0, 0, 1, 0, 0, 0, 1, 1, 1, 0, 0, 1], dtype=uint8)"
            ]
          },
          "metadata": {
            "tags": []
          },
          "execution_count": 27
        }
      ]
    },
    {
      "cell_type": "code",
      "metadata": {
        "id": "MaBBkPYYamah",
        "colab_type": "code",
        "colab": {
          "base_uri": "https://localhost:8080/",
          "height": 34
        },
        "outputId": "623e0a97-a25b-46ac-ec22-9d3c3c3cf4bd"
      },
      "source": [
        "metrics.accuracy_score(y_test,y_pred)"
      ],
      "execution_count": 28,
      "outputs": [
        {
          "output_type": "execute_result",
          "data": {
            "text/plain": [
              "0.35294117647058826"
            ]
          },
          "metadata": {
            "tags": []
          },
          "execution_count": 28
        }
      ]
    },
    {
      "cell_type": "code",
      "metadata": {
        "id": "O5Zwg3KHau5S",
        "colab_type": "code",
        "colab": {
          "base_uri": "https://localhost:8080/",
          "height": 51
        },
        "outputId": "2c53b85a-a3cc-4625-86ed-cbbe5387e889"
      },
      "source": [
        "from sklearn.model_selection import train_test_split\n",
        "X_train, X_test, y_train, y_test = train_test_split( X, y, test_size=0.2, random_state=4)\n",
        "print ('Train set:', X_train.shape,  y_train.shape)\n",
        "print ('Test set:', X_test.shape,  y_test.shape)\n"
      ],
      "execution_count": 29,
      "outputs": [
        {
          "output_type": "stream",
          "text": [
            "Train set: (39, 5) (39,)\n",
            "Test set: (10, 5) (10,)\n"
          ],
          "name": "stdout"
        }
      ]
    },
    {
      "cell_type": "code",
      "metadata": {
        "id": "vTErkFDsa23H",
        "colab_type": "code",
        "colab": {}
      },
      "source": [
        "from sklearn.neighbors import KNeighborsClassifier"
      ],
      "execution_count": 0,
      "outputs": []
    },
    {
      "cell_type": "code",
      "metadata": {
        "id": "-5wdYfnja510",
        "colab_type": "code",
        "colab": {
          "base_uri": "https://localhost:8080/",
          "height": 68
        },
        "outputId": "2443f0da-a2d3-4226-ea0d-d0fcd54bd5ce"
      },
      "source": [
        "k = 4\n",
        "#Train Model and Predict  \n",
        "neigh = KNeighborsClassifier(n_neighbors = k).fit(X_train,y_train)\n",
        "neigh"
      ],
      "execution_count": 31,
      "outputs": [
        {
          "output_type": "execute_result",
          "data": {
            "text/plain": [
              "KNeighborsClassifier(algorithm='auto', leaf_size=30, metric='minkowski',\n",
              "                     metric_params=None, n_jobs=None, n_neighbors=4, p=2,\n",
              "                     weights='uniform')"
            ]
          },
          "metadata": {
            "tags": []
          },
          "execution_count": 31
        }
      ]
    },
    {
      "cell_type": "code",
      "metadata": {
        "id": "0-aq2xP-a_In",
        "colab_type": "code",
        "colab": {
          "base_uri": "https://localhost:8080/",
          "height": 34
        },
        "outputId": "cf7fe894-9736-4334-a798-b28e1d515e3d"
      },
      "source": [
        "yhat = neigh.predict(X_test)\n",
        "yhat[0:5]\n"
      ],
      "execution_count": 32,
      "outputs": [
        {
          "output_type": "execute_result",
          "data": {
            "text/plain": [
              "array([0, 0, 0, 0, 0], dtype=uint8)"
            ]
          },
          "metadata": {
            "tags": []
          },
          "execution_count": 32
        }
      ]
    },
    {
      "cell_type": "code",
      "metadata": {
        "id": "1QBNWMjPbB4g",
        "colab_type": "code",
        "colab": {
          "base_uri": "https://localhost:8080/",
          "height": 51
        },
        "outputId": "09975c2f-6632-4fb5-8067-7ac17fdb97b2"
      },
      "source": [
        "from sklearn import metrics\n",
        "print(\"Train set Accuracy: \", metrics.accuracy_score(y_train, neigh.predict(X_train)))\n",
        "print(\"Test set Accuracy: \", metrics.accuracy_score(y_test, yhat))\n"
      ],
      "execution_count": 33,
      "outputs": [
        {
          "output_type": "stream",
          "text": [
            "Train set Accuracy:  0.7692307692307693\n",
            "Test set Accuracy:  0.5\n"
          ],
          "name": "stdout"
        }
      ]
    },
    {
      "cell_type": "code",
      "metadata": {
        "id": "Z7p61Ii5bIJT",
        "colab_type": "code",
        "colab": {
          "base_uri": "https://localhost:8080/",
          "height": 34
        },
        "outputId": "079a6c25-cb09-4b05-d5fe-bb3db2973eac"
      },
      "source": [
        "Ks = 10\n",
        "mean_acc = np.zeros((Ks-1))\n",
        "std_acc = np.zeros((Ks-1))\n",
        "ConfustionMx = [];\n",
        "for n in range(1,Ks):\n",
        "    \n",
        "    #Train Model and Predict  \n",
        "    neigh = KNeighborsClassifier(n_neighbors = n).fit(X_train,y_train)\n",
        "    yhat=neigh.predict(X_test)\n",
        "    mean_acc[n-1] = metrics.accuracy_score(y_test, yhat)\n",
        "\n",
        "    \n",
        "    std_acc[n-1]=np.std(yhat==y_test)/np.sqrt(yhat.shape[0])\n",
        "\n",
        "mean_acc\n"
      ],
      "execution_count": 34,
      "outputs": [
        {
          "output_type": "execute_result",
          "data": {
            "text/plain": [
              "array([0.5, 0.5, 0.4, 0.5, 0.4, 0.4, 0.4, 0.4, 0.4])"
            ]
          },
          "metadata": {
            "tags": []
          },
          "execution_count": 34
        }
      ]
    },
    {
      "cell_type": "code",
      "metadata": {
        "id": "e9D6i_wybMc7",
        "colab_type": "code",
        "colab": {
          "base_uri": "https://localhost:8080/",
          "height": 297
        },
        "outputId": "e60eeebd-4b24-4074-c703-7bc33562ab6f"
      },
      "source": [
        "plt.plot(range(1,Ks),mean_acc,'g')\n",
        "plt.fill_between(range(1,Ks),mean_acc - 1 * std_acc,mean_acc + 1 * std_acc, alpha=0.10)\n",
        "plt.legend(('Accuracy ', '+/- 3xstd'))\n",
        "plt.ylabel('Accuracy ')\n",
        "plt.xlabel('Number of Nabors (K)')\n",
        "plt.tight_layout()\n",
        "plt.show()\n"
      ],
      "execution_count": 35,
      "outputs": [
        {
          "output_type": "display_data",
          "data": {
            "image/png": "[encoded data removed]",
            "text/plain": [
              "<Figure size 432x288 with 1 Axes>"
            ]
          },
          "metadata": {
            "tags": []
          }
        }
      ]
    },
    {
      "cell_type": "code",
      "metadata": {
        "id": "KxqbU-FsbRqC",
        "colab_type": "code",
        "colab": {
          "base_uri": "https://localhost:8080/",
          "height": 34
        },
        "outputId": "1099271a-ff33-4c2f-bebd-62fb31b266e6"
      },
      "source": [
        "print( \"The best accuracy was with\", mean_acc.max(), \"with k=\", mean_acc.argmax()+1)"
      ],
      "execution_count": 36,
      "outputs": [
        {
          "output_type": "stream",
          "text": [
            "The best accuracy was with 0.5 with k= 1\n"
          ],
          "name": "stdout"
        }
      ]
    }
  ]
}