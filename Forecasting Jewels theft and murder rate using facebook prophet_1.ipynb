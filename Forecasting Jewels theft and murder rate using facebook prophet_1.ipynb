{
  "nbformat": 4,
  "nbformat_minor": 0,
  "metadata": {
    "colab": {
      "name": "Untitled4.ipynb",
      "provenance": [],
      "authorship_tag": "ABX9TyO47wMSOFhZSYXQicT7MGIZ",
      "include_colab_link": true
    },
    "kernelspec": {
      "name": "python3",
      "display_name": "Python 3"
    }
  },
  "cells": [
    {
      "cell_type": "markdown",
      "metadata": {
        "id": "view-in-github",
        "colab_type": "text"
      },
      "source": [
        "<a href=\"https://colab.research.google.com/github/saranyapalani/sample/blob/master/Forecasting%20Jewels%20theft%20and%20murder%20rate%20using%20facebook%20prophet_1.ipynb\" target=\"_parent\"><img src=\"https://colab.research.google.com/assets/colab-badge.svg\" alt=\"Open In Colab\"/></a>"
      ]
    },
    {
      "cell_type": "code",
      "metadata": {
        "id": "l3Xb8OEv4lMu",
        "colab_type": "code",
        "colab": {}
      },
      "source": [
        "#PREDICTING JEWELS THEFT AND MURDER CRIME RATE USING FACEBOOK PROPHET"
      ],
      "execution_count": 0,
      "outputs": []
    },
    {
      "cell_type": "code",
      "metadata": {
        "id": "QA7HkS_45gb-",
        "colab_type": "code",
        "colab": {}
      },
      "source": [
        "#importing datasets from google drive"
      ],
      "execution_count": 0,
      "outputs": []
    },
    {
      "cell_type": "code",
      "metadata": {
        "id": "ysYk5JrT5mjT",
        "colab_type": "code",
        "outputId": "993be67b-d8ae-4723-b34f-8a9fc8dc493a",
        "colab": {
          "base_uri": "https://localhost:8080/",
          "height": 122
        }
      },
      "source": [
        "from google.colab import drive\n",
        "drive.mount('/content/drive')"
      ],
      "execution_count": 0,
      "outputs": [
        {
          "output_type": "stream",
          "text": [
            "Go to this URL in a browser: https://accounts.google.com/o/oauth2/auth?client_id=947318989803-6bn6qk8qdgf4n4g3pfee6491hc0brc4i.apps.googleusercontent.com&redirect_uri=urn%3aietf%3awg%3aoauth%3a2.0%3aoob&response_type=code&scope=email%20https%3a%2f%2fwww.googleapis.com%2fauth%2fdocs.test%20https%3a%2f%2fwww.googleapis.com%2fauth%2fdrive%20https%3a%2f%2fwww.googleapis.com%2fauth%2fdrive.photos.readonly%20https%3a%2f%2fwww.googleapis.com%2fauth%2fpeopleapi.readonly\n",
            "\n",
            "Enter your authorization code:\n",
            "··········\n",
            "Mounted at /content/drive\n"
          ],
          "name": "stdout"
        }
      ]
    },
    {
      "cell_type": "code",
      "metadata": {
        "id": "F2ladrNq6Gkb",
        "colab_type": "code",
        "colab": {}
      },
      "source": [
        "#load the packages"
      ],
      "execution_count": 0,
      "outputs": []
    },
    {
      "cell_type": "code",
      "metadata": {
        "id": "kbZEF8Ob6KFa",
        "colab_type": "code",
        "outputId": "d6150fd2-7503-44f6-8e8d-74f287fd9f4e",
        "colab": {
          "base_uri": "https://localhost:8080/",
          "height": 71
        }
      },
      "source": [
        "import pandas as pd \n",
        "import numpy as np \n",
        "import matplotlib.pyplot as plt\n",
        "import random\n",
        "import seaborn as sns\n",
        "from fbprophet import Prophet"
      ],
      "execution_count": 0,
      "outputs": [
        {
          "output_type": "stream",
          "text": [
            "/usr/local/lib/python3.6/dist-packages/statsmodels/tools/_testing.py:19: FutureWarning: pandas.util.testing is deprecated. Use the functions in the public API at pandas.testing instead.\n",
            "  import pandas.util.testing as tm\n"
          ],
          "name": "stderr"
        }
      ]
    },
    {
      "cell_type": "code",
      "metadata": {
        "id": "GBqRVH5U6PG7",
        "colab_type": "code",
        "colab": {}
      },
      "source": [
        "#load the datasets"
      ],
      "execution_count": 0,
      "outputs": []
    },
    {
      "cell_type": "code",
      "metadata": {
        "id": "VDBhilGr6THO",
        "colab_type": "code",
        "outputId": "847a41f0-40de-475d-92bd-fe5cd389fa0d",
        "colab": {
          "base_uri": "https://localhost:8080/",
          "height": 496
        }
      },
      "source": [
        "data = pd.read_csv('/content/drive/My Drive/dataset.csv',error_bad_lines=False)\n",
        "data.head()"
      ],
      "execution_count": 0,
      "outputs": [
        {
          "output_type": "execute_result",
          "data": {
            "text/html": [
              "<div>\n",
              "<style scoped>\n",
              "    .dataframe tbody tr th:only-of-type {\n",
              "        vertical-align: middle;\n",
              "    }\n",
              "\n",
              "    .dataframe tbody tr th {\n",
              "        vertical-align: top;\n",
              "    }\n",
              "\n",
              "    .dataframe thead th {\n",
              "        text-align: right;\n",
              "    }\n",
              "</style>\n",
              "<table border=\"1\" class=\"dataframe\">\n",
              "  <thead>\n",
              "    <tr style=\"text-align: right;\">\n",
              "      <th></th>\n",
              "      <th>ID</th>\n",
              "      <th>Case Number</th>\n",
              "      <th>Date</th>\n",
              "      <th>Type</th>\n",
              "      <th>Location Description</th>\n",
              "      <th>Arrest</th>\n",
              "      <th>District</th>\n",
              "      <th>Ward</th>\n",
              "      <th>Community Area</th>\n",
              "      <th>X Coordinate</th>\n",
              "      <th>Y Coordinate</th>\n",
              "      <th>Year</th>\n",
              "      <th>Updated On</th>\n",
              "      <th>Latitude</th>\n",
              "      <th>Longitude</th>\n",
              "      <th>Location</th>\n",
              "    </tr>\n",
              "  </thead>\n",
              "  <tbody>\n",
              "    <tr>\n",
              "      <th>0</th>\n",
              "      <td>10508693</td>\n",
              "      <td>HZ250496</td>\n",
              "      <td>05-03-2017 23:40</td>\n",
              "      <td>ROAD ACCIDENTS</td>\n",
              "      <td>APARTMENT</td>\n",
              "      <td>True</td>\n",
              "      <td>10</td>\n",
              "      <td>24.0</td>\n",
              "      <td>29.0</td>\n",
              "      <td>1154907.0</td>\n",
              "      <td>1893681.0</td>\n",
              "      <td>2017</td>\n",
              "      <td>05-10-2017 15:56</td>\n",
              "      <td>41.864073</td>\n",
              "      <td>-87.706819</td>\n",
              "      <td>(41.864073157, -87.706818608)</td>\n",
              "    </tr>\n",
              "    <tr>\n",
              "      <th>1</th>\n",
              "      <td>10508695</td>\n",
              "      <td>HZ250409</td>\n",
              "      <td>05-03-2017 21:40</td>\n",
              "      <td>ROAD ACCIDENTS</td>\n",
              "      <td>RESIDENCE</td>\n",
              "      <td>False</td>\n",
              "      <td>3</td>\n",
              "      <td>20.0</td>\n",
              "      <td>42.0</td>\n",
              "      <td>1183066.0</td>\n",
              "      <td>1864330.0</td>\n",
              "      <td>2017</td>\n",
              "      <td>05-10-2017 15:56</td>\n",
              "      <td>41.782922</td>\n",
              "      <td>-87.604363</td>\n",
              "      <td>(41.782921527, -87.60436317)</td>\n",
              "    </tr>\n",
              "    <tr>\n",
              "      <th>2</th>\n",
              "      <td>10508697</td>\n",
              "      <td>HZ250503</td>\n",
              "      <td>05-03-2017 23:31</td>\n",
              "      <td>PUBLIC PEACE VIOLATION</td>\n",
              "      <td>STREET</td>\n",
              "      <td>False</td>\n",
              "      <td>15</td>\n",
              "      <td>37.0</td>\n",
              "      <td>25.0</td>\n",
              "      <td>1140789.0</td>\n",
              "      <td>1904819.0</td>\n",
              "      <td>2017</td>\n",
              "      <td>05-10-2017 15:56</td>\n",
              "      <td>41.894908</td>\n",
              "      <td>-87.758372</td>\n",
              "      <td>(41.894908283, -87.758371958)</td>\n",
              "    </tr>\n",
              "    <tr>\n",
              "      <th>3</th>\n",
              "      <td>10508698</td>\n",
              "      <td>HZ250424</td>\n",
              "      <td>05-03-2017 22:10</td>\n",
              "      <td>ROAD ACCIDENTS</td>\n",
              "      <td>SIDEWALK</td>\n",
              "      <td>False</td>\n",
              "      <td>15</td>\n",
              "      <td>28.0</td>\n",
              "      <td>25.0</td>\n",
              "      <td>1143223.0</td>\n",
              "      <td>1901475.0</td>\n",
              "      <td>2017</td>\n",
              "      <td>05-10-2017 15:56</td>\n",
              "      <td>41.885687</td>\n",
              "      <td>-87.749516</td>\n",
              "      <td>(41.885686845, -87.749515983)</td>\n",
              "    </tr>\n",
              "    <tr>\n",
              "      <th>4</th>\n",
              "      <td>10508699</td>\n",
              "      <td>HZ250455</td>\n",
              "      <td>05-03-2017 22:00</td>\n",
              "      <td>JEWELS THEFT AND MURDER</td>\n",
              "      <td>RESIDENCE</td>\n",
              "      <td>False</td>\n",
              "      <td>15</td>\n",
              "      <td>28.0</td>\n",
              "      <td>25.0</td>\n",
              "      <td>1139890.0</td>\n",
              "      <td>1901675.0</td>\n",
              "      <td>2017</td>\n",
              "      <td>05-10-2017 15:56</td>\n",
              "      <td>41.886297</td>\n",
              "      <td>-87.761751</td>\n",
              "      <td>(41.886297242, -87.761750709)</td>\n",
              "    </tr>\n",
              "  </tbody>\n",
              "</table>\n",
              "</div>"
            ],
            "text/plain": [
              "         ID Case Number  ...  Longitude                       Location\n",
              "0  10508693    HZ250496  ... -87.706819  (41.864073157, -87.706818608)\n",
              "1  10508695    HZ250409  ... -87.604363   (41.782921527, -87.60436317)\n",
              "2  10508697    HZ250503  ... -87.758372  (41.894908283, -87.758371958)\n",
              "3  10508698    HZ250424  ... -87.749516  (41.885686845, -87.749515983)\n",
              "4  10508699    HZ250455  ... -87.761751  (41.886297242, -87.761750709)\n",
              "\n",
              "[5 rows x 16 columns]"
            ]
          },
          "metadata": {
            "tags": []
          },
          "execution_count": 7
        }
      ]
    },
    {
      "cell_type": "code",
      "metadata": {
        "id": "61yLonkD6X0h",
        "colab_type": "code",
        "colab": {}
      },
      "source": [
        "#dropping unwanted columns"
      ],
      "execution_count": 0,
      "outputs": []
    },
    {
      "cell_type": "code",
      "metadata": {
        "id": "izgF4UIJ6bYP",
        "colab_type": "code",
        "colab": {}
      },
      "source": [
        "data.drop(['Case Number','X Coordinate', 'Y Coordinate','Updated On','Year','Ward','Community Area', 'Location', \n",
        "                 'District', 'Latitude' , 'Longitude'], inplace=True, axis=1)\n"
      ],
      "execution_count": 0,
      "outputs": []
    },
    {
      "cell_type": "code",
      "metadata": {
        "id": "QpDo5yMx6eGb",
        "colab_type": "code",
        "outputId": "cfa7aa09-2f7f-4079-b259-b5acdea32142",
        "colab": {
          "base_uri": "https://localhost:8080/",
          "height": 204
        }
      },
      "source": [
        "data.head()"
      ],
      "execution_count": 0,
      "outputs": [
        {
          "output_type": "execute_result",
          "data": {
            "text/html": [
              "<div>\n",
              "<style scoped>\n",
              "    .dataframe tbody tr th:only-of-type {\n",
              "        vertical-align: middle;\n",
              "    }\n",
              "\n",
              "    .dataframe tbody tr th {\n",
              "        vertical-align: top;\n",
              "    }\n",
              "\n",
              "    .dataframe thead th {\n",
              "        text-align: right;\n",
              "    }\n",
              "</style>\n",
              "<table border=\"1\" class=\"dataframe\">\n",
              "  <thead>\n",
              "    <tr style=\"text-align: right;\">\n",
              "      <th></th>\n",
              "      <th>ID</th>\n",
              "      <th>Date</th>\n",
              "      <th>Type</th>\n",
              "      <th>Location Description</th>\n",
              "      <th>Arrest</th>\n",
              "    </tr>\n",
              "  </thead>\n",
              "  <tbody>\n",
              "    <tr>\n",
              "      <th>0</th>\n",
              "      <td>10508693</td>\n",
              "      <td>05-03-2017 23:40</td>\n",
              "      <td>ROAD ACCIDENTS</td>\n",
              "      <td>APARTMENT</td>\n",
              "      <td>True</td>\n",
              "    </tr>\n",
              "    <tr>\n",
              "      <th>1</th>\n",
              "      <td>10508695</td>\n",
              "      <td>05-03-2017 21:40</td>\n",
              "      <td>ROAD ACCIDENTS</td>\n",
              "      <td>RESIDENCE</td>\n",
              "      <td>False</td>\n",
              "    </tr>\n",
              "    <tr>\n",
              "      <th>2</th>\n",
              "      <td>10508697</td>\n",
              "      <td>05-03-2017 23:31</td>\n",
              "      <td>PUBLIC PEACE VIOLATION</td>\n",
              "      <td>STREET</td>\n",
              "      <td>False</td>\n",
              "    </tr>\n",
              "    <tr>\n",
              "      <th>3</th>\n",
              "      <td>10508698</td>\n",
              "      <td>05-03-2017 22:10</td>\n",
              "      <td>ROAD ACCIDENTS</td>\n",
              "      <td>SIDEWALK</td>\n",
              "      <td>False</td>\n",
              "    </tr>\n",
              "    <tr>\n",
              "      <th>4</th>\n",
              "      <td>10508699</td>\n",
              "      <td>05-03-2017 22:00</td>\n",
              "      <td>JEWELS THEFT AND MURDER</td>\n",
              "      <td>RESIDENCE</td>\n",
              "      <td>False</td>\n",
              "    </tr>\n",
              "  </tbody>\n",
              "</table>\n",
              "</div>"
            ],
            "text/plain": [
              "         ID              Date  ... Location Description Arrest\n",
              "0  10508693  05-03-2017 23:40  ...            APARTMENT   True\n",
              "1  10508695  05-03-2017 21:40  ...            RESIDENCE  False\n",
              "2  10508697  05-03-2017 23:31  ...               STREET  False\n",
              "3  10508698  05-03-2017 22:10  ...             SIDEWALK  False\n",
              "4  10508699  05-03-2017 22:00  ...            RESIDENCE  False\n",
              "\n",
              "[5 rows x 5 columns]"
            ]
          },
          "metadata": {
            "tags": []
          },
          "execution_count": 10
        }
      ]
    },
    {
      "cell_type": "code",
      "metadata": {
        "id": "Q49A9T9K6gQI",
        "colab_type": "code",
        "colab": {}
      },
      "source": [
        "#Assembling a datetime by rearranging the dataframe column \"Date\""
      ],
      "execution_count": 0,
      "outputs": []
    },
    {
      "cell_type": "code",
      "metadata": {
        "id": "yQLKkDYx6kf4",
        "colab_type": "code",
        "outputId": "d85fe4bd-6ecb-46fc-b5ae-ed12aad5da69",
        "colab": {
          "base_uri": "https://localhost:8080/",
          "height": 204
        }
      },
      "source": [
        "data['Date'] = pd.to_datetime(data['Date'].astype(str), errors='coerce')\n",
        "data['Date'] = pd.to_datetime(data['Date'], format = '%d/%m/%Y %H:%M:%S')\n",
        "data.head()"
      ],
      "execution_count": 0,
      "outputs": [
        {
          "output_type": "execute_result",
          "data": {
            "text/html": [
              "<div>\n",
              "<style scoped>\n",
              "    .dataframe tbody tr th:only-of-type {\n",
              "        vertical-align: middle;\n",
              "    }\n",
              "\n",
              "    .dataframe tbody tr th {\n",
              "        vertical-align: top;\n",
              "    }\n",
              "\n",
              "    .dataframe thead th {\n",
              "        text-align: right;\n",
              "    }\n",
              "</style>\n",
              "<table border=\"1\" class=\"dataframe\">\n",
              "  <thead>\n",
              "    <tr style=\"text-align: right;\">\n",
              "      <th></th>\n",
              "      <th>ID</th>\n",
              "      <th>Date</th>\n",
              "      <th>Type</th>\n",
              "      <th>Location Description</th>\n",
              "      <th>Arrest</th>\n",
              "    </tr>\n",
              "  </thead>\n",
              "  <tbody>\n",
              "    <tr>\n",
              "      <th>0</th>\n",
              "      <td>10508693</td>\n",
              "      <td>2017-05-03 23:40:00</td>\n",
              "      <td>ROAD ACCIDENTS</td>\n",
              "      <td>APARTMENT</td>\n",
              "      <td>True</td>\n",
              "    </tr>\n",
              "    <tr>\n",
              "      <th>1</th>\n",
              "      <td>10508695</td>\n",
              "      <td>2017-05-03 21:40:00</td>\n",
              "      <td>ROAD ACCIDENTS</td>\n",
              "      <td>RESIDENCE</td>\n",
              "      <td>False</td>\n",
              "    </tr>\n",
              "    <tr>\n",
              "      <th>2</th>\n",
              "      <td>10508697</td>\n",
              "      <td>2017-05-03 23:31:00</td>\n",
              "      <td>PUBLIC PEACE VIOLATION</td>\n",
              "      <td>STREET</td>\n",
              "      <td>False</td>\n",
              "    </tr>\n",
              "    <tr>\n",
              "      <th>3</th>\n",
              "      <td>10508698</td>\n",
              "      <td>2017-05-03 22:10:00</td>\n",
              "      <td>ROAD ACCIDENTS</td>\n",
              "      <td>SIDEWALK</td>\n",
              "      <td>False</td>\n",
              "    </tr>\n",
              "    <tr>\n",
              "      <th>4</th>\n",
              "      <td>10508699</td>\n",
              "      <td>2017-05-03 22:00:00</td>\n",
              "      <td>JEWELS THEFT AND MURDER</td>\n",
              "      <td>RESIDENCE</td>\n",
              "      <td>False</td>\n",
              "    </tr>\n",
              "  </tbody>\n",
              "</table>\n",
              "</div>"
            ],
            "text/plain": [
              "         ID                Date  ... Location Description Arrest\n",
              "0  10508693 2017-05-03 23:40:00  ...            APARTMENT   True\n",
              "1  10508695 2017-05-03 21:40:00  ...            RESIDENCE  False\n",
              "2  10508697 2017-05-03 23:31:00  ...               STREET  False\n",
              "3  10508698 2017-05-03 22:10:00  ...             SIDEWALK  False\n",
              "4  10508699 2017-05-03 22:00:00  ...            RESIDENCE  False\n",
              "\n",
              "[5 rows x 5 columns]"
            ]
          },
          "metadata": {
            "tags": []
          },
          "execution_count": 12
        }
      ]
    },
    {
      "cell_type": "code",
      "metadata": {
        "id": "7mw_ydtT6ptK",
        "colab_type": "code",
        "colab": {}
      },
      "source": [
        "#setting the index to be the date"
      ],
      "execution_count": 0,
      "outputs": []
    },
    {
      "cell_type": "code",
      "metadata": {
        "id": "hBsZFYov6qkZ",
        "colab_type": "code",
        "outputId": "8fd15dbd-a67c-4403-adeb-77555e9a68b8",
        "colab": {
          "base_uri": "https://localhost:8080/",
          "height": 235
        }
      },
      "source": [
        "data.index = pd.DatetimeIndex(data.Date)\n",
        "data.head()"
      ],
      "execution_count": 0,
      "outputs": [
        {
          "output_type": "execute_result",
          "data": {
            "text/html": [
              "<div>\n",
              "<style scoped>\n",
              "    .dataframe tbody tr th:only-of-type {\n",
              "        vertical-align: middle;\n",
              "    }\n",
              "\n",
              "    .dataframe tbody tr th {\n",
              "        vertical-align: top;\n",
              "    }\n",
              "\n",
              "    .dataframe thead th {\n",
              "        text-align: right;\n",
              "    }\n",
              "</style>\n",
              "<table border=\"1\" class=\"dataframe\">\n",
              "  <thead>\n",
              "    <tr style=\"text-align: right;\">\n",
              "      <th></th>\n",
              "      <th>ID</th>\n",
              "      <th>Date</th>\n",
              "      <th>Type</th>\n",
              "      <th>Location Description</th>\n",
              "      <th>Arrest</th>\n",
              "    </tr>\n",
              "    <tr>\n",
              "      <th>Date</th>\n",
              "      <th></th>\n",
              "      <th></th>\n",
              "      <th></th>\n",
              "      <th></th>\n",
              "      <th></th>\n",
              "    </tr>\n",
              "  </thead>\n",
              "  <tbody>\n",
              "    <tr>\n",
              "      <th>2017-05-03 23:40:00</th>\n",
              "      <td>10508693</td>\n",
              "      <td>2017-05-03 23:40:00</td>\n",
              "      <td>ROAD ACCIDENTS</td>\n",
              "      <td>APARTMENT</td>\n",
              "      <td>True</td>\n",
              "    </tr>\n",
              "    <tr>\n",
              "      <th>2017-05-03 21:40:00</th>\n",
              "      <td>10508695</td>\n",
              "      <td>2017-05-03 21:40:00</td>\n",
              "      <td>ROAD ACCIDENTS</td>\n",
              "      <td>RESIDENCE</td>\n",
              "      <td>False</td>\n",
              "    </tr>\n",
              "    <tr>\n",
              "      <th>2017-05-03 23:31:00</th>\n",
              "      <td>10508697</td>\n",
              "      <td>2017-05-03 23:31:00</td>\n",
              "      <td>PUBLIC PEACE VIOLATION</td>\n",
              "      <td>STREET</td>\n",
              "      <td>False</td>\n",
              "    </tr>\n",
              "    <tr>\n",
              "      <th>2017-05-03 22:10:00</th>\n",
              "      <td>10508698</td>\n",
              "      <td>2017-05-03 22:10:00</td>\n",
              "      <td>ROAD ACCIDENTS</td>\n",
              "      <td>SIDEWALK</td>\n",
              "      <td>False</td>\n",
              "    </tr>\n",
              "    <tr>\n",
              "      <th>2017-05-03 22:00:00</th>\n",
              "      <td>10508699</td>\n",
              "      <td>2017-05-03 22:00:00</td>\n",
              "      <td>JEWELS THEFT AND MURDER</td>\n",
              "      <td>RESIDENCE</td>\n",
              "      <td>False</td>\n",
              "    </tr>\n",
              "  </tbody>\n",
              "</table>\n",
              "</div>"
            ],
            "text/plain": [
              "                           ID                Date  ... Location Description Arrest\n",
              "Date                                               ...                            \n",
              "2017-05-03 23:40:00  10508693 2017-05-03 23:40:00  ...            APARTMENT   True\n",
              "2017-05-03 21:40:00  10508695 2017-05-03 21:40:00  ...            RESIDENCE  False\n",
              "2017-05-03 23:31:00  10508697 2017-05-03 23:31:00  ...               STREET  False\n",
              "2017-05-03 22:10:00  10508698 2017-05-03 22:10:00  ...             SIDEWALK  False\n",
              "2017-05-03 22:00:00  10508699 2017-05-03 22:00:00  ...            RESIDENCE  False\n",
              "\n",
              "[5 rows x 5 columns]"
            ]
          },
          "metadata": {
            "tags": []
          },
          "execution_count": 14
        }
      ]
    },
    {
      "cell_type": "code",
      "metadata": {
        "id": "A4j1QD0g6uLK",
        "colab_type": "code",
        "colab": {}
      },
      "source": [
        "#Crime type and their counts"
      ],
      "execution_count": 0,
      "outputs": []
    },
    {
      "cell_type": "code",
      "metadata": {
        "id": "PsAjJkXF6xnM",
        "colab_type": "code",
        "outputId": "1d8e098f-8ff0-4543-a8f6-8b51b725ad9f",
        "colab": {
          "base_uri": "https://localhost:8080/",
          "height": 544
        }
      },
      "source": [
        "data['Type'].value_counts()"
      ],
      "execution_count": 0,
      "outputs": [
        {
          "output_type": "execute_result",
          "data": {
            "text/plain": [
              "JEWELS THEFT AND MURDER              109721\n",
              "ROAD ACCIDENTS                        89025\n",
              "NARCOTICS                             53952\n",
              "CRIMINAL DAMAGE                       52571\n",
              "ROBBERY                               43424\n",
              "BURGLARY                              31493\n",
              "ASSAULT                               30364\n",
              "OTHER OFFENSE                         28377\n",
              "DECEPTIVE PRACTICE                    21939\n",
              "CRIMINAL TRESPASS                     12833\n",
              "WEAPONS VIOLATION                      5889\n",
              "PUBLIC PEACE VIOLATION                 4558\n",
              "OFFENSE INVOLVING CHILDREN             3614\n",
              "PROSTITUTION                           3250\n",
              "CRIM SEXUAL ASSAULT                    2082\n",
              "INTERFERENCE WITH PUBLIC OFFICER       1994\n",
              "SEX OFFENSE                            1523\n",
              "GAMBLING                                829\n",
              "LIQUOR LAW VIOLATION                    813\n",
              "ARSON                                   699\n",
              "KIDNAPPING                              364\n",
              "STALKING                                290\n",
              "INTIMIDATION                            230\n",
              "HOMICIDE                                 70\n",
              "DACOITY                                  45\n",
              "PUBLIC INDECENCY                         23\n",
              "NON-CRIMINAL                             12\n",
              "OTHER NARCOTIC VIOLATION                  7\n",
              "CONCEALED CARRY LICENSE VIOLATION         4\n",
              "HUMAN TRAFFICKING                         4\n",
              "Name: Type, dtype: int64"
            ]
          },
          "metadata": {
            "tags": []
          },
          "execution_count": 16
        }
      ]
    },
    {
      "cell_type": "code",
      "metadata": {
        "id": "EmZlI6_l60QQ",
        "colab_type": "code",
        "colab": {}
      },
      "source": [
        "#taking top 15 crime types and their counts"
      ],
      "execution_count": 0,
      "outputs": []
    },
    {
      "cell_type": "code",
      "metadata": {
        "id": "TBOFdbK3632F",
        "colab_type": "code",
        "outputId": "8146fab1-25b5-4c3e-ed03-f93acd182010",
        "colab": {
          "base_uri": "https://localhost:8080/",
          "height": 289
        }
      },
      "source": [
        "data['Type'].value_counts().iloc[:15]"
      ],
      "execution_count": 0,
      "outputs": [
        {
          "output_type": "execute_result",
          "data": {
            "text/plain": [
              "JEWELS THEFT AND MURDER       109721\n",
              "ROAD ACCIDENTS                 89025\n",
              "NARCOTICS                      53952\n",
              "CRIMINAL DAMAGE                52571\n",
              "ROBBERY                        43424\n",
              "BURGLARY                       31493\n",
              "ASSAULT                        30364\n",
              "OTHER OFFENSE                  28377\n",
              "DECEPTIVE PRACTICE             21939\n",
              "CRIMINAL TRESPASS              12833\n",
              "WEAPONS VIOLATION               5889\n",
              "PUBLIC PEACE VIOLATION          4558\n",
              "OFFENSE INVOLVING CHILDREN      3614\n",
              "PROSTITUTION                    3250\n",
              "CRIM SEXUAL ASSAULT             2082\n",
              "Name: Type, dtype: int64"
            ]
          },
          "metadata": {
            "tags": []
          },
          "execution_count": 19
        }
      ]
    },
    {
      "cell_type": "code",
      "metadata": {
        "id": "iX4wvqn67Cwx",
        "colab_type": "code",
        "colab": {}
      },
      "source": [
        "#indexing the top 15 crimes"
      ],
      "execution_count": 0,
      "outputs": []
    },
    {
      "cell_type": "code",
      "metadata": {
        "id": "ihA7kSaV7F7p",
        "colab_type": "code",
        "outputId": "ebefc3ab-0b0b-4090-f176-68d983d6edee",
        "colab": {
          "base_uri": "https://localhost:8080/",
          "height": 119
        }
      },
      "source": [
        "data['Type'].value_counts().iloc[:15].index"
      ],
      "execution_count": 0,
      "outputs": [
        {
          "output_type": "execute_result",
          "data": {
            "text/plain": [
              "Index(['JEWELS THEFT AND MURDER', 'ROAD ACCIDENTS', 'NARCOTICS',\n",
              "       'CRIMINAL DAMAGE', 'ROBBERY', 'BURGLARY', 'ASSAULT', 'OTHER OFFENSE',\n",
              "       'DECEPTIVE PRACTICE', 'CRIMINAL TRESPASS', 'WEAPONS VIOLATION',\n",
              "       'PUBLIC PEACE VIOLATION', 'OFFENSE INVOLVING CHILDREN', 'PROSTITUTION',\n",
              "       'CRIM SEXUAL ASSAULT'],\n",
              "      dtype='object')"
            ]
          },
          "metadata": {
            "tags": []
          },
          "execution_count": 22
        }
      ]
    },
    {
      "cell_type": "code",
      "metadata": {
        "id": "WLFiehrB7IwK",
        "colab_type": "code",
        "colab": {}
      },
      "source": [
        "#plotting the crime types"
      ],
      "execution_count": 0,
      "outputs": []
    },
    {
      "cell_type": "code",
      "metadata": {
        "id": "pSMpontU7Ljn",
        "colab_type": "code",
        "outputId": "9082639a-ccfc-448b-bac3-582e5525a38c",
        "colab": {
          "base_uri": "https://localhost:8080/",
          "height": 574
        }
      },
      "source": [
        "plt.figure(figsize = (15, 10))\n",
        "sns.countplot(y= 'Type', data = data, \n",
        "              order = data['Type'].value_counts().iloc[:15].index)\n"
      ],
      "execution_count": 0,
      "outputs": [
        {
          "output_type": "execute_result",
          "data": {
            "text/plain": [
              "<matplotlib.axes._subplots.AxesSubplot at 0x7fa027cf0470>"
            ]
          },
          "metadata": {
            "tags": []
          },
          "execution_count": 24
        },
        {
          "output_type": "display_data",
          "data": {
            "image/png": "[encoded data removed]",
            "text/plain": [
              "<Figure size 1080x720 with 1 Axes>"
            ]
          },
          "metadata": {
            "tags": [],
            "needs_background": "light"
          }
        }
      ]
    },
    {
      "cell_type": "code",
      "metadata": {
        "id": "nzVNQZiU7OSN",
        "colab_type": "code",
        "colab": {}
      },
      "source": [
        "#plotting  the location"
      ],
      "execution_count": 0,
      "outputs": []
    },
    {
      "cell_type": "code",
      "metadata": {
        "id": "bBvYX4RL7Rpv",
        "colab_type": "code",
        "outputId": "38d58fbd-8679-4016-f07b-c30f09b392cc",
        "colab": {
          "base_uri": "https://localhost:8080/",
          "height": 583
        }
      },
      "source": [
        "plt.figure(figsize = (15, 10))\n",
        "sns.countplot(y= 'Location Description', data = data, \n",
        "              order = data['Location Description'].value_counts().iloc[:15].index)\n"
      ],
      "execution_count": 0,
      "outputs": [
        {
          "output_type": "execute_result",
          "data": {
            "text/plain": [
              "<matplotlib.axes._subplots.AxesSubplot at 0x7fa027c13630>"
            ]
          },
          "metadata": {
            "tags": []
          },
          "execution_count": 26
        },
        {
          "output_type": "display_data",
          "data": {
            "image/png": "[encoded data removed]",
            "text/plain": [
              "<Figure size 1080x720 with 1 Axes>"
            ]
          },
          "metadata": {
            "tags": [],
            "needs_background": "light"
          }
        }
      ]
    },
    {
      "cell_type": "code",
      "metadata": {
        "id": "IN6xlcSk7UTP",
        "colab_type": "code",
        "colab": {}
      },
      "source": [
        "#From above graph,we can see that jewels theft and murder has the highest value compared to other crimes.\n",
        "#So we are grouping only jewels theft and murder crime from rest of the crime types and making a forecast for next two years!"
      ],
      "execution_count": 0,
      "outputs": []
    },
    {
      "cell_type": "code",
      "metadata": {
        "id": "Ky0qy6cM8OAf",
        "colab_type": "code",
        "colab": {}
      },
      "source": [
        "Groups = data.groupby(data['Type'])\n",
        "Groups = dict(list(Groups))\n",
        "theft_data = [Groups['JEWELS THEFT AND MURDER']]\n",
        "theft_data = pd.concat(theft_data, axis = 0)\n",
        "del Groups\n",
        "del data"
      ],
      "execution_count": 0,
      "outputs": []
    },
    {
      "cell_type": "code",
      "metadata": {
        "id": "tn2WxwAT8QuZ",
        "colab_type": "code",
        "colab": {}
      },
      "source": [
        "#datasets containing only jewels theft and murder crime records"
      ],
      "execution_count": 0,
      "outputs": []
    },
    {
      "cell_type": "code",
      "metadata": {
        "id": "zIQlAWtW8UeJ",
        "colab_type": "code",
        "outputId": "131b5ff3-45f9-40f7-dc0d-e126d7687087",
        "colab": {
          "base_uri": "https://localhost:8080/",
          "height": 235
        }
      },
      "source": [
        "theft_data.head(5)"
      ],
      "execution_count": 0,
      "outputs": [
        {
          "output_type": "execute_result",
          "data": {
            "text/html": [
              "<div>\n",
              "<style scoped>\n",
              "    .dataframe tbody tr th:only-of-type {\n",
              "        vertical-align: middle;\n",
              "    }\n",
              "\n",
              "    .dataframe tbody tr th {\n",
              "        vertical-align: top;\n",
              "    }\n",
              "\n",
              "    .dataframe thead th {\n",
              "        text-align: right;\n",
              "    }\n",
              "</style>\n",
              "<table border=\"1\" class=\"dataframe\">\n",
              "  <thead>\n",
              "    <tr style=\"text-align: right;\">\n",
              "      <th></th>\n",
              "      <th>ID</th>\n",
              "      <th>Date</th>\n",
              "      <th>Type</th>\n",
              "      <th>Location Description</th>\n",
              "      <th>Arrest</th>\n",
              "    </tr>\n",
              "    <tr>\n",
              "      <th>Date</th>\n",
              "      <th></th>\n",
              "      <th></th>\n",
              "      <th></th>\n",
              "      <th></th>\n",
              "      <th></th>\n",
              "    </tr>\n",
              "  </thead>\n",
              "  <tbody>\n",
              "    <tr>\n",
              "      <th>2017-05-03 22:00:00</th>\n",
              "      <td>10508699</td>\n",
              "      <td>2017-05-03 22:00:00</td>\n",
              "      <td>JEWELS THEFT AND MURDER</td>\n",
              "      <td>RESIDENCE</td>\n",
              "      <td>False</td>\n",
              "    </tr>\n",
              "    <tr>\n",
              "      <th>2017-05-03 17:30:00</th>\n",
              "      <td>10508717</td>\n",
              "      <td>2017-05-03 17:30:00</td>\n",
              "      <td>JEWELS THEFT AND MURDER</td>\n",
              "      <td>OTHER</td>\n",
              "      <td>False</td>\n",
              "    </tr>\n",
              "    <tr>\n",
              "      <th>2017-05-03 09:00:00</th>\n",
              "      <td>10508724</td>\n",
              "      <td>2017-05-03 09:00:00</td>\n",
              "      <td>JEWELS THEFT AND MURDER</td>\n",
              "      <td>STREET</td>\n",
              "      <td>False</td>\n",
              "    </tr>\n",
              "    <tr>\n",
              "      <th>2017-05-03 22:08:00</th>\n",
              "      <td>10508728</td>\n",
              "      <td>2017-05-03 22:08:00</td>\n",
              "      <td>JEWELS THEFT AND MURDER</td>\n",
              "      <td>STREET</td>\n",
              "      <td>False</td>\n",
              "    </tr>\n",
              "    <tr>\n",
              "      <th>2017-05-03 21:45:00</th>\n",
              "      <td>10508738</td>\n",
              "      <td>2017-05-03 21:45:00</td>\n",
              "      <td>JEWELS THEFT AND MURDER</td>\n",
              "      <td>STREET</td>\n",
              "      <td>False</td>\n",
              "    </tr>\n",
              "  </tbody>\n",
              "</table>\n",
              "</div>"
            ],
            "text/plain": [
              "                           ID                Date  ... Location Description Arrest\n",
              "Date                                               ...                            \n",
              "2017-05-03 22:00:00  10508699 2017-05-03 22:00:00  ...            RESIDENCE  False\n",
              "2017-05-03 17:30:00  10508717 2017-05-03 17:30:00  ...                OTHER  False\n",
              "2017-05-03 09:00:00  10508724 2017-05-03 09:00:00  ...               STREET  False\n",
              "2017-05-03 22:08:00  10508728 2017-05-03 22:08:00  ...               STREET  False\n",
              "2017-05-03 21:45:00  10508738 2017-05-03 21:45:00  ...               STREET  False\n",
              "\n",
              "[5 rows x 5 columns]"
            ]
          },
          "metadata": {
            "tags": []
          },
          "execution_count": 30
        }
      ]
    },
    {
      "cell_type": "code",
      "metadata": {
        "id": "umHE3xEs8WsV",
        "colab_type": "code",
        "colab": {}
      },
      "source": [
        "#resampling the datasets year wise"
      ],
      "execution_count": 0,
      "outputs": []
    },
    {
      "cell_type": "code",
      "metadata": {
        "id": "R-jEFbPB8ava",
        "colab_type": "code",
        "outputId": "3ff89903-ef99-494c-cb8e-98f82175957a",
        "colab": {
          "base_uri": "https://localhost:8080/",
          "height": 153
        }
      },
      "source": [
        "theft_data.resample('Y').size()"
      ],
      "execution_count": 0,
      "outputs": [
        {
          "output_type": "execute_result",
          "data": {
            "text/plain": [
              "Date\n",
              "2014-12-31      881\n",
              "2015-12-31     9646\n",
              "2016-12-31     4991\n",
              "2017-12-31       49\n",
              "2018-12-31    74760\n",
              "2019-12-31    19222\n",
              "dtype: int64"
            ]
          },
          "metadata": {
            "tags": []
          },
          "execution_count": 32
        }
      ]
    },
    {
      "cell_type": "code",
      "metadata": {
        "id": "WfJi7jji8dCg",
        "colab_type": "code",
        "colab": {}
      },
      "source": [
        "#plotting crime count per year "
      ],
      "execution_count": 0,
      "outputs": []
    },
    {
      "cell_type": "code",
      "metadata": {
        "id": "UCQvz0Eb8hlx",
        "colab_type": "code",
        "outputId": "60a32b34-c78c-4dfe-9640-583465747e6d",
        "colab": {
          "base_uri": "https://localhost:8080/",
          "height": 312
        }
      },
      "source": [
        "plt.plot(theft_data.resample('Y').size())\n",
        "plt.title('Crime Count Per Year')\n",
        "plt.xlabel('Years')\n",
        "plt.ylabel('Number of Jewels theft and murder Crimes')"
      ],
      "execution_count": 0,
      "outputs": [
        {
          "output_type": "execute_result",
          "data": {
            "text/plain": [
              "Text(0, 0.5, 'Number of Jewels theft and murder Crimes')"
            ]
          },
          "metadata": {
            "tags": []
          },
          "execution_count": 35
        },
        {
          "output_type": "display_data",
          "data": {
            "image/png": "[encoded data removed]",
            "text/plain": [
              "<Figure size 432x288 with 1 Axes>"
            ]
          },
          "metadata": {
            "tags": [],
            "needs_background": "light"
          }
        }
      ]
    },
    {
      "cell_type": "code",
      "metadata": {
        "id": "-hUGRdZm8vpR",
        "colab_type": "code",
        "colab": {}
      },
      "source": [
        "#grouping the data into monthly records\n",
        "#the datasets contain date and crime count per month columns"
      ],
      "execution_count": 0,
      "outputs": []
    },
    {
      "cell_type": "code",
      "metadata": {
        "id": "2lLhatq-9DCG",
        "colab_type": "code",
        "outputId": "5bc7f2e2-d846-4f98-f632-4df77bbf0698",
        "colab": {
          "base_uri": "https://localhost:8080/",
          "height": 204
        }
      },
      "source": [
        "theft_prophet = theft_data.resample('M').size().reset_index()\n",
        "theft_prophet.columns = ['Date', 'Crime Count']\n",
        "theft_prophet.head()"
      ],
      "execution_count": 0,
      "outputs": [
        {
          "output_type": "execute_result",
          "data": {
            "text/html": [
              "<div>\n",
              "<style scoped>\n",
              "    .dataframe tbody tr th:only-of-type {\n",
              "        vertical-align: middle;\n",
              "    }\n",
              "\n",
              "    .dataframe tbody tr th {\n",
              "        vertical-align: top;\n",
              "    }\n",
              "\n",
              "    .dataframe thead th {\n",
              "        text-align: right;\n",
              "    }\n",
              "</style>\n",
              "<table border=\"1\" class=\"dataframe\">\n",
              "  <thead>\n",
              "    <tr style=\"text-align: right;\">\n",
              "      <th></th>\n",
              "      <th>Date</th>\n",
              "      <th>Crime Count</th>\n",
              "    </tr>\n",
              "  </thead>\n",
              "  <tbody>\n",
              "    <tr>\n",
              "      <th>0</th>\n",
              "      <td>2014-01-31</td>\n",
              "      <td>12</td>\n",
              "    </tr>\n",
              "    <tr>\n",
              "      <th>1</th>\n",
              "      <td>2014-02-28</td>\n",
              "      <td>10</td>\n",
              "    </tr>\n",
              "    <tr>\n",
              "      <th>2</th>\n",
              "      <td>2014-03-31</td>\n",
              "      <td>17</td>\n",
              "    </tr>\n",
              "    <tr>\n",
              "      <th>3</th>\n",
              "      <td>2014-04-30</td>\n",
              "      <td>56</td>\n",
              "    </tr>\n",
              "    <tr>\n",
              "      <th>4</th>\n",
              "      <td>2014-05-31</td>\n",
              "      <td>77</td>\n",
              "    </tr>\n",
              "  </tbody>\n",
              "</table>\n",
              "</div>"
            ],
            "text/plain": [
              "        Date  Crime Count\n",
              "0 2014-01-31           12\n",
              "1 2014-02-28           10\n",
              "2 2014-03-31           17\n",
              "3 2014-04-30           56\n",
              "4 2014-05-31           77"
            ]
          },
          "metadata": {
            "tags": []
          },
          "execution_count": 43
        }
      ]
    },
    {
      "cell_type": "code",
      "metadata": {
        "id": "duREaoiI9UrW",
        "colab_type": "code",
        "colab": {}
      },
      "source": [
        "#dataframe"
      ],
      "execution_count": 0,
      "outputs": []
    },
    {
      "cell_type": "code",
      "metadata": {
        "id": "FekabNMK9VrR",
        "colab_type": "code",
        "outputId": "e03f9e80-fcb3-4e28-e12a-cb1073c222f4",
        "colab": {
          "base_uri": "https://localhost:8080/",
          "height": 34
        }
      },
      "source": [
        "theft_prophet_df = pd.DataFrame(theft_prophet)\n",
        "theft_prophet_df.columns"
      ],
      "execution_count": 0,
      "outputs": [
        {
          "output_type": "execute_result",
          "data": {
            "text/plain": [
              "Index(['Date', 'Crime Count'], dtype='object')"
            ]
          },
          "metadata": {
            "tags": []
          },
          "execution_count": 45
        }
      ]
    },
    {
      "cell_type": "code",
      "metadata": {
        "id": "D5PEiZeW9X-U",
        "colab_type": "code",
        "colab": {}
      },
      "source": [
        "#renaming the date column as ds and crime count column as y for timeseries forecasting"
      ],
      "execution_count": 0,
      "outputs": []
    },
    {
      "cell_type": "code",
      "metadata": {
        "id": "TReVffSo9c0X",
        "colab_type": "code",
        "outputId": "2f0743ef-feee-465f-856a-ea1b4703785d",
        "colab": {
          "base_uri": "https://localhost:8080/",
          "height": 204
        }
      },
      "source": [
        "theft_prophet_data = theft_prophet_df.rename(columns={'Date':'ds', 'Crime Count':'y'})\n",
        "theft_prophet_data.head()"
      ],
      "execution_count": 0,
      "outputs": [
        {
          "output_type": "execute_result",
          "data": {
            "text/html": [
              "<div>\n",
              "<style scoped>\n",
              "    .dataframe tbody tr th:only-of-type {\n",
              "        vertical-align: middle;\n",
              "    }\n",
              "\n",
              "    .dataframe tbody tr th {\n",
              "        vertical-align: top;\n",
              "    }\n",
              "\n",
              "    .dataframe thead th {\n",
              "        text-align: right;\n",
              "    }\n",
              "</style>\n",
              "<table border=\"1\" class=\"dataframe\">\n",
              "  <thead>\n",
              "    <tr style=\"text-align: right;\">\n",
              "      <th></th>\n",
              "      <th>ds</th>\n",
              "      <th>y</th>\n",
              "    </tr>\n",
              "  </thead>\n",
              "  <tbody>\n",
              "    <tr>\n",
              "      <th>0</th>\n",
              "      <td>2014-01-31</td>\n",
              "      <td>12</td>\n",
              "    </tr>\n",
              "    <tr>\n",
              "      <th>1</th>\n",
              "      <td>2014-02-28</td>\n",
              "      <td>10</td>\n",
              "    </tr>\n",
              "    <tr>\n",
              "      <th>2</th>\n",
              "      <td>2014-03-31</td>\n",
              "      <td>17</td>\n",
              "    </tr>\n",
              "    <tr>\n",
              "      <th>3</th>\n",
              "      <td>2014-04-30</td>\n",
              "      <td>56</td>\n",
              "    </tr>\n",
              "    <tr>\n",
              "      <th>4</th>\n",
              "      <td>2014-05-31</td>\n",
              "      <td>77</td>\n",
              "    </tr>\n",
              "  </tbody>\n",
              "</table>\n",
              "</div>"
            ],
            "text/plain": [
              "          ds   y\n",
              "0 2014-01-31  12\n",
              "1 2014-02-28  10\n",
              "2 2014-03-31  17\n",
              "3 2014-04-30  56\n",
              "4 2014-05-31  77"
            ]
          },
          "metadata": {
            "tags": []
          },
          "execution_count": 47
        }
      ]
    },
    {
      "cell_type": "code",
      "metadata": {
        "id": "qQyhTaSx9fPU",
        "colab_type": "code",
        "colab": {}
      },
      "source": [
        "#Time Series Forecasting"
      ],
      "execution_count": 0,
      "outputs": []
    },
    {
      "cell_type": "code",
      "metadata": {
        "id": "0gAjGaSZ9jj9",
        "colab_type": "code",
        "colab": {}
      },
      "source": [
        "#Model Initialize"
      ],
      "execution_count": 0,
      "outputs": []
    },
    {
      "cell_type": "code",
      "metadata": {
        "id": "JczrEam89l43",
        "colab_type": "code",
        "colab": {}
      },
      "source": [
        "from fbprophet import Prophet\n",
        "m = Prophet()"
      ],
      "execution_count": 0,
      "outputs": []
    },
    {
      "cell_type": "code",
      "metadata": {
        "id": "kG5jtFkz9pZE",
        "colab_type": "code",
        "colab": {}
      },
      "source": [
        "#adding weekly predictions"
      ],
      "execution_count": 0,
      "outputs": []
    },
    {
      "cell_type": "code",
      "metadata": {
        "id": "5bUX5Kq39ruL",
        "colab_type": "code",
        "outputId": "261c0dc1-bce8-41e0-c3d1-78f7903e392f",
        "colab": {
          "base_uri": "https://localhost:8080/",
          "height": 34
        }
      },
      "source": [
        "m.add_seasonality(name=\"weekly\",period=7,fourier_order=5)"
      ],
      "execution_count": 0,
      "outputs": [
        {
          "output_type": "execute_result",
          "data": {
            "text/plain": [
              "<fbprophet.forecaster.Prophet at 0x7fa0275ee208>"
            ]
          },
          "metadata": {
            "tags": []
          },
          "execution_count": 52
        }
      ]
    },
    {
      "cell_type": "code",
      "metadata": {
        "id": "Lv7iLCMW9uyw",
        "colab_type": "code",
        "colab": {}
      },
      "source": [
        "#dataset shape"
      ],
      "execution_count": 0,
      "outputs": []
    },
    {
      "cell_type": "code",
      "metadata": {
        "id": "62azZlG69x9J",
        "colab_type": "code",
        "outputId": "3cbf8bb6-5009-40f8-bf2f-e1a6bce9c90e",
        "colab": {
          "base_uri": "https://localhost:8080/",
          "height": 34
        }
      },
      "source": [
        "theft_prophet_data.shape"
      ],
      "execution_count": 0,
      "outputs": [
        {
          "output_type": "execute_result",
          "data": {
            "text/plain": [
              "(72, 2)"
            ]
          },
          "metadata": {
            "tags": []
          },
          "execution_count": 54
        }
      ]
    },
    {
      "cell_type": "code",
      "metadata": {
        "id": "uGx3vUuh90wM",
        "colab_type": "code",
        "colab": {}
      },
      "source": [
        "#Splitting the datasets into train and test"
      ],
      "execution_count": 0,
      "outputs": []
    },
    {
      "cell_type": "code",
      "metadata": {
        "id": "F6PIfCA294mN",
        "colab_type": "code",
        "colab": {}
      },
      "source": [
        "train = theft_prophet_data[:62]\n",
        "test = theft_prophet_data[62:]"
      ],
      "execution_count": 0,
      "outputs": []
    },
    {
      "cell_type": "code",
      "metadata": {
        "id": "UNCm_4rH99OO",
        "colab_type": "code",
        "colab": {}
      },
      "source": [
        "#train dataset"
      ],
      "execution_count": 0,
      "outputs": []
    },
    {
      "cell_type": "code",
      "metadata": {
        "id": "dvGlWMID-CwM",
        "colab_type": "code",
        "outputId": "75d02235-04db-4849-8a80-1b604b626a64",
        "colab": {
          "base_uri": "https://localhost:8080/",
          "height": 419
        }
      },
      "source": [
        "train"
      ],
      "execution_count": 0,
      "outputs": [
        {
          "output_type": "execute_result",
          "data": {
            "text/html": [
              "<div>\n",
              "<style scoped>\n",
              "    .dataframe tbody tr th:only-of-type {\n",
              "        vertical-align: middle;\n",
              "    }\n",
              "\n",
              "    .dataframe tbody tr th {\n",
              "        vertical-align: top;\n",
              "    }\n",
              "\n",
              "    .dataframe thead th {\n",
              "        text-align: right;\n",
              "    }\n",
              "</style>\n",
              "<table border=\"1\" class=\"dataframe\">\n",
              "  <thead>\n",
              "    <tr style=\"text-align: right;\">\n",
              "      <th></th>\n",
              "      <th>ds</th>\n",
              "      <th>y</th>\n",
              "    </tr>\n",
              "  </thead>\n",
              "  <tbody>\n",
              "    <tr>\n",
              "      <th>0</th>\n",
              "      <td>2014-01-31</td>\n",
              "      <td>12</td>\n",
              "    </tr>\n",
              "    <tr>\n",
              "      <th>1</th>\n",
              "      <td>2014-02-28</td>\n",
              "      <td>10</td>\n",
              "    </tr>\n",
              "    <tr>\n",
              "      <th>2</th>\n",
              "      <td>2014-03-31</td>\n",
              "      <td>17</td>\n",
              "    </tr>\n",
              "    <tr>\n",
              "      <th>3</th>\n",
              "      <td>2014-04-30</td>\n",
              "      <td>56</td>\n",
              "    </tr>\n",
              "    <tr>\n",
              "      <th>4</th>\n",
              "      <td>2014-05-31</td>\n",
              "      <td>77</td>\n",
              "    </tr>\n",
              "    <tr>\n",
              "      <th>...</th>\n",
              "      <td>...</td>\n",
              "      <td>...</td>\n",
              "    </tr>\n",
              "    <tr>\n",
              "      <th>57</th>\n",
              "      <td>2018-10-31</td>\n",
              "      <td>6348</td>\n",
              "    </tr>\n",
              "    <tr>\n",
              "      <th>58</th>\n",
              "      <td>2018-11-30</td>\n",
              "      <td>6010</td>\n",
              "    </tr>\n",
              "    <tr>\n",
              "      <th>59</th>\n",
              "      <td>2018-12-31</td>\n",
              "      <td>5780</td>\n",
              "    </tr>\n",
              "    <tr>\n",
              "      <th>60</th>\n",
              "      <td>2019-01-31</td>\n",
              "      <td>5292</td>\n",
              "    </tr>\n",
              "    <tr>\n",
              "      <th>61</th>\n",
              "      <td>2019-02-28</td>\n",
              "      <td>4386</td>\n",
              "    </tr>\n",
              "  </tbody>\n",
              "</table>\n",
              "<p>62 rows × 2 columns</p>\n",
              "</div>"
            ],
            "text/plain": [
              "           ds     y\n",
              "0  2014-01-31    12\n",
              "1  2014-02-28    10\n",
              "2  2014-03-31    17\n",
              "3  2014-04-30    56\n",
              "4  2014-05-31    77\n",
              "..        ...   ...\n",
              "57 2018-10-31  6348\n",
              "58 2018-11-30  6010\n",
              "59 2018-12-31  5780\n",
              "60 2019-01-31  5292\n",
              "61 2019-02-28  4386\n",
              "\n",
              "[62 rows x 2 columns]"
            ]
          },
          "metadata": {
            "tags": []
          },
          "execution_count": 59
        }
      ]
    },
    {
      "cell_type": "code",
      "metadata": {
        "id": "Dw8v3CaD-E5D",
        "colab_type": "code",
        "colab": {}
      },
      "source": [
        "#fit model"
      ],
      "execution_count": 0,
      "outputs": []
    },
    {
      "cell_type": "code",
      "metadata": {
        "id": "jHJfcdHw-H0O",
        "colab_type": "code",
        "outputId": "cfd5b0e2-5284-4e65-90f1-370b6b8bc6ad",
        "colab": {
          "base_uri": "https://localhost:8080/",
          "height": 85
        }
      },
      "source": [
        "m.fit(train)"
      ],
      "execution_count": 0,
      "outputs": [
        {
          "output_type": "stream",
          "text": [
            "INFO:numexpr.utils:NumExpr defaulting to 2 threads.\n",
            "INFO:fbprophet:Found custom seasonality named 'weekly', disabling built-in 'weekly' seasonality.\n",
            "INFO:fbprophet:Disabling daily seasonality. Run prophet with daily_seasonality=True to override this.\n"
          ],
          "name": "stderr"
        },
        {
          "output_type": "execute_result",
          "data": {
            "text/plain": [
              "<fbprophet.forecaster.Prophet at 0x7fa0275ee208>"
            ]
          },
          "metadata": {
            "tags": []
          },
          "execution_count": 61
        }
      ]
    },
    {
      "cell_type": "code",
      "metadata": {
        "id": "6zLjoFt6-KI4",
        "colab_type": "code",
        "colab": {}
      },
      "source": [
        "#future dates for next two years"
      ],
      "execution_count": 0,
      "outputs": []
    },
    {
      "cell_type": "code",
      "metadata": {
        "id": "FVbVEt9t-MTP",
        "colab_type": "code",
        "outputId": "d483c54c-c35c-406e-da0d-67409e523ca4",
        "colab": {
          "base_uri": "https://localhost:8080/",
          "height": 419
        }
      },
      "source": [
        "future = m.make_future_dataframe(periods=730)\n",
        "future"
      ],
      "execution_count": 0,
      "outputs": [
        {
          "output_type": "execute_result",
          "data": {
            "text/html": [
              "<div>\n",
              "<style scoped>\n",
              "    .dataframe tbody tr th:only-of-type {\n",
              "        vertical-align: middle;\n",
              "    }\n",
              "\n",
              "    .dataframe tbody tr th {\n",
              "        vertical-align: top;\n",
              "    }\n",
              "\n",
              "    .dataframe thead th {\n",
              "        text-align: right;\n",
              "    }\n",
              "</style>\n",
              "<table border=\"1\" class=\"dataframe\">\n",
              "  <thead>\n",
              "    <tr style=\"text-align: right;\">\n",
              "      <th></th>\n",
              "      <th>ds</th>\n",
              "    </tr>\n",
              "  </thead>\n",
              "  <tbody>\n",
              "    <tr>\n",
              "      <th>0</th>\n",
              "      <td>2014-01-31</td>\n",
              "    </tr>\n",
              "    <tr>\n",
              "      <th>1</th>\n",
              "      <td>2014-02-28</td>\n",
              "    </tr>\n",
              "    <tr>\n",
              "      <th>2</th>\n",
              "      <td>2014-03-31</td>\n",
              "    </tr>\n",
              "    <tr>\n",
              "      <th>3</th>\n",
              "      <td>2014-04-30</td>\n",
              "    </tr>\n",
              "    <tr>\n",
              "      <th>4</th>\n",
              "      <td>2014-05-31</td>\n",
              "    </tr>\n",
              "    <tr>\n",
              "      <th>...</th>\n",
              "      <td>...</td>\n",
              "    </tr>\n",
              "    <tr>\n",
              "      <th>787</th>\n",
              "      <td>2021-02-23</td>\n",
              "    </tr>\n",
              "    <tr>\n",
              "      <th>788</th>\n",
              "      <td>2021-02-24</td>\n",
              "    </tr>\n",
              "    <tr>\n",
              "      <th>789</th>\n",
              "      <td>2021-02-25</td>\n",
              "    </tr>\n",
              "    <tr>\n",
              "      <th>790</th>\n",
              "      <td>2021-02-26</td>\n",
              "    </tr>\n",
              "    <tr>\n",
              "      <th>791</th>\n",
              "      <td>2021-02-27</td>\n",
              "    </tr>\n",
              "  </tbody>\n",
              "</table>\n",
              "<p>792 rows × 1 columns</p>\n",
              "</div>"
            ],
            "text/plain": [
              "            ds\n",
              "0   2014-01-31\n",
              "1   2014-02-28\n",
              "2   2014-03-31\n",
              "3   2014-04-30\n",
              "4   2014-05-31\n",
              "..         ...\n",
              "787 2021-02-23\n",
              "788 2021-02-24\n",
              "789 2021-02-25\n",
              "790 2021-02-26\n",
              "791 2021-02-27\n",
              "\n",
              "[792 rows x 1 columns]"
            ]
          },
          "metadata": {
            "tags": []
          },
          "execution_count": 63
        }
      ]
    },
    {
      "cell_type": "code",
      "metadata": {
        "id": "vvpm1GCt-Ong",
        "colab_type": "code",
        "colab": {}
      },
      "source": [
        "#forecasting the future"
      ],
      "execution_count": 0,
      "outputs": []
    },
    {
      "cell_type": "code",
      "metadata": {
        "id": "QygVaTrg-R1Z",
        "colab_type": "code",
        "colab": {}
      },
      "source": [
        "forecast = m.predict(future)"
      ],
      "execution_count": 0,
      "outputs": []
    },
    {
      "cell_type": "code",
      "metadata": {
        "id": "9VK7oKI1-Uuk",
        "colab_type": "code",
        "colab": {}
      },
      "source": [
        "#The predict method will assign each row in future a predicted value which it names yhat. If you pass in historical dates, it will provide an in-sample fit. The forecast object here is a new dataframe that includes a column yhat with the forecast, as well as columns for components and uncertainty intervals."
      ],
      "execution_count": 0,
      "outputs": []
    },
    {
      "cell_type": "code",
      "metadata": {
        "id": "E5QZ9qG4-bbV",
        "colab_type": "code",
        "outputId": "2fffd403-99e7-4ef0-acfa-7411ce325597",
        "colab": {
          "base_uri": "https://localhost:8080/",
          "height": 204
        }
      },
      "source": [
        "forecast[['ds','trend','yhat', 'yhat_lower', 'yhat_upper']].tail()"
      ],
      "execution_count": 0,
      "outputs": [
        {
          "output_type": "execute_result",
          "data": {
            "text/html": [
              "<div>\n",
              "<style scoped>\n",
              "    .dataframe tbody tr th:only-of-type {\n",
              "        vertical-align: middle;\n",
              "    }\n",
              "\n",
              "    .dataframe tbody tr th {\n",
              "        vertical-align: top;\n",
              "    }\n",
              "\n",
              "    .dataframe thead th {\n",
              "        text-align: right;\n",
              "    }\n",
              "</style>\n",
              "<table border=\"1\" class=\"dataframe\">\n",
              "  <thead>\n",
              "    <tr style=\"text-align: right;\">\n",
              "      <th></th>\n",
              "      <th>ds</th>\n",
              "      <th>trend</th>\n",
              "      <th>yhat</th>\n",
              "      <th>yhat_lower</th>\n",
              "      <th>yhat_upper</th>\n",
              "    </tr>\n",
              "  </thead>\n",
              "  <tbody>\n",
              "    <tr>\n",
              "      <th>787</th>\n",
              "      <td>2021-02-23</td>\n",
              "      <td>6439.448979</td>\n",
              "      <td>12693.216090</td>\n",
              "      <td>10480.282753</td>\n",
              "      <td>14888.173065</td>\n",
              "    </tr>\n",
              "    <tr>\n",
              "      <th>788</th>\n",
              "      <td>2021-02-24</td>\n",
              "      <td>6442.657021</td>\n",
              "      <td>11604.029401</td>\n",
              "      <td>9283.642508</td>\n",
              "      <td>13820.772626</td>\n",
              "    </tr>\n",
              "    <tr>\n",
              "      <th>789</th>\n",
              "      <td>2021-02-25</td>\n",
              "      <td>6445.865063</td>\n",
              "      <td>9635.986211</td>\n",
              "      <td>7398.297562</td>\n",
              "      <td>12028.347468</td>\n",
              "    </tr>\n",
              "    <tr>\n",
              "      <th>790</th>\n",
              "      <td>2021-02-26</td>\n",
              "      <td>6449.073106</td>\n",
              "      <td>9139.173528</td>\n",
              "      <td>6733.349161</td>\n",
              "      <td>11492.837082</td>\n",
              "    </tr>\n",
              "    <tr>\n",
              "      <th>791</th>\n",
              "      <td>2021-02-27</td>\n",
              "      <td>6452.281148</td>\n",
              "      <td>9079.088773</td>\n",
              "      <td>6698.535516</td>\n",
              "      <td>11448.342226</td>\n",
              "    </tr>\n",
              "  </tbody>\n",
              "</table>\n",
              "</div>"
            ],
            "text/plain": [
              "            ds        trend          yhat    yhat_lower    yhat_upper\n",
              "787 2021-02-23  6439.448979  12693.216090  10480.282753  14888.173065\n",
              "788 2021-02-24  6442.657021  11604.029401   9283.642508  13820.772626\n",
              "789 2021-02-25  6445.865063   9635.986211   7398.297562  12028.347468\n",
              "790 2021-02-26  6449.073106   9139.173528   6733.349161  11492.837082\n",
              "791 2021-02-27  6452.281148   9079.088773   6698.535516  11448.342226"
            ]
          },
          "metadata": {
            "tags": []
          },
          "execution_count": 67
        }
      ]
    },
    {
      "cell_type": "code",
      "metadata": {
        "id": "jYbqStVa-eAF",
        "colab_type": "code",
        "colab": {}
      },
      "source": [
        "#plotting the forecast\n",
        "#dotted lines represent the actual values and blue color represents predicted values "
      ],
      "execution_count": 0,
      "outputs": []
    },
    {
      "cell_type": "code",
      "metadata": {
        "id": "TZCMZ-O_-iV6",
        "colab_type": "code",
        "outputId": "f25db317-911e-4728-ab59-5496ce17a810",
        "colab": {
          "base_uri": "https://localhost:8080/",
          "height": 865
        }
      },
      "source": [
        "m.plot(forecast, xlabel='Date', ylabel='Crime Rate')"
      ],
      "execution_count": 0,
      "outputs": [
        {
          "output_type": "execute_result",
          "data": {
            "image/png": "[encoded data removed]",
            "text/plain": [
              "<Figure size 720x432 with 1 Axes>"
            ]
          },
          "metadata": {
            "tags": []
          },
          "execution_count": 69
        },
        {
          "output_type": "display_data",
          "data": {
            "image/png": "[encoded data removed]",
            "text/plain": [
              "<Figure size 720x432 with 1 Axes>"
            ]
          },
          "metadata": {
            "tags": []
          }
        }
      ]
    },
    {
      "cell_type": "code",
      "metadata": {
        "id": "hp2CUY6R-lMY",
        "colab_type": "code",
        "colab": {}
      },
      "source": [
        "#plotting forecast year wise,week wise and month wise"
      ],
      "execution_count": 0,
      "outputs": []
    },
    {
      "cell_type": "code",
      "metadata": {
        "id": "zB2LespZ-odL",
        "colab_type": "code",
        "outputId": "4d6e1268-7b22-4271-e9c8-53a3ef3c1822",
        "colab": {
          "base_uri": "https://localhost:8080/",
          "height": 657
        }
      },
      "source": [
        "fig=m.plot_components(forecast)"
      ],
      "execution_count": 0,
      "outputs": [
        {
          "output_type": "display_data",
          "data": {
            "image/png": "[encoded data removed]",
            "text/plain": [
              "<Figure size 648x648 with 3 Axes>"
            ]
          },
          "metadata": {
            "tags": []
          }
        }
      ]
    },
    {
      "cell_type": "code",
      "metadata": {
        "id": "fx5lNKFo-rNt",
        "colab_type": "code",
        "colab": {}
      },
      "source": [
        "#test datasets"
      ],
      "execution_count": 0,
      "outputs": []
    },
    {
      "cell_type": "code",
      "metadata": {
        "id": "zP5ADUCV-v6L",
        "colab_type": "code",
        "outputId": "f174df92-976d-4a79-cd87-e3d53cf9aa68",
        "colab": {
          "base_uri": "https://localhost:8080/",
          "height": 359
        }
      },
      "source": [
        "test"
      ],
      "execution_count": 0,
      "outputs": [
        {
          "output_type": "execute_result",
          "data": {
            "text/html": [
              "<div>\n",
              "<style scoped>\n",
              "    .dataframe tbody tr th:only-of-type {\n",
              "        vertical-align: middle;\n",
              "    }\n",
              "\n",
              "    .dataframe tbody tr th {\n",
              "        vertical-align: top;\n",
              "    }\n",
              "\n",
              "    .dataframe thead th {\n",
              "        text-align: right;\n",
              "    }\n",
              "</style>\n",
              "<table border=\"1\" class=\"dataframe\">\n",
              "  <thead>\n",
              "    <tr style=\"text-align: right;\">\n",
              "      <th></th>\n",
              "      <th>ds</th>\n",
              "      <th>y</th>\n",
              "    </tr>\n",
              "  </thead>\n",
              "  <tbody>\n",
              "    <tr>\n",
              "      <th>62</th>\n",
              "      <td>2019-03-31</td>\n",
              "      <td>5096</td>\n",
              "    </tr>\n",
              "    <tr>\n",
              "      <th>63</th>\n",
              "      <td>2019-04-30</td>\n",
              "      <td>4091</td>\n",
              "    </tr>\n",
              "    <tr>\n",
              "      <th>64</th>\n",
              "      <td>2019-05-31</td>\n",
              "      <td>21</td>\n",
              "    </tr>\n",
              "    <tr>\n",
              "      <th>65</th>\n",
              "      <td>2019-06-30</td>\n",
              "      <td>26</td>\n",
              "    </tr>\n",
              "    <tr>\n",
              "      <th>66</th>\n",
              "      <td>2019-07-31</td>\n",
              "      <td>21</td>\n",
              "    </tr>\n",
              "    <tr>\n",
              "      <th>67</th>\n",
              "      <td>2019-08-31</td>\n",
              "      <td>20</td>\n",
              "    </tr>\n",
              "    <tr>\n",
              "      <th>68</th>\n",
              "      <td>2019-09-30</td>\n",
              "      <td>27</td>\n",
              "    </tr>\n",
              "    <tr>\n",
              "      <th>69</th>\n",
              "      <td>2019-10-31</td>\n",
              "      <td>52</td>\n",
              "    </tr>\n",
              "    <tr>\n",
              "      <th>70</th>\n",
              "      <td>2019-11-30</td>\n",
              "      <td>69</td>\n",
              "    </tr>\n",
              "    <tr>\n",
              "      <th>71</th>\n",
              "      <td>2019-12-31</td>\n",
              "      <td>121</td>\n",
              "    </tr>\n",
              "  </tbody>\n",
              "</table>\n",
              "</div>"
            ],
            "text/plain": [
              "           ds     y\n",
              "62 2019-03-31  5096\n",
              "63 2019-04-30  4091\n",
              "64 2019-05-31    21\n",
              "65 2019-06-30    26\n",
              "66 2019-07-31    21\n",
              "67 2019-08-31    20\n",
              "68 2019-09-30    27\n",
              "69 2019-10-31    52\n",
              "70 2019-11-30    69\n",
              "71 2019-12-31   121"
            ]
          },
          "metadata": {
            "tags": []
          },
          "execution_count": 73
        }
      ]
    },
    {
      "cell_type": "code",
      "metadata": {
        "id": "d0FwXDge-yU-",
        "colab_type": "code",
        "colab": {}
      },
      "source": [
        "#plotting the testing data"
      ],
      "execution_count": 0,
      "outputs": []
    },
    {
      "cell_type": "code",
      "metadata": {
        "id": "vnV0gHpT-2xf",
        "colab_type": "code",
        "outputId": "8fd59b05-2b58-4919-f4c9-1ab13ab555ae",
        "colab": {
          "base_uri": "https://localhost:8080/",
          "height": 306
        }
      },
      "source": [
        "test = test.set_index(\"ds\")\n",
        "test = test['y']\n",
        "import matplotlib.pyplot as plt\n",
        "test.plot()\n"
      ],
      "execution_count": 0,
      "outputs": [
        {
          "output_type": "execute_result",
          "data": {
            "text/plain": [
              "<matplotlib.axes._subplots.AxesSubplot at 0x7fa0217e7860>"
            ]
          },
          "metadata": {
            "tags": []
          },
          "execution_count": 75
        },
        {
          "output_type": "display_data",
          "data": {
            "image/png": "[encoded data removed]",
            "text/plain": [
              "<Figure size 432x288 with 1 Axes>"
            ]
          },
          "metadata": {
            "tags": [],
            "needs_background": "light"
          }
        }
      ]
    },
    {
      "cell_type": "code",
      "metadata": {
        "id": "QI_3wrMf-5EK",
        "colab_type": "code",
        "colab": {}
      },
      "source": [
        "#Trend changepoints\n",
        "#Find Point/Dates For Change"
      ],
      "execution_count": 0,
      "outputs": []
    },
    {
      "cell_type": "code",
      "metadata": {
        "id": "DN-SpyUP_N_T",
        "colab_type": "code",
        "outputId": "156cf705-ad99-4357-8751-74e41f3d53c9",
        "colab": {
          "base_uri": "https://localhost:8080/",
          "height": 441
        }
      },
      "source": [
        "from fbprophet.plot import add_changepoints_to_plot\n",
        "fig = m.plot(forecast)\n",
        "c = add_changepoints_to_plot(fig.gca(),m,forecast)"
      ],
      "execution_count": 0,
      "outputs": [
        {
          "output_type": "display_data",
          "data": {
            "image/png": "[encoded data removed]",
            "text/plain": [
              "<Figure size 720x432 with 1 Axes>"
            ]
          },
          "metadata": {
            "tags": []
          }
        }
      ]
    },
    {
      "cell_type": "code",
      "metadata": {
        "id": "GtZrz5i9Ec58",
        "colab_type": "code",
        "colab": {}
      },
      "source": [
        "#The above graph represents the prediction for Jewels theft and murder crime for the year 2014 to 2019 and made a future prediction for the years 2020 and 2021.\n",
        "#The black dotted lines represent the actual values and blue lines represent the predicted values.\n",
        "#The red line represents the trend changepoint at which the rate is allowed to change.\n",
        "#From the above forecast,we can see that crime rate is expected to rise in the mid of 2020 and 2021 and there will be times where crime rate will be low as well.\n",
        "#We can see that our predicted values quite matches with actual values,hence our model will prove efficient for foreseeing the future.\n"
      ],
      "execution_count": 0,
      "outputs": []
    }
  ]
}