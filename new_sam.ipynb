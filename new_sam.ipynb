{
  "nbformat": 4,
  "nbformat_minor": 0,
  "metadata": {
    "colab": {
      "name": "Untitled2.ipynb",
      "provenance": [],
      "authorship_tag": "ABX9TyPex9jA9vHfDbSmo8+O3O7o",
      "include_colab_link": true
    },
    "kernelspec": {
      "name": "python3",
      "display_name": "Python 3"
    }
  },
  "cells": [
    {
      "cell_type": "markdown",
      "metadata": {
        "id": "view-in-github",
        "colab_type": "text"
      },
      "source": [
        "<a href=\"https://colab.research.google.com/github/saranyapalani/project/blob/master/new_sam.ipynb\" target=\"_parent\"><img src=\"https://colab.research.google.com/assets/colab-badge.svg\" alt=\"Open In Colab\"/></a>"
      ]
    },
    {
      "cell_type": "code",
      "metadata": {
        "id": "dCrWtMLMJ2ug",
        "colab_type": "code",
        "colab": {}
      },
      "source": [
        "import itertools\n",
        "import numpy as np\n",
        "import matplotlib.pyplot as plt\n",
        "from matplotlib.ticker import NullFormatter\n",
        "import pandas as pd\n",
        "import numpy as np\n",
        "import matplotlib.ticker as ticker\n",
        "from sklearn import preprocessing\n",
        "%matplotlib inline"
      ],
      "execution_count": 0,
      "outputs": []
    },
    {
      "cell_type": "code",
      "metadata": {
        "id": "noQO2g4sKBhj",
        "colab_type": "code",
        "colab": {
          "base_uri": "https://localhost:8080/",
          "height": 54
        },
        "outputId": "e91f5239-a66c-461c-b0a6-60666ecd25f7"
      },
      "source": [
        "from google.colab import drive\n",
        "drive.mount('/content/drive')"
      ],
      "execution_count": 21,
      "outputs": [
        {
          "output_type": "stream",
          "text": [
            "Drive already mounted at /content/drive; to attempt to forcibly remount, call drive.mount(\"/content/drive\", force_remount=True).\n"
          ],
          "name": "stdout"
        }
      ]
    },
    {
      "cell_type": "code",
      "metadata": {
        "id": "vBPM5Ul9KN4g",
        "colab_type": "code",
        "colab": {
          "base_uri": "https://localhost:8080/",
          "height": 71
        },
        "outputId": "f453add0-39e2-448e-cd6e-484ce7632b7e"
      },
      "source": [
        "df=pd.read_csv('/content/drive/My Drive/fin.csv')\n"
      ],
      "execution_count": 22,
      "outputs": [
        {
          "output_type": "stream",
          "text": [
            "/usr/local/lib/python3.6/dist-packages/IPython/core/interactiveshell.py:2718: DtypeWarning: Columns (13) have mixed types. Specify dtype option on import or set low_memory=False.\n",
            "  interactivity=interactivity, compiler=compiler, result=result)\n"
          ],
          "name": "stderr"
        }
      ]
    },
    {
      "cell_type": "code",
      "metadata": {
        "id": "1DZ70nRsKTs6",
        "colab_type": "code",
        "colab": {
          "base_uri": "https://localhost:8080/",
          "height": 306
        },
        "outputId": "6d20b855-367b-484f-ea41-4817ea832f66"
      },
      "source": [
        "df['Weapon'].value_counts()"
      ],
      "execution_count": 23,
      "outputs": [
        {
          "output_type": "execute_result",
          "data": {
            "text/plain": [
              "Handgun          317484\n",
              "Knife             94962\n",
              "Blunt Object      67337\n",
              "Firearm           46980\n",
              "Unknown           33192\n",
              "Shotgun           30722\n",
              "Rifle             23347\n",
              "Strangulation      8110\n",
              "Fire               6173\n",
              "Suffocation        3968\n",
              "Gun                2206\n",
              "Drugs              1588\n",
              "Drowning           1204\n",
              "Explosives          537\n",
              "Poison              454\n",
              "Fall                190\n",
              "Name: Weapon, dtype: int64"
            ]
          },
          "metadata": {
            "tags": []
          },
          "execution_count": 23
        }
      ]
    },
    {
      "cell_type": "code",
      "metadata": {
        "id": "73YM77noKX7s",
        "colab_type": "code",
        "colab": {
          "base_uri": "https://localhost:8080/",
          "height": 411
        },
        "outputId": "56a9c2eb-b813-4910-9561-4e568d9c7ce6"
      },
      "source": [
        "df['Weapon'].replace(to_replace=['Handgun','Knife','Blunt Object','Firearm','Unknown','Shotgun','Rifle','Strangulation','Fire','Suffocation','Gun','Drugs','Drowning','Explosives','Poison','Fall'], value=[0,1,2,3,4,5,6,7,8,9,10,11,12,13,14,15],inplace=True)\n",
        "df.head()"
      ],
      "execution_count": 24,
      "outputs": [
        {
          "output_type": "execute_result",
          "data": {
            "text/html": [
              "<div>\n",
              "<style scoped>\n",
              "    .dataframe tbody tr th:only-of-type {\n",
              "        vertical-align: middle;\n",
              "    }\n",
              "\n",
              "    .dataframe tbody tr th {\n",
              "        vertical-align: top;\n",
              "    }\n",
              "\n",
              "    .dataframe thead th {\n",
              "        text-align: right;\n",
              "    }\n",
              "</style>\n",
              "<table border=\"1\" class=\"dataframe\">\n",
              "  <thead>\n",
              "    <tr style=\"text-align: right;\">\n",
              "      <th></th>\n",
              "      <th>Record ID</th>\n",
              "      <th>Agency Type</th>\n",
              "      <th>City</th>\n",
              "      <th>State</th>\n",
              "      <th>Year</th>\n",
              "      <th>Month</th>\n",
              "      <th>Incident</th>\n",
              "      <th>Crime Type</th>\n",
              "      <th>Crime Solved</th>\n",
              "      <th>Victim Sex</th>\n",
              "      <th>Victim Age</th>\n",
              "      <th>Victim Race</th>\n",
              "      <th>Perpetrator Sex</th>\n",
              "      <th>Perpetrator Age</th>\n",
              "      <th>Perpetrator Race</th>\n",
              "      <th>Relationship</th>\n",
              "      <th>Weapon</th>\n",
              "      <th>Victim Count</th>\n",
              "      <th>Perpetrator Count</th>\n",
              "    </tr>\n",
              "  </thead>\n",
              "  <tbody>\n",
              "    <tr>\n",
              "      <th>0</th>\n",
              "      <td>1</td>\n",
              "      <td>Municipal Police</td>\n",
              "      <td>Anchorage</td>\n",
              "      <td>Alaska</td>\n",
              "      <td>2019</td>\n",
              "      <td>January</td>\n",
              "      <td>1</td>\n",
              "      <td>Murder or Robbery</td>\n",
              "      <td>Yes</td>\n",
              "      <td>Male</td>\n",
              "      <td>14</td>\n",
              "      <td>Native American/Alaska Native</td>\n",
              "      <td>Male</td>\n",
              "      <td>15</td>\n",
              "      <td>Native American/Alaska Native</td>\n",
              "      <td>Acquaintance</td>\n",
              "      <td>2</td>\n",
              "      <td>0</td>\n",
              "      <td>0</td>\n",
              "    </tr>\n",
              "    <tr>\n",
              "      <th>1</th>\n",
              "      <td>2</td>\n",
              "      <td>Municipal Police</td>\n",
              "      <td>Anchorage</td>\n",
              "      <td>Alaska</td>\n",
              "      <td>2019</td>\n",
              "      <td>March</td>\n",
              "      <td>1</td>\n",
              "      <td>Murder or Robbery</td>\n",
              "      <td>Yes</td>\n",
              "      <td>Male</td>\n",
              "      <td>43</td>\n",
              "      <td>White</td>\n",
              "      <td>Male</td>\n",
              "      <td>42</td>\n",
              "      <td>White</td>\n",
              "      <td>Acquaintance</td>\n",
              "      <td>7</td>\n",
              "      <td>0</td>\n",
              "      <td>0</td>\n",
              "    </tr>\n",
              "    <tr>\n",
              "      <th>2</th>\n",
              "      <td>3</td>\n",
              "      <td>Municipal Police</td>\n",
              "      <td>Anchorage</td>\n",
              "      <td>Alaska</td>\n",
              "      <td>2019</td>\n",
              "      <td>March</td>\n",
              "      <td>2</td>\n",
              "      <td>Murder or Robbery</td>\n",
              "      <td>No</td>\n",
              "      <td>Female</td>\n",
              "      <td>30</td>\n",
              "      <td>Native American/Alaska Native</td>\n",
              "      <td>Unknown</td>\n",
              "      <td>0</td>\n",
              "      <td>Unknown</td>\n",
              "      <td>Unknown</td>\n",
              "      <td>4</td>\n",
              "      <td>0</td>\n",
              "      <td>0</td>\n",
              "    </tr>\n",
              "    <tr>\n",
              "      <th>3</th>\n",
              "      <td>4</td>\n",
              "      <td>Municipal Police</td>\n",
              "      <td>Anchorage</td>\n",
              "      <td>Alaska</td>\n",
              "      <td>2019</td>\n",
              "      <td>April</td>\n",
              "      <td>1</td>\n",
              "      <td>Murder or Robbery</td>\n",
              "      <td>Yes</td>\n",
              "      <td>Male</td>\n",
              "      <td>43</td>\n",
              "      <td>White</td>\n",
              "      <td>Male</td>\n",
              "      <td>42</td>\n",
              "      <td>White</td>\n",
              "      <td>Acquaintance</td>\n",
              "      <td>7</td>\n",
              "      <td>0</td>\n",
              "      <td>0</td>\n",
              "    </tr>\n",
              "    <tr>\n",
              "      <th>4</th>\n",
              "      <td>5</td>\n",
              "      <td>Municipal Police</td>\n",
              "      <td>Anchorage</td>\n",
              "      <td>Alaska</td>\n",
              "      <td>2019</td>\n",
              "      <td>April</td>\n",
              "      <td>2</td>\n",
              "      <td>Murder or Robbery</td>\n",
              "      <td>No</td>\n",
              "      <td>Female</td>\n",
              "      <td>30</td>\n",
              "      <td>Native American/Alaska Native</td>\n",
              "      <td>Unknown</td>\n",
              "      <td>0</td>\n",
              "      <td>Unknown</td>\n",
              "      <td>Unknown</td>\n",
              "      <td>4</td>\n",
              "      <td>0</td>\n",
              "      <td>1</td>\n",
              "    </tr>\n",
              "  </tbody>\n",
              "</table>\n",
              "</div>"
            ],
            "text/plain": [
              "   Record ID       Agency Type  ... Victim Count Perpetrator Count\n",
              "0          1  Municipal Police  ...            0                 0\n",
              "1          2  Municipal Police  ...            0                 0\n",
              "2          3  Municipal Police  ...            0                 0\n",
              "3          4  Municipal Police  ...            0                 0\n",
              "4          5  Municipal Police  ...            0                 1\n",
              "\n",
              "[5 rows x 19 columns]"
            ]
          },
          "metadata": {
            "tags": []
          },
          "execution_count": 24
        }
      ]
    },
    {
      "cell_type": "code",
      "metadata": {
        "id": "ukTs9ZYZLFix",
        "colab_type": "code",
        "colab": {
          "base_uri": "https://localhost:8080/",
          "height": 204
        },
        "outputId": "f3e390f5-46e0-4ced-ae7a-9dafd05402f6"
      },
      "source": [
        "Feature = df[['Year','Victim Count','Victim Age','Weapon']]\n",
        "Feature = pd.concat([Feature,pd.get_dummies(df['Weapon'])], axis=1)\n",
        "Feature.head()"
      ],
      "execution_count": 26,
      "outputs": [
        {
          "output_type": "execute_result",
          "data": {
            "text/html": [
              "<div>\n",
              "<style scoped>\n",
              "    .dataframe tbody tr th:only-of-type {\n",
              "        vertical-align: middle;\n",
              "    }\n",
              "\n",
              "    .dataframe tbody tr th {\n",
              "        vertical-align: top;\n",
              "    }\n",
              "\n",
              "    .dataframe thead th {\n",
              "        text-align: right;\n",
              "    }\n",
              "</style>\n",
              "<table border=\"1\" class=\"dataframe\">\n",
              "  <thead>\n",
              "    <tr style=\"text-align: right;\">\n",
              "      <th></th>\n",
              "      <th>Year</th>\n",
              "      <th>Victim Count</th>\n",
              "      <th>Victim Age</th>\n",
              "      <th>Weapon</th>\n",
              "      <th>0</th>\n",
              "      <th>1</th>\n",
              "      <th>2</th>\n",
              "      <th>3</th>\n",
              "      <th>4</th>\n",
              "      <th>5</th>\n",
              "      <th>6</th>\n",
              "      <th>7</th>\n",
              "      <th>8</th>\n",
              "      <th>9</th>\n",
              "      <th>10</th>\n",
              "      <th>11</th>\n",
              "      <th>12</th>\n",
              "      <th>13</th>\n",
              "      <th>14</th>\n",
              "      <th>15</th>\n",
              "    </tr>\n",
              "  </thead>\n",
              "  <tbody>\n",
              "    <tr>\n",
              "      <th>0</th>\n",
              "      <td>2019</td>\n",
              "      <td>0</td>\n",
              "      <td>14</td>\n",
              "      <td>2</td>\n",
              "      <td>0</td>\n",
              "      <td>0</td>\n",
              "      <td>1</td>\n",
              "      <td>0</td>\n",
              "      <td>0</td>\n",
              "      <td>0</td>\n",
              "      <td>0</td>\n",
              "      <td>0</td>\n",
              "      <td>0</td>\n",
              "      <td>0</td>\n",
              "      <td>0</td>\n",
              "      <td>0</td>\n",
              "      <td>0</td>\n",
              "      <td>0</td>\n",
              "      <td>0</td>\n",
              "      <td>0</td>\n",
              "    </tr>\n",
              "    <tr>\n",
              "      <th>1</th>\n",
              "      <td>2019</td>\n",
              "      <td>0</td>\n",
              "      <td>43</td>\n",
              "      <td>7</td>\n",
              "      <td>0</td>\n",
              "      <td>0</td>\n",
              "      <td>0</td>\n",
              "      <td>0</td>\n",
              "      <td>0</td>\n",
              "      <td>0</td>\n",
              "      <td>0</td>\n",
              "      <td>1</td>\n",
              "      <td>0</td>\n",
              "      <td>0</td>\n",
              "      <td>0</td>\n",
              "      <td>0</td>\n",
              "      <td>0</td>\n",
              "      <td>0</td>\n",
              "      <td>0</td>\n",
              "      <td>0</td>\n",
              "    </tr>\n",
              "    <tr>\n",
              "      <th>2</th>\n",
              "      <td>2019</td>\n",
              "      <td>0</td>\n",
              "      <td>30</td>\n",
              "      <td>4</td>\n",
              "      <td>0</td>\n",
              "      <td>0</td>\n",
              "      <td>0</td>\n",
              "      <td>0</td>\n",
              "      <td>1</td>\n",
              "      <td>0</td>\n",
              "      <td>0</td>\n",
              "      <td>0</td>\n",
              "      <td>0</td>\n",
              "      <td>0</td>\n",
              "      <td>0</td>\n",
              "      <td>0</td>\n",
              "      <td>0</td>\n",
              "      <td>0</td>\n",
              "      <td>0</td>\n",
              "      <td>0</td>\n",
              "    </tr>\n",
              "    <tr>\n",
              "      <th>3</th>\n",
              "      <td>2019</td>\n",
              "      <td>0</td>\n",
              "      <td>43</td>\n",
              "      <td>7</td>\n",
              "      <td>0</td>\n",
              "      <td>0</td>\n",
              "      <td>0</td>\n",
              "      <td>0</td>\n",
              "      <td>0</td>\n",
              "      <td>0</td>\n",
              "      <td>0</td>\n",
              "      <td>1</td>\n",
              "      <td>0</td>\n",
              "      <td>0</td>\n",
              "      <td>0</td>\n",
              "      <td>0</td>\n",
              "      <td>0</td>\n",
              "      <td>0</td>\n",
              "      <td>0</td>\n",
              "      <td>0</td>\n",
              "    </tr>\n",
              "    <tr>\n",
              "      <th>4</th>\n",
              "      <td>2019</td>\n",
              "      <td>0</td>\n",
              "      <td>30</td>\n",
              "      <td>4</td>\n",
              "      <td>0</td>\n",
              "      <td>0</td>\n",
              "      <td>0</td>\n",
              "      <td>0</td>\n",
              "      <td>1</td>\n",
              "      <td>0</td>\n",
              "      <td>0</td>\n",
              "      <td>0</td>\n",
              "      <td>0</td>\n",
              "      <td>0</td>\n",
              "      <td>0</td>\n",
              "      <td>0</td>\n",
              "      <td>0</td>\n",
              "      <td>0</td>\n",
              "      <td>0</td>\n",
              "      <td>0</td>\n",
              "    </tr>\n",
              "  </tbody>\n",
              "</table>\n",
              "</div>"
            ],
            "text/plain": [
              "   Year  Victim Count  Victim Age  Weapon  0  1  2  ...  9  10  11  12  13  14  15\n",
              "0  2019             0          14       2  0  0  1  ...  0   0   0   0   0   0   0\n",
              "1  2019             0          43       7  0  0  0  ...  0   0   0   0   0   0   0\n",
              "2  2019             0          30       4  0  0  0  ...  0   0   0   0   0   0   0\n",
              "3  2019             0          43       7  0  0  0  ...  0   0   0   0   0   0   0\n",
              "4  2019             0          30       4  0  0  0  ...  0   0   0   0   0   0   0\n",
              "\n",
              "[5 rows x 20 columns]"
            ]
          },
          "metadata": {
            "tags": []
          },
          "execution_count": 26
        }
      ]
    },
    {
      "cell_type": "code",
      "metadata": {
        "id": "Rmp2p2c2Lc6_",
        "colab_type": "code",
        "colab": {
          "base_uri": "https://localhost:8080/",
          "height": 204
        },
        "outputId": "387bb37d-9a12-4cde-8337-c181d5bbde62"
      },
      "source": [
        "X = Feature\n",
        "X[0:5]\n"
      ],
      "execution_count": 27,
      "outputs": [
        {
          "output_type": "execute_result",
          "data": {
            "text/html": [
              "<div>\n",
              "<style scoped>\n",
              "    .dataframe tbody tr th:only-of-type {\n",
              "        vertical-align: middle;\n",
              "    }\n",
              "\n",
              "    .dataframe tbody tr th {\n",
              "        vertical-align: top;\n",
              "    }\n",
              "\n",
              "    .dataframe thead th {\n",
              "        text-align: right;\n",
              "    }\n",
              "</style>\n",
              "<table border=\"1\" class=\"dataframe\">\n",
              "  <thead>\n",
              "    <tr style=\"text-align: right;\">\n",
              "      <th></th>\n",
              "      <th>Year</th>\n",
              "      <th>Victim Count</th>\n",
              "      <th>Victim Age</th>\n",
              "      <th>Weapon</th>\n",
              "      <th>0</th>\n",
              "      <th>1</th>\n",
              "      <th>2</th>\n",
              "      <th>3</th>\n",
              "      <th>4</th>\n",
              "      <th>5</th>\n",
              "      <th>6</th>\n",
              "      <th>7</th>\n",
              "      <th>8</th>\n",
              "      <th>9</th>\n",
              "      <th>10</th>\n",
              "      <th>11</th>\n",
              "      <th>12</th>\n",
              "      <th>13</th>\n",
              "      <th>14</th>\n",
              "      <th>15</th>\n",
              "    </tr>\n",
              "  </thead>\n",
              "  <tbody>\n",
              "    <tr>\n",
              "      <th>0</th>\n",
              "      <td>2019</td>\n",
              "      <td>0</td>\n",
              "      <td>14</td>\n",
              "      <td>2</td>\n",
              "      <td>0</td>\n",
              "      <td>0</td>\n",
              "      <td>1</td>\n",
              "      <td>0</td>\n",
              "      <td>0</td>\n",
              "      <td>0</td>\n",
              "      <td>0</td>\n",
              "      <td>0</td>\n",
              "      <td>0</td>\n",
              "      <td>0</td>\n",
              "      <td>0</td>\n",
              "      <td>0</td>\n",
              "      <td>0</td>\n",
              "      <td>0</td>\n",
              "      <td>0</td>\n",
              "      <td>0</td>\n",
              "    </tr>\n",
              "    <tr>\n",
              "      <th>1</th>\n",
              "      <td>2019</td>\n",
              "      <td>0</td>\n",
              "      <td>43</td>\n",
              "      <td>7</td>\n",
              "      <td>0</td>\n",
              "      <td>0</td>\n",
              "      <td>0</td>\n",
              "      <td>0</td>\n",
              "      <td>0</td>\n",
              "      <td>0</td>\n",
              "      <td>0</td>\n",
              "      <td>1</td>\n",
              "      <td>0</td>\n",
              "      <td>0</td>\n",
              "      <td>0</td>\n",
              "      <td>0</td>\n",
              "      <td>0</td>\n",
              "      <td>0</td>\n",
              "      <td>0</td>\n",
              "      <td>0</td>\n",
              "    </tr>\n",
              "    <tr>\n",
              "      <th>2</th>\n",
              "      <td>2019</td>\n",
              "      <td>0</td>\n",
              "      <td>30</td>\n",
              "      <td>4</td>\n",
              "      <td>0</td>\n",
              "      <td>0</td>\n",
              "      <td>0</td>\n",
              "      <td>0</td>\n",
              "      <td>1</td>\n",
              "      <td>0</td>\n",
              "      <td>0</td>\n",
              "      <td>0</td>\n",
              "      <td>0</td>\n",
              "      <td>0</td>\n",
              "      <td>0</td>\n",
              "      <td>0</td>\n",
              "      <td>0</td>\n",
              "      <td>0</td>\n",
              "      <td>0</td>\n",
              "      <td>0</td>\n",
              "    </tr>\n",
              "    <tr>\n",
              "      <th>3</th>\n",
              "      <td>2019</td>\n",
              "      <td>0</td>\n",
              "      <td>43</td>\n",
              "      <td>7</td>\n",
              "      <td>0</td>\n",
              "      <td>0</td>\n",
              "      <td>0</td>\n",
              "      <td>0</td>\n",
              "      <td>0</td>\n",
              "      <td>0</td>\n",
              "      <td>0</td>\n",
              "      <td>1</td>\n",
              "      <td>0</td>\n",
              "      <td>0</td>\n",
              "      <td>0</td>\n",
              "      <td>0</td>\n",
              "      <td>0</td>\n",
              "      <td>0</td>\n",
              "      <td>0</td>\n",
              "      <td>0</td>\n",
              "    </tr>\n",
              "    <tr>\n",
              "      <th>4</th>\n",
              "      <td>2019</td>\n",
              "      <td>0</td>\n",
              "      <td>30</td>\n",
              "      <td>4</td>\n",
              "      <td>0</td>\n",
              "      <td>0</td>\n",
              "      <td>0</td>\n",
              "      <td>0</td>\n",
              "      <td>1</td>\n",
              "      <td>0</td>\n",
              "      <td>0</td>\n",
              "      <td>0</td>\n",
              "      <td>0</td>\n",
              "      <td>0</td>\n",
              "      <td>0</td>\n",
              "      <td>0</td>\n",
              "      <td>0</td>\n",
              "      <td>0</td>\n",
              "      <td>0</td>\n",
              "      <td>0</td>\n",
              "    </tr>\n",
              "  </tbody>\n",
              "</table>\n",
              "</div>"
            ],
            "text/plain": [
              "   Year  Victim Count  Victim Age  Weapon  0  1  2  ...  9  10  11  12  13  14  15\n",
              "0  2019             0          14       2  0  0  1  ...  0   0   0   0   0   0   0\n",
              "1  2019             0          43       7  0  0  0  ...  0   0   0   0   0   0   0\n",
              "2  2019             0          30       4  0  0  0  ...  0   0   0   0   0   0   0\n",
              "3  2019             0          43       7  0  0  0  ...  0   0   0   0   0   0   0\n",
              "4  2019             0          30       4  0  0  0  ...  0   0   0   0   0   0   0\n",
              "\n",
              "[5 rows x 20 columns]"
            ]
          },
          "metadata": {
            "tags": []
          },
          "execution_count": 27
        }
      ]
    },
    {
      "cell_type": "code",
      "metadata": {
        "id": "0Req-E0JLSWd",
        "colab_type": "code",
        "colab": {
          "base_uri": "https://localhost:8080/",
          "height": 272
        },
        "outputId": "539ab7dd-9c66-4611-9446-bef973ea284d"
      },
      "source": [
        "y = pd.get_dummies(df['Weapon']).values\n",
        "y[0:15]"
      ],
      "execution_count": 28,
      "outputs": [
        {
          "output_type": "execute_result",
          "data": {
            "text/plain": [
              "array([[0, 0, 1, 0, 0, 0, 0, 0, 0, 0, 0, 0, 0, 0, 0, 0],\n",
              "       [0, 0, 0, 0, 0, 0, 0, 1, 0, 0, 0, 0, 0, 0, 0, 0],\n",
              "       [0, 0, 0, 0, 1, 0, 0, 0, 0, 0, 0, 0, 0, 0, 0, 0],\n",
              "       [0, 0, 0, 0, 0, 0, 0, 1, 0, 0, 0, 0, 0, 0, 0, 0],\n",
              "       [0, 0, 0, 0, 1, 0, 0, 0, 0, 0, 0, 0, 0, 0, 0, 0],\n",
              "       [0, 0, 0, 0, 0, 0, 1, 0, 0, 0, 0, 0, 0, 0, 0, 0],\n",
              "       [0, 1, 0, 0, 0, 0, 0, 0, 0, 0, 0, 0, 0, 0, 0, 0],\n",
              "       [0, 1, 0, 0, 0, 0, 0, 0, 0, 0, 0, 0, 0, 0, 0, 0],\n",
              "       [0, 0, 0, 1, 0, 0, 0, 0, 0, 0, 0, 0, 0, 0, 0, 0],\n",
              "       [0, 0, 0, 1, 0, 0, 0, 0, 0, 0, 0, 0, 0, 0, 0, 0],\n",
              "       [0, 0, 0, 0, 1, 0, 0, 0, 0, 0, 0, 0, 0, 0, 0, 0],\n",
              "       [0, 0, 0, 0, 0, 1, 0, 0, 0, 0, 0, 0, 0, 0, 0, 0],\n",
              "       [0, 0, 1, 0, 0, 0, 0, 0, 0, 0, 0, 0, 0, 0, 0, 0],\n",
              "       [0, 0, 0, 0, 0, 0, 0, 0, 0, 0, 0, 0, 0, 0, 0, 1],\n",
              "       [1, 0, 0, 0, 0, 0, 0, 0, 0, 0, 0, 0, 0, 0, 0, 0]], dtype=uint8)"
            ]
          },
          "metadata": {
            "tags": []
          },
          "execution_count": 28
        }
      ]
    },
    {
      "cell_type": "code",
      "metadata": {
        "id": "Gie5gOVQLpXm",
        "colab_type": "code",
        "colab": {
          "base_uri": "https://localhost:8080/",
          "height": 1000
        },
        "outputId": "530055c0-32a8-4055-da1f-f499d337c7f7"
      },
      "source": [
        "X= preprocessing.StandardScaler().fit(X).transform(X)\n",
        "X[0:15]\n"
      ],
      "execution_count": 29,
      "outputs": [
        {
          "output_type": "execute_result",
          "data": {
            "text/plain": [
              "array([[ 1.23378382e+00, -2.29358919e-01, -5.05269868e-01,\n",
              "         1.85814226e-01, -9.94554761e-01, -4.18001989e-01,\n",
              "         2.91229699e+00, -2.81830945e-01, -2.34177414e-01,\n",
              "        -2.24837470e-01, -1.94822991e-01, -1.13428350e-01,\n",
              "        -9.88082193e-02, -7.90814839e-02, -5.88829472e-02,\n",
              "        -4.99345588e-02, -4.34668653e-02, -2.90138295e-02,\n",
              "        -2.66758083e-02, -1.72534769e-02],\n",
              "       [ 1.23378382e+00, -2.29358919e-01,  1.91372045e-01,\n",
              "         2.40042942e+00, -9.94554761e-01, -4.18001989e-01,\n",
              "        -3.43371573e-01, -2.81830945e-01, -2.34177414e-01,\n",
              "        -2.24837470e-01, -1.94822991e-01,  8.81613810e+00,\n",
              "        -9.88082193e-02, -7.90814839e-02, -5.88829472e-02,\n",
              "        -4.99345588e-02, -4.34668653e-02, -2.90138295e-02,\n",
              "        -2.66758083e-02, -1.72534769e-02],\n",
              "       [ 1.23378382e+00, -2.29358919e-01, -1.20915709e-01,\n",
              "         1.07166031e+00, -9.94554761e-01, -4.18001989e-01,\n",
              "        -3.43371573e-01, -2.81830945e-01,  4.27026664e+00,\n",
              "        -2.24837470e-01, -1.94822991e-01, -1.13428350e-01,\n",
              "        -9.88082193e-02, -7.90814839e-02, -5.88829472e-02,\n",
              "        -4.99345588e-02, -4.34668653e-02, -2.90138295e-02,\n",
              "        -2.66758083e-02, -1.72534769e-02],\n",
              "       [ 1.23378382e+00, -2.29358919e-01,  1.91372045e-01,\n",
              "         2.40042942e+00, -9.94554761e-01, -4.18001989e-01,\n",
              "        -3.43371573e-01, -2.81830945e-01, -2.34177414e-01,\n",
              "        -2.24837470e-01, -1.94822991e-01,  8.81613810e+00,\n",
              "        -9.88082193e-02, -7.90814839e-02, -5.88829472e-02,\n",
              "        -4.99345588e-02, -4.34668653e-02, -2.90138295e-02,\n",
              "        -2.66758083e-02, -1.72534769e-02],\n",
              "       [ 1.23378382e+00, -2.29358919e-01, -1.20915709e-01,\n",
              "         1.07166031e+00, -9.94554761e-01, -4.18001989e-01,\n",
              "        -3.43371573e-01, -2.81830945e-01,  4.27026664e+00,\n",
              "        -2.24837470e-01, -1.94822991e-01, -1.13428350e-01,\n",
              "        -9.88082193e-02, -7.90814839e-02, -5.88829472e-02,\n",
              "        -4.99345588e-02, -4.34668653e-02, -2.90138295e-02,\n",
              "        -2.66758083e-02, -1.72534769e-02],\n",
              "       [ 1.23378382e+00, -2.29358919e-01, -1.20915709e-01,\n",
              "         1.95750638e+00, -9.94554761e-01, -4.18001989e-01,\n",
              "        -3.43371573e-01, -2.81830945e-01, -2.34177414e-01,\n",
              "        -2.24837470e-01,  5.13286442e+00, -1.13428350e-01,\n",
              "        -9.88082193e-02, -7.90814839e-02, -5.88829472e-02,\n",
              "        -4.99345588e-02, -4.34668653e-02, -2.90138295e-02,\n",
              "        -2.66758083e-02, -1.72534769e-02],\n",
              "       [ 1.23378382e+00, -2.29358919e-01,  1.67349910e-01,\n",
              "        -2.57108814e-01, -9.94554761e-01,  2.39233311e+00,\n",
              "        -3.43371573e-01, -2.81830945e-01, -2.34177414e-01,\n",
              "        -2.24837470e-01, -1.94822991e-01, -1.13428350e-01,\n",
              "        -9.88082193e-02, -7.90814839e-02, -5.88829472e-02,\n",
              "        -4.99345588e-02, -4.34668653e-02, -2.90138295e-02,\n",
              "        -2.66758083e-02, -1.72534769e-02],\n",
              "       [ 1.23378382e+00, -2.29358919e-01,  1.53661160e+00,\n",
              "        -2.57108814e-01, -9.94554761e-01,  2.39233311e+00,\n",
              "        -3.43371573e-01, -2.81830945e-01, -2.34177414e-01,\n",
              "        -2.24837470e-01, -1.94822991e-01, -1.13428350e-01,\n",
              "        -9.88082193e-02, -7.90814839e-02, -5.88829472e-02,\n",
              "        -4.99345588e-02, -4.34668653e-02, -2.90138295e-02,\n",
              "        -2.66758083e-02, -1.72534769e-02],\n",
              "       [ 1.23378382e+00, -2.29358919e-01, -7.28714394e-02,\n",
              "         6.28737266e-01, -9.94554761e-01, -4.18001989e-01,\n",
              "        -3.43371573e-01,  3.54822640e+00, -2.34177414e-01,\n",
              "        -2.24837470e-01, -1.94822991e-01, -1.13428350e-01,\n",
              "        -9.88082193e-02, -7.90814839e-02, -5.88829472e-02,\n",
              "        -4.99345588e-02, -4.34668653e-02, -2.90138295e-02,\n",
              "        -2.66758083e-02, -1.72534769e-02],\n",
              "       [ 1.23378382e+00, -2.29358919e-01,  7.12613701e-02,\n",
              "         6.28737266e-01, -9.94554761e-01, -4.18001989e-01,\n",
              "        -3.43371573e-01,  3.54822640e+00, -2.34177414e-01,\n",
              "        -2.24837470e-01, -1.94822991e-01, -1.13428350e-01,\n",
              "        -9.88082193e-02, -7.90814839e-02, -5.88829472e-02,\n",
              "        -4.99345588e-02, -4.34668653e-02, -2.90138295e-02,\n",
              "        -2.66758083e-02, -1.72534769e-02],\n",
              "       [ 1.23378382e+00, -2.29358919e-01,  2.32171003e-02,\n",
              "         1.07166031e+00, -9.94554761e-01, -4.18001989e-01,\n",
              "        -3.43371573e-01, -2.81830945e-01,  4.27026664e+00,\n",
              "        -2.24837470e-01, -1.94822991e-01, -1.13428350e-01,\n",
              "        -9.88082193e-02, -7.90814839e-02, -5.88829472e-02,\n",
              "        -4.99345588e-02, -4.34668653e-02, -2.90138295e-02,\n",
              "        -2.66758083e-02, -1.72534769e-02],\n",
              "       [ 1.23378382e+00, -2.29358919e-01, -3.61137059e-01,\n",
              "         1.51458334e+00, -9.94554761e-01, -4.18001989e-01,\n",
              "        -3.43371573e-01, -2.81830945e-01, -2.34177414e-01,\n",
              "         4.44765723e+00, -1.94822991e-01, -1.13428350e-01,\n",
              "        -9.88082193e-02, -7.90814839e-02, -5.88829472e-02,\n",
              "        -4.99345588e-02, -4.34668653e-02, -2.90138295e-02,\n",
              "        -2.66758083e-02, -1.72534769e-02],\n",
              "       [ 1.23378382e+00, -2.29358919e-01,  2.32171003e-02,\n",
              "         1.85814226e-01, -9.94554761e-01, -4.18001989e-01,\n",
              "         2.91229699e+00, -2.81830945e-01, -2.34177414e-01,\n",
              "        -2.24837470e-01, -1.94822991e-01, -1.13428350e-01,\n",
              "        -9.88082193e-02, -7.90814839e-02, -5.88829472e-02,\n",
              "        -4.99345588e-02, -4.34668653e-02, -2.90138295e-02,\n",
              "        -2.66758083e-02, -1.72534769e-02],\n",
              "       [ 1.23378382e+00, -2.29358919e-01, -3.61137059e-01,\n",
              "         5.94381374e+00, -9.94554761e-01, -4.18001989e-01,\n",
              "        -3.43371573e-01, -2.81830945e-01, -2.34177414e-01,\n",
              "        -2.24837470e-01, -1.94822991e-01, -1.13428350e-01,\n",
              "        -9.88082193e-02, -7.90814839e-02, -5.88829472e-02,\n",
              "        -4.99345588e-02, -4.34668653e-02, -2.90138295e-02,\n",
              "        -2.66758083e-02,  5.79593324e+01],\n",
              "       [ 1.23378382e+00, -2.29358919e-01,  3.11482719e-01,\n",
              "        -7.00031854e-01,  1.00547505e+00, -4.18001989e-01,\n",
              "        -3.43371573e-01, -2.81830945e-01, -2.34177414e-01,\n",
              "        -2.24837470e-01, -1.94822991e-01, -1.13428350e-01,\n",
              "        -9.88082193e-02, -7.90814839e-02, -5.88829472e-02,\n",
              "        -4.99345588e-02, -4.34668653e-02, -2.90138295e-02,\n",
              "        -2.66758083e-02, -1.72534769e-02]])"
            ]
          },
          "metadata": {
            "tags": []
          },
          "execution_count": 29
        }
      ]
    },
    {
      "cell_type": "code",
      "metadata": {
        "id": "ltW3NU9HLt3i",
        "colab_type": "code",
        "colab": {}
      },
      "source": [
        "from sklearn.tree import DecisionTreeClassifier\n",
        "from sklearn.model_selection import train_test_split\n",
        "import sklearn.metrics as metrics"
      ],
      "execution_count": 0,
      "outputs": []
    },
    {
      "cell_type": "code",
      "metadata": {
        "id": "UZtk4KSVLliz",
        "colab_type": "code",
        "colab": {
          "base_uri": "https://localhost:8080/",
          "height": 119
        },
        "outputId": "24853827-beec-4a9e-b0bc-351ab1552fd2"
      },
      "source": [
        "dtmodel = DecisionTreeClassifier(criterion=\"entropy\", max_depth = 4)\n",
        "X_train, X_test, y_train, y_test = train_test_split(X, y, test_size=0.33, random_state=42)\n",
        "dtmodel.fit(X_train,y_train)"
      ],
      "execution_count": 31,
      "outputs": [
        {
          "output_type": "execute_result",
          "data": {
            "text/plain": [
              "DecisionTreeClassifier(ccp_alpha=0.0, class_weight=None, criterion='entropy',\n",
              "                       max_depth=4, max_features=None, max_leaf_nodes=None,\n",
              "                       min_impurity_decrease=0.0, min_impurity_split=None,\n",
              "                       min_samples_leaf=1, min_samples_split=2,\n",
              "                       min_weight_fraction_leaf=0.0, presort='deprecated',\n",
              "                       random_state=None, splitter='best')"
            ]
          },
          "metadata": {
            "tags": []
          },
          "execution_count": 31
        }
      ]
    },
    {
      "cell_type": "code",
      "metadata": {
        "id": "hE8zAxtYL87j",
        "colab_type": "code",
        "colab": {
          "base_uri": "https://localhost:8080/",
          "height": 34
        },
        "outputId": "a0968f6b-f206-4989-99c8-628eb10a9ba5"
      },
      "source": [
        "y_pred=dtmodel.predict(X_test)\n",
        "TreeAccuracy=metrics.accuracy_score(y_test,y_pred)\n",
        "TreeAccuracy\n"
      ],
      "execution_count": 32,
      "outputs": [
        {
          "output_type": "execute_result",
          "data": {
            "text/plain": [
              "0.8250937396174475"
            ]
          },
          "metadata": {
            "tags": []
          },
          "execution_count": 32
        }
      ]
    }
  ]
}