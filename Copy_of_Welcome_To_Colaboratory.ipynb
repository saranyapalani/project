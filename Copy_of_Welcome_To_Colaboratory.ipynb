{
  "nbformat": 4,
  "nbformat_minor": 0,
  "metadata": {
    "colab": {
      "name": "Copy of Welcome To Colaboratory",
      "provenance": [],
      "collapsed_sections": [],
      "toc_visible": true,
      "include_colab_link": true
    },
    "kernelspec": {
      "display_name": "Python 3",
      "name": "python3"
    }
  },
  "cells": [
    {
      "cell_type": "markdown",
      "metadata": {
        "id": "view-in-github",
        "colab_type": "text"
      },
      "source": [
        "<a href=\"https://colab.research.google.com/github/saranyapalani/project/blob/master/Copy_of_Welcome_To_Colaboratory.ipynb\" target=\"_parent\"><img src=\"https://colab.research.google.com/assets/colab-badge.svg\" alt=\"Open In Colab\"/></a>"
      ]
    },
    {
      "cell_type": "markdown",
      "metadata": {
        "colab_type": "text",
        "id": "5fCEDCU_qrC0"
      },
      "source": [
        "<p><img alt=\"Colaboratory logo\" height=\"45px\" src=\"/img/colab_favicon.ico\" align=\"left\" hspace=\"10px\" vspace=\"0px\"></p>\n",
        "\n",
        "<h1>Welcome to Colaboratory!</h1>\n",
        "\n",
        "\n",
        "Colaboratory is a free Jupyter notebook environment that requires no setup and runs entirely in the cloud.\n",
        "\n",
        "With Colaboratory you can write and execute code, save and share your analyses, and access powerful computing resources, all for free from your browser."
      ]
    },
    {
      "cell_type": "code",
      "metadata": {
        "colab_type": "code",
        "id": "xitplqMNk_Hc",
        "outputId": "ed4f60d2-878d-4056-c438-352dac39a112",
        "colab": {
          "height": 420
        }
      },
      "source": [
        "#@title Introducing Colaboratory { display-mode: \"form\" }\n",
        "#@markdown This 3-minute video gives an overview of the key features of Colaboratory:\n",
        "from IPython.display import YouTubeVideo\n",
        "YouTubeVideo('inN8seMm7UI', width=600, height=400)"
      ],
      "execution_count": 0,
      "outputs": [
        {
          "output_type": "execute_result",
          "data": {
            "text/html": [
              "\n",
              "        <iframe\n",
              "            width=\"600\"\n",
              "            height=\"400\"\n",
              "            src=\"https://www.youtube.com/embed/inN8seMm7UI\"\n",
              "            frameborder=\"0\"\n",
              "            allowfullscreen\n",
              "        ></iframe>\n",
              "        "
            ],
            "text/plain": [
              "<IPython.lib.display.YouTubeVideo at 0x7f956e9dda50>"
            ]
          },
          "metadata": {
            "tags": []
          },
          "execution_count": 0
        }
      ]
    },
    {
      "cell_type": "markdown",
      "metadata": {
        "colab_type": "text",
        "id": "GJBs_flRovLc"
      },
      "source": [
        "## Getting Started\n",
        "\n",
        "The document you are reading is a  [Jupyter notebook](https://jupyter.org/), hosted in Colaboratory. It is not a static page, but an interactive environment that lets you write and execute code in Python and other languages.\n",
        "\n",
        "For example, here is a **code cell** with a short Python script that computes a value, stores it in a variable, and prints the result:"
      ]
    },
    {
      "cell_type": "code",
      "metadata": {
        "colab_type": "code",
        "id": "gJr_9dXGpJ05",
        "outputId": "5626194c-e802-4293-942d-2908885c3c1f",
        "colab": {
          "height": 35
        }
      },
      "source": [
        "seconds_in_a_day = 24 * 60 * 60\n",
        "seconds_in_a_day"
      ],
      "execution_count": 0,
      "outputs": [
        {
          "output_type": "execute_result",
          "data": {
            "text/plain": [
              "86400"
            ]
          },
          "metadata": {
            "tags": []
          },
          "execution_count": 0
        }
      ]
    },
    {
      "cell_type": "markdown",
      "metadata": {
        "colab_type": "text",
        "id": "2fhs6GZ4qFMx"
      },
      "source": [
        "To execute the code in the above cell, select it with a click and then either press the play button to the left of the code, or use the keyboard shortcut \"Command/Ctrl+Enter\".\n",
        "\n",
        "All cells modify the same global state, so variables that you define by executing a cell can be used in other cells:"
      ]
    },
    {
      "cell_type": "code",
      "metadata": {
        "colab_type": "code",
        "id": "-gE-Ez1qtyIA",
        "outputId": "8d2e4259-4682-4e19-b683-7b9087f28820",
        "colab": {
          "height": 35
        }
      },
      "source": [
        "seconds_in_a_week = 7 * seconds_in_a_day\n",
        "seconds_in_a_week"
      ],
      "execution_count": 0,
      "outputs": [
        {
          "output_type": "execute_result",
          "data": {
            "text/plain": [
              "604800"
            ]
          },
          "metadata": {
            "tags": []
          },
          "execution_count": 0
        }
      ]
    },
    {
      "cell_type": "markdown",
      "metadata": {
        "colab_type": "text",
        "id": "lSrWNr3MuFUS"
      },
      "source": [
        "For more information about working with Colaboratory notebooks, see [Overview of Colaboratory](/notebooks/basic_features_overview.ipynb).\n"
      ]
    },
    {
      "cell_type": "markdown",
      "metadata": {
        "colab_type": "text",
        "id": "-Rh3-Vt9Nev9"
      },
      "source": [
        "## More Resources\n",
        "\n",
        "Learn how to make the most of Python, Jupyter, Colaboratory, and related tools with these resources:\n",
        "\n",
        "### Working with Notebooks in Colaboratory\n",
        "- [Overview of Colaboratory](/notebooks/basic_features_overview.ipynb)\n",
        "- [Guide to Markdown](/notebooks/markdown_guide.ipynb)\n",
        "- [Importing libraries and installing dependencies](/notebooks/snippets/importing_libraries.ipynb)\n",
        "- [Saving and loading notebooks in GitHub](https://colab.research.google.com/github/googlecolab/colabtools/blob/master/notebooks/colab-github-demo.ipynb)\n",
        "- [Interactive forms](/notebooks/forms.ipynb)\n",
        "- [Interactive widgets](/notebooks/widgets.ipynb)\n",
        "- <img src=\"/img/new.png\" height=\"20px\" align=\"left\" hspace=\"4px\" alt=\"New\"></img>\n",
        " [TensorFlow 2 in Colab](/notebooks/tensorflow_version.ipynb)\n",
        "\n",
        "### Working with Data\n",
        "- [Loading data: Drive, Sheets, and Google Cloud Storage](/notebooks/io.ipynb) \n",
        "- [Charts: visualizing data](/notebooks/charts.ipynb)\n",
        "- [Getting started with BigQuery](/notebooks/bigquery.ipynb)\n",
        "\n",
        "### Machine Learning Crash Course\n",
        "These are a few of the notebooks from Google's online Machine Learning course. See the [full course website](https://developers.google.com/machine-learning/crash-course/) for more.\n",
        "- [Intro to Pandas](/notebooks/mlcc/intro_to_pandas.ipynb)\n",
        "- [Tensorflow concepts](/notebooks/mlcc/tensorflow_programming_concepts.ipynb)\n",
        "- [First steps with TensorFlow](/notebooks/mlcc/first_steps_with_tensor_flow.ipynb)\n",
        "- [Intro to neural nets](/notebooks/mlcc/intro_to_neural_nets.ipynb)\n",
        "- [Intro to sparse data and embeddings](/notebooks/mlcc/intro_to_sparse_data_and_embeddings.ipynb)\n",
        "\n",
        "### Using Accelerated Hardware\n",
        "- [TensorFlow with GPUs](/notebooks/gpu.ipynb)\n",
        "- [TensorFlow with TPUs](/notebooks/tpu.ipynb)"
      ]
    },
    {
      "cell_type": "markdown",
      "metadata": {
        "colab_type": "text",
        "id": "P-H6Lw1vyNNd"
      },
      "source": [
        "## Machine Learning Examples: Seedbank\n",
        "\n",
        "To see end-to-end examples of the interactive machine learning analyses that Colaboratory makes possible, check out the [Seedbank](https://research.google.com/seedbank/) project.\n",
        "\n",
        "A few featured examples:\n",
        "\n",
        "- [Neural Style Transfer](https://research.google.com/seedbank/seed/neural_style_transfer_with_tfkeras): Use deep learning to transfer style between images.\n",
        "- [EZ NSynth](https://research.google.com/seedbank/seed/ez_nsynth): Synthesize audio with WaveNet auto-encoders.\n",
        "- [Fashion MNIST with Keras and TPUs](https://research.google.com/seedbank/seed/fashion_mnist_with_keras_and_tpus): Classify fashion-related images with deep learning.\n",
        "- [DeepDream](https://research.google.com/seedbank/seed/deepdream): Produce DeepDream images from your own photos.\n",
        "- [Convolutional VAE](https://research.google.com/seedbank/seed/convolutional_vae): Create a generative model of handwritten digits."
      ]
    },
    {
      "cell_type": "code",
      "metadata": {
        "id": "6LyVAMCx1afJ",
        "colab_type": "code",
        "colab": {}
      },
      "source": [
        "import pandas as pd\n",
        "import numpy as np\n",
        "import matplotlib.pyplot as plt\n",
        "import seaborn as sns\n",
        "from sklearn.metrics import mean_squared_error, r2_score\n",
        "from sklearn.linear_model import LinearRegression\n",
        "from sklearn.model_selection import train_test_split\n",
        "import os\n",
        "import folium\n",
        "import webbrowser\n",
        "from PIL import Image"
      ],
      "execution_count": 0,
      "outputs": []
    },
    {
      "cell_type": "code",
      "metadata": {
        "id": "oLiRPEmf1cju",
        "colab_type": "code",
        "colab": {}
      },
      "source": [
        "dataset_path1 = 'Chicago_Crimes_2001_to_2004.csv'\n",
        "dataset_path2 = 'Chicago_Crimes_2005_to_2007.csv'\n",
        "dataset_path3 = 'Chicago_Crimes_2008_to_2011.csv'\n",
        "dataset_path4 = 'Chicago_Crimes_2012_to_2017.csv'\n",
        "dataset_path5 = 'Crimes_-_2001_to_present.csv'\n",
        "c0104 = pd.read_csv(dataset_path1, engine='python')\n",
        "c0507 = pd.read_csv(dataset_path2, engine='python')\n",
        "c0811 = pd.read_csv(dataset_path3, engine='python')\n",
        "c1217 = pd.read_csv(dataset_path4, engine='python')\n",
        "c1719 = pd.read_csv(dataset_path5, engine='python')\n",
        "\n"
      ],
      "execution_count": 0,
      "outputs": []
    },
    {
      "cell_type": "code",
      "metadata": {
        "id": "bkNAAtlO1iUX",
        "colab_type": "code",
        "outputId": "93072c3d-6e22-409d-b9be-1d7ec2d614af",
        "colab": {
          "base_uri": "https://localhost:8080/",
          "height": 428
        }
      },
      "source": [
        "c0104smooth=c0104.dropna(axis=1)\n",
        "c0104smooth.isna().sum()\n",
        "c0104smooth=c0104smooth[1:]\n",
        "print(len(c0104smooth))\n",
        "c0104.describe().to_csv(\"Clean_data_01_04.csv\")\n",
        "c0104smooth.head()\n"
      ],
      "execution_count": 0,
      "outputs": [
        {
          "output_type": "stream",
          "text": [
            "84297\n"
          ],
          "name": "stdout"
        },
        {
          "output_type": "execute_result",
          "data": {
            "text/html": [
              "<div>\n",
              "<style scoped>\n",
              "    .dataframe tbody tr th:only-of-type {\n",
              "        vertical-align: middle;\n",
              "    }\n",
              "\n",
              "    .dataframe tbody tr th {\n",
              "        vertical-align: top;\n",
              "    }\n",
              "\n",
              "    .dataframe thead th {\n",
              "        text-align: right;\n",
              "    }\n",
              "</style>\n",
              "<table border=\"1\" class=\"dataframe\">\n",
              "  <thead>\n",
              "    <tr style=\"text-align: right;\">\n",
              "      <th></th>\n",
              "      <th>Unnamed: 0</th>\n",
              "      <th>ID</th>\n",
              "      <th>Case Number</th>\n",
              "      <th>Date</th>\n",
              "      <th>Block</th>\n",
              "      <th>IUCR</th>\n",
              "      <th>Primary Type</th>\n",
              "      <th>Description</th>\n",
              "      <th>Location Description</th>\n",
              "      <th>Arrest</th>\n",
              "      <th>Domestic</th>\n",
              "      <th>Beat</th>\n",
              "      <th>District</th>\n",
              "      <th>FBI Code</th>\n",
              "      <th>Year</th>\n",
              "      <th>Updated On</th>\n",
              "    </tr>\n",
              "  </thead>\n",
              "  <tbody>\n",
              "    <tr>\n",
              "      <th>1</th>\n",
              "      <td>2544</td>\n",
              "      <td>4676906</td>\n",
              "      <td>HM278933</td>\n",
              "      <td>03/01/2003 12:00:00 AM</td>\n",
              "      <td>004XX W 42ND PL</td>\n",
              "      <td>2825</td>\n",
              "      <td>OTHER OFFENSE</td>\n",
              "      <td>HARASSMENT BY TELEPHONE</td>\n",
              "      <td>RESIDENCE</td>\n",
              "      <td>False</td>\n",
              "      <td>True</td>\n",
              "      <td>935</td>\n",
              "      <td>9.0</td>\n",
              "      <td>26</td>\n",
              "      <td>2003</td>\n",
              "      <td>04/15/2016 08:55:02 AM</td>\n",
              "    </tr>\n",
              "    <tr>\n",
              "      <th>2</th>\n",
              "      <td>2919</td>\n",
              "      <td>4789749</td>\n",
              "      <td>HM402220</td>\n",
              "      <td>06/20/2004 11:00:00 AM</td>\n",
              "      <td>025XX N KIMBALL AVE</td>\n",
              "      <td>1752</td>\n",
              "      <td>OFFENSE INVOLVING CHILDREN</td>\n",
              "      <td>AGG CRIM SEX ABUSE FAM MEMBER</td>\n",
              "      <td>RESIDENCE</td>\n",
              "      <td>False</td>\n",
              "      <td>False</td>\n",
              "      <td>1413</td>\n",
              "      <td>14.0</td>\n",
              "      <td>20</td>\n",
              "      <td>2004</td>\n",
              "      <td>08/17/2015 03:03:40 PM</td>\n",
              "    </tr>\n",
              "    <tr>\n",
              "      <th>3</th>\n",
              "      <td>2927</td>\n",
              "      <td>4789765</td>\n",
              "      <td>HM402058</td>\n",
              "      <td>12/30/2004 08:00:00 PM</td>\n",
              "      <td>045XX W MONTANA ST</td>\n",
              "      <td>0840</td>\n",
              "      <td>THEFT</td>\n",
              "      <td>FINANCIAL ID THEFT: OVER $300</td>\n",
              "      <td>OTHER</td>\n",
              "      <td>False</td>\n",
              "      <td>False</td>\n",
              "      <td>2521</td>\n",
              "      <td>25.0</td>\n",
              "      <td>06</td>\n",
              "      <td>2004</td>\n",
              "      <td>08/17/2015 03:03:40 PM</td>\n",
              "    </tr>\n",
              "    <tr>\n",
              "      <th>4</th>\n",
              "      <td>3302</td>\n",
              "      <td>4677901</td>\n",
              "      <td>HM275615</td>\n",
              "      <td>05/01/2003 01:00:00 AM</td>\n",
              "      <td>111XX S NORMAL AVE</td>\n",
              "      <td>0841</td>\n",
              "      <td>THEFT</td>\n",
              "      <td>FINANCIAL ID THEFT:$300 &amp;UNDER</td>\n",
              "      <td>RESIDENCE</td>\n",
              "      <td>False</td>\n",
              "      <td>False</td>\n",
              "      <td>2233</td>\n",
              "      <td>22.0</td>\n",
              "      <td>06</td>\n",
              "      <td>2003</td>\n",
              "      <td>04/15/2016 08:55:02 AM</td>\n",
              "    </tr>\n",
              "    <tr>\n",
              "      <th>5</th>\n",
              "      <td>3633</td>\n",
              "      <td>4838048</td>\n",
              "      <td>HM440266</td>\n",
              "      <td>08/01/2004 12:01:00 AM</td>\n",
              "      <td>012XX S HARDING AVE</td>\n",
              "      <td>0841</td>\n",
              "      <td>THEFT</td>\n",
              "      <td>FINANCIAL ID THEFT:$300 &amp;UNDER</td>\n",
              "      <td>APARTMENT</td>\n",
              "      <td>False</td>\n",
              "      <td>False</td>\n",
              "      <td>1011</td>\n",
              "      <td>10.0</td>\n",
              "      <td>06</td>\n",
              "      <td>2004</td>\n",
              "      <td>08/17/2015 03:03:40 PM</td>\n",
              "    </tr>\n",
              "  </tbody>\n",
              "</table>\n",
              "</div>"
            ],
            "text/plain": [
              "   Unnamed: 0       ID Case Number  ... FBI Code  Year              Updated On\n",
              "1        2544  4676906    HM278933  ...       26  2003  04/15/2016 08:55:02 AM\n",
              "2        2919  4789749    HM402220  ...       20  2004  08/17/2015 03:03:40 PM\n",
              "3        2927  4789765    HM402058  ...       06  2004  08/17/2015 03:03:40 PM\n",
              "4        3302  4677901    HM275615  ...       06  2003  04/15/2016 08:55:02 AM\n",
              "5        3633  4838048    HM440266  ...       06  2004  08/17/2015 03:03:40 PM\n",
              "\n",
              "[5 rows x 16 columns]"
            ]
          },
          "metadata": {
            "tags": []
          },
          "execution_count": 7
        }
      ]
    },
    {
      "cell_type": "code",
      "metadata": {
        "id": "ZNLM6qG81qds",
        "colab_type": "code",
        "outputId": "e8cdab31-6fec-4569-cbf6-b792c62643fa",
        "colab": {
          "base_uri": "https://localhost:8080/",
          "height": 428
        }
      },
      "source": [
        "c0507smooth=c0507.dropna(axis=1)\n",
        "c0507smooth.isna().sum()\n",
        "c0507smooth=c0507smooth[1:]\n",
        "print(len(c0507smooth))\n",
        "c0507.describe().to_csv(\"Clean_data_05_07.csv\")\n",
        "c0507smooth.head()"
      ],
      "execution_count": 0,
      "outputs": [
        {
          "output_type": "stream",
          "text": [
            "83725\n"
          ],
          "name": "stdout"
        },
        {
          "output_type": "execute_result",
          "data": {
            "text/html": [
              "<div>\n",
              "<style scoped>\n",
              "    .dataframe tbody tr th:only-of-type {\n",
              "        vertical-align: middle;\n",
              "    }\n",
              "\n",
              "    .dataframe tbody tr th {\n",
              "        vertical-align: top;\n",
              "    }\n",
              "\n",
              "    .dataframe thead th {\n",
              "        text-align: right;\n",
              "    }\n",
              "</style>\n",
              "<table border=\"1\" class=\"dataframe\">\n",
              "  <thead>\n",
              "    <tr style=\"text-align: right;\">\n",
              "      <th></th>\n",
              "      <th>Unnamed: 0</th>\n",
              "      <th>ID</th>\n",
              "      <th>Case Number</th>\n",
              "      <th>Date</th>\n",
              "      <th>Block</th>\n",
              "      <th>IUCR</th>\n",
              "      <th>Primary Type</th>\n",
              "      <th>Description</th>\n",
              "      <th>Location Description</th>\n",
              "      <th>Arrest</th>\n",
              "      <th>Domestic</th>\n",
              "      <th>Beat</th>\n",
              "      <th>Ward</th>\n",
              "      <th>FBI Code</th>\n",
              "      <th>Year</th>\n",
              "      <th>Updated On</th>\n",
              "    </tr>\n",
              "  </thead>\n",
              "  <tbody>\n",
              "    <tr>\n",
              "      <th>1</th>\n",
              "      <td>1</td>\n",
              "      <td>4673627</td>\n",
              "      <td>HM202199</td>\n",
              "      <td>02/26/2006 01:40:48 PM</td>\n",
              "      <td>065XX S RHODES AVE</td>\n",
              "      <td>2017</td>\n",
              "      <td>NARCOTICS</td>\n",
              "      <td>MANU/DELIVER:CRACK</td>\n",
              "      <td>SIDEWALK</td>\n",
              "      <td>True</td>\n",
              "      <td>False</td>\n",
              "      <td>321</td>\n",
              "      <td>20.0</td>\n",
              "      <td>18</td>\n",
              "      <td>2006</td>\n",
              "      <td>04/15/2016 08:55:02 AM</td>\n",
              "    </tr>\n",
              "    <tr>\n",
              "      <th>2</th>\n",
              "      <td>2</td>\n",
              "      <td>4673628</td>\n",
              "      <td>HM113861</td>\n",
              "      <td>01/08/2006 11:16:00 PM</td>\n",
              "      <td>013XX E 69TH ST</td>\n",
              "      <td>051A</td>\n",
              "      <td>ASSAULT</td>\n",
              "      <td>AGGRAVATED: HANDGUN</td>\n",
              "      <td>OTHER</td>\n",
              "      <td>False</td>\n",
              "      <td>False</td>\n",
              "      <td>321</td>\n",
              "      <td>5.0</td>\n",
              "      <td>04A</td>\n",
              "      <td>2006</td>\n",
              "      <td>04/15/2016 08:55:02 AM</td>\n",
              "    </tr>\n",
              "    <tr>\n",
              "      <th>3</th>\n",
              "      <td>4</td>\n",
              "      <td>4673629</td>\n",
              "      <td>HM274049</td>\n",
              "      <td>04/05/2006 06:45:00 PM</td>\n",
              "      <td>061XX W NEWPORT AVE</td>\n",
              "      <td>0460</td>\n",
              "      <td>BATTERY</td>\n",
              "      <td>SIMPLE</td>\n",
              "      <td>RESIDENCE</td>\n",
              "      <td>False</td>\n",
              "      <td>False</td>\n",
              "      <td>1633</td>\n",
              "      <td>38.0</td>\n",
              "      <td>08B</td>\n",
              "      <td>2006</td>\n",
              "      <td>04/15/2016 08:55:02 AM</td>\n",
              "    </tr>\n",
              "    <tr>\n",
              "      <th>4</th>\n",
              "      <td>5</td>\n",
              "      <td>4673630</td>\n",
              "      <td>HM187120</td>\n",
              "      <td>02/17/2006 09:03:14 PM</td>\n",
              "      <td>037XX W 60TH ST</td>\n",
              "      <td>1811</td>\n",
              "      <td>NARCOTICS</td>\n",
              "      <td>POSS: CANNABIS 30GMS OR LESS</td>\n",
              "      <td>ALLEY</td>\n",
              "      <td>True</td>\n",
              "      <td>False</td>\n",
              "      <td>822</td>\n",
              "      <td>13.0</td>\n",
              "      <td>18</td>\n",
              "      <td>2006</td>\n",
              "      <td>04/15/2016 08:55:02 AM</td>\n",
              "    </tr>\n",
              "    <tr>\n",
              "      <th>5</th>\n",
              "      <td>6</td>\n",
              "      <td>4673631</td>\n",
              "      <td>HM263167</td>\n",
              "      <td>03/30/2006 10:30:00 PM</td>\n",
              "      <td>014XX W 73RD PL</td>\n",
              "      <td>0560</td>\n",
              "      <td>ASSAULT</td>\n",
              "      <td>SIMPLE</td>\n",
              "      <td>APARTMENT</td>\n",
              "      <td>True</td>\n",
              "      <td>False</td>\n",
              "      <td>734</td>\n",
              "      <td>17.0</td>\n",
              "      <td>08A</td>\n",
              "      <td>2006</td>\n",
              "      <td>04/15/2016 08:55:02 AM</td>\n",
              "    </tr>\n",
              "  </tbody>\n",
              "</table>\n",
              "</div>"
            ],
            "text/plain": [
              "   Unnamed: 0       ID Case Number  ... FBI Code  Year              Updated On\n",
              "1           1  4673627    HM202199  ...       18  2006  04/15/2016 08:55:02 AM\n",
              "2           2  4673628    HM113861  ...      04A  2006  04/15/2016 08:55:02 AM\n",
              "3           4  4673629    HM274049  ...      08B  2006  04/15/2016 08:55:02 AM\n",
              "4           5  4673630    HM187120  ...       18  2006  04/15/2016 08:55:02 AM\n",
              "5           6  4673631    HM263167  ...      08A  2006  04/15/2016 08:55:02 AM\n",
              "\n",
              "[5 rows x 16 columns]"
            ]
          },
          "metadata": {
            "tags": []
          },
          "execution_count": 8
        }
      ]
    },
    {
      "cell_type": "code",
      "metadata": {
        "id": "hxFYk0Ue1vST",
        "colab_type": "code",
        "outputId": "4a32e1b8-7657-44cc-e17d-4ffdb78d3511",
        "colab": {
          "base_uri": "https://localhost:8080/",
          "height": 428
        }
      },
      "source": [
        "c0811smooth=c0811.dropna(axis=1)\n",
        "c0811smooth.isna().sum()\n",
        "c0811smooth=c0811smooth[1:]\n",
        "print(len(c0811smooth))\n",
        "c0811.describe().to_csv(\"Clean_data_08_11.csv\")\n",
        "c0811smooth.head()\n"
      ],
      "execution_count": 0,
      "outputs": [
        {
          "output_type": "stream",
          "text": [
            "74761\n"
          ],
          "name": "stdout"
        },
        {
          "output_type": "execute_result",
          "data": {
            "text/html": [
              "<div>\n",
              "<style scoped>\n",
              "    .dataframe tbody tr th:only-of-type {\n",
              "        vertical-align: middle;\n",
              "    }\n",
              "\n",
              "    .dataframe tbody tr th {\n",
              "        vertical-align: top;\n",
              "    }\n",
              "\n",
              "    .dataframe thead th {\n",
              "        text-align: right;\n",
              "    }\n",
              "</style>\n",
              "<table border=\"1\" class=\"dataframe\">\n",
              "  <thead>\n",
              "    <tr style=\"text-align: right;\">\n",
              "      <th></th>\n",
              "      <th>Unnamed: 0</th>\n",
              "      <th>ID</th>\n",
              "      <th>Case Number</th>\n",
              "      <th>Date</th>\n",
              "      <th>Block</th>\n",
              "      <th>IUCR</th>\n",
              "      <th>Primary Type</th>\n",
              "      <th>Description</th>\n",
              "      <th>Arrest</th>\n",
              "      <th>Domestic</th>\n",
              "      <th>Beat</th>\n",
              "      <th>District</th>\n",
              "      <th>FBI Code</th>\n",
              "      <th>Year</th>\n",
              "      <th>Updated On</th>\n",
              "    </tr>\n",
              "  </thead>\n",
              "  <tbody>\n",
              "    <tr>\n",
              "      <th>1</th>\n",
              "      <td>835</td>\n",
              "      <td>4786</td>\n",
              "      <td>HP616595</td>\n",
              "      <td>10/09/2008 03:30:00 AM</td>\n",
              "      <td>048XX W POLK ST</td>\n",
              "      <td>0110</td>\n",
              "      <td>HOMICIDE</td>\n",
              "      <td>FIRST DEGREE MURDER</td>\n",
              "      <td>True</td>\n",
              "      <td>False</td>\n",
              "      <td>1533</td>\n",
              "      <td>15.0</td>\n",
              "      <td>01A</td>\n",
              "      <td>2008</td>\n",
              "      <td>08/17/2015 03:03:40 PM</td>\n",
              "    </tr>\n",
              "    <tr>\n",
              "      <th>2</th>\n",
              "      <td>1334</td>\n",
              "      <td>4787</td>\n",
              "      <td>HP616904</td>\n",
              "      <td>10/09/2008 08:35:00 AM</td>\n",
              "      <td>030XX W MANN DR</td>\n",
              "      <td>0110</td>\n",
              "      <td>HOMICIDE</td>\n",
              "      <td>FIRST DEGREE MURDER</td>\n",
              "      <td>False</td>\n",
              "      <td>False</td>\n",
              "      <td>831</td>\n",
              "      <td>8.0</td>\n",
              "      <td>01A</td>\n",
              "      <td>2008</td>\n",
              "      <td>08/17/2015 03:03:40 PM</td>\n",
              "    </tr>\n",
              "    <tr>\n",
              "      <th>3</th>\n",
              "      <td>1907</td>\n",
              "      <td>4788</td>\n",
              "      <td>HP618616</td>\n",
              "      <td>10/10/2008 02:33:00 AM</td>\n",
              "      <td>052XX W CHICAGO AVE</td>\n",
              "      <td>0110</td>\n",
              "      <td>HOMICIDE</td>\n",
              "      <td>FIRST DEGREE MURDER</td>\n",
              "      <td>False</td>\n",
              "      <td>False</td>\n",
              "      <td>1524</td>\n",
              "      <td>15.0</td>\n",
              "      <td>01A</td>\n",
              "      <td>2008</td>\n",
              "      <td>08/17/2015 03:03:40 PM</td>\n",
              "    </tr>\n",
              "    <tr>\n",
              "      <th>4</th>\n",
              "      <td>2436</td>\n",
              "      <td>4789</td>\n",
              "      <td>HP619020</td>\n",
              "      <td>10/10/2008 12:50:00 PM</td>\n",
              "      <td>026XX S HOMAN AVE</td>\n",
              "      <td>0110</td>\n",
              "      <td>HOMICIDE</td>\n",
              "      <td>FIRST DEGREE MURDER</td>\n",
              "      <td>False</td>\n",
              "      <td>True</td>\n",
              "      <td>1032</td>\n",
              "      <td>10.0</td>\n",
              "      <td>01A</td>\n",
              "      <td>2008</td>\n",
              "      <td>08/17/2015 03:03:40 PM</td>\n",
              "    </tr>\n",
              "    <tr>\n",
              "      <th>5</th>\n",
              "      <td>3056</td>\n",
              "      <td>4790</td>\n",
              "      <td>HP620131</td>\n",
              "      <td>10/10/2008 08:32:00 PM</td>\n",
              "      <td>015XX W 14TH ST</td>\n",
              "      <td>0110</td>\n",
              "      <td>HOMICIDE</td>\n",
              "      <td>FIRST DEGREE MURDER</td>\n",
              "      <td>True</td>\n",
              "      <td>True</td>\n",
              "      <td>1231</td>\n",
              "      <td>12.0</td>\n",
              "      <td>01A</td>\n",
              "      <td>2008</td>\n",
              "      <td>08/17/2015 03:03:40 PM</td>\n",
              "    </tr>\n",
              "  </tbody>\n",
              "</table>\n",
              "</div>"
            ],
            "text/plain": [
              "   Unnamed: 0    ID Case Number  ... FBI Code  Year              Updated On\n",
              "1         835  4786    HP616595  ...      01A  2008  08/17/2015 03:03:40 PM\n",
              "2        1334  4787    HP616904  ...      01A  2008  08/17/2015 03:03:40 PM\n",
              "3        1907  4788    HP618616  ...      01A  2008  08/17/2015 03:03:40 PM\n",
              "4        2436  4789    HP619020  ...      01A  2008  08/17/2015 03:03:40 PM\n",
              "5        3056  4790    HP620131  ...      01A  2008  08/17/2015 03:03:40 PM\n",
              "\n",
              "[5 rows x 15 columns]"
            ]
          },
          "metadata": {
            "tags": []
          },
          "execution_count": 9
        }
      ]
    },
    {
      "cell_type": "code",
      "metadata": {
        "id": "QOQcy6yD1ztj",
        "colab_type": "code",
        "outputId": "b5f986d7-aafa-45c6-f5b5-ad316cb159a0",
        "colab": {
          "base_uri": "https://localhost:8080/",
          "height": 428
        }
      },
      "source": [
        "c1217smooth=c1217.dropna(axis=1)\n",
        "c1217smooth.isna().sum()\n",
        "c1217smooth=c1217smooth[1:]\n",
        "print(len(c1217smooth))\n",
        "c1217.describe().to_csv(\"Clean_data_12_17.csv\")\n",
        "c1217smooth.head()\n"
      ],
      "execution_count": 0,
      "outputs": [
        {
          "output_type": "stream",
          "text": [
            "101450\n"
          ],
          "name": "stdout"
        },
        {
          "output_type": "execute_result",
          "data": {
            "text/html": [
              "<div>\n",
              "<style scoped>\n",
              "    .dataframe tbody tr th:only-of-type {\n",
              "        vertical-align: middle;\n",
              "    }\n",
              "\n",
              "    .dataframe tbody tr th {\n",
              "        vertical-align: top;\n",
              "    }\n",
              "\n",
              "    .dataframe thead th {\n",
              "        text-align: right;\n",
              "    }\n",
              "</style>\n",
              "<table border=\"1\" class=\"dataframe\">\n",
              "  <thead>\n",
              "    <tr style=\"text-align: right;\">\n",
              "      <th></th>\n",
              "      <th>Unnamed: 0</th>\n",
              "      <th>ID</th>\n",
              "      <th>Case Number</th>\n",
              "      <th>Date</th>\n",
              "      <th>Block</th>\n",
              "      <th>IUCR</th>\n",
              "      <th>Primary Type</th>\n",
              "      <th>Description</th>\n",
              "      <th>Arrest</th>\n",
              "      <th>Domestic</th>\n",
              "      <th>Beat</th>\n",
              "      <th>District</th>\n",
              "      <th>FBI Code</th>\n",
              "      <th>Year</th>\n",
              "      <th>Updated On</th>\n",
              "    </tr>\n",
              "  </thead>\n",
              "  <tbody>\n",
              "    <tr>\n",
              "      <th>1</th>\n",
              "      <td>89</td>\n",
              "      <td>10508695</td>\n",
              "      <td>HZ250409</td>\n",
              "      <td>05/03/2016 09:40:00 PM</td>\n",
              "      <td>061XX S DREXEL AVE</td>\n",
              "      <td>0486</td>\n",
              "      <td>BATTERY</td>\n",
              "      <td>DOMESTIC BATTERY SIMPLE</td>\n",
              "      <td>False</td>\n",
              "      <td>True</td>\n",
              "      <td>313</td>\n",
              "      <td>3.0</td>\n",
              "      <td>08B</td>\n",
              "      <td>2016</td>\n",
              "      <td>05/10/2016 03:56:50 PM</td>\n",
              "    </tr>\n",
              "    <tr>\n",
              "      <th>2</th>\n",
              "      <td>197</td>\n",
              "      <td>10508697</td>\n",
              "      <td>HZ250503</td>\n",
              "      <td>05/03/2016 11:31:00 PM</td>\n",
              "      <td>053XX W CHICAGO AVE</td>\n",
              "      <td>0470</td>\n",
              "      <td>PUBLIC PEACE VIOLATION</td>\n",
              "      <td>RECKLESS CONDUCT</td>\n",
              "      <td>False</td>\n",
              "      <td>False</td>\n",
              "      <td>1524</td>\n",
              "      <td>15.0</td>\n",
              "      <td>24</td>\n",
              "      <td>2016</td>\n",
              "      <td>05/10/2016 03:56:50 PM</td>\n",
              "    </tr>\n",
              "    <tr>\n",
              "      <th>3</th>\n",
              "      <td>673</td>\n",
              "      <td>10508698</td>\n",
              "      <td>HZ250424</td>\n",
              "      <td>05/03/2016 10:10:00 PM</td>\n",
              "      <td>049XX W FULTON ST</td>\n",
              "      <td>0460</td>\n",
              "      <td>BATTERY</td>\n",
              "      <td>SIMPLE</td>\n",
              "      <td>False</td>\n",
              "      <td>False</td>\n",
              "      <td>1532</td>\n",
              "      <td>15.0</td>\n",
              "      <td>08B</td>\n",
              "      <td>2016</td>\n",
              "      <td>05/10/2016 03:56:50 PM</td>\n",
              "    </tr>\n",
              "    <tr>\n",
              "      <th>4</th>\n",
              "      <td>911</td>\n",
              "      <td>10508699</td>\n",
              "      <td>HZ250455</td>\n",
              "      <td>05/03/2016 10:00:00 PM</td>\n",
              "      <td>003XX N LOTUS AVE</td>\n",
              "      <td>0820</td>\n",
              "      <td>THEFT</td>\n",
              "      <td>$500 AND UNDER</td>\n",
              "      <td>False</td>\n",
              "      <td>True</td>\n",
              "      <td>1523</td>\n",
              "      <td>15.0</td>\n",
              "      <td>06</td>\n",
              "      <td>2016</td>\n",
              "      <td>05/10/2016 03:56:50 PM</td>\n",
              "    </tr>\n",
              "    <tr>\n",
              "      <th>5</th>\n",
              "      <td>1108</td>\n",
              "      <td>10508702</td>\n",
              "      <td>HZ250447</td>\n",
              "      <td>05/03/2016 10:35:00 PM</td>\n",
              "      <td>082XX S MARYLAND AVE</td>\n",
              "      <td>041A</td>\n",
              "      <td>BATTERY</td>\n",
              "      <td>AGGRAVATED: HANDGUN</td>\n",
              "      <td>False</td>\n",
              "      <td>False</td>\n",
              "      <td>631</td>\n",
              "      <td>6.0</td>\n",
              "      <td>04B</td>\n",
              "      <td>2016</td>\n",
              "      <td>05/10/2016 03:56:50 PM</td>\n",
              "    </tr>\n",
              "  </tbody>\n",
              "</table>\n",
              "</div>"
            ],
            "text/plain": [
              "   Unnamed: 0        ID Case Number  ... FBI Code  Year              Updated On\n",
              "1          89  10508695    HZ250409  ...      08B  2016  05/10/2016 03:56:50 PM\n",
              "2         197  10508697    HZ250503  ...       24  2016  05/10/2016 03:56:50 PM\n",
              "3         673  10508698    HZ250424  ...      08B  2016  05/10/2016 03:56:50 PM\n",
              "4         911  10508699    HZ250455  ...       06  2016  05/10/2016 03:56:50 PM\n",
              "5        1108  10508702    HZ250447  ...      04B  2016  05/10/2016 03:56:50 PM\n",
              "\n",
              "[5 rows x 15 columns]"
            ]
          },
          "metadata": {
            "tags": []
          },
          "execution_count": 10
        }
      ]
    },
    {
      "cell_type": "code",
      "metadata": {
        "id": "JFUgRgQX14kF",
        "colab_type": "code",
        "outputId": "32cb2b2f-2bae-4c69-f938-7070453ec4a5",
        "colab": {
          "base_uri": "https://localhost:8080/",
          "height": 411
        }
      },
      "source": [
        "c1719smooth=c1719.dropna(axis=1)\n",
        "c1719smooth.isna().sum()\n",
        "c1719smooth=c1719smooth[1:]\n",
        "print(len(c1719smooth))\n",
        "c1719.describe().to_csv(\"Clean_data_17_19.csv\")\n",
        "c1719smooth.head()"
      ],
      "execution_count": 0,
      "outputs": [
        {
          "output_type": "stream",
          "text": [
            "72129\n"
          ],
          "name": "stdout"
        },
        {
          "output_type": "execute_result",
          "data": {
            "text/html": [
              "<div>\n",
              "<style scoped>\n",
              "    .dataframe tbody tr th:only-of-type {\n",
              "        vertical-align: middle;\n",
              "    }\n",
              "\n",
              "    .dataframe tbody tr th {\n",
              "        vertical-align: top;\n",
              "    }\n",
              "\n",
              "    .dataframe thead th {\n",
              "        text-align: right;\n",
              "    }\n",
              "</style>\n",
              "<table border=\"1\" class=\"dataframe\">\n",
              "  <thead>\n",
              "    <tr style=\"text-align: right;\">\n",
              "      <th></th>\n",
              "      <th></th>\n",
              "      <th></th>\n",
              "      <th></th>\n",
              "      <th></th>\n",
              "      <th></th>\n",
              "      <th></th>\n",
              "      <th></th>\n",
              "      <th></th>\n",
              "      <th></th>\n",
              "      <th></th>\n",
              "      <th></th>\n",
              "      <th></th>\n",
              "      <th></th>\n",
              "      <th></th>\n",
              "      <th></th>\n",
              "      <th></th>\n",
              "      <th></th>\n",
              "      <th></th>\n",
              "      <th></th>\n",
              "      <th></th>\n",
              "    </tr>\n",
              "  </thead>\n",
              "  <tbody>\n",
              "    <tr>\n",
              "      <th>11162428</th>\n",
              "      <th>JA529032</th>\n",
              "      <th>11/28/2017 09:43:00 PM</th>\n",
              "      <th>026XX S CALIFORNIA BLVD</th>\n",
              "      <th>5131</th>\n",
              "      <th>OTHER OFFENSE</th>\n",
              "      <th>VIOLENT OFFENDER: ANNUAL REGISTRATION</th>\n",
              "      <th>JAIL / LOCK-UP FACILITY</th>\n",
              "      <th>True</th>\n",
              "      <th>False</th>\n",
              "      <th>1034</th>\n",
              "      <th>10</th>\n",
              "      <th>12.0</th>\n",
              "      <th>30.0</th>\n",
              "      <th>26</th>\n",
              "      <th>1158280.0</th>\n",
              "      <th>1886310.0</th>\n",
              "      <th>2017.0</th>\n",
              "      <th>02/11/2018 03:54:58 PM</th>\n",
              "      <th>41.843778</th>\n",
              "      <th>-87.694638</th>\n",
              "    </tr>\n",
              "    <tr>\n",
              "      <th>11175304</th>\n",
              "      <th>JA545986</th>\n",
              "      <th>12/11/2017 07:15:00 PM</th>\n",
              "      <th>007XX N SACRAMENTO BLVD</th>\n",
              "      <th>031A</th>\n",
              "      <th>ROBBERY</th>\n",
              "      <th>ARMED: HANDGUN</th>\n",
              "      <th>SIDEWALK</th>\n",
              "      <th>True</th>\n",
              "      <th>False</th>\n",
              "      <th>1221</th>\n",
              "      <th>12</th>\n",
              "      <th>27.0</th>\n",
              "      <th>23.0</th>\n",
              "      <th>03</th>\n",
              "      <th>1156092.0</th>\n",
              "      <th>1904769.0</th>\n",
              "      <th>2017.0</th>\n",
              "      <th>02/11/2018 03:54:58 PM</th>\n",
              "      <th>41.894476</th>\n",
              "      <th>-87.702169</th>\n",
              "    </tr>\n",
              "    <tr>\n",
              "      <th>11227287</th>\n",
              "      <th>JB147188</th>\n",
              "      <th>10/08/2017 03:00:00 AM</th>\n",
              "      <th>092XX S RACINE AVE</th>\n",
              "      <th>0281</th>\n",
              "      <th>CRIM SEXUAL ASSAULT</th>\n",
              "      <th>NON-AGGRAVATED</th>\n",
              "      <th>RESIDENCE</th>\n",
              "      <th>False</th>\n",
              "      <th>False</th>\n",
              "      <th>2222</th>\n",
              "      <th>22</th>\n",
              "      <th>21.0</th>\n",
              "      <th>73.0</th>\n",
              "      <th>02</th>\n",
              "      <th>NaN</th>\n",
              "      <th>NaN</th>\n",
              "      <th>2017.0</th>\n",
              "      <th>02/11/2018 03:57:41 PM</th>\n",
              "      <th>NaN</th>\n",
              "      <th>NaN</th>\n",
              "    </tr>\n",
              "    <tr>\n",
              "      <th>11227583</th>\n",
              "      <th>JB147595</th>\n",
              "      <th>03/28/2017 02:00:00 PM</th>\n",
              "      <th>026XX W 79TH ST</th>\n",
              "      <th>0620</th>\n",
              "      <th>BURGLARY</th>\n",
              "      <th>UNLAWFUL ENTRY</th>\n",
              "      <th>OTHER</th>\n",
              "      <th>False</th>\n",
              "      <th>False</th>\n",
              "      <th>835</th>\n",
              "      <th>8</th>\n",
              "      <th>18.0</th>\n",
              "      <th>70.0</th>\n",
              "      <th>05</th>\n",
              "      <th>NaN</th>\n",
              "      <th>NaN</th>\n",
              "      <th>2017.0</th>\n",
              "      <th>02/11/2018 03:57:41 PM</th>\n",
              "      <th>NaN</th>\n",
              "      <th>NaN</th>\n",
              "    </tr>\n",
              "    <tr>\n",
              "      <th>11227293</th>\n",
              "      <th>JB147230</th>\n",
              "      <th>09/09/2017 08:17:00 PM</th>\n",
              "      <th>060XX S EBERHART AVE</th>\n",
              "      <th>0810</th>\n",
              "      <th>THEFT</th>\n",
              "      <th>OVER $500</th>\n",
              "      <th>RESIDENCE</th>\n",
              "      <th>False</th>\n",
              "      <th>False</th>\n",
              "      <th>313</th>\n",
              "      <th>3</th>\n",
              "      <th>20.0</th>\n",
              "      <th>42.0</th>\n",
              "      <th>06</th>\n",
              "      <th>NaN</th>\n",
              "      <th>NaN</th>\n",
              "      <th>2017.0</th>\n",
              "      <th>02/11/2018 03:57:41 PM</th>\n",
              "      <th>NaN</th>\n",
              "      <th>NaN</th>\n",
              "    </tr>\n",
              "  </tbody>\n",
              "</table>\n",
              "</div>"
            ],
            "text/plain": [
              "Empty DataFrame\n",
              "Columns: []\n",
              "Index: [(11162428, JA529032, 11/28/2017 09:43:00 PM, 026XX S CALIFORNIA BLVD, 5131, OTHER OFFENSE, VIOLENT OFFENDER: ANNUAL REGISTRATION, JAIL / LOCK-UP FACILITY, True, False, 1034, 10, 12.0, 30.0, 26, 1158280.0, 1886310.0, 2017.0, 02/11/2018 03:54:58 PM, 41.843778126, -87.69463767799999), (11175304, JA545986, 12/11/2017 07:15:00 PM, 007XX N SACRAMENTO BLVD, 031A, ROBBERY, ARMED: HANDGUN, SIDEWALK, True, False, 1221, 12, 27.0, 23.0, 03, 1156092.0, 1904769.0, 2017.0, 02/11/2018 03:54:58 PM, 41.894475919, -87.70216915799999), (11227287, JB147188, 10/08/2017 03:00:00 AM, 092XX S RACINE AVE, 0281, CRIM SEXUAL ASSAULT, NON-AGGRAVATED, RESIDENCE, False, False, 2222, 22, 21.0, 73.0, 02, nan, nan, 2017.0, 02/11/2018 03:57:41 PM, nan, nan), (11227583, JB147595, 03/28/2017 02:00:00 PM, 026XX W 79TH ST, 0620, BURGLARY, UNLAWFUL ENTRY, OTHER, False, False, 835, 8, 18.0, 70.0, 05, nan, nan, 2017.0, 02/11/2018 03:57:41 PM, nan, nan), (11227293, JB147230, 09/09/2017 08:17:00 PM, 060XX S EBERHART AVE, 0810, THEFT, OVER $500, RESIDENCE, False, False, 313, 3, 20.0, 42.0, 06, nan, nan, 2017.0, 02/11/2018 03:57:41 PM, nan, nan)]"
            ]
          },
          "metadata": {
            "tags": []
          },
          "execution_count": 11
        }
      ]
    },
    {
      "cell_type": "code",
      "metadata": {
        "id": "xSQ276nN2DdF",
        "colab_type": "code",
        "outputId": "cc863110-dbd7-4b7c-c141-a8bf32cced87",
        "colab": {
          "base_uri": "https://localhost:8080/",
          "height": 411
        }
      },
      "source": [
        "c1=c0104smooth.columns.tolist()\n",
        "c0104smooth=c0104smooth[c1[1:]]\n",
        "c0104smooth.head()\n"
      ],
      "execution_count": 0,
      "outputs": [
        {
          "output_type": "execute_result",
          "data": {
            "text/html": [
              "<div>\n",
              "<style scoped>\n",
              "    .dataframe tbody tr th:only-of-type {\n",
              "        vertical-align: middle;\n",
              "    }\n",
              "\n",
              "    .dataframe tbody tr th {\n",
              "        vertical-align: top;\n",
              "    }\n",
              "\n",
              "    .dataframe thead th {\n",
              "        text-align: right;\n",
              "    }\n",
              "</style>\n",
              "<table border=\"1\" class=\"dataframe\">\n",
              "  <thead>\n",
              "    <tr style=\"text-align: right;\">\n",
              "      <th></th>\n",
              "      <th>ID</th>\n",
              "      <th>Case Number</th>\n",
              "      <th>Date</th>\n",
              "      <th>Block</th>\n",
              "      <th>IUCR</th>\n",
              "      <th>Primary Type</th>\n",
              "      <th>Description</th>\n",
              "      <th>Location Description</th>\n",
              "      <th>Arrest</th>\n",
              "      <th>Domestic</th>\n",
              "      <th>Beat</th>\n",
              "      <th>District</th>\n",
              "      <th>FBI Code</th>\n",
              "      <th>Year</th>\n",
              "      <th>Updated On</th>\n",
              "    </tr>\n",
              "  </thead>\n",
              "  <tbody>\n",
              "    <tr>\n",
              "      <th>1</th>\n",
              "      <td>4676906</td>\n",
              "      <td>HM278933</td>\n",
              "      <td>03/01/2003 12:00:00 AM</td>\n",
              "      <td>004XX W 42ND PL</td>\n",
              "      <td>2825</td>\n",
              "      <td>OTHER OFFENSE</td>\n",
              "      <td>HARASSMENT BY TELEPHONE</td>\n",
              "      <td>RESIDENCE</td>\n",
              "      <td>False</td>\n",
              "      <td>True</td>\n",
              "      <td>935</td>\n",
              "      <td>9.0</td>\n",
              "      <td>26</td>\n",
              "      <td>2003</td>\n",
              "      <td>04/15/2016 08:55:02 AM</td>\n",
              "    </tr>\n",
              "    <tr>\n",
              "      <th>2</th>\n",
              "      <td>4789749</td>\n",
              "      <td>HM402220</td>\n",
              "      <td>06/20/2004 11:00:00 AM</td>\n",
              "      <td>025XX N KIMBALL AVE</td>\n",
              "      <td>1752</td>\n",
              "      <td>OFFENSE INVOLVING CHILDREN</td>\n",
              "      <td>AGG CRIM SEX ABUSE FAM MEMBER</td>\n",
              "      <td>RESIDENCE</td>\n",
              "      <td>False</td>\n",
              "      <td>False</td>\n",
              "      <td>1413</td>\n",
              "      <td>14.0</td>\n",
              "      <td>20</td>\n",
              "      <td>2004</td>\n",
              "      <td>08/17/2015 03:03:40 PM</td>\n",
              "    </tr>\n",
              "    <tr>\n",
              "      <th>3</th>\n",
              "      <td>4789765</td>\n",
              "      <td>HM402058</td>\n",
              "      <td>12/30/2004 08:00:00 PM</td>\n",
              "      <td>045XX W MONTANA ST</td>\n",
              "      <td>0840</td>\n",
              "      <td>THEFT</td>\n",
              "      <td>FINANCIAL ID THEFT: OVER $300</td>\n",
              "      <td>OTHER</td>\n",
              "      <td>False</td>\n",
              "      <td>False</td>\n",
              "      <td>2521</td>\n",
              "      <td>25.0</td>\n",
              "      <td>06</td>\n",
              "      <td>2004</td>\n",
              "      <td>08/17/2015 03:03:40 PM</td>\n",
              "    </tr>\n",
              "    <tr>\n",
              "      <th>4</th>\n",
              "      <td>4677901</td>\n",
              "      <td>HM275615</td>\n",
              "      <td>05/01/2003 01:00:00 AM</td>\n",
              "      <td>111XX S NORMAL AVE</td>\n",
              "      <td>0841</td>\n",
              "      <td>THEFT</td>\n",
              "      <td>FINANCIAL ID THEFT:$300 &amp;UNDER</td>\n",
              "      <td>RESIDENCE</td>\n",
              "      <td>False</td>\n",
              "      <td>False</td>\n",
              "      <td>2233</td>\n",
              "      <td>22.0</td>\n",
              "      <td>06</td>\n",
              "      <td>2003</td>\n",
              "      <td>04/15/2016 08:55:02 AM</td>\n",
              "    </tr>\n",
              "    <tr>\n",
              "      <th>5</th>\n",
              "      <td>4838048</td>\n",
              "      <td>HM440266</td>\n",
              "      <td>08/01/2004 12:01:00 AM</td>\n",
              "      <td>012XX S HARDING AVE</td>\n",
              "      <td>0841</td>\n",
              "      <td>THEFT</td>\n",
              "      <td>FINANCIAL ID THEFT:$300 &amp;UNDER</td>\n",
              "      <td>APARTMENT</td>\n",
              "      <td>False</td>\n",
              "      <td>False</td>\n",
              "      <td>1011</td>\n",
              "      <td>10.0</td>\n",
              "      <td>06</td>\n",
              "      <td>2004</td>\n",
              "      <td>08/17/2015 03:03:40 PM</td>\n",
              "    </tr>\n",
              "  </tbody>\n",
              "</table>\n",
              "</div>"
            ],
            "text/plain": [
              "        ID Case Number  ...  Year              Updated On\n",
              "1  4676906    HM278933  ...  2003  04/15/2016 08:55:02 AM\n",
              "2  4789749    HM402220  ...  2004  08/17/2015 03:03:40 PM\n",
              "3  4789765    HM402058  ...  2004  08/17/2015 03:03:40 PM\n",
              "4  4677901    HM275615  ...  2003  04/15/2016 08:55:02 AM\n",
              "5  4838048    HM440266  ...  2004  08/17/2015 03:03:40 PM\n",
              "\n",
              "[5 rows x 15 columns]"
            ]
          },
          "metadata": {
            "tags": []
          },
          "execution_count": 12
        }
      ]
    },
    {
      "cell_type": "code",
      "metadata": {
        "id": "9pCR926d2WNf",
        "colab_type": "code",
        "outputId": "60176cdc-c2e7-41f3-c51c-b4dc29a88892",
        "colab": {
          "base_uri": "https://localhost:8080/",
          "height": 411
        }
      },
      "source": [
        "c2=c0507smooth.columns.tolist()\n",
        "c0507smooth=c0507smooth[c2[1:]]\n",
        "c0507smooth.head()\n"
      ],
      "execution_count": 0,
      "outputs": [
        {
          "output_type": "execute_result",
          "data": {
            "text/html": [
              "<div>\n",
              "<style scoped>\n",
              "    .dataframe tbody tr th:only-of-type {\n",
              "        vertical-align: middle;\n",
              "    }\n",
              "\n",
              "    .dataframe tbody tr th {\n",
              "        vertical-align: top;\n",
              "    }\n",
              "\n",
              "    .dataframe thead th {\n",
              "        text-align: right;\n",
              "    }\n",
              "</style>\n",
              "<table border=\"1\" class=\"dataframe\">\n",
              "  <thead>\n",
              "    <tr style=\"text-align: right;\">\n",
              "      <th></th>\n",
              "      <th>ID</th>\n",
              "      <th>Case Number</th>\n",
              "      <th>Date</th>\n",
              "      <th>Block</th>\n",
              "      <th>IUCR</th>\n",
              "      <th>Primary Type</th>\n",
              "      <th>Description</th>\n",
              "      <th>Location Description</th>\n",
              "      <th>Arrest</th>\n",
              "      <th>Domestic</th>\n",
              "      <th>Beat</th>\n",
              "      <th>Ward</th>\n",
              "      <th>FBI Code</th>\n",
              "      <th>Year</th>\n",
              "      <th>Updated On</th>\n",
              "    </tr>\n",
              "  </thead>\n",
              "  <tbody>\n",
              "    <tr>\n",
              "      <th>1</th>\n",
              "      <td>4673627</td>\n",
              "      <td>HM202199</td>\n",
              "      <td>02/26/2006 01:40:48 PM</td>\n",
              "      <td>065XX S RHODES AVE</td>\n",
              "      <td>2017</td>\n",
              "      <td>NARCOTICS</td>\n",
              "      <td>MANU/DELIVER:CRACK</td>\n",
              "      <td>SIDEWALK</td>\n",
              "      <td>True</td>\n",
              "      <td>False</td>\n",
              "      <td>321</td>\n",
              "      <td>20.0</td>\n",
              "      <td>18</td>\n",
              "      <td>2006</td>\n",
              "      <td>04/15/2016 08:55:02 AM</td>\n",
              "    </tr>\n",
              "    <tr>\n",
              "      <th>2</th>\n",
              "      <td>4673628</td>\n",
              "      <td>HM113861</td>\n",
              "      <td>01/08/2006 11:16:00 PM</td>\n",
              "      <td>013XX E 69TH ST</td>\n",
              "      <td>051A</td>\n",
              "      <td>ASSAULT</td>\n",
              "      <td>AGGRAVATED: HANDGUN</td>\n",
              "      <td>OTHER</td>\n",
              "      <td>False</td>\n",
              "      <td>False</td>\n",
              "      <td>321</td>\n",
              "      <td>5.0</td>\n",
              "      <td>04A</td>\n",
              "      <td>2006</td>\n",
              "      <td>04/15/2016 08:55:02 AM</td>\n",
              "    </tr>\n",
              "    <tr>\n",
              "      <th>3</th>\n",
              "      <td>4673629</td>\n",
              "      <td>HM274049</td>\n",
              "      <td>04/05/2006 06:45:00 PM</td>\n",
              "      <td>061XX W NEWPORT AVE</td>\n",
              "      <td>0460</td>\n",
              "      <td>BATTERY</td>\n",
              "      <td>SIMPLE</td>\n",
              "      <td>RESIDENCE</td>\n",
              "      <td>False</td>\n",
              "      <td>False</td>\n",
              "      <td>1633</td>\n",
              "      <td>38.0</td>\n",
              "      <td>08B</td>\n",
              "      <td>2006</td>\n",
              "      <td>04/15/2016 08:55:02 AM</td>\n",
              "    </tr>\n",
              "    <tr>\n",
              "      <th>4</th>\n",
              "      <td>4673630</td>\n",
              "      <td>HM187120</td>\n",
              "      <td>02/17/2006 09:03:14 PM</td>\n",
              "      <td>037XX W 60TH ST</td>\n",
              "      <td>1811</td>\n",
              "      <td>NARCOTICS</td>\n",
              "      <td>POSS: CANNABIS 30GMS OR LESS</td>\n",
              "      <td>ALLEY</td>\n",
              "      <td>True</td>\n",
              "      <td>False</td>\n",
              "      <td>822</td>\n",
              "      <td>13.0</td>\n",
              "      <td>18</td>\n",
              "      <td>2006</td>\n",
              "      <td>04/15/2016 08:55:02 AM</td>\n",
              "    </tr>\n",
              "    <tr>\n",
              "      <th>5</th>\n",
              "      <td>4673631</td>\n",
              "      <td>HM263167</td>\n",
              "      <td>03/30/2006 10:30:00 PM</td>\n",
              "      <td>014XX W 73RD PL</td>\n",
              "      <td>0560</td>\n",
              "      <td>ASSAULT</td>\n",
              "      <td>SIMPLE</td>\n",
              "      <td>APARTMENT</td>\n",
              "      <td>True</td>\n",
              "      <td>False</td>\n",
              "      <td>734</td>\n",
              "      <td>17.0</td>\n",
              "      <td>08A</td>\n",
              "      <td>2006</td>\n",
              "      <td>04/15/2016 08:55:02 AM</td>\n",
              "    </tr>\n",
              "  </tbody>\n",
              "</table>\n",
              "</div>"
            ],
            "text/plain": [
              "        ID Case Number  ...  Year              Updated On\n",
              "1  4673627    HM202199  ...  2006  04/15/2016 08:55:02 AM\n",
              "2  4673628    HM113861  ...  2006  04/15/2016 08:55:02 AM\n",
              "3  4673629    HM274049  ...  2006  04/15/2016 08:55:02 AM\n",
              "4  4673630    HM187120  ...  2006  04/15/2016 08:55:02 AM\n",
              "5  4673631    HM263167  ...  2006  04/15/2016 08:55:02 AM\n",
              "\n",
              "[5 rows x 15 columns]"
            ]
          },
          "metadata": {
            "tags": []
          },
          "execution_count": 13
        }
      ]
    },
    {
      "cell_type": "code",
      "metadata": {
        "id": "jOP4fnit2a5z",
        "colab_type": "code",
        "outputId": "937cfc4d-c151-4ce4-9251-f4f2558ee0d7",
        "colab": {
          "base_uri": "https://localhost:8080/",
          "height": 411
        }
      },
      "source": [
        "c3=c0811smooth.columns.tolist()\n",
        "c0811smooth=c0811smooth[c3[1:]]\n",
        "c0811smooth.head()\n"
      ],
      "execution_count": 0,
      "outputs": [
        {
          "output_type": "execute_result",
          "data": {
            "text/html": [
              "<div>\n",
              "<style scoped>\n",
              "    .dataframe tbody tr th:only-of-type {\n",
              "        vertical-align: middle;\n",
              "    }\n",
              "\n",
              "    .dataframe tbody tr th {\n",
              "        vertical-align: top;\n",
              "    }\n",
              "\n",
              "    .dataframe thead th {\n",
              "        text-align: right;\n",
              "    }\n",
              "</style>\n",
              "<table border=\"1\" class=\"dataframe\">\n",
              "  <thead>\n",
              "    <tr style=\"text-align: right;\">\n",
              "      <th></th>\n",
              "      <th>ID</th>\n",
              "      <th>Case Number</th>\n",
              "      <th>Date</th>\n",
              "      <th>Block</th>\n",
              "      <th>IUCR</th>\n",
              "      <th>Primary Type</th>\n",
              "      <th>Description</th>\n",
              "      <th>Arrest</th>\n",
              "      <th>Domestic</th>\n",
              "      <th>Beat</th>\n",
              "      <th>District</th>\n",
              "      <th>FBI Code</th>\n",
              "      <th>Year</th>\n",
              "      <th>Updated On</th>\n",
              "    </tr>\n",
              "  </thead>\n",
              "  <tbody>\n",
              "    <tr>\n",
              "      <th>1</th>\n",
              "      <td>4786</td>\n",
              "      <td>HP616595</td>\n",
              "      <td>10/09/2008 03:30:00 AM</td>\n",
              "      <td>048XX W POLK ST</td>\n",
              "      <td>0110</td>\n",
              "      <td>HOMICIDE</td>\n",
              "      <td>FIRST DEGREE MURDER</td>\n",
              "      <td>True</td>\n",
              "      <td>False</td>\n",
              "      <td>1533</td>\n",
              "      <td>15.0</td>\n",
              "      <td>01A</td>\n",
              "      <td>2008</td>\n",
              "      <td>08/17/2015 03:03:40 PM</td>\n",
              "    </tr>\n",
              "    <tr>\n",
              "      <th>2</th>\n",
              "      <td>4787</td>\n",
              "      <td>HP616904</td>\n",
              "      <td>10/09/2008 08:35:00 AM</td>\n",
              "      <td>030XX W MANN DR</td>\n",
              "      <td>0110</td>\n",
              "      <td>HOMICIDE</td>\n",
              "      <td>FIRST DEGREE MURDER</td>\n",
              "      <td>False</td>\n",
              "      <td>False</td>\n",
              "      <td>831</td>\n",
              "      <td>8.0</td>\n",
              "      <td>01A</td>\n",
              "      <td>2008</td>\n",
              "      <td>08/17/2015 03:03:40 PM</td>\n",
              "    </tr>\n",
              "    <tr>\n",
              "      <th>3</th>\n",
              "      <td>4788</td>\n",
              "      <td>HP618616</td>\n",
              "      <td>10/10/2008 02:33:00 AM</td>\n",
              "      <td>052XX W CHICAGO AVE</td>\n",
              "      <td>0110</td>\n",
              "      <td>HOMICIDE</td>\n",
              "      <td>FIRST DEGREE MURDER</td>\n",
              "      <td>False</td>\n",
              "      <td>False</td>\n",
              "      <td>1524</td>\n",
              "      <td>15.0</td>\n",
              "      <td>01A</td>\n",
              "      <td>2008</td>\n",
              "      <td>08/17/2015 03:03:40 PM</td>\n",
              "    </tr>\n",
              "    <tr>\n",
              "      <th>4</th>\n",
              "      <td>4789</td>\n",
              "      <td>HP619020</td>\n",
              "      <td>10/10/2008 12:50:00 PM</td>\n",
              "      <td>026XX S HOMAN AVE</td>\n",
              "      <td>0110</td>\n",
              "      <td>HOMICIDE</td>\n",
              "      <td>FIRST DEGREE MURDER</td>\n",
              "      <td>False</td>\n",
              "      <td>True</td>\n",
              "      <td>1032</td>\n",
              "      <td>10.0</td>\n",
              "      <td>01A</td>\n",
              "      <td>2008</td>\n",
              "      <td>08/17/2015 03:03:40 PM</td>\n",
              "    </tr>\n",
              "    <tr>\n",
              "      <th>5</th>\n",
              "      <td>4790</td>\n",
              "      <td>HP620131</td>\n",
              "      <td>10/10/2008 08:32:00 PM</td>\n",
              "      <td>015XX W 14TH ST</td>\n",
              "      <td>0110</td>\n",
              "      <td>HOMICIDE</td>\n",
              "      <td>FIRST DEGREE MURDER</td>\n",
              "      <td>True</td>\n",
              "      <td>True</td>\n",
              "      <td>1231</td>\n",
              "      <td>12.0</td>\n",
              "      <td>01A</td>\n",
              "      <td>2008</td>\n",
              "      <td>08/17/2015 03:03:40 PM</td>\n",
              "    </tr>\n",
              "  </tbody>\n",
              "</table>\n",
              "</div>"
            ],
            "text/plain": [
              "     ID Case Number  ...  Year              Updated On\n",
              "1  4786    HP616595  ...  2008  08/17/2015 03:03:40 PM\n",
              "2  4787    HP616904  ...  2008  08/17/2015 03:03:40 PM\n",
              "3  4788    HP618616  ...  2008  08/17/2015 03:03:40 PM\n",
              "4  4789    HP619020  ...  2008  08/17/2015 03:03:40 PM\n",
              "5  4790    HP620131  ...  2008  08/17/2015 03:03:40 PM\n",
              "\n",
              "[5 rows x 14 columns]"
            ]
          },
          "metadata": {
            "tags": []
          },
          "execution_count": 14
        }
      ]
    },
    {
      "cell_type": "code",
      "metadata": {
        "id": "7zgs-4Sv2yYP",
        "colab_type": "code",
        "outputId": "104fb728-b766-41e0-f345-299317d016b2",
        "colab": {
          "base_uri": "https://localhost:8080/",
          "height": 411
        }
      },
      "source": [
        "c4=c1217smooth.columns.tolist()\n",
        "c1217smooth=c1217smooth[c4[1:]]\n",
        "c1217smooth.head()\n"
      ],
      "execution_count": 0,
      "outputs": [
        {
          "output_type": "execute_result",
          "data": {
            "text/html": [
              "<div>\n",
              "<style scoped>\n",
              "    .dataframe tbody tr th:only-of-type {\n",
              "        vertical-align: middle;\n",
              "    }\n",
              "\n",
              "    .dataframe tbody tr th {\n",
              "        vertical-align: top;\n",
              "    }\n",
              "\n",
              "    .dataframe thead th {\n",
              "        text-align: right;\n",
              "    }\n",
              "</style>\n",
              "<table border=\"1\" class=\"dataframe\">\n",
              "  <thead>\n",
              "    <tr style=\"text-align: right;\">\n",
              "      <th></th>\n",
              "      <th>ID</th>\n",
              "      <th>Case Number</th>\n",
              "      <th>Date</th>\n",
              "      <th>Block</th>\n",
              "      <th>IUCR</th>\n",
              "      <th>Primary Type</th>\n",
              "      <th>Description</th>\n",
              "      <th>Arrest</th>\n",
              "      <th>Domestic</th>\n",
              "      <th>Beat</th>\n",
              "      <th>District</th>\n",
              "      <th>FBI Code</th>\n",
              "      <th>Year</th>\n",
              "      <th>Updated On</th>\n",
              "    </tr>\n",
              "  </thead>\n",
              "  <tbody>\n",
              "    <tr>\n",
              "      <th>1</th>\n",
              "      <td>10508695</td>\n",
              "      <td>HZ250409</td>\n",
              "      <td>05/03/2016 09:40:00 PM</td>\n",
              "      <td>061XX S DREXEL AVE</td>\n",
              "      <td>0486</td>\n",
              "      <td>BATTERY</td>\n",
              "      <td>DOMESTIC BATTERY SIMPLE</td>\n",
              "      <td>False</td>\n",
              "      <td>True</td>\n",
              "      <td>313</td>\n",
              "      <td>3.0</td>\n",
              "      <td>08B</td>\n",
              "      <td>2016</td>\n",
              "      <td>05/10/2016 03:56:50 PM</td>\n",
              "    </tr>\n",
              "    <tr>\n",
              "      <th>2</th>\n",
              "      <td>10508697</td>\n",
              "      <td>HZ250503</td>\n",
              "      <td>05/03/2016 11:31:00 PM</td>\n",
              "      <td>053XX W CHICAGO AVE</td>\n",
              "      <td>0470</td>\n",
              "      <td>PUBLIC PEACE VIOLATION</td>\n",
              "      <td>RECKLESS CONDUCT</td>\n",
              "      <td>False</td>\n",
              "      <td>False</td>\n",
              "      <td>1524</td>\n",
              "      <td>15.0</td>\n",
              "      <td>24</td>\n",
              "      <td>2016</td>\n",
              "      <td>05/10/2016 03:56:50 PM</td>\n",
              "    </tr>\n",
              "    <tr>\n",
              "      <th>3</th>\n",
              "      <td>10508698</td>\n",
              "      <td>HZ250424</td>\n",
              "      <td>05/03/2016 10:10:00 PM</td>\n",
              "      <td>049XX W FULTON ST</td>\n",
              "      <td>0460</td>\n",
              "      <td>BATTERY</td>\n",
              "      <td>SIMPLE</td>\n",
              "      <td>False</td>\n",
              "      <td>False</td>\n",
              "      <td>1532</td>\n",
              "      <td>15.0</td>\n",
              "      <td>08B</td>\n",
              "      <td>2016</td>\n",
              "      <td>05/10/2016 03:56:50 PM</td>\n",
              "    </tr>\n",
              "    <tr>\n",
              "      <th>4</th>\n",
              "      <td>10508699</td>\n",
              "      <td>HZ250455</td>\n",
              "      <td>05/03/2016 10:00:00 PM</td>\n",
              "      <td>003XX N LOTUS AVE</td>\n",
              "      <td>0820</td>\n",
              "      <td>THEFT</td>\n",
              "      <td>$500 AND UNDER</td>\n",
              "      <td>False</td>\n",
              "      <td>True</td>\n",
              "      <td>1523</td>\n",
              "      <td>15.0</td>\n",
              "      <td>06</td>\n",
              "      <td>2016</td>\n",
              "      <td>05/10/2016 03:56:50 PM</td>\n",
              "    </tr>\n",
              "    <tr>\n",
              "      <th>5</th>\n",
              "      <td>10508702</td>\n",
              "      <td>HZ250447</td>\n",
              "      <td>05/03/2016 10:35:00 PM</td>\n",
              "      <td>082XX S MARYLAND AVE</td>\n",
              "      <td>041A</td>\n",
              "      <td>BATTERY</td>\n",
              "      <td>AGGRAVATED: HANDGUN</td>\n",
              "      <td>False</td>\n",
              "      <td>False</td>\n",
              "      <td>631</td>\n",
              "      <td>6.0</td>\n",
              "      <td>04B</td>\n",
              "      <td>2016</td>\n",
              "      <td>05/10/2016 03:56:50 PM</td>\n",
              "    </tr>\n",
              "  </tbody>\n",
              "</table>\n",
              "</div>"
            ],
            "text/plain": [
              "         ID Case Number  ...  Year              Updated On\n",
              "1  10508695    HZ250409  ...  2016  05/10/2016 03:56:50 PM\n",
              "2  10508697    HZ250503  ...  2016  05/10/2016 03:56:50 PM\n",
              "3  10508698    HZ250424  ...  2016  05/10/2016 03:56:50 PM\n",
              "4  10508699    HZ250455  ...  2016  05/10/2016 03:56:50 PM\n",
              "5  10508702    HZ250447  ...  2016  05/10/2016 03:56:50 PM\n",
              "\n",
              "[5 rows x 14 columns]"
            ]
          },
          "metadata": {
            "tags": []
          },
          "execution_count": 15
        }
      ]
    },
    {
      "cell_type": "code",
      "metadata": {
        "id": "95Cszsm_22vj",
        "colab_type": "code",
        "outputId": "f27c9bd9-742b-4062-954e-e4299e37cd78",
        "colab": {
          "base_uri": "https://localhost:8080/",
          "height": 394
        }
      },
      "source": [
        "c5=c1719smooth.columns.tolist()\n",
        "c1719smooth=c1719smooth[c5[1:]]\n",
        "c1719smooth.head()\n"
      ],
      "execution_count": 0,
      "outputs": [
        {
          "output_type": "execute_result",
          "data": {
            "text/html": [
              "<div>\n",
              "<style scoped>\n",
              "    .dataframe tbody tr th:only-of-type {\n",
              "        vertical-align: middle;\n",
              "    }\n",
              "\n",
              "    .dataframe tbody tr th {\n",
              "        vertical-align: top;\n",
              "    }\n",
              "\n",
              "    .dataframe thead th {\n",
              "        text-align: right;\n",
              "    }\n",
              "</style>\n",
              "<table border=\"1\" class=\"dataframe\">\n",
              "  <thead>\n",
              "    <tr style=\"text-align: right;\">\n",
              "      <th></th>\n",
              "      <th></th>\n",
              "      <th></th>\n",
              "      <th></th>\n",
              "      <th></th>\n",
              "      <th></th>\n",
              "      <th></th>\n",
              "      <th></th>\n",
              "      <th></th>\n",
              "      <th></th>\n",
              "      <th></th>\n",
              "      <th></th>\n",
              "      <th></th>\n",
              "      <th></th>\n",
              "      <th></th>\n",
              "      <th></th>\n",
              "      <th></th>\n",
              "      <th></th>\n",
              "      <th></th>\n",
              "      <th></th>\n",
              "      <th></th>\n",
              "    </tr>\n",
              "  </thead>\n",
              "  <tbody>\n",
              "    <tr>\n",
              "      <th>11162428</th>\n",
              "      <th>JA529032</th>\n",
              "      <th>11/28/2017 09:43:00 PM</th>\n",
              "      <th>026XX S CALIFORNIA BLVD</th>\n",
              "      <th>5131</th>\n",
              "      <th>OTHER OFFENSE</th>\n",
              "      <th>VIOLENT OFFENDER: ANNUAL REGISTRATION</th>\n",
              "      <th>JAIL / LOCK-UP FACILITY</th>\n",
              "      <th>True</th>\n",
              "      <th>False</th>\n",
              "      <th>1034</th>\n",
              "      <th>10</th>\n",
              "      <th>12.0</th>\n",
              "      <th>30.0</th>\n",
              "      <th>26</th>\n",
              "      <th>1158280.0</th>\n",
              "      <th>1886310.0</th>\n",
              "      <th>2017.0</th>\n",
              "      <th>02/11/2018 03:54:58 PM</th>\n",
              "      <th>41.843778</th>\n",
              "      <th>-87.694638</th>\n",
              "    </tr>\n",
              "    <tr>\n",
              "      <th>11175304</th>\n",
              "      <th>JA545986</th>\n",
              "      <th>12/11/2017 07:15:00 PM</th>\n",
              "      <th>007XX N SACRAMENTO BLVD</th>\n",
              "      <th>031A</th>\n",
              "      <th>ROBBERY</th>\n",
              "      <th>ARMED: HANDGUN</th>\n",
              "      <th>SIDEWALK</th>\n",
              "      <th>True</th>\n",
              "      <th>False</th>\n",
              "      <th>1221</th>\n",
              "      <th>12</th>\n",
              "      <th>27.0</th>\n",
              "      <th>23.0</th>\n",
              "      <th>03</th>\n",
              "      <th>1156092.0</th>\n",
              "      <th>1904769.0</th>\n",
              "      <th>2017.0</th>\n",
              "      <th>02/11/2018 03:54:58 PM</th>\n",
              "      <th>41.894476</th>\n",
              "      <th>-87.702169</th>\n",
              "    </tr>\n",
              "    <tr>\n",
              "      <th>11227287</th>\n",
              "      <th>JB147188</th>\n",
              "      <th>10/08/2017 03:00:00 AM</th>\n",
              "      <th>092XX S RACINE AVE</th>\n",
              "      <th>0281</th>\n",
              "      <th>CRIM SEXUAL ASSAULT</th>\n",
              "      <th>NON-AGGRAVATED</th>\n",
              "      <th>RESIDENCE</th>\n",
              "      <th>False</th>\n",
              "      <th>False</th>\n",
              "      <th>2222</th>\n",
              "      <th>22</th>\n",
              "      <th>21.0</th>\n",
              "      <th>73.0</th>\n",
              "      <th>02</th>\n",
              "      <th>NaN</th>\n",
              "      <th>NaN</th>\n",
              "      <th>2017.0</th>\n",
              "      <th>02/11/2018 03:57:41 PM</th>\n",
              "      <th>NaN</th>\n",
              "      <th>NaN</th>\n",
              "    </tr>\n",
              "    <tr>\n",
              "      <th>11227583</th>\n",
              "      <th>JB147595</th>\n",
              "      <th>03/28/2017 02:00:00 PM</th>\n",
              "      <th>026XX W 79TH ST</th>\n",
              "      <th>0620</th>\n",
              "      <th>BURGLARY</th>\n",
              "      <th>UNLAWFUL ENTRY</th>\n",
              "      <th>OTHER</th>\n",
              "      <th>False</th>\n",
              "      <th>False</th>\n",
              "      <th>835</th>\n",
              "      <th>8</th>\n",
              "      <th>18.0</th>\n",
              "      <th>70.0</th>\n",
              "      <th>05</th>\n",
              "      <th>NaN</th>\n",
              "      <th>NaN</th>\n",
              "      <th>2017.0</th>\n",
              "      <th>02/11/2018 03:57:41 PM</th>\n",
              "      <th>NaN</th>\n",
              "      <th>NaN</th>\n",
              "    </tr>\n",
              "    <tr>\n",
              "      <th>11227293</th>\n",
              "      <th>JB147230</th>\n",
              "      <th>09/09/2017 08:17:00 PM</th>\n",
              "      <th>060XX S EBERHART AVE</th>\n",
              "      <th>0810</th>\n",
              "      <th>THEFT</th>\n",
              "      <th>OVER $500</th>\n",
              "      <th>RESIDENCE</th>\n",
              "      <th>False</th>\n",
              "      <th>False</th>\n",
              "      <th>313</th>\n",
              "      <th>3</th>\n",
              "      <th>20.0</th>\n",
              "      <th>42.0</th>\n",
              "      <th>06</th>\n",
              "      <th>NaN</th>\n",
              "      <th>NaN</th>\n",
              "      <th>2017.0</th>\n",
              "      <th>02/11/2018 03:57:41 PM</th>\n",
              "      <th>NaN</th>\n",
              "      <th>NaN</th>\n",
              "    </tr>\n",
              "  </tbody>\n",
              "</table>\n",
              "</div>"
            ],
            "text/plain": [
              "Empty DataFrame\n",
              "Columns: []\n",
              "Index: [(11162428, JA529032, 11/28/2017 09:43:00 PM, 026XX S CALIFORNIA BLVD, 5131, OTHER OFFENSE, VIOLENT OFFENDER: ANNUAL REGISTRATION, JAIL / LOCK-UP FACILITY, True, False, 1034, 10, 12.0, 30.0, 26, 1158280.0, 1886310.0, 2017.0, 02/11/2018 03:54:58 PM, 41.843778126, -87.69463767799999), (11175304, JA545986, 12/11/2017 07:15:00 PM, 007XX N SACRAMENTO BLVD, 031A, ROBBERY, ARMED: HANDGUN, SIDEWALK, True, False, 1221, 12, 27.0, 23.0, 03, 1156092.0, 1904769.0, 2017.0, 02/11/2018 03:54:58 PM, 41.894475919, -87.70216915799999), (11227287, JB147188, 10/08/2017 03:00:00 AM, 092XX S RACINE AVE, 0281, CRIM SEXUAL ASSAULT, NON-AGGRAVATED, RESIDENCE, False, False, 2222, 22, 21.0, 73.0, 02, nan, nan, 2017.0, 02/11/2018 03:57:41 PM, nan, nan), (11227583, JB147595, 03/28/2017 02:00:00 PM, 026XX W 79TH ST, 0620, BURGLARY, UNLAWFUL ENTRY, OTHER, False, False, 835, 8, 18.0, 70.0, 05, nan, nan, 2017.0, 02/11/2018 03:57:41 PM, nan, nan), (11227293, JB147230, 09/09/2017 08:17:00 PM, 060XX S EBERHART AVE, 0810, THEFT, OVER $500, RESIDENCE, False, False, 313, 3, 20.0, 42.0, 06, nan, nan, 2017.0, 02/11/2018 03:57:41 PM, nan, nan)]"
            ]
          },
          "metadata": {
            "tags": []
          },
          "execution_count": 16
        }
      ]
    },
    {
      "cell_type": "code",
      "metadata": {
        "id": "KUDl_EUm26jk",
        "colab_type": "code",
        "outputId": "d95018c4-0184-4938-9887-061a7815be8e",
        "colab": {
          "base_uri": "https://localhost:8080/",
          "height": 68
        }
      },
      "source": [
        "c0104arr=np.array(c0104smooth['Primary Type'])\n",
        "c0104u=np.unique(c0104arr)\n",
        "c0104key=np.unique(np.array(np.array(c0104smooth['Primary Type'])))\n",
        "c0104val=np.array(c0104smooth['Primary Type'].value_counts().values)\n",
        "print(c0104u[:8])\n",
        "print(c0104val[:8])"
      ],
      "execution_count": 0,
      "outputs": [
        {
          "output_type": "stream",
          "text": [
            "['ARSON' 'ASSAULT' 'BATTERY' 'BURGLARY' 'CRIM SEXUAL ASSAULT'\n",
            " 'CRIMINAL DAMAGE' 'CRIMINAL TRESPASS' 'DECEPTIVE PRACTICE']\n",
            "[17651 14967  9284  9081  5899  5043  4432  4137]\n"
          ],
          "name": "stdout"
        }
      ]
    },
    {
      "cell_type": "code",
      "metadata": {
        "id": "NZsab-gP3A7X",
        "colab_type": "code",
        "outputId": "4b96b348-3c48-4d86-dc40-18c79f3e2a49",
        "colab": {
          "base_uri": "https://localhost:8080/",
          "height": 505
        }
      },
      "source": [
        "color='cmykrgb'\n",
        "plt.figure(figsize=(20,7))\n",
        "plt.title(\"Crime Scenario of 2001-2004 (Max: {}={})\".format(c0104u[:8][0],c0104val[:8][0]),fontsize=20,color='m')\n",
        "plt.xlabel(\"Crime Type->\",fontsize=15,color='b')\n",
        "plt.ylabel(\"Crime Occured->\",fontsize=15,color='b')\n",
        "plt.grid()\n",
        "plt.bar(c0104u[:8],c0104val[:8],color=color,width=0.5)\n"
      ],
      "execution_count": 0,
      "outputs": [
        {
          "output_type": "execute_result",
          "data": {
            "text/plain": [
              "<BarContainer object of 8 artists>"
            ]
          },
          "metadata": {
            "tags": []
          },
          "execution_count": 18
        },
        {
          "output_type": "display_data",
          "data": {
            "image/png": "[encoded data removed]",
            "text/plain": [
              "<Figure size 1440x504 with 1 Axes>"
            ]
          },
          "metadata": {
            "tags": []
          }
        }
      ]
    },
    {
      "cell_type": "code",
      "metadata": {
        "id": "WGTIwKHl3SGE",
        "colab_type": "code",
        "outputId": "05444386-017f-469b-c36a-fbd612447c48",
        "colab": {
          "base_uri": "https://localhost:8080/",
          "height": 556
        }
      },
      "source": [
        "c0507arr=np.array(c0507smooth['Primary Type'])\n",
        "c0507u=np.unique(c0507arr)\n",
        "c0507key=np.unique(np.array(np.array(c0507smooth['Primary Type'])))\n",
        "c0507val=np.array(c0507smooth['Primary Type'].value_counts().values)\n",
        "print(c0507u[:8])\n",
        "print(c0507val[:8])\n",
        "color='cmykrgb'\n",
        "plt.figure(figsize=(20,7))\n",
        "plt.title(\"Crime Scenario of 2005-2007 (Max: {}={})\".format(c0507u[:8][0],c0507val[:8][0]),fontsize=20,color='m')\n",
        "plt.xlabel(\"Crime Type->\",fontsize=15,color='b')\n",
        "plt.ylabel(\"Crime Occured->\",fontsize=15,color='b')\n",
        "plt.grid()\n",
        "plt.bar(c0507u[:8],c0507val[:8],color=color,width=0.5)"
      ],
      "execution_count": 0,
      "outputs": [
        {
          "output_type": "stream",
          "text": [
            "['ARSON' 'ASSAULT' 'BATTERY' 'BURGLARY' 'CRIM SEXUAL ASSAULT'\n",
            " 'CRIMINAL DAMAGE' 'CRIMINAL TRESPASS' 'DECEPTIVE PRACTICE']\n",
            "[16883 16109 10919  7936  5403  5145  4479  4302]\n"
          ],
          "name": "stdout"
        },
        {
          "output_type": "execute_result",
          "data": {
            "text/plain": [
              "<BarContainer object of 8 artists>"
            ]
          },
          "metadata": {
            "tags": []
          },
          "execution_count": 19
        },
        {
          "output_type": "display_data",
          "data": {
            "image/png": "[encoded data removed]",
            "text/plain": [
              "<Figure size 1440x504 with 1 Axes>"
            ]
          },
          "metadata": {
            "tags": []
          }
        }
      ]
    },
    {
      "cell_type": "code",
      "metadata": {
        "id": "K99G0QTG3YXh",
        "colab_type": "code",
        "outputId": "b5bdbaee-94e1-425b-cc07-40824f047339",
        "colab": {
          "base_uri": "https://localhost:8080/",
          "height": 556
        }
      },
      "source": [
        "c0811arr=np.array(c0811smooth['Primary Type'])\n",
        "c0811u=np.unique(c0811arr)\n",
        "c0811key=np.unique(np.array(np.array(c0811smooth['Primary Type'])))\n",
        "c0811val=np.array(c0811smooth['Primary Type'].value_counts().values)\n",
        "print(c0811u[:8])\n",
        "print(c0811val[:8])\n",
        "color='cmykrgb'\n",
        "plt.figure(figsize=(20,7))\n",
        "plt.title(\"Crime Scenario of 2008-2011 (Max: {}={})\".format(c0811u[:8][0],c0811val[:8][0]),fontsize=20,color='m')\n",
        "plt.xlabel(\"Crime Type->\",fontsize=15,color='b')\n",
        "plt.ylabel(\"Crime Occured->\",fontsize=15,color='b')\n",
        "plt.grid()\n",
        "plt.bar(c0811u[:8],c0811val[:8],color=color,width=0.5)"
      ],
      "execution_count": 0,
      "outputs": [
        {
          "output_type": "stream",
          "text": [
            "['ARSON' 'ASSAULT' 'BATTERY' 'BURGLARY' 'CRIM SEXUAL ASSAULT'\n",
            " 'CRIMINAL DAMAGE' 'CRIMINAL TRESPASS' 'DECEPTIVE PRACTICE']\n",
            "[15382 12365 10506  8202  5164  4107  3932  3179]\n"
          ],
          "name": "stdout"
        },
        {
          "output_type": "execute_result",
          "data": {
            "text/plain": [
              "<BarContainer object of 8 artists>"
            ]
          },
          "metadata": {
            "tags": []
          },
          "execution_count": 20
        },
        {
          "output_type": "display_data",
          "data": {
            "image/png": "[encoded data removed]",
            "text/plain": [
              "<Figure size 1440x504 with 1 Axes>"
            ]
          },
          "metadata": {
            "tags": []
          }
        }
      ]
    },
    {
      "cell_type": "code",
      "metadata": {
        "id": "CkNwAl3j3exd",
        "colab_type": "code",
        "outputId": "ba92f5a5-b0a3-4f73-e7fd-aecf41e34381",
        "colab": {
          "base_uri": "https://localhost:8080/",
          "height": 682
        }
      },
      "source": [
        "c1217arr=np.array(c1217smooth['Primary Type'])\n",
        "c1217u=np.unique(c1217arr)\n",
        "c1217key=np.unique(np.array(np.array(c1217smooth['Primary Type'])))\n",
        "c1217val=np.array(c1217smooth['Primary Type'].value_counts().values)\n",
        "print(c1217u[:8])\n",
        "print(c1217val[:8])\n",
        "color='cmykrgb'\n",
        "plt.figure(figsize=(30,9))\n",
        "plt.title(\"Crime Scenario of 2012-2017 (Max: {}={})\".format(c1217u[:8][0],c1217val[:8][0]),fontsize=20,color='m')\n",
        "plt.xlabel(\"Crime Type->\",fontsize=15,color='b')\n",
        "plt.ylabel(\"Crime Occured->\",fontsize=15,color='b')\n",
        "plt.grid()\n",
        "plt.bar(c1217u[:8],c1217val[:8],color=color,width=0.5)\n"
      ],
      "execution_count": 0,
      "outputs": [
        {
          "output_type": "stream",
          "text": [
            "['ARSON' 'ASSAULT' 'BATTERY' 'BURGLARY'\n",
            " 'CONCEALED CARRY LICENSE VIOLATION' 'CRIM SEXUAL ASSAULT'\n",
            " 'CRIMINAL DAMAGE' 'CRIMINAL TRESPASS']\n",
            "[21015 18729 10318 10284  6610  6537  6333  5292]\n"
          ],
          "name": "stdout"
        },
        {
          "output_type": "execute_result",
          "data": {
            "text/plain": [
              "<BarContainer object of 8 artists>"
            ]
          },
          "metadata": {
            "tags": []
          },
          "execution_count": 21
        },
        {
          "output_type": "display_data",
          "data": {
            "image/png": "[encoded data removed]",
            "text/plain": [
              "<Figure size 2160x648 with 1 Axes>"
            ]
          },
          "metadata": {
            "tags": []
          }
        }
      ]
    },
    {
      "cell_type": "code",
      "metadata": {
        "id": "BMajKpVf3suw",
        "colab_type": "code",
        "outputId": "0ec78d9b-a2a2-4242-a9c4-390e29d7fca0",
        "colab": {
          "base_uri": "https://localhost:8080/",
          "height": 697
        }
      },
      "source": [
        "#calculating the top 8 crimes and their count from 2017-2019 and plotting them\n",
        "c1719arr=np.array(c1719smooth['Primary Type'])\n",
        "c1719u=np.unique(c1719arr)\n",
        "c1719key=np.unique(np.array(np.array(c1719smooth['Primary Type'])))\n",
        "c1719val=np.array(c1719smooth['Primary Type'].value_counts().values)\n",
        "print(c1719u[:8])\n",
        "print(c1719val[:8])\n",
        "color='cmykrgb'\n",
        "plt.figure(figsize=(30,9))\n",
        "plt.title(\"Crime Scenario of 2017-2019 (Max: {}={})\".format(c1719u[:8][0],c1719val[:8][0]),fontsize=20,color='m')\n",
        "plt.xlabel(\"Crime Type->\",fontsize=15,color='b')\n",
        "plt.ylabel(\"Crime Occured->\",fontsize=15,color='b')\n",
        "plt.grid()\n",
        "plt.bar(c1719u[:8],c1719val[:8],color=color,width=0.5)\n"
      ],
      "execution_count": 0,
      "outputs": [
        {
          "output_type": "error",
          "ename": "KeyError",
          "evalue": "ignored",
          "traceback": [
            "\u001b[0;31m---------------------------------------------------------------------------\u001b[0m",
            "\u001b[0;31mKeyError\u001b[0m                                  Traceback (most recent call last)",
            "\u001b[0;32m/usr/local/lib/python3.6/dist-packages/pandas/core/indexes/base.py\u001b[0m in \u001b[0;36mget_loc\u001b[0;34m(self, key, method, tolerance)\u001b[0m\n\u001b[1;32m   2896\u001b[0m             \u001b[0;32mtry\u001b[0m\u001b[0;34m:\u001b[0m\u001b[0;34m\u001b[0m\u001b[0;34m\u001b[0m\u001b[0m\n\u001b[0;32m-> 2897\u001b[0;31m                 \u001b[0;32mreturn\u001b[0m \u001b[0mself\u001b[0m\u001b[0;34m.\u001b[0m\u001b[0m_engine\u001b[0m\u001b[0;34m.\u001b[0m\u001b[0mget_loc\u001b[0m\u001b[0;34m(\u001b[0m\u001b[0mkey\u001b[0m\u001b[0;34m)\u001b[0m\u001b[0;34m\u001b[0m\u001b[0;34m\u001b[0m\u001b[0m\n\u001b[0m\u001b[1;32m   2898\u001b[0m             \u001b[0;32mexcept\u001b[0m \u001b[0mKeyError\u001b[0m\u001b[0;34m:\u001b[0m\u001b[0;34m\u001b[0m\u001b[0;34m\u001b[0m\u001b[0m\n",
            "\u001b[0;32mpandas/_libs/index.pyx\u001b[0m in \u001b[0;36mpandas._libs.index.IndexEngine.get_loc\u001b[0;34m()\u001b[0m\n",
            "\u001b[0;32mpandas/_libs/index.pyx\u001b[0m in \u001b[0;36mpandas._libs.index.IndexEngine.get_loc\u001b[0;34m()\u001b[0m\n",
            "\u001b[0;32mpandas/_libs/hashtable_class_helper.pxi\u001b[0m in \u001b[0;36mpandas._libs.hashtable.PyObjectHashTable.get_item\u001b[0;34m()\u001b[0m\n",
            "\u001b[0;32mpandas/_libs/hashtable_class_helper.pxi\u001b[0m in \u001b[0;36mpandas._libs.hashtable.PyObjectHashTable.get_item\u001b[0;34m()\u001b[0m\n",
            "\u001b[0;31mKeyError\u001b[0m: 'Primary Type'",
            "\nDuring handling of the above exception, another exception occurred:\n",
            "\u001b[0;31mKeyError\u001b[0m                                  Traceback (most recent call last)",
            "\u001b[0;32m<ipython-input-23-58a721958660>\u001b[0m in \u001b[0;36m<module>\u001b[0;34m()\u001b[0m\n\u001b[0;32m----> 1\u001b[0;31m \u001b[0mc1719arr\u001b[0m\u001b[0;34m=\u001b[0m\u001b[0mnp\u001b[0m\u001b[0;34m.\u001b[0m\u001b[0marray\u001b[0m\u001b[0;34m(\u001b[0m\u001b[0mc1719smooth\u001b[0m\u001b[0;34m[\u001b[0m\u001b[0;34m'Primary Type'\u001b[0m\u001b[0;34m]\u001b[0m\u001b[0;34m)\u001b[0m\u001b[0;34m\u001b[0m\u001b[0;34m\u001b[0m\u001b[0m\n\u001b[0m\u001b[1;32m      2\u001b[0m \u001b[0mc1719u\u001b[0m\u001b[0;34m=\u001b[0m\u001b[0mnp\u001b[0m\u001b[0;34m.\u001b[0m\u001b[0munique\u001b[0m\u001b[0;34m(\u001b[0m\u001b[0mc1719arr\u001b[0m\u001b[0;34m)\u001b[0m\u001b[0;34m\u001b[0m\u001b[0;34m\u001b[0m\u001b[0m\n\u001b[1;32m      3\u001b[0m \u001b[0mc1719key\u001b[0m\u001b[0;34m=\u001b[0m\u001b[0mnp\u001b[0m\u001b[0;34m.\u001b[0m\u001b[0munique\u001b[0m\u001b[0;34m(\u001b[0m\u001b[0mnp\u001b[0m\u001b[0;34m.\u001b[0m\u001b[0marray\u001b[0m\u001b[0;34m(\u001b[0m\u001b[0mnp\u001b[0m\u001b[0;34m.\u001b[0m\u001b[0marray\u001b[0m\u001b[0;34m(\u001b[0m\u001b[0mc1719smooth\u001b[0m\u001b[0;34m[\u001b[0m\u001b[0;34m'Primary Type'\u001b[0m\u001b[0;34m]\u001b[0m\u001b[0;34m)\u001b[0m\u001b[0;34m)\u001b[0m\u001b[0;34m)\u001b[0m\u001b[0;34m\u001b[0m\u001b[0;34m\u001b[0m\u001b[0m\n\u001b[1;32m      4\u001b[0m \u001b[0mc1719val\u001b[0m\u001b[0;34m=\u001b[0m\u001b[0mnp\u001b[0m\u001b[0;34m.\u001b[0m\u001b[0marray\u001b[0m\u001b[0;34m(\u001b[0m\u001b[0mc1719smooth\u001b[0m\u001b[0;34m[\u001b[0m\u001b[0;34m'Primary Type'\u001b[0m\u001b[0;34m]\u001b[0m\u001b[0;34m.\u001b[0m\u001b[0mvalue_counts\u001b[0m\u001b[0;34m(\u001b[0m\u001b[0;34m)\u001b[0m\u001b[0;34m.\u001b[0m\u001b[0mvalues\u001b[0m\u001b[0;34m)\u001b[0m\u001b[0;34m\u001b[0m\u001b[0;34m\u001b[0m\u001b[0m\n\u001b[1;32m      5\u001b[0m \u001b[0mprint\u001b[0m\u001b[0;34m(\u001b[0m\u001b[0mc1719u\u001b[0m\u001b[0;34m[\u001b[0m\u001b[0;34m:\u001b[0m\u001b[0;36m8\u001b[0m\u001b[0;34m]\u001b[0m\u001b[0;34m)\u001b[0m\u001b[0;34m\u001b[0m\u001b[0;34m\u001b[0m\u001b[0m\n",
            "\u001b[0;32m/usr/local/lib/python3.6/dist-packages/pandas/core/frame.py\u001b[0m in \u001b[0;36m__getitem__\u001b[0;34m(self, key)\u001b[0m\n\u001b[1;32m   2993\u001b[0m             \u001b[0;32mif\u001b[0m \u001b[0mself\u001b[0m\u001b[0;34m.\u001b[0m\u001b[0mcolumns\u001b[0m\u001b[0;34m.\u001b[0m\u001b[0mnlevels\u001b[0m \u001b[0;34m>\u001b[0m \u001b[0;36m1\u001b[0m\u001b[0;34m:\u001b[0m\u001b[0;34m\u001b[0m\u001b[0;34m\u001b[0m\u001b[0m\n\u001b[1;32m   2994\u001b[0m                 \u001b[0;32mreturn\u001b[0m \u001b[0mself\u001b[0m\u001b[0;34m.\u001b[0m\u001b[0m_getitem_multilevel\u001b[0m\u001b[0;34m(\u001b[0m\u001b[0mkey\u001b[0m\u001b[0;34m)\u001b[0m\u001b[0;34m\u001b[0m\u001b[0;34m\u001b[0m\u001b[0m\n\u001b[0;32m-> 2995\u001b[0;31m             \u001b[0mindexer\u001b[0m \u001b[0;34m=\u001b[0m \u001b[0mself\u001b[0m\u001b[0;34m.\u001b[0m\u001b[0mcolumns\u001b[0m\u001b[0;34m.\u001b[0m\u001b[0mget_loc\u001b[0m\u001b[0;34m(\u001b[0m\u001b[0mkey\u001b[0m\u001b[0;34m)\u001b[0m\u001b[0;34m\u001b[0m\u001b[0;34m\u001b[0m\u001b[0m\n\u001b[0m\u001b[1;32m   2996\u001b[0m             \u001b[0;32mif\u001b[0m \u001b[0mis_integer\u001b[0m\u001b[0;34m(\u001b[0m\u001b[0mindexer\u001b[0m\u001b[0;34m)\u001b[0m\u001b[0;34m:\u001b[0m\u001b[0;34m\u001b[0m\u001b[0;34m\u001b[0m\u001b[0m\n\u001b[1;32m   2997\u001b[0m                 \u001b[0mindexer\u001b[0m \u001b[0;34m=\u001b[0m \u001b[0;34m[\u001b[0m\u001b[0mindexer\u001b[0m\u001b[0;34m]\u001b[0m\u001b[0;34m\u001b[0m\u001b[0;34m\u001b[0m\u001b[0m\n",
            "\u001b[0;32m/usr/local/lib/python3.6/dist-packages/pandas/core/indexes/base.py\u001b[0m in \u001b[0;36mget_loc\u001b[0;34m(self, key, method, tolerance)\u001b[0m\n\u001b[1;32m   2897\u001b[0m                 \u001b[0;32mreturn\u001b[0m \u001b[0mself\u001b[0m\u001b[0;34m.\u001b[0m\u001b[0m_engine\u001b[0m\u001b[0;34m.\u001b[0m\u001b[0mget_loc\u001b[0m\u001b[0;34m(\u001b[0m\u001b[0mkey\u001b[0m\u001b[0;34m)\u001b[0m\u001b[0;34m\u001b[0m\u001b[0;34m\u001b[0m\u001b[0m\n\u001b[1;32m   2898\u001b[0m             \u001b[0;32mexcept\u001b[0m \u001b[0mKeyError\u001b[0m\u001b[0;34m:\u001b[0m\u001b[0;34m\u001b[0m\u001b[0;34m\u001b[0m\u001b[0m\n\u001b[0;32m-> 2899\u001b[0;31m                 \u001b[0;32mreturn\u001b[0m \u001b[0mself\u001b[0m\u001b[0;34m.\u001b[0m\u001b[0m_engine\u001b[0m\u001b[0;34m.\u001b[0m\u001b[0mget_loc\u001b[0m\u001b[0;34m(\u001b[0m\u001b[0mself\u001b[0m\u001b[0;34m.\u001b[0m\u001b[0m_maybe_cast_indexer\u001b[0m\u001b[0;34m(\u001b[0m\u001b[0mkey\u001b[0m\u001b[0;34m)\u001b[0m\u001b[0;34m)\u001b[0m\u001b[0;34m\u001b[0m\u001b[0;34m\u001b[0m\u001b[0m\n\u001b[0m\u001b[1;32m   2900\u001b[0m         \u001b[0mindexer\u001b[0m \u001b[0;34m=\u001b[0m \u001b[0mself\u001b[0m\u001b[0;34m.\u001b[0m\u001b[0mget_indexer\u001b[0m\u001b[0;34m(\u001b[0m\u001b[0;34m[\u001b[0m\u001b[0mkey\u001b[0m\u001b[0;34m]\u001b[0m\u001b[0;34m,\u001b[0m \u001b[0mmethod\u001b[0m\u001b[0;34m=\u001b[0m\u001b[0mmethod\u001b[0m\u001b[0;34m,\u001b[0m \u001b[0mtolerance\u001b[0m\u001b[0;34m=\u001b[0m\u001b[0mtolerance\u001b[0m\u001b[0;34m)\u001b[0m\u001b[0;34m\u001b[0m\u001b[0;34m\u001b[0m\u001b[0m\n\u001b[1;32m   2901\u001b[0m         \u001b[0;32mif\u001b[0m \u001b[0mindexer\u001b[0m\u001b[0;34m.\u001b[0m\u001b[0mndim\u001b[0m \u001b[0;34m>\u001b[0m \u001b[0;36m1\u001b[0m \u001b[0;32mor\u001b[0m \u001b[0mindexer\u001b[0m\u001b[0;34m.\u001b[0m\u001b[0msize\u001b[0m \u001b[0;34m>\u001b[0m \u001b[0;36m1\u001b[0m\u001b[0;34m:\u001b[0m\u001b[0;34m\u001b[0m\u001b[0;34m\u001b[0m\u001b[0m\n",
            "\u001b[0;32mpandas/_libs/index.pyx\u001b[0m in \u001b[0;36mpandas._libs.index.IndexEngine.get_loc\u001b[0;34m()\u001b[0m\n",
            "\u001b[0;32mpandas/_libs/index.pyx\u001b[0m in \u001b[0;36mpandas._libs.index.IndexEngine.get_loc\u001b[0;34m()\u001b[0m\n",
            "\u001b[0;32mpandas/_libs/hashtable_class_helper.pxi\u001b[0m in \u001b[0;36mpandas._libs.hashtable.PyObjectHashTable.get_item\u001b[0;34m()\u001b[0m\n",
            "\u001b[0;32mpandas/_libs/hashtable_class_helper.pxi\u001b[0m in \u001b[0;36mpandas._libs.hashtable.PyObjectHashTable.get_item\u001b[0;34m()\u001b[0m\n",
            "\u001b[0;31mKeyError\u001b[0m: 'Primary Type'"
          ]
        }
      ]
    }
  ]
}