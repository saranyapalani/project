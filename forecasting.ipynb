{
  "nbformat": 4,
  "nbformat_minor": 0,
  "metadata": {
    "colab": {
      "name": "Untitled0.ipynb",
      "provenance": [],
      "authorship_tag": "ABX9TyNYBgqX/Zm4TWAes29n6929",
      "include_colab_link": true
    },
    "kernelspec": {
      "name": "python3",
      "display_name": "Python 3"
    }
  },
  "cells": [
    {
      "cell_type": "markdown",
      "metadata": {
        "id": "view-in-github",
        "colab_type": "text"
      },
      "source": [
        "<a href=\"https://colab.research.google.com/github/saranyapalani/project/blob/master/forecasting.ipynb\" target=\"_parent\"><img src=\"https://colab.research.google.com/assets/colab-badge.svg\" alt=\"Open In Colab\"/></a>"
      ]
    },
    {
      "cell_type": "code",
      "metadata": {
        "id": "AhxbWQBIfjaM",
        "colab_type": "code",
        "colab": {
          "base_uri": "https://localhost:8080/",
          "height": 122
        },
        "outputId": "4735dcb4-e29d-4170-b82b-95bf48d80944"
      },
      "source": [
        "from google.colab import drive\n",
        "drive.mount('/content/drive')\n"
      ],
      "execution_count": 1,
      "outputs": [
        {
          "output_type": "stream",
          "text": [
            "Go to this URL in a browser: https://accounts.google.com/o/oauth2/auth?client_id=947318989803-6bn6qk8qdgf4n4g3pfee6491hc0brc4i.apps.googleusercontent.com&redirect_uri=urn%3aietf%3awg%3aoauth%3a2.0%3aoob&response_type=code&scope=email%20https%3a%2f%2fwww.googleapis.com%2fauth%2fdocs.test%20https%3a%2f%2fwww.googleapis.com%2fauth%2fdrive%20https%3a%2f%2fwww.googleapis.com%2fauth%2fdrive.photos.readonly%20https%3a%2f%2fwww.googleapis.com%2fauth%2fpeopleapi.readonly\n",
            "\n",
            "Enter your authorization code:\n",
            "··········\n",
            "Mounted at /content/drive\n"
          ],
          "name": "stdout"
        }
      ]
    },
    {
      "cell_type": "code",
      "metadata": {
        "id": "ztxoYbM4gC90",
        "colab_type": "code",
        "colab": {
          "base_uri": "https://localhost:8080/",
          "height": 71
        },
        "outputId": "e8789a7c-938f-430d-eb11-cdb7cb9ac5d0"
      },
      "source": [
        "import pandas as pd \n",
        "import numpy as np \n",
        "import matplotlib.pyplot as plt\n",
        "import random\n",
        "import seaborn as sns\n",
        "from fbprophet import Prophet\n"
      ],
      "execution_count": 3,
      "outputs": [
        {
          "output_type": "stream",
          "text": [
            "/usr/local/lib/python3.6/dist-packages/statsmodels/tools/_testing.py:19: FutureWarning: pandas.util.testing is deprecated. Use the functions in the public API at pandas.testing instead.\n",
            "  import pandas.util.testing as tm\n"
          ],
          "name": "stderr"
        }
      ]
    },
    {
      "cell_type": "code",
      "metadata": {
        "id": "pJVXuPHcfxbp",
        "colab_type": "code",
        "colab": {
          "base_uri": "https://localhost:8080/",
          "height": 496
        },
        "outputId": "6489fb6c-e306-48d7-8848-022e40a1a5da"
      },
      "source": [
        "data = pd.read_csv('/content/drive/My Drive/dataset.csv',error_bad_lines=False)\n",
        "data.head(5)"
      ],
      "execution_count": 4,
      "outputs": [
        {
          "output_type": "execute_result",
          "data": {
            "text/html": [
              "<div>\n",
              "<style scoped>\n",
              "    .dataframe tbody tr th:only-of-type {\n",
              "        vertical-align: middle;\n",
              "    }\n",
              "\n",
              "    .dataframe tbody tr th {\n",
              "        vertical-align: top;\n",
              "    }\n",
              "\n",
              "    .dataframe thead th {\n",
              "        text-align: right;\n",
              "    }\n",
              "</style>\n",
              "<table border=\"1\" class=\"dataframe\">\n",
              "  <thead>\n",
              "    <tr style=\"text-align: right;\">\n",
              "      <th></th>\n",
              "      <th>ID</th>\n",
              "      <th>Case Number</th>\n",
              "      <th>Date</th>\n",
              "      <th>Type</th>\n",
              "      <th>Location Description</th>\n",
              "      <th>Arrest</th>\n",
              "      <th>District</th>\n",
              "      <th>Ward</th>\n",
              "      <th>Community Area</th>\n",
              "      <th>X Coordinate</th>\n",
              "      <th>Y Coordinate</th>\n",
              "      <th>Year</th>\n",
              "      <th>Updated On</th>\n",
              "      <th>Latitude</th>\n",
              "      <th>Longitude</th>\n",
              "      <th>Location</th>\n",
              "    </tr>\n",
              "  </thead>\n",
              "  <tbody>\n",
              "    <tr>\n",
              "      <th>0</th>\n",
              "      <td>10508693</td>\n",
              "      <td>HZ250496</td>\n",
              "      <td>05-03-2017 23:40</td>\n",
              "      <td>ROAD ACCIDENTS</td>\n",
              "      <td>APARTMENT</td>\n",
              "      <td>True</td>\n",
              "      <td>10</td>\n",
              "      <td>24.0</td>\n",
              "      <td>29.0</td>\n",
              "      <td>1154907.0</td>\n",
              "      <td>1893681.0</td>\n",
              "      <td>2017</td>\n",
              "      <td>05-10-2017 15:56</td>\n",
              "      <td>41.864073</td>\n",
              "      <td>-87.706819</td>\n",
              "      <td>(41.864073157, -87.706818608)</td>\n",
              "    </tr>\n",
              "    <tr>\n",
              "      <th>1</th>\n",
              "      <td>10508695</td>\n",
              "      <td>HZ250409</td>\n",
              "      <td>05-03-2017 21:40</td>\n",
              "      <td>ROAD ACCIDENTS</td>\n",
              "      <td>RESIDENCE</td>\n",
              "      <td>False</td>\n",
              "      <td>3</td>\n",
              "      <td>20.0</td>\n",
              "      <td>42.0</td>\n",
              "      <td>1183066.0</td>\n",
              "      <td>1864330.0</td>\n",
              "      <td>2017</td>\n",
              "      <td>05-10-2017 15:56</td>\n",
              "      <td>41.782922</td>\n",
              "      <td>-87.604363</td>\n",
              "      <td>(41.782921527, -87.60436317)</td>\n",
              "    </tr>\n",
              "    <tr>\n",
              "      <th>2</th>\n",
              "      <td>10508697</td>\n",
              "      <td>HZ250503</td>\n",
              "      <td>05-03-2017 23:31</td>\n",
              "      <td>PUBLIC PEACE VIOLATION</td>\n",
              "      <td>STREET</td>\n",
              "      <td>False</td>\n",
              "      <td>15</td>\n",
              "      <td>37.0</td>\n",
              "      <td>25.0</td>\n",
              "      <td>1140789.0</td>\n",
              "      <td>1904819.0</td>\n",
              "      <td>2017</td>\n",
              "      <td>05-10-2017 15:56</td>\n",
              "      <td>41.894908</td>\n",
              "      <td>-87.758372</td>\n",
              "      <td>(41.894908283, -87.758371958)</td>\n",
              "    </tr>\n",
              "    <tr>\n",
              "      <th>3</th>\n",
              "      <td>10508698</td>\n",
              "      <td>HZ250424</td>\n",
              "      <td>05-03-2017 22:10</td>\n",
              "      <td>ROAD ACCIDENTS</td>\n",
              "      <td>SIDEWALK</td>\n",
              "      <td>False</td>\n",
              "      <td>15</td>\n",
              "      <td>28.0</td>\n",
              "      <td>25.0</td>\n",
              "      <td>1143223.0</td>\n",
              "      <td>1901475.0</td>\n",
              "      <td>2017</td>\n",
              "      <td>05-10-2017 15:56</td>\n",
              "      <td>41.885687</td>\n",
              "      <td>-87.749516</td>\n",
              "      <td>(41.885686845, -87.749515983)</td>\n",
              "    </tr>\n",
              "    <tr>\n",
              "      <th>4</th>\n",
              "      <td>10508699</td>\n",
              "      <td>HZ250455</td>\n",
              "      <td>05-03-2017 22:00</td>\n",
              "      <td>JEWELS THEFT AND MURDER</td>\n",
              "      <td>RESIDENCE</td>\n",
              "      <td>False</td>\n",
              "      <td>15</td>\n",
              "      <td>28.0</td>\n",
              "      <td>25.0</td>\n",
              "      <td>1139890.0</td>\n",
              "      <td>1901675.0</td>\n",
              "      <td>2017</td>\n",
              "      <td>05-10-2017 15:56</td>\n",
              "      <td>41.886297</td>\n",
              "      <td>-87.761751</td>\n",
              "      <td>(41.886297242, -87.761750709)</td>\n",
              "    </tr>\n",
              "  </tbody>\n",
              "</table>\n",
              "</div>"
            ],
            "text/plain": [
              "         ID Case Number  ...  Longitude                       Location\n",
              "0  10508693    HZ250496  ... -87.706819  (41.864073157, -87.706818608)\n",
              "1  10508695    HZ250409  ... -87.604363   (41.782921527, -87.60436317)\n",
              "2  10508697    HZ250503  ... -87.758372  (41.894908283, -87.758371958)\n",
              "3  10508698    HZ250424  ... -87.749516  (41.885686845, -87.749515983)\n",
              "4  10508699    HZ250455  ... -87.761751  (41.886297242, -87.761750709)\n",
              "\n",
              "[5 rows x 16 columns]"
            ]
          },
          "metadata": {
            "tags": []
          },
          "execution_count": 4
        }
      ]
    },
    {
      "cell_type": "code",
      "metadata": {
        "id": "6wlrHZqKgdaM",
        "colab_type": "code",
        "colab": {}
      },
      "source": [
        "data.drop(['Case Number','X Coordinate', 'Y Coordinate','Updated On','Year','Ward','Community Area', 'Location', \n",
        "                 'District', 'Latitude' , 'Longitude'], inplace=True, axis=1)\n"
      ],
      "execution_count": 0,
      "outputs": []
    },
    {
      "cell_type": "code",
      "metadata": {
        "id": "-oCTmB-Fg0r8",
        "colab_type": "code",
        "colab": {
          "base_uri": "https://localhost:8080/",
          "height": 204
        },
        "outputId": "26f98981-64d9-4129-bfc6-cd17560931de"
      },
      "source": [
        "data.head()"
      ],
      "execution_count": 6,
      "outputs": [
        {
          "output_type": "execute_result",
          "data": {
            "text/html": [
              "<div>\n",
              "<style scoped>\n",
              "    .dataframe tbody tr th:only-of-type {\n",
              "        vertical-align: middle;\n",
              "    }\n",
              "\n",
              "    .dataframe tbody tr th {\n",
              "        vertical-align: top;\n",
              "    }\n",
              "\n",
              "    .dataframe thead th {\n",
              "        text-align: right;\n",
              "    }\n",
              "</style>\n",
              "<table border=\"1\" class=\"dataframe\">\n",
              "  <thead>\n",
              "    <tr style=\"text-align: right;\">\n",
              "      <th></th>\n",
              "      <th>ID</th>\n",
              "      <th>Date</th>\n",
              "      <th>Type</th>\n",
              "      <th>Location Description</th>\n",
              "      <th>Arrest</th>\n",
              "    </tr>\n",
              "  </thead>\n",
              "  <tbody>\n",
              "    <tr>\n",
              "      <th>0</th>\n",
              "      <td>10508693</td>\n",
              "      <td>05-03-2017 23:40</td>\n",
              "      <td>ROAD ACCIDENTS</td>\n",
              "      <td>APARTMENT</td>\n",
              "      <td>True</td>\n",
              "    </tr>\n",
              "    <tr>\n",
              "      <th>1</th>\n",
              "      <td>10508695</td>\n",
              "      <td>05-03-2017 21:40</td>\n",
              "      <td>ROAD ACCIDENTS</td>\n",
              "      <td>RESIDENCE</td>\n",
              "      <td>False</td>\n",
              "    </tr>\n",
              "    <tr>\n",
              "      <th>2</th>\n",
              "      <td>10508697</td>\n",
              "      <td>05-03-2017 23:31</td>\n",
              "      <td>PUBLIC PEACE VIOLATION</td>\n",
              "      <td>STREET</td>\n",
              "      <td>False</td>\n",
              "    </tr>\n",
              "    <tr>\n",
              "      <th>3</th>\n",
              "      <td>10508698</td>\n",
              "      <td>05-03-2017 22:10</td>\n",
              "      <td>ROAD ACCIDENTS</td>\n",
              "      <td>SIDEWALK</td>\n",
              "      <td>False</td>\n",
              "    </tr>\n",
              "    <tr>\n",
              "      <th>4</th>\n",
              "      <td>10508699</td>\n",
              "      <td>05-03-2017 22:00</td>\n",
              "      <td>JEWELS THEFT AND MURDER</td>\n",
              "      <td>RESIDENCE</td>\n",
              "      <td>False</td>\n",
              "    </tr>\n",
              "  </tbody>\n",
              "</table>\n",
              "</div>"
            ],
            "text/plain": [
              "         ID              Date  ... Location Description Arrest\n",
              "0  10508693  05-03-2017 23:40  ...            APARTMENT   True\n",
              "1  10508695  05-03-2017 21:40  ...            RESIDENCE  False\n",
              "2  10508697  05-03-2017 23:31  ...               STREET  False\n",
              "3  10508698  05-03-2017 22:10  ...             SIDEWALK  False\n",
              "4  10508699  05-03-2017 22:00  ...            RESIDENCE  False\n",
              "\n",
              "[5 rows x 5 columns]"
            ]
          },
          "metadata": {
            "tags": []
          },
          "execution_count": 6
        }
      ]
    },
    {
      "cell_type": "code",
      "metadata": {
        "id": "VmjkFJFPg7JX",
        "colab_type": "code",
        "colab": {
          "base_uri": "https://localhost:8080/",
          "height": 204
        },
        "outputId": "2de95c5c-ea14-40b5-8b00-6ba1acc994f1"
      },
      "source": [
        "data['Date'] = pd.to_datetime(data['Date'].astype(str), errors='coerce')\n",
        "data['Date'] = pd.to_datetime(data['Date'], format = '%d/%m/%Y %H:%M:%S')\n",
        "data.head(5)\n"
      ],
      "execution_count": 7,
      "outputs": [
        {
          "output_type": "execute_result",
          "data": {
            "text/html": [
              "<div>\n",
              "<style scoped>\n",
              "    .dataframe tbody tr th:only-of-type {\n",
              "        vertical-align: middle;\n",
              "    }\n",
              "\n",
              "    .dataframe tbody tr th {\n",
              "        vertical-align: top;\n",
              "    }\n",
              "\n",
              "    .dataframe thead th {\n",
              "        text-align: right;\n",
              "    }\n",
              "</style>\n",
              "<table border=\"1\" class=\"dataframe\">\n",
              "  <thead>\n",
              "    <tr style=\"text-align: right;\">\n",
              "      <th></th>\n",
              "      <th>ID</th>\n",
              "      <th>Date</th>\n",
              "      <th>Type</th>\n",
              "      <th>Location Description</th>\n",
              "      <th>Arrest</th>\n",
              "    </tr>\n",
              "  </thead>\n",
              "  <tbody>\n",
              "    <tr>\n",
              "      <th>0</th>\n",
              "      <td>10508693</td>\n",
              "      <td>2017-05-03 23:40:00</td>\n",
              "      <td>ROAD ACCIDENTS</td>\n",
              "      <td>APARTMENT</td>\n",
              "      <td>True</td>\n",
              "    </tr>\n",
              "    <tr>\n",
              "      <th>1</th>\n",
              "      <td>10508695</td>\n",
              "      <td>2017-05-03 21:40:00</td>\n",
              "      <td>ROAD ACCIDENTS</td>\n",
              "      <td>RESIDENCE</td>\n",
              "      <td>False</td>\n",
              "    </tr>\n",
              "    <tr>\n",
              "      <th>2</th>\n",
              "      <td>10508697</td>\n",
              "      <td>2017-05-03 23:31:00</td>\n",
              "      <td>PUBLIC PEACE VIOLATION</td>\n",
              "      <td>STREET</td>\n",
              "      <td>False</td>\n",
              "    </tr>\n",
              "    <tr>\n",
              "      <th>3</th>\n",
              "      <td>10508698</td>\n",
              "      <td>2017-05-03 22:10:00</td>\n",
              "      <td>ROAD ACCIDENTS</td>\n",
              "      <td>SIDEWALK</td>\n",
              "      <td>False</td>\n",
              "    </tr>\n",
              "    <tr>\n",
              "      <th>4</th>\n",
              "      <td>10508699</td>\n",
              "      <td>2017-05-03 22:00:00</td>\n",
              "      <td>JEWELS THEFT AND MURDER</td>\n",
              "      <td>RESIDENCE</td>\n",
              "      <td>False</td>\n",
              "    </tr>\n",
              "  </tbody>\n",
              "</table>\n",
              "</div>"
            ],
            "text/plain": [
              "         ID                Date  ... Location Description Arrest\n",
              "0  10508693 2017-05-03 23:40:00  ...            APARTMENT   True\n",
              "1  10508695 2017-05-03 21:40:00  ...            RESIDENCE  False\n",
              "2  10508697 2017-05-03 23:31:00  ...               STREET  False\n",
              "3  10508698 2017-05-03 22:10:00  ...             SIDEWALK  False\n",
              "4  10508699 2017-05-03 22:00:00  ...            RESIDENCE  False\n",
              "\n",
              "[5 rows x 5 columns]"
            ]
          },
          "metadata": {
            "tags": []
          },
          "execution_count": 7
        }
      ]
    },
    {
      "cell_type": "code",
      "metadata": {
        "id": "Lra6851Qhyxt",
        "colab_type": "code",
        "colab": {
          "base_uri": "https://localhost:8080/",
          "height": 544
        },
        "outputId": "c62ba4b9-de4a-44e5-9454-8ee490e93b65"
      },
      "source": [
        "data.index = pd.DatetimeIndex(data.Date)\n",
        "data['Type'].value_counts()\n"
      ],
      "execution_count": 8,
      "outputs": [
        {
          "output_type": "execute_result",
          "data": {
            "text/plain": [
              "JEWELS THEFT AND MURDER              109721\n",
              "ROAD ACCIDENTS                        89025\n",
              "NARCOTICS                             53952\n",
              "CRIMINAL DAMAGE                       52571\n",
              "ROBBERY                               43424\n",
              "BURGLARY                              31493\n",
              "ASSAULT                               30364\n",
              "OTHER OFFENSE                         28377\n",
              "DECEPTIVE PRACTICE                    21939\n",
              "CRIMINAL TRESPASS                     12833\n",
              "WEAPONS VIOLATION                      5889\n",
              "PUBLIC PEACE VIOLATION                 4558\n",
              "OFFENSE INVOLVING CHILDREN             3614\n",
              "PROSTITUTION                           3250\n",
              "CRIM SEXUAL ASSAULT                    2082\n",
              "INTERFERENCE WITH PUBLIC OFFICER       1994\n",
              "SEX OFFENSE                            1523\n",
              "GAMBLING                                829\n",
              "LIQUOR LAW VIOLATION                    813\n",
              "ARSON                                   699\n",
              "KIDNAPPING                              364\n",
              "STALKING                                290\n",
              "INTIMIDATION                            230\n",
              "HOMICIDE                                 70\n",
              "DACOITY                                  45\n",
              "PUBLIC INDECENCY                         23\n",
              "NON-CRIMINAL                             12\n",
              "OTHER NARCOTIC VIOLATION                  7\n",
              "CONCEALED CARRY LICENSE VIOLATION         4\n",
              "HUMAN TRAFFICKING                         4\n",
              "Name: Type, dtype: int64"
            ]
          },
          "metadata": {
            "tags": []
          },
          "execution_count": 8
        }
      ]
    },
    {
      "cell_type": "code",
      "metadata": {
        "id": "9xh0f5JZh-4g",
        "colab_type": "code",
        "colab": {
          "base_uri": "https://localhost:8080/",
          "height": 289
        },
        "outputId": "4a1c676c-8ab3-44a1-dc4e-d40526b6beb2"
      },
      "source": [
        "data['Type'].value_counts().iloc[:15]"
      ],
      "execution_count": 9,
      "outputs": [
        {
          "output_type": "execute_result",
          "data": {
            "text/plain": [
              "JEWELS THEFT AND MURDER       109721\n",
              "ROAD ACCIDENTS                 89025\n",
              "NARCOTICS                      53952\n",
              "CRIMINAL DAMAGE                52571\n",
              "ROBBERY                        43424\n",
              "BURGLARY                       31493\n",
              "ASSAULT                        30364\n",
              "OTHER OFFENSE                  28377\n",
              "DECEPTIVE PRACTICE             21939\n",
              "CRIMINAL TRESPASS              12833\n",
              "WEAPONS VIOLATION               5889\n",
              "PUBLIC PEACE VIOLATION          4558\n",
              "OFFENSE INVOLVING CHILDREN      3614\n",
              "PROSTITUTION                    3250\n",
              "CRIM SEXUAL ASSAULT             2082\n",
              "Name: Type, dtype: int64"
            ]
          },
          "metadata": {
            "tags": []
          },
          "execution_count": 9
        }
      ]
    },
    {
      "cell_type": "code",
      "metadata": {
        "id": "tLd8FRHkiJyn",
        "colab_type": "code",
        "colab": {
          "base_uri": "https://localhost:8080/",
          "height": 119
        },
        "outputId": "1ecfdbda-1d38-4c6a-d200-5fc5d5c56a8f"
      },
      "source": [
        "data['Type'].value_counts().iloc[:15].index"
      ],
      "execution_count": 10,
      "outputs": [
        {
          "output_type": "execute_result",
          "data": {
            "text/plain": [
              "Index(['JEWELS THEFT AND MURDER', 'ROAD ACCIDENTS', 'NARCOTICS',\n",
              "       'CRIMINAL DAMAGE', 'ROBBERY', 'BURGLARY', 'ASSAULT', 'OTHER OFFENSE',\n",
              "       'DECEPTIVE PRACTICE', 'CRIMINAL TRESPASS', 'WEAPONS VIOLATION',\n",
              "       'PUBLIC PEACE VIOLATION', 'OFFENSE INVOLVING CHILDREN', 'PROSTITUTION',\n",
              "       'CRIM SEXUAL ASSAULT'],\n",
              "      dtype='object')"
            ]
          },
          "metadata": {
            "tags": []
          },
          "execution_count": 10
        }
      ]
    },
    {
      "cell_type": "code",
      "metadata": {
        "id": "JcKFCPtmiOvC",
        "colab_type": "code",
        "colab": {
          "base_uri": "https://localhost:8080/",
          "height": 574
        },
        "outputId": "e22ebaac-a7fb-458f-93a6-72bc694a5135"
      },
      "source": [
        "plt.figure(figsize = (15, 10))\n",
        "sns.countplot(y= 'Type', data = data, \n",
        "              order = data['Type'].value_counts().iloc[:15].index)"
      ],
      "execution_count": 11,
      "outputs": [
        {
          "output_type": "execute_result",
          "data": {
            "text/plain": [
              "<matplotlib.axes._subplots.AxesSubplot at 0x7fac42a9fb00>"
            ]
          },
          "metadata": {
            "tags": []
          },
          "execution_count": 11
        },
        {
          "output_type": "display_data",
          "data": {
            "image/png": "[encoded data removed]",
            "text/plain": [
              "<Figure size 1080x720 with 1 Axes>"
            ]
          },
          "metadata": {
            "tags": [],
            "needs_background": "light"
          }
        }
      ]
    },
    {
      "cell_type": "code",
      "metadata": {
        "id": "GZTxwjZkiWZI",
        "colab_type": "code",
        "colab": {
          "base_uri": "https://localhost:8080/",
          "height": 583
        },
        "outputId": "c0490b1e-16ed-407a-8f27-cc2b455b4693"
      },
      "source": [
        "plt.figure(figsize = (15, 10))\n",
        "sns.countplot(y= 'Location Description', data = data, \n",
        "              order = data['Location Description'].value_counts().iloc[:15].index)\n"
      ],
      "execution_count": 12,
      "outputs": [
        {
          "output_type": "execute_result",
          "data": {
            "text/plain": [
              "<matplotlib.axes._subplots.AxesSubplot at 0x7fac42456860>"
            ]
          },
          "metadata": {
            "tags": []
          },
          "execution_count": 12
        },
        {
          "output_type": "display_data",
          "data": {
            "image/png": "[encoded data removed]",
            "text/plain": [
              "<Figure size 1080x720 with 1 Axes>"
            ]
          },
          "metadata": {
            "tags": [],
            "needs_background": "light"
          }
        }
      ]
    },
    {
      "cell_type": "code",
      "metadata": {
        "id": "ZsOpEI75iiHl",
        "colab_type": "code",
        "colab": {
          "base_uri": "https://localhost:8080/",
          "height": 235
        },
        "outputId": "43e73e41-2cda-44c0-e931-95a49ab2bb96"
      },
      "source": [
        "Groups = data.groupby(data['Type'])\n",
        "Groups = dict(list(Groups))\n",
        "theft_data = [Groups['JEWELS THEFT AND MURDER']]\n",
        "theft_data = pd.concat(theft_data, axis = 0)\n",
        "del Groups\n",
        "del data\n",
        "theft_data.head(5)\n"
      ],
      "execution_count": 13,
      "outputs": [
        {
          "output_type": "execute_result",
          "data": {
            "text/html": [
              "<div>\n",
              "<style scoped>\n",
              "    .dataframe tbody tr th:only-of-type {\n",
              "        vertical-align: middle;\n",
              "    }\n",
              "\n",
              "    .dataframe tbody tr th {\n",
              "        vertical-align: top;\n",
              "    }\n",
              "\n",
              "    .dataframe thead th {\n",
              "        text-align: right;\n",
              "    }\n",
              "</style>\n",
              "<table border=\"1\" class=\"dataframe\">\n",
              "  <thead>\n",
              "    <tr style=\"text-align: right;\">\n",
              "      <th></th>\n",
              "      <th>ID</th>\n",
              "      <th>Date</th>\n",
              "      <th>Type</th>\n",
              "      <th>Location Description</th>\n",
              "      <th>Arrest</th>\n",
              "    </tr>\n",
              "    <tr>\n",
              "      <th>Date</th>\n",
              "      <th></th>\n",
              "      <th></th>\n",
              "      <th></th>\n",
              "      <th></th>\n",
              "      <th></th>\n",
              "    </tr>\n",
              "  </thead>\n",
              "  <tbody>\n",
              "    <tr>\n",
              "      <th>2017-05-03 22:00:00</th>\n",
              "      <td>10508699</td>\n",
              "      <td>2017-05-03 22:00:00</td>\n",
              "      <td>JEWELS THEFT AND MURDER</td>\n",
              "      <td>RESIDENCE</td>\n",
              "      <td>False</td>\n",
              "    </tr>\n",
              "    <tr>\n",
              "      <th>2017-05-03 17:30:00</th>\n",
              "      <td>10508717</td>\n",
              "      <td>2017-05-03 17:30:00</td>\n",
              "      <td>JEWELS THEFT AND MURDER</td>\n",
              "      <td>OTHER</td>\n",
              "      <td>False</td>\n",
              "    </tr>\n",
              "    <tr>\n",
              "      <th>2017-05-03 09:00:00</th>\n",
              "      <td>10508724</td>\n",
              "      <td>2017-05-03 09:00:00</td>\n",
              "      <td>JEWELS THEFT AND MURDER</td>\n",
              "      <td>STREET</td>\n",
              "      <td>False</td>\n",
              "    </tr>\n",
              "    <tr>\n",
              "      <th>2017-05-03 22:08:00</th>\n",
              "      <td>10508728</td>\n",
              "      <td>2017-05-03 22:08:00</td>\n",
              "      <td>JEWELS THEFT AND MURDER</td>\n",
              "      <td>STREET</td>\n",
              "      <td>False</td>\n",
              "    </tr>\n",
              "    <tr>\n",
              "      <th>2017-05-03 21:45:00</th>\n",
              "      <td>10508738</td>\n",
              "      <td>2017-05-03 21:45:00</td>\n",
              "      <td>JEWELS THEFT AND MURDER</td>\n",
              "      <td>STREET</td>\n",
              "      <td>False</td>\n",
              "    </tr>\n",
              "  </tbody>\n",
              "</table>\n",
              "</div>"
            ],
            "text/plain": [
              "                           ID                Date  ... Location Description Arrest\n",
              "Date                                               ...                            \n",
              "2017-05-03 22:00:00  10508699 2017-05-03 22:00:00  ...            RESIDENCE  False\n",
              "2017-05-03 17:30:00  10508717 2017-05-03 17:30:00  ...                OTHER  False\n",
              "2017-05-03 09:00:00  10508724 2017-05-03 09:00:00  ...               STREET  False\n",
              "2017-05-03 22:08:00  10508728 2017-05-03 22:08:00  ...               STREET  False\n",
              "2017-05-03 21:45:00  10508738 2017-05-03 21:45:00  ...               STREET  False\n",
              "\n",
              "[5 rows x 5 columns]"
            ]
          },
          "metadata": {
            "tags": []
          },
          "execution_count": 13
        }
      ]
    },
    {
      "cell_type": "code",
      "metadata": {
        "id": "2LpLKVLwi4D5",
        "colab_type": "code",
        "colab": {
          "base_uri": "https://localhost:8080/",
          "height": 153
        },
        "outputId": "6921b463-25dc-4e61-edbf-206cf8560227"
      },
      "source": [
        "theft_data.resample('Y').size()"
      ],
      "execution_count": 14,
      "outputs": [
        {
          "output_type": "execute_result",
          "data": {
            "text/plain": [
              "Date\n",
              "2014-12-31      881\n",
              "2015-12-31     9646\n",
              "2016-12-31     4991\n",
              "2017-12-31       49\n",
              "2018-12-31    74760\n",
              "2019-12-31    19222\n",
              "dtype: int64"
            ]
          },
          "metadata": {
            "tags": []
          },
          "execution_count": 14
        }
      ]
    },
    {
      "cell_type": "code",
      "metadata": {
        "id": "FIkQOeqfi7tO",
        "colab_type": "code",
        "colab": {
          "base_uri": "https://localhost:8080/",
          "height": 312
        },
        "outputId": "9c2d90bb-5006-45a3-9ec8-d4cfba8bcf3b"
      },
      "source": [
        "plt.plot(theft_data.resample('Y').size())\n",
        "plt.title('Crime Count Per Year')\n",
        "plt.xlabel('Years')\n",
        "plt.ylabel('Number of Jewels theft and murder Crimes')\n"
      ],
      "execution_count": 19,
      "outputs": [
        {
          "output_type": "execute_result",
          "data": {
            "text/plain": [
              "Text(0, 0.5, 'Number of Jewels theft and murder Crimes')"
            ]
          },
          "metadata": {
            "tags": []
          },
          "execution_count": 19
        },
        {
          "output_type": "display_data",
          "data": {
            "image/png": "[encoded data removed]",
            "text/plain": [
              "<Figure size 432x288 with 1 Axes>"
            ]
          },
          "metadata": {
            "tags": [],
            "needs_background": "light"
          }
        }
      ]
    },
    {
      "cell_type": "code",
      "metadata": {
        "id": "giby7Q1qjERT",
        "colab_type": "code",
        "colab": {
          "base_uri": "https://localhost:8080/",
          "height": 238
        },
        "outputId": "861edd38-f9cb-4fa4-e547-d3c013e64d73"
      },
      "source": [
        "theft_data.resample('M').size().head(), theft_data.resample('M').size().tail()\n"
      ],
      "execution_count": 20,
      "outputs": [
        {
          "output_type": "execute_result",
          "data": {
            "text/plain": [
              "(Date\n",
              " 2014-01-31    12\n",
              " 2014-02-28    10\n",
              " 2014-03-31    17\n",
              " 2014-04-30    56\n",
              " 2014-05-31    77\n",
              " dtype: int64, Date\n",
              " 2019-08-31     20\n",
              " 2019-09-30     27\n",
              " 2019-10-31     52\n",
              " 2019-11-30     69\n",
              " 2019-12-31    121\n",
              " dtype: int64)"
            ]
          },
          "metadata": {
            "tags": []
          },
          "execution_count": 20
        }
      ]
    },
    {
      "cell_type": "code",
      "metadata": {
        "id": "VUqTZLV8jIkG",
        "colab_type": "code",
        "colab": {
          "base_uri": "https://localhost:8080/",
          "height": 312
        },
        "outputId": "e333255d-45f4-4bae-8491-c1f307852e45"
      },
      "source": [
        "plt.plot(theft_data.resample('M').size())\n",
        "plt.title('Crime Count Per Month')\n",
        "plt.xlabel('Months')\n",
        "plt.ylabel('Number of Jewels theft and murder Crimes')\n"
      ],
      "execution_count": 21,
      "outputs": [
        {
          "output_type": "execute_result",
          "data": {
            "text/plain": [
              "Text(0, 0.5, 'Number of Jewels theft and murder Crimes')"
            ]
          },
          "metadata": {
            "tags": []
          },
          "execution_count": 21
        },
        {
          "output_type": "display_data",
          "data": {
            "image/png": "[encoded data removed]",
            "text/plain": [
              "<Figure size 432x288 with 1 Axes>"
            ]
          },
          "metadata": {
            "tags": [],
            "needs_background": "light"
          }
        }
      ]
    },
    {
      "cell_type": "code",
      "metadata": {
        "id": "ciIZlz9SjSrm",
        "colab_type": "code",
        "colab": {}
      },
      "source": [
        "theft_prophet = theft_data.resample('M').size().reset_index()"
      ],
      "execution_count": 0,
      "outputs": []
    },
    {
      "cell_type": "code",
      "metadata": {
        "id": "_FpDHkYLjpJr",
        "colab_type": "code",
        "colab": {
          "base_uri": "https://localhost:8080/",
          "height": 204
        },
        "outputId": "a9a7fecd-ae69-46b2-c9a0-f8647a5d33ac"
      },
      "source": [
        "theft_prophet.columns = ['Date', 'Crime Count']\n",
        "theft_prophet.head()\n"
      ],
      "execution_count": 26,
      "outputs": [
        {
          "output_type": "execute_result",
          "data": {
            "text/html": [
              "<div>\n",
              "<style scoped>\n",
              "    .dataframe tbody tr th:only-of-type {\n",
              "        vertical-align: middle;\n",
              "    }\n",
              "\n",
              "    .dataframe tbody tr th {\n",
              "        vertical-align: top;\n",
              "    }\n",
              "\n",
              "    .dataframe thead th {\n",
              "        text-align: right;\n",
              "    }\n",
              "</style>\n",
              "<table border=\"1\" class=\"dataframe\">\n",
              "  <thead>\n",
              "    <tr style=\"text-align: right;\">\n",
              "      <th></th>\n",
              "      <th>Date</th>\n",
              "      <th>Crime Count</th>\n",
              "    </tr>\n",
              "  </thead>\n",
              "  <tbody>\n",
              "    <tr>\n",
              "      <th>0</th>\n",
              "      <td>2014-01-31</td>\n",
              "      <td>12</td>\n",
              "    </tr>\n",
              "    <tr>\n",
              "      <th>1</th>\n",
              "      <td>2014-02-28</td>\n",
              "      <td>10</td>\n",
              "    </tr>\n",
              "    <tr>\n",
              "      <th>2</th>\n",
              "      <td>2014-03-31</td>\n",
              "      <td>17</td>\n",
              "    </tr>\n",
              "    <tr>\n",
              "      <th>3</th>\n",
              "      <td>2014-04-30</td>\n",
              "      <td>56</td>\n",
              "    </tr>\n",
              "    <tr>\n",
              "      <th>4</th>\n",
              "      <td>2014-05-31</td>\n",
              "      <td>77</td>\n",
              "    </tr>\n",
              "  </tbody>\n",
              "</table>\n",
              "</div>"
            ],
            "text/plain": [
              "        Date  Crime Count\n",
              "0 2014-01-31           12\n",
              "1 2014-02-28           10\n",
              "2 2014-03-31           17\n",
              "3 2014-04-30           56\n",
              "4 2014-05-31           77"
            ]
          },
          "metadata": {
            "tags": []
          },
          "execution_count": 26
        }
      ]
    },
    {
      "cell_type": "code",
      "metadata": {
        "id": "WdlTTk91j4pC",
        "colab_type": "code",
        "colab": {
          "base_uri": "https://localhost:8080/",
          "height": 204
        },
        "outputId": "1980a3f9-d267-4e0b-b5e5-eb4973e03a76"
      },
      "source": [
        "theft_prophet.tail()"
      ],
      "execution_count": 27,
      "outputs": [
        {
          "output_type": "execute_result",
          "data": {
            "text/html": [
              "<div>\n",
              "<style scoped>\n",
              "    .dataframe tbody tr th:only-of-type {\n",
              "        vertical-align: middle;\n",
              "    }\n",
              "\n",
              "    .dataframe tbody tr th {\n",
              "        vertical-align: top;\n",
              "    }\n",
              "\n",
              "    .dataframe thead th {\n",
              "        text-align: right;\n",
              "    }\n",
              "</style>\n",
              "<table border=\"1\" class=\"dataframe\">\n",
              "  <thead>\n",
              "    <tr style=\"text-align: right;\">\n",
              "      <th></th>\n",
              "      <th>Date</th>\n",
              "      <th>Crime Count</th>\n",
              "    </tr>\n",
              "  </thead>\n",
              "  <tbody>\n",
              "    <tr>\n",
              "      <th>67</th>\n",
              "      <td>2019-08-31</td>\n",
              "      <td>20</td>\n",
              "    </tr>\n",
              "    <tr>\n",
              "      <th>68</th>\n",
              "      <td>2019-09-30</td>\n",
              "      <td>27</td>\n",
              "    </tr>\n",
              "    <tr>\n",
              "      <th>69</th>\n",
              "      <td>2019-10-31</td>\n",
              "      <td>52</td>\n",
              "    </tr>\n",
              "    <tr>\n",
              "      <th>70</th>\n",
              "      <td>2019-11-30</td>\n",
              "      <td>69</td>\n",
              "    </tr>\n",
              "    <tr>\n",
              "      <th>71</th>\n",
              "      <td>2019-12-31</td>\n",
              "      <td>121</td>\n",
              "    </tr>\n",
              "  </tbody>\n",
              "</table>\n",
              "</div>"
            ],
            "text/plain": [
              "         Date  Crime Count\n",
              "67 2019-08-31           20\n",
              "68 2019-09-30           27\n",
              "69 2019-10-31           52\n",
              "70 2019-11-30           69\n",
              "71 2019-12-31          121"
            ]
          },
          "metadata": {
            "tags": []
          },
          "execution_count": 27
        }
      ]
    },
    {
      "cell_type": "code",
      "metadata": {
        "id": "EEVj66tlj5yJ",
        "colab_type": "code",
        "colab": {}
      },
      "source": [
        "theft_prophet_df = pd.DataFrame(theft_prophet)\n"
      ],
      "execution_count": 0,
      "outputs": []
    },
    {
      "cell_type": "code",
      "metadata": {
        "id": "ft_qDi9kkGXC",
        "colab_type": "code",
        "colab": {
          "base_uri": "https://localhost:8080/",
          "height": 34
        },
        "outputId": "ad6870f9-f917-4d82-a8c2-56dedbb913cb"
      },
      "source": [
        "theft_prophet_df.columns\n"
      ],
      "execution_count": 29,
      "outputs": [
        {
          "output_type": "execute_result",
          "data": {
            "text/plain": [
              "Index(['Date', 'Crime Count'], dtype='object')"
            ]
          },
          "metadata": {
            "tags": []
          },
          "execution_count": 29
        }
      ]
    },
    {
      "cell_type": "code",
      "metadata": {
        "id": "9_rsRWPakMm3",
        "colab_type": "code",
        "colab": {}
      },
      "source": [
        "theft_prophet_data = theft_prophet_df.rename(columns={'Date':'ds', 'Crime Count':'y'})\n"
      ],
      "execution_count": 0,
      "outputs": []
    },
    {
      "cell_type": "code",
      "metadata": {
        "id": "9UjD6o9Vkbty",
        "colab_type": "code",
        "colab": {
          "base_uri": "https://localhost:8080/",
          "height": 204
        },
        "outputId": "1f6ecafe-176c-493e-a7e6-7d8a088f9101"
      },
      "source": [
        "theft_prophet_data.head()"
      ],
      "execution_count": 31,
      "outputs": [
        {
          "output_type": "execute_result",
          "data": {
            "text/html": [
              "<div>\n",
              "<style scoped>\n",
              "    .dataframe tbody tr th:only-of-type {\n",
              "        vertical-align: middle;\n",
              "    }\n",
              "\n",
              "    .dataframe tbody tr th {\n",
              "        vertical-align: top;\n",
              "    }\n",
              "\n",
              "    .dataframe thead th {\n",
              "        text-align: right;\n",
              "    }\n",
              "</style>\n",
              "<table border=\"1\" class=\"dataframe\">\n",
              "  <thead>\n",
              "    <tr style=\"text-align: right;\">\n",
              "      <th></th>\n",
              "      <th>ds</th>\n",
              "      <th>y</th>\n",
              "    </tr>\n",
              "  </thead>\n",
              "  <tbody>\n",
              "    <tr>\n",
              "      <th>0</th>\n",
              "      <td>2014-01-31</td>\n",
              "      <td>12</td>\n",
              "    </tr>\n",
              "    <tr>\n",
              "      <th>1</th>\n",
              "      <td>2014-02-28</td>\n",
              "      <td>10</td>\n",
              "    </tr>\n",
              "    <tr>\n",
              "      <th>2</th>\n",
              "      <td>2014-03-31</td>\n",
              "      <td>17</td>\n",
              "    </tr>\n",
              "    <tr>\n",
              "      <th>3</th>\n",
              "      <td>2014-04-30</td>\n",
              "      <td>56</td>\n",
              "    </tr>\n",
              "    <tr>\n",
              "      <th>4</th>\n",
              "      <td>2014-05-31</td>\n",
              "      <td>77</td>\n",
              "    </tr>\n",
              "  </tbody>\n",
              "</table>\n",
              "</div>"
            ],
            "text/plain": [
              "          ds   y\n",
              "0 2014-01-31  12\n",
              "1 2014-02-28  10\n",
              "2 2014-03-31  17\n",
              "3 2014-04-30  56\n",
              "4 2014-05-31  77"
            ]
          },
          "metadata": {
            "tags": []
          },
          "execution_count": 31
        }
      ]
    },
    {
      "cell_type": "code",
      "metadata": {
        "id": "uUiYr7_KkgHO",
        "colab_type": "code",
        "colab": {
          "base_uri": "https://localhost:8080/",
          "height": 204
        },
        "outputId": "aa1c01a9-5332-4d01-8e07-ad0447e13b3a"
      },
      "source": [
        "theft_prophet_data.tail()"
      ],
      "execution_count": 32,
      "outputs": [
        {
          "output_type": "execute_result",
          "data": {
            "text/html": [
              "<div>\n",
              "<style scoped>\n",
              "    .dataframe tbody tr th:only-of-type {\n",
              "        vertical-align: middle;\n",
              "    }\n",
              "\n",
              "    .dataframe tbody tr th {\n",
              "        vertical-align: top;\n",
              "    }\n",
              "\n",
              "    .dataframe thead th {\n",
              "        text-align: right;\n",
              "    }\n",
              "</style>\n",
              "<table border=\"1\" class=\"dataframe\">\n",
              "  <thead>\n",
              "    <tr style=\"text-align: right;\">\n",
              "      <th></th>\n",
              "      <th>ds</th>\n",
              "      <th>y</th>\n",
              "    </tr>\n",
              "  </thead>\n",
              "  <tbody>\n",
              "    <tr>\n",
              "      <th>67</th>\n",
              "      <td>2019-08-31</td>\n",
              "      <td>20</td>\n",
              "    </tr>\n",
              "    <tr>\n",
              "      <th>68</th>\n",
              "      <td>2019-09-30</td>\n",
              "      <td>27</td>\n",
              "    </tr>\n",
              "    <tr>\n",
              "      <th>69</th>\n",
              "      <td>2019-10-31</td>\n",
              "      <td>52</td>\n",
              "    </tr>\n",
              "    <tr>\n",
              "      <th>70</th>\n",
              "      <td>2019-11-30</td>\n",
              "      <td>69</td>\n",
              "    </tr>\n",
              "    <tr>\n",
              "      <th>71</th>\n",
              "      <td>2019-12-31</td>\n",
              "      <td>121</td>\n",
              "    </tr>\n",
              "  </tbody>\n",
              "</table>\n",
              "</div>"
            ],
            "text/plain": [
              "           ds    y\n",
              "67 2019-08-31   20\n",
              "68 2019-09-30   27\n",
              "69 2019-10-31   52\n",
              "70 2019-11-30   69\n",
              "71 2019-12-31  121"
            ]
          },
          "metadata": {
            "tags": []
          },
          "execution_count": 32
        }
      ]
    },
    {
      "cell_type": "code",
      "metadata": {
        "id": "E6yO9swikion",
        "colab_type": "code",
        "colab": {
          "base_uri": "https://localhost:8080/",
          "height": 34
        },
        "outputId": "71955df9-be41-4543-f866-289012bce01c"
      },
      "source": [
        "theft_prophet_data.shape"
      ],
      "execution_count": 34,
      "outputs": [
        {
          "output_type": "execute_result",
          "data": {
            "text/plain": [
              "(72, 2)"
            ]
          },
          "metadata": {
            "tags": []
          },
          "execution_count": 34
        }
      ]
    },
    {
      "cell_type": "code",
      "metadata": {
        "id": "IrBdXvg5kp5r",
        "colab_type": "code",
        "colab": {}
      },
      "source": [
        "train = theft_prophet_data[:62]\n",
        "test = theft_prophet_data[62:]\n"
      ],
      "execution_count": 0,
      "outputs": []
    },
    {
      "cell_type": "code",
      "metadata": {
        "id": "171Br5pRl-h9",
        "colab_type": "code",
        "colab": {
          "base_uri": "https://localhost:8080/",
          "height": 204
        },
        "outputId": "afe488c9-9aa9-44d2-86af-99e6e1ea8990"
      },
      "source": [
        "train.head()"
      ],
      "execution_count": 36,
      "outputs": [
        {
          "output_type": "execute_result",
          "data": {
            "text/html": [
              "<div>\n",
              "<style scoped>\n",
              "    .dataframe tbody tr th:only-of-type {\n",
              "        vertical-align: middle;\n",
              "    }\n",
              "\n",
              "    .dataframe tbody tr th {\n",
              "        vertical-align: top;\n",
              "    }\n",
              "\n",
              "    .dataframe thead th {\n",
              "        text-align: right;\n",
              "    }\n",
              "</style>\n",
              "<table border=\"1\" class=\"dataframe\">\n",
              "  <thead>\n",
              "    <tr style=\"text-align: right;\">\n",
              "      <th></th>\n",
              "      <th>ds</th>\n",
              "      <th>y</th>\n",
              "    </tr>\n",
              "  </thead>\n",
              "  <tbody>\n",
              "    <tr>\n",
              "      <th>0</th>\n",
              "      <td>2014-01-31</td>\n",
              "      <td>12</td>\n",
              "    </tr>\n",
              "    <tr>\n",
              "      <th>1</th>\n",
              "      <td>2014-02-28</td>\n",
              "      <td>10</td>\n",
              "    </tr>\n",
              "    <tr>\n",
              "      <th>2</th>\n",
              "      <td>2014-03-31</td>\n",
              "      <td>17</td>\n",
              "    </tr>\n",
              "    <tr>\n",
              "      <th>3</th>\n",
              "      <td>2014-04-30</td>\n",
              "      <td>56</td>\n",
              "    </tr>\n",
              "    <tr>\n",
              "      <th>4</th>\n",
              "      <td>2014-05-31</td>\n",
              "      <td>77</td>\n",
              "    </tr>\n",
              "  </tbody>\n",
              "</table>\n",
              "</div>"
            ],
            "text/plain": [
              "          ds   y\n",
              "0 2014-01-31  12\n",
              "1 2014-02-28  10\n",
              "2 2014-03-31  17\n",
              "3 2014-04-30  56\n",
              "4 2014-05-31  77"
            ]
          },
          "metadata": {
            "tags": []
          },
          "execution_count": 36
        }
      ]
    },
    {
      "cell_type": "code",
      "metadata": {
        "id": "8SDb9bQ-nstL",
        "colab_type": "code",
        "colab": {
          "base_uri": "https://localhost:8080/",
          "height": 85
        },
        "outputId": "4198b9db-ed63-4a9b-d9aa-e8ad96ec0cfa"
      },
      "source": [
        "m = Prophet()\n",
        "m.fit(train)"
      ],
      "execution_count": 38,
      "outputs": [
        {
          "output_type": "stream",
          "text": [
            "INFO:numexpr.utils:NumExpr defaulting to 2 threads.\n",
            "INFO:fbprophet:Disabling weekly seasonality. Run prophet with weekly_seasonality=True to override this.\n",
            "INFO:fbprophet:Disabling daily seasonality. Run prophet with daily_seasonality=True to override this.\n"
          ],
          "name": "stderr"
        },
        {
          "output_type": "execute_result",
          "data": {
            "text/plain": [
              "<fbprophet.forecaster.Prophet at 0x7fac4217a8d0>"
            ]
          },
          "metadata": {
            "tags": []
          },
          "execution_count": 38
        }
      ]
    },
    {
      "cell_type": "code",
      "metadata": {
        "id": "zds5wyyEn8hU",
        "colab_type": "code",
        "colab": {}
      },
      "source": [
        "future = m.make_future_dataframe(periods=365)"
      ],
      "execution_count": 0,
      "outputs": []
    },
    {
      "cell_type": "code",
      "metadata": {
        "id": "E8CMaRXEoC4v",
        "colab_type": "code",
        "colab": {}
      },
      "source": [
        "forecast = m.predict(future)"
      ],
      "execution_count": 0,
      "outputs": []
    },
    {
      "cell_type": "code",
      "metadata": {
        "id": "T0SN7WOroJjG",
        "colab_type": "code",
        "colab": {
          "base_uri": "https://localhost:8080/",
          "height": 309
        },
        "outputId": "cd9c076f-c9b3-40cb-d32e-155e3b1e55ee"
      },
      "source": [
        "forecast.head()"
      ],
      "execution_count": 41,
      "outputs": [
        {
          "output_type": "execute_result",
          "data": {
            "text/html": [
              "<div>\n",
              "<style scoped>\n",
              "    .dataframe tbody tr th:only-of-type {\n",
              "        vertical-align: middle;\n",
              "    }\n",
              "\n",
              "    .dataframe tbody tr th {\n",
              "        vertical-align: top;\n",
              "    }\n",
              "\n",
              "    .dataframe thead th {\n",
              "        text-align: right;\n",
              "    }\n",
              "</style>\n",
              "<table border=\"1\" class=\"dataframe\">\n",
              "  <thead>\n",
              "    <tr style=\"text-align: right;\">\n",
              "      <th></th>\n",
              "      <th>ds</th>\n",
              "      <th>trend</th>\n",
              "      <th>yhat_lower</th>\n",
              "      <th>yhat_upper</th>\n",
              "      <th>trend_lower</th>\n",
              "      <th>trend_upper</th>\n",
              "      <th>additive_terms</th>\n",
              "      <th>additive_terms_lower</th>\n",
              "      <th>additive_terms_upper</th>\n",
              "      <th>yearly</th>\n",
              "      <th>yearly_lower</th>\n",
              "      <th>yearly_upper</th>\n",
              "      <th>multiplicative_terms</th>\n",
              "      <th>multiplicative_terms_lower</th>\n",
              "      <th>multiplicative_terms_upper</th>\n",
              "      <th>yhat</th>\n",
              "    </tr>\n",
              "  </thead>\n",
              "  <tbody>\n",
              "    <tr>\n",
              "      <th>0</th>\n",
              "      <td>2014-01-31</td>\n",
              "      <td>-1672.059115</td>\n",
              "      <td>-2300.452521</td>\n",
              "      <td>2545.768165</td>\n",
              "      <td>-1672.059115</td>\n",
              "      <td>-1672.059115</td>\n",
              "      <td>1670.721251</td>\n",
              "      <td>1670.721251</td>\n",
              "      <td>1670.721251</td>\n",
              "      <td>1670.721251</td>\n",
              "      <td>1670.721251</td>\n",
              "      <td>1670.721251</td>\n",
              "      <td>0.0</td>\n",
              "      <td>0.0</td>\n",
              "      <td>0.0</td>\n",
              "      <td>-1.337863</td>\n",
              "    </tr>\n",
              "    <tr>\n",
              "      <th>1</th>\n",
              "      <td>2014-02-28</td>\n",
              "      <td>-1585.342589</td>\n",
              "      <td>-2944.881503</td>\n",
              "      <td>1615.084368</td>\n",
              "      <td>-1585.342589</td>\n",
              "      <td>-1585.342589</td>\n",
              "      <td>842.940657</td>\n",
              "      <td>842.940657</td>\n",
              "      <td>842.940657</td>\n",
              "      <td>842.940657</td>\n",
              "      <td>842.940657</td>\n",
              "      <td>842.940657</td>\n",
              "      <td>0.0</td>\n",
              "      <td>0.0</td>\n",
              "      <td>0.0</td>\n",
              "      <td>-742.401933</td>\n",
              "    </tr>\n",
              "    <tr>\n",
              "      <th>2</th>\n",
              "      <td>2014-03-31</td>\n",
              "      <td>-1489.335008</td>\n",
              "      <td>-2957.919697</td>\n",
              "      <td>2021.051352</td>\n",
              "      <td>-1489.335008</td>\n",
              "      <td>-1489.335008</td>\n",
              "      <td>1106.753947</td>\n",
              "      <td>1106.753947</td>\n",
              "      <td>1106.753947</td>\n",
              "      <td>1106.753947</td>\n",
              "      <td>1106.753947</td>\n",
              "      <td>1106.753947</td>\n",
              "      <td>0.0</td>\n",
              "      <td>0.0</td>\n",
              "      <td>0.0</td>\n",
              "      <td>-382.581060</td>\n",
              "    </tr>\n",
              "    <tr>\n",
              "      <th>3</th>\n",
              "      <td>2014-04-30</td>\n",
              "      <td>-1396.424445</td>\n",
              "      <td>-3314.337344</td>\n",
              "      <td>1498.751216</td>\n",
              "      <td>-1396.424445</td>\n",
              "      <td>-1396.424445</td>\n",
              "      <td>480.923387</td>\n",
              "      <td>480.923387</td>\n",
              "      <td>480.923387</td>\n",
              "      <td>480.923387</td>\n",
              "      <td>480.923387</td>\n",
              "      <td>480.923387</td>\n",
              "      <td>0.0</td>\n",
              "      <td>0.0</td>\n",
              "      <td>0.0</td>\n",
              "      <td>-915.501058</td>\n",
              "    </tr>\n",
              "    <tr>\n",
              "      <th>4</th>\n",
              "      <td>2014-05-31</td>\n",
              "      <td>-1300.416863</td>\n",
              "      <td>-2971.642965</td>\n",
              "      <td>1735.182084</td>\n",
              "      <td>-1300.416863</td>\n",
              "      <td>-1300.416863</td>\n",
              "      <td>782.804577</td>\n",
              "      <td>782.804577</td>\n",
              "      <td>782.804577</td>\n",
              "      <td>782.804577</td>\n",
              "      <td>782.804577</td>\n",
              "      <td>782.804577</td>\n",
              "      <td>0.0</td>\n",
              "      <td>0.0</td>\n",
              "      <td>0.0</td>\n",
              "      <td>-517.612286</td>\n",
              "    </tr>\n",
              "  </tbody>\n",
              "</table>\n",
              "</div>"
            ],
            "text/plain": [
              "          ds        trend  ...  multiplicative_terms_upper        yhat\n",
              "0 2014-01-31 -1672.059115  ...                         0.0   -1.337863\n",
              "1 2014-02-28 -1585.342589  ...                         0.0 -742.401933\n",
              "2 2014-03-31 -1489.335008  ...                         0.0 -382.581060\n",
              "3 2014-04-30 -1396.424445  ...                         0.0 -915.501058\n",
              "4 2014-05-31 -1300.416863  ...                         0.0 -517.612286\n",
              "\n",
              "[5 rows x 16 columns]"
            ]
          },
          "metadata": {
            "tags": []
          },
          "execution_count": 41
        }
      ]
    },
    {
      "cell_type": "code",
      "metadata": {
        "id": "VECqC9CHoOIs",
        "colab_type": "code",
        "colab": {
          "base_uri": "https://localhost:8080/",
          "height": 309
        },
        "outputId": "0ef33ab7-9c54-48ab-fa84-aa7400d91333"
      },
      "source": [
        "forecast.tail()"
      ],
      "execution_count": 42,
      "outputs": [
        {
          "output_type": "execute_result",
          "data": {
            "text/html": [
              "<div>\n",
              "<style scoped>\n",
              "    .dataframe tbody tr th:only-of-type {\n",
              "        vertical-align: middle;\n",
              "    }\n",
              "\n",
              "    .dataframe tbody tr th {\n",
              "        vertical-align: top;\n",
              "    }\n",
              "\n",
              "    .dataframe thead th {\n",
              "        text-align: right;\n",
              "    }\n",
              "</style>\n",
              "<table border=\"1\" class=\"dataframe\">\n",
              "  <thead>\n",
              "    <tr style=\"text-align: right;\">\n",
              "      <th></th>\n",
              "      <th>ds</th>\n",
              "      <th>trend</th>\n",
              "      <th>yhat_lower</th>\n",
              "      <th>yhat_upper</th>\n",
              "      <th>trend_lower</th>\n",
              "      <th>trend_upper</th>\n",
              "      <th>additive_terms</th>\n",
              "      <th>additive_terms_lower</th>\n",
              "      <th>additive_terms_upper</th>\n",
              "      <th>yearly</th>\n",
              "      <th>yearly_lower</th>\n",
              "      <th>yearly_upper</th>\n",
              "      <th>multiplicative_terms</th>\n",
              "      <th>multiplicative_terms_lower</th>\n",
              "      <th>multiplicative_terms_upper</th>\n",
              "      <th>yhat</th>\n",
              "    </tr>\n",
              "  </thead>\n",
              "  <tbody>\n",
              "    <tr>\n",
              "      <th>422</th>\n",
              "      <td>2020-02-24</td>\n",
              "      <td>5190.086494</td>\n",
              "      <td>11837.553529</td>\n",
              "      <td>16458.622963</td>\n",
              "      <td>5190.024133</td>\n",
              "      <td>5190.149720</td>\n",
              "      <td>8987.119709</td>\n",
              "      <td>8987.119709</td>\n",
              "      <td>8987.119709</td>\n",
              "      <td>8987.119709</td>\n",
              "      <td>8987.119709</td>\n",
              "      <td>8987.119709</td>\n",
              "      <td>0.0</td>\n",
              "      <td>0.0</td>\n",
              "      <td>0.0</td>\n",
              "      <td>14177.206203</td>\n",
              "    </tr>\n",
              "    <tr>\n",
              "      <th>423</th>\n",
              "      <td>2020-02-25</td>\n",
              "      <td>5193.185515</td>\n",
              "      <td>9802.629188</td>\n",
              "      <td>14814.169533</td>\n",
              "      <td>5193.122913</td>\n",
              "      <td>5193.248641</td>\n",
              "      <td>7004.155629</td>\n",
              "      <td>7004.155629</td>\n",
              "      <td>7004.155629</td>\n",
              "      <td>7004.155629</td>\n",
              "      <td>7004.155629</td>\n",
              "      <td>7004.155629</td>\n",
              "      <td>0.0</td>\n",
              "      <td>0.0</td>\n",
              "      <td>0.0</td>\n",
              "      <td>12197.341144</td>\n",
              "    </tr>\n",
              "    <tr>\n",
              "      <th>424</th>\n",
              "      <td>2020-02-26</td>\n",
              "      <td>5196.284535</td>\n",
              "      <td>7814.226848</td>\n",
              "      <td>12675.098929</td>\n",
              "      <td>5196.221693</td>\n",
              "      <td>5196.347562</td>\n",
              "      <td>5081.094347</td>\n",
              "      <td>5081.094347</td>\n",
              "      <td>5081.094347</td>\n",
              "      <td>5081.094347</td>\n",
              "      <td>5081.094347</td>\n",
              "      <td>5081.094347</td>\n",
              "      <td>0.0</td>\n",
              "      <td>0.0</td>\n",
              "      <td>0.0</td>\n",
              "      <td>10277.378883</td>\n",
              "    </tr>\n",
              "    <tr>\n",
              "      <th>425</th>\n",
              "      <td>2020-02-27</td>\n",
              "      <td>5199.383556</td>\n",
              "      <td>6012.967445</td>\n",
              "      <td>10749.362146</td>\n",
              "      <td>5199.320473</td>\n",
              "      <td>5199.446806</td>\n",
              "      <td>3265.938889</td>\n",
              "      <td>3265.938889</td>\n",
              "      <td>3265.938889</td>\n",
              "      <td>3265.938889</td>\n",
              "      <td>3265.938889</td>\n",
              "      <td>3265.938889</td>\n",
              "      <td>0.0</td>\n",
              "      <td>0.0</td>\n",
              "      <td>0.0</td>\n",
              "      <td>8465.322445</td>\n",
              "    </tr>\n",
              "    <tr>\n",
              "      <th>426</th>\n",
              "      <td>2020-02-28</td>\n",
              "      <td>5202.482577</td>\n",
              "      <td>4474.605910</td>\n",
              "      <td>9122.590698</td>\n",
              "      <td>5202.419254</td>\n",
              "      <td>5202.546349</td>\n",
              "      <td>1603.729571</td>\n",
              "      <td>1603.729571</td>\n",
              "      <td>1603.729571</td>\n",
              "      <td>1603.729571</td>\n",
              "      <td>1603.729571</td>\n",
              "      <td>1603.729571</td>\n",
              "      <td>0.0</td>\n",
              "      <td>0.0</td>\n",
              "      <td>0.0</td>\n",
              "      <td>6806.212148</td>\n",
              "    </tr>\n",
              "  </tbody>\n",
              "</table>\n",
              "</div>"
            ],
            "text/plain": [
              "            ds        trend  ...  multiplicative_terms_upper          yhat\n",
              "422 2020-02-24  5190.086494  ...                         0.0  14177.206203\n",
              "423 2020-02-25  5193.185515  ...                         0.0  12197.341144\n",
              "424 2020-02-26  5196.284535  ...                         0.0  10277.378883\n",
              "425 2020-02-27  5199.383556  ...                         0.0   8465.322445\n",
              "426 2020-02-28  5202.482577  ...                         0.0   6806.212148\n",
              "\n",
              "[5 rows x 16 columns]"
            ]
          },
          "metadata": {
            "tags": []
          },
          "execution_count": 42
        }
      ]
    },
    {
      "cell_type": "code",
      "metadata": {
        "id": "_F3ztb7goSU3",
        "colab_type": "code",
        "colab": {
          "base_uri": "https://localhost:8080/",
          "height": 865
        },
        "outputId": "b6b8c0cc-aced-4370-9069-a0815deae5f6"
      },
      "source": [
        "m.plot(forecast, xlabel='Date', ylabel='Crime Rate')"
      ],
      "execution_count": 43,
      "outputs": [
        {
          "output_type": "execute_result",
          "data": {
            "image/png": "[encoded data removed]",
            "text/plain": [
              "<Figure size 720x432 with 1 Axes>"
            ]
          },
          "metadata": {
            "tags": []
          },
          "execution_count": 43
        },
        {
          "output_type": "display_data",
          "data": {
            "image/png": "[encoded data removed]",
            "text/plain": [
              "<Figure size 720x432 with 1 Axes>"
            ]
          },
          "metadata": {
            "tags": []
          }
        }
      ]
    },
    {
      "cell_type": "code",
      "metadata": {
        "id": "Z1B-7JI3oZHW",
        "colab_type": "code",
        "colab": {
          "base_uri": "https://localhost:8080/",
          "height": 865
        },
        "outputId": "4d12cac0-1760-4f7e-a199-61e9b4432344"
      },
      "source": [
        "m.plot_components(forecast)"
      ],
      "execution_count": 44,
      "outputs": [
        {
          "output_type": "execute_result",
          "data": {
            "image/png": "[encoded data removed]",
            "text/plain": [
              "<Figure size 648x432 with 2 Axes>"
            ]
          },
          "metadata": {
            "tags": []
          },
          "execution_count": 44
        },
        {
          "output_type": "display_data",
          "data": {
            "image/png": "[encoded data removed]",
            "text/plain": [
              "<Figure size 648x432 with 2 Axes>"
            ]
          },
          "metadata": {
            "tags": []
          }
        }
      ]
    },
    {
      "cell_type": "code",
      "metadata": {
        "id": "kf3CFgHxofk2",
        "colab_type": "code",
        "colab": {
          "base_uri": "https://localhost:8080/",
          "height": 359
        },
        "outputId": "68665eb9-5186-4346-9a79-80ad27fb1396"
      },
      "source": [
        "test"
      ],
      "execution_count": 45,
      "outputs": [
        {
          "output_type": "execute_result",
          "data": {
            "text/html": [
              "<div>\n",
              "<style scoped>\n",
              "    .dataframe tbody tr th:only-of-type {\n",
              "        vertical-align: middle;\n",
              "    }\n",
              "\n",
              "    .dataframe tbody tr th {\n",
              "        vertical-align: top;\n",
              "    }\n",
              "\n",
              "    .dataframe thead th {\n",
              "        text-align: right;\n",
              "    }\n",
              "</style>\n",
              "<table border=\"1\" class=\"dataframe\">\n",
              "  <thead>\n",
              "    <tr style=\"text-align: right;\">\n",
              "      <th></th>\n",
              "      <th>ds</th>\n",
              "      <th>y</th>\n",
              "    </tr>\n",
              "  </thead>\n",
              "  <tbody>\n",
              "    <tr>\n",
              "      <th>62</th>\n",
              "      <td>2019-03-31</td>\n",
              "      <td>5096</td>\n",
              "    </tr>\n",
              "    <tr>\n",
              "      <th>63</th>\n",
              "      <td>2019-04-30</td>\n",
              "      <td>4091</td>\n",
              "    </tr>\n",
              "    <tr>\n",
              "      <th>64</th>\n",
              "      <td>2019-05-31</td>\n",
              "      <td>21</td>\n",
              "    </tr>\n",
              "    <tr>\n",
              "      <th>65</th>\n",
              "      <td>2019-06-30</td>\n",
              "      <td>26</td>\n",
              "    </tr>\n",
              "    <tr>\n",
              "      <th>66</th>\n",
              "      <td>2019-07-31</td>\n",
              "      <td>21</td>\n",
              "    </tr>\n",
              "    <tr>\n",
              "      <th>67</th>\n",
              "      <td>2019-08-31</td>\n",
              "      <td>20</td>\n",
              "    </tr>\n",
              "    <tr>\n",
              "      <th>68</th>\n",
              "      <td>2019-09-30</td>\n",
              "      <td>27</td>\n",
              "    </tr>\n",
              "    <tr>\n",
              "      <th>69</th>\n",
              "      <td>2019-10-31</td>\n",
              "      <td>52</td>\n",
              "    </tr>\n",
              "    <tr>\n",
              "      <th>70</th>\n",
              "      <td>2019-11-30</td>\n",
              "      <td>69</td>\n",
              "    </tr>\n",
              "    <tr>\n",
              "      <th>71</th>\n",
              "      <td>2019-12-31</td>\n",
              "      <td>121</td>\n",
              "    </tr>\n",
              "  </tbody>\n",
              "</table>\n",
              "</div>"
            ],
            "text/plain": [
              "           ds     y\n",
              "62 2019-03-31  5096\n",
              "63 2019-04-30  4091\n",
              "64 2019-05-31    21\n",
              "65 2019-06-30    26\n",
              "66 2019-07-31    21\n",
              "67 2019-08-31    20\n",
              "68 2019-09-30    27\n",
              "69 2019-10-31    52\n",
              "70 2019-11-30    69\n",
              "71 2019-12-31   121"
            ]
          },
          "metadata": {
            "tags": []
          },
          "execution_count": 45
        }
      ]
    },
    {
      "cell_type": "code",
      "metadata": {
        "id": "3mYgVzkUoklc",
        "colab_type": "code",
        "colab": {
          "base_uri": "https://localhost:8080/",
          "height": 204
        },
        "outputId": "846dd67a-515c-49a1-a766-2153a0416bd8"
      },
      "source": [
        "test.head()"
      ],
      "execution_count": 46,
      "outputs": [
        {
          "output_type": "execute_result",
          "data": {
            "text/html": [
              "<div>\n",
              "<style scoped>\n",
              "    .dataframe tbody tr th:only-of-type {\n",
              "        vertical-align: middle;\n",
              "    }\n",
              "\n",
              "    .dataframe tbody tr th {\n",
              "        vertical-align: top;\n",
              "    }\n",
              "\n",
              "    .dataframe thead th {\n",
              "        text-align: right;\n",
              "    }\n",
              "</style>\n",
              "<table border=\"1\" class=\"dataframe\">\n",
              "  <thead>\n",
              "    <tr style=\"text-align: right;\">\n",
              "      <th></th>\n",
              "      <th>ds</th>\n",
              "      <th>y</th>\n",
              "    </tr>\n",
              "  </thead>\n",
              "  <tbody>\n",
              "    <tr>\n",
              "      <th>62</th>\n",
              "      <td>2019-03-31</td>\n",
              "      <td>5096</td>\n",
              "    </tr>\n",
              "    <tr>\n",
              "      <th>63</th>\n",
              "      <td>2019-04-30</td>\n",
              "      <td>4091</td>\n",
              "    </tr>\n",
              "    <tr>\n",
              "      <th>64</th>\n",
              "      <td>2019-05-31</td>\n",
              "      <td>21</td>\n",
              "    </tr>\n",
              "    <tr>\n",
              "      <th>65</th>\n",
              "      <td>2019-06-30</td>\n",
              "      <td>26</td>\n",
              "    </tr>\n",
              "    <tr>\n",
              "      <th>66</th>\n",
              "      <td>2019-07-31</td>\n",
              "      <td>21</td>\n",
              "    </tr>\n",
              "  </tbody>\n",
              "</table>\n",
              "</div>"
            ],
            "text/plain": [
              "           ds     y\n",
              "62 2019-03-31  5096\n",
              "63 2019-04-30  4091\n",
              "64 2019-05-31    21\n",
              "65 2019-06-30    26\n",
              "66 2019-07-31    21"
            ]
          },
          "metadata": {
            "tags": []
          },
          "execution_count": 46
        }
      ]
    },
    {
      "cell_type": "code",
      "metadata": {
        "id": "Pgml1EOto3-h",
        "colab_type": "code",
        "colab": {
          "base_uri": "https://localhost:8080/",
          "height": 306
        },
        "outputId": "f37a2449-100f-47e4-a49d-1b45cd60f752"
      },
      "source": [
        "test = test.set_index(\"ds\")\n",
        "test = test['y']\n",
        "import matplotlib.pyplot as plt\n",
        "test.plot()\n"
      ],
      "execution_count": 48,
      "outputs": [
        {
          "output_type": "execute_result",
          "data": {
            "text/plain": [
              "<matplotlib.axes._subplots.AxesSubplot at 0x7fac3ea985f8>"
            ]
          },
          "metadata": {
            "tags": []
          },
          "execution_count": 48
        },
        {
          "output_type": "display_data",
          "data": {
            "image/png": "[encoded data removed]",
            "text/plain": [
              "<Figure size 432x288 with 1 Axes>"
            ]
          },
          "metadata": {
            "tags": [],
            "needs_background": "light"
          }
        }
      ]
    },
    {
      "cell_type": "code",
      "metadata": {
        "id": "wX23sl6GpCGD",
        "colab_type": "code",
        "colab": {
          "base_uri": "https://localhost:8080/",
          "height": 441
        },
        "outputId": "2db233af-0224-4a2e-acfc-886feb7bff7d"
      },
      "source": [
        "from fbprophet.plot import add_changepoints_to_plot\n",
        "fig = m.plot(forecast)\n",
        "c = add_changepoints_to_plot(fig.gca(),m,forecast)\n"
      ],
      "execution_count": 51,
      "outputs": [
        {
          "output_type": "display_data",
          "data": {
            "image/png": "[encoded data removed]",
            "text/plain": [
              "<Figure size 720x432 with 1 Axes>"
            ]
          },
          "metadata": {
            "tags": []
          }
        }
      ]
    }
  ]
}