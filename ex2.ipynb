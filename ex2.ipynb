{
  "nbformat": 4,
  "nbformat_minor": 0,
  "metadata": {
    "colab": {
      "name": "ex2.ipynb",
      "provenance": [],
      "collapsed_sections": [],
      "authorship_tag": "ABX9TyNgMtAFhxRmMMyVKzAFBTs6",
      "include_colab_link": true
    },
    "kernelspec": {
      "name": "python3",
      "display_name": "Python 3"
    }
  },
  "cells": [
    {
      "cell_type": "markdown",
      "metadata": {
        "id": "view-in-github",
        "colab_type": "text"
      },
      "source": [
        "<a href=\"https://colab.research.google.com/github/saranyapalani/project/blob/master/ex2.ipynb\" target=\"_parent\"><img src=\"https://colab.research.google.com/assets/colab-badge.svg\" alt=\"Open In Colab\"/></a>"
      ]
    },
    {
      "cell_type": "code",
      "metadata": {
        "id": "qOjs37xwpLCU",
        "colab_type": "code",
        "colab": {}
      },
      "source": [
        "import itertools\n",
        "import numpy as np\n",
        "import matplotlib.pyplot as plt\n",
        "from matplotlib.ticker import NullFormatter\n",
        "import pandas as pd\n",
        "import numpy as np\n",
        "import matplotlib.ticker as ticker\n",
        "from sklearn import preprocessing\n",
        "%matplotlib inline"
      ],
      "execution_count": 0,
      "outputs": []
    },
    {
      "cell_type": "code",
      "metadata": {
        "id": "i7y_gpDvqxTF",
        "colab_type": "code",
        "outputId": "ac868823-2228-4033-e1ab-56bc5848ca85",
        "colab": {
          "base_uri": "https://localhost:8080/",
          "height": 479
        }
      },
      "source": [
        "df = pd.read_csv('robbery.csv')\n",
        "df.head()\n"
      ],
      "execution_count": 0,
      "outputs": [
        {
          "output_type": "execute_result",
          "data": {
            "text/html": [
              "<div>\n",
              "<style scoped>\n",
              "    .dataframe tbody tr th:only-of-type {\n",
              "        vertical-align: middle;\n",
              "    }\n",
              "\n",
              "    .dataframe tbody tr th {\n",
              "        vertical-align: top;\n",
              "    }\n",
              "\n",
              "    .dataframe thead th {\n",
              "        text-align: right;\n",
              "    }\n",
              "</style>\n",
              "<table border=\"1\" class=\"dataframe\">\n",
              "  <thead>\n",
              "    <tr style=\"text-align: right;\">\n",
              "      <th></th>\n",
              "      <th>crimecode</th>\n",
              "      <th>occ_date</th>\n",
              "      <th>occ_time</th>\n",
              "      <th>occ_month</th>\n",
              "      <th>occ_week</th>\n",
              "      <th>occ_year</th>\n",
              "      <th>location</th>\n",
              "      <th>offence</th>\n",
              "      <th>weapons used</th>\n",
              "      <th>lat</th>\n",
              "      <th>long</th>\n",
              "      <th>light</th>\n",
              "    </tr>\n",
              "  </thead>\n",
              "  <tbody>\n",
              "    <tr>\n",
              "      <th>0</th>\n",
              "      <td>4786321</td>\n",
              "      <td>8/17/2016</td>\n",
              "      <td>15:03</td>\n",
              "      <td>August</td>\n",
              "      <td>Friday</td>\n",
              "      <td>2014</td>\n",
              "      <td>street</td>\n",
              "      <td>robbery and murder</td>\n",
              "      <td>riffle</td>\n",
              "      <td>43.653210</td>\n",
              "      <td>-79.381287</td>\n",
              "      <td>day</td>\n",
              "    </tr>\n",
              "    <tr>\n",
              "      <th>1</th>\n",
              "      <td>4676906</td>\n",
              "      <td>10-05-2016</td>\n",
              "      <td>08:55</td>\n",
              "      <td>October</td>\n",
              "      <td>Thursday</td>\n",
              "      <td>2016</td>\n",
              "      <td>residence</td>\n",
              "      <td>robbery and murder</td>\n",
              "      <td>riffle</td>\n",
              "      <td>43.785351</td>\n",
              "      <td>-79.278572</td>\n",
              "      <td>day</td>\n",
              "    </tr>\n",
              "    <tr>\n",
              "      <th>2</th>\n",
              "      <td>4789749</td>\n",
              "      <td>10/17/2016</td>\n",
              "      <td>15:03</td>\n",
              "      <td>October</td>\n",
              "      <td>Sunday</td>\n",
              "      <td>2016</td>\n",
              "      <td>residence</td>\n",
              "      <td>robbery and murder and murder</td>\n",
              "      <td>riffle</td>\n",
              "      <td>43.700970</td>\n",
              "      <td>-79.399261</td>\n",
              "      <td>night</td>\n",
              "    </tr>\n",
              "    <tr>\n",
              "      <th>3</th>\n",
              "      <td>4789765</td>\n",
              "      <td>10/17/2016</td>\n",
              "      <td>15:03</td>\n",
              "      <td>October</td>\n",
              "      <td>Sunday</td>\n",
              "      <td>2014</td>\n",
              "      <td>street</td>\n",
              "      <td>robbery and murder</td>\n",
              "      <td>knife</td>\n",
              "      <td>43.739391</td>\n",
              "      <td>-79.513222</td>\n",
              "      <td>night</td>\n",
              "    </tr>\n",
              "    <tr>\n",
              "      <th>4</th>\n",
              "      <td>4677901</td>\n",
              "      <td>10/15/2016</td>\n",
              "      <td>08:55</td>\n",
              "      <td>October</td>\n",
              "      <td>Sunday</td>\n",
              "      <td>2016</td>\n",
              "      <td>residence</td>\n",
              "      <td>robbery and murder and murder</td>\n",
              "      <td>firearms</td>\n",
              "      <td>43.720444</td>\n",
              "      <td>-79.551483</td>\n",
              "      <td>night</td>\n",
              "    </tr>\n",
              "  </tbody>\n",
              "</table>\n",
              "</div>"
            ],
            "text/plain": [
              "   crimecode    occ_date occ_time  ...        lat       long  light\n",
              "0    4786321   8/17/2016    15:03  ...  43.653210 -79.381287    day\n",
              "1    4676906  10-05-2016    08:55  ...  43.785351 -79.278572    day\n",
              "2    4789749  10/17/2016    15:03  ...  43.700970 -79.399261  night\n",
              "3    4789765  10/17/2016    15:03  ...  43.739391 -79.513222  night\n",
              "4    4677901  10/15/2016    08:55  ...  43.720444 -79.551483  night\n",
              "\n",
              "[5 rows x 12 columns]"
            ]
          },
          "metadata": {
            "tags": []
          },
          "execution_count": 2
        }
      ]
    },
    {
      "cell_type": "code",
      "metadata": {
        "id": "88_O5J6eq57C",
        "colab_type": "code",
        "outputId": "fd476ed0-130a-471b-8d2f-23f7ee5a0a04",
        "colab": {
          "base_uri": "https://localhost:8080/",
          "height": 34
        }
      },
      "source": [
        "df.shape\n"
      ],
      "execution_count": 0,
      "outputs": [
        {
          "output_type": "execute_result",
          "data": {
            "text/plain": [
              "(49, 12)"
            ]
          },
          "metadata": {
            "tags": []
          },
          "execution_count": 3
        }
      ]
    },
    {
      "cell_type": "code",
      "metadata": {
        "id": "aXdg6UmwrpB4",
        "colab_type": "code",
        "outputId": "9370879f-26fd-4590-fffb-9b0559c560ed",
        "colab": {
          "base_uri": "https://localhost:8080/",
          "height": 459
        }
      },
      "source": [
        "df['occ_date'] = pd.to_datetime(df['occ_date'])\n",
        "df.head()\n"
      ],
      "execution_count": 0,
      "outputs": [
        {
          "output_type": "execute_result",
          "data": {
            "text/html": [
              "<div>\n",
              "<style scoped>\n",
              "    .dataframe tbody tr th:only-of-type {\n",
              "        vertical-align: middle;\n",
              "    }\n",
              "\n",
              "    .dataframe tbody tr th {\n",
              "        vertical-align: top;\n",
              "    }\n",
              "\n",
              "    .dataframe thead th {\n",
              "        text-align: right;\n",
              "    }\n",
              "</style>\n",
              "<table border=\"1\" class=\"dataframe\">\n",
              "  <thead>\n",
              "    <tr style=\"text-align: right;\">\n",
              "      <th></th>\n",
              "      <th>crimecode</th>\n",
              "      <th>occ_date</th>\n",
              "      <th>occ_time</th>\n",
              "      <th>occ_month</th>\n",
              "      <th>occ_week</th>\n",
              "      <th>occ_year</th>\n",
              "      <th>location</th>\n",
              "      <th>offence</th>\n",
              "      <th>weapons used</th>\n",
              "      <th>lat</th>\n",
              "      <th>long</th>\n",
              "      <th>light</th>\n",
              "    </tr>\n",
              "  </thead>\n",
              "  <tbody>\n",
              "    <tr>\n",
              "      <th>0</th>\n",
              "      <td>4786321</td>\n",
              "      <td>2016-08-17</td>\n",
              "      <td>15:03</td>\n",
              "      <td>August</td>\n",
              "      <td>Friday</td>\n",
              "      <td>2014</td>\n",
              "      <td>street</td>\n",
              "      <td>robbery and murder</td>\n",
              "      <td>riffle</td>\n",
              "      <td>43.653210</td>\n",
              "      <td>-79.381287</td>\n",
              "      <td>day</td>\n",
              "    </tr>\n",
              "    <tr>\n",
              "      <th>1</th>\n",
              "      <td>4676906</td>\n",
              "      <td>2016-10-05</td>\n",
              "      <td>08:55</td>\n",
              "      <td>October</td>\n",
              "      <td>Thursday</td>\n",
              "      <td>2016</td>\n",
              "      <td>residence</td>\n",
              "      <td>robbery and murder</td>\n",
              "      <td>riffle</td>\n",
              "      <td>43.785351</td>\n",
              "      <td>-79.278572</td>\n",
              "      <td>day</td>\n",
              "    </tr>\n",
              "    <tr>\n",
              "      <th>2</th>\n",
              "      <td>4789749</td>\n",
              "      <td>2016-10-17</td>\n",
              "      <td>15:03</td>\n",
              "      <td>October</td>\n",
              "      <td>Sunday</td>\n",
              "      <td>2016</td>\n",
              "      <td>residence</td>\n",
              "      <td>robbery and murder and murder</td>\n",
              "      <td>riffle</td>\n",
              "      <td>43.700970</td>\n",
              "      <td>-79.399261</td>\n",
              "      <td>night</td>\n",
              "    </tr>\n",
              "    <tr>\n",
              "      <th>3</th>\n",
              "      <td>4789765</td>\n",
              "      <td>2016-10-17</td>\n",
              "      <td>15:03</td>\n",
              "      <td>October</td>\n",
              "      <td>Sunday</td>\n",
              "      <td>2014</td>\n",
              "      <td>street</td>\n",
              "      <td>robbery and murder</td>\n",
              "      <td>knife</td>\n",
              "      <td>43.739391</td>\n",
              "      <td>-79.513222</td>\n",
              "      <td>night</td>\n",
              "    </tr>\n",
              "    <tr>\n",
              "      <th>4</th>\n",
              "      <td>4677901</td>\n",
              "      <td>2016-10-15</td>\n",
              "      <td>08:55</td>\n",
              "      <td>October</td>\n",
              "      <td>Sunday</td>\n",
              "      <td>2016</td>\n",
              "      <td>residence</td>\n",
              "      <td>robbery and murder and murder</td>\n",
              "      <td>firearms</td>\n",
              "      <td>43.720444</td>\n",
              "      <td>-79.551483</td>\n",
              "      <td>night</td>\n",
              "    </tr>\n",
              "  </tbody>\n",
              "</table>\n",
              "</div>"
            ],
            "text/plain": [
              "   crimecode   occ_date occ_time  ...        lat       long  light\n",
              "0    4786321 2016-08-17    15:03  ...  43.653210 -79.381287    day\n",
              "1    4676906 2016-10-05    08:55  ...  43.785351 -79.278572    day\n",
              "2    4789749 2016-10-17    15:03  ...  43.700970 -79.399261  night\n",
              "3    4789765 2016-10-17    15:03  ...  43.739391 -79.513222  night\n",
              "4    4677901 2016-10-15    08:55  ...  43.720444 -79.551483  night\n",
              "\n",
              "[5 rows x 12 columns]"
            ]
          },
          "metadata": {
            "tags": []
          },
          "execution_count": 4
        }
      ]
    },
    {
      "cell_type": "code",
      "metadata": {
        "id": "H8AYaQdkr1BF",
        "colab_type": "code",
        "outputId": "6b1bf823-25c1-40e0-e0ac-69d6704adcda",
        "colab": {
          "base_uri": "https://localhost:8080/",
          "height": 102
        }
      },
      "source": [
        "df['weapons used'].value_counts()\n"
      ],
      "execution_count": 0,
      "outputs": [
        {
          "output_type": "execute_result",
          "data": {
            "text/plain": [
              "riffle      22\n",
              "knife       13\n",
              "firearms     8\n",
              "ironrods     6\n",
              "Name: weapons used, dtype: int64"
            ]
          },
          "metadata": {
            "tags": []
          },
          "execution_count": 6
        }
      ]
    },
    {
      "cell_type": "code",
      "metadata": {
        "id": "DvgO1BYcsJrM",
        "colab_type": "code",
        "outputId": "7bc182a0-0cd5-4d3f-949f-6b0247acc33d",
        "colab": {
          "base_uri": "https://localhost:8080/",
          "height": 225
        }
      },
      "source": [
        "import seaborn as sns\n",
        "\n",
        "bins = np.linspace(df.occ_year.min(), df.occ_year.max(), 10)\n",
        "g = sns.FacetGrid(df, col=\"light\", hue=\"weapons used\", palette=\"Set1\", col_wrap=2)\n",
        "g.map(plt.hist, 'occ_year', bins=bins, ec=\"k\")\n",
        "\n",
        "g.axes[-1].legend()\n",
        "plt.show()\n"
      ],
      "execution_count": 0,
      "outputs": [
        {
          "output_type": "display_data",
          "data": {
            "image/png": "[encoded data removed]",
            "text/plain": [
              "<Figure size 432x216 with 2 Axes>"
            ]
          },
          "metadata": {
            "tags": []
          }
        }
      ]
    },
    {
      "cell_type": "code",
      "metadata": {
        "id": "oLgRNCO-sgtY",
        "colab_type": "code",
        "outputId": "a1d50621-8835-4769-b998-937eedbdea76",
        "colab": {
          "base_uri": "https://localhost:8080/",
          "height": 255
        }
      },
      "source": [
        "df.groupby(['location'])['weapons used'].value_counts(normalize=True)"
      ],
      "execution_count": 0,
      "outputs": [
        {
          "output_type": "execute_result",
          "data": {
            "text/plain": [
              "location   weapons used\n",
              "apartment  knife           0.384615\n",
              "           riffle          0.384615\n",
              "           firearms        0.153846\n",
              "           ironrods        0.076923\n",
              "residence  riffle          0.450000\n",
              "           firearms        0.200000\n",
              "           knife           0.200000\n",
              "           ironrods        0.150000\n",
              "street     riffle          0.500000\n",
              "           knife           0.250000\n",
              "           firearms        0.125000\n",
              "           ironrods        0.125000\n",
              "Name: weapons used, dtype: float64"
            ]
          },
          "metadata": {
            "tags": []
          },
          "execution_count": 8
        }
      ]
    },
    {
      "cell_type": "code",
      "metadata": {
        "id": "YRFTHzLmthpT",
        "colab_type": "code",
        "outputId": "93790f5b-4ccf-44b2-bb7e-17a051316643",
        "colab": {
          "base_uri": "https://localhost:8080/",
          "height": 459
        }
      },
      "source": [
        "df['light'].replace(to_replace=['day','night'], value=[0,1],inplace=True)\n",
        "df.head()"
      ],
      "execution_count": 0,
      "outputs": [
        {
          "output_type": "execute_result",
          "data": {
            "text/html": [
              "<div>\n",
              "<style scoped>\n",
              "    .dataframe tbody tr th:only-of-type {\n",
              "        vertical-align: middle;\n",
              "    }\n",
              "\n",
              "    .dataframe tbody tr th {\n",
              "        vertical-align: top;\n",
              "    }\n",
              "\n",
              "    .dataframe thead th {\n",
              "        text-align: right;\n",
              "    }\n",
              "</style>\n",
              "<table border=\"1\" class=\"dataframe\">\n",
              "  <thead>\n",
              "    <tr style=\"text-align: right;\">\n",
              "      <th></th>\n",
              "      <th>crimecode</th>\n",
              "      <th>occ_date</th>\n",
              "      <th>occ_time</th>\n",
              "      <th>occ_month</th>\n",
              "      <th>occ_week</th>\n",
              "      <th>occ_year</th>\n",
              "      <th>location</th>\n",
              "      <th>offence</th>\n",
              "      <th>weapons used</th>\n",
              "      <th>lat</th>\n",
              "      <th>long</th>\n",
              "      <th>light</th>\n",
              "    </tr>\n",
              "  </thead>\n",
              "  <tbody>\n",
              "    <tr>\n",
              "      <th>0</th>\n",
              "      <td>4786321</td>\n",
              "      <td>2016-08-17</td>\n",
              "      <td>15:03</td>\n",
              "      <td>August</td>\n",
              "      <td>Friday</td>\n",
              "      <td>2014</td>\n",
              "      <td>street</td>\n",
              "      <td>robbery and murder</td>\n",
              "      <td>riffle</td>\n",
              "      <td>43.653210</td>\n",
              "      <td>-79.381287</td>\n",
              "      <td>0</td>\n",
              "    </tr>\n",
              "    <tr>\n",
              "      <th>1</th>\n",
              "      <td>4676906</td>\n",
              "      <td>2016-10-05</td>\n",
              "      <td>08:55</td>\n",
              "      <td>October</td>\n",
              "      <td>Thursday</td>\n",
              "      <td>2016</td>\n",
              "      <td>residence</td>\n",
              "      <td>robbery and murder</td>\n",
              "      <td>riffle</td>\n",
              "      <td>43.785351</td>\n",
              "      <td>-79.278572</td>\n",
              "      <td>0</td>\n",
              "    </tr>\n",
              "    <tr>\n",
              "      <th>2</th>\n",
              "      <td>4789749</td>\n",
              "      <td>2016-10-17</td>\n",
              "      <td>15:03</td>\n",
              "      <td>October</td>\n",
              "      <td>Sunday</td>\n",
              "      <td>2016</td>\n",
              "      <td>residence</td>\n",
              "      <td>robbery and murder and murder</td>\n",
              "      <td>riffle</td>\n",
              "      <td>43.700970</td>\n",
              "      <td>-79.399261</td>\n",
              "      <td>1</td>\n",
              "    </tr>\n",
              "    <tr>\n",
              "      <th>3</th>\n",
              "      <td>4789765</td>\n",
              "      <td>2016-10-17</td>\n",
              "      <td>15:03</td>\n",
              "      <td>October</td>\n",
              "      <td>Sunday</td>\n",
              "      <td>2014</td>\n",
              "      <td>street</td>\n",
              "      <td>robbery and murder</td>\n",
              "      <td>knife</td>\n",
              "      <td>43.739391</td>\n",
              "      <td>-79.513222</td>\n",
              "      <td>1</td>\n",
              "    </tr>\n",
              "    <tr>\n",
              "      <th>4</th>\n",
              "      <td>4677901</td>\n",
              "      <td>2016-10-15</td>\n",
              "      <td>08:55</td>\n",
              "      <td>October</td>\n",
              "      <td>Sunday</td>\n",
              "      <td>2016</td>\n",
              "      <td>residence</td>\n",
              "      <td>robbery and murder and murder</td>\n",
              "      <td>firearms</td>\n",
              "      <td>43.720444</td>\n",
              "      <td>-79.551483</td>\n",
              "      <td>1</td>\n",
              "    </tr>\n",
              "  </tbody>\n",
              "</table>\n",
              "</div>"
            ],
            "text/plain": [
              "   crimecode   occ_date occ_time  ...        lat       long  light\n",
              "0    4786321 2016-08-17    15:03  ...  43.653210 -79.381287      0\n",
              "1    4676906 2016-10-05    08:55  ...  43.785351 -79.278572      0\n",
              "2    4789749 2016-10-17    15:03  ...  43.700970 -79.399261      1\n",
              "3    4789765 2016-10-17    15:03  ...  43.739391 -79.513222      1\n",
              "4    4677901 2016-10-15    08:55  ...  43.720444 -79.551483      1\n",
              "\n",
              "[5 rows x 12 columns]"
            ]
          },
          "metadata": {
            "tags": []
          },
          "execution_count": 11
        }
      ]
    },
    {
      "cell_type": "code",
      "metadata": {
        "id": "svjWb4Y9tzjH",
        "colab_type": "code",
        "outputId": "089a576e-126b-4052-8476-54fc238d749c",
        "colab": {
          "base_uri": "https://localhost:8080/",
          "height": 204
        }
      },
      "source": [
        "df[['occ_year','location','occ_week','light']].head()"
      ],
      "execution_count": 0,
      "outputs": [
        {
          "output_type": "execute_result",
          "data": {
            "text/html": [
              "<div>\n",
              "<style scoped>\n",
              "    .dataframe tbody tr th:only-of-type {\n",
              "        vertical-align: middle;\n",
              "    }\n",
              "\n",
              "    .dataframe tbody tr th {\n",
              "        vertical-align: top;\n",
              "    }\n",
              "\n",
              "    .dataframe thead th {\n",
              "        text-align: right;\n",
              "    }\n",
              "</style>\n",
              "<table border=\"1\" class=\"dataframe\">\n",
              "  <thead>\n",
              "    <tr style=\"text-align: right;\">\n",
              "      <th></th>\n",
              "      <th>occ_year</th>\n",
              "      <th>location</th>\n",
              "      <th>occ_week</th>\n",
              "      <th>light</th>\n",
              "    </tr>\n",
              "  </thead>\n",
              "  <tbody>\n",
              "    <tr>\n",
              "      <th>0</th>\n",
              "      <td>2014</td>\n",
              "      <td>street</td>\n",
              "      <td>Friday</td>\n",
              "      <td>0</td>\n",
              "    </tr>\n",
              "    <tr>\n",
              "      <th>1</th>\n",
              "      <td>2016</td>\n",
              "      <td>residence</td>\n",
              "      <td>Thursday</td>\n",
              "      <td>0</td>\n",
              "    </tr>\n",
              "    <tr>\n",
              "      <th>2</th>\n",
              "      <td>2016</td>\n",
              "      <td>residence</td>\n",
              "      <td>Sunday</td>\n",
              "      <td>1</td>\n",
              "    </tr>\n",
              "    <tr>\n",
              "      <th>3</th>\n",
              "      <td>2014</td>\n",
              "      <td>street</td>\n",
              "      <td>Sunday</td>\n",
              "      <td>1</td>\n",
              "    </tr>\n",
              "    <tr>\n",
              "      <th>4</th>\n",
              "      <td>2016</td>\n",
              "      <td>residence</td>\n",
              "      <td>Sunday</td>\n",
              "      <td>1</td>\n",
              "    </tr>\n",
              "  </tbody>\n",
              "</table>\n",
              "</div>"
            ],
            "text/plain": [
              "   occ_year   location    occ_week  light\n",
              "0      2014     street  Friday          0\n",
              "1      2016  residence  Thursday        0\n",
              "2      2016  residence  Sunday          1\n",
              "3      2014     street  Sunday          1\n",
              "4      2016  residence  Sunday          1"
            ]
          },
          "metadata": {
            "tags": []
          },
          "execution_count": 12
        }
      ]
    },
    {
      "cell_type": "code",
      "metadata": {
        "id": "mQRHIaUruPD7",
        "colab_type": "code",
        "outputId": "9c2fdc10-2e86-4e66-c695-4ffde0496307",
        "colab": {
          "base_uri": "https://localhost:8080/",
          "height": 204
        }
      },
      "source": [
        "Feature = df[['occ_year','light']]\n",
        "Feature = pd.concat([Feature,pd.get_dummies(df['location'])], axis=1)\n",
        "Feature.head()"
      ],
      "execution_count": 0,
      "outputs": [
        {
          "output_type": "execute_result",
          "data": {
            "text/html": [
              "<div>\n",
              "<style scoped>\n",
              "    .dataframe tbody tr th:only-of-type {\n",
              "        vertical-align: middle;\n",
              "    }\n",
              "\n",
              "    .dataframe tbody tr th {\n",
              "        vertical-align: top;\n",
              "    }\n",
              "\n",
              "    .dataframe thead th {\n",
              "        text-align: right;\n",
              "    }\n",
              "</style>\n",
              "<table border=\"1\" class=\"dataframe\">\n",
              "  <thead>\n",
              "    <tr style=\"text-align: right;\">\n",
              "      <th></th>\n",
              "      <th>occ_year</th>\n",
              "      <th>light</th>\n",
              "      <th>apartment</th>\n",
              "      <th>residence</th>\n",
              "      <th>street</th>\n",
              "    </tr>\n",
              "  </thead>\n",
              "  <tbody>\n",
              "    <tr>\n",
              "      <th>0</th>\n",
              "      <td>2014</td>\n",
              "      <td>0</td>\n",
              "      <td>0</td>\n",
              "      <td>0</td>\n",
              "      <td>1</td>\n",
              "    </tr>\n",
              "    <tr>\n",
              "      <th>1</th>\n",
              "      <td>2016</td>\n",
              "      <td>0</td>\n",
              "      <td>0</td>\n",
              "      <td>1</td>\n",
              "      <td>0</td>\n",
              "    </tr>\n",
              "    <tr>\n",
              "      <th>2</th>\n",
              "      <td>2016</td>\n",
              "      <td>1</td>\n",
              "      <td>0</td>\n",
              "      <td>1</td>\n",
              "      <td>0</td>\n",
              "    </tr>\n",
              "    <tr>\n",
              "      <th>3</th>\n",
              "      <td>2014</td>\n",
              "      <td>1</td>\n",
              "      <td>0</td>\n",
              "      <td>0</td>\n",
              "      <td>1</td>\n",
              "    </tr>\n",
              "    <tr>\n",
              "      <th>4</th>\n",
              "      <td>2016</td>\n",
              "      <td>1</td>\n",
              "      <td>0</td>\n",
              "      <td>1</td>\n",
              "      <td>0</td>\n",
              "    </tr>\n",
              "  </tbody>\n",
              "</table>\n",
              "</div>"
            ],
            "text/plain": [
              "   occ_year  light  apartment  residence  street\n",
              "0      2014      0          0          0       1\n",
              "1      2016      0          0          1       0\n",
              "2      2016      1          0          1       0\n",
              "3      2014      1          0          0       1\n",
              "4      2016      1          0          1       0"
            ]
          },
          "metadata": {
            "tags": []
          },
          "execution_count": 21
        }
      ]
    },
    {
      "cell_type": "code",
      "metadata": {
        "id": "ZFDCgR5guhjq",
        "colab_type": "code",
        "outputId": "e8de7b0c-4da5-477c-cb68-0b7ceb5ec336",
        "colab": {
          "base_uri": "https://localhost:8080/",
          "height": 204
        }
      },
      "source": [
        "X = Feature\n",
        "X[0:5]\n"
      ],
      "execution_count": 0,
      "outputs": [
        {
          "output_type": "execute_result",
          "data": {
            "text/html": [
              "<div>\n",
              "<style scoped>\n",
              "    .dataframe tbody tr th:only-of-type {\n",
              "        vertical-align: middle;\n",
              "    }\n",
              "\n",
              "    .dataframe tbody tr th {\n",
              "        vertical-align: top;\n",
              "    }\n",
              "\n",
              "    .dataframe thead th {\n",
              "        text-align: right;\n",
              "    }\n",
              "</style>\n",
              "<table border=\"1\" class=\"dataframe\">\n",
              "  <thead>\n",
              "    <tr style=\"text-align: right;\">\n",
              "      <th></th>\n",
              "      <th>occ_year</th>\n",
              "      <th>light</th>\n",
              "      <th>apartment</th>\n",
              "      <th>residence</th>\n",
              "      <th>street</th>\n",
              "    </tr>\n",
              "  </thead>\n",
              "  <tbody>\n",
              "    <tr>\n",
              "      <th>0</th>\n",
              "      <td>2014</td>\n",
              "      <td>0</td>\n",
              "      <td>0</td>\n",
              "      <td>0</td>\n",
              "      <td>1</td>\n",
              "    </tr>\n",
              "    <tr>\n",
              "      <th>1</th>\n",
              "      <td>2016</td>\n",
              "      <td>0</td>\n",
              "      <td>0</td>\n",
              "      <td>1</td>\n",
              "      <td>0</td>\n",
              "    </tr>\n",
              "    <tr>\n",
              "      <th>2</th>\n",
              "      <td>2016</td>\n",
              "      <td>1</td>\n",
              "      <td>0</td>\n",
              "      <td>1</td>\n",
              "      <td>0</td>\n",
              "    </tr>\n",
              "    <tr>\n",
              "      <th>3</th>\n",
              "      <td>2014</td>\n",
              "      <td>1</td>\n",
              "      <td>0</td>\n",
              "      <td>0</td>\n",
              "      <td>1</td>\n",
              "    </tr>\n",
              "    <tr>\n",
              "      <th>4</th>\n",
              "      <td>2016</td>\n",
              "      <td>1</td>\n",
              "      <td>0</td>\n",
              "      <td>1</td>\n",
              "      <td>0</td>\n",
              "    </tr>\n",
              "  </tbody>\n",
              "</table>\n",
              "</div>"
            ],
            "text/plain": [
              "   occ_year  light  apartment  residence  street\n",
              "0      2014      0          0          0       1\n",
              "1      2016      0          0          1       0\n",
              "2      2016      1          0          1       0\n",
              "3      2014      1          0          0       1\n",
              "4      2016      1          0          1       0"
            ]
          },
          "metadata": {
            "tags": []
          },
          "execution_count": 32
        }
      ]
    },
    {
      "cell_type": "code",
      "metadata": {
        "id": "4og--9mcusvh",
        "colab_type": "code",
        "outputId": "bf83c7b8-c0a5-410c-a063-66d8342191b8",
        "colab": {
          "base_uri": "https://localhost:8080/",
          "height": 34
        }
      },
      "source": [
        "y = pd.get_dummies(df['weapons used'])['riffle'].values\n",
        "y[0:5]\n"
      ],
      "execution_count": 0,
      "outputs": [
        {
          "output_type": "execute_result",
          "data": {
            "text/plain": [
              "array([1, 1, 1, 0, 0], dtype=uint8)"
            ]
          },
          "metadata": {
            "tags": []
          },
          "execution_count": 33
        }
      ]
    },
    {
      "cell_type": "code",
      "metadata": {
        "id": "s_KhnaO-u0x2",
        "colab_type": "code",
        "outputId": "1b6bb192-7d7d-4021-a2c6-4b4f18fc10c2",
        "colab": {
          "base_uri": "https://localhost:8080/",
          "height": 102
        }
      },
      "source": [
        "X= preprocessing.StandardScaler().fit(X).transform(X)\n",
        "X[0:5]\n"
      ],
      "execution_count": 0,
      "outputs": [
        {
          "output_type": "execute_result",
          "data": {
            "text/plain": [
              "array([[-1.77237252, -1.25656172, -0.60092521, -0.8304548 ,  1.43614066],\n",
              "       [-0.31277162, -1.25656172, -0.60092521,  1.20415946, -0.69631062],\n",
              "       [-0.31277162,  0.79582243, -0.60092521,  1.20415946, -0.69631062],\n",
              "       [-1.77237252,  0.79582243, -0.60092521, -0.8304548 ,  1.43614066],\n",
              "       [-0.31277162,  0.79582243, -0.60092521,  1.20415946, -0.69631062]])"
            ]
          },
          "metadata": {
            "tags": []
          },
          "execution_count": 34
        }
      ]
    },
    {
      "cell_type": "code",
      "metadata": {
        "id": "tiDxXSFcwfOA",
        "colab_type": "code",
        "colab": {}
      },
      "source": [
        "from sklearn.tree import DecisionTreeClassifier\n"
      ],
      "execution_count": 0,
      "outputs": []
    },
    {
      "cell_type": "code",
      "metadata": {
        "id": "6dNJRvQhwj04",
        "colab_type": "code",
        "outputId": "1499e2b5-49e1-45ce-d487-01e9dd1b02c7",
        "colab": {
          "base_uri": "https://localhost:8080/",
          "height": 119
        }
      },
      "source": [
        "dtmodel = DecisionTreeClassifier(criterion=\"entropy\", max_depth = 4)\n",
        "dtmodel.fit(X_train,y_train)\n"
      ],
      "execution_count": 0,
      "outputs": [
        {
          "output_type": "execute_result",
          "data": {
            "text/plain": [
              "DecisionTreeClassifier(ccp_alpha=0.0, class_weight=None, criterion='entropy',\n",
              "                       max_depth=4, max_features=None, max_leaf_nodes=None,\n",
              "                       min_impurity_decrease=0.0, min_impurity_split=None,\n",
              "                       min_samples_leaf=1, min_samples_split=2,\n",
              "                       min_weight_fraction_leaf=0.0, presort='deprecated',\n",
              "                       random_state=None, splitter='best')"
            ]
          },
          "metadata": {
            "tags": []
          },
          "execution_count": 41
        }
      ]
    },
    {
      "cell_type": "code",
      "metadata": {
        "id": "CX6ZyZvDwneh",
        "colab_type": "code",
        "outputId": "a96a96f2-2d9b-45d4-e0ef-505a0c83958f",
        "colab": {
          "base_uri": "https://localhost:8080/",
          "height": 34
        }
      },
      "source": [
        "y_pred=dtmodel.predict(X_test)\n",
        "TreeAccuracy=metrics.accuracy_score(y_test,y_pred)\n",
        "TreeAccuracy\n"
      ],
      "execution_count": 0,
      "outputs": [
        {
          "output_type": "execute_result",
          "data": {
            "text/plain": [
              "0.5"
            ]
          },
          "metadata": {
            "tags": []
          },
          "execution_count": 42
        }
      ]
    },
    {
      "cell_type": "code",
      "metadata": {
        "id": "8Ai6hc2Bwta5",
        "colab_type": "code",
        "outputId": "7b95bdd7-06cc-459d-d975-43d7876f9d82",
        "colab": {
          "base_uri": "https://localhost:8080/",
          "height": 85
        }
      },
      "source": [
        "from sklearn import svm\n",
        "svmmodel=svm.SVC(kernel='rbf')\n",
        "svmmodel.fit(X_train,y_train)\n"
      ],
      "execution_count": 0,
      "outputs": [
        {
          "output_type": "execute_result",
          "data": {
            "text/plain": [
              "SVC(C=1.0, break_ties=False, cache_size=200, class_weight=None, coef0=0.0,\n",
              "    decision_function_shape='ovr', degree=3, gamma='scale', kernel='rbf',\n",
              "    max_iter=-1, probability=False, random_state=None, shrinking=True,\n",
              "    tol=0.001, verbose=False)"
            ]
          },
          "metadata": {
            "tags": []
          },
          "execution_count": 43
        }
      ]
    },
    {
      "cell_type": "code",
      "metadata": {
        "id": "0uh7SIsrwxoI",
        "colab_type": "code",
        "outputId": "7605fe37-9e5d-416f-af3b-1181c3272ddf",
        "colab": {
          "base_uri": "https://localhost:8080/",
          "height": 34
        }
      },
      "source": [
        "y_pred=svmmodel.predict(X_test)\n",
        "y_pred\n"
      ],
      "execution_count": 0,
      "outputs": [
        {
          "output_type": "execute_result",
          "data": {
            "text/plain": [
              "array([0, 0, 0, 1, 0, 0, 0, 1, 1, 0], dtype=uint8)"
            ]
          },
          "metadata": {
            "tags": []
          },
          "execution_count": 44
        }
      ]
    },
    {
      "cell_type": "code",
      "metadata": {
        "id": "rlyyxCeVw2bt",
        "colab_type": "code",
        "outputId": "1b8c0915-f0fd-499f-d65e-dcc94bc125af",
        "colab": {
          "base_uri": "https://localhost:8080/",
          "height": 34
        }
      },
      "source": [
        "metrics.accuracy_score(y_test,y_pred)"
      ],
      "execution_count": 0,
      "outputs": [
        {
          "output_type": "execute_result",
          "data": {
            "text/plain": [
              "0.4"
            ]
          },
          "metadata": {
            "tags": []
          },
          "execution_count": 45
        }
      ]
    }
  ]
}