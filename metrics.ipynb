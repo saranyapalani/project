{
  "nbformat": 4,
  "nbformat_minor": 0,
  "metadata": {
    "colab": {
      "name": "Untitled1.ipynb",
      "provenance": [],
      "authorship_tag": "ABX9TyPjK2dV7ePfcqr0Q+AmGyeZ",
      "include_colab_link": true
    },
    "kernelspec": {
      "name": "python3",
      "display_name": "Python 3"
    }
  },
  "cells": [
    {
      "cell_type": "markdown",
      "metadata": {
        "id": "view-in-github",
        "colab_type": "text"
      },
      "source": [
        "<a href=\"https://colab.research.google.com/github/saranyapalani/sample/blob/master/metrics.ipynb\" target=\"_parent\"><img src=\"https://colab.research.google.com/assets/colab-badge.svg\" alt=\"Open In Colab\"/></a>"
      ]
    },
    {
      "cell_type": "code",
      "metadata": {
        "id": "vQFe7Ihc6wKD",
        "colab_type": "code",
        "colab": {
          "base_uri": "https://localhost:8080/",
          "height": 122
        },
        "outputId": "4c7ededc-5344-40a5-d58e-e59172b0272e"
      },
      "source": [
        "from google.colab import drive\n",
        "drive.mount('/content/drive')\n"
      ],
      "execution_count": 1,
      "outputs": [
        {
          "output_type": "stream",
          "text": [
            "Go to this URL in a browser: https://accounts.google.com/o/oauth2/auth?client_id=947318989803-6bn6qk8qdgf4n4g3pfee6491hc0brc4i.apps.googleusercontent.com&redirect_uri=urn%3aietf%3awg%3aoauth%3a2.0%3aoob&response_type=code&scope=email%20https%3a%2f%2fwww.googleapis.com%2fauth%2fdocs.test%20https%3a%2f%2fwww.googleapis.com%2fauth%2fdrive%20https%3a%2f%2fwww.googleapis.com%2fauth%2fdrive.photos.readonly%20https%3a%2f%2fwww.googleapis.com%2fauth%2fpeopleapi.readonly\n",
            "\n",
            "Enter your authorization code:\n",
            "··········\n",
            "Mounted at /content/drive\n"
          ],
          "name": "stdout"
        }
      ]
    },
    {
      "cell_type": "code",
      "metadata": {
        "id": "nSoHphwA7NeZ",
        "colab_type": "code",
        "colab": {
          "base_uri": "https://localhost:8080/",
          "height": 71
        },
        "outputId": "9055f391-38b4-4306-da3e-2066eeb2d000"
      },
      "source": [
        "import pandas as pd \n",
        "import numpy as np \n",
        "import matplotlib.pyplot as plt\n",
        "import random\n",
        "import seaborn as sns\n",
        "from fbprophet import Prophet\n"
      ],
      "execution_count": 2,
      "outputs": [
        {
          "output_type": "stream",
          "text": [
            "/usr/local/lib/python3.6/dist-packages/statsmodels/tools/_testing.py:19: FutureWarning: pandas.util.testing is deprecated. Use the functions in the public API at pandas.testing instead.\n",
            "  import pandas.util.testing as tm\n"
          ],
          "name": "stderr"
        }
      ]
    },
    {
      "cell_type": "code",
      "metadata": {
        "id": "DnUhmDyY7W1a",
        "colab_type": "code",
        "colab": {
          "base_uri": "https://localhost:8080/",
          "height": 496
        },
        "outputId": "22c99f52-f2db-4d69-b05d-c0ca69471415"
      },
      "source": [
        "data = pd.read_csv('/content/drive/My Drive/lakh.csv',error_bad_lines=False)\n",
        "data.head()\n"
      ],
      "execution_count": 3,
      "outputs": [
        {
          "output_type": "execute_result",
          "data": {
            "text/html": [
              "<div>\n",
              "<style scoped>\n",
              "    .dataframe tbody tr th:only-of-type {\n",
              "        vertical-align: middle;\n",
              "    }\n",
              "\n",
              "    .dataframe tbody tr th {\n",
              "        vertical-align: top;\n",
              "    }\n",
              "\n",
              "    .dataframe thead th {\n",
              "        text-align: right;\n",
              "    }\n",
              "</style>\n",
              "<table border=\"1\" class=\"dataframe\">\n",
              "  <thead>\n",
              "    <tr style=\"text-align: right;\">\n",
              "      <th></th>\n",
              "      <th>ID</th>\n",
              "      <th>Case Number</th>\n",
              "      <th>Date</th>\n",
              "      <th>Primary Type</th>\n",
              "      <th>Location Description</th>\n",
              "      <th>Arrest</th>\n",
              "      <th>District</th>\n",
              "      <th>Ward</th>\n",
              "      <th>Community Area</th>\n",
              "      <th>X Coordinate</th>\n",
              "      <th>Y Coordinate</th>\n",
              "      <th>Year</th>\n",
              "      <th>Latitude</th>\n",
              "      <th>Longitude</th>\n",
              "      <th>Location</th>\n",
              "    </tr>\n",
              "  </thead>\n",
              "  <tbody>\n",
              "    <tr>\n",
              "      <th>0</th>\n",
              "      <td>10508693</td>\n",
              "      <td>HZ250496</td>\n",
              "      <td>05-03-2016 23:40</td>\n",
              "      <td>BATTERY</td>\n",
              "      <td>APARTMENT</td>\n",
              "      <td>True</td>\n",
              "      <td>10.0</td>\n",
              "      <td>24.0</td>\n",
              "      <td>29.0</td>\n",
              "      <td>1154907.0</td>\n",
              "      <td>1893681.0</td>\n",
              "      <td>2016</td>\n",
              "      <td>41.864073</td>\n",
              "      <td>-87.706819</td>\n",
              "      <td>(41.864073157, -87.706818608)</td>\n",
              "    </tr>\n",
              "    <tr>\n",
              "      <th>1</th>\n",
              "      <td>10508695</td>\n",
              "      <td>HZ250409</td>\n",
              "      <td>05-03-2016 21:40</td>\n",
              "      <td>BATTERY</td>\n",
              "      <td>RESIDENCE</td>\n",
              "      <td>False</td>\n",
              "      <td>3.0</td>\n",
              "      <td>20.0</td>\n",
              "      <td>42.0</td>\n",
              "      <td>1183066.0</td>\n",
              "      <td>1864330.0</td>\n",
              "      <td>2016</td>\n",
              "      <td>41.782922</td>\n",
              "      <td>-87.604363</td>\n",
              "      <td>(41.782921527, -87.60436317)</td>\n",
              "    </tr>\n",
              "    <tr>\n",
              "      <th>2</th>\n",
              "      <td>10508697</td>\n",
              "      <td>HZ250503</td>\n",
              "      <td>05-03-2016 23:31</td>\n",
              "      <td>PUBLIC PEACE VIOLATION</td>\n",
              "      <td>STREET</td>\n",
              "      <td>False</td>\n",
              "      <td>15.0</td>\n",
              "      <td>37.0</td>\n",
              "      <td>25.0</td>\n",
              "      <td>1140789.0</td>\n",
              "      <td>1904819.0</td>\n",
              "      <td>2016</td>\n",
              "      <td>41.894908</td>\n",
              "      <td>-87.758372</td>\n",
              "      <td>(41.894908283, -87.758371958)</td>\n",
              "    </tr>\n",
              "    <tr>\n",
              "      <th>3</th>\n",
              "      <td>10508698</td>\n",
              "      <td>HZ250424</td>\n",
              "      <td>05-03-2016 22:10</td>\n",
              "      <td>BATTERY</td>\n",
              "      <td>SIDEWALK</td>\n",
              "      <td>False</td>\n",
              "      <td>15.0</td>\n",
              "      <td>28.0</td>\n",
              "      <td>25.0</td>\n",
              "      <td>1143223.0</td>\n",
              "      <td>1901475.0</td>\n",
              "      <td>2016</td>\n",
              "      <td>41.885687</td>\n",
              "      <td>-87.749516</td>\n",
              "      <td>(41.885686845, -87.749515983)</td>\n",
              "    </tr>\n",
              "    <tr>\n",
              "      <th>4</th>\n",
              "      <td>10508699</td>\n",
              "      <td>HZ250455</td>\n",
              "      <td>05-03-2016 22:00</td>\n",
              "      <td>JEWEL THEFT MURDER</td>\n",
              "      <td>RESIDENCE</td>\n",
              "      <td>False</td>\n",
              "      <td>15.0</td>\n",
              "      <td>28.0</td>\n",
              "      <td>25.0</td>\n",
              "      <td>1139890.0</td>\n",
              "      <td>1901675.0</td>\n",
              "      <td>2016</td>\n",
              "      <td>41.886297</td>\n",
              "      <td>-87.761751</td>\n",
              "      <td>(41.886297242, -87.761750709)</td>\n",
              "    </tr>\n",
              "  </tbody>\n",
              "</table>\n",
              "</div>"
            ],
            "text/plain": [
              "         ID Case Number  ...  Longitude                       Location\n",
              "0  10508693    HZ250496  ... -87.706819  (41.864073157, -87.706818608)\n",
              "1  10508695    HZ250409  ... -87.604363   (41.782921527, -87.60436317)\n",
              "2  10508697    HZ250503  ... -87.758372  (41.894908283, -87.758371958)\n",
              "3  10508698    HZ250424  ... -87.749516  (41.885686845, -87.749515983)\n",
              "4  10508699    HZ250455  ... -87.761751  (41.886297242, -87.761750709)\n",
              "\n",
              "[5 rows x 15 columns]"
            ]
          },
          "metadata": {
            "tags": []
          },
          "execution_count": 3
        }
      ]
    },
    {
      "cell_type": "code",
      "metadata": {
        "id": "TuCJk2E57eze",
        "colab_type": "code",
        "colab": {
          "base_uri": "https://localhost:8080/",
          "height": 204
        },
        "outputId": "01882663-69f7-4c4a-cc14-9eadff015558"
      },
      "source": [
        "data.drop(['Case Number','X Coordinate', 'Y Coordinate','Year','Ward','Community Area', 'Location', \n",
        "                 'District', 'Latitude' , 'Longitude'], inplace=True, axis=1)\n",
        "data.head()\n"
      ],
      "execution_count": 5,
      "outputs": [
        {
          "output_type": "execute_result",
          "data": {
            "text/html": [
              "<div>\n",
              "<style scoped>\n",
              "    .dataframe tbody tr th:only-of-type {\n",
              "        vertical-align: middle;\n",
              "    }\n",
              "\n",
              "    .dataframe tbody tr th {\n",
              "        vertical-align: top;\n",
              "    }\n",
              "\n",
              "    .dataframe thead th {\n",
              "        text-align: right;\n",
              "    }\n",
              "</style>\n",
              "<table border=\"1\" class=\"dataframe\">\n",
              "  <thead>\n",
              "    <tr style=\"text-align: right;\">\n",
              "      <th></th>\n",
              "      <th>ID</th>\n",
              "      <th>Date</th>\n",
              "      <th>Primary Type</th>\n",
              "      <th>Location Description</th>\n",
              "      <th>Arrest</th>\n",
              "    </tr>\n",
              "  </thead>\n",
              "  <tbody>\n",
              "    <tr>\n",
              "      <th>0</th>\n",
              "      <td>10508693</td>\n",
              "      <td>05-03-2016 23:40</td>\n",
              "      <td>BATTERY</td>\n",
              "      <td>APARTMENT</td>\n",
              "      <td>True</td>\n",
              "    </tr>\n",
              "    <tr>\n",
              "      <th>1</th>\n",
              "      <td>10508695</td>\n",
              "      <td>05-03-2016 21:40</td>\n",
              "      <td>BATTERY</td>\n",
              "      <td>RESIDENCE</td>\n",
              "      <td>False</td>\n",
              "    </tr>\n",
              "    <tr>\n",
              "      <th>2</th>\n",
              "      <td>10508697</td>\n",
              "      <td>05-03-2016 23:31</td>\n",
              "      <td>PUBLIC PEACE VIOLATION</td>\n",
              "      <td>STREET</td>\n",
              "      <td>False</td>\n",
              "    </tr>\n",
              "    <tr>\n",
              "      <th>3</th>\n",
              "      <td>10508698</td>\n",
              "      <td>05-03-2016 22:10</td>\n",
              "      <td>BATTERY</td>\n",
              "      <td>SIDEWALK</td>\n",
              "      <td>False</td>\n",
              "    </tr>\n",
              "    <tr>\n",
              "      <th>4</th>\n",
              "      <td>10508699</td>\n",
              "      <td>05-03-2016 22:00</td>\n",
              "      <td>JEWEL THEFT MURDER</td>\n",
              "      <td>RESIDENCE</td>\n",
              "      <td>False</td>\n",
              "    </tr>\n",
              "  </tbody>\n",
              "</table>\n",
              "</div>"
            ],
            "text/plain": [
              "         ID              Date  ... Location Description Arrest\n",
              "0  10508693  05-03-2016 23:40  ...            APARTMENT   True\n",
              "1  10508695  05-03-2016 21:40  ...            RESIDENCE  False\n",
              "2  10508697  05-03-2016 23:31  ...               STREET  False\n",
              "3  10508698  05-03-2016 22:10  ...             SIDEWALK  False\n",
              "4  10508699  05-03-2016 22:00  ...            RESIDENCE  False\n",
              "\n",
              "[5 rows x 5 columns]"
            ]
          },
          "metadata": {
            "tags": []
          },
          "execution_count": 5
        }
      ]
    },
    {
      "cell_type": "code",
      "metadata": {
        "id": "s5HlC6pq7jbV",
        "colab_type": "code",
        "colab": {
          "base_uri": "https://localhost:8080/",
          "height": 204
        },
        "outputId": "107acb30-adfa-4499-b1a7-f8a68ebb276f"
      },
      "source": [
        "data['Date'] = pd.to_datetime(data['Date'].astype(str), errors='coerce')\n",
        "data['Date'] = pd.to_datetime(data['Date'], format = '%d/%m/%Y %H:%M:%S')\n",
        "data.head()"
      ],
      "execution_count": 6,
      "outputs": [
        {
          "output_type": "execute_result",
          "data": {
            "text/html": [
              "<div>\n",
              "<style scoped>\n",
              "    .dataframe tbody tr th:only-of-type {\n",
              "        vertical-align: middle;\n",
              "    }\n",
              "\n",
              "    .dataframe tbody tr th {\n",
              "        vertical-align: top;\n",
              "    }\n",
              "\n",
              "    .dataframe thead th {\n",
              "        text-align: right;\n",
              "    }\n",
              "</style>\n",
              "<table border=\"1\" class=\"dataframe\">\n",
              "  <thead>\n",
              "    <tr style=\"text-align: right;\">\n",
              "      <th></th>\n",
              "      <th>ID</th>\n",
              "      <th>Date</th>\n",
              "      <th>Primary Type</th>\n",
              "      <th>Location Description</th>\n",
              "      <th>Arrest</th>\n",
              "    </tr>\n",
              "  </thead>\n",
              "  <tbody>\n",
              "    <tr>\n",
              "      <th>0</th>\n",
              "      <td>10508693</td>\n",
              "      <td>2016-05-03 23:40:00</td>\n",
              "      <td>BATTERY</td>\n",
              "      <td>APARTMENT</td>\n",
              "      <td>True</td>\n",
              "    </tr>\n",
              "    <tr>\n",
              "      <th>1</th>\n",
              "      <td>10508695</td>\n",
              "      <td>2016-05-03 21:40:00</td>\n",
              "      <td>BATTERY</td>\n",
              "      <td>RESIDENCE</td>\n",
              "      <td>False</td>\n",
              "    </tr>\n",
              "    <tr>\n",
              "      <th>2</th>\n",
              "      <td>10508697</td>\n",
              "      <td>2016-05-03 23:31:00</td>\n",
              "      <td>PUBLIC PEACE VIOLATION</td>\n",
              "      <td>STREET</td>\n",
              "      <td>False</td>\n",
              "    </tr>\n",
              "    <tr>\n",
              "      <th>3</th>\n",
              "      <td>10508698</td>\n",
              "      <td>2016-05-03 22:10:00</td>\n",
              "      <td>BATTERY</td>\n",
              "      <td>SIDEWALK</td>\n",
              "      <td>False</td>\n",
              "    </tr>\n",
              "    <tr>\n",
              "      <th>4</th>\n",
              "      <td>10508699</td>\n",
              "      <td>2016-05-03 22:00:00</td>\n",
              "      <td>JEWEL THEFT MURDER</td>\n",
              "      <td>RESIDENCE</td>\n",
              "      <td>False</td>\n",
              "    </tr>\n",
              "  </tbody>\n",
              "</table>\n",
              "</div>"
            ],
            "text/plain": [
              "         ID                Date  ... Location Description Arrest\n",
              "0  10508693 2016-05-03 23:40:00  ...            APARTMENT   True\n",
              "1  10508695 2016-05-03 21:40:00  ...            RESIDENCE  False\n",
              "2  10508697 2016-05-03 23:31:00  ...               STREET  False\n",
              "3  10508698 2016-05-03 22:10:00  ...             SIDEWALK  False\n",
              "4  10508699 2016-05-03 22:00:00  ...            RESIDENCE  False\n",
              "\n",
              "[5 rows x 5 columns]"
            ]
          },
          "metadata": {
            "tags": []
          },
          "execution_count": 6
        }
      ]
    },
    {
      "cell_type": "code",
      "metadata": {
        "id": "NuqYrllb7x-y",
        "colab_type": "code",
        "colab": {
          "base_uri": "https://localhost:8080/",
          "height": 235
        },
        "outputId": "87263894-edd9-4b4e-e652-8d28ec5efd90"
      },
      "source": [
        "data.index = pd.DatetimeIndex(data.Date)\n",
        "data.head()\n"
      ],
      "execution_count": 7,
      "outputs": [
        {
          "output_type": "execute_result",
          "data": {
            "text/html": [
              "<div>\n",
              "<style scoped>\n",
              "    .dataframe tbody tr th:only-of-type {\n",
              "        vertical-align: middle;\n",
              "    }\n",
              "\n",
              "    .dataframe tbody tr th {\n",
              "        vertical-align: top;\n",
              "    }\n",
              "\n",
              "    .dataframe thead th {\n",
              "        text-align: right;\n",
              "    }\n",
              "</style>\n",
              "<table border=\"1\" class=\"dataframe\">\n",
              "  <thead>\n",
              "    <tr style=\"text-align: right;\">\n",
              "      <th></th>\n",
              "      <th>ID</th>\n",
              "      <th>Date</th>\n",
              "      <th>Primary Type</th>\n",
              "      <th>Location Description</th>\n",
              "      <th>Arrest</th>\n",
              "    </tr>\n",
              "    <tr>\n",
              "      <th>Date</th>\n",
              "      <th></th>\n",
              "      <th></th>\n",
              "      <th></th>\n",
              "      <th></th>\n",
              "      <th></th>\n",
              "    </tr>\n",
              "  </thead>\n",
              "  <tbody>\n",
              "    <tr>\n",
              "      <th>2016-05-03 23:40:00</th>\n",
              "      <td>10508693</td>\n",
              "      <td>2016-05-03 23:40:00</td>\n",
              "      <td>BATTERY</td>\n",
              "      <td>APARTMENT</td>\n",
              "      <td>True</td>\n",
              "    </tr>\n",
              "    <tr>\n",
              "      <th>2016-05-03 21:40:00</th>\n",
              "      <td>10508695</td>\n",
              "      <td>2016-05-03 21:40:00</td>\n",
              "      <td>BATTERY</td>\n",
              "      <td>RESIDENCE</td>\n",
              "      <td>False</td>\n",
              "    </tr>\n",
              "    <tr>\n",
              "      <th>2016-05-03 23:31:00</th>\n",
              "      <td>10508697</td>\n",
              "      <td>2016-05-03 23:31:00</td>\n",
              "      <td>PUBLIC PEACE VIOLATION</td>\n",
              "      <td>STREET</td>\n",
              "      <td>False</td>\n",
              "    </tr>\n",
              "    <tr>\n",
              "      <th>2016-05-03 22:10:00</th>\n",
              "      <td>10508698</td>\n",
              "      <td>2016-05-03 22:10:00</td>\n",
              "      <td>BATTERY</td>\n",
              "      <td>SIDEWALK</td>\n",
              "      <td>False</td>\n",
              "    </tr>\n",
              "    <tr>\n",
              "      <th>2016-05-03 22:00:00</th>\n",
              "      <td>10508699</td>\n",
              "      <td>2016-05-03 22:00:00</td>\n",
              "      <td>JEWEL THEFT MURDER</td>\n",
              "      <td>RESIDENCE</td>\n",
              "      <td>False</td>\n",
              "    </tr>\n",
              "  </tbody>\n",
              "</table>\n",
              "</div>"
            ],
            "text/plain": [
              "                           ID                Date  ... Location Description Arrest\n",
              "Date                                               ...                            \n",
              "2016-05-03 23:40:00  10508693 2016-05-03 23:40:00  ...            APARTMENT   True\n",
              "2016-05-03 21:40:00  10508695 2016-05-03 21:40:00  ...            RESIDENCE  False\n",
              "2016-05-03 23:31:00  10508697 2016-05-03 23:31:00  ...               STREET  False\n",
              "2016-05-03 22:10:00  10508698 2016-05-03 22:10:00  ...             SIDEWALK  False\n",
              "2016-05-03 22:00:00  10508699 2016-05-03 22:00:00  ...            RESIDENCE  False\n",
              "\n",
              "[5 rows x 5 columns]"
            ]
          },
          "metadata": {
            "tags": []
          },
          "execution_count": 7
        }
      ]
    },
    {
      "cell_type": "code",
      "metadata": {
        "id": "ebt5kDcy7zRL",
        "colab_type": "code",
        "colab": {}
      },
      "source": [
        "Groups = data.groupby(data['Primary Type'])\n",
        "Groups = dict(list(Groups))\n",
        "theft_data = [Groups['JEWEL THEFT MURDER']]\n",
        "theft_data = pd.concat(theft_data, axis = 0)\n",
        "del Groups\n",
        "del data"
      ],
      "execution_count": 0,
      "outputs": []
    },
    {
      "cell_type": "code",
      "metadata": {
        "id": "stQ1kiPT76R9",
        "colab_type": "code",
        "colab": {
          "base_uri": "https://localhost:8080/",
          "height": 204
        },
        "outputId": "b7afd40a-b102-4136-99b8-99d90d1f04fe"
      },
      "source": [
        "theft_prophet = theft_data.resample('M').size().reset_index()\n",
        "theft_prophet.columns = ['Date', 'Crime Count']\n",
        "theft_prophet.head()"
      ],
      "execution_count": 10,
      "outputs": [
        {
          "output_type": "execute_result",
          "data": {
            "text/html": [
              "<div>\n",
              "<style scoped>\n",
              "    .dataframe tbody tr th:only-of-type {\n",
              "        vertical-align: middle;\n",
              "    }\n",
              "\n",
              "    .dataframe tbody tr th {\n",
              "        vertical-align: top;\n",
              "    }\n",
              "\n",
              "    .dataframe thead th {\n",
              "        text-align: right;\n",
              "    }\n",
              "</style>\n",
              "<table border=\"1\" class=\"dataframe\">\n",
              "  <thead>\n",
              "    <tr style=\"text-align: right;\">\n",
              "      <th></th>\n",
              "      <th>Date</th>\n",
              "      <th>Crime Count</th>\n",
              "    </tr>\n",
              "  </thead>\n",
              "  <tbody>\n",
              "    <tr>\n",
              "      <th>0</th>\n",
              "      <td>2012-01-31</td>\n",
              "      <td>5709</td>\n",
              "    </tr>\n",
              "    <tr>\n",
              "      <th>1</th>\n",
              "      <td>2012-02-29</td>\n",
              "      <td>4886</td>\n",
              "    </tr>\n",
              "    <tr>\n",
              "      <th>2</th>\n",
              "      <td>2012-03-31</td>\n",
              "      <td>5934</td>\n",
              "    </tr>\n",
              "    <tr>\n",
              "      <th>3</th>\n",
              "      <td>2012-04-30</td>\n",
              "      <td>6189</td>\n",
              "    </tr>\n",
              "    <tr>\n",
              "      <th>4</th>\n",
              "      <td>2012-05-31</td>\n",
              "      <td>6463</td>\n",
              "    </tr>\n",
              "  </tbody>\n",
              "</table>\n",
              "</div>"
            ],
            "text/plain": [
              "        Date  Crime Count\n",
              "0 2012-01-31         5709\n",
              "1 2012-02-29         4886\n",
              "2 2012-03-31         5934\n",
              "3 2012-04-30         6189\n",
              "4 2012-05-31         6463"
            ]
          },
          "metadata": {
            "tags": []
          },
          "execution_count": 10
        }
      ]
    },
    {
      "cell_type": "code",
      "metadata": {
        "id": "57JRRsKL8Lnu",
        "colab_type": "code",
        "colab": {
          "base_uri": "https://localhost:8080/",
          "height": 34
        },
        "outputId": "9c4bd564-b221-43e1-8af4-3ce8c721c62c"
      },
      "source": [
        "theft_prophet_df = pd.DataFrame(theft_prophet)\n",
        "theft_prophet_df.columns"
      ],
      "execution_count": 11,
      "outputs": [
        {
          "output_type": "execute_result",
          "data": {
            "text/plain": [
              "Index(['Date', 'Crime Count'], dtype='object')"
            ]
          },
          "metadata": {
            "tags": []
          },
          "execution_count": 11
        }
      ]
    },
    {
      "cell_type": "code",
      "metadata": {
        "id": "hzVqSC918Ncd",
        "colab_type": "code",
        "colab": {
          "base_uri": "https://localhost:8080/",
          "height": 204
        },
        "outputId": "317d3029-e655-49e3-9e78-31935770d5ce"
      },
      "source": [
        "theft_prophet_data = theft_prophet_df.rename(columns={'Date':'ds', 'Crime Count':'y'})\n",
        "theft_prophet_data.head()\n"
      ],
      "execution_count": 12,
      "outputs": [
        {
          "output_type": "execute_result",
          "data": {
            "text/html": [
              "<div>\n",
              "<style scoped>\n",
              "    .dataframe tbody tr th:only-of-type {\n",
              "        vertical-align: middle;\n",
              "    }\n",
              "\n",
              "    .dataframe tbody tr th {\n",
              "        vertical-align: top;\n",
              "    }\n",
              "\n",
              "    .dataframe thead th {\n",
              "        text-align: right;\n",
              "    }\n",
              "</style>\n",
              "<table border=\"1\" class=\"dataframe\">\n",
              "  <thead>\n",
              "    <tr style=\"text-align: right;\">\n",
              "      <th></th>\n",
              "      <th>ds</th>\n",
              "      <th>y</th>\n",
              "    </tr>\n",
              "  </thead>\n",
              "  <tbody>\n",
              "    <tr>\n",
              "      <th>0</th>\n",
              "      <td>2012-01-31</td>\n",
              "      <td>5709</td>\n",
              "    </tr>\n",
              "    <tr>\n",
              "      <th>1</th>\n",
              "      <td>2012-02-29</td>\n",
              "      <td>4886</td>\n",
              "    </tr>\n",
              "    <tr>\n",
              "      <th>2</th>\n",
              "      <td>2012-03-31</td>\n",
              "      <td>5934</td>\n",
              "    </tr>\n",
              "    <tr>\n",
              "      <th>3</th>\n",
              "      <td>2012-04-30</td>\n",
              "      <td>6189</td>\n",
              "    </tr>\n",
              "    <tr>\n",
              "      <th>4</th>\n",
              "      <td>2012-05-31</td>\n",
              "      <td>6463</td>\n",
              "    </tr>\n",
              "  </tbody>\n",
              "</table>\n",
              "</div>"
            ],
            "text/plain": [
              "          ds     y\n",
              "0 2012-01-31  5709\n",
              "1 2012-02-29  4886\n",
              "2 2012-03-31  5934\n",
              "3 2012-04-30  6189\n",
              "4 2012-05-31  6463"
            ]
          },
          "metadata": {
            "tags": []
          },
          "execution_count": 12
        }
      ]
    },
    {
      "cell_type": "code",
      "metadata": {
        "id": "uUrB7xJh8RXq",
        "colab_type": "code",
        "colab": {}
      },
      "source": [
        "from fbprophet import Prophet\n",
        "m = Prophet()\n"
      ],
      "execution_count": 0,
      "outputs": []
    },
    {
      "cell_type": "code",
      "metadata": {
        "id": "hqlwsKjV8ZvT",
        "colab_type": "code",
        "colab": {
          "base_uri": "https://localhost:8080/",
          "height": 85
        },
        "outputId": "fcdf2f25-3c45-4e9e-c7b4-353401ebc325"
      },
      "source": [
        "m.fit(theft_prophet_data)"
      ],
      "execution_count": 14,
      "outputs": [
        {
          "output_type": "stream",
          "text": [
            "INFO:numexpr.utils:NumExpr defaulting to 2 threads.\n",
            "INFO:fbprophet:Disabling weekly seasonality. Run prophet with weekly_seasonality=True to override this.\n",
            "INFO:fbprophet:Disabling daily seasonality. Run prophet with daily_seasonality=True to override this.\n"
          ],
          "name": "stderr"
        },
        {
          "output_type": "execute_result",
          "data": {
            "text/plain": [
              "<fbprophet.forecaster.Prophet at 0x7f2beb23b2e8>"
            ]
          },
          "metadata": {
            "tags": []
          },
          "execution_count": 14
        }
      ]
    },
    {
      "cell_type": "code",
      "metadata": {
        "id": "fjKcweQS8a6p",
        "colab_type": "code",
        "colab": {
          "base_uri": "https://localhost:8080/",
          "height": 419
        },
        "outputId": "3ca34ce8-a227-453b-9738-01f33604f9d8"
      },
      "source": [
        "future = m.make_future_dataframe(periods=730)\n",
        "future"
      ],
      "execution_count": 15,
      "outputs": [
        {
          "output_type": "execute_result",
          "data": {
            "text/html": [
              "<div>\n",
              "<style scoped>\n",
              "    .dataframe tbody tr th:only-of-type {\n",
              "        vertical-align: middle;\n",
              "    }\n",
              "\n",
              "    .dataframe tbody tr th {\n",
              "        vertical-align: top;\n",
              "    }\n",
              "\n",
              "    .dataframe thead th {\n",
              "        text-align: right;\n",
              "    }\n",
              "</style>\n",
              "<table border=\"1\" class=\"dataframe\">\n",
              "  <thead>\n",
              "    <tr style=\"text-align: right;\">\n",
              "      <th></th>\n",
              "      <th>ds</th>\n",
              "    </tr>\n",
              "  </thead>\n",
              "  <tbody>\n",
              "    <tr>\n",
              "      <th>0</th>\n",
              "      <td>2012-01-31</td>\n",
              "    </tr>\n",
              "    <tr>\n",
              "      <th>1</th>\n",
              "      <td>2012-02-29</td>\n",
              "    </tr>\n",
              "    <tr>\n",
              "      <th>2</th>\n",
              "      <td>2012-03-31</td>\n",
              "    </tr>\n",
              "    <tr>\n",
              "      <th>3</th>\n",
              "      <td>2012-04-30</td>\n",
              "    </tr>\n",
              "    <tr>\n",
              "      <th>4</th>\n",
              "      <td>2012-05-31</td>\n",
              "    </tr>\n",
              "    <tr>\n",
              "      <th>...</th>\n",
              "      <td>...</td>\n",
              "    </tr>\n",
              "    <tr>\n",
              "      <th>778</th>\n",
              "      <td>2018-05-27</td>\n",
              "    </tr>\n",
              "    <tr>\n",
              "      <th>779</th>\n",
              "      <td>2018-05-28</td>\n",
              "    </tr>\n",
              "    <tr>\n",
              "      <th>780</th>\n",
              "      <td>2018-05-29</td>\n",
              "    </tr>\n",
              "    <tr>\n",
              "      <th>781</th>\n",
              "      <td>2018-05-30</td>\n",
              "    </tr>\n",
              "    <tr>\n",
              "      <th>782</th>\n",
              "      <td>2018-05-31</td>\n",
              "    </tr>\n",
              "  </tbody>\n",
              "</table>\n",
              "<p>783 rows × 1 columns</p>\n",
              "</div>"
            ],
            "text/plain": [
              "            ds\n",
              "0   2012-01-31\n",
              "1   2012-02-29\n",
              "2   2012-03-31\n",
              "3   2012-04-30\n",
              "4   2012-05-31\n",
              "..         ...\n",
              "778 2018-05-27\n",
              "779 2018-05-28\n",
              "780 2018-05-29\n",
              "781 2018-05-30\n",
              "782 2018-05-31\n",
              "\n",
              "[783 rows x 1 columns]"
            ]
          },
          "metadata": {
            "tags": []
          },
          "execution_count": 15
        }
      ]
    },
    {
      "cell_type": "code",
      "metadata": {
        "id": "le4efM9d8dNs",
        "colab_type": "code",
        "colab": {}
      },
      "source": [
        "forecast = m.predict(future)"
      ],
      "execution_count": 0,
      "outputs": []
    },
    {
      "cell_type": "code",
      "metadata": {
        "id": "SZAB-Y-z8hiQ",
        "colab_type": "code",
        "colab": {
          "base_uri": "https://localhost:8080/",
          "height": 309
        },
        "outputId": "e70880c0-8202-4a94-df44-656202643fae"
      },
      "source": [
        "forecast.head()"
      ],
      "execution_count": 17,
      "outputs": [
        {
          "output_type": "execute_result",
          "data": {
            "text/html": [
              "<div>\n",
              "<style scoped>\n",
              "    .dataframe tbody tr th:only-of-type {\n",
              "        vertical-align: middle;\n",
              "    }\n",
              "\n",
              "    .dataframe tbody tr th {\n",
              "        vertical-align: top;\n",
              "    }\n",
              "\n",
              "    .dataframe thead th {\n",
              "        text-align: right;\n",
              "    }\n",
              "</style>\n",
              "<table border=\"1\" class=\"dataframe\">\n",
              "  <thead>\n",
              "    <tr style=\"text-align: right;\">\n",
              "      <th></th>\n",
              "      <th>ds</th>\n",
              "      <th>trend</th>\n",
              "      <th>yhat_lower</th>\n",
              "      <th>yhat_upper</th>\n",
              "      <th>trend_lower</th>\n",
              "      <th>trend_upper</th>\n",
              "      <th>additive_terms</th>\n",
              "      <th>additive_terms_lower</th>\n",
              "      <th>additive_terms_upper</th>\n",
              "      <th>yearly</th>\n",
              "      <th>yearly_lower</th>\n",
              "      <th>yearly_upper</th>\n",
              "      <th>multiplicative_terms</th>\n",
              "      <th>multiplicative_terms_lower</th>\n",
              "      <th>multiplicative_terms_upper</th>\n",
              "      <th>yhat</th>\n",
              "    </tr>\n",
              "  </thead>\n",
              "  <tbody>\n",
              "    <tr>\n",
              "      <th>0</th>\n",
              "      <td>2012-01-31</td>\n",
              "      <td>7386.415296</td>\n",
              "      <td>5014.781838</td>\n",
              "      <td>8309.698767</td>\n",
              "      <td>7386.415296</td>\n",
              "      <td>7386.415296</td>\n",
              "      <td>-754.819134</td>\n",
              "      <td>-754.819134</td>\n",
              "      <td>-754.819134</td>\n",
              "      <td>-754.819134</td>\n",
              "      <td>-754.819134</td>\n",
              "      <td>-754.819134</td>\n",
              "      <td>0.0</td>\n",
              "      <td>0.0</td>\n",
              "      <td>0.0</td>\n",
              "      <td>6631.596162</td>\n",
              "    </tr>\n",
              "    <tr>\n",
              "      <th>1</th>\n",
              "      <td>2012-02-29</td>\n",
              "      <td>7260.293513</td>\n",
              "      <td>4308.796946</td>\n",
              "      <td>7705.223974</td>\n",
              "      <td>7260.293513</td>\n",
              "      <td>7260.293513</td>\n",
              "      <td>-1320.039621</td>\n",
              "      <td>-1320.039621</td>\n",
              "      <td>-1320.039621</td>\n",
              "      <td>-1320.039621</td>\n",
              "      <td>-1320.039621</td>\n",
              "      <td>-1320.039621</td>\n",
              "      <td>0.0</td>\n",
              "      <td>0.0</td>\n",
              "      <td>0.0</td>\n",
              "      <td>5940.253892</td>\n",
              "    </tr>\n",
              "    <tr>\n",
              "      <th>2</th>\n",
              "      <td>2012-03-31</td>\n",
              "      <td>7125.473675</td>\n",
              "      <td>4739.518637</td>\n",
              "      <td>7963.877772</td>\n",
              "      <td>7125.473675</td>\n",
              "      <td>7125.473675</td>\n",
              "      <td>-779.486420</td>\n",
              "      <td>-779.486420</td>\n",
              "      <td>-779.486420</td>\n",
              "      <td>-779.486420</td>\n",
              "      <td>-779.486420</td>\n",
              "      <td>-779.486420</td>\n",
              "      <td>0.0</td>\n",
              "      <td>0.0</td>\n",
              "      <td>0.0</td>\n",
              "      <td>6345.987255</td>\n",
              "    </tr>\n",
              "    <tr>\n",
              "      <th>3</th>\n",
              "      <td>2012-04-30</td>\n",
              "      <td>6995.002865</td>\n",
              "      <td>5181.040934</td>\n",
              "      <td>8508.713304</td>\n",
              "      <td>6995.002865</td>\n",
              "      <td>6995.002865</td>\n",
              "      <td>-193.221612</td>\n",
              "      <td>-193.221612</td>\n",
              "      <td>-193.221612</td>\n",
              "      <td>-193.221612</td>\n",
              "      <td>-193.221612</td>\n",
              "      <td>-193.221612</td>\n",
              "      <td>0.0</td>\n",
              "      <td>0.0</td>\n",
              "      <td>0.0</td>\n",
              "      <td>6801.781253</td>\n",
              "    </tr>\n",
              "    <tr>\n",
              "      <th>4</th>\n",
              "      <td>2012-05-31</td>\n",
              "      <td>6860.183028</td>\n",
              "      <td>6990.281028</td>\n",
              "      <td>10303.330825</td>\n",
              "      <td>6860.183028</td>\n",
              "      <td>6860.183028</td>\n",
              "      <td>1740.375370</td>\n",
              "      <td>1740.375370</td>\n",
              "      <td>1740.375370</td>\n",
              "      <td>1740.375370</td>\n",
              "      <td>1740.375370</td>\n",
              "      <td>1740.375370</td>\n",
              "      <td>0.0</td>\n",
              "      <td>0.0</td>\n",
              "      <td>0.0</td>\n",
              "      <td>8600.558398</td>\n",
              "    </tr>\n",
              "  </tbody>\n",
              "</table>\n",
              "</div>"
            ],
            "text/plain": [
              "          ds        trend  ...  multiplicative_terms_upper         yhat\n",
              "0 2012-01-31  7386.415296  ...                         0.0  6631.596162\n",
              "1 2012-02-29  7260.293513  ...                         0.0  5940.253892\n",
              "2 2012-03-31  7125.473675  ...                         0.0  6345.987255\n",
              "3 2012-04-30  6995.002865  ...                         0.0  6801.781253\n",
              "4 2012-05-31  6860.183028  ...                         0.0  8600.558398\n",
              "\n",
              "[5 rows x 16 columns]"
            ]
          },
          "metadata": {
            "tags": []
          },
          "execution_count": 17
        }
      ]
    },
    {
      "cell_type": "code",
      "metadata": {
        "id": "dunBLU7_8puH",
        "colab_type": "code",
        "colab": {
          "base_uri": "https://localhost:8080/",
          "height": 309
        },
        "outputId": "00418b06-a8c0-4a26-e95c-26274172d54f"
      },
      "source": [
        "forecast.tail()"
      ],
      "execution_count": 18,
      "outputs": [
        {
          "output_type": "execute_result",
          "data": {
            "text/html": [
              "<div>\n",
              "<style scoped>\n",
              "    .dataframe tbody tr th:only-of-type {\n",
              "        vertical-align: middle;\n",
              "    }\n",
              "\n",
              "    .dataframe tbody tr th {\n",
              "        vertical-align: top;\n",
              "    }\n",
              "\n",
              "    .dataframe thead th {\n",
              "        text-align: right;\n",
              "    }\n",
              "</style>\n",
              "<table border=\"1\" class=\"dataframe\">\n",
              "  <thead>\n",
              "    <tr style=\"text-align: right;\">\n",
              "      <th></th>\n",
              "      <th>ds</th>\n",
              "      <th>trend</th>\n",
              "      <th>yhat_lower</th>\n",
              "      <th>yhat_upper</th>\n",
              "      <th>trend_lower</th>\n",
              "      <th>trend_upper</th>\n",
              "      <th>additive_terms</th>\n",
              "      <th>additive_terms_lower</th>\n",
              "      <th>additive_terms_upper</th>\n",
              "      <th>yearly</th>\n",
              "      <th>yearly_lower</th>\n",
              "      <th>yearly_upper</th>\n",
              "      <th>multiplicative_terms</th>\n",
              "      <th>multiplicative_terms_lower</th>\n",
              "      <th>multiplicative_terms_upper</th>\n",
              "      <th>yhat</th>\n",
              "    </tr>\n",
              "  </thead>\n",
              "  <tbody>\n",
              "    <tr>\n",
              "      <th>778</th>\n",
              "      <td>2018-05-27</td>\n",
              "      <td>-2651.255707</td>\n",
              "      <td>-16619.466590</td>\n",
              "      <td>-13290.992482</td>\n",
              "      <td>-2651.263830</td>\n",
              "      <td>-2651.247188</td>\n",
              "      <td>-12366.734163</td>\n",
              "      <td>-12366.734163</td>\n",
              "      <td>-12366.734163</td>\n",
              "      <td>-12366.734163</td>\n",
              "      <td>-12366.734163</td>\n",
              "      <td>-12366.734163</td>\n",
              "      <td>0.0</td>\n",
              "      <td>0.0</td>\n",
              "      <td>0.0</td>\n",
              "      <td>-15017.989870</td>\n",
              "    </tr>\n",
              "    <tr>\n",
              "      <th>779</th>\n",
              "      <td>2018-05-28</td>\n",
              "      <td>-2655.604818</td>\n",
              "      <td>-13688.577090</td>\n",
              "      <td>-10451.393491</td>\n",
              "      <td>-2655.612958</td>\n",
              "      <td>-2655.596286</td>\n",
              "      <td>-9358.600055</td>\n",
              "      <td>-9358.600055</td>\n",
              "      <td>-9358.600055</td>\n",
              "      <td>-9358.600055</td>\n",
              "      <td>-9358.600055</td>\n",
              "      <td>-9358.600055</td>\n",
              "      <td>0.0</td>\n",
              "      <td>0.0</td>\n",
              "      <td>0.0</td>\n",
              "      <td>-12014.204874</td>\n",
              "    </tr>\n",
              "    <tr>\n",
              "      <th>780</th>\n",
              "      <td>2018-05-29</td>\n",
              "      <td>-2659.953930</td>\n",
              "      <td>-10702.969074</td>\n",
              "      <td>-7126.988769</td>\n",
              "      <td>-2659.962087</td>\n",
              "      <td>-2659.945380</td>\n",
              "      <td>-6225.491998</td>\n",
              "      <td>-6225.491998</td>\n",
              "      <td>-6225.491998</td>\n",
              "      <td>-6225.491998</td>\n",
              "      <td>-6225.491998</td>\n",
              "      <td>-6225.491998</td>\n",
              "      <td>0.0</td>\n",
              "      <td>0.0</td>\n",
              "      <td>0.0</td>\n",
              "      <td>-8885.445928</td>\n",
              "    </tr>\n",
              "    <tr>\n",
              "      <th>781</th>\n",
              "      <td>2018-05-30</td>\n",
              "      <td>-2664.303041</td>\n",
              "      <td>-7324.094709</td>\n",
              "      <td>-4123.744078</td>\n",
              "      <td>-2664.311215</td>\n",
              "      <td>-2664.294469</td>\n",
              "      <td>-3030.188343</td>\n",
              "      <td>-3030.188343</td>\n",
              "      <td>-3030.188343</td>\n",
              "      <td>-3030.188343</td>\n",
              "      <td>-3030.188343</td>\n",
              "      <td>-3030.188343</td>\n",
              "      <td>0.0</td>\n",
              "      <td>0.0</td>\n",
              "      <td>0.0</td>\n",
              "      <td>-5694.491384</td>\n",
              "    </tr>\n",
              "    <tr>\n",
              "      <th>782</th>\n",
              "      <td>2018-05-31</td>\n",
              "      <td>-2668.652152</td>\n",
              "      <td>-4160.094730</td>\n",
              "      <td>-869.560228</td>\n",
              "      <td>-2668.660344</td>\n",
              "      <td>-2668.643557</td>\n",
              "      <td>163.687098</td>\n",
              "      <td>163.687098</td>\n",
              "      <td>163.687098</td>\n",
              "      <td>163.687098</td>\n",
              "      <td>163.687098</td>\n",
              "      <td>163.687098</td>\n",
              "      <td>0.0</td>\n",
              "      <td>0.0</td>\n",
              "      <td>0.0</td>\n",
              "      <td>-2504.965054</td>\n",
              "    </tr>\n",
              "  </tbody>\n",
              "</table>\n",
              "</div>"
            ],
            "text/plain": [
              "            ds        trend  ...  multiplicative_terms_upper          yhat\n",
              "778 2018-05-27 -2651.255707  ...                         0.0 -15017.989870\n",
              "779 2018-05-28 -2655.604818  ...                         0.0 -12014.204874\n",
              "780 2018-05-29 -2659.953930  ...                         0.0  -8885.445928\n",
              "781 2018-05-30 -2664.303041  ...                         0.0  -5694.491384\n",
              "782 2018-05-31 -2668.652152  ...                         0.0  -2504.965054\n",
              "\n",
              "[5 rows x 16 columns]"
            ]
          },
          "metadata": {
            "tags": []
          },
          "execution_count": 18
        }
      ]
    },
    {
      "cell_type": "code",
      "metadata": {
        "id": "wYjpD_k78uad",
        "colab_type": "code",
        "colab": {
          "base_uri": "https://localhost:8080/",
          "height": 441
        },
        "outputId": "9b170fe1-f9de-4605-8a0c-36e199b943ed"
      },
      "source": [
        "m.plot(forecast);"
      ],
      "execution_count": 19,
      "outputs": [
        {
          "output_type": "display_data",
          "data": {
            "image/png": "[encoded data removed]",
            "text/plain": [
              "<Figure size 720x432 with 1 Axes>"
            ]
          },
          "metadata": {
            "tags": []
          }
        }
      ]
    },
    {
      "cell_type": "code",
      "metadata": {
        "id": "EA6DhT2l85Xe",
        "colab_type": "code",
        "colab": {
          "base_uri": "https://localhost:8080/",
          "height": 441
        },
        "outputId": "ce5c990f-ffd0-4a9e-82c0-caf4f46177ad"
      },
      "source": [
        "m.plot_components(forecast);"
      ],
      "execution_count": 20,
      "outputs": [
        {
          "output_type": "display_data",
          "data": {
            "image/png": "[encoded data removed]",
            "text/plain": [
              "<Figure size 648x432 with 2 Axes>"
            ]
          },
          "metadata": {
            "tags": []
          }
        }
      ]
    },
    {
      "cell_type": "code",
      "metadata": {
        "id": "fWd-YNqJ88te",
        "colab_type": "code",
        "colab": {}
      },
      "source": [
        "import matplotlib.pyplot as plt\n",
        "from sklearn.metrics import mean_squared_error, r2_score, mean_absolute_error\n"
      ],
      "execution_count": 0,
      "outputs": []
    },
    {
      "cell_type": "code",
      "metadata": {
        "id": "U9lDoQPY9Bm_",
        "colab_type": "code",
        "colab": {}
      },
      "source": [
        "metric_df = forecast.set_index('ds')[['yhat']].join(theft_prophet_data.set_index('ds').y).reset_index()"
      ],
      "execution_count": 0,
      "outputs": []
    },
    {
      "cell_type": "code",
      "metadata": {
        "id": "vColx-S29EBe",
        "colab_type": "code",
        "colab": {}
      },
      "source": [
        "metric_df.dropna(inplace=True)"
      ],
      "execution_count": 0,
      "outputs": []
    },
    {
      "cell_type": "code",
      "metadata": {
        "id": "XMCjgc3_9GVw",
        "colab_type": "code",
        "colab": {
          "base_uri": "https://localhost:8080/",
          "height": 204
        },
        "outputId": "7560b1a5-b2f7-4a31-c3e7-843382c19dc9"
      },
      "source": [
        "metric_df.head()"
      ],
      "execution_count": 25,
      "outputs": [
        {
          "output_type": "execute_result",
          "data": {
            "text/html": [
              "<div>\n",
              "<style scoped>\n",
              "    .dataframe tbody tr th:only-of-type {\n",
              "        vertical-align: middle;\n",
              "    }\n",
              "\n",
              "    .dataframe tbody tr th {\n",
              "        vertical-align: top;\n",
              "    }\n",
              "\n",
              "    .dataframe thead th {\n",
              "        text-align: right;\n",
              "    }\n",
              "</style>\n",
              "<table border=\"1\" class=\"dataframe\">\n",
              "  <thead>\n",
              "    <tr style=\"text-align: right;\">\n",
              "      <th></th>\n",
              "      <th>ds</th>\n",
              "      <th>yhat</th>\n",
              "      <th>y</th>\n",
              "    </tr>\n",
              "  </thead>\n",
              "  <tbody>\n",
              "    <tr>\n",
              "      <th>0</th>\n",
              "      <td>2012-01-31</td>\n",
              "      <td>6631.596162</td>\n",
              "      <td>5709.0</td>\n",
              "    </tr>\n",
              "    <tr>\n",
              "      <th>1</th>\n",
              "      <td>2012-02-29</td>\n",
              "      <td>5940.253892</td>\n",
              "      <td>4886.0</td>\n",
              "    </tr>\n",
              "    <tr>\n",
              "      <th>2</th>\n",
              "      <td>2012-03-31</td>\n",
              "      <td>6345.987255</td>\n",
              "      <td>5934.0</td>\n",
              "    </tr>\n",
              "    <tr>\n",
              "      <th>3</th>\n",
              "      <td>2012-04-30</td>\n",
              "      <td>6801.781253</td>\n",
              "      <td>6189.0</td>\n",
              "    </tr>\n",
              "    <tr>\n",
              "      <th>4</th>\n",
              "      <td>2012-05-31</td>\n",
              "      <td>8600.558398</td>\n",
              "      <td>6463.0</td>\n",
              "    </tr>\n",
              "  </tbody>\n",
              "</table>\n",
              "</div>"
            ],
            "text/plain": [
              "          ds         yhat       y\n",
              "0 2012-01-31  6631.596162  5709.0\n",
              "1 2012-02-29  5940.253892  4886.0\n",
              "2 2012-03-31  6345.987255  5934.0\n",
              "3 2012-04-30  6801.781253  6189.0\n",
              "4 2012-05-31  8600.558398  6463.0"
            ]
          },
          "metadata": {
            "tags": []
          },
          "execution_count": 25
        }
      ]
    },
    {
      "cell_type": "code",
      "metadata": {
        "id": "qnMD9aYP9VY9",
        "colab_type": "code",
        "colab": {
          "base_uri": "https://localhost:8080/",
          "height": 34
        },
        "outputId": "e9ff6a2e-ed1a-4941-a574-c7b3a7d3c09e"
      },
      "source": [
        "r2_score(metric_df.y, metric_df.yhat)"
      ],
      "execution_count": 26,
      "outputs": [
        {
          "output_type": "execute_result",
          "data": {
            "text/plain": [
              "0.7245251955944236"
            ]
          },
          "metadata": {
            "tags": []
          },
          "execution_count": 26
        }
      ]
    },
    {
      "cell_type": "code",
      "metadata": {
        "id": "9j0r-iYl9cfk",
        "colab_type": "code",
        "colab": {
          "base_uri": "https://localhost:8080/",
          "height": 34
        },
        "outputId": "4fff4063-0846-47bd-e960-39147d1cacd0"
      },
      "source": [
        "mean_squared_error(metric_df.y, metric_df.yhat)"
      ],
      "execution_count": 27,
      "outputs": [
        {
          "output_type": "execute_result",
          "data": {
            "text/plain": [
              "1723770.8276805675"
            ]
          },
          "metadata": {
            "tags": []
          },
          "execution_count": 27
        }
      ]
    },
    {
      "cell_type": "code",
      "metadata": {
        "id": "VAcQlNLA9geB",
        "colab_type": "code",
        "colab": {
          "base_uri": "https://localhost:8080/",
          "height": 34
        },
        "outputId": "5ebfafcd-f201-49bc-f0a8-d31e2be30b96"
      },
      "source": [
        "mean_absolute_error(metric_df.y, metric_df.yhat)"
      ],
      "execution_count": 32,
      "outputs": [
        {
          "output_type": "execute_result",
          "data": {
            "text/plain": [
              "1038.4489348253376"
            ]
          },
          "metadata": {
            "tags": []
          },
          "execution_count": 32
        }
      ]
    }
  ]
}